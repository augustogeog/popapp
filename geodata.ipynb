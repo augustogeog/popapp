{
 "cells": [
  {
   "cell_type": "code",
   "execution_count": 2,
   "metadata": {
    "ExecuteTime": {
     "end_time": "2021-06-03T19:50:14.598855Z",
     "start_time": "2021-06-03T19:50:14.594873Z"
    }
   },
   "outputs": [],
   "source": [
    "import geopandas as gpd\n",
    "import pandas as pd\n",
    "import plotly.express as px\n",
    "import json\n",
    "import numpy as np\n",
    "import plotly.io as pio\n",
    "pio.renderers.default = 'plotly_mimetype+notebook'\n",
    "import os\n",
    "from urllib import request\n",
    "import geodata as geo\n",
    "%config Completer.use_jedi = False\n",
    "from zipfile import ZipFile\n",
    "import app_functions as app"
   ]
  },
  {
   "cell_type": "markdown",
   "metadata": {},
   "source": [
    "## Download Sectors"
   ]
  },
  {
   "cell_type": "code",
   "execution_count": 2,
   "metadata": {},
   "outputs": [],
   "source": [
    "list_ufs = ['PE', 'GO', 'AC','AL','AM','AP','BA','CE','DF','ES','MA','MG','MS','MT','PA','PB','PI','PR','RJ','RN','RO','RR','RS','SC','SE','SP','TO']\n",
    "#list_ufs = ['GO', 'AC']"
   ]
  },
  {
   "cell_type": "code",
   "execution_count": 3,
   "metadata": {},
   "outputs": [
    {
     "name": "stdout",
     "output_type": "stream",
     "text": [
      "PE done!\n",
      "GO done!\n",
      "AC done!\n",
      "AL done!\n",
      "AM done!\n",
      "AP done!\n",
      "BA done!\n",
      "CE done!\n",
      "DF done!\n",
      "ES done!\n",
      "MA done!\n",
      "MG done!\n",
      "MS done!\n",
      "MT done!\n",
      "PA done!\n",
      "PB done!\n",
      "PI done!\n",
      "PR done!\n",
      "RJ done!\n",
      "RN done!\n",
      "RO done!\n",
      "RR done!\n",
      "RS done!\n",
      "SC done!\n",
      "SE done!\n",
      "SP done!\n",
      "TO done!\n"
     ]
    }
   ],
   "source": [
    "geo.donwload_sectors_shp_2010(ufs=list_ufs)"
   ]
  },
  {
   "cell_type": "code",
   "execution_count": 4,
   "metadata": {},
   "outputs": [
    {
     "name": "stdout",
     "output_type": "stream",
     "text": [
      "PE done!\n",
      "GO done!\n",
      "AC done!\n",
      "AL done!\n",
      "AM done!\n",
      "AP done!\n",
      "BA done!\n",
      "CE done!\n",
      "DF done!\n",
      "ES done!\n",
      "MA done!\n",
      "MG done!\n",
      "MS done!\n",
      "MT done!\n",
      "PA done!\n",
      "PB done!\n",
      "PI done!\n",
      "PR done!\n",
      "RJ done!\n",
      "RN done!\n",
      "RO done!\n",
      "RR done!\n",
      "RS done!\n",
      "SC done!\n",
      "SE done!\n",
      "SP done!\n",
      "SP done!\n",
      "TO done!\n"
     ]
    }
   ],
   "source": [
    "geo.download_sector_statistics_2010(ufs=list_ufs)"
   ]
  },
  {
   "cell_type": "code",
   "execution_count": 7,
   "metadata": {},
   "outputs": [
    {
     "name": "stderr",
     "output_type": "stream",
     "text": [
      "2021-06-29 11:21:53.845 INFO    fiona.ogrext: Failed to auto identify EPSG: 7\n",
      "2021-06-29 11:21:54.764 INFO    fiona.ogrext: Failed to auto identify EPSG: 7\n",
      "2021-06-29 11:21:59.317 INFO    fiona.ogrext: Failed to auto identify EPSG: 7\n"
     ]
    },
    {
     "name": "stdout",
     "output_type": "stream",
     "text": [
      "files saved.\n",
      "AL treatment done!\n"
     ]
    },
    {
     "name": "stderr",
     "output_type": "stream",
     "text": [
      "2021-06-29 11:22:00.878 INFO    fiona.ogrext: Failed to auto identify EPSG: 7\n",
      "2021-06-29 11:22:05.925 INFO    fiona.ogrext: Failed to auto identify EPSG: 7\n"
     ]
    },
    {
     "name": "stdout",
     "output_type": "stream",
     "text": [
      "files saved.\n",
      "AM treatment done!\n"
     ]
    },
    {
     "name": "stderr",
     "output_type": "stream",
     "text": [
      "2021-06-29 11:22:06.205 INFO    fiona.ogrext: Failed to auto identify EPSG: 7\n",
      "2021-06-29 11:22:07.110 INFO    fiona.ogrext: Failed to auto identify EPSG: 7\n"
     ]
    },
    {
     "name": "stdout",
     "output_type": "stream",
     "text": [
      "files saved.\n",
      "AP treatment done!\n"
     ]
    },
    {
     "name": "stderr",
     "output_type": "stream",
     "text": [
      "2021-06-29 11:22:12.093 INFO    fiona.ogrext: Failed to auto identify EPSG: 7\n",
      "2021-06-29 11:22:35.291 INFO    fiona.ogrext: Failed to auto identify EPSG: 7\n"
     ]
    },
    {
     "name": "stdout",
     "output_type": "stream",
     "text": [
      "files saved.\n",
      "BA treatment done!\n"
     ]
    },
    {
     "name": "stderr",
     "output_type": "stream",
     "text": [
      "2021-06-29 11:22:37.848 INFO    fiona.ogrext: Failed to auto identify EPSG: 7\n",
      "2021-06-29 11:22:47.828 INFO    fiona.ogrext: Failed to auto identify EPSG: 7\n"
     ]
    },
    {
     "name": "stdout",
     "output_type": "stream",
     "text": [
      "files saved.\n",
      "CE treatment done!\n"
     ]
    },
    {
     "name": "stderr",
     "output_type": "stream",
     "text": [
      "2021-06-29 11:22:48.755 INFO    fiona.ogrext: Failed to auto identify EPSG: 7\n"
     ]
    },
    {
     "name": "stdout",
     "output_type": "stream",
     "text": [
      "files saved.\n",
      "DF treatment done!\n"
     ]
    }
   ],
   "source": [
    "#for uf in ['TO', 'PE', 'GO', 'AC']:\n",
    "for uf in ['AL','AM','AP','BA','CE','DF']:\n",
    "    #,,'ES','MA','MG','MS','MT','PA','PB','PI','PR','RJ','RN','RO','RR','RS','SC','SE']:\n",
    "    df = geo.treat_sectors_shp(uf=uf)\n",
    "    geo.save_sectors_geodataframe(gdf=df, uf=uf)\n",
    "    print(f'{uf} treatment done!')"
   ]
  },
  {
   "cell_type": "code",
   "execution_count": 8,
   "metadata": {},
   "outputs": [
    {
     "name": "stderr",
     "output_type": "stream",
     "text": [
      "2021-06-29 11:28:31.351 INFO    fiona.ogrext: Failed to auto identify EPSG: 7\n",
      "2021-06-29 11:28:32.857 INFO    fiona.ogrext: Failed to auto identify EPSG: 7\n",
      "2021-06-29 11:28:37.924 INFO    fiona.ogrext: Failed to auto identify EPSG: 7\n"
     ]
    },
    {
     "name": "stdout",
     "output_type": "stream",
     "text": [
      "files saved.\n",
      "ES treatment done!\n"
     ]
    },
    {
     "name": "stderr",
     "output_type": "stream",
     "text": [
      "2021-06-29 11:28:39.771 INFO    fiona.ogrext: Failed to auto identify EPSG: 7\n",
      "2021-06-29 11:28:49.338 INFO    fiona.ogrext: Failed to auto identify EPSG: 7\n"
     ]
    },
    {
     "name": "stdout",
     "output_type": "stream",
     "text": [
      "files saved.\n",
      "MA treatment done!\n"
     ]
    },
    {
     "name": "stderr",
     "output_type": "stream",
     "text": [
      "2021-06-29 11:28:57.941 INFO    fiona.ogrext: Failed to auto identify EPSG: 7\n",
      "2021-06-29 11:29:46.144 INFO    fiona.ogrext: Failed to auto identify EPSG: 7\n"
     ]
    },
    {
     "name": "stdout",
     "output_type": "stream",
     "text": [
      "files saved.\n",
      "MG treatment done!\n"
     ]
    },
    {
     "name": "stderr",
     "output_type": "stream",
     "text": [
      "2021-06-29 11:29:47.182 INFO    fiona.ogrext: Failed to auto identify EPSG: 7\n",
      "2021-06-29 11:29:51.503 INFO    fiona.ogrext: Failed to auto identify EPSG: 7\n"
     ]
    },
    {
     "name": "stdout",
     "output_type": "stream",
     "text": [
      "files saved.\n",
      "MS treatment done!\n"
     ]
    },
    {
     "name": "stderr",
     "output_type": "stream",
     "text": [
      "2021-06-29 11:29:53.289 INFO    fiona.ogrext: Failed to auto identify EPSG: 7\n",
      "2021-06-29 11:30:00.652 INFO    fiona.ogrext: Failed to auto identify EPSG: 7\n"
     ]
    },
    {
     "name": "stdout",
     "output_type": "stream",
     "text": [
      "files saved.\n",
      "MT treatment done!\n"
     ]
    },
    {
     "name": "stderr",
     "output_type": "stream",
     "text": [
      "2021-06-29 11:30:02.613 INFO    fiona.ogrext: Failed to auto identify EPSG: 7\n",
      "2021-06-29 11:30:11.029 INFO    fiona.ogrext: Failed to auto identify EPSG: 7\n"
     ]
    },
    {
     "name": "stdout",
     "output_type": "stream",
     "text": [
      "files saved.\n",
      "PA treatment done!\n"
     ]
    },
    {
     "name": "stderr",
     "output_type": "stream",
     "text": [
      "2021-06-29 11:30:12.262 INFO    fiona.ogrext: Failed to auto identify EPSG: 7\n"
     ]
    },
    {
     "name": "stdout",
     "output_type": "stream",
     "text": [
      "files saved.\n",
      "PB treatment done!\n"
     ]
    }
   ],
   "source": [
    "for uf in ['ES','MA','MS','MT','PA','PB']:\n",
    "#    ,'PI','PR','RJ','RN','RO','RR','RS','SC','SE']:\n",
    "    df = geo.treat_sectors_shp(uf=uf)\n",
    "    geo.save_sectors_geodataframe(gdf=df, uf=uf)\n",
    "    print(f'{uf} treatment done!')"
   ]
  },
  {
   "cell_type": "code",
   "execution_count": 9,
   "metadata": {},
   "outputs": [
    {
     "name": "stderr",
     "output_type": "stream",
     "text": [
      "2021-06-29 11:40:03.931 INFO    fiona.ogrext: Failed to auto identify EPSG: 7\n",
      "2021-06-29 11:40:13.825 INFO    fiona.ogrext: Failed to auto identify EPSG: 7\n"
     ]
    },
    {
     "name": "stdout",
     "output_type": "stream",
     "text": [
      "files saved.\n",
      "MG treatment done!\n"
     ]
    }
   ],
   "source": [
    "for uf in ['MG']:\n",
    "#    ,'PI','PR','RJ','RN','RO','RR','RS','SC','SE']:\n",
    "    df = geo.treat_sectors_shp(uf=uf)\n",
    "    geo.save_sectors_geodataframe(gdf=df, uf=uf)\n",
    "    print(f'{uf} treatment done!')"
   ]
  },
  {
   "cell_type": "code",
   "execution_count": 10,
   "metadata": {},
   "outputs": [
    {
     "name": "stderr",
     "output_type": "stream",
     "text": [
      "2021-06-29 11:45:00.210 INFO    fiona.ogrext: Failed to auto identify EPSG: 7\n",
      "2021-06-29 11:45:01.577 INFO    fiona.ogrext: Failed to auto identify EPSG: 7\n",
      "2021-06-29 11:45:10.829 INFO    fiona.ogrext: Failed to auto identify EPSG: 7\n"
     ]
    },
    {
     "name": "stdout",
     "output_type": "stream",
     "text": [
      "files saved.\n",
      "PI treatment done!\n"
     ]
    },
    {
     "name": "stderr",
     "output_type": "stream",
     "text": [
      "2021-06-29 11:45:14.330 INFO    fiona.ogrext: Failed to auto identify EPSG: 7\n",
      "2021-06-29 11:45:33.648 INFO    fiona.ogrext: Failed to auto identify EPSG: 7\n"
     ]
    },
    {
     "name": "stdout",
     "output_type": "stream",
     "text": [
      "files saved.\n",
      "PR treatment done!\n"
     ]
    },
    {
     "name": "stderr",
     "output_type": "stream",
     "text": [
      "2021-06-29 11:45:38.928 INFO    fiona.ogrext: Failed to auto identify EPSG: 7\n",
      "2021-06-29 11:45:52.457 INFO    fiona.ogrext: Failed to auto identify EPSG: 7\n"
     ]
    },
    {
     "name": "stdout",
     "output_type": "stream",
     "text": [
      "files saved.\n",
      "RJ treatment done!\n"
     ]
    },
    {
     "name": "stderr",
     "output_type": "stream",
     "text": [
      "2021-06-29 11:45:53.401 INFO    fiona.ogrext: Failed to auto identify EPSG: 7\n",
      "2021-06-29 11:45:59.559 INFO    fiona.ogrext: Failed to auto identify EPSG: 7\n"
     ]
    },
    {
     "name": "stdout",
     "output_type": "stream",
     "text": [
      "files saved.\n",
      "RN treatment done!\n"
     ]
    },
    {
     "name": "stderr",
     "output_type": "stream",
     "text": [
      "2021-06-29 11:46:00.209 INFO    fiona.ogrext: Failed to auto identify EPSG: 7\n",
      "2021-06-29 11:46:03.329 INFO    fiona.ogrext: Failed to auto identify EPSG: 7\n"
     ]
    },
    {
     "name": "stdout",
     "output_type": "stream",
     "text": [
      "files saved.\n",
      "RO treatment done!\n"
     ]
    },
    {
     "name": "stderr",
     "output_type": "stream",
     "text": [
      "2021-06-29 11:46:03.773 INFO    fiona.ogrext: Failed to auto identify EPSG: 7\n",
      "2021-06-29 11:46:05.331 INFO    fiona.ogrext: Failed to auto identify EPSG: 7\n"
     ]
    },
    {
     "name": "stdout",
     "output_type": "stream",
     "text": [
      "files saved.\n",
      "RR treatment done!\n"
     ]
    },
    {
     "name": "stderr",
     "output_type": "stream",
     "text": [
      "2021-06-29 11:46:08.120 INFO    fiona.ogrext: Failed to auto identify EPSG: 7\n",
      "2021-06-29 11:46:22.712 INFO    fiona.ogrext: Failed to auto identify EPSG: 7\n"
     ]
    },
    {
     "name": "stdout",
     "output_type": "stream",
     "text": [
      "files saved.\n",
      "SC treatment done!\n"
     ]
    },
    {
     "name": "stderr",
     "output_type": "stream",
     "text": [
      "2021-06-29 11:46:23.478 INFO    fiona.ogrext: Failed to auto identify EPSG: 7\n"
     ]
    },
    {
     "name": "stdout",
     "output_type": "stream",
     "text": [
      "files saved.\n",
      "SE treatment done!\n"
     ]
    }
   ],
   "source": [
    "for uf in ['PI','PR','RN','RO','RR','SC','SE']:\n",
    "#    ,'PI','PR','RJ','RN','RO','RR','RS','SC','SE']:\n",
    "    df = geo.treat_sectors_shp(uf=uf)\n",
    "    geo.save_sectors_geodataframe(gdf=df, uf=uf)\n",
    "    print(f'{uf} treatment done!')"
   ]
  },
  {
   "cell_type": "code",
   "execution_count": 11,
   "metadata": {},
   "outputs": [
    {
     "name": "stderr",
     "output_type": "stream",
     "text": [
      "2021-06-29 11:54:36.921 INFO    fiona.ogrext: Failed to auto identify EPSG: 7\n",
      "2021-06-29 11:54:42.202 INFO    fiona.ogrext: Failed to auto identify EPSG: 7\n"
     ]
    },
    {
     "name": "stdout",
     "output_type": "stream",
     "text": [
      "files saved.\n",
      "RJ treatment done!\n"
     ]
    }
   ],
   "source": [
    "for uf in ['RJ']:\n",
    "#    ,'PI','PR','RJ','RN','RO','RR','RS','SC','SE']:\n",
    "    df = geo.treat_sectors_shp(uf=uf)\n",
    "    geo.save_sectors_geodataframe(gdf=df, uf=uf)\n",
    "    print(f'{uf} treatment done!')"
   ]
  },
  {
   "cell_type": "code",
   "execution_count": 12,
   "metadata": {},
   "outputs": [
    {
     "name": "stderr",
     "output_type": "stream",
     "text": [
      "2021-06-29 11:55:18.942 INFO    fiona.ogrext: Failed to auto identify EPSG: 7\n",
      "2021-06-29 11:55:23.585 INFO    fiona.ogrext: Failed to auto identify EPSG: 7\n"
     ]
    },
    {
     "name": "stdout",
     "output_type": "stream",
     "text": [
      "files saved.\n",
      "RS treatment done!\n"
     ]
    }
   ],
   "source": [
    "for uf in ['RS']:\n",
    "#    ,'PI','PR','RJ','RN','RO','RR','RS','SC','SE']:\n",
    "    df = geo.treat_sectors_shp(uf=uf)\n",
    "    geo.save_sectors_geodataframe(gdf=df, uf=uf)\n",
    "    print(f'{uf} treatment done!')"
   ]
  },
  {
   "cell_type": "code",
   "execution_count": 3,
   "metadata": {},
   "outputs": [
    {
     "name": "stdout",
     "output_type": "stream",
     "text": [
      "files saved.\n",
      "SP treatment done!\n"
     ]
    }
   ],
   "source": [
    "for uf in ['SP']:\n",
    "#    ,'PI','PR','RJ','RN','RO','RR','RS','SC','SE']:\n",
    "    df = geo.treat_sectors_shp(uf=uf)\n",
    "    geo.save_sectors_geodataframe(gdf=df, uf=uf)\n",
    "    print(f'{uf} treatment done!')"
   ]
  },
  {
   "cell_type": "code",
   "execution_count": 39,
   "metadata": {},
   "outputs": [],
   "source": [
    "def treat_sectors_shp(uf):\n",
    "    \n",
    "    dict_ufs = {\n",
    "        'RO':'11',\n",
    "        'AC':'12',\n",
    "        'AM':'13',\n",
    "        'RR':'14',\n",
    "        'PA':'15',\n",
    "        'AP':'16',\n",
    "        'TO':'17',\n",
    "        'MA':'21',\n",
    "        'PI':'22',\n",
    "        'CE':'23',\n",
    "        'RN':'24',\n",
    "        'PB':'25',\n",
    "        'PE':'26',\n",
    "        'AL':'27',\n",
    "        'SE':'28',\n",
    "        'BA':'29',\n",
    "        'MG':'31',\n",
    "        'ES':'32',\n",
    "        'RJ':'33',\n",
    "        'SP':'35',\n",
    "        'PR':'41',\n",
    "        'SC':'42',\n",
    "        'RS':'43',\n",
    "        'MS':'50',\n",
    "        'MT':'51',\n",
    "        'GO':'52',\n",
    "        'DF':'53'\n",
    "    }\n",
    "    \n",
    "    gdf = gpd.read_file(f'data/territorio/setores2010/{uf}/{dict_ufs[uf]}SEE250GC_SIR.shp')\n",
    "\n",
    "    gdf = gdf.to_crs(\"EPSG:5880\")\n",
    "\n",
    "    gdf.rename(columns={'CD_GEOCODI':'Cod'}, inplace=True)\n",
    "\n",
    "    gdf.drop(labels=['ID', 'CD_GEOCODS', 'NM_SUBDIST', 'CD_GEOCODD', 'NM_DISTRIT', 'NM_MICRO', 'NM_MESO'], axis=1, inplace=True)\n",
    "\n",
    "    if uf.upper() == 'PE':\n",
    "        df_pb_pop = pd.read_csv(f'data/pop/setores/PE/PE_20171016/PE/Base informaçoes setores2010 universo {uf.upper()}/CSV/Basico_{uf.upper()}.csv', sep=';', usecols=['Cod_setor', 'V002'],encoding='ANSI')\n",
    "    elif uf.upper() == 'ES':\n",
    "        df_pb_pop = pd.read_csv(f'data/pop/setores/ES/Base informaçoes setores2010 universo {uf.upper()}/CSV/Basico_{uf.upper()}.csv', sep=';', usecols=['Cod_setor', 'V002'],encoding='ANSI')\n",
    "    elif uf.upper() == 'TO':\n",
    "        df_pb_pop = pd.read_csv(f'data/pop/setores/TO/Base informacoes setores2010 universo TO/CSV/Basico_{uf.upper()}.csv', sep=';', usecols=['Cod_setor', 'V002'],encoding='ANSI')\n",
    "    elif uf.upper() == 'RS':\n",
    "        df_pb_pop = pd.read_csv(f'data/pop/setores/RS/RS_20150527/RS/Base informaçoes setores2010 universo {uf.upper()}/CSV/Basico_{uf.upper()}.csv', sep=';', usecols=['Cod_setor', 'V002'],encoding='ANSI')\n",
    "    elif uf.upper() == 'SP':        \n",
    "        df_pb_pop = pd.read_csv(f'data/pop/setores/SP/Base informaçoes setores2010 universo SP_Capital/CSV/Basico_SP1.csv', sep=';', usecols=['Cod_setor', 'V002'],encoding='ANSI')\n",
    "        df_pb_po2 = pd.read_csv(f'data/pop/setores/SP/SP Exceto a Capital/Base informaçoes setores2010 universo SP_Exceto_Capital/CSV/Basico_SP2.csv', sep=';', usecols=['Cod_setor', 'V002'],encoding='utf-8')\n",
    "        df_pb_pop = pd.concat(objs=[df_pb_pop, df_pb_po2])\n",
    "    else:\n",
    "        df_pb_pop = pd.read_csv(f'data/pop/setores/{uf.upper()}/{uf.upper()}/Base informaçoes setores2010 universo {uf.upper()}/CSV/Basico_{uf.upper()}.csv', sep=';', usecols=['Cod_setor', 'V002'],encoding='ANSI')\n",
    "\n",
    "    df_pb_pop.columns = ['Cod', 'Pop']\n",
    "\n",
    "    df_pb_pop['Cod'] = df_pb_pop.Cod.astype(np.int64)\n",
    "\n",
    "    df_pb_pop['Pop'].fillna(value=0, inplace=True)\n",
    "\n",
    "    df_pb_pop['Pop'] = df_pb_pop['Pop'].astype(np.int64)\n",
    "\n",
    "    gdf['Cod'] = gdf.Cod.astype(np.int64)\n",
    "\n",
    "    gdf = gdf.merge(df_pb_pop, on='Cod', how='left')\n",
    "\n",
    "    gdf['Pop'].fillna(value=0, inplace=True)\n",
    "\n",
    "    gdf['Pop'] = gdf['Pop'].astype(np.int64)\n",
    "\n",
    "    gdf['Area'] = gdf.area / 10000\n",
    "\n",
    "    gdf['Pop/ha'] = gdf['Pop'] / gdf['Area']\n",
    "\n",
    "    gdf1 = gpd.read_file(f'data/territorio/setores2010/{uf}/{dict_ufs[uf]}SEE250GC_SIR.shp')\n",
    "\n",
    "    gdf1.drop(labels=['ID', 'CD_GEOCODS', 'NM_SUBDIST', 'CD_GEOCODD', 'NM_DISTRIT', 'NM_MICRO', 'NM_MESO'], axis=1, inplace=True)\n",
    "\n",
    "    gdf1.rename(columns={'CD_GEOCODI':'Cod'}, inplace=True)\n",
    "\n",
    "    gdf1['Cod'] = gdf1['Cod'].astype(np.int64)\n",
    "\n",
    "    gdf1 = gdf1.merge(right=gdf[['Cod', 'Pop', 'Area', 'Pop/ha']], on='Cod', how='left')            \n",
    "    \n",
    "    return gdf1"
   ]
  },
  {
   "cell_type": "code",
   "execution_count": 19,
   "metadata": {},
   "outputs": [],
   "source": [
    "df_pb_pop = pd.read_csv(f'data/pop/setores/SP/Base informaçoes setores2010 universo SP_Capital/CSV/Basico_SP1.csv', sep=';', usecols=['Cod_setor', 'V002'],encoding='ANSI')"
   ]
  },
  {
   "cell_type": "code",
   "execution_count": 33,
   "metadata": {},
   "outputs": [],
   "source": []
  },
  {
   "cell_type": "code",
   "execution_count": 34,
   "metadata": {},
   "outputs": [
    {
     "data": {
      "text/html": [
       "<div>\n",
       "<style scoped>\n",
       "    .dataframe tbody tr th:only-of-type {\n",
       "        vertical-align: middle;\n",
       "    }\n",
       "\n",
       "    .dataframe tbody tr th {\n",
       "        vertical-align: top;\n",
       "    }\n",
       "\n",
       "    .dataframe thead th {\n",
       "        text-align: right;\n",
       "    }\n",
       "</style>\n",
       "<table border=\"1\" class=\"dataframe\">\n",
       "  <thead>\n",
       "    <tr style=\"text-align: right;\">\n",
       "      <th></th>\n",
       "      <th>Cod_setor</th>\n",
       "      <th>V002</th>\n",
       "    </tr>\n",
       "  </thead>\n",
       "  <tbody>\n",
       "    <tr>\n",
       "      <th>0</th>\n",
       "      <td>350010505000001</td>\n",
       "      <td>304.00</td>\n",
       "    </tr>\n",
       "    <tr>\n",
       "      <th>1</th>\n",
       "      <td>350010505000002</td>\n",
       "      <td>785.00</td>\n",
       "    </tr>\n",
       "    <tr>\n",
       "      <th>2</th>\n",
       "      <td>350010505000003</td>\n",
       "      <td>519.00</td>\n",
       "    </tr>\n",
       "    <tr>\n",
       "      <th>3</th>\n",
       "      <td>350010505000004</td>\n",
       "      <td>788.00</td>\n",
       "    </tr>\n",
       "    <tr>\n",
       "      <th>4</th>\n",
       "      <td>350010505000005</td>\n",
       "      <td>813.00</td>\n",
       "    </tr>\n",
       "    <tr>\n",
       "      <th>...</th>\n",
       "      <td>...</td>\n",
       "      <td>...</td>\n",
       "    </tr>\n",
       "    <tr>\n",
       "      <th>47728</th>\n",
       "      <td>355730305000008</td>\n",
       "      <td>815.00</td>\n",
       "    </tr>\n",
       "    <tr>\n",
       "      <th>47729</th>\n",
       "      <td>355730305000009</td>\n",
       "      <td>55.00</td>\n",
       "    </tr>\n",
       "    <tr>\n",
       "      <th>47730</th>\n",
       "      <td>355730305000010</td>\n",
       "      <td>103.00</td>\n",
       "    </tr>\n",
       "    <tr>\n",
       "      <th>47731</th>\n",
       "      <td>355730305000011</td>\n",
       "      <td>988.00</td>\n",
       "    </tr>\n",
       "    <tr>\n",
       "      <th>47732</th>\n",
       "      <td>355730305000012</td>\n",
       "      <td>1,019.00</td>\n",
       "    </tr>\n",
       "  </tbody>\n",
       "</table>\n",
       "<p>47733 rows × 2 columns</p>\n",
       "</div>"
      ],
      "text/plain": [
       "             Cod_setor     V002\n",
       "0      350010505000001   304.00\n",
       "1      350010505000002   785.00\n",
       "2      350010505000003   519.00\n",
       "3      350010505000004   788.00\n",
       "4      350010505000005   813.00\n",
       "...                ...      ...\n",
       "47728  355730305000008   815.00\n",
       "47729  355730305000009    55.00\n",
       "47730  355730305000010   103.00\n",
       "47731  355730305000011   988.00\n",
       "47732  355730305000012 1,019.00\n",
       "\n",
       "[47733 rows x 2 columns]"
      ]
     },
     "execution_count": 34,
     "metadata": {},
     "output_type": "execute_result"
    }
   ],
   "source": [
    "df_pb_po2"
   ]
  },
  {
   "cell_type": "code",
   "execution_count": 40,
   "metadata": {},
   "outputs": [],
   "source": [
    "teste = treat_sectors_shp(uf='SP')"
   ]
  },
  {
   "cell_type": "code",
   "execution_count": 41,
   "metadata": {},
   "outputs": [
    {
     "data": {
      "text/html": [
       "<div>\n",
       "<style scoped>\n",
       "    .dataframe tbody tr th:only-of-type {\n",
       "        vertical-align: middle;\n",
       "    }\n",
       "\n",
       "    .dataframe tbody tr th {\n",
       "        vertical-align: top;\n",
       "    }\n",
       "\n",
       "    .dataframe thead th {\n",
       "        text-align: right;\n",
       "    }\n",
       "</style>\n",
       "<table border=\"1\" class=\"dataframe\">\n",
       "  <thead>\n",
       "    <tr style=\"text-align: right;\">\n",
       "      <th></th>\n",
       "      <th>Cod</th>\n",
       "      <th>TIPO</th>\n",
       "      <th>CD_GEOCODM</th>\n",
       "      <th>NM_MUNICIP</th>\n",
       "      <th>CD_GEOCODB</th>\n",
       "      <th>NM_BAIRRO</th>\n",
       "      <th>ID1</th>\n",
       "      <th>geometry</th>\n",
       "      <th>Pop</th>\n",
       "      <th>Area</th>\n",
       "      <th>Pop/ha</th>\n",
       "    </tr>\n",
       "  </thead>\n",
       "  <tbody>\n",
       "    <tr>\n",
       "      <th>0</th>\n",
       "      <td>354100005000009</td>\n",
       "      <td>URBANO</td>\n",
       "      <td>3541000</td>\n",
       "      <td>PRAIA GRANDE</td>\n",
       "      <td>354100005001</td>\n",
       "      <td>Boqueirão</td>\n",
       "      <td>1</td>\n",
       "      <td>POLYGON ((-46.41024 -24.01103, -46.41169 -24.0...</td>\n",
       "      <td>239</td>\n",
       "      <td>2.40</td>\n",
       "      <td>99.54</td>\n",
       "    </tr>\n",
       "    <tr>\n",
       "      <th>1</th>\n",
       "      <td>354100005000004</td>\n",
       "      <td>URBANO</td>\n",
       "      <td>3541000</td>\n",
       "      <td>PRAIA GRANDE</td>\n",
       "      <td>354100005001</td>\n",
       "      <td>Boqueirão</td>\n",
       "      <td>2</td>\n",
       "      <td>POLYGON ((-46.41606 -24.00245, -46.41598 -24.0...</td>\n",
       "      <td>470</td>\n",
       "      <td>10.21</td>\n",
       "      <td>46.02</td>\n",
       "    </tr>\n",
       "    <tr>\n",
       "      <th>2</th>\n",
       "      <td>354100005000002</td>\n",
       "      <td>URBANO</td>\n",
       "      <td>3541000</td>\n",
       "      <td>PRAIA GRANDE</td>\n",
       "      <td>354100005001</td>\n",
       "      <td>Boqueirão</td>\n",
       "      <td>3</td>\n",
       "      <td>POLYGON ((-46.41213 -24.00792, -46.41244 -24.0...</td>\n",
       "      <td>79</td>\n",
       "      <td>3.09</td>\n",
       "      <td>25.56</td>\n",
       "    </tr>\n",
       "    <tr>\n",
       "      <th>3</th>\n",
       "      <td>354100005000001</td>\n",
       "      <td>URBANO</td>\n",
       "      <td>3541000</td>\n",
       "      <td>PRAIA GRANDE</td>\n",
       "      <td>354100005001</td>\n",
       "      <td>Boqueirão</td>\n",
       "      <td>4</td>\n",
       "      <td>POLYGON ((-46.41134 -24.00552, -46.41196 -24.0...</td>\n",
       "      <td>294</td>\n",
       "      <td>8.50</td>\n",
       "      <td>34.57</td>\n",
       "    </tr>\n",
       "    <tr>\n",
       "      <th>4</th>\n",
       "      <td>354100005000003</td>\n",
       "      <td>URBANO</td>\n",
       "      <td>3541000</td>\n",
       "      <td>PRAIA GRANDE</td>\n",
       "      <td>354100005001</td>\n",
       "      <td>Boqueirão</td>\n",
       "      <td>5</td>\n",
       "      <td>POLYGON ((-46.41326 -24.00514, -46.41484 -24.0...</td>\n",
       "      <td>368</td>\n",
       "      <td>4.93</td>\n",
       "      <td>74.57</td>\n",
       "    </tr>\n",
       "    <tr>\n",
       "      <th>...</th>\n",
       "      <td>...</td>\n",
       "      <td>...</td>\n",
       "      <td>...</td>\n",
       "      <td>...</td>\n",
       "      <td>...</td>\n",
       "      <td>...</td>\n",
       "      <td>...</td>\n",
       "      <td>...</td>\n",
       "      <td>...</td>\n",
       "      <td>...</td>\n",
       "      <td>...</td>\n",
       "    </tr>\n",
       "    <tr>\n",
       "      <th>68291</th>\n",
       "      <td>355730305000008</td>\n",
       "      <td>URBANO</td>\n",
       "      <td>3557303</td>\n",
       "      <td>ESTIVA GERBI</td>\n",
       "      <td>None</td>\n",
       "      <td>None</td>\n",
       "      <td>68292</td>\n",
       "      <td>POLYGON ((-46.95301 -22.28885, -46.95401 -22.2...</td>\n",
       "      <td>815</td>\n",
       "      <td>60.89</td>\n",
       "      <td>13.38</td>\n",
       "    </tr>\n",
       "    <tr>\n",
       "      <th>68292</th>\n",
       "      <td>355730305000009</td>\n",
       "      <td>URBANO</td>\n",
       "      <td>3557303</td>\n",
       "      <td>ESTIVA GERBI</td>\n",
       "      <td>None</td>\n",
       "      <td>None</td>\n",
       "      <td>68293</td>\n",
       "      <td>POLYGON ((-46.97846 -22.22911, -46.97545 -22.2...</td>\n",
       "      <td>55</td>\n",
       "      <td>247.28</td>\n",
       "      <td>0.22</td>\n",
       "    </tr>\n",
       "    <tr>\n",
       "      <th>68293</th>\n",
       "      <td>355730305000010</td>\n",
       "      <td>URBANO</td>\n",
       "      <td>3557303</td>\n",
       "      <td>ESTIVA GERBI</td>\n",
       "      <td>None</td>\n",
       "      <td>None</td>\n",
       "      <td>68294</td>\n",
       "      <td>POLYGON ((-46.97514 -22.26519, -46.97416 -22.2...</td>\n",
       "      <td>103</td>\n",
       "      <td>97.17</td>\n",
       "      <td>1.06</td>\n",
       "    </tr>\n",
       "    <tr>\n",
       "      <th>68294</th>\n",
       "      <td>355730305000011</td>\n",
       "      <td>RURAL</td>\n",
       "      <td>3557303</td>\n",
       "      <td>ESTIVA GERBI</td>\n",
       "      <td>None</td>\n",
       "      <td>None</td>\n",
       "      <td>68295</td>\n",
       "      <td>POLYGON ((-46.94954 -22.26701, -46.94888 -22.2...</td>\n",
       "      <td>988</td>\n",
       "      <td>17.97</td>\n",
       "      <td>54.97</td>\n",
       "    </tr>\n",
       "    <tr>\n",
       "      <th>68295</th>\n",
       "      <td>355730305000012</td>\n",
       "      <td>RURAL</td>\n",
       "      <td>3557303</td>\n",
       "      <td>ESTIVA GERBI</td>\n",
       "      <td>None</td>\n",
       "      <td>None</td>\n",
       "      <td>68296</td>\n",
       "      <td>POLYGON ((-46.98372 -22.19993, -46.98230 -22.1...</td>\n",
       "      <td>1019</td>\n",
       "      <td>6,668.36</td>\n",
       "      <td>0.15</td>\n",
       "    </tr>\n",
       "  </tbody>\n",
       "</table>\n",
       "<p>68296 rows × 11 columns</p>\n",
       "</div>"
      ],
      "text/plain": [
       "                   Cod    TIPO CD_GEOCODM    NM_MUNICIP    CD_GEOCODB  \\\n",
       "0      354100005000009  URBANO    3541000  PRAIA GRANDE  354100005001   \n",
       "1      354100005000004  URBANO    3541000  PRAIA GRANDE  354100005001   \n",
       "2      354100005000002  URBANO    3541000  PRAIA GRANDE  354100005001   \n",
       "3      354100005000001  URBANO    3541000  PRAIA GRANDE  354100005001   \n",
       "4      354100005000003  URBANO    3541000  PRAIA GRANDE  354100005001   \n",
       "...                ...     ...        ...           ...           ...   \n",
       "68291  355730305000008  URBANO    3557303  ESTIVA GERBI          None   \n",
       "68292  355730305000009  URBANO    3557303  ESTIVA GERBI          None   \n",
       "68293  355730305000010  URBANO    3557303  ESTIVA GERBI          None   \n",
       "68294  355730305000011   RURAL    3557303  ESTIVA GERBI          None   \n",
       "68295  355730305000012   RURAL    3557303  ESTIVA GERBI          None   \n",
       "\n",
       "       NM_BAIRRO    ID1                                           geometry  \\\n",
       "0      Boqueirão      1  POLYGON ((-46.41024 -24.01103, -46.41169 -24.0...   \n",
       "1      Boqueirão      2  POLYGON ((-46.41606 -24.00245, -46.41598 -24.0...   \n",
       "2      Boqueirão      3  POLYGON ((-46.41213 -24.00792, -46.41244 -24.0...   \n",
       "3      Boqueirão      4  POLYGON ((-46.41134 -24.00552, -46.41196 -24.0...   \n",
       "4      Boqueirão      5  POLYGON ((-46.41326 -24.00514, -46.41484 -24.0...   \n",
       "...          ...    ...                                                ...   \n",
       "68291       None  68292  POLYGON ((-46.95301 -22.28885, -46.95401 -22.2...   \n",
       "68292       None  68293  POLYGON ((-46.97846 -22.22911, -46.97545 -22.2...   \n",
       "68293       None  68294  POLYGON ((-46.97514 -22.26519, -46.97416 -22.2...   \n",
       "68294       None  68295  POLYGON ((-46.94954 -22.26701, -46.94888 -22.2...   \n",
       "68295       None  68296  POLYGON ((-46.98372 -22.19993, -46.98230 -22.1...   \n",
       "\n",
       "        Pop     Area  Pop/ha  \n",
       "0       239     2.40   99.54  \n",
       "1       470    10.21   46.02  \n",
       "2        79     3.09   25.56  \n",
       "3       294     8.50   34.57  \n",
       "4       368     4.93   74.57  \n",
       "...     ...      ...     ...  \n",
       "68291   815    60.89   13.38  \n",
       "68292    55   247.28    0.22  \n",
       "68293   103    97.17    1.06  \n",
       "68294   988    17.97   54.97  \n",
       "68295  1019 6,668.36    0.15  \n",
       "\n",
       "[68296 rows x 11 columns]"
      ]
     },
     "execution_count": 41,
     "metadata": {},
     "output_type": "execute_result"
    }
   ],
   "source": [
    "teste"
   ]
  },
  {
   "cell_type": "code",
   "execution_count": 38,
   "metadata": {},
   "outputs": [
    {
     "data": {
      "text/html": [
       "<div>\n",
       "<style scoped>\n",
       "    .dataframe tbody tr th:only-of-type {\n",
       "        vertical-align: middle;\n",
       "    }\n",
       "\n",
       "    .dataframe tbody tr th {\n",
       "        vertical-align: top;\n",
       "    }\n",
       "\n",
       "    .dataframe thead th {\n",
       "        text-align: right;\n",
       "    }\n",
       "</style>\n",
       "<table border=\"1\" class=\"dataframe\">\n",
       "  <thead>\n",
       "    <tr style=\"text-align: right;\">\n",
       "      <th></th>\n",
       "      <th>Cod_setor</th>\n",
       "      <th>V002</th>\n",
       "    </tr>\n",
       "  </thead>\n",
       "  <tbody>\n",
       "    <tr>\n",
       "      <th>0</th>\n",
       "      <td>355030801000001</td>\n",
       "      <td>800.00</td>\n",
       "    </tr>\n",
       "    <tr>\n",
       "      <th>1</th>\n",
       "      <td>355030801000002</td>\n",
       "      <td>913.00</td>\n",
       "    </tr>\n",
       "    <tr>\n",
       "      <th>2</th>\n",
       "      <td>355030801000003</td>\n",
       "      <td>625.00</td>\n",
       "    </tr>\n",
       "    <tr>\n",
       "      <th>3</th>\n",
       "      <td>355030801000004</td>\n",
       "      <td>572.00</td>\n",
       "    </tr>\n",
       "    <tr>\n",
       "      <th>4</th>\n",
       "      <td>355030801000005</td>\n",
       "      <td>754.00</td>\n",
       "    </tr>\n",
       "    <tr>\n",
       "      <th>...</th>\n",
       "      <td>...</td>\n",
       "      <td>...</td>\n",
       "    </tr>\n",
       "    <tr>\n",
       "      <th>47728</th>\n",
       "      <td>355730305000008</td>\n",
       "      <td>815.00</td>\n",
       "    </tr>\n",
       "    <tr>\n",
       "      <th>47729</th>\n",
       "      <td>355730305000009</td>\n",
       "      <td>55.00</td>\n",
       "    </tr>\n",
       "    <tr>\n",
       "      <th>47730</th>\n",
       "      <td>355730305000010</td>\n",
       "      <td>103.00</td>\n",
       "    </tr>\n",
       "    <tr>\n",
       "      <th>47731</th>\n",
       "      <td>355730305000011</td>\n",
       "      <td>988.00</td>\n",
       "    </tr>\n",
       "    <tr>\n",
       "      <th>47732</th>\n",
       "      <td>355730305000012</td>\n",
       "      <td>1,019.00</td>\n",
       "    </tr>\n",
       "  </tbody>\n",
       "</table>\n",
       "<p>66096 rows × 2 columns</p>\n",
       "</div>"
      ],
      "text/plain": [
       "             Cod_setor     V002\n",
       "0      355030801000001   800.00\n",
       "1      355030801000002   913.00\n",
       "2      355030801000003   625.00\n",
       "3      355030801000004   572.00\n",
       "4      355030801000005   754.00\n",
       "...                ...      ...\n",
       "47728  355730305000008   815.00\n",
       "47729  355730305000009    55.00\n",
       "47730  355730305000010   103.00\n",
       "47731  355730305000011   988.00\n",
       "47732  355730305000012 1,019.00\n",
       "\n",
       "[66096 rows x 2 columns]"
      ]
     },
     "execution_count": 38,
     "metadata": {},
     "output_type": "execute_result"
    }
   ],
   "source": [
    "pd.concat(objs=[df_pb_pop, df_pb_po2])"
   ]
  },
  {
   "cell_type": "code",
   "execution_count": 13,
   "metadata": {},
   "outputs": [],
   "source": []
  },
  {
   "cell_type": "code",
   "execution_count": 14,
   "metadata": {},
   "outputs": [
    {
     "ename": "FileNotFoundError",
     "evalue": "[Errno 2] No such file or directory: 'data/pop/setores/SP/SP/Base informaçoes setores2010 universo SP/CSV/Basico_SP.csv'",
     "output_type": "error",
     "traceback": [
      "\u001b[1;31m---------------------------------------------------------------------------\u001b[0m",
      "\u001b[1;31mFileNotFoundError\u001b[0m                         Traceback (most recent call last)",
      "\u001b[1;32m<ipython-input-14-5b21f2d03ce1>\u001b[0m in \u001b[0;36m<module>\u001b[1;34m\u001b[0m\n\u001b[1;32m----> 1\u001b[1;33m \u001b[0mtreat_sectors_shp\u001b[0m\u001b[1;33m(\u001b[0m\u001b[0muf\u001b[0m\u001b[1;33m=\u001b[0m\u001b[1;34m'SP'\u001b[0m\u001b[1;33m)\u001b[0m\u001b[1;33m\u001b[0m\u001b[1;33m\u001b[0m\u001b[0m\n\u001b[0m",
      "\u001b[1;32m<ipython-input-13-5803a4615069>\u001b[0m in \u001b[0;36mtreat_sectors_shp\u001b[1;34m(uf)\u001b[0m\n\u001b[0;32m     48\u001b[0m         \u001b[0mdf_pb_pop\u001b[0m \u001b[1;33m=\u001b[0m \u001b[0mpd\u001b[0m\u001b[1;33m.\u001b[0m\u001b[0mread_csv\u001b[0m\u001b[1;33m(\u001b[0m\u001b[1;34mf'data/pop/setores/RS/RS_20150527/RS/Base informaçoes setores2010 universo {uf.upper()}/CSV/Basico_{uf.upper()}.csv'\u001b[0m\u001b[1;33m,\u001b[0m \u001b[0msep\u001b[0m\u001b[1;33m=\u001b[0m\u001b[1;34m';'\u001b[0m\u001b[1;33m,\u001b[0m \u001b[0musecols\u001b[0m\u001b[1;33m=\u001b[0m\u001b[1;33m[\u001b[0m\u001b[1;34m'Cod_setor'\u001b[0m\u001b[1;33m,\u001b[0m \u001b[1;34m'V002'\u001b[0m\u001b[1;33m]\u001b[0m\u001b[1;33m,\u001b[0m\u001b[0mencoding\u001b[0m\u001b[1;33m=\u001b[0m\u001b[1;34m'ANSI'\u001b[0m\u001b[1;33m)\u001b[0m\u001b[1;33m\u001b[0m\u001b[1;33m\u001b[0m\u001b[0m\n\u001b[0;32m     49\u001b[0m     \u001b[1;32melse\u001b[0m\u001b[1;33m:\u001b[0m\u001b[1;33m\u001b[0m\u001b[1;33m\u001b[0m\u001b[0m\n\u001b[1;32m---> 50\u001b[1;33m         \u001b[0mdf_pb_pop\u001b[0m \u001b[1;33m=\u001b[0m \u001b[0mpd\u001b[0m\u001b[1;33m.\u001b[0m\u001b[0mread_csv\u001b[0m\u001b[1;33m(\u001b[0m\u001b[1;34mf'data/pop/setores/{uf.upper()}/{uf.upper()}/Base informaçoes setores2010 universo {uf.upper()}/CSV/Basico_{uf.upper()}.csv'\u001b[0m\u001b[1;33m,\u001b[0m \u001b[0msep\u001b[0m\u001b[1;33m=\u001b[0m\u001b[1;34m';'\u001b[0m\u001b[1;33m,\u001b[0m \u001b[0musecols\u001b[0m\u001b[1;33m=\u001b[0m\u001b[1;33m[\u001b[0m\u001b[1;34m'Cod_setor'\u001b[0m\u001b[1;33m,\u001b[0m \u001b[1;34m'V002'\u001b[0m\u001b[1;33m]\u001b[0m\u001b[1;33m,\u001b[0m\u001b[0mencoding\u001b[0m\u001b[1;33m=\u001b[0m\u001b[1;34m'ANSI'\u001b[0m\u001b[1;33m)\u001b[0m\u001b[1;33m\u001b[0m\u001b[1;33m\u001b[0m\u001b[0m\n\u001b[0m\u001b[0;32m     51\u001b[0m \u001b[1;33m\u001b[0m\u001b[0m\n\u001b[0;32m     52\u001b[0m     \u001b[0mdf_pb_pop\u001b[0m\u001b[1;33m.\u001b[0m\u001b[0mcolumns\u001b[0m \u001b[1;33m=\u001b[0m \u001b[1;33m[\u001b[0m\u001b[1;34m'Cod'\u001b[0m\u001b[1;33m,\u001b[0m \u001b[1;34m'Pop'\u001b[0m\u001b[1;33m]\u001b[0m\u001b[1;33m\u001b[0m\u001b[1;33m\u001b[0m\u001b[0m\n",
      "\u001b[1;32m~\\AppData\\Roaming\\Python\\Python36\\site-packages\\pandas\\io\\parsers.py\u001b[0m in \u001b[0;36mread_csv\u001b[1;34m(filepath_or_buffer, sep, delimiter, header, names, index_col, usecols, squeeze, prefix, mangle_dupe_cols, dtype, engine, converters, true_values, false_values, skipinitialspace, skiprows, skipfooter, nrows, na_values, keep_default_na, na_filter, verbose, skip_blank_lines, parse_dates, infer_datetime_format, keep_date_col, date_parser, dayfirst, cache_dates, iterator, chunksize, compression, thousands, decimal, lineterminator, quotechar, quoting, doublequote, escapechar, comment, encoding, dialect, error_bad_lines, warn_bad_lines, delim_whitespace, low_memory, memory_map, float_precision)\u001b[0m\n\u001b[0;32m    684\u001b[0m     )\n\u001b[0;32m    685\u001b[0m \u001b[1;33m\u001b[0m\u001b[0m\n\u001b[1;32m--> 686\u001b[1;33m     \u001b[1;32mreturn\u001b[0m \u001b[0m_read\u001b[0m\u001b[1;33m(\u001b[0m\u001b[0mfilepath_or_buffer\u001b[0m\u001b[1;33m,\u001b[0m \u001b[0mkwds\u001b[0m\u001b[1;33m)\u001b[0m\u001b[1;33m\u001b[0m\u001b[1;33m\u001b[0m\u001b[0m\n\u001b[0m\u001b[0;32m    687\u001b[0m \u001b[1;33m\u001b[0m\u001b[0m\n\u001b[0;32m    688\u001b[0m \u001b[1;33m\u001b[0m\u001b[0m\n",
      "\u001b[1;32m~\\AppData\\Roaming\\Python\\Python36\\site-packages\\pandas\\io\\parsers.py\u001b[0m in \u001b[0;36m_read\u001b[1;34m(filepath_or_buffer, kwds)\u001b[0m\n\u001b[0;32m    450\u001b[0m \u001b[1;33m\u001b[0m\u001b[0m\n\u001b[0;32m    451\u001b[0m     \u001b[1;31m# Create the parser.\u001b[0m\u001b[1;33m\u001b[0m\u001b[1;33m\u001b[0m\u001b[1;33m\u001b[0m\u001b[0m\n\u001b[1;32m--> 452\u001b[1;33m     \u001b[0mparser\u001b[0m \u001b[1;33m=\u001b[0m \u001b[0mTextFileReader\u001b[0m\u001b[1;33m(\u001b[0m\u001b[0mfp_or_buf\u001b[0m\u001b[1;33m,\u001b[0m \u001b[1;33m**\u001b[0m\u001b[0mkwds\u001b[0m\u001b[1;33m)\u001b[0m\u001b[1;33m\u001b[0m\u001b[1;33m\u001b[0m\u001b[0m\n\u001b[0m\u001b[0;32m    453\u001b[0m \u001b[1;33m\u001b[0m\u001b[0m\n\u001b[0;32m    454\u001b[0m     \u001b[1;32mif\u001b[0m \u001b[0mchunksize\u001b[0m \u001b[1;32mor\u001b[0m \u001b[0miterator\u001b[0m\u001b[1;33m:\u001b[0m\u001b[1;33m\u001b[0m\u001b[1;33m\u001b[0m\u001b[0m\n",
      "\u001b[1;32m~\\AppData\\Roaming\\Python\\Python36\\site-packages\\pandas\\io\\parsers.py\u001b[0m in \u001b[0;36m__init__\u001b[1;34m(self, f, engine, **kwds)\u001b[0m\n\u001b[0;32m    934\u001b[0m             \u001b[0mself\u001b[0m\u001b[1;33m.\u001b[0m\u001b[0moptions\u001b[0m\u001b[1;33m[\u001b[0m\u001b[1;34m\"has_index_names\"\u001b[0m\u001b[1;33m]\u001b[0m \u001b[1;33m=\u001b[0m \u001b[0mkwds\u001b[0m\u001b[1;33m[\u001b[0m\u001b[1;34m\"has_index_names\"\u001b[0m\u001b[1;33m]\u001b[0m\u001b[1;33m\u001b[0m\u001b[1;33m\u001b[0m\u001b[0m\n\u001b[0;32m    935\u001b[0m \u001b[1;33m\u001b[0m\u001b[0m\n\u001b[1;32m--> 936\u001b[1;33m         \u001b[0mself\u001b[0m\u001b[1;33m.\u001b[0m\u001b[0m_make_engine\u001b[0m\u001b[1;33m(\u001b[0m\u001b[0mself\u001b[0m\u001b[1;33m.\u001b[0m\u001b[0mengine\u001b[0m\u001b[1;33m)\u001b[0m\u001b[1;33m\u001b[0m\u001b[1;33m\u001b[0m\u001b[0m\n\u001b[0m\u001b[0;32m    937\u001b[0m \u001b[1;33m\u001b[0m\u001b[0m\n\u001b[0;32m    938\u001b[0m     \u001b[1;32mdef\u001b[0m \u001b[0mclose\u001b[0m\u001b[1;33m(\u001b[0m\u001b[0mself\u001b[0m\u001b[1;33m)\u001b[0m\u001b[1;33m:\u001b[0m\u001b[1;33m\u001b[0m\u001b[1;33m\u001b[0m\u001b[0m\n",
      "\u001b[1;32m~\\AppData\\Roaming\\Python\\Python36\\site-packages\\pandas\\io\\parsers.py\u001b[0m in \u001b[0;36m_make_engine\u001b[1;34m(self, engine)\u001b[0m\n\u001b[0;32m   1166\u001b[0m     \u001b[1;32mdef\u001b[0m \u001b[0m_make_engine\u001b[0m\u001b[1;33m(\u001b[0m\u001b[0mself\u001b[0m\u001b[1;33m,\u001b[0m \u001b[0mengine\u001b[0m\u001b[1;33m=\u001b[0m\u001b[1;34m\"c\"\u001b[0m\u001b[1;33m)\u001b[0m\u001b[1;33m:\u001b[0m\u001b[1;33m\u001b[0m\u001b[1;33m\u001b[0m\u001b[0m\n\u001b[0;32m   1167\u001b[0m         \u001b[1;32mif\u001b[0m \u001b[0mengine\u001b[0m \u001b[1;33m==\u001b[0m \u001b[1;34m\"c\"\u001b[0m\u001b[1;33m:\u001b[0m\u001b[1;33m\u001b[0m\u001b[1;33m\u001b[0m\u001b[0m\n\u001b[1;32m-> 1168\u001b[1;33m             \u001b[0mself\u001b[0m\u001b[1;33m.\u001b[0m\u001b[0m_engine\u001b[0m \u001b[1;33m=\u001b[0m \u001b[0mCParserWrapper\u001b[0m\u001b[1;33m(\u001b[0m\u001b[0mself\u001b[0m\u001b[1;33m.\u001b[0m\u001b[0mf\u001b[0m\u001b[1;33m,\u001b[0m \u001b[1;33m**\u001b[0m\u001b[0mself\u001b[0m\u001b[1;33m.\u001b[0m\u001b[0moptions\u001b[0m\u001b[1;33m)\u001b[0m\u001b[1;33m\u001b[0m\u001b[1;33m\u001b[0m\u001b[0m\n\u001b[0m\u001b[0;32m   1169\u001b[0m         \u001b[1;32melse\u001b[0m\u001b[1;33m:\u001b[0m\u001b[1;33m\u001b[0m\u001b[1;33m\u001b[0m\u001b[0m\n\u001b[0;32m   1170\u001b[0m             \u001b[1;32mif\u001b[0m \u001b[0mengine\u001b[0m \u001b[1;33m==\u001b[0m \u001b[1;34m\"python\"\u001b[0m\u001b[1;33m:\u001b[0m\u001b[1;33m\u001b[0m\u001b[1;33m\u001b[0m\u001b[0m\n",
      "\u001b[1;32m~\\AppData\\Roaming\\Python\\Python36\\site-packages\\pandas\\io\\parsers.py\u001b[0m in \u001b[0;36m__init__\u001b[1;34m(self, src, **kwds)\u001b[0m\n\u001b[0;32m   1979\u001b[0m         \u001b[1;32mif\u001b[0m \u001b[0mkwds\u001b[0m\u001b[1;33m.\u001b[0m\u001b[0mget\u001b[0m\u001b[1;33m(\u001b[0m\u001b[1;34m\"compression\"\u001b[0m\u001b[1;33m)\u001b[0m \u001b[1;32mis\u001b[0m \u001b[1;32mNone\u001b[0m \u001b[1;32mand\u001b[0m \u001b[0mencoding\u001b[0m\u001b[1;33m:\u001b[0m\u001b[1;33m\u001b[0m\u001b[1;33m\u001b[0m\u001b[0m\n\u001b[0;32m   1980\u001b[0m             \u001b[1;32mif\u001b[0m \u001b[0misinstance\u001b[0m\u001b[1;33m(\u001b[0m\u001b[0msrc\u001b[0m\u001b[1;33m,\u001b[0m \u001b[0mstr\u001b[0m\u001b[1;33m)\u001b[0m\u001b[1;33m:\u001b[0m\u001b[1;33m\u001b[0m\u001b[1;33m\u001b[0m\u001b[0m\n\u001b[1;32m-> 1981\u001b[1;33m                 \u001b[0msrc\u001b[0m \u001b[1;33m=\u001b[0m \u001b[0mopen\u001b[0m\u001b[1;33m(\u001b[0m\u001b[0msrc\u001b[0m\u001b[1;33m,\u001b[0m \u001b[1;34m\"rb\"\u001b[0m\u001b[1;33m)\u001b[0m\u001b[1;33m\u001b[0m\u001b[1;33m\u001b[0m\u001b[0m\n\u001b[0m\u001b[0;32m   1982\u001b[0m                 \u001b[0mself\u001b[0m\u001b[1;33m.\u001b[0m\u001b[0mhandles\u001b[0m\u001b[1;33m.\u001b[0m\u001b[0mappend\u001b[0m\u001b[1;33m(\u001b[0m\u001b[0msrc\u001b[0m\u001b[1;33m)\u001b[0m\u001b[1;33m\u001b[0m\u001b[1;33m\u001b[0m\u001b[0m\n\u001b[0;32m   1983\u001b[0m \u001b[1;33m\u001b[0m\u001b[0m\n",
      "\u001b[1;31mFileNotFoundError\u001b[0m: [Errno 2] No such file or directory: 'data/pop/setores/SP/SP/Base informaçoes setores2010 universo SP/CSV/Basico_SP.csv'"
     ]
    }
   ],
   "source": [
    "treat_sectors_shp(uf='SP')"
   ]
  },
  {
   "cell_type": "code",
   "execution_count": null,
   "metadata": {},
   "outputs": [],
   "source": [
    "def save_sectors_geodataframe(gdf, uf):\n",
    "    for cod_mun in gdf['CD_GEOCODM'].unique():\n",
    "        try:\n",
    "            os.makedirs(f'data/territorio/setores2010/{uf}/{cod_mun}/', exist_ok=True)\n",
    "            gdf.loc[gdf['CD_GEOCODM'] == cod_mun].to_file(f'data/territorio/setores2010/{uf}/{cod_mun}/{cod_mun}.shp')\n",
    "        except:\n",
    "            print(f'Exception while saving {cod_mun}.shp')\n",
    "    print(f'files saved.')"
   ]
  },
  {
   "cell_type": "code",
   "execution_count": null,
   "metadata": {},
   "outputs": [],
   "source": []
  },
  {
   "cell_type": "code",
   "execution_count": null,
   "metadata": {},
   "outputs": [],
   "source": []
  },
  {
   "cell_type": "code",
   "execution_count": null,
   "metadata": {},
   "outputs": [],
   "source": []
  },
  {
   "cell_type": "code",
   "execution_count": null,
   "metadata": {},
   "outputs": [],
   "source": []
  },
  {
   "cell_type": "code",
   "execution_count": 3,
   "metadata": {},
   "outputs": [],
   "source": [
    "df_ac = geo.treat_sectors_shp(uf='AC')"
   ]
  },
  {
   "cell_type": "code",
   "execution_count": null,
   "metadata": {},
   "outputs": [],
   "source": [
    "save_sectors_geodataframe"
   ]
  },
  {
   "cell_type": "code",
   "execution_count": 6,
   "metadata": {},
   "outputs": [
    {
     "data": {
      "text/html": [
       "<div>\n",
       "<style scoped>\n",
       "    .dataframe tbody tr th:only-of-type {\n",
       "        vertical-align: middle;\n",
       "    }\n",
       "\n",
       "    .dataframe tbody tr th {\n",
       "        vertical-align: top;\n",
       "    }\n",
       "\n",
       "    .dataframe thead th {\n",
       "        text-align: right;\n",
       "    }\n",
       "</style>\n",
       "<table border=\"1\" class=\"dataframe\">\n",
       "  <thead>\n",
       "    <tr style=\"text-align: right;\">\n",
       "      <th></th>\n",
       "      <th>Cod</th>\n",
       "      <th>TIPO</th>\n",
       "      <th>CD_GEOCODB</th>\n",
       "      <th>NM_BAIRRO</th>\n",
       "      <th>CD_GEOCODM</th>\n",
       "      <th>NM_MUNICIP</th>\n",
       "      <th>geometry</th>\n",
       "      <th>Pop</th>\n",
       "      <th>Area</th>\n",
       "      <th>Pop/ha</th>\n",
       "    </tr>\n",
       "  </thead>\n",
       "  <tbody>\n",
       "    <tr>\n",
       "      <th>0</th>\n",
       "      <td>120020305000030</td>\n",
       "      <td>URBANO</td>\n",
       "      <td>None</td>\n",
       "      <td>None</td>\n",
       "      <td>1200203</td>\n",
       "      <td>CRUZEIRO DO SUL</td>\n",
       "      <td>POLYGON ((-72.69164 -7.63101, -72.69174 -7.630...</td>\n",
       "      <td>1305</td>\n",
       "      <td>78.50</td>\n",
       "      <td>16.62</td>\n",
       "    </tr>\n",
       "    <tr>\n",
       "      <th>1</th>\n",
       "      <td>120020305000031</td>\n",
       "      <td>URBANO</td>\n",
       "      <td>None</td>\n",
       "      <td>None</td>\n",
       "      <td>1200203</td>\n",
       "      <td>CRUZEIRO DO SUL</td>\n",
       "      <td>POLYGON ((-72.68007 -7.63158, -72.68077 -7.630...</td>\n",
       "      <td>516</td>\n",
       "      <td>20.47</td>\n",
       "      <td>25.20</td>\n",
       "    </tr>\n",
       "    <tr>\n",
       "      <th>2</th>\n",
       "      <td>120020305000032</td>\n",
       "      <td>URBANO</td>\n",
       "      <td>None</td>\n",
       "      <td>None</td>\n",
       "      <td>1200203</td>\n",
       "      <td>CRUZEIRO DO SUL</td>\n",
       "      <td>POLYGON ((-72.68701 -7.62252, -72.68768 -7.621...</td>\n",
       "      <td>760</td>\n",
       "      <td>14.97</td>\n",
       "      <td>50.76</td>\n",
       "    </tr>\n",
       "    <tr>\n",
       "      <th>3</th>\n",
       "      <td>120020305000033</td>\n",
       "      <td>URBANO</td>\n",
       "      <td>None</td>\n",
       "      <td>None</td>\n",
       "      <td>1200203</td>\n",
       "      <td>CRUZEIRO DO SUL</td>\n",
       "      <td>POLYGON ((-72.69267 -7.62117, -72.69258 -7.621...</td>\n",
       "      <td>706</td>\n",
       "      <td>39.06</td>\n",
       "      <td>18.07</td>\n",
       "    </tr>\n",
       "    <tr>\n",
       "      <th>4</th>\n",
       "      <td>120020305000034</td>\n",
       "      <td>URBANO</td>\n",
       "      <td>None</td>\n",
       "      <td>None</td>\n",
       "      <td>1200203</td>\n",
       "      <td>CRUZEIRO DO SUL</td>\n",
       "      <td>POLYGON ((-72.70299 -7.61553, -72.70283 -7.615...</td>\n",
       "      <td>1161</td>\n",
       "      <td>257.09</td>\n",
       "      <td>4.52</td>\n",
       "    </tr>\n",
       "    <tr>\n",
       "      <th>...</th>\n",
       "      <td>...</td>\n",
       "      <td>...</td>\n",
       "      <td>...</td>\n",
       "      <td>...</td>\n",
       "      <td>...</td>\n",
       "      <td>...</td>\n",
       "      <td>...</td>\n",
       "      <td>...</td>\n",
       "      <td>...</td>\n",
       "      <td>...</td>\n",
       "    </tr>\n",
       "    <tr>\n",
       "      <th>895</th>\n",
       "      <td>120080705000017</td>\n",
       "      <td>RURAL</td>\n",
       "      <td>None</td>\n",
       "      <td>None</td>\n",
       "      <td>1200807</td>\n",
       "      <td>PORTO ACRE</td>\n",
       "      <td>POLYGON ((-67.44417 -9.89514, -67.44528 -9.894...</td>\n",
       "      <td>225</td>\n",
       "      <td>62.03</td>\n",
       "      <td>3.63</td>\n",
       "    </tr>\n",
       "    <tr>\n",
       "      <th>896</th>\n",
       "      <td>120080705000018</td>\n",
       "      <td>RURAL</td>\n",
       "      <td>None</td>\n",
       "      <td>None</td>\n",
       "      <td>1200807</td>\n",
       "      <td>PORTO ACRE</td>\n",
       "      <td>POLYGON ((-67.36410 -9.70933, -67.35894 -9.708...</td>\n",
       "      <td>410</td>\n",
       "      <td>3,824.33</td>\n",
       "      <td>0.11</td>\n",
       "    </tr>\n",
       "    <tr>\n",
       "      <th>897</th>\n",
       "      <td>120080705000019</td>\n",
       "      <td>RURAL</td>\n",
       "      <td>None</td>\n",
       "      <td>None</td>\n",
       "      <td>1200807</td>\n",
       "      <td>PORTO ACRE</td>\n",
       "      <td>POLYGON ((-67.70160 -9.71970, -67.70157 -9.719...</td>\n",
       "      <td>478</td>\n",
       "      <td>47.40</td>\n",
       "      <td>10.08</td>\n",
       "    </tr>\n",
       "    <tr>\n",
       "      <th>898</th>\n",
       "      <td>120080705000020</td>\n",
       "      <td>RURAL</td>\n",
       "      <td>None</td>\n",
       "      <td>None</td>\n",
       "      <td>1200807</td>\n",
       "      <td>PORTO ACRE</td>\n",
       "      <td>POLYGON ((-68.09034 -9.55780, -68.08914 -9.555...</td>\n",
       "      <td>115</td>\n",
       "      <td>42,138.07</td>\n",
       "      <td>0.00</td>\n",
       "    </tr>\n",
       "    <tr>\n",
       "      <th>899</th>\n",
       "      <td>120080705000021</td>\n",
       "      <td>RURAL</td>\n",
       "      <td>None</td>\n",
       "      <td>None</td>\n",
       "      <td>1200807</td>\n",
       "      <td>PORTO ACRE</td>\n",
       "      <td>POLYGON ((-67.68640 -9.72810, -67.68747 -9.729...</td>\n",
       "      <td>731</td>\n",
       "      <td>9,980.46</td>\n",
       "      <td>0.07</td>\n",
       "    </tr>\n",
       "  </tbody>\n",
       "</table>\n",
       "<p>900 rows × 10 columns</p>\n",
       "</div>"
      ],
      "text/plain": [
       "                 Cod    TIPO CD_GEOCODB NM_BAIRRO CD_GEOCODM       NM_MUNICIP  \\\n",
       "0    120020305000030  URBANO       None      None    1200203  CRUZEIRO DO SUL   \n",
       "1    120020305000031  URBANO       None      None    1200203  CRUZEIRO DO SUL   \n",
       "2    120020305000032  URBANO       None      None    1200203  CRUZEIRO DO SUL   \n",
       "3    120020305000033  URBANO       None      None    1200203  CRUZEIRO DO SUL   \n",
       "4    120020305000034  URBANO       None      None    1200203  CRUZEIRO DO SUL   \n",
       "..               ...     ...        ...       ...        ...              ...   \n",
       "895  120080705000017   RURAL       None      None    1200807       PORTO ACRE   \n",
       "896  120080705000018   RURAL       None      None    1200807       PORTO ACRE   \n",
       "897  120080705000019   RURAL       None      None    1200807       PORTO ACRE   \n",
       "898  120080705000020   RURAL       None      None    1200807       PORTO ACRE   \n",
       "899  120080705000021   RURAL       None      None    1200807       PORTO ACRE   \n",
       "\n",
       "                                              geometry   Pop      Area  Pop/ha  \n",
       "0    POLYGON ((-72.69164 -7.63101, -72.69174 -7.630...  1305     78.50   16.62  \n",
       "1    POLYGON ((-72.68007 -7.63158, -72.68077 -7.630...   516     20.47   25.20  \n",
       "2    POLYGON ((-72.68701 -7.62252, -72.68768 -7.621...   760     14.97   50.76  \n",
       "3    POLYGON ((-72.69267 -7.62117, -72.69258 -7.621...   706     39.06   18.07  \n",
       "4    POLYGON ((-72.70299 -7.61553, -72.70283 -7.615...  1161    257.09    4.52  \n",
       "..                                                 ...   ...       ...     ...  \n",
       "895  POLYGON ((-67.44417 -9.89514, -67.44528 -9.894...   225     62.03    3.63  \n",
       "896  POLYGON ((-67.36410 -9.70933, -67.35894 -9.708...   410  3,824.33    0.11  \n",
       "897  POLYGON ((-67.70160 -9.71970, -67.70157 -9.719...   478     47.40   10.08  \n",
       "898  POLYGON ((-68.09034 -9.55780, -68.08914 -9.555...   115 42,138.07    0.00  \n",
       "899  POLYGON ((-67.68640 -9.72810, -67.68747 -9.729...   731  9,980.46    0.07  \n",
       "\n",
       "[900 rows x 10 columns]"
      ]
     },
     "execution_count": 6,
     "metadata": {},
     "output_type": "execute_result"
    }
   ],
   "source": [
    "df_ac"
   ]
  },
  {
   "cell_type": "code",
   "execution_count": 9,
   "metadata": {},
   "outputs": [],
   "source": [
    "def save_sectors_geodataframe(gdf, uf):\n",
    "    for cod_mun in gdf.CD_GEOCODM.unique():\n",
    "        try:\n",
    "            os.makedirs(f'data/territorio/setores2010/{uf}/{cod_mun}/', exist_ok=True)\n",
    "            gdf.loc[gdf['CD_GEOCODM'] == cod_mun].to_pickle(f'data/territorio/setores2010/{uf}/{cod_mun}/{cod_mun}.pkl')\n",
    "        except:\n",
    "            print(f'Exception while saving {cod_mun}.pkl')\n",
    "    print(f'files saved.')"
   ]
  },
  {
   "cell_type": "code",
   "execution_count": 10,
   "metadata": {},
   "outputs": [
    {
     "name": "stdout",
     "output_type": "stream",
     "text": [
      "files saved.\n"
     ]
    }
   ],
   "source": [
    "save_sectors_geodataframe(gdf=df_ac, uf='AC')"
   ]
  },
  {
   "cell_type": "code",
   "execution_count": 4,
   "metadata": {
    "ExecuteTime": {
     "end_time": "2021-06-03T18:54:22.359048Z",
     "start_time": "2021-06-03T18:54:21.106186Z"
    }
   },
   "outputs": [],
   "source": [
    "gdf = gpd.read_file('data/territorio/25SEE250GC_SIR.shp')"
   ]
  },
  {
   "cell_type": "code",
   "execution_count": 5,
   "metadata": {
    "ExecuteTime": {
     "end_time": "2021-06-03T18:58:30.611768Z",
     "start_time": "2021-06-03T18:58:30.583283Z"
    }
   },
   "outputs": [],
   "source": [
    "gdf = gdf[gdf['CD_GEOCODM'] == '2507507']"
   ]
  },
  {
   "cell_type": "code",
   "execution_count": 9,
   "metadata": {},
   "outputs": [
    {
     "data": {
      "text/plain": [
       "600000"
      ]
     },
     "execution_count": 9,
     "metadata": {},
     "output_type": "execute_result"
    }
   ],
   "source": [
    "120 * 5000"
   ]
  },
  {
   "cell_type": "code",
   "execution_count": 11,
   "metadata": {},
   "outputs": [
    {
     "name": "stdout",
     "output_type": "stream",
     "text": [
      "<class 'geopandas.geodataframe.GeoDataFrame'>\n",
      "Int64Index: 963 entries, 2099 to 3376\n",
      "Data columns (total 8 columns):\n",
      " #   Column      Non-Null Count  Dtype   \n",
      "---  ------      --------------  -----   \n",
      " 0   CD_GEOCODI  963 non-null    object  \n",
      " 1   TIPO        963 non-null    object  \n",
      " 2   CD_GEOCODB  946 non-null    object  \n",
      " 3   NM_BAIRRO   946 non-null    object  \n",
      " 4   CD_GEOCODM  963 non-null    object  \n",
      " 5   NM_MUNICIP  963 non-null    object  \n",
      " 6   AREA_HA     963 non-null    float64 \n",
      " 7   geometry    963 non-null    geometry\n",
      "dtypes: float64(1), geometry(1), object(6)\n",
      "memory usage: 67.7+ KB\n"
     ]
    }
   ],
   "source": [
    "gdf.info()"
   ]
  },
  {
   "cell_type": "code",
   "execution_count": 10,
   "metadata": {
    "ExecuteTime": {
     "end_time": "2021-06-03T19:28:13.125618Z",
     "start_time": "2021-06-03T19:28:13.119761Z"
    }
   },
   "outputs": [],
   "source": [
    "gdf.drop(labels=['ID', 'CD_GEOCODS', 'NM_SUBDIST', 'CD_GEOCODD', 'NM_DISTRIT', 'NM_MICRO', 'NM_MESO'], axis=1, inplace=True)"
   ]
  },
  {
   "cell_type": "code",
   "execution_count": 151,
   "metadata": {
    "ExecuteTime": {
     "end_time": "2021-06-03T19:34:50.773206Z",
     "start_time": "2021-06-03T19:34:49.291036Z"
    }
   },
   "outputs": [],
   "source": [
    "gdf.to_file(\"data/territorio/2507507.geojson\", driver=\"GeoJSON\")"
   ]
  },
  {
   "cell_type": "code",
   "execution_count": 152,
   "metadata": {
    "ExecuteTime": {
     "end_time": "2021-06-03T19:53:56.685760Z",
     "start_time": "2021-06-03T19:53:56.680960Z"
    }
   },
   "outputs": [
    {
     "data": {
      "text/plain": [
       "Index(['CD_GEOCODI', 'TIPO', 'CD_GEOCODB', 'NM_BAIRRO', 'CD_GEOCODM',\n",
       "       'NM_MUNICIP', 'AREA_HA', 'geometry'],\n",
       "      dtype='object')"
      ]
     },
     "execution_count": 152,
     "metadata": {},
     "output_type": "execute_result"
    }
   ],
   "source": [
    "gdf.columns"
   ]
  },
  {
   "cell_type": "code",
   "execution_count": 153,
   "metadata": {
    "ExecuteTime": {
     "end_time": "2021-06-03T19:55:33.303100Z",
     "start_time": "2021-06-03T19:55:32.448222Z"
    }
   },
   "outputs": [],
   "source": [
    "gdf_joao_pessoa = gdf.dissolve(by='NM_MUNICIP')"
   ]
  },
  {
   "cell_type": "code",
   "execution_count": 154,
   "metadata": {
    "ExecuteTime": {
     "end_time": "2021-06-03T19:57:08.567071Z",
     "start_time": "2021-06-03T19:57:08.530842Z"
    }
   },
   "outputs": [
    {
     "name": "stderr",
     "output_type": "stream",
     "text": [
      "C:\\Users\\augus\\Anaconda3\\envs\\aulas\\lib\\site-packages\\ipykernel_launcher.py:1: UserWarning:\n",
      "\n",
      "Geometry is in a geographic CRS. Results from 'centroid' are likely incorrect. Use 'GeoSeries.to_crs()' to re-project geometries to a projected CRS before this operation.\n",
      "\n",
      "\n"
     ]
    }
   ],
   "source": [
    "long = gdf_joao_pessoa.centroid.x[0]"
   ]
  },
  {
   "cell_type": "code",
   "execution_count": 155,
   "metadata": {
    "ExecuteTime": {
     "end_time": "2021-06-03T19:57:13.775222Z",
     "start_time": "2021-06-03T19:57:13.729744Z"
    }
   },
   "outputs": [
    {
     "name": "stderr",
     "output_type": "stream",
     "text": [
      "C:\\Users\\augus\\Anaconda3\\envs\\aulas\\lib\\site-packages\\ipykernel_launcher.py:1: UserWarning:\n",
      "\n",
      "Geometry is in a geographic CRS. Results from 'centroid' are likely incorrect. Use 'GeoSeries.to_crs()' to re-project geometries to a projected CRS before this operation.\n",
      "\n",
      "\n"
     ]
    }
   ],
   "source": [
    "lat = gdf_joao_pessoa.centroid.y[0]"
   ]
  },
  {
   "cell_type": "code",
   "execution_count": 156,
   "metadata": {
    "ExecuteTime": {
     "end_time": "2021-06-03T19:35:30.753966Z",
     "start_time": "2021-06-03T19:35:30.693277Z"
    }
   },
   "outputs": [],
   "source": [
    "with open(\"data/territorio/2507507.geojson\") as file:\n",
    "    geojson_mun = json.load(file)"
   ]
  },
  {
   "cell_type": "code",
   "execution_count": null,
   "metadata": {},
   "outputs": [],
   "source": []
  },
  {
   "cell_type": "code",
   "execution_count": 130,
   "metadata": {},
   "outputs": [
    {
     "data": {
      "text/html": [
       "<div>\n",
       "<style scoped>\n",
       "    .dataframe tbody tr th:only-of-type {\n",
       "        vertical-align: middle;\n",
       "    }\n",
       "\n",
       "    .dataframe tbody tr th {\n",
       "        vertical-align: top;\n",
       "    }\n",
       "\n",
       "    .dataframe thead th {\n",
       "        text-align: right;\n",
       "    }\n",
       "</style>\n",
       "<table border=\"1\" class=\"dataframe\">\n",
       "  <thead>\n",
       "    <tr style=\"text-align: right;\">\n",
       "      <th></th>\n",
       "      <th>CD_GEOCODI</th>\n",
       "      <th>TIPO</th>\n",
       "      <th>CD_GEOCODB</th>\n",
       "      <th>NM_BAIRRO</th>\n",
       "      <th>CD_GEOCODM</th>\n",
       "      <th>NM_MUNICIP</th>\n",
       "      <th>AREA_HA</th>\n",
       "      <th>geometry</th>\n",
       "    </tr>\n",
       "  </thead>\n",
       "  <tbody>\n",
       "    <tr>\n",
       "      <th>2099</th>\n",
       "      <td>250750705000153</td>\n",
       "      <td>URBANO</td>\n",
       "      <td>250750705007</td>\n",
       "      <td>Estados</td>\n",
       "      <td>2507507</td>\n",
       "      <td>JOï¿½O PESSOA</td>\n",
       "      <td>None</td>\n",
       "      <td>POLYGON ((-34.85767 -7.11027, -34.85753 -7.110...</td>\n",
       "    </tr>\n",
       "    <tr>\n",
       "      <th>2100</th>\n",
       "      <td>250750705000154</td>\n",
       "      <td>URBANO</td>\n",
       "      <td>250750705007</td>\n",
       "      <td>Estados</td>\n",
       "      <td>2507507</td>\n",
       "      <td>JOï¿½O PESSOA</td>\n",
       "      <td>None</td>\n",
       "      <td>POLYGON ((-34.85649 -7.11025, -34.85582 -7.110...</td>\n",
       "    </tr>\n",
       "    <tr>\n",
       "      <th>2101</th>\n",
       "      <td>250750705000155</td>\n",
       "      <td>URBANO</td>\n",
       "      <td>250750705007</td>\n",
       "      <td>Estados</td>\n",
       "      <td>2507507</td>\n",
       "      <td>JOï¿½O PESSOA</td>\n",
       "      <td>None</td>\n",
       "      <td>POLYGON ((-34.84955 -7.11451, -34.85017 -7.114...</td>\n",
       "    </tr>\n",
       "    <tr>\n",
       "      <th>2102</th>\n",
       "      <td>250750705000156</td>\n",
       "      <td>URBANO</td>\n",
       "      <td>250750705007</td>\n",
       "      <td>Estados</td>\n",
       "      <td>2507507</td>\n",
       "      <td>JOï¿½O PESSOA</td>\n",
       "      <td>None</td>\n",
       "      <td>POLYGON ((-34.85336 -7.11552, -34.85338 -7.114...</td>\n",
       "    </tr>\n",
       "    <tr>\n",
       "      <th>2103</th>\n",
       "      <td>250750705000157</td>\n",
       "      <td>URBANO</td>\n",
       "      <td>250750705007</td>\n",
       "      <td>Estados</td>\n",
       "      <td>2507507</td>\n",
       "      <td>JOï¿½O PESSOA</td>\n",
       "      <td>None</td>\n",
       "      <td>POLYGON ((-34.86111 -7.11346, -34.86110 -7.113...</td>\n",
       "    </tr>\n",
       "    <tr>\n",
       "      <th>...</th>\n",
       "      <td>...</td>\n",
       "      <td>...</td>\n",
       "      <td>...</td>\n",
       "      <td>...</td>\n",
       "      <td>...</td>\n",
       "      <td>...</td>\n",
       "      <td>...</td>\n",
       "      <td>...</td>\n",
       "    </tr>\n",
       "    <tr>\n",
       "      <th>3372</th>\n",
       "      <td>250750705000959</td>\n",
       "      <td>URBANO</td>\n",
       "      <td>250750705009</td>\n",
       "      <td>Ipï¿½s</td>\n",
       "      <td>2507507</td>\n",
       "      <td>JOï¿½O PESSOA</td>\n",
       "      <td>None</td>\n",
       "      <td>POLYGON ((-34.85715 -7.10481, -34.85583 -7.104...</td>\n",
       "    </tr>\n",
       "    <tr>\n",
       "      <th>3373</th>\n",
       "      <td>250750705000960</td>\n",
       "      <td>URBANO</td>\n",
       "      <td>250750705009</td>\n",
       "      <td>Ipï¿½s</td>\n",
       "      <td>2507507</td>\n",
       "      <td>JOï¿½O PESSOA</td>\n",
       "      <td>None</td>\n",
       "      <td>POLYGON ((-34.85846 -7.10514, -34.85715 -7.104...</td>\n",
       "    </tr>\n",
       "    <tr>\n",
       "      <th>3374</th>\n",
       "      <td>250750705000961</td>\n",
       "      <td>URBANO</td>\n",
       "      <td>250750705043</td>\n",
       "      <td>Paratibe</td>\n",
       "      <td>2507507</td>\n",
       "      <td>JOï¿½O PESSOA</td>\n",
       "      <td>None</td>\n",
       "      <td>POLYGON ((-34.83024 -7.20626, -34.82977 -7.206...</td>\n",
       "    </tr>\n",
       "    <tr>\n",
       "      <th>3375</th>\n",
       "      <td>250750705000962</td>\n",
       "      <td>URBANO</td>\n",
       "      <td>250750705043</td>\n",
       "      <td>Paratibe</td>\n",
       "      <td>2507507</td>\n",
       "      <td>JOï¿½O PESSOA</td>\n",
       "      <td>None</td>\n",
       "      <td>POLYGON ((-34.83303 -7.20692, -34.83288 -7.207...</td>\n",
       "    </tr>\n",
       "    <tr>\n",
       "      <th>3376</th>\n",
       "      <td>250750705000963</td>\n",
       "      <td>URBANO</td>\n",
       "      <td>250750705043</td>\n",
       "      <td>Paratibe</td>\n",
       "      <td>2507507</td>\n",
       "      <td>JOï¿½O PESSOA</td>\n",
       "      <td>None</td>\n",
       "      <td>POLYGON ((-34.83548 -7.20828, -34.83459 -7.209...</td>\n",
       "    </tr>\n",
       "  </tbody>\n",
       "</table>\n",
       "<p>963 rows × 8 columns</p>\n",
       "</div>"
      ],
      "text/plain": [
       "           CD_GEOCODI    TIPO    CD_GEOCODB NM_BAIRRO CD_GEOCODM  \\\n",
       "2099  250750705000153  URBANO  250750705007   Estados    2507507   \n",
       "2100  250750705000154  URBANO  250750705007   Estados    2507507   \n",
       "2101  250750705000155  URBANO  250750705007   Estados    2507507   \n",
       "2102  250750705000156  URBANO  250750705007   Estados    2507507   \n",
       "2103  250750705000157  URBANO  250750705007   Estados    2507507   \n",
       "...               ...     ...           ...       ...        ...   \n",
       "3372  250750705000959  URBANO  250750705009    Ipï¿½s    2507507   \n",
       "3373  250750705000960  URBANO  250750705009    Ipï¿½s    2507507   \n",
       "3374  250750705000961  URBANO  250750705043  Paratibe    2507507   \n",
       "3375  250750705000962  URBANO  250750705043  Paratibe    2507507   \n",
       "3376  250750705000963  URBANO  250750705043  Paratibe    2507507   \n",
       "\n",
       "         NM_MUNICIP AREA_HA                                           geometry  \n",
       "2099  JOï¿½O PESSOA    None  POLYGON ((-34.85767 -7.11027, -34.85753 -7.110...  \n",
       "2100  JOï¿½O PESSOA    None  POLYGON ((-34.85649 -7.11025, -34.85582 -7.110...  \n",
       "2101  JOï¿½O PESSOA    None  POLYGON ((-34.84955 -7.11451, -34.85017 -7.114...  \n",
       "2102  JOï¿½O PESSOA    None  POLYGON ((-34.85336 -7.11552, -34.85338 -7.114...  \n",
       "2103  JOï¿½O PESSOA    None  POLYGON ((-34.86111 -7.11346, -34.86110 -7.113...  \n",
       "...             ...     ...                                                ...  \n",
       "3372  JOï¿½O PESSOA    None  POLYGON ((-34.85715 -7.10481, -34.85583 -7.104...  \n",
       "3373  JOï¿½O PESSOA    None  POLYGON ((-34.85846 -7.10514, -34.85715 -7.104...  \n",
       "3374  JOï¿½O PESSOA    None  POLYGON ((-34.83024 -7.20626, -34.82977 -7.206...  \n",
       "3375  JOï¿½O PESSOA    None  POLYGON ((-34.83303 -7.20692, -34.83288 -7.207...  \n",
       "3376  JOï¿½O PESSOA    None  POLYGON ((-34.83548 -7.20828, -34.83459 -7.209...  \n",
       "\n",
       "[963 rows x 8 columns]"
      ]
     },
     "execution_count": 130,
     "metadata": {},
     "output_type": "execute_result"
    }
   ],
   "source": [
    "gdf"
   ]
  },
  {
   "cell_type": "code",
   "execution_count": null,
   "metadata": {
    "ExecuteTime": {
     "end_time": "2021-06-03T20:04:23.481537Z",
     "start_time": "2021-06-03T20:04:19.818415Z"
    }
   },
   "outputs": [],
   "source": [
    "px.choropleth_mapbox(\n",
    "    data_frame=gdf\n",
    "    , geojson=geojson_mun\n",
    "    , featureidkey='properties.CD_GEOCODI'\n",
    "    , locations='CD_GEOCODI'\n",
    "    , color='TIPO'\n",
    "    , hover_name='CD_GEOCODI'\n",
    "    , hover_data=None\n",
    "    , zoom=11\n",
    "    ,center={\"lat\": lat, \"lon\": long}\n",
    "    , mapbox_style=\"carto-positron\"\n",
    "    , title=None\n",
    "    , template=None\n",
    "    , width=None\n",
    "    , height=None\n",
    "    , opacity=0.1\n",
    ")"
   ]
  },
  {
   "cell_type": "code",
   "execution_count": null,
   "metadata": {},
   "outputs": [],
   "source": [
    "world = world.to_crs(\"EPSG:3395\")"
   ]
  },
  {
   "cell_type": "code",
   "execution_count": null,
   "metadata": {},
   "outputs": [],
   "source": []
  },
  {
   "cell_type": "code",
   "execution_count": 94,
   "metadata": {
    "ExecuteTime": {
     "end_time": "2021-06-03T20:20:06.125398Z",
     "start_time": "2021-06-03T20:20:05.748318Z"
    }
   },
   "outputs": [],
   "source": [
    "gdf1 = gpd.read_file('data/territorio/25SEE250GC_SIR.shp')"
   ]
  },
  {
   "cell_type": "code",
   "execution_count": 95,
   "metadata": {
    "ExecuteTime": {
     "end_time": "2021-06-03T20:20:08.319767Z",
     "start_time": "2021-06-03T20:20:08.302767Z"
    }
   },
   "outputs": [],
   "source": [
    "gdf1.drop(labels=['ID', 'CD_GEOCODS', 'NM_SUBDIST', 'CD_GEOCODD', 'NM_DISTRIT', 'NM_MICRO', 'NM_MESO'], axis=1, inplace=True)"
   ]
  },
  {
   "cell_type": "code",
   "execution_count": 90,
   "metadata": {
    "ExecuteTime": {
     "end_time": "2021-06-03T20:15:45.803252Z",
     "start_time": "2021-06-03T20:15:45.789679Z"
    }
   },
   "outputs": [],
   "source": [
    "gdf1 = gdf1[gdf1['NM_MUNICIP'] == 'CAMPINA GRANDE']"
   ]
  },
  {
   "cell_type": "code",
   "execution_count": null,
   "metadata": {
    "ExecuteTime": {
     "end_time": "2021-06-03T20:16:20.653863Z",
     "start_time": "2021-06-03T20:16:19.155983Z"
    }
   },
   "outputs": [],
   "source": [
    "px.choropleth_mapbox(\n",
    "    data_frame=gdf1\n",
    "    , geojson=gdf1.geometry\n",
    "#    , featureidkey=gdf.index\n",
    "    , locations=gdf1.index\n",
    "    , color='TIPO'\n",
    "    , hover_name='CD_GEOCODI'\n",
    "    , hover_data=None\n",
    "    , zoom=11\n",
    "    ,center={\"lat\": lat, \"lon\": long}\n",
    "    , mapbox_style=\"carto-positron\"\n",
    "    , title=None\n",
    "    , template=None\n",
    "    , width=None\n",
    "    , height=None\n",
    "    , opacity=0.1\n",
    ")"
   ]
  },
  {
   "cell_type": "code",
   "execution_count": null,
   "metadata": {},
   "outputs": [],
   "source": []
  },
  {
   "cell_type": "markdown",
   "metadata": {},
   "source": [
    "# PREPARANDO OS DADOS EM GEODATAFRAMES"
   ]
  },
  {
   "cell_type": "markdown",
   "metadata": {},
   "source": [
    "## Procedimentos para criar o geodata frame e inserir os dados de população para a Paraíba"
   ]
  },
  {
   "cell_type": "code",
   "execution_count": 104,
   "metadata": {
    "ExecuteTime": {
     "end_time": "2021-06-03T21:22:05.875724Z",
     "start_time": "2021-06-03T21:22:05.505598Z"
    }
   },
   "outputs": [],
   "source": [
    "gdf_pb = gpd.read_file('data/territorio/25SEE250GC_SIR.shp', encoding='ISO-8859-1')\n",
    "gdf_pb.drop(labels=['ID', 'CD_GEOCODS', 'NM_SUBDIST', 'CD_GEOCODD', 'NM_DISTRIT', 'NM_MICRO', 'NM_MESO'], axis=1, inplace=True)"
   ]
  },
  {
   "cell_type": "code",
   "execution_count": 105,
   "metadata": {
    "ExecuteTime": {
     "end_time": "2021-06-03T21:22:05.922764Z",
     "start_time": "2021-06-03T21:22:05.876233Z"
    }
   },
   "outputs": [],
   "source": [
    "df_pb = pd.read_csv('data/pop/setores/PB/Basico_PB.csv', sep=';', usecols=['Cod_setor', 'V002'],encoding='ANSI')"
   ]
  },
  {
   "cell_type": "code",
   "execution_count": 106,
   "metadata": {},
   "outputs": [
    {
     "data": {
      "text/html": [
       "<div>\n",
       "<style scoped>\n",
       "    .dataframe tbody tr th:only-of-type {\n",
       "        vertical-align: middle;\n",
       "    }\n",
       "\n",
       "    .dataframe tbody tr th {\n",
       "        vertical-align: top;\n",
       "    }\n",
       "\n",
       "    .dataframe thead th {\n",
       "        text-align: right;\n",
       "    }\n",
       "</style>\n",
       "<table border=\"1\" class=\"dataframe\">\n",
       "  <thead>\n",
       "    <tr style=\"text-align: right;\">\n",
       "      <th></th>\n",
       "      <th>Cod_setor</th>\n",
       "      <th>V002</th>\n",
       "    </tr>\n",
       "  </thead>\n",
       "  <tbody>\n",
       "    <tr>\n",
       "      <th>0</th>\n",
       "      <td>250010605000001</td>\n",
       "      <td>1526.0</td>\n",
       "    </tr>\n",
       "    <tr>\n",
       "      <th>1</th>\n",
       "      <td>250010605000002</td>\n",
       "      <td>500.0</td>\n",
       "    </tr>\n",
       "    <tr>\n",
       "      <th>2</th>\n",
       "      <td>250010605000003</td>\n",
       "      <td>889.0</td>\n",
       "    </tr>\n",
       "    <tr>\n",
       "      <th>3</th>\n",
       "      <td>250010605000004</td>\n",
       "      <td>860.0</td>\n",
       "    </tr>\n",
       "    <tr>\n",
       "      <th>4</th>\n",
       "      <td>250010605000005</td>\n",
       "      <td>667.0</td>\n",
       "    </tr>\n",
       "    <tr>\n",
       "      <th>...</th>\n",
       "      <td>...</td>\n",
       "      <td>...</td>\n",
       "    </tr>\n",
       "    <tr>\n",
       "      <th>5543</th>\n",
       "      <td>251720905000004</td>\n",
       "      <td>345.0</td>\n",
       "    </tr>\n",
       "    <tr>\n",
       "      <th>5544</th>\n",
       "      <td>251720905000005</td>\n",
       "      <td>1105.0</td>\n",
       "    </tr>\n",
       "    <tr>\n",
       "      <th>5545</th>\n",
       "      <td>251740705000001</td>\n",
       "      <td>873.0</td>\n",
       "    </tr>\n",
       "    <tr>\n",
       "      <th>5546</th>\n",
       "      <td>251740705000002</td>\n",
       "      <td>601.0</td>\n",
       "    </tr>\n",
       "    <tr>\n",
       "      <th>5547</th>\n",
       "      <td>251740705000003</td>\n",
       "      <td>596.0</td>\n",
       "    </tr>\n",
       "  </tbody>\n",
       "</table>\n",
       "<p>5548 rows × 2 columns</p>\n",
       "</div>"
      ],
      "text/plain": [
       "            Cod_setor    V002\n",
       "0     250010605000001  1526.0\n",
       "1     250010605000002   500.0\n",
       "2     250010605000003   889.0\n",
       "3     250010605000004   860.0\n",
       "4     250010605000005   667.0\n",
       "...               ...     ...\n",
       "5543  251720905000004   345.0\n",
       "5544  251720905000005  1105.0\n",
       "5545  251740705000001   873.0\n",
       "5546  251740705000002   601.0\n",
       "5547  251740705000003   596.0\n",
       "\n",
       "[5548 rows x 2 columns]"
      ]
     },
     "execution_count": 106,
     "metadata": {},
     "output_type": "execute_result"
    }
   ],
   "source": [
    "df_pb"
   ]
  },
  {
   "cell_type": "code",
   "execution_count": 107,
   "metadata": {
    "ExecuteTime": {
     "end_time": "2021-06-03T21:22:05.936202Z",
     "start_time": "2021-06-03T21:22:05.925762Z"
    }
   },
   "outputs": [],
   "source": [
    "df_pb.rename(columns={'Cod_setor':'CD_GEOCODI', 'V002':'População'}, inplace=True)"
   ]
  },
  {
   "cell_type": "code",
   "execution_count": 108,
   "metadata": {
    "ExecuteTime": {
     "end_time": "2021-06-03T21:22:06.013878Z",
     "start_time": "2021-06-03T21:22:05.995914Z"
    }
   },
   "outputs": [],
   "source": [
    "df_pb['CD_GEOCODI'] = df_pb.CD_GEOCODI.astype(np.int64)"
   ]
  },
  {
   "cell_type": "code",
   "execution_count": null,
   "metadata": {
    "ExecuteTime": {
     "end_time": "2021-06-03T21:22:06.154480Z",
     "start_time": "2021-06-03T21:22:06.144486Z"
    }
   },
   "outputs": [],
   "source": [
    "gdf_pb['CD_GEOCODI'] = gdf_pb.CD_GEOCODI.astype(np.int64)"
   ]
  },
  {
   "cell_type": "code",
   "execution_count": null,
   "metadata": {
    "ExecuteTime": {
     "end_time": "2021-06-03T21:22:06.717515Z",
     "start_time": "2021-06-03T21:22:06.705490Z"
    }
   },
   "outputs": [],
   "source": [
    "gdf_pb = gdf_pb.merge(df_pb, on='CD_GEOCODI')"
   ]
  },
  {
   "cell_type": "code",
   "execution_count": null,
   "metadata": {
    "ExecuteTime": {
     "end_time": "2021-06-03T21:25:56.156355Z",
     "start_time": "2021-06-03T21:25:56.140477Z"
    }
   },
   "outputs": [],
   "source": [
    "gdf_pb['População'].isna().sum()"
   ]
  },
  {
   "cell_type": "code",
   "execution_count": null,
   "metadata": {
    "ExecuteTime": {
     "end_time": "2021-06-03T21:27:58.827425Z",
     "start_time": "2021-06-03T21:27:58.814434Z"
    }
   },
   "outputs": [],
   "source": [
    "gdf_pb['População'].fillna(value=0, inplace=True)"
   ]
  },
  {
   "cell_type": "code",
   "execution_count": null,
   "metadata": {
    "ExecuteTime": {
     "end_time": "2021-06-03T21:28:18.510773Z",
     "start_time": "2021-06-03T21:28:18.494835Z"
    }
   },
   "outputs": [],
   "source": [
    "gdf_pb['População'] = gdf_pb['População'].astype(np.int64)"
   ]
  },
  {
   "cell_type": "code",
   "execution_count": null,
   "metadata": {},
   "outputs": [],
   "source": [
    "gdf_pb = gdf_pb.to_crs(\"EPSG:31985\")"
   ]
  },
  {
   "cell_type": "code",
   "execution_count": null,
   "metadata": {},
   "outputs": [],
   "source": [
    "gdf_pb = gdf_pb.loc[gdf_pb['NM_MUNICIP'] == 'JOÃO PESSOA']"
   ]
  },
  {
   "cell_type": "code",
   "execution_count": null,
   "metadata": {},
   "outputs": [],
   "source": [
    "gdf_pb['AREA_HA'] = gdf_pb['geometry'].area / 10000"
   ]
  },
  {
   "cell_type": "code",
   "execution_count": null,
   "metadata": {},
   "outputs": [],
   "source": [
    "gdf_pb['Pop/ha'] = gdf_pb['População'] / gdf_pb['AREA_HA']"
   ]
  },
  {
   "cell_type": "code",
   "execution_count": null,
   "metadata": {},
   "outputs": [],
   "source": [
    "gdf_pb.NM_MUNICIP.unique()"
   ]
  },
  {
   "cell_type": "code",
   "execution_count": null,
   "metadata": {},
   "outputs": [],
   "source": [
    "px.choropleth_mapbox(\n",
    "    data_frame=gdf1\n",
    "    , geojson=gdf1.geometry\n",
    "#    , featureidkey=gdf.index\n",
    "    , locations=gdf1.index\n",
    "    , color='TIPO'\n",
    "    , hover_name='CD_GEOCODI'\n",
    "    , hover_data=None\n",
    "    , zoom=11\n",
    "    ,center={\"lat\": lat, \"lon\": long}\n",
    "    , mapbox_style=\"carto-positron\"\n",
    "    , title=None\n",
    "    , template=None\n",
    "    , width=None\n",
    "    , height=None\n",
    "    , opacity=0.1\n",
    ")"
   ]
  },
  {
   "cell_type": "code",
   "execution_count": null,
   "metadata": {},
   "outputs": [],
   "source": [
    "px.choropleth_mapbox(\n",
    "    data_frame=gdf_pb\n",
    "    , geojson=geojson_mun\n",
    "    , featureidkey='properties.CD_GEOCODI'\n",
    "    , locations=gdf_pb.index\n",
    "    , color='Pop/ha'\n",
    "    , hover_name='CD_GEOCODI'\n",
    "    , hover_data=None\n",
    "    , zoom=11\n",
    "    ,center={\"lat\": lat, \"lon\": long}\n",
    "    , mapbox_style=\"carto-positron\"\n",
    "    , title=None\n",
    "    , template=None\n",
    "    , width=None\n",
    "    , height=None\n",
    "    , opacity=0.1\n",
    ")"
   ]
  },
  {
   "cell_type": "code",
   "execution_count": null,
   "metadata": {},
   "outputs": [],
   "source": []
  },
  {
   "cell_type": "code",
   "execution_count": null,
   "metadata": {},
   "outputs": [],
   "source": []
  },
  {
   "cell_type": "code",
   "execution_count": null,
   "metadata": {},
   "outputs": [],
   "source": []
  },
  {
   "cell_type": "code",
   "execution_count": null,
   "metadata": {},
   "outputs": [],
   "source": []
  },
  {
   "cell_type": "code",
   "execution_count": null,
   "metadata": {
    "ExecuteTime": {
     "end_time": "2021-06-03T21:29:04.568410Z",
     "start_time": "2021-06-03T21:29:04.251420Z"
    }
   },
   "outputs": [],
   "source": [
    "gdf_pb.reset_index(drop=True).to_feather('data/territorio/setores_2010_pb.ftd')"
   ]
  },
  {
   "cell_type": "markdown",
   "metadata": {},
   "source": [
    "## Procedimentos para criar o geodata frame e inserir os dados de população para o Paraná"
   ]
  },
  {
   "cell_type": "code",
   "execution_count": null,
   "metadata": {
    "ExecuteTime": {
     "end_time": "2021-06-03T21:23:52.296688Z",
     "start_time": "2021-06-03T21:23:51.126743Z"
    }
   },
   "outputs": [],
   "source": [
    "gdf_pr = gpd.read_file('data/territorio/41SEE250GC_SIR.shp')\n",
    "gdf_pr.drop(labels=['ID', 'CD_GEOCODS', 'NM_SUBDIST', 'CD_GEOCODD', 'NM_DISTRIT', 'NM_MICRO', 'NM_MESO'], axis=1, inplace=True)"
   ]
  },
  {
   "cell_type": "code",
   "execution_count": null,
   "metadata": {
    "ExecuteTime": {
     "end_time": "2021-06-03T21:23:52.391346Z",
     "start_time": "2021-06-03T21:23:52.298686Z"
    }
   },
   "outputs": [],
   "source": [
    "df_pr = pd.read_csv('data/pop/setores/PR/Basico_PR.csv', sep=';', usecols=['Cod_setor', 'V002'],encoding='ANSI')"
   ]
  },
  {
   "cell_type": "code",
   "execution_count": null,
   "metadata": {
    "ExecuteTime": {
     "end_time": "2021-06-03T21:23:52.406209Z",
     "start_time": "2021-06-03T21:23:52.393173Z"
    }
   },
   "outputs": [],
   "source": [
    "df_pr.rename(columns={'Cod_setor':'CD_GEOCODI', 'V002':'População'}, inplace=True)"
   ]
  },
  {
   "cell_type": "code",
   "execution_count": null,
   "metadata": {
    "ExecuteTime": {
     "end_time": "2021-06-03T21:23:52.422170Z",
     "start_time": "2021-06-03T21:23:52.408176Z"
    }
   },
   "outputs": [],
   "source": [
    "df_pr['CD_GEOCODI'] = df_pr.CD_GEOCODI.astype(np.int64)"
   ]
  },
  {
   "cell_type": "code",
   "execution_count": null,
   "metadata": {
    "ExecuteTime": {
     "end_time": "2021-06-03T21:23:52.453247Z",
     "start_time": "2021-06-03T21:23:52.426175Z"
    }
   },
   "outputs": [],
   "source": [
    "gdf_pr['CD_GEOCODI'] = gdf_pr.CD_GEOCODI.astype(np.int64)"
   ]
  },
  {
   "cell_type": "code",
   "execution_count": null,
   "metadata": {
    "ExecuteTime": {
     "end_time": "2021-06-03T21:23:52.483346Z",
     "start_time": "2021-06-03T21:23:52.455171Z"
    }
   },
   "outputs": [],
   "source": [
    "gdf_pr = gdf_pr.merge(df_pr, on='CD_GEOCODI')"
   ]
  },
  {
   "cell_type": "code",
   "execution_count": null,
   "metadata": {
    "ExecuteTime": {
     "end_time": "2021-06-03T21:28:49.734100Z",
     "start_time": "2021-06-03T21:28:49.731067Z"
    }
   },
   "outputs": [],
   "source": [
    "gdf_pr['População'].fillna(value=0, inplace=True)"
   ]
  },
  {
   "cell_type": "code",
   "execution_count": null,
   "metadata": {
    "ExecuteTime": {
     "end_time": "2021-06-03T21:28:56.347568Z",
     "start_time": "2021-06-03T21:28:56.340567Z"
    }
   },
   "outputs": [],
   "source": [
    "gdf_pr['População'] = gdf_pr['População'].astype(np.int64)"
   ]
  },
  {
   "cell_type": "code",
   "execution_count": null,
   "metadata": {
    "ExecuteTime": {
     "end_time": "2021-06-03T21:28:58.576617Z",
     "start_time": "2021-06-03T21:28:58.546458Z"
    }
   },
   "outputs": [],
   "source": [
    "gdf_pr"
   ]
  },
  {
   "cell_type": "code",
   "execution_count": null,
   "metadata": {
    "ExecuteTime": {
     "end_time": "2021-06-03T21:29:18.703622Z",
     "start_time": "2021-06-03T21:29:17.697825Z"
    }
   },
   "outputs": [],
   "source": [
    "gdf_pr.reset_index(drop=True).to_feather('data/territorio/setores_2010_pr.ftd')"
   ]
  },
  {
   "cell_type": "markdown",
   "metadata": {},
   "source": [
    "# Simulando o comportamento da plotagem dos dados no APP"
   ]
  },
  {
   "cell_type": "code",
   "execution_count": null,
   "metadata": {
    "ExecuteTime": {
     "end_time": "2021-06-03T22:39:10.845876Z",
     "start_time": "2021-06-03T22:39:10.592706Z"
    }
   },
   "outputs": [],
   "source": [
    "gdf_pb = gpd.read_feather('data/territorio/setores_2010_pb.ftd')"
   ]
  },
  {
   "cell_type": "code",
   "execution_count": null,
   "metadata": {
    "ExecuteTime": {
     "end_time": "2021-06-03T22:39:06.693636Z",
     "start_time": "2021-06-03T22:39:06.651512Z"
    }
   },
   "outputs": [],
   "source": [
    "gdf_pb.to_"
   ]
  },
  {
   "cell_type": "code",
   "execution_count": null,
   "metadata": {
    "ExecuteTime": {
     "end_time": "2021-06-03T22:41:49.389127Z",
     "start_time": "2021-06-03T22:41:48.141070Z"
    }
   },
   "outputs": [],
   "source": [
    "gdf_pr = gpd.read_feather('data/territorio/setores_2010_pr.ftd')"
   ]
  },
  {
   "cell_type": "code",
   "execution_count": null,
   "metadata": {},
   "outputs": [],
   "source": []
  },
  {
   "cell_type": "code",
   "execution_count": null,
   "metadata": {
    "ExecuteTime": {
     "end_time": "2021-06-03T22:42:51.801102Z",
     "start_time": "2021-06-03T22:42:51.790209Z"
    }
   },
   "outputs": [],
   "source": [
    "gdf_pr = gdf_pr[gdf_pr['CD_GEOCODM'] == '4106902']"
   ]
  },
  {
   "cell_type": "code",
   "execution_count": null,
   "metadata": {
    "ExecuteTime": {
     "end_time": "2021-06-03T22:44:49.305192Z",
     "start_time": "2021-06-03T22:44:46.647423Z"
    }
   },
   "outputs": [],
   "source": [
    "long = gdf_pr.dissolve('CD_GEOCODM').centroid.x[0]\n",
    "lat = gdf_pr.dissolve('CD_GEOCODM').centroid.y[0]"
   ]
  },
  {
   "cell_type": "code",
   "execution_count": null,
   "metadata": {
    "ExecuteTime": {
     "end_time": "2021-06-03T22:45:27.388003Z",
     "start_time": "2021-06-03T22:45:26.039520Z"
    }
   },
   "outputs": [],
   "source": [
    "fig = px.choropleth_mapbox(\n",
    "    data_frame=gdf_pr\n",
    "    , geojson=gdf_pr.geometry\n",
    "#    , featureidkey=gdf.index\n",
    "    , locations=gdf_pr.index\n",
    "    , color='População'\n",
    "    , hover_name='CD_GEOCODI'\n",
    "    , hover_data=None\n",
    "    , zoom=9.5\n",
    "    ,center={\"lat\": lat, \"lon\": long}\n",
    "    , mapbox_style=\"carto-positron\"\n",
    "    , title=None\n",
    "    , template=None\n",
    "    , width=None\n",
    "    , height=None\n",
    "    , opacity=0.3\n",
    "    , color_continuous_scale='Bupu'\n",
    ")"
   ]
  },
  {
   "cell_type": "code",
   "execution_count": null,
   "metadata": {
    "ExecuteTime": {
     "end_time": "2021-06-03T22:45:30.460308Z",
     "start_time": "2021-06-03T22:45:27.628661Z"
    }
   },
   "outputs": [],
   "source": [
    "fig.show()"
   ]
  },
  {
   "cell_type": "code",
   "execution_count": null,
   "metadata": {},
   "outputs": [],
   "source": [
    "fig.to"
   ]
  },
  {
   "cell_type": "code",
   "execution_count": null,
   "metadata": {
    "ExecuteTime": {
     "end_time": "2021-06-03T22:29:14.821530Z",
     "start_time": "2021-06-03T22:29:14.573353Z"
    }
   },
   "outputs": [],
   "source": [
    "px.colors.sequential.swatches()"
   ]
  },
  {
   "cell_type": "markdown",
   "metadata": {},
   "source": [
    "## GEEMAP"
   ]
  },
  {
   "cell_type": "code",
   "execution_count": null,
   "metadata": {},
   "outputs": [],
   "source": [
    "import osr"
   ]
  },
  {
   "cell_type": "code",
   "execution_count": null,
   "metadata": {
    "ExecuteTime": {
     "end_time": "2021-06-03T18:54:22.359048Z",
     "start_time": "2021-06-03T18:54:21.106186Z"
    }
   },
   "outputs": [],
   "source": [
    "gdf = gpd.read_file('data/territorio/25SEE250GC_SIR.shp')"
   ]
  },
  {
   "cell_type": "code",
   "execution_count": null,
   "metadata": {},
   "outputs": [],
   "source": [
    "gdf = gdf.to_crs(\"EPSG:5880\")"
   ]
  },
  {
   "cell_type": "code",
   "execution_count": null,
   "metadata": {},
   "outputs": [],
   "source": [
    "#gdf = gdf.to_crs(\"EPSG:9001\")"
   ]
  },
  {
   "cell_type": "code",
   "execution_count": null,
   "metadata": {},
   "outputs": [],
   "source": [
    "gdf.rename(columns={'CD_GEOCODI':'Cod'}, inplace=True)"
   ]
  },
  {
   "cell_type": "code",
   "execution_count": null,
   "metadata": {},
   "outputs": [],
   "source": [
    "gdf.drop(labels=['ID', 'CD_GEOCODS', 'NM_SUBDIST', 'CD_GEOCODD', 'NM_DISTRIT', 'NM_MICRO', 'NM_MESO'], axis=1, inplace=True)"
   ]
  },
  {
   "cell_type": "code",
   "execution_count": null,
   "metadata": {
    "ExecuteTime": {
     "end_time": "2021-06-03T21:23:52.391346Z",
     "start_time": "2021-06-03T21:23:52.298686Z"
    }
   },
   "outputs": [],
   "source": [
    "df_pb_pop = pd.read_csv('data/pop/setores/PB/Basico_PB.csv', sep=';', usecols=['Cod_setor', 'V002'],encoding='ANSI')"
   ]
  },
  {
   "cell_type": "code",
   "execution_count": null,
   "metadata": {},
   "outputs": [],
   "source": [
    "df_pb_pop.columns = ['Cod', 'Pop']"
   ]
  },
  {
   "cell_type": "code",
   "execution_count": null,
   "metadata": {
    "ExecuteTime": {
     "end_time": "2021-06-03T21:23:52.422170Z",
     "start_time": "2021-06-03T21:23:52.408176Z"
    }
   },
   "outputs": [],
   "source": [
    "df_pb_pop['Cod'] = df_pb_pop.Cod.astype(np.int64)"
   ]
  },
  {
   "cell_type": "code",
   "execution_count": null,
   "metadata": {
    "ExecuteTime": {
     "end_time": "2021-06-03T21:28:49.734100Z",
     "start_time": "2021-06-03T21:28:49.731067Z"
    }
   },
   "outputs": [],
   "source": [
    "df_pb_pop['Pop'].fillna(value=0, inplace=True)"
   ]
  },
  {
   "cell_type": "code",
   "execution_count": null,
   "metadata": {
    "ExecuteTime": {
     "end_time": "2021-06-03T21:28:56.347568Z",
     "start_time": "2021-06-03T21:28:56.340567Z"
    }
   },
   "outputs": [],
   "source": [
    "df_pb_pop['Pop'] = df_pb_pop['Pop'].astype(np.int64)"
   ]
  },
  {
   "cell_type": "code",
   "execution_count": null,
   "metadata": {},
   "outputs": [],
   "source": [
    "df_pb_pop['Pop'].isna().sum()"
   ]
  },
  {
   "cell_type": "code",
   "execution_count": null,
   "metadata": {
    "ExecuteTime": {
     "end_time": "2021-06-03T21:23:52.453247Z",
     "start_time": "2021-06-03T21:23:52.426175Z"
    }
   },
   "outputs": [],
   "source": [
    "gdf['Cod'] = gdf.Cod.astype(np.int64)"
   ]
  },
  {
   "cell_type": "code",
   "execution_count": null,
   "metadata": {
    "ExecuteTime": {
     "end_time": "2021-06-03T21:23:52.483346Z",
     "start_time": "2021-06-03T21:23:52.455171Z"
    }
   },
   "outputs": [],
   "source": [
    "gdf = gdf.merge(df_pb_pop, on='Cod', how='left')"
   ]
  },
  {
   "cell_type": "code",
   "execution_count": null,
   "metadata": {},
   "outputs": [],
   "source": [
    "gdf['Pop'].fillna(value=0, inplace=True)"
   ]
  },
  {
   "cell_type": "code",
   "execution_count": null,
   "metadata": {},
   "outputs": [],
   "source": [
    "gdf['Pop'] = gdf['Pop'].astype(np.int64)"
   ]
  },
  {
   "cell_type": "code",
   "execution_count": null,
   "metadata": {},
   "outputs": [],
   "source": [
    "gdf.area.sum()"
   ]
  },
  {
   "cell_type": "code",
   "execution_count": null,
   "metadata": {},
   "outputs": [],
   "source": [
    "gdf['Area'] = gdf.area / 10000"
   ]
  },
  {
   "cell_type": "code",
   "execution_count": null,
   "metadata": {},
   "outputs": [],
   "source": [
    "gdf['Pop/ha'] = gdf['Pop'] / gdf['Area']"
   ]
  },
  {
   "cell_type": "code",
   "execution_count": null,
   "metadata": {},
   "outputs": [],
   "source": [
    "gdf.drop(labels=['AREA_HA'], axis=1, inplace=True)"
   ]
  },
  {
   "cell_type": "code",
   "execution_count": null,
   "metadata": {
    "ExecuteTime": {
     "end_time": "2021-06-03T19:55:33.303100Z",
     "start_time": "2021-06-03T19:55:32.448222Z"
    }
   },
   "outputs": [],
   "source": [
    "lon = gdf.dissolve(by='NM_MUNICIP').centroid.x[0]\n",
    "lat = gdf.dissolve(by='NM_MUNICIP').centroid.y[0]"
   ]
  },
  {
   "cell_type": "code",
   "execution_count": null,
   "metadata": {},
   "outputs": [],
   "source": [
    "gdf1 = gpd.read_file('data/territorio/25SEE250GC_SIR.shp')"
   ]
  },
  {
   "cell_type": "code",
   "execution_count": null,
   "metadata": {},
   "outputs": [],
   "source": [
    "gdf1.drop(labels=['ID', 'CD_GEOCODS', 'NM_SUBDIST', 'CD_GEOCODD', 'NM_DISTRIT', 'NM_MICRO', 'NM_MESO'], axis=1, inplace=True)"
   ]
  },
  {
   "cell_type": "code",
   "execution_count": null,
   "metadata": {},
   "outputs": [],
   "source": [
    "gdf1.rename(columns={'CD_GEOCODI':'Cod'}, inplace=True)"
   ]
  },
  {
   "cell_type": "code",
   "execution_count": null,
   "metadata": {},
   "outputs": [],
   "source": [
    "gdf1['Cod'] = gdf1['Cod'].astype(np.int64)"
   ]
  },
  {
   "cell_type": "code",
   "execution_count": null,
   "metadata": {},
   "outputs": [],
   "source": [
    "gdf1 = gdf1.merge(right=gdf[['Cod', 'Pop', 'Area', 'Pop/ha']], on='Cod', how='left')"
   ]
  },
  {
   "cell_type": "code",
   "execution_count": null,
   "metadata": {},
   "outputs": [],
   "source": [
    "gdf1 = gdf1[gdf1['CD_GEOCODM'] == '2507507']"
   ]
  },
  {
   "cell_type": "code",
   "execution_count": null,
   "metadata": {},
   "outputs": [],
   "source": [
    "lon = gdf1.dissolve(by='NM_MUNICIP').centroid.x[0]\n",
    "lat = gdf1.dissolve(by='NM_MUNICIP').centroid.y[0]"
   ]
  },
  {
   "cell_type": "code",
   "execution_count": null,
   "metadata": {},
   "outputs": [],
   "source": [
    "gdf1.to_file(\"teste_gpkg_joao_pessoa.gpkg\", driver=\"GPKG\")"
   ]
  },
  {
   "cell_type": "code",
   "execution_count": null,
   "metadata": {},
   "outputs": [],
   "source": [
    "gdf1 = gpd.gpd.read_file(\"teste_gpkg_joao_pessoa.gpkg\")"
   ]
  },
  {
   "cell_type": "code",
   "execution_count": null,
   "metadata": {},
   "outputs": [],
   "source": [
    "lon = gdf.dissolve(by='NM_MUNICIP').to_crs(\"EPSG:5880\").centroid.x[0]\n",
    "lat = gdf.dissolve(by='NM_MUNICIP').to_crs(\"EPSG:5880\").centroid.y[0]"
   ]
  },
  {
   "cell_type": "code",
   "execution_count": null,
   "metadata": {},
   "outputs": [],
   "source": [
    "fig = px.choropleth_mapbox(\n",
    "    data_frame=gdf1\n",
    "    , geojson=gdf1.geometry\n",
    "#    , featureidkey=gdf.index\n",
    "    , locations=gdf1.index\n",
    "    , color='Pop/ha'\n",
    "#    , hover_name='CD_GEOCODI'\n",
    "    , hover_data=None\n",
    "    , zoom=11\n",
    "    ,center={\"lat\": lat, \"lon\": lon}\n",
    "    , mapbox_style=\"carto-positron\"\n",
    "    , title=None\n",
    "    , template=None\n",
    "    , width=None\n",
    "    , height=None\n",
    "    , opacity=0.3\n",
    ")\n",
    "\n",
    "fig.update_geos(fitbounds=\"geojson\", visible=True)"
   ]
  },
  {
   "cell_type": "code",
   "execution_count": null,
   "metadata": {},
   "outputs": [],
   "source": [
    "import plotly.io as pio"
   ]
  },
  {
   "cell_type": "code",
   "execution_count": null,
   "metadata": {},
   "outputs": [],
   "source": [
    "pio.write_json(fig, 'teste_fig_map_joao_pessoa.json')"
   ]
  },
  {
   "cell_type": "code",
   "execution_count": null,
   "metadata": {},
   "outputs": [],
   "source": [
    "pio.read_json('teste_fig_map_joao_pessoa.json')"
   ]
  },
  {
   "cell_type": "code",
   "execution_count": null,
   "metadata": {
    "ExecuteTime": {
     "end_time": "2021-06-03T19:34:50.773206Z",
     "start_time": "2021-06-03T19:34:49.291036Z"
    }
   },
   "outputs": [],
   "source": [
    "gdf.to_file(\"data/territorio/2507507.geojson\", driver=\"GeoJSON\")"
   ]
  },
  {
   "cell_type": "code",
   "execution_count": null,
   "metadata": {
    "ExecuteTime": {
     "end_time": "2021-06-03T18:58:30.611768Z",
     "start_time": "2021-06-03T18:58:30.583283Z"
    }
   },
   "outputs": [],
   "source": [
    "gdf = gdf[gdf['CD_GEOCODM'] == '2507507']"
   ]
  },
  {
   "cell_type": "code",
   "execution_count": null,
   "metadata": {
    "ExecuteTime": {
     "end_time": "2021-06-03T19:53:56.685760Z",
     "start_time": "2021-06-03T19:53:56.680960Z"
    }
   },
   "outputs": [],
   "source": [
    "gdf.columns"
   ]
  },
  {
   "cell_type": "code",
   "execution_count": null,
   "metadata": {
    "ExecuteTime": {
     "end_time": "2021-06-03T19:55:33.303100Z",
     "start_time": "2021-06-03T19:55:32.448222Z"
    }
   },
   "outputs": [],
   "source": [
    "long = gdf.dissolve(by='NM_MUNICIP').centroid.x[0]\n",
    "lat = gdf.dissolve(by='NM_MUNICIP').centroid.y[0]"
   ]
  },
  {
   "cell_type": "code",
   "execution_count": null,
   "metadata": {
    "ExecuteTime": {
     "end_time": "2021-06-03T19:57:08.567071Z",
     "start_time": "2021-06-03T19:57:08.530842Z"
    }
   },
   "outputs": [],
   "source": [
    "long = gdf_joao_pessoa.centroid.x[0]"
   ]
  },
  {
   "cell_type": "code",
   "execution_count": null,
   "metadata": {
    "ExecuteTime": {
     "end_time": "2021-06-03T19:57:13.775222Z",
     "start_time": "2021-06-03T19:57:13.729744Z"
    }
   },
   "outputs": [],
   "source": [
    "lat = gdf_joao_pessoa.centroid.y[0]"
   ]
  },
  {
   "cell_type": "code",
   "execution_count": null,
   "metadata": {
    "ExecuteTime": {
     "end_time": "2021-06-03T19:35:30.753966Z",
     "start_time": "2021-06-03T19:35:30.693277Z"
    }
   },
   "outputs": [],
   "source": [
    "with open(\"data/territorio/2507507.geojson\") as file:\n",
    "    geojson_mun = json.load(file)"
   ]
  },
  {
   "cell_type": "code",
   "execution_count": null,
   "metadata": {},
   "outputs": [],
   "source": []
  },
  {
   "cell_type": "code",
   "execution_count": null,
   "metadata": {},
   "outputs": [],
   "source": [
    "gdf"
   ]
  },
  {
   "cell_type": "code",
   "execution_count": null,
   "metadata": {
    "ExecuteTime": {
     "end_time": "2021-06-03T20:04:23.481537Z",
     "start_time": "2021-06-03T20:04:19.818415Z"
    }
   },
   "outputs": [],
   "source": [
    "px.choropleth_mapbox(\n",
    "    data_frame=gdf\n",
    "    , geojson=geojson_mun\n",
    "    , featureidkey='properties.CD_GEOCODI'\n",
    "    , locations='CD_GEOCODI'\n",
    "    , color='TIPO'\n",
    "    , hover_name='CD_GEOCODI'\n",
    "    , hover_data=None\n",
    "    , zoom=11\n",
    "    ,center={\"lat\": lat, \"lon\": long}\n",
    "    , mapbox_style=\"carto-positron\"\n",
    "    , title=None\n",
    "    , template=None\n",
    "    , width=None\n",
    "    , height=None\n",
    "    , opacity=0.1\n",
    ")"
   ]
  },
  {
   "cell_type": "code",
   "execution_count": null,
   "metadata": {},
   "outputs": [],
   "source": [
    "# SIRGAS 2000 / Brazil Polyconic\n",
    "world = world.to_crs(\"EPSG:5880\")"
   ]
  },
  {
   "cell_type": "code",
   "execution_count": null,
   "metadata": {},
   "outputs": [],
   "source": []
  },
  {
   "cell_type": "code",
   "execution_count": null,
   "metadata": {
    "ExecuteTime": {
     "end_time": "2021-06-03T20:20:06.125398Z",
     "start_time": "2021-06-03T20:20:05.748318Z"
    }
   },
   "outputs": [],
   "source": [
    "gdf1 = gpd.read_file('data/territorio/25SEE250GC_SIR.shp')"
   ]
  },
  {
   "cell_type": "code",
   "execution_count": null,
   "metadata": {
    "ExecuteTime": {
     "end_time": "2021-06-03T20:20:08.319767Z",
     "start_time": "2021-06-03T20:20:08.302767Z"
    }
   },
   "outputs": [],
   "source": [
    "gdf1.drop(labels=['ID', 'CD_GEOCODS', 'NM_SUBDIST', 'CD_GEOCODD', 'NM_DISTRIT', 'NM_MICRO', 'NM_MESO'], axis=1, inplace=True)"
   ]
  },
  {
   "cell_type": "code",
   "execution_count": null,
   "metadata": {
    "ExecuteTime": {
     "end_time": "2021-06-03T20:15:45.803252Z",
     "start_time": "2021-06-03T20:15:45.789679Z"
    }
   },
   "outputs": [],
   "source": [
    "gdf1 = gdf1[gdf1['NM_MUNICIP'] == 'CAMPINA GRANDE']"
   ]
  },
  {
   "cell_type": "code",
   "execution_count": null,
   "metadata": {
    "ExecuteTime": {
     "end_time": "2021-06-03T20:16:20.653863Z",
     "start_time": "2021-06-03T20:16:19.155983Z"
    }
   },
   "outputs": [],
   "source": [
    "px.choropleth_mapbox(\n",
    "    data_frame=gdf\n",
    "    , geojson=gdf.geometry\n",
    "#    , featureidkey=gdf.index\n",
    "    , locations=gdf.index\n",
    "    , color='TIPO'\n",
    "    , hover_name='CD_GEOCODI'\n",
    "    , hover_data=None\n",
    "    , zoom=11\n",
    "    ,center={\"lat\": lat, \"lon\": lon}\n",
    "    , mapbox_style=\"carto-positron\"\n",
    "    , title=None\n",
    "    , template=None\n",
    "    , width=None\n",
    "    , height=None\n",
    "    , opacity=0.1\n",
    ")"
   ]
  },
  {
   "cell_type": "markdown",
   "metadata": {},
   "source": [
    "Creating Function"
   ]
  },
  {
   "cell_type": "code",
   "execution_count": null,
   "metadata": {},
   "outputs": [],
   "source": [
    "def treat_sectors_shp(ufs):\n",
    "    \n",
    "    dict_ufs = {\n",
    "        'RO':'11',\n",
    "        'AC':'12',\n",
    "        'AM':'13',\n",
    "        'RO':'14',\n",
    "        'PA':'15',\n",
    "        'AM':'16',\n",
    "        'TO':'17',\n",
    "        'MA':'21',\n",
    "        'PI':'22',\n",
    "        'CE':'23',\n",
    "        'RN':'24',\n",
    "        'PB':'25',\n",
    "        'PE':'26',\n",
    "        'AL':'27',\n",
    "        'SE':'28',\n",
    "        'BA':'29',\n",
    "        'MG':'31',\n",
    "        'ES':'32',\n",
    "        'RJ':'33',\n",
    "        'SP':'35',\n",
    "        'PR':'41',\n",
    "        'SC':'42',\n",
    "        'RS':'43',\n",
    "        'MS':'50',\n",
    "        'MT':'51',\n",
    "        'GO':'52',\n",
    "        'DF':'53'\n",
    "    }\n",
    "    \n",
    "    for uf in ufs:\n",
    "        gdf = gpd.read_file(f'data/territorio/setores2010/{uf}/{dict_ufs[uf]}SEE250GC_SIR.shp')\n",
    "\n",
    "        gdf = gdf.to_crs(\"EPSG:5880\")\n",
    "\n",
    "        gdf.rename(columns={'CD_GEOCODI':'Cod'}, inplace=True)\n",
    "\n",
    "        gdf.drop(labels=['ID', 'CD_GEOCODS', 'NM_SUBDIST', 'CD_GEOCODD', 'NM_DISTRIT', 'NM_MICRO', 'NM_MESO'], axis=1, inplace=True)\n",
    "\n",
    "        df_pb_pop = pd.read_csv(f'data/pop/setores/{uf}/Basico_{uf}.csv', sep=';', usecols=['Cod_setor', 'V002'],encoding='ANSI')\n",
    "\n",
    "        df_pb_pop.columns = ['Cod', 'Pop']\n",
    "\n",
    "        df_pb_pop['Cod'] = df_pb_pop.Cod.astype(np.int64)\n",
    "\n",
    "        df_pb_pop['Pop'].fillna(value=0, inplace=True)\n",
    "\n",
    "        df_pb_pop['Pop'] = df_pb_pop['Pop'].astype(np.int64)\n",
    "\n",
    "        gdf['Cod'] = gdf.Cod.astype(np.int64)\n",
    "\n",
    "        gdf = gdf.merge(df_pb_pop, on='Cod', how='left')\n",
    "\n",
    "        gdf['Pop'].fillna(value=0, inplace=True)\n",
    "\n",
    "        gdf['Pop'] = gdf['Pop'].astype(np.int64)\n",
    "\n",
    "        gdf['Area'] = gdf.area / 10000\n",
    "\n",
    "        gdf['Pop/ha'] = gdf['Pop'] / gdf['Area']\n",
    "\n",
    "        gdf.drop(labels=['AREA_HA'], axis=1, inplace=True)\n",
    "\n",
    "        gdf1 = gpd.read_file(f'data/territorio/setores2010/{uf}/{dict_ufs[uf]}SEE250GC_SIR.shp')\n",
    "\n",
    "        gdf1.drop(labels=['ID', 'CD_GEOCODS', 'NM_SUBDIST', 'CD_GEOCODD', 'NM_DISTRIT', 'NM_MICRO', 'NM_MESO'], axis=1, inplace=True)\n",
    "\n",
    "        gdf1.rename(columns={'CD_GEOCODI':'Cod'}, inplace=True)\n",
    "\n",
    "        gdf1['Cod'] = gdf1['Cod'].astype(np.int64)\n",
    "\n",
    "        gdf1 = gdf1.merge(right=gdf[['Cod', 'Pop', 'Area', 'Pop/ha']], on='Cod', how='left')            \n",
    "        \n",
    "        return gdf1"
   ]
  },
  {
   "cell_type": "code",
   "execution_count": null,
   "metadata": {},
   "outputs": [],
   "source": [
    "def save_sectors_geodataframe(gdf, uf):\n",
    "    for cod_mun in gdf.CD_GEOCODM.unique():\n",
    "        os.makedirs(f'data/territorio/setores2010/{uf}/{cod_mun}/', exist_ok=True)\n",
    "        gdf.loc[gdf['CD_GEOCODM'] == cod_mun].to_pickle(f'data/territorio/setores2010/{uf}/{cod_mun}/{cod_mun}.pkl')\n",
    "        print(f'{cod_mun}saved.')"
   ]
  },
  {
   "cell_type": "code",
   "execution_count": null,
   "metadata": {},
   "outputs": [],
   "source": [
    "gdf = treat_sectors_shp(ufs=['PB'])"
   ]
  },
  {
   "cell_type": "code",
   "execution_count": null,
   "metadata": {},
   "outputs": [],
   "source": [
    "save_sectors_geodataframe(gdf=gdf, uf='PB')"
   ]
  },
  {
   "cell_type": "code",
   "execution_count": null,
   "metadata": {},
   "outputs": [],
   "source": [
    "gdf1 = pd.read_pickle('data/territorio/setores2010/PB/2507507/2507507.pkl')"
   ]
  },
  {
   "cell_type": "code",
   "execution_count": null,
   "metadata": {},
   "outputs": [],
   "source": [
    "gdf1.to_file(\"countries.shp\")"
   ]
  },
  {
   "cell_type": "code",
   "execution_count": null,
   "metadata": {},
   "outputs": [],
   "source": [
    "lon = gdf1.dissolve(by='NM_MUNICIP').centroid.x[0]\n",
    "lat = gdf1.dissolve(by='NM_MUNICIP').centroid.y[0]"
   ]
  },
  {
   "cell_type": "code",
   "execution_count": null,
   "metadata": {},
   "outputs": [],
   "source": [
    "fig = px.choropleth_mapbox(\n",
    "    data_frame=gdf1\n",
    "    , geojson=gdf1.geometry\n",
    "#    , featureidkey=gdf.index\n",
    "    , locations=gdf1.index\n",
    "    , color='Pop/ha'\n",
    "#    , hover_name='CD_GEOCODI'\n",
    "    , hover_data=None\n",
    "    , zoom=11\n",
    "    ,center={\"lat\": lat, \"lon\": lon}\n",
    "    , mapbox_style=\"carto-positron\"\n",
    "    , title=None\n",
    "    , template=None\n",
    "    , width=None\n",
    "    , height=None\n",
    "    , opacity=0.3\n",
    ")\n",
    "\n",
    "fig.update_geos(fitbounds=\"geojson\", visible=True)"
   ]
  },
  {
   "cell_type": "code",
   "execution_count": null,
   "metadata": {},
   "outputs": [],
   "source": [
    "import cloudpickle as cp"
   ]
  },
  {
   "cell_type": "code",
   "execution_count": null,
   "metadata": {},
   "outputs": [],
   "source": [
    "from urllib.request import urlopen\n",
    "zipfile = urlopen(\"https://github.com/augustogeog/python_demo/blob/30b1ec2dfccfc435b14f3708cd3d021b7c1637f3/data/territorio/setores2010/PB/2500106/2500106.pkl?raw=true\", 'rb')"
   ]
  },
  {
   "cell_type": "code",
   "execution_count": null,
   "metadata": {},
   "outputs": [],
   "source": []
  },
  {
   "cell_type": "code",
   "execution_count": null,
   "metadata": {},
   "outputs": [],
   "source": [
    "from urllib.request import urlopen\n",
    "import pickle\n",
    "loaded_pickle_object = pickle.loads(urlopen(\"https://github.com/augustogeog/python_demo/blob/main/data/territorio/setores2010/PB/2500106/2500106.pkl?raw=true\", 'rb'))"
   ]
  },
  {
   "cell_type": "code",
   "execution_count": null,
   "metadata": {},
   "outputs": [],
   "source": []
  },
  {
   "cell_type": "code",
   "execution_count": null,
   "metadata": {},
   "outputs": [],
   "source": []
  },
  {
   "cell_type": "code",
   "execution_count": null,
   "metadata": {},
   "outputs": [],
   "source": []
  },
  {
   "cell_type": "code",
   "execution_count": null,
   "metadata": {},
   "outputs": [],
   "source": [
    "gdf1.loc[gdf1['CD_GEOCODM'] == '2507507']['NM_MUNICIP'].unique()[0]"
   ]
  },
  {
   "cell_type": "code",
   "execution_count": null,
   "metadata": {},
   "outputs": [],
   "source": [
    "gdf1 = gdf1.loc[gdf1['NM_MUNICIP'] == 'JOÃO PESSOA']"
   ]
  },
  {
   "cell_type": "code",
   "execution_count": null,
   "metadata": {},
   "outputs": [],
   "source": [
    "gdf1 = treat_sectors_shp(ufs=['PB'])"
   ]
  },
  {
   "cell_type": "code",
   "execution_count": null,
   "metadata": {},
   "outputs": [],
   "source": [
    "gdf1 = gdf1.loc[gdf1['NM_MUNICIP'] == 'JOÃO PESSOA']"
   ]
  },
  {
   "cell_type": "code",
   "execution_count": null,
   "metadata": {},
   "outputs": [],
   "source": [
    "gdf1.to_pickle('teste.zip', compression='zip')"
   ]
  },
  {
   "cell_type": "code",
   "execution_count": null,
   "metadata": {},
   "outputs": [],
   "source": [
    "gdf1.NM_MUNICIP.unique()[0]"
   ]
  },
  {
   "cell_type": "code",
   "execution_count": null,
   "metadata": {},
   "outputs": [],
   "source": []
  },
  {
   "cell_type": "code",
   "execution_count": null,
   "metadata": {},
   "outputs": [],
   "source": [
    "gdf1.info()"
   ]
  },
  {
   "cell_type": "code",
   "execution_count": null,
   "metadata": {},
   "outputs": [],
   "source": [
    "gdf1"
   ]
  },
  {
   "cell_type": "code",
   "execution_count": null,
   "metadata": {},
   "outputs": [],
   "source": [
    "/    gdf1 = gdf1[gdf1['CD_GEOCODM'] == '2507507']"
   ]
  },
  {
   "cell_type": "code",
   "execution_count": null,
   "metadata": {},
   "outputs": [],
   "source": [
    "lon = gdf1.dissolve(by='NM_MUNICIP').centroid.x[0]\n",
    "lat = gdf1.dissolve(by='NM_MUNICIP').centroid.y[0]"
   ]
  },
  {
   "cell_type": "code",
   "execution_count": null,
   "metadata": {},
   "outputs": [],
   "source": [
    "gdf1.to_file(\"teste_gpkg_joao_pessoa.gpkg\", driver=\"GPKG\")"
   ]
  },
  {
   "cell_type": "code",
   "execution_count": null,
   "metadata": {},
   "outputs": [],
   "source": [
    "gdf1 = gpd.gpd.read_file(\"teste_gpkg_joao_pessoa.gpkg\")"
   ]
  }
 ],
 "metadata": {
  "kernelspec": {
   "display_name": "aulas",
   "language": "python",
   "name": "aulas"
  },
  "language_info": {
   "codemirror_mode": {
    "name": "ipython",
    "version": 3
   },
   "file_extension": ".py",
   "mimetype": "text/x-python",
   "name": "python",
   "nbconvert_exporter": "python",
   "pygments_lexer": "ipython3",
   "version": "3.6.10"
  }
 },
 "nbformat": 4,
 "nbformat_minor": 4
}
