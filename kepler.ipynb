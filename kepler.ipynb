{
 "cells": [
  {
   "cell_type": "code",
   "execution_count": 126,
   "id": "eb442c97-22c1-4fad-a3d8-a0fbd51315c5",
   "metadata": {},
   "outputs": [],
   "source": [
    "import geopandas as gpd\n",
    "import pandas as pd\n",
    "import numpy as np\n",
    "import plotly.express as px\n",
    "from keplergl import KeplerGl\n",
    "from keplergl import documentation\n",
    "import pickle"
   ]
  },
  {
   "cell_type": "code",
   "execution_count": 116,
   "id": "788bc15e-1bd8-466c-8868-5a61fe320f94",
   "metadata": {},
   "outputs": [],
   "source": [
    "df_maringa = pd.read_csv('data/pop/commuting/coordenadas_aglomerado_maringa.csv', sep=';', thousands='.', decimal=',')\n",
    "\n",
    "df_maringa = df_maringa[df_maringa['Arranjo'] == True]"
   ]
  },
  {
   "cell_type": "code",
   "execution_count": 117,
   "id": "f9d4d4c1-6dca-4b31-aff7-a2ce0285ef6a",
   "metadata": {},
   "outputs": [
    {
     "name": "stdout",
     "output_type": "stream",
     "text": [
      "User Guide: https://docs.kepler.gl/docs/keplergl-jupyter\n"
     ]
    }
   ],
   "source": [
    "kepler_map = KeplerGl(height=400, width=600)"
   ]
  },
  {
   "cell_type": "code",
   "execution_count": 118,
   "id": "50d3ed36-b4f8-4f86-b7b6-e5eb2f982a6d",
   "metadata": {},
   "outputs": [],
   "source": [
    "kepler_map.add_data(data=df_maringa, name='Commuting_Maringa')\n",
    "\n",
    "kepler_map.add_data(data=gdf, name='Municipios_Arranjo')"
   ]
  },
  {
   "cell_type": "code",
   "execution_count": 121,
   "id": "38b95707-83ba-4b77-a6d0-c9642d769c78",
   "metadata": {},
   "outputs": [],
   "source": [
    "kepler_map.config = config"
   ]
  },
  {
   "cell_type": "code",
   "execution_count": 133,
   "id": "bf7b7728-42cf-472a-b04e-18c366f51874",
   "metadata": {},
   "outputs": [],
   "source": [
    "config = kepler_map.config"
   ]
  },
  {
   "cell_type": "code",
   "execution_count": 122,
   "id": "be2488a9-9c5a-4c00-af3f-f354a891c759",
   "metadata": {},
   "outputs": [
    {
     "name": "stdout",
     "output_type": "stream",
     "text": [
      "User Guide: https://docs.kepler.gl/docs/keplergl-jupyter\n"
     ]
    }
   ],
   "source": [
    "kepler_map2 = KeplerGl(height=400, width=600)"
   ]
  },
  {
   "cell_type": "code",
   "execution_count": 123,
   "id": "a35638fe-23e2-4ad1-957c-dd27061cc4d5",
   "metadata": {},
   "outputs": [],
   "source": [
    "kepler_map2.add_data(data=df_maringa, name='Commuting_Maringa')\n",
    "\n",
    "kepler_map2.add_data(data=gdf, name='Municipios_Arranjo')"
   ]
  },
  {
   "cell_type": "code",
   "execution_count": 124,
   "id": "c24261bf-87d5-4857-a397-1e5cb6425e8b",
   "metadata": {},
   "outputs": [],
   "source": [
    "kepler_map2.config = config"
   ]
  },
  {
   "cell_type": "code",
   "execution_count": 125,
   "id": "4cf3ac27-6fda-4938-94f7-5bdd4bf340a0",
   "metadata": {},
   "outputs": [
    {
     "data": {
      "application/vnd.jupyter.widget-view+json": {
       "model_id": "d6b48ea8df5b498ba95a0f743e2d56e5",
       "version_major": 2,
       "version_minor": 0
      },
      "text/plain": [
       "KeplerGl(config={'version': 'v1', 'config': {'visState': {'filters': [], 'layers': [{'id': 'e9q15zm', 'type': …"
      ]
     },
     "metadata": {},
     "output_type": "display_data"
    }
   ],
   "source": [
    "kepler_map2"
   ]
  },
  {
   "cell_type": "code",
   "execution_count": 134,
   "id": "a79f8024-8ff2-4a6e-8b70-8ca10e5737c0",
   "metadata": {},
   "outputs": [],
   "source": [
    "a_file = open(\"data.pkl\", \"wb\")"
   ]
  },
  {
   "cell_type": "code",
   "execution_count": 135,
   "id": "78be11d2-7d30-43aa-8da7-4d5a1ae37aef",
   "metadata": {},
   "outputs": [],
   "source": [
    "pickle.dump(config, a_file)\n",
    "a_file.close()"
   ]
  },
  {
   "cell_type": "code",
   "execution_count": 130,
   "id": "c802f731-46c3-4254-af5b-5475ef0ccb2b",
   "metadata": {},
   "outputs": [],
   "source": [
    "with open(\"data.pkl\", \"rb\") as a_file:\n",
    "    dict_config = pickle.load(a_file)\n",
    "    "
   ]
  },
  {
   "cell_type": "code",
   "execution_count": 131,
   "id": "b018bd48-a6e3-477a-b25b-b4a26abd5bb9",
   "metadata": {},
   "outputs": [
    {
     "name": "stdout",
     "output_type": "stream",
     "text": [
      "{'version': 'v1', 'config': {'visState': {'filters': [], 'layers': [{'id': 'e9q15zm', 'type': 'arc', 'config': {'dataId': 'Commuting_Maringa', 'label': 'point', 'color': [136, 87, 44], 'columns': {'lat0': 'point_latitude', 'lng0': 'point_longitude', 'lat1': 'point_latitude.1', 'lng1': 'point_longitude.1'}, 'isVisible': True, 'visConfig': {'opacity': 0.8, 'thickness': 2, 'colorRange': {'name': 'ColorBrewer OrRd-6', 'type': 'sequential', 'category': 'ColorBrewer', 'colors': ['#fef0d9', '#fdd49e', '#fdbb84', '#fc8d59', '#e34a33', '#b30000']}, 'sizeRange': [0, 10], 'targetColor': None}, 'hidden': False, 'textLabel': [{'field': None, 'color': [255, 255, 255], 'size': 18, 'offset': [0, 0], 'anchor': 'start', 'alignment': 'center'}]}, 'visualChannels': {'colorField': {'name': 'Movimento_Pendular', 'type': 'integer'}, 'colorScale': 'quantile', 'sizeField': {'name': 'Movimento_Pendular', 'type': 'integer'}, 'sizeScale': 'linear'}}, {'id': '4i2fd3g', 'type': 'geojson', 'config': {'dataId': 'Municipios_Arranjo', 'label': 'Municipios_Arranjo', 'color': [255, 153, 31], 'columns': {'geojson': 'geometry'}, 'isVisible': True, 'visConfig': {'opacity': 0.8, 'strokeOpacity': 0.8, 'thickness': 2.1, 'strokeColor': [129, 116, 107], 'colorRange': {'name': 'Global Warming', 'type': 'sequential', 'category': 'Uber', 'colors': ['#5A1846', '#900C3F', '#C70039', '#E3611C', '#F1920E', '#FFC300']}, 'strokeColorRange': {'name': 'Global Warming', 'type': 'sequential', 'category': 'Uber', 'colors': ['#5A1846', '#900C3F', '#C70039', '#E3611C', '#F1920E', '#FFC300']}, 'radius': 10, 'sizeRange': [0, 10], 'radiusRange': [0, 50], 'heightRange': [0, 500], 'elevationScale': 5, 'enableElevationZoomFactor': True, 'stroked': True, 'filled': False, 'enable3d': False, 'wireframe': False}, 'hidden': False, 'textLabel': [{'field': None, 'color': [255, 255, 255], 'size': 18, 'offset': [0, 0], 'anchor': 'start', 'alignment': 'center'}]}, 'visualChannels': {'colorField': None, 'colorScale': 'quantile', 'strokeColorField': None, 'strokeColorScale': 'quantile', 'sizeField': None, 'sizeScale': 'linear', 'heightField': None, 'heightScale': 'linear', 'radiusField': None, 'radiusScale': 'linear'}}], 'interactionConfig': {'tooltip': {'fieldsToShow': {'Commuting_Maringa': [{'name': 'cod_origem', 'format': None}, {'name': 'Mun_origem', 'format': None}, {'name': 'cod_destino', 'format': None}, {'name': 'Mun_destino', 'format': None}, {'name': 'Movimento_Pendular', 'format': None}], 'Municipios_Arranjo': [{'name': 'CodMunic', 'format': None}, {'name': 'NomMunic', 'format': None}, {'name': 'CodArranjo', 'format': None}, {'name': 'NomeArranj', 'format': None}, {'name': 'Shape_Leng', 'format': None}]}, 'compareMode': False, 'compareType': 'absolute', 'enabled': True}, 'brush': {'size': 0.5, 'enabled': False}, 'geocoder': {'enabled': False}, 'coordinate': {'enabled': False}}, 'layerBlending': 'normal', 'splitMaps': [], 'animationConfig': {'currentTime': None, 'speed': 1}}, 'mapState': {'bearing': 24, 'dragRotate': True, 'latitude': -23.40153385173574, 'longitude': -51.97410213677811, 'pitch': 50, 'zoom': 10.330065763050756, 'isSplit': False}, 'mapStyle': {'styleType': 'light', 'topLayerGroups': {}, 'visibleLayerGroups': {'label': True, 'road': True, 'border': False, 'building': True, 'water': True, 'land': True, '3d building': False}, 'threeDBuildingColor': [9.665468314072013, 17.18305478057247, 31.1442867897876], 'mapStyles': {}}}}\n"
     ]
    }
   ],
   "source": [
    "print(dict_config)"
   ]
  },
  {
   "cell_type": "code",
   "execution_count": null,
   "id": "ec0eb0fa-6499-4913-8a45-13a4cef7fbaa",
   "metadata": {},
   "outputs": [],
   "source": [
    "a_file = open(\"data.pkl\", \"rb\")\n",
    "output = pickle.load(a_file)\n",
    "print(output)\n",
    "OUTPUT\n",
    "{'a': 1, 'b': 2}\n",
    "a_file.close()"
   ]
  },
  {
   "cell_type": "code",
   "execution_count": null,
   "id": "dba4033f-f404-4406-a1c0-2c99e520387a",
   "metadata": {},
   "outputs": [],
   "source": []
  },
  {
   "cell_type": "code",
   "execution_count": null,
   "id": "3ad5bec8-582b-4fca-9211-3aa02bbe47fe",
   "metadata": {},
   "outputs": [],
   "source": []
  },
  {
   "cell_type": "code",
   "execution_count": 55,
   "id": "8b57a789-d60a-4c7c-8418-91ddc58375e8",
   "metadata": {},
   "outputs": [],
   "source": [
    "gdf = gpd.read_file(f'data/territorio/municipalities/arranjos_pop/4115200/arranjo_4115200_municipalities.zip/')"
   ]
  },
  {
   "cell_type": "code",
   "execution_count": 58,
   "id": "9e460623-fcef-4fa7-ae50-2caaf674fa68",
   "metadata": {},
   "outputs": [],
   "source": [
    "gdf.to_clipboard()"
   ]
  },
  {
   "cell_type": "code",
   "execution_count": 68,
   "id": "de31afc3-feba-43c7-b8a9-8381cf916f98",
   "metadata": {},
   "outputs": [
    {
     "data": {
      "text/html": [
       "<div>\n",
       "<style scoped>\n",
       "    .dataframe tbody tr th:only-of-type {\n",
       "        vertical-align: middle;\n",
       "    }\n",
       "\n",
       "    .dataframe tbody tr th {\n",
       "        vertical-align: top;\n",
       "    }\n",
       "\n",
       "    .dataframe thead th {\n",
       "        text-align: right;\n",
       "    }\n",
       "</style>\n",
       "<table border=\"1\" class=\"dataframe\">\n",
       "  <thead>\n",
       "    <tr style=\"text-align: right;\">\n",
       "      <th></th>\n",
       "      <th>CodMunic</th>\n",
       "      <th>NomMunic</th>\n",
       "      <th>CodArranjo</th>\n",
       "      <th>NomeArranj</th>\n",
       "      <th>Shape_Leng</th>\n",
       "      <th>Shape_Area</th>\n",
       "      <th>geometry</th>\n",
       "    </tr>\n",
       "  </thead>\n",
       "  <tbody>\n",
       "    <tr>\n",
       "      <th>0</th>\n",
       "      <td>4126256</td>\n",
       "      <td>Sarandi</td>\n",
       "      <td>4115200</td>\n",
       "      <td>Maringá/PR</td>\n",
       "      <td>0.544905</td>\n",
       "      <td>0.009124</td>\n",
       "      <td>POLYGON ((-51.85103 -23.45480, -51.85120 -23.4...</td>\n",
       "    </tr>\n",
       "    <tr>\n",
       "      <th>1</th>\n",
       "      <td>4107900</td>\n",
       "      <td>Floresta</td>\n",
       "      <td>4115200</td>\n",
       "      <td>Maringá/PR</td>\n",
       "      <td>0.693632</td>\n",
       "      <td>0.013973</td>\n",
       "      <td>POLYGON ((-52.10027 -23.51966, -51.99975 -23.5...</td>\n",
       "    </tr>\n",
       "    <tr>\n",
       "      <th>2</th>\n",
       "      <td>4110003</td>\n",
       "      <td>Iguaraçu</td>\n",
       "      <td>4115200</td>\n",
       "      <td>Maringá/PR</td>\n",
       "      <td>0.700300</td>\n",
       "      <td>0.014586</td>\n",
       "      <td>POLYGON ((-51.93937 -23.26395, -51.93764 -23.2...</td>\n",
       "    </tr>\n",
       "    <tr>\n",
       "      <th>3</th>\n",
       "      <td>4111100</td>\n",
       "      <td>Itambé</td>\n",
       "      <td>4115200</td>\n",
       "      <td>Maringá/PR</td>\n",
       "      <td>0.953027</td>\n",
       "      <td>0.021592</td>\n",
       "      <td>POLYGON ((-52.04382 -23.81097, -52.04682 -23.8...</td>\n",
       "    </tr>\n",
       "    <tr>\n",
       "      <th>4</th>\n",
       "      <td>4114104</td>\n",
       "      <td>Mandaguaçu</td>\n",
       "      <td>4115200</td>\n",
       "      <td>Maringá/PR</td>\n",
       "      <td>0.953086</td>\n",
       "      <td>0.025926</td>\n",
       "      <td>POLYGON ((-51.96254 -23.16162, -51.96456 -23.1...</td>\n",
       "    </tr>\n",
       "    <tr>\n",
       "      <th>5</th>\n",
       "      <td>4114807</td>\n",
       "      <td>Marialva</td>\n",
       "      <td>4115200</td>\n",
       "      <td>Maringá/PR</td>\n",
       "      <td>1.998283</td>\n",
       "      <td>0.042075</td>\n",
       "      <td>POLYGON ((-51.99975 -23.55657, -51.99758 -23.5...</td>\n",
       "    </tr>\n",
       "    <tr>\n",
       "      <th>6</th>\n",
       "      <td>4115200</td>\n",
       "      <td>Maringá</td>\n",
       "      <td>4115200</td>\n",
       "      <td>Maringá/PR</td>\n",
       "      <td>1.267123</td>\n",
       "      <td>0.043022</td>\n",
       "      <td>POLYGON ((-52.09499 -23.40034, -52.09028 -23.3...</td>\n",
       "    </tr>\n",
       "    <tr>\n",
       "      <th>7</th>\n",
       "      <td>4117404</td>\n",
       "      <td>Ourizona</td>\n",
       "      <td>4115200</td>\n",
       "      <td>Maringá/PR</td>\n",
       "      <td>0.731737</td>\n",
       "      <td>0.015622</td>\n",
       "      <td>POLYGON ((-52.30483 -23.57298, -52.30955 -23.5...</td>\n",
       "    </tr>\n",
       "    <tr>\n",
       "      <th>8</th>\n",
       "      <td>4117503</td>\n",
       "      <td>Paiçandu</td>\n",
       "      <td>4115200</td>\n",
       "      <td>Maringá/PR</td>\n",
       "      <td>0.601675</td>\n",
       "      <td>0.015136</td>\n",
       "      <td>POLYGON ((-52.14864 -23.41425, -52.14199 -23.4...</td>\n",
       "    </tr>\n",
       "    <tr>\n",
       "      <th>9</th>\n",
       "      <td>4120408</td>\n",
       "      <td>Presidente Castelo Branco</td>\n",
       "      <td>4115200</td>\n",
       "      <td>Maringá/PR</td>\n",
       "      <td>0.636625</td>\n",
       "      <td>0.013754</td>\n",
       "      <td>POLYGON ((-52.17901 -23.34998, -52.18282 -23.3...</td>\n",
       "    </tr>\n",
       "  </tbody>\n",
       "</table>\n",
       "</div>"
      ],
      "text/plain": [
       "   CodMunic                   NomMunic CodArranjo  NomeArranj  Shape_Leng  \\\n",
       "0   4126256                    Sarandi    4115200  Maringá/PR    0.544905   \n",
       "1   4107900                   Floresta    4115200  Maringá/PR    0.693632   \n",
       "2   4110003                   Iguaraçu    4115200  Maringá/PR    0.700300   \n",
       "3   4111100                     Itambé    4115200  Maringá/PR    0.953027   \n",
       "4   4114104                 Mandaguaçu    4115200  Maringá/PR    0.953086   \n",
       "5   4114807                   Marialva    4115200  Maringá/PR    1.998283   \n",
       "6   4115200                    Maringá    4115200  Maringá/PR    1.267123   \n",
       "7   4117404                   Ourizona    4115200  Maringá/PR    0.731737   \n",
       "8   4117503                   Paiçandu    4115200  Maringá/PR    0.601675   \n",
       "9   4120408  Presidente Castelo Branco    4115200  Maringá/PR    0.636625   \n",
       "\n",
       "   Shape_Area                                           geometry  \n",
       "0    0.009124  POLYGON ((-51.85103 -23.45480, -51.85120 -23.4...  \n",
       "1    0.013973  POLYGON ((-52.10027 -23.51966, -51.99975 -23.5...  \n",
       "2    0.014586  POLYGON ((-51.93937 -23.26395, -51.93764 -23.2...  \n",
       "3    0.021592  POLYGON ((-52.04382 -23.81097, -52.04682 -23.8...  \n",
       "4    0.025926  POLYGON ((-51.96254 -23.16162, -51.96456 -23.1...  \n",
       "5    0.042075  POLYGON ((-51.99975 -23.55657, -51.99758 -23.5...  \n",
       "6    0.043022  POLYGON ((-52.09499 -23.40034, -52.09028 -23.3...  \n",
       "7    0.015622  POLYGON ((-52.30483 -23.57298, -52.30955 -23.5...  \n",
       "8    0.015136  POLYGON ((-52.14864 -23.41425, -52.14199 -23.4...  \n",
       "9    0.013754  POLYGON ((-52.17901 -23.34998, -52.18282 -23.3...  "
      ]
     },
     "execution_count": 68,
     "metadata": {},
     "output_type": "execute_result"
    }
   ],
   "source": [
    "gdf"
   ]
  },
  {
   "cell_type": "code",
   "execution_count": 47,
   "id": "30ff7f5a-344a-403a-b1bf-82fafb5ba6a3",
   "metadata": {},
   "outputs": [],
   "source": [
    "df = pd.read_csv('data/pop/arranjos populacionais/tab01.csv', sep=';', decimal=',', thousands='.')"
   ]
  },
  {
   "cell_type": "code",
   "execution_count": 53,
   "id": "274112b0-5735-4e3c-b256-3750d4123c18",
   "metadata": {},
   "outputs": [
    {
     "data": {
      "text/html": [
       "<div>\n",
       "<style scoped>\n",
       "    .dataframe tbody tr th:only-of-type {\n",
       "        vertical-align: middle;\n",
       "    }\n",
       "\n",
       "    .dataframe tbody tr th {\n",
       "        vertical-align: top;\n",
       "    }\n",
       "\n",
       "    .dataframe thead th {\n",
       "        text-align: right;\n",
       "    }\n",
       "</style>\n",
       "<table border=\"1\" class=\"dataframe\">\n",
       "  <thead>\n",
       "    <tr style=\"text-align: right;\">\n",
       "      <th></th>\n",
       "      <th>Arranjo</th>\n",
       "      <th>Arranjos populacionais e municípios brasileiros</th>\n",
       "      <th>CodArranjo</th>\n",
       "      <th>Código do município</th>\n",
       "      <th>População</th>\n",
       "      <th>Núcleo</th>\n",
       "      <th>Pessoas que trabalham e estudam em outros municípios do arranjo</th>\n",
       "      <th>Índice de integração do município com o arranjo</th>\n",
       "      <th>Mancha Urbanizada Contígua</th>\n",
       "      <th>Município desmembrado de outro do arranjo, após 1988</th>\n",
       "      <th>Nível</th>\n",
       "      <th>Via</th>\n",
       "      <th>Iteração</th>\n",
       "    </tr>\n",
       "  </thead>\n",
       "  <tbody>\n",
       "    <tr>\n",
       "      <th>534</th>\n",
       "      <td>Maringá/PR</td>\n",
       "      <td>Maringá (PR)</td>\n",
       "      <td>4115200</td>\n",
       "      <td>4115200</td>\n",
       "      <td>357077</td>\n",
       "      <td>Sim</td>\n",
       "      <td>45406</td>\n",
       "      <td>0.17</td>\n",
       "      <td>Sim</td>\n",
       "      <td>Não</td>\n",
       "      <td>1</td>\n",
       "      <td>-</td>\n",
       "      <td>0</td>\n",
       "    </tr>\n",
       "  </tbody>\n",
       "</table>\n",
       "</div>"
      ],
      "text/plain": [
       "        Arranjo Arranjos populacionais e municípios brasileiros  CodArranjo  \\\n",
       "534  Maringá/PR                                    Maringá (PR)     4115200   \n",
       "\n",
       "     Código do município  População Núcleo  \\\n",
       "534              4115200     357077    Sim   \n",
       "\n",
       "     Pessoas que trabalham e estudam em outros municípios do arranjo  \\\n",
       "534                                              45406                 \n",
       "\n",
       "     Índice de integração do município com o arranjo  \\\n",
       "534                                             0.17   \n",
       "\n",
       "    Mancha Urbanizada Contígua  \\\n",
       "534                        Sim   \n",
       "\n",
       "    Município desmembrado de outro do arranjo, após 1988  Nível Via  Iteração  \n",
       "534                                                Não        1   -         0  "
      ]
     },
     "execution_count": 53,
     "metadata": {},
     "output_type": "execute_result"
    }
   ],
   "source": [
    "df[df['Código do município'] == 4115200]"
   ]
  },
  {
   "cell_type": "code",
   "execution_count": 49,
   "id": "8af6eeb1-8db7-4650-8c28-497021bd17f3",
   "metadata": {},
   "outputs": [
    {
     "ename": "KeyError",
     "evalue": "\"None of [Int64Index([3500105, 3520806, 3527405, 3528908, 3540853, 4100202, 3542800,\\n            3500501, 3527009, 3101508,\\n            ...\\n            3205101, 3205200, 3205309, 3300407, 3303955, 3306305, 3501202,\\n            3536257, 3551306, 3557105],\\n           dtype='int64', length=953)] are in the [columns]\"",
     "output_type": "error",
     "traceback": [
      "\u001b[1;31m---------------------------------------------------------------------------\u001b[0m",
      "\u001b[1;31mKeyError\u001b[0m                                  Traceback (most recent call last)",
      "\u001b[1;32m<ipython-input-49-e5c71f00a09a>\u001b[0m in \u001b[0;36m<module>\u001b[1;34m\u001b[0m\n\u001b[1;32m----> 1\u001b[1;33m \u001b[0mdf\u001b[0m\u001b[1;33m[\u001b[0m\u001b[0mdf\u001b[0m\u001b[1;33m[\u001b[0m\u001b[1;34m'Código do município'\u001b[0m\u001b[1;33m]\u001b[0m\u001b[1;33m]\u001b[0m\u001b[1;33m\u001b[0m\u001b[1;33m\u001b[0m\u001b[0m\n\u001b[0m",
      "\u001b[1;32m~\\AppData\\Roaming\\Python\\Python36\\site-packages\\pandas\\core\\frame.py\u001b[0m in \u001b[0;36m__getitem__\u001b[1;34m(self, key)\u001b[0m\n\u001b[0;32m   2906\u001b[0m             \u001b[1;32mif\u001b[0m \u001b[0mis_iterator\u001b[0m\u001b[1;33m(\u001b[0m\u001b[0mkey\u001b[0m\u001b[1;33m)\u001b[0m\u001b[1;33m:\u001b[0m\u001b[1;33m\u001b[0m\u001b[1;33m\u001b[0m\u001b[0m\n\u001b[0;32m   2907\u001b[0m                 \u001b[0mkey\u001b[0m \u001b[1;33m=\u001b[0m \u001b[0mlist\u001b[0m\u001b[1;33m(\u001b[0m\u001b[0mkey\u001b[0m\u001b[1;33m)\u001b[0m\u001b[1;33m\u001b[0m\u001b[1;33m\u001b[0m\u001b[0m\n\u001b[1;32m-> 2908\u001b[1;33m             \u001b[0mindexer\u001b[0m \u001b[1;33m=\u001b[0m \u001b[0mself\u001b[0m\u001b[1;33m.\u001b[0m\u001b[0mloc\u001b[0m\u001b[1;33m.\u001b[0m\u001b[0m_get_listlike_indexer\u001b[0m\u001b[1;33m(\u001b[0m\u001b[0mkey\u001b[0m\u001b[1;33m,\u001b[0m \u001b[0maxis\u001b[0m\u001b[1;33m=\u001b[0m\u001b[1;36m1\u001b[0m\u001b[1;33m,\u001b[0m \u001b[0mraise_missing\u001b[0m\u001b[1;33m=\u001b[0m\u001b[1;32mTrue\u001b[0m\u001b[1;33m)\u001b[0m\u001b[1;33m[\u001b[0m\u001b[1;36m1\u001b[0m\u001b[1;33m]\u001b[0m\u001b[1;33m\u001b[0m\u001b[1;33m\u001b[0m\u001b[0m\n\u001b[0m\u001b[0;32m   2909\u001b[0m \u001b[1;33m\u001b[0m\u001b[0m\n\u001b[0;32m   2910\u001b[0m         \u001b[1;31m# take() does not accept boolean indexers\u001b[0m\u001b[1;33m\u001b[0m\u001b[1;33m\u001b[0m\u001b[1;33m\u001b[0m\u001b[0m\n",
      "\u001b[1;32m~\\AppData\\Roaming\\Python\\Python36\\site-packages\\pandas\\core\\indexing.py\u001b[0m in \u001b[0;36m_get_listlike_indexer\u001b[1;34m(self, key, axis, raise_missing)\u001b[0m\n\u001b[0;32m   1252\u001b[0m             \u001b[0mkeyarr\u001b[0m\u001b[1;33m,\u001b[0m \u001b[0mindexer\u001b[0m\u001b[1;33m,\u001b[0m \u001b[0mnew_indexer\u001b[0m \u001b[1;33m=\u001b[0m \u001b[0max\u001b[0m\u001b[1;33m.\u001b[0m\u001b[0m_reindex_non_unique\u001b[0m\u001b[1;33m(\u001b[0m\u001b[0mkeyarr\u001b[0m\u001b[1;33m)\u001b[0m\u001b[1;33m\u001b[0m\u001b[1;33m\u001b[0m\u001b[0m\n\u001b[0;32m   1253\u001b[0m \u001b[1;33m\u001b[0m\u001b[0m\n\u001b[1;32m-> 1254\u001b[1;33m         \u001b[0mself\u001b[0m\u001b[1;33m.\u001b[0m\u001b[0m_validate_read_indexer\u001b[0m\u001b[1;33m(\u001b[0m\u001b[0mkeyarr\u001b[0m\u001b[1;33m,\u001b[0m \u001b[0mindexer\u001b[0m\u001b[1;33m,\u001b[0m \u001b[0maxis\u001b[0m\u001b[1;33m,\u001b[0m \u001b[0mraise_missing\u001b[0m\u001b[1;33m=\u001b[0m\u001b[0mraise_missing\u001b[0m\u001b[1;33m)\u001b[0m\u001b[1;33m\u001b[0m\u001b[1;33m\u001b[0m\u001b[0m\n\u001b[0m\u001b[0;32m   1255\u001b[0m         \u001b[1;32mreturn\u001b[0m \u001b[0mkeyarr\u001b[0m\u001b[1;33m,\u001b[0m \u001b[0mindexer\u001b[0m\u001b[1;33m\u001b[0m\u001b[1;33m\u001b[0m\u001b[0m\n\u001b[0;32m   1256\u001b[0m \u001b[1;33m\u001b[0m\u001b[0m\n",
      "\u001b[1;32m~\\AppData\\Roaming\\Python\\Python36\\site-packages\\pandas\\core\\indexing.py\u001b[0m in \u001b[0;36m_validate_read_indexer\u001b[1;34m(self, key, indexer, axis, raise_missing)\u001b[0m\n\u001b[0;32m   1296\u001b[0m             \u001b[1;32mif\u001b[0m \u001b[0mmissing\u001b[0m \u001b[1;33m==\u001b[0m \u001b[0mlen\u001b[0m\u001b[1;33m(\u001b[0m\u001b[0mindexer\u001b[0m\u001b[1;33m)\u001b[0m\u001b[1;33m:\u001b[0m\u001b[1;33m\u001b[0m\u001b[1;33m\u001b[0m\u001b[0m\n\u001b[0;32m   1297\u001b[0m                 \u001b[0maxis_name\u001b[0m \u001b[1;33m=\u001b[0m \u001b[0mself\u001b[0m\u001b[1;33m.\u001b[0m\u001b[0mobj\u001b[0m\u001b[1;33m.\u001b[0m\u001b[0m_get_axis_name\u001b[0m\u001b[1;33m(\u001b[0m\u001b[0maxis\u001b[0m\u001b[1;33m)\u001b[0m\u001b[1;33m\u001b[0m\u001b[1;33m\u001b[0m\u001b[0m\n\u001b[1;32m-> 1298\u001b[1;33m                 \u001b[1;32mraise\u001b[0m \u001b[0mKeyError\u001b[0m\u001b[1;33m(\u001b[0m\u001b[1;34mf\"None of [{key}] are in the [{axis_name}]\"\u001b[0m\u001b[1;33m)\u001b[0m\u001b[1;33m\u001b[0m\u001b[1;33m\u001b[0m\u001b[0m\n\u001b[0m\u001b[0;32m   1299\u001b[0m \u001b[1;33m\u001b[0m\u001b[0m\n\u001b[0;32m   1300\u001b[0m             \u001b[1;31m# We (temporarily) allow for some missing keys with .loc, except in\u001b[0m\u001b[1;33m\u001b[0m\u001b[1;33m\u001b[0m\u001b[1;33m\u001b[0m\u001b[0m\n",
      "\u001b[1;31mKeyError\u001b[0m: \"None of [Int64Index([3500105, 3520806, 3527405, 3528908, 3540853, 4100202, 3542800,\\n            3500501, 3527009, 3101508,\\n            ...\\n            3205101, 3205200, 3205309, 3300407, 3303955, 3306305, 3501202,\\n            3536257, 3551306, 3557105],\\n           dtype='int64', length=953)] are in the [columns]\""
     ]
    }
   ],
   "source": [
    "df[df['Código do município'] = ]"
   ]
  },
  {
   "cell_type": "markdown",
   "id": "32bfa824-4738-4a9b-be21-76e72fb4f063",
   "metadata": {},
   "source": [
    "Quero que o mapa comece em um lugar específico, não em San Francisco, que seja branco e que esteja em Português. Possivelmente o processo é feito em alguma função update\n",
    "https://stackoverflow.com/questions/51189951/kepler-gl-map-center-default-set-to-0-0"
   ]
  },
  {
   "cell_type": "code",
   "execution_count": 45,
   "id": "9ecddfc5-847a-4e1a-9ba4-f17fbc49cefc",
   "metadata": {},
   "outputs": [
    {
     "name": "stdout",
     "output_type": "stream",
     "text": [
      "User Guide: https://docs.kepler.gl/docs/keplergl-jupyter\n"
     ]
    }
   ],
   "source": [
    "kepler_map = KeplerGl(height=400, width=400)"
   ]
  },
  {
   "cell_type": "code",
   "execution_count": 34,
   "id": "de14dcfc-8562-425b-b4ef-fab867476e13",
   "metadata": {},
   "outputs": [],
   "source": [
    "kepler_map.config['config']['mapState']['latitude'] = -25.424"
   ]
  },
  {
   "cell_type": "code",
   "execution_count": 35,
   "id": "0b904814-8533-4c3b-a2fe-ed8e481398ab",
   "metadata": {},
   "outputs": [],
   "source": [
    "kepler_map.config['config']['mapState']['longitude'] = -49.2697"
   ]
  },
  {
   "cell_type": "code",
   "execution_count": 46,
   "id": "f3274beb-acce-43e2-8c24-aadf3ba77eb5",
   "metadata": {},
   "outputs": [
    {
     "data": {
      "application/vnd.jupyter.widget-view+json": {
       "model_id": "727f65d3ae814f9f87f5e9959731151c",
       "version_major": 2,
       "version_minor": 0
      },
      "text/plain": [
       "KeplerGl()"
      ]
     },
     "metadata": {},
     "output_type": "display_data"
    }
   ],
   "source": [
    "kepler_map"
   ]
  },
  {
   "cell_type": "code",
   "execution_count": 33,
   "id": "fadc2d2d-2d63-44ff-b91c-3a290aa8d9be",
   "metadata": {},
   "outputs": [
    {
     "data": {
      "text/plain": [
       "{'version': 'v1',\n",
       " 'config': {'visState': {'filters': [],\n",
       "   'layers': [],\n",
       "   'interactionConfig': {'tooltip': {'fieldsToShow': {},\n",
       "     'compareMode': True,\n",
       "     'compareType': 'absolute',\n",
       "     'enabled': True},\n",
       "    'brush': {'size': 0.5, 'enabled': False},\n",
       "    'geocoder': {'enabled': True},\n",
       "    'coordinate': {'enabled': True}},\n",
       "   'layerBlending': 'normal',\n",
       "   'splitMaps': [],\n",
       "   'animationConfig': {'currentTime': None, 'speed': 1}},\n",
       "  'mapState': {'bearing': 0,\n",
       "   'dragRotate': False,\n",
       "   'latitude': -25.428844785089574,\n",
       "   'longitude': -49.26551961528645,\n",
       "   'pitch': 0,\n",
       "   'zoom': 15.67205408042107,\n",
       "   'isSplit': False},\n",
       "  'mapStyle': {'styleType': 'dark',\n",
       "   'topLayerGroups': {},\n",
       "   'visibleLayerGroups': {'label': True,\n",
       "    'road': True,\n",
       "    'border': False,\n",
       "    'building': True,\n",
       "    'water': True,\n",
       "    'land': True,\n",
       "    '3d building': False},\n",
       "   'threeDBuildingColor': [9.665468314072013,\n",
       "    17.18305478057247,\n",
       "    31.1442867897876],\n",
       "   'mapStyles': {}}}}"
      ]
     },
     "execution_count": 33,
     "metadata": {},
     "output_type": "execute_result"
    }
   ],
   "source": [
    "kepler_map.config"
   ]
  },
  {
   "cell_type": "code",
   "execution_count": 19,
   "id": "19d52ec3-ecaf-4678-80c1-c64dbff0eba3",
   "metadata": {},
   "outputs": [
    {
     "data": {
      "text/plain": [
       "0.31666666666666665"
      ]
     },
     "execution_count": 19,
     "metadata": {},
     "output_type": "execute_result"
    }
   ],
   "source": [
    "19/60"
   ]
  },
  {
   "cell_type": "code",
   "execution_count": null,
   "id": "d367db66-bfcc-4c04-9bdf-6a4aa0a2c56e",
   "metadata": {},
   "outputs": [],
   "source": [
    "49° 16' 19\" O"
   ]
  }
 ],
 "metadata": {
  "kernelspec": {
   "display_name": "aulas",
   "language": "python",
   "name": "aulas"
  },
  "language_info": {
   "codemirror_mode": {
    "name": "ipython",
    "version": 3
   },
   "file_extension": ".py",
   "mimetype": "text/x-python",
   "name": "python",
   "nbconvert_exporter": "python",
   "pygments_lexer": "ipython3",
   "version": "3.6.10"
  },
  "widgets": {
   "application/vnd.jupyter.widget-state+json": {
    "state": {},
    "version_major": 2,
    "version_minor": 0
   }
  }
 },
 "nbformat": 4,
 "nbformat_minor": 5
}
