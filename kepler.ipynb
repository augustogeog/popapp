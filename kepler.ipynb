{
 "cells": [
  {
   "cell_type": "code",
   "execution_count": 126,
   "id": "eb442c97-22c1-4fad-a3d8-a0fbd51315c5",
   "metadata": {},
   "outputs": [],
   "source": [
    "import geopandas as gpd\n",
    "import pandas as pd\n",
    "import numpy as np\n",
    "import plotly.express as px\n",
    "from keplergl import KeplerGl\n",
    "from keplergl import documentation\n",
    "import pickle"
   ]
  },
  {
   "cell_type": "code",
   "execution_count": 116,
   "id": "788bc15e-1bd8-466c-8868-5a61fe320f94",
   "metadata": {},
   "outputs": [],
   "source": [
    "df_maringa = pd.read_csv('data/pop/commuting/coordenadas_aglomerado_maringa.csv', sep=';', thousands='.', decimal=',')\n",
    "\n",
    "df_maringa = df_maringa[df_maringa['Arranjo'] == True]"
   ]
  },
  {
   "cell_type": "code",
   "execution_count": 117,
   "id": "f9d4d4c1-6dca-4b31-aff7-a2ce0285ef6a",
   "metadata": {},
   "outputs": [
    {
     "name": "stdout",
     "output_type": "stream",
     "text": [
      "User Guide: https://docs.kepler.gl/docs/keplergl-jupyter\n"
     ]
    }
   ],
   "source": [
    "kepler_map = KeplerGl(height=400, width=600)"
   ]
  },
  {
   "cell_type": "code",
   "execution_count": 118,
   "id": "50d3ed36-b4f8-4f86-b7b6-e5eb2f982a6d",
   "metadata": {},
   "outputs": [],
   "source": [
    "kepler_map.add_data(data=df_maringa, name='Commuting_Maringa')\n",
    "\n",
    "kepler_map.add_data(data=gdf, name='Municipios_Arranjo')"
   ]
  },
  {
   "cell_type": "code",
   "execution_count": 121,
   "id": "38b95707-83ba-4b77-a6d0-c9642d769c78",
   "metadata": {},
   "outputs": [],
   "source": [
    "kepler_map.config = config"
   ]
  },
  {
   "cell_type": "code",
   "execution_count": 133,
   "id": "bf7b7728-42cf-472a-b04e-18c366f51874",
   "metadata": {},
   "outputs": [],
   "source": [
    "config = kepler_map.config"
   ]
  },
  {
   "cell_type": "code",
   "execution_count": 122,
   "id": "be2488a9-9c5a-4c00-af3f-f354a891c759",
   "metadata": {},
   "outputs": [
    {
     "name": "stdout",
     "output_type": "stream",
     "text": [
      "User Guide: https://docs.kepler.gl/docs/keplergl-jupyter\n"
     ]
    }
   ],
   "source": [
    "kepler_map2 = KeplerGl(height=400, width=600)"
   ]
  },
  {
   "cell_type": "code",
   "execution_count": 123,
   "id": "a35638fe-23e2-4ad1-957c-dd27061cc4d5",
   "metadata": {},
   "outputs": [],
   "source": [
    "kepler_map2.add_data(data=df_maringa, name='Commuting_Maringa')\n",
    "\n",
    "kepler_map2.add_data(data=gdf, name='Municipios_Arranjo')"
   ]
  },
  {
   "cell_type": "code",
   "execution_count": 124,
   "id": "c24261bf-87d5-4857-a397-1e5cb6425e8b",
   "metadata": {},
   "outputs": [],
   "source": [
    "kepler_map2.config = config"
   ]
  },
  {
   "cell_type": "code",
   "execution_count": 125,
   "id": "4cf3ac27-6fda-4938-94f7-5bdd4bf340a0",
   "metadata": {},
   "outputs": [
    {
     "data": {
      "application/vnd.jupyter.widget-view+json": {
       "model_id": "d6b48ea8df5b498ba95a0f743e2d56e5",
       "version_major": 2,
       "version_minor": 0
      },
      "text/plain": [
       "KeplerGl(config={'version': 'v1', 'config': {'visState': {'filters': [], 'layers': [{'id': 'e9q15zm', 'type': …"
      ]
     },
     "metadata": {},
     "output_type": "display_data"
    }
   ],
   "source": [
    "kepler_map2"
   ]
  },
  {
   "cell_type": "code",
   "execution_count": 134,
   "id": "a79f8024-8ff2-4a6e-8b70-8ca10e5737c0",
   "metadata": {},
   "outputs": [],
   "source": [
    "a_file = open(\"data.pkl\", \"wb\")"
   ]
  },
  {
   "cell_type": "code",
   "execution_count": 135,
   "id": "78be11d2-7d30-43aa-8da7-4d5a1ae37aef",
   "metadata": {},
   "outputs": [],
   "source": [
    "pickle.dump(config, a_file)\n",
    "a_file.close()"
   ]
  },
  {
   "cell_type": "code",
   "execution_count": 130,
   "id": "c802f731-46c3-4254-af5b-5475ef0ccb2b",
   "metadata": {},
   "outputs": [],
   "source": [
    "with open(\"data.pkl\", \"rb\") as a_file:\n",
    "    dict_config = pickle.load(a_file)\n",
    "    "
   ]
  },
  {
   "cell_type": "code",
   "execution_count": 131,
   "id": "b018bd48-a6e3-477a-b25b-b4a26abd5bb9",
   "metadata": {},
   "outputs": [
    {
     "name": "stdout",
     "output_type": "stream",
     "text": [
      "{'version': 'v1', 'config': {'visState': {'filters': [], 'layers': [{'id': 'e9q15zm', 'type': 'arc', 'config': {'dataId': 'Commuting_Maringa', 'label': 'point', 'color': [136, 87, 44], 'columns': {'lat0': 'point_latitude', 'lng0': 'point_longitude', 'lat1': 'point_latitude.1', 'lng1': 'point_longitude.1'}, 'isVisible': True, 'visConfig': {'opacity': 0.8, 'thickness': 2, 'colorRange': {'name': 'ColorBrewer OrRd-6', 'type': 'sequential', 'category': 'ColorBrewer', 'colors': ['#fef0d9', '#fdd49e', '#fdbb84', '#fc8d59', '#e34a33', '#b30000']}, 'sizeRange': [0, 10], 'targetColor': None}, 'hidden': False, 'textLabel': [{'field': None, 'color': [255, 255, 255], 'size': 18, 'offset': [0, 0], 'anchor': 'start', 'alignment': 'center'}]}, 'visualChannels': {'colorField': {'name': 'Movimento_Pendular', 'type': 'integer'}, 'colorScale': 'quantile', 'sizeField': {'name': 'Movimento_Pendular', 'type': 'integer'}, 'sizeScale': 'linear'}}, {'id': '4i2fd3g', 'type': 'geojson', 'config': {'dataId': 'Municipios_Arranjo', 'label': 'Municipios_Arranjo', 'color': [255, 153, 31], 'columns': {'geojson': 'geometry'}, 'isVisible': True, 'visConfig': {'opacity': 0.8, 'strokeOpacity': 0.8, 'thickness': 2.1, 'strokeColor': [129, 116, 107], 'colorRange': {'name': 'Global Warming', 'type': 'sequential', 'category': 'Uber', 'colors': ['#5A1846', '#900C3F', '#C70039', '#E3611C', '#F1920E', '#FFC300']}, 'strokeColorRange': {'name': 'Global Warming', 'type': 'sequential', 'category': 'Uber', 'colors': ['#5A1846', '#900C3F', '#C70039', '#E3611C', '#F1920E', '#FFC300']}, 'radius': 10, 'sizeRange': [0, 10], 'radiusRange': [0, 50], 'heightRange': [0, 500], 'elevationScale': 5, 'enableElevationZoomFactor': True, 'stroked': True, 'filled': False, 'enable3d': False, 'wireframe': False}, 'hidden': False, 'textLabel': [{'field': None, 'color': [255, 255, 255], 'size': 18, 'offset': [0, 0], 'anchor': 'start', 'alignment': 'center'}]}, 'visualChannels': {'colorField': None, 'colorScale': 'quantile', 'strokeColorField': None, 'strokeColorScale': 'quantile', 'sizeField': None, 'sizeScale': 'linear', 'heightField': None, 'heightScale': 'linear', 'radiusField': None, 'radiusScale': 'linear'}}], 'interactionConfig': {'tooltip': {'fieldsToShow': {'Commuting_Maringa': [{'name': 'cod_origem', 'format': None}, {'name': 'Mun_origem', 'format': None}, {'name': 'cod_destino', 'format': None}, {'name': 'Mun_destino', 'format': None}, {'name': 'Movimento_Pendular', 'format': None}], 'Municipios_Arranjo': [{'name': 'CodMunic', 'format': None}, {'name': 'NomMunic', 'format': None}, {'name': 'CodArranjo', 'format': None}, {'name': 'NomeArranj', 'format': None}, {'name': 'Shape_Leng', 'format': None}]}, 'compareMode': False, 'compareType': 'absolute', 'enabled': True}, 'brush': {'size': 0.5, 'enabled': False}, 'geocoder': {'enabled': False}, 'coordinate': {'enabled': False}}, 'layerBlending': 'normal', 'splitMaps': [], 'animationConfig': {'currentTime': None, 'speed': 1}}, 'mapState': {'bearing': 24, 'dragRotate': True, 'latitude': -23.40153385173574, 'longitude': -51.97410213677811, 'pitch': 50, 'zoom': 10.330065763050756, 'isSplit': False}, 'mapStyle': {'styleType': 'light', 'topLayerGroups': {}, 'visibleLayerGroups': {'label': True, 'road': True, 'border': False, 'building': True, 'water': True, 'land': True, '3d building': False}, 'threeDBuildingColor': [9.665468314072013, 17.18305478057247, 31.1442867897876], 'mapStyles': {}}}}\n"
     ]
    }
   ],
   "source": [
    "print(dict_config)"
   ]
  },
  {
   "cell_type": "code",
   "execution_count": null,
   "id": "ec0eb0fa-6499-4913-8a45-13a4cef7fbaa",
   "metadata": {},
   "outputs": [],
   "source": [
    "a_file = open(\"data.pkl\", \"rb\")\n",
    "output = pickle.load(a_file)\n",
    "print(output)\n",
    "OUTPUT\n",
    "{'a': 1, 'b': 2}\n",
    "a_file.close()"
   ]
  },
  {
   "cell_type": "code",
   "execution_count": null,
   "id": "dba4033f-f404-4406-a1c0-2c99e520387a",
   "metadata": {},
   "outputs": [],
   "source": []
  },
  {
   "cell_type": "code",
   "execution_count": null,
   "id": "3ad5bec8-582b-4fca-9211-3aa02bbe47fe",
   "metadata": {},
   "outputs": [],
   "source": []
  },
  {
   "cell_type": "code",
   "execution_count": 55,
   "id": "8b57a789-d60a-4c7c-8418-91ddc58375e8",
   "metadata": {},
   "outputs": [],
   "source": [
    "gdf = gpd.read_file(f'data/territorio/municipalities/arranjos_pop/4115200/arranjo_4115200_municipalities.zip/')"
   ]
  },
  {
   "cell_type": "code",
   "execution_count": 58,
   "id": "9e460623-fcef-4fa7-ae50-2caaf674fa68",
   "metadata": {},
   "outputs": [],
   "source": [
    "gdf.to_clipboard()"
   ]
  },
  {
   "cell_type": "code",
   "execution_count": 68,
   "id": "de31afc3-feba-43c7-b8a9-8381cf916f98",
   "metadata": {},
   "outputs": [
    {
     "data": {
      "text/html": [
       "<div>\n",
       "<style scoped>\n",
       "    .dataframe tbody tr th:only-of-type {\n",
       "        vertical-align: middle;\n",
       "    }\n",
       "\n",
       "    .dataframe tbody tr th {\n",
       "        vertical-align: top;\n",
       "    }\n",
       "\n",
       "    .dataframe thead th {\n",
       "        text-align: right;\n",
       "    }\n",
       "</style>\n",
       "<table border=\"1\" class=\"dataframe\">\n",
       "  <thead>\n",
       "    <tr style=\"text-align: right;\">\n",
       "      <th></th>\n",
       "      <th>CodMunic</th>\n",
       "      <th>NomMunic</th>\n",
       "      <th>CodArranjo</th>\n",
       "      <th>NomeArranj</th>\n",
       "      <th>Shape_Leng</th>\n",
       "      <th>Shape_Area</th>\n",
       "      <th>geometry</th>\n",
       "    </tr>\n",
       "  </thead>\n",
       "  <tbody>\n",
       "    <tr>\n",
       "      <th>0</th>\n",
       "      <td>4126256</td>\n",
       "      <td>Sarandi</td>\n",
       "      <td>4115200</td>\n",
       "      <td>Maringá/PR</td>\n",
       "      <td>0.544905</td>\n",
       "      <td>0.009124</td>\n",
       "      <td>POLYGON ((-51.85103 -23.45480, -51.85120 -23.4...</td>\n",
       "    </tr>\n",
       "    <tr>\n",
       "      <th>1</th>\n",
       "      <td>4107900</td>\n",
       "      <td>Floresta</td>\n",
       "      <td>4115200</td>\n",
       "      <td>Maringá/PR</td>\n",
       "      <td>0.693632</td>\n",
       "      <td>0.013973</td>\n",
       "      <td>POLYGON ((-52.10027 -23.51966, -51.99975 -23.5...</td>\n",
       "    </tr>\n",
       "    <tr>\n",
       "      <th>2</th>\n",
       "      <td>4110003</td>\n",
       "      <td>Iguaraçu</td>\n",
       "      <td>4115200</td>\n",
       "      <td>Maringá/PR</td>\n",
       "      <td>0.700300</td>\n",
       "      <td>0.014586</td>\n",
       "      <td>POLYGON ((-51.93937 -23.26395, -51.93764 -23.2...</td>\n",
       "    </tr>\n",
       "    <tr>\n",
       "      <th>3</th>\n",
       "      <td>4111100</td>\n",
       "      <td>Itambé</td>\n",
       "      <td>4115200</td>\n",
       "      <td>Maringá/PR</td>\n",
       "      <td>0.953027</td>\n",
       "      <td>0.021592</td>\n",
       "      <td>POLYGON ((-52.04382 -23.81097, -52.04682 -23.8...</td>\n",
       "    </tr>\n",
       "    <tr>\n",
       "      <th>4</th>\n",
       "      <td>4114104</td>\n",
       "      <td>Mandaguaçu</td>\n",
       "      <td>4115200</td>\n",
       "      <td>Maringá/PR</td>\n",
       "      <td>0.953086</td>\n",
       "      <td>0.025926</td>\n",
       "      <td>POLYGON ((-51.96254 -23.16162, -51.96456 -23.1...</td>\n",
       "    </tr>\n",
       "    <tr>\n",
       "      <th>5</th>\n",
       "      <td>4114807</td>\n",
       "      <td>Marialva</td>\n",
       "      <td>4115200</td>\n",
       "      <td>Maringá/PR</td>\n",
       "      <td>1.998283</td>\n",
       "      <td>0.042075</td>\n",
       "      <td>POLYGON ((-51.99975 -23.55657, -51.99758 -23.5...</td>\n",
       "    </tr>\n",
       "    <tr>\n",
       "      <th>6</th>\n",
       "      <td>4115200</td>\n",
       "      <td>Maringá</td>\n",
       "      <td>4115200</td>\n",
       "      <td>Maringá/PR</td>\n",
       "      <td>1.267123</td>\n",
       "      <td>0.043022</td>\n",
       "      <td>POLYGON ((-52.09499 -23.40034, -52.09028 -23.3...</td>\n",
       "    </tr>\n",
       "    <tr>\n",
       "      <th>7</th>\n",
       "      <td>4117404</td>\n",
       "      <td>Ourizona</td>\n",
       "      <td>4115200</td>\n",
       "      <td>Maringá/PR</td>\n",
       "      <td>0.731737</td>\n",
       "      <td>0.015622</td>\n",
       "      <td>POLYGON ((-52.30483 -23.57298, -52.30955 -23.5...</td>\n",
       "    </tr>\n",
       "    <tr>\n",
       "      <th>8</th>\n",
       "      <td>4117503</td>\n",
       "      <td>Paiçandu</td>\n",
       "      <td>4115200</td>\n",
       "      <td>Maringá/PR</td>\n",
       "      <td>0.601675</td>\n",
       "      <td>0.015136</td>\n",
       "      <td>POLYGON ((-52.14864 -23.41425, -52.14199 -23.4...</td>\n",
       "    </tr>\n",
       "    <tr>\n",
       "      <th>9</th>\n",
       "      <td>4120408</td>\n",
       "      <td>Presidente Castelo Branco</td>\n",
       "      <td>4115200</td>\n",
       "      <td>Maringá/PR</td>\n",
       "      <td>0.636625</td>\n",
       "      <td>0.013754</td>\n",
       "      <td>POLYGON ((-52.17901 -23.34998, -52.18282 -23.3...</td>\n",
       "    </tr>\n",
       "  </tbody>\n",
       "</table>\n",
       "</div>"
      ],
      "text/plain": [
       "   CodMunic                   NomMunic CodArranjo  NomeArranj  Shape_Leng  \\\n",
       "0   4126256                    Sarandi    4115200  Maringá/PR    0.544905   \n",
       "1   4107900                   Floresta    4115200  Maringá/PR    0.693632   \n",
       "2   4110003                   Iguaraçu    4115200  Maringá/PR    0.700300   \n",
       "3   4111100                     Itambé    4115200  Maringá/PR    0.953027   \n",
       "4   4114104                 Mandaguaçu    4115200  Maringá/PR    0.953086   \n",
       "5   4114807                   Marialva    4115200  Maringá/PR    1.998283   \n",
       "6   4115200                    Maringá    4115200  Maringá/PR    1.267123   \n",
       "7   4117404                   Ourizona    4115200  Maringá/PR    0.731737   \n",
       "8   4117503                   Paiçandu    4115200  Maringá/PR    0.601675   \n",
       "9   4120408  Presidente Castelo Branco    4115200  Maringá/PR    0.636625   \n",
       "\n",
       "   Shape_Area                                           geometry  \n",
       "0    0.009124  POLYGON ((-51.85103 -23.45480, -51.85120 -23.4...  \n",
       "1    0.013973  POLYGON ((-52.10027 -23.51966, -51.99975 -23.5...  \n",
       "2    0.014586  POLYGON ((-51.93937 -23.26395, -51.93764 -23.2...  \n",
       "3    0.021592  POLYGON ((-52.04382 -23.81097, -52.04682 -23.8...  \n",
       "4    0.025926  POLYGON ((-51.96254 -23.16162, -51.96456 -23.1...  \n",
       "5    0.042075  POLYGON ((-51.99975 -23.55657, -51.99758 -23.5...  \n",
       "6    0.043022  POLYGON ((-52.09499 -23.40034, -52.09028 -23.3...  \n",
       "7    0.015622  POLYGON ((-52.30483 -23.57298, -52.30955 -23.5...  \n",
       "8    0.015136  POLYGON ((-52.14864 -23.41425, -52.14199 -23.4...  \n",
       "9    0.013754  POLYGON ((-52.17901 -23.34998, -52.18282 -23.3...  "
      ]
     },
     "execution_count": 68,
     "metadata": {},
     "output_type": "execute_result"
    }
   ],
   "source": [
    "gdf"
   ]
  },
  {
   "cell_type": "code",
   "execution_count": 47,
   "id": "30ff7f5a-344a-403a-b1bf-82fafb5ba6a3",
   "metadata": {},
   "outputs": [],
   "source": [
    "df = pd.read_csv('data/pop/arranjos populacionais/tab01.csv', sep=';', decimal=',', thousands='.')"
   ]
  },
  {
   "cell_type": "code",
   "execution_count": 53,
   "id": "274112b0-5735-4e3c-b256-3750d4123c18",
   "metadata": {},
   "outputs": [
    {
     "data": {
      "text/html": [
       "<div>\n",
       "<style scoped>\n",
       "    .dataframe tbody tr th:only-of-type {\n",
       "        vertical-align: middle;\n",
       "    }\n",
       "\n",
       "    .dataframe tbody tr th {\n",
       "        vertical-align: top;\n",
       "    }\n",
       "\n",
       "    .dataframe thead th {\n",
       "        text-align: right;\n",
       "    }\n",
       "</style>\n",
       "<table border=\"1\" class=\"dataframe\">\n",
       "  <thead>\n",
       "    <tr style=\"text-align: right;\">\n",
       "      <th></th>\n",
       "      <th>Arranjo</th>\n",
       "      <th>Arranjos populacionais e municípios brasileiros</th>\n",
       "      <th>CodArranjo</th>\n",
       "      <th>Código do município</th>\n",
       "      <th>População</th>\n",
       "      <th>Núcleo</th>\n",
       "      <th>Pessoas que trabalham e estudam em outros municípios do arranjo</th>\n",
       "      <th>Índice de integração do município com o arranjo</th>\n",
       "      <th>Mancha Urbanizada Contígua</th>\n",
       "      <th>Município desmembrado de outro do arranjo, após 1988</th>\n",
       "      <th>Nível</th>\n",
       "      <th>Via</th>\n",
       "      <th>Iteração</th>\n",
       "    </tr>\n",
       "  </thead>\n",
       "  <tbody>\n",
       "    <tr>\n",
       "      <th>534</th>\n",
       "      <td>Maringá/PR</td>\n",
       "      <td>Maringá (PR)</td>\n",
       "      <td>4115200</td>\n",
       "      <td>4115200</td>\n",
       "      <td>357077</td>\n",
       "      <td>Sim</td>\n",
       "      <td>45406</td>\n",
       "      <td>0.17</td>\n",
       "      <td>Sim</td>\n",
       "      <td>Não</td>\n",
       "      <td>1</td>\n",
       "      <td>-</td>\n",
       "      <td>0</td>\n",
       "    </tr>\n",
       "  </tbody>\n",
       "</table>\n",
       "</div>"
      ],
      "text/plain": [
       "        Arranjo Arranjos populacionais e municípios brasileiros  CodArranjo  \\\n",
       "534  Maringá/PR                                    Maringá (PR)     4115200   \n",
       "\n",
       "     Código do município  População Núcleo  \\\n",
       "534              4115200     357077    Sim   \n",
       "\n",
       "     Pessoas que trabalham e estudam em outros municípios do arranjo  \\\n",
       "534                                              45406                 \n",
       "\n",
       "     Índice de integração do município com o arranjo  \\\n",
       "534                                             0.17   \n",
       "\n",
       "    Mancha Urbanizada Contígua  \\\n",
       "534                        Sim   \n",
       "\n",
       "    Município desmembrado de outro do arranjo, após 1988  Nível Via  Iteração  \n",
       "534                                                Não        1   -         0  "
      ]
     },
     "execution_count": 53,
     "metadata": {},
     "output_type": "execute_result"
    }
   ],
   "source": [
    "df[df['Código do município'] == 4115200]"
   ]
  },
  {
   "cell_type": "code",
   "execution_count": 49,
   "id": "8af6eeb1-8db7-4650-8c28-497021bd17f3",
   "metadata": {},
   "outputs": [
    {
     "ename": "KeyError",
     "evalue": "\"None of [Int64Index([3500105, 3520806, 3527405, 3528908, 3540853, 4100202, 3542800,\\n            3500501, 3527009, 3101508,\\n            ...\\n            3205101, 3205200, 3205309, 3300407, 3303955, 3306305, 3501202,\\n            3536257, 3551306, 3557105],\\n           dtype='int64', length=953)] are in the [columns]\"",
     "output_type": "error",
     "traceback": [
      "\u001b[1;31m---------------------------------------------------------------------------\u001b[0m",
      "\u001b[1;31mKeyError\u001b[0m                                  Traceback (most recent call last)",
      "\u001b[1;32m<ipython-input-49-e5c71f00a09a>\u001b[0m in \u001b[0;36m<module>\u001b[1;34m\u001b[0m\n\u001b[1;32m----> 1\u001b[1;33m \u001b[0mdf\u001b[0m\u001b[1;33m[\u001b[0m\u001b[0mdf\u001b[0m\u001b[1;33m[\u001b[0m\u001b[1;34m'Código do município'\u001b[0m\u001b[1;33m]\u001b[0m\u001b[1;33m]\u001b[0m\u001b[1;33m\u001b[0m\u001b[1;33m\u001b[0m\u001b[0m\n\u001b[0m",
      "\u001b[1;32m~\\AppData\\Roaming\\Python\\Python36\\site-packages\\pandas\\core\\frame.py\u001b[0m in \u001b[0;36m__getitem__\u001b[1;34m(self, key)\u001b[0m\n\u001b[0;32m   2906\u001b[0m             \u001b[1;32mif\u001b[0m \u001b[0mis_iterator\u001b[0m\u001b[1;33m(\u001b[0m\u001b[0mkey\u001b[0m\u001b[1;33m)\u001b[0m\u001b[1;33m:\u001b[0m\u001b[1;33m\u001b[0m\u001b[1;33m\u001b[0m\u001b[0m\n\u001b[0;32m   2907\u001b[0m                 \u001b[0mkey\u001b[0m \u001b[1;33m=\u001b[0m \u001b[0mlist\u001b[0m\u001b[1;33m(\u001b[0m\u001b[0mkey\u001b[0m\u001b[1;33m)\u001b[0m\u001b[1;33m\u001b[0m\u001b[1;33m\u001b[0m\u001b[0m\n\u001b[1;32m-> 2908\u001b[1;33m             \u001b[0mindexer\u001b[0m \u001b[1;33m=\u001b[0m \u001b[0mself\u001b[0m\u001b[1;33m.\u001b[0m\u001b[0mloc\u001b[0m\u001b[1;33m.\u001b[0m\u001b[0m_get_listlike_indexer\u001b[0m\u001b[1;33m(\u001b[0m\u001b[0mkey\u001b[0m\u001b[1;33m,\u001b[0m \u001b[0maxis\u001b[0m\u001b[1;33m=\u001b[0m\u001b[1;36m1\u001b[0m\u001b[1;33m,\u001b[0m \u001b[0mraise_missing\u001b[0m\u001b[1;33m=\u001b[0m\u001b[1;32mTrue\u001b[0m\u001b[1;33m)\u001b[0m\u001b[1;33m[\u001b[0m\u001b[1;36m1\u001b[0m\u001b[1;33m]\u001b[0m\u001b[1;33m\u001b[0m\u001b[1;33m\u001b[0m\u001b[0m\n\u001b[0m\u001b[0;32m   2909\u001b[0m \u001b[1;33m\u001b[0m\u001b[0m\n\u001b[0;32m   2910\u001b[0m         \u001b[1;31m# take() does not accept boolean indexers\u001b[0m\u001b[1;33m\u001b[0m\u001b[1;33m\u001b[0m\u001b[1;33m\u001b[0m\u001b[0m\n",
      "\u001b[1;32m~\\AppData\\Roaming\\Python\\Python36\\site-packages\\pandas\\core\\indexing.py\u001b[0m in \u001b[0;36m_get_listlike_indexer\u001b[1;34m(self, key, axis, raise_missing)\u001b[0m\n\u001b[0;32m   1252\u001b[0m             \u001b[0mkeyarr\u001b[0m\u001b[1;33m,\u001b[0m \u001b[0mindexer\u001b[0m\u001b[1;33m,\u001b[0m \u001b[0mnew_indexer\u001b[0m \u001b[1;33m=\u001b[0m \u001b[0max\u001b[0m\u001b[1;33m.\u001b[0m\u001b[0m_reindex_non_unique\u001b[0m\u001b[1;33m(\u001b[0m\u001b[0mkeyarr\u001b[0m\u001b[1;33m)\u001b[0m\u001b[1;33m\u001b[0m\u001b[1;33m\u001b[0m\u001b[0m\n\u001b[0;32m   1253\u001b[0m \u001b[1;33m\u001b[0m\u001b[0m\n\u001b[1;32m-> 1254\u001b[1;33m         \u001b[0mself\u001b[0m\u001b[1;33m.\u001b[0m\u001b[0m_validate_read_indexer\u001b[0m\u001b[1;33m(\u001b[0m\u001b[0mkeyarr\u001b[0m\u001b[1;33m,\u001b[0m \u001b[0mindexer\u001b[0m\u001b[1;33m,\u001b[0m \u001b[0maxis\u001b[0m\u001b[1;33m,\u001b[0m \u001b[0mraise_missing\u001b[0m\u001b[1;33m=\u001b[0m\u001b[0mraise_missing\u001b[0m\u001b[1;33m)\u001b[0m\u001b[1;33m\u001b[0m\u001b[1;33m\u001b[0m\u001b[0m\n\u001b[0m\u001b[0;32m   1255\u001b[0m         \u001b[1;32mreturn\u001b[0m \u001b[0mkeyarr\u001b[0m\u001b[1;33m,\u001b[0m \u001b[0mindexer\u001b[0m\u001b[1;33m\u001b[0m\u001b[1;33m\u001b[0m\u001b[0m\n\u001b[0;32m   1256\u001b[0m \u001b[1;33m\u001b[0m\u001b[0m\n",
      "\u001b[1;32m~\\AppData\\Roaming\\Python\\Python36\\site-packages\\pandas\\core\\indexing.py\u001b[0m in \u001b[0;36m_validate_read_indexer\u001b[1;34m(self, key, indexer, axis, raise_missing)\u001b[0m\n\u001b[0;32m   1296\u001b[0m             \u001b[1;32mif\u001b[0m \u001b[0mmissing\u001b[0m \u001b[1;33m==\u001b[0m \u001b[0mlen\u001b[0m\u001b[1;33m(\u001b[0m\u001b[0mindexer\u001b[0m\u001b[1;33m)\u001b[0m\u001b[1;33m:\u001b[0m\u001b[1;33m\u001b[0m\u001b[1;33m\u001b[0m\u001b[0m\n\u001b[0;32m   1297\u001b[0m                 \u001b[0maxis_name\u001b[0m \u001b[1;33m=\u001b[0m \u001b[0mself\u001b[0m\u001b[1;33m.\u001b[0m\u001b[0mobj\u001b[0m\u001b[1;33m.\u001b[0m\u001b[0m_get_axis_name\u001b[0m\u001b[1;33m(\u001b[0m\u001b[0maxis\u001b[0m\u001b[1;33m)\u001b[0m\u001b[1;33m\u001b[0m\u001b[1;33m\u001b[0m\u001b[0m\n\u001b[1;32m-> 1298\u001b[1;33m                 \u001b[1;32mraise\u001b[0m \u001b[0mKeyError\u001b[0m\u001b[1;33m(\u001b[0m\u001b[1;34mf\"None of [{key}] are in the [{axis_name}]\"\u001b[0m\u001b[1;33m)\u001b[0m\u001b[1;33m\u001b[0m\u001b[1;33m\u001b[0m\u001b[0m\n\u001b[0m\u001b[0;32m   1299\u001b[0m \u001b[1;33m\u001b[0m\u001b[0m\n\u001b[0;32m   1300\u001b[0m             \u001b[1;31m# We (temporarily) allow for some missing keys with .loc, except in\u001b[0m\u001b[1;33m\u001b[0m\u001b[1;33m\u001b[0m\u001b[1;33m\u001b[0m\u001b[0m\n",
      "\u001b[1;31mKeyError\u001b[0m: \"None of [Int64Index([3500105, 3520806, 3527405, 3528908, 3540853, 4100202, 3542800,\\n            3500501, 3527009, 3101508,\\n            ...\\n            3205101, 3205200, 3205309, 3300407, 3303955, 3306305, 3501202,\\n            3536257, 3551306, 3557105],\\n           dtype='int64', length=953)] are in the [columns]\""
     ]
    }
   ],
   "source": [
    "df[df['Código do município'] = ]"
   ]
  },
  {
   "cell_type": "markdown",
   "id": "32bfa824-4738-4a9b-be21-76e72fb4f063",
   "metadata": {},
   "source": [
    "Quero que o mapa comece em um lugar específico, não em San Francisco, que seja branco e que esteja em Português. Possivelmente o processo é feito em alguma função update\n",
    "https://stackoverflow.com/questions/51189951/kepler-gl-map-center-default-set-to-0-0"
   ]
  },
  {
   "cell_type": "code",
   "execution_count": 45,
   "id": "9ecddfc5-847a-4e1a-9ba4-f17fbc49cefc",
   "metadata": {},
   "outputs": [
    {
     "name": "stdout",
     "output_type": "stream",
     "text": [
      "User Guide: https://docs.kepler.gl/docs/keplergl-jupyter\n"
     ]
    }
   ],
   "source": [
    "kepler_map = KeplerGl(height=400, width=400)"
   ]
  },
  {
   "cell_type": "code",
   "execution_count": 34,
   "id": "de14dcfc-8562-425b-b4ef-fab867476e13",
   "metadata": {},
   "outputs": [],
   "source": [
    "kepler_map.config['config']['mapState']['latitude'] = -25.424"
   ]
  },
  {
   "cell_type": "code",
   "execution_count": 35,
   "id": "0b904814-8533-4c3b-a2fe-ed8e481398ab",
   "metadata": {},
   "outputs": [],
   "source": [
    "kepler_map.config['config']['mapState']['longitude'] = -49.2697"
   ]
  },
  {
   "cell_type": "code",
   "execution_count": 46,
   "id": "f3274beb-acce-43e2-8c24-aadf3ba77eb5",
   "metadata": {},
   "outputs": [
    {
     "data": {
      "application/vnd.jupyter.widget-view+json": {
       "model_id": "727f65d3ae814f9f87f5e9959731151c",
       "version_major": 2,
       "version_minor": 0
      },
      "text/plain": [
       "KeplerGl()"
      ]
     },
     "metadata": {},
     "output_type": "display_data"
    }
   ],
   "source": [
    "kepler_map"
   ]
  },
  {
   "cell_type": "code",
   "execution_count": 33,
   "id": "fadc2d2d-2d63-44ff-b91c-3a290aa8d9be",
   "metadata": {},
   "outputs": [
    {
     "data": {
      "text/plain": [
       "{'version': 'v1',\n",
       " 'config': {'visState': {'filters': [],\n",
       "   'layers': [],\n",
       "   'interactionConfig': {'tooltip': {'fieldsToShow': {},\n",
       "     'compareMode': True,\n",
       "     'compareType': 'absolute',\n",
       "     'enabled': True},\n",
       "    'brush': {'size': 0.5, 'enabled': False},\n",
       "    'geocoder': {'enabled': True},\n",
       "    'coordinate': {'enabled': True}},\n",
       "   'layerBlending': 'normal',\n",
       "   'splitMaps': [],\n",
       "   'animationConfig': {'currentTime': None, 'speed': 1}},\n",
       "  'mapState': {'bearing': 0,\n",
       "   'dragRotate': False,\n",
       "   'latitude': -25.428844785089574,\n",
       "   'longitude': -49.26551961528645,\n",
       "   'pitch': 0,\n",
       "   'zoom': 15.67205408042107,\n",
       "   'isSplit': False},\n",
       "  'mapStyle': {'styleType': 'dark',\n",
       "   'topLayerGroups': {},\n",
       "   'visibleLayerGroups': {'label': True,\n",
       "    'road': True,\n",
       "    'border': False,\n",
       "    'building': True,\n",
       "    'water': True,\n",
       "    'land': True,\n",
       "    '3d building': False},\n",
       "   'threeDBuildingColor': [9.665468314072013,\n",
       "    17.18305478057247,\n",
       "    31.1442867897876],\n",
       "   'mapStyles': {}}}}"
      ]
     },
     "execution_count": 33,
     "metadata": {},
     "output_type": "execute_result"
    }
   ],
   "source": [
    "kepler_map.config"
   ]
  },
  {
   "cell_type": "code",
   "execution_count": 19,
   "id": "19d52ec3-ecaf-4678-80c1-c64dbff0eba3",
   "metadata": {},
   "outputs": [
    {
     "data": {
      "text/plain": [
       "0.31666666666666665"
      ]
     },
     "execution_count": 19,
     "metadata": {},
     "output_type": "execute_result"
    }
   ],
   "source": [
    "19/60"
   ]
  },
  {
   "cell_type": "code",
   "execution_count": null,
   "id": "d367db66-bfcc-4c04-9bdf-6a4aa0a2c56e",
   "metadata": {},
   "outputs": [],
   "source": [
    "49° 16' 19\" O"
   ]
  }
 ],
 "metadata": {
  "kernelspec": {
   "display_name": "aulas",
   "language": "python",
   "name": "aulas"
  },
  "language_info": {
   "codemirror_mode": {
    "name": "ipython",
    "version": 3
   },
   "file_extension": ".py",
   "mimetype": "text/x-python",
   "name": "python",
   "nbconvert_exporter": "python",
   "pygments_lexer": "ipython3",
   "version": "3.6.10"
  },
  "widgets": {
   "application/vnd.jupyter.widget-state+json": {
    "state": {
     "1c3d023e8d8742fe93c965fbb6ae307f": {
      "model_module": "@jupyter-widgets/base",
      "model_module_version": "1.2.0",
      "model_name": "LayoutModel",
      "state": {}
     },
     "1fc56a3eea1c4d0d8cb60f9dfa8376fc": {
      "model_module": "@jupyter-widgets/base",
      "model_module_version": "1.2.0",
      "model_name": "LayoutModel",
      "state": {}
     },
     "2951926185a24671ac176992037f7660": {
      "model_module": "keplergl-jupyter",
      "model_module_version": "^0.3.0",
      "model_name": "KeplerGlModal",
      "state": {
       "_model_module_version": "^0.3.0",
       "_view_module_version": "^0.3.0",
       "config": {
        "config": {
         "mapState": {
          "bearing": 0,
          "dragRotate": false,
          "isSplit": false,
          "latitude": -25.43970487514422,
          "longitude": -49.289555395930186,
          "pitch": 0,
          "zoom": 13.196419660707969
         },
         "mapStyle": {
          "mapStyles": {},
          "styleType": "dark",
          "threeDBuildingColor": [
           9.665468314072013,
           17.18305478057247,
           31.1442867897876
          ],
          "topLayerGroups": {},
          "visibleLayerGroups": {
           "3d building": false,
           "border": false,
           "building": true,
           "label": true,
           "land": true,
           "road": true,
           "water": true
          }
         },
         "visState": {
          "animationConfig": {
           "currentTime": null,
           "speed": 1
          },
          "filters": [],
          "interactionConfig": {
           "brush": {
            "enabled": false,
            "size": 0.5
           },
           "coordinate": {
            "enabled": true
           },
           "geocoder": {
            "enabled": true
           },
           "tooltip": {
            "compareMode": false,
            "compareType": "absolute",
            "enabled": true,
            "fieldsToShow": {
             "geocoder_dataset": [
              {
               "format": null,
               "name": "lt"
              },
              {
               "format": null,
               "name": "ln"
              },
              {
               "format": null,
               "name": "icon"
              },
              {
               "format": null,
               "name": "text"
              }
             ]
            }
           }
          },
          "layerBlending": "normal",
          "layers": [
           {
            "config": {
             "color": [
              255,
              0,
              0
             ],
             "columns": {
              "altitude": null,
              "icon": "icon",
              "lat": "lt",
              "lng": "ln"
             },
             "dataId": "geocoder_dataset",
             "hidden": true,
             "isVisible": true,
             "label": "Geocoder Layer",
             "textLabel": [
              {
               "alignment": "center",
               "anchor": "start",
               "color": [
                255,
                255,
                255
               ],
               "field": null,
               "offset": [
                0,
                0
               ],
               "size": 18
              }
             ],
             "visConfig": {
              "colorRange": {
               "category": "Uber",
               "colors": [
                "#5A1846",
                "#900C3F",
                "#C70039",
                "#E3611C",
                "#F1920E",
                "#FFC300"
               ],
               "name": "Global Warming",
               "type": "sequential"
              },
              "fixedRadius": false,
              "opacity": 0.8,
              "radius": 80,
              "radiusRange": [
               0,
               50
              ]
             }
            },
            "id": "geocoder_layer",
            "type": "icon",
            "visualChannels": {
             "colorField": null,
             "colorScale": "quantile",
             "sizeField": null,
             "sizeScale": "linear"
            }
           }
          ],
          "splitMaps": []
         }
        },
        "version": "v1"
       },
       "height": 800,
       "layout": "IPY_MODEL_417581f01ae7480ea85678501500ba4c",
       "value": "Hello World!"
      }
     },
     "2bdfc1a23bc247a18b22a9f6613e234c": {
      "model_module": "keplergl-jupyter",
      "model_module_version": "^0.3.0",
      "model_name": "KeplerGlModal",
      "state": {
       "_model_module_version": "^0.3.0",
       "_view_module_version": "^0.3.0",
       "config": {
        "config": {
         "mapState": {
          "bearing": 0,
          "dragRotate": false,
          "isSplit": false,
          "latitude": -23.395603902268963,
          "longitude": -51.9355068359363,
          "pitch": 0,
          "zoom": 8
         },
         "mapStyle": {
          "mapStyles": {},
          "styleType": "dark",
          "threeDBuildingColor": [
           9.665468314072013,
           17.18305478057247,
           31.1442867897876
          ],
          "topLayerGroups": {},
          "visibleLayerGroups": {
           "3d building": false,
           "border": false,
           "building": true,
           "label": true,
           "land": true,
           "road": true,
           "water": true
          }
         },
         "visState": {
          "animationConfig": {
           "currentTime": null,
           "speed": 1
          },
          "filters": [],
          "interactionConfig": {
           "brush": {
            "enabled": false,
            "size": 0.5
           },
           "coordinate": {
            "enabled": false
           },
           "geocoder": {
            "enabled": false
           },
           "tooltip": {
            "compareMode": false,
            "compareType": "absolute",
            "enabled": true,
            "fieldsToShow": {
             "Commuting_Maringa": [
              {
               "format": null,
               "name": "cod_origem"
              },
              {
               "format": null,
               "name": "Mun_origem"
              },
              {
               "format": null,
               "name": "cod_destino"
              },
              {
               "format": null,
               "name": "Mun_destino"
              },
              {
               "format": null,
               "name": "Movimento_Pendular"
              }
             ],
             "Municipios_Arranjo": [
              {
               "format": null,
               "name": "CodMunic"
              },
              {
               "format": null,
               "name": "NomMunic"
              },
              {
               "format": null,
               "name": "CodArranjo"
              },
              {
               "format": null,
               "name": "NomeArranj"
              },
              {
               "format": null,
               "name": "Shape_Leng"
              }
             ]
            }
           }
          },
          "layerBlending": "normal",
          "layers": [
           {
            "config": {
             "color": [
              231,
              159,
              213
             ],
             "columns": {
              "lat0": "point_latitude",
              "lat1": "point_latitude.1",
              "lng0": "point_longitude",
              "lng1": "point_longitude.1"
             },
             "dataId": "Commuting_Maringa",
             "hidden": false,
             "isVisible": true,
             "label": "point",
             "textLabel": [
              {
               "alignment": "center",
               "anchor": "start",
               "color": [
                255,
                255,
                255
               ],
               "field": null,
               "offset": [
                0,
                0
               ],
               "size": 18
              }
             ],
             "visConfig": {
              "colorRange": {
               "category": "Uber",
               "colors": [
                "#5A1846",
                "#900C3F",
                "#C70039",
                "#E3611C",
                "#F1920E",
                "#FFC300"
               ],
               "name": "Global Warming",
               "type": "sequential"
              },
              "opacity": 0.8,
              "sizeRange": [
               0,
               10
              ],
              "targetColor": null,
              "thickness": 6.7
             }
            },
            "id": "xt41g54w",
            "type": "arc",
            "visualChannels": {
             "colorField": {
              "name": "point_latitude.1",
              "type": "real"
             },
             "colorScale": "quantile",
             "sizeField": null,
             "sizeScale": "linear"
            }
           }
          ],
          "splitMaps": []
         }
        },
        "version": "v1"
       },
       "data": {
        "Commuting_Maringa": {
         "columns": [
          "cod_origem",
          "Mun_origem",
          "point_latitude",
          "point_longitude",
          "cod_destino",
          "Mun_destino",
          "Movimento_Pendular",
          "point_latitude.1",
          "point_longitude.1",
          "Arranjo",
          "departure",
          "arrival"
         ],
         "data": [
          [
           4114203,
           "MANDAGUARI",
           -23.548000000000002,
           -51.67100000000001,
           4112108,
           "JANDAIA DO SUL",
           617,
           -23.603,
           -51.643,
           false,
           "2010-31-07 10:30:0'",
           "2010-31-07 11:00:0'"
          ],
          [
           4126256,
           "SARANDI",
           -23.444000000000003,
           -51.873999999999995,
           4115200,
           "MARINGÁ",
           24224,
           -23.425,
           -51.93899999999999,
           true,
           "2010-31-07 10:30:0'",
           "2010-31-07 11:00:0'"
          ],
          [
           4115200,
           "MARINGÁ",
           -23.425,
           -51.93899999999999,
           4126256,
           "SARANDI",
           24224,
           -23.444000000000003,
           -51.873999999999995,
           true,
           "2010-31-07 10:30:0'",
           "2010-31-07 11:00:0'"
          ],
          [
           4117503,
           "PAIÇANDU",
           -23.458000000000002,
           -52.049,
           4115200,
           "MARINGÁ",
           10550,
           -23.425,
           -51.93899999999999,
           true,
           "2010-31-07 10:30:0'",
           "2010-31-07 11:00:0'"
          ],
          [
           4115200,
           "MARINGÁ",
           -23.425,
           -51.93899999999999,
           4117503,
           "PAIÇANDU",
           10550,
           -23.458000000000002,
           -52.049,
           true,
           "2010-31-07 10:30:0'",
           "2010-31-07 11:00:0'"
          ],
          [
           4114104,
           "MANDAGUAÇU",
           -23.346999999999998,
           -52.095,
           4115200,
           "MARINGÁ",
           3856,
           -23.425,
           -51.93899999999999,
           true,
           "2010-31-07 10:30:0'",
           "2010-31-07 11:00:0'"
          ],
          [
           4115200,
           "MARINGÁ",
           -23.425,
           -51.93899999999999,
           4114104,
           "MANDAGUAÇU",
           3856,
           -23.346999999999998,
           -52.095,
           true,
           "2010-31-07 10:30:0'",
           "2010-31-07 11:00:0'"
          ],
          [
           4114807,
           "MARIALVA",
           -23.485,
           -51.792,
           4115200,
           "MARINGÁ",
           3288,
           -23.425,
           -51.93899999999999,
           true,
           "2010-31-07 10:30:0'",
           "2010-31-07 11:00:0'"
          ],
          [
           4115200,
           "MARINGÁ",
           -23.425,
           -51.93899999999999,
           4114807,
           "MARIALVA",
           3288,
           -23.485,
           -51.792,
           true,
           "2010-31-07 10:30:0'",
           "2010-31-07 11:00:0'"
          ],
          [
           4114203,
           "MANDAGUARI",
           -23.548000000000002,
           -51.67100000000001,
           4115200,
           "MARINGÁ",
           1439,
           -23.425,
           -51.93899999999999,
           false,
           "2010-31-07 10:30:0'",
           "2010-31-07 11:00:0'"
          ],
          [
           4115200,
           "MARINGÁ",
           -23.425,
           -51.93899999999999,
           4114203,
           "MANDAGUARI",
           1439,
           -23.548000000000002,
           -51.67100000000001,
           false,
           "2010-31-07 10:30:0'",
           "2010-31-07 11:00:0'"
          ],
          [
           4116901,
           "NOVA ESPERANÇA",
           -23.184,
           -52.205,
           4115200,
           "MARINGÁ",
           1147,
           -23.425,
           -51.93899999999999,
           false,
           "2010-31-07 10:30:0'",
           "2010-31-07 11:00:0'"
          ],
          [
           4115200,
           "MARINGÁ",
           -23.425,
           -51.93899999999999,
           4116901,
           "NOVA ESPERANÇA",
           1147,
           -23.184,
           -52.205,
           false,
           "2010-31-07 10:30:0'",
           "2010-31-07 11:00:0'"
          ],
          [
           4114807,
           "MARIALVA",
           -23.485,
           -51.792,
           4126256,
           "SARANDI",
           1004,
           -23.444000000000003,
           -51.873999999999995,
           true,
           "2010-31-07 10:30:0'",
           "2010-31-07 11:00:0'"
          ],
          [
           4126256,
           "SARANDI",
           -23.444000000000003,
           -51.873999999999995,
           4114807,
           "MARIALVA",
           1004,
           -23.485,
           -51.792,
           true,
           "2010-31-07 10:30:0'",
           "2010-31-07 11:00:0'"
          ],
          [
           4110003,
           "IGUARAÇU",
           -23.197,
           -51.828,
           4115200,
           "MARINGÁ",
           635,
           -23.425,
           -51.93899999999999,
           true,
           "2010-31-07 10:30:0'",
           "2010-31-07 11:00:0'"
          ],
          [
           4115200,
           "MARINGÁ",
           -23.425,
           -51.93899999999999,
           4110003,
           "IGUARAÇU",
           635,
           -23.197,
           -51.828,
           true,
           "2010-31-07 10:30:0'",
           "2010-31-07 11:00:0'"
          ],
          [
           4112108,
           "JANDAIA DO SUL",
           -23.603,
           -51.643,
           4114203,
           "MANDAGUARI",
           617,
           -23.548000000000002,
           -51.67100000000001,
           false,
           "2010-31-07 10:30:0'",
           "2010-31-07 11:00:0'"
          ],
          [
           4102109,
           "ASTORGA",
           -23.233,
           -51.666000000000004,
           4115200,
           "MARINGÁ",
           580,
           -23.425,
           -51.93899999999999,
           false,
           "2010-31-07 10:30:0'",
           "2010-31-07 11:00:0'"
          ],
          [
           4115200,
           "MARINGÁ",
           -23.425,
           -51.93899999999999,
           4102109,
           "ASTORGA",
           580,
           -23.233,
           -51.666000000000004,
           false,
           "2010-31-07 10:30:0'",
           "2010-31-07 11:00:0'"
          ],
          [
           4114807,
           "MARIALVA",
           -23.485,
           -51.792,
           4114203,
           "MANDAGUARI",
           432,
           -23.548000000000002,
           -51.67100000000001,
           false,
           "2010-31-07 10:30:0'",
           "2010-31-07 11:00:0'"
          ],
          [
           4114203,
           "MANDAGUARI",
           -23.548000000000002,
           -51.67100000000001,
           4114807,
           "MARIALVA",
           432,
           -23.485,
           -51.792,
           false,
           "2010-31-07 10:30:0'",
           "2010-31-07 11:00:0'"
          ],
          [
           4112108,
           "JANDAIA DO SUL",
           -23.603,
           -51.643,
           4103800,
           "CAMBIRA",
           390,
           -23.583000000000002,
           -51.578,
           false,
           "2010-31-07 10:30:0'",
           "2010-31-07 11:00:0'"
          ],
          [
           4103800,
           "CAMBIRA",
           -23.583000000000002,
           -51.578,
           4112108,
           "JANDAIA DO SUL",
           390,
           -23.603,
           -51.643,
           false,
           "2010-31-07 10:30:0'",
           "2010-31-07 11:00:0'"
          ],
          [
           4126256,
           "SARANDI",
           -23.444000000000003,
           -51.873999999999995,
           4117503,
           "PAIÇANDU",
           120,
           -23.458000000000002,
           -52.049,
           true,
           "2010-31-07 10:30:0'",
           "2010-31-07 11:00:0'"
          ],
          [
           4117503,
           "PAIÇANDU",
           -23.458000000000002,
           -52.049,
           4126256,
           "SARANDI",
           120,
           -23.444000000000003,
           -51.873999999999995,
           true,
           "2010-31-07 10:30:0'",
           "2010-31-07 11:00:0'"
          ],
          [
           4123402,
           "SANTA FÉ",
           -23.038,
           -51.805,
           4116307,
           "MUNHOZ DE MELO",
           109,
           -23.148000000000003,
           -51.773999999999994,
           false,
           "2010-31-07 10:30:0'",
           "2010-31-07 11:00:0'"
          ],
          [
           4116307,
           "MUNHOZ DE MELO",
           -23.148000000000003,
           -51.773999999999994,
           4123402,
           "SANTA FÉ",
           109,
           -23.038,
           -51.805,
           false,
           "2010-31-07 10:30:0'",
           "2010-31-07 11:00:0'"
          ],
          [
           4114104,
           "MANDAGUAÇU",
           -23.346999999999998,
           -52.095,
           4102208,
           "ATALAIA",
           103,
           -23.153000000000002,
           -52.06100000000001,
           false,
           "2010-31-07 10:30:0'",
           "2010-31-07 11:00:0'"
          ],
          [
           4102208,
           "ATALAIA",
           -23.153000000000002,
           -52.06100000000001,
           4114104,
           "MANDAGUAÇU",
           103,
           -23.346999999999998,
           -52.095,
           false,
           "2010-31-07 10:30:0'",
           "2010-31-07 11:00:0'"
          ],
          [
           4107306,
           "DOUTOR CAMARGO",
           -23.555999999999997,
           -52.218,
           4111605,
           "IVATUBA",
           102,
           -23.619,
           -52.221000000000004,
           false,
           "2010-31-07 10:30:0'",
           "2010-31-07 11:00:0'"
          ],
          [
           4111605,
           "IVATUBA",
           -23.619,
           -52.221000000000004,
           4107306,
           "DOUTOR CAMARGO",
           102,
           -23.555999999999997,
           -52.218,
           false,
           "2010-31-07 10:30:0'",
           "2010-31-07 11:00:0'"
          ],
          [
           4107900,
           "FLORESTA",
           -23.599,
           -52.081,
           4111100,
           "ITAMBÉ",
           86,
           -23.660999999999998,
           -51.99,
           true,
           "2010-31-07 10:30:0'",
           "2010-31-07 11:00:0'"
          ],
          [
           4111100,
           "ITAMBÉ",
           -23.660999999999998,
           -51.99,
           4107900,
           "FLORESTA",
           86,
           -23.599,
           -52.081,
           true,
           "2010-31-07 10:30:0'",
           "2010-31-07 11:00:0'"
          ],
          [
           4108106,
           "FLÓRIDA",
           -23.087,
           -51.963,
           4113601,
           "LOBATO",
           76,
           -23.008000000000003,
           -51.951,
           false,
           "2010-31-07 10:30:0'",
           "2010-31-07 11:00:0'"
          ],
          [
           4113601,
           "LOBATO",
           -23.008000000000003,
           -51.951,
           4108106,
           "FLÓRIDA",
           76,
           -23.087,
           -51.963,
           false,
           "2010-31-07 10:30:0'",
           "2010-31-07 11:00:0'"
          ],
          [
           4123402,
           "SANTA FÉ",
           -23.038,
           -51.805,
           4113601,
           "LOBATO",
           66,
           -23.008000000000003,
           -51.951,
           false,
           "2010-31-07 10:30:0'",
           "2010-31-07 11:00:0'"
          ],
          [
           4113601,
           "LOBATO",
           -23.008000000000003,
           -51.951,
           4123402,
           "SANTA FÉ",
           66,
           -23.038,
           -51.805,
           false,
           "2010-31-07 10:30:0'",
           "2010-31-07 11:00:0'"
          ],
          [
           4125308,
           "SÃO JORGE DO IVAÍ",
           -23.433000000000003,
           -52.293,
           4107801,
           "FLORAÍ",
           55,
           -23.316999999999997,
           -52.303999999999995,
           false,
           "2010-31-07 10:30:0'",
           "2010-31-07 11:00:0'"
          ],
          [
           4107801,
           "FLORAÍ",
           -23.316999999999997,
           -52.303999999999995,
           4125308,
           "SÃO JORGE DO IVAÍ",
           55,
           -23.433000000000003,
           -52.293,
           false,
           "2010-31-07 10:30:0'",
           "2010-31-07 11:00:0'"
          ],
          [
           4117404,
           "OURIZONA",
           -23.405,
           -52.199,
           4125308,
           "SÃO JORGE DO IVAÍ",
           40,
           -23.433000000000003,
           -52.293,
           false,
           "2010-31-07 10:30:0'",
           "2010-31-07 11:00:0'"
          ],
          [
           4125308,
           "SÃO JORGE DO IVAÍ",
           -23.433000000000003,
           -52.293,
           4117404,
           "OURIZONA",
           40,
           -23.405,
           -52.199,
           false,
           "2010-31-07 10:30:0'",
           "2010-31-07 11:00:0'"
          ]
         ],
         "index": [
          0,
          1,
          2,
          3,
          4,
          5,
          6,
          7,
          8,
          9,
          10,
          11,
          12,
          13,
          14,
          15,
          16,
          17,
          18,
          19,
          20,
          21,
          22,
          23,
          24,
          25,
          26,
          27,
          28,
          29,
          30,
          31,
          32,
          33,
          34,
          35,
          36,
          37,
          38,
          39,
          40,
          41
         ]
        },
        "Municipios_Arranjo": {
         "columns": [
          "CodMunic",
          "NomMunic",
          "CodArranjo",
          "NomeArranj",
          "Shape_Leng",
          "Shape_Area",
          "geometry"
         ],
         "data": [
          [
           4126256,
           "Sarandi",
           "4115200",
           "Maringá/PR",
           0.544904971268,
           0.00912425298747,
           "POLYGON ((-51.8510324708718144 -23.4547953783040271, -51.8511988796245760 -23.4549050398356940, -51.8534940223312333 -23.4579305885258123, -51.8534712514970124 -23.4863736402312497, -51.8525132639759363 -23.4905119137937390, -51.8467021803613193 -23.4967329551616899, -51.8496016557917301 -23.5047365427572004, -51.8529605319029656 -23.5108187027208828, -51.8590147319442849 -23.5158666090567294, -51.8637254869416324 -23.5167462224601422, -51.8678851158053931 -23.5233300467442064, -51.8753138369639828 -23.5224397089253898, -51.8794453431280544 -23.5243470333888354, -51.8808779748386542 -23.5262500474017315, -51.8811002557721395 -23.5330380609577219, -51.8869306217507642 -23.5359764122815704, -51.8874849971348908 -23.5389784338076424, -51.8896863243643338 -23.5410921643718325, -51.8930742647654597 -23.5402915069474261, -51.8935145548527998 -23.5441926679571907, -51.8964577957905817 -23.5461665359568428, -51.8997934828828988 -23.5559315545975210, -51.9024750372930725 -23.5576888037952017, -51.9051591259928387 -23.5558315068185493, -51.9113447268775872 -23.5589479922559804, -51.9123299233872331 -23.5607617197774744, -51.9183468528249819 -23.5538442730946826, -51.9152843402001167 -23.5513285905419707, -51.9201627432159967 -23.5458894404452508, -51.9202967772744159 -23.5428488586878188, -51.9281988529946261 -23.5338604711837434, -51.9226570983463489 -23.5304536459189535, -51.9094389060805952 -23.5099142950086843, -51.9224370315437227 -23.5001135013369549, -51.9190990529788792 -23.4970022220748547, -51.9177084061179812 -23.4874882662704181, -51.9115394462883728 -23.4770667587238790, -51.9056409215912140 -23.4768539359603210, -51.9038190003465729 -23.4703840000215109, -51.9058189999468595 -23.4649870002498346, -51.9047079999741641 -23.4593749995565304, -51.8970870001649018 -23.4527459996281209, -51.8932299598947111 -23.4454259696327654, -51.8876798397527637 -23.4399570303925771, -51.8779185371107587 -23.4159342931330912, -51.8677678801834645 -23.4149309995659110, -51.8637441595652717 -23.4160990201536379, -51.8481139504983730 -23.4103314664239974, -51.8451850573444517 -23.4063616547664992, -51.8398810456736783 -23.4065294367840124, -51.8405509920345935 -23.4025686129510859, -51.8424843707570631 -23.4003959156389669, -51.8430171219425802 -23.3936634154342187, -51.8392578694550821 -23.3933850069124674, -51.8335011813343840 -23.3957294819300046, -51.8273329634454853 -23.3932423978183692, -51.8192689027376332 -23.3927881457562989, -51.7971347876402888 -23.4090818134748702, -51.8004774858472388 -23.4124427733153198, -51.8018825020757845 -23.4175416838016304, -51.8036237946024016 -23.4294193106526336, -51.8029885368914051 -23.4377727318260440, -51.8064763047376573 -23.4450803763582485, -51.8266052095627288 -23.4595560483729173, -51.8331472270628524 -23.4586966850039857, -51.8409677081931477 -23.4518011512021189, -51.8456279923379384 -23.4445181175170774, -51.8459838351857911 -23.4477925122146189, -51.8510324708718144 -23.4547953783040271))"
          ],
          [
           4107900,
           "Floresta",
           "4115200",
           "Maringá/PR",
           0.693632333799,
           0.0139730939292,
           "POLYGON ((-52.1002707410018502 -23.5196632841332303, -51.9997501137767131 -23.5565708664522617, -52.0069303765355926 -23.5617551693655400, -52.0043980520284208 -23.5629276011278534, -52.0056743860640154 -23.5659819326200477, -52.0075352803289093 -23.5650337414139699, -52.0147016575554062 -23.5720370787481670, -52.0148268485801282 -23.5759593387524546, -52.0183374690988671 -23.5779572330398537, -52.0172170936938869 -23.5807336245570696, -52.0190279164051503 -23.5844345883854771, -52.0259282310030358 -23.5831983308382291, -52.0221821832611226 -23.5855171958618826, -52.0201018112495603 -23.5895864707389933, -52.0260434089760793 -23.5885311522907841, -52.0288047782178751 -23.5899516125768400, -52.0295347723118766 -23.5923751910621604, -52.0274863433200494 -23.5958881003555234, -52.0306865592372674 -23.5982464393216560, -52.0303122703949157 -23.6021804210895425, -52.0319893693139193 -23.6050997625439436, -52.0284019152161932 -23.6039206713019212, -52.0291264890961429 -23.6071032263328107, -52.0357599829368382 -23.6081954007970580, -52.0392206281294420 -23.6106642817311467, -52.0383772169349754 -23.6111031023262399, -52.0401830807845158 -23.6132243332363601, -52.0363626842903955 -23.6165434907894110, -52.0371047985475457 -23.6172496420572884, -52.0357932470606670 -23.6177962481982604, -52.0346619691745218 -23.6226800678307995, -52.0400862372899837 -23.6246069903202738, -52.0420613544479238 -23.6235317024260780, -52.0452441477991670 -23.6256711473055816, -52.0441731739527995 -23.6278986942692768, -52.0479956137065756 -23.6282202828397203, -52.0453796720341870 -23.6308679444999825, -52.0466890093902066 -23.6328546997845024, -52.0448414799503212 -23.6343071075868920, -52.0473889256583675 -23.6348951517898058, -52.0458384719678406 -23.6376600086024951, -52.0547912589094040 -23.6402400763184346, -52.0530227672868477 -23.6427089446620471, -52.0547922103921792 -23.6436896508566292, -52.0591788740057950 -23.6437364650657855, -52.0595549480024147 -23.6485427640373018, -52.0615253086460257 -23.6507976153176287, -52.0634614680722621 -23.6489219173125775, -52.0662077278043398 -23.6488126712677058, -52.0666287427222301 -23.6515797458085899, -52.0689595615344842 -23.6529969154752280, -52.0709875534328148 -23.6618952044001389, -52.0768270043627126 -23.6573637805140038, -52.0769936990998872 -23.6540092238465718, -52.0826291622060467 -23.6580502717026206, -52.0822958509726845 -23.6594622711668308, -52.0786241052182390 -23.6603672166736487, -52.0767379705808366 -23.6654595441225979, -52.0809319382582885 -23.6635791300727760, -52.0864413101183459 -23.6635217668160180, -52.0842707091258603 -23.6604361775874850, -52.0895978270780233 -23.6573952711747779, -52.0919066062048728 -23.6604220195604853, -52.0906588571205020 -23.6661451692640981, -52.0941064225733044 -23.6657642865924913, -52.0954911240161209 -23.6614038544042842, -52.0996059090853691 -23.6609037728907765, -52.1025766674791839 -23.6628463804560738, -52.1035199492861807 -23.6709169621480555, -52.1051593387324488 -23.6728766316512065, -52.1092654804175481 -23.6736127285445264, -52.1140199721439785 -23.6716678456944578, -52.1160950120751068 -23.6727942186781775, -52.1206331700847159 -23.6760254692999297, -52.1274921194656713 -23.6880694302599295, -52.1331343949363486 -23.6904571482787105, -52.1408493954832011 -23.6905860355170717, -52.1571432214824426 -23.6813469008387756, -52.1596872938334855 -23.6778651683428052, -52.1578562966307686 -23.6688816218892839, -52.1592119724545000 -23.6600045164951780, -52.1573758877869409 -23.6532168995402117, -52.1584649227179398 -23.6503487663824217, -52.1633826926570805 -23.6478265646442196, -52.1771876296053847 -23.6489181734349359, -52.1908332615457198 -23.6445739470299827, -52.1897250251897162 -23.6430518687486710, -52.1847772628603366 -23.6441755608533981, -52.1829996170386607 -23.6421582007403117, -52.1793349291635877 -23.6416494983256484, -52.1768330826805595 -23.6358100968584495, -52.1705264942023064 -23.6291433119142766, -52.1563873790742605 -23.6250506411740844, -52.1439752590509329 -23.6147441029579568, -52.1334707674619153 -23.6009178439832681, -52.1192378485478116 -23.5889846426271106, -52.1133804921159935 -23.5744037490337632, -52.1047009614801482 -23.5654366682675800, -52.0974209342286940 -23.5607148552063563, -52.1002707410018502 -23.5196632841332303))"
          ],
          [
           4110003,
           "Iguaraçu",
           "4115200",
           "Maringá/PR",
           0.700300445507,
           0.0145857340864,
           "POLYGON ((-51.9393744960361232 -23.2639476118927178, -51.9376430753675891 -23.2629600654545925, -51.9386191455570838 -23.2610134433157327, -51.9363417671588081 -23.2591143674340515, -51.9352089883041117 -23.2602565504993777, -51.9291205798508599 -23.2598343511743337, -51.9281843829028844 -23.2550845485130822, -51.9230147596234133 -23.2534115801802272, -51.9269575898208586 -23.2430906860862478, -51.9251584061354947 -23.2399991964057335, -51.9175709429446215 -23.2370558673343908, -51.9126534967614361 -23.2319761420852160, -51.9149991274077820 -23.2255974000999004, -51.9128800323875339 -23.2242588042004172, -51.9122545350187465 -23.2196186549768981, -51.9067040578459569 -23.2186567994716597, -51.9053658738359900 -23.2165008709184235, -51.9033461916733927 -23.2183214683610117, -51.9005974875839229 -23.2175212659935823, -51.8987682728374580 -23.2193407302904120, -51.8932469984501950 -23.2167109111795753, -51.8902064832425935 -23.2192532217587200, -51.8838688870394549 -23.2201356176645959, -51.8792955592426210 -23.2167057949364448, -51.8760626232913751 -23.2171269879200963, -51.8755483972407205 -23.2148601145026419, -51.8690940753312475 -23.2162087576280101, -51.8650022445578998 -23.2150955300346595, -51.8675745565205375 -23.2053280805264421, -51.8657741263747880 -23.1949841970629791, -51.8657131415482127 -23.1328532429827192, -51.8612634786265971 -23.1326648296181361, -51.8591485573600153 -23.1309375863005471, -51.8537025283489470 -23.1314529517922551, -51.8494141939098654 -23.1367636876939855, -51.8494447672621845 -23.1417018200828579, -51.8428680916890130 -23.1477879739358059, -51.8329397750505336 -23.1534045027156026, -51.8281184151327352 -23.1578146377352709, -51.8207651884626443 -23.1549225978995423, -51.8185771523137078 -23.1527163864520276, -51.8122585641813771 -23.1582433481519274, -51.8108089442773121 -23.1609632361643776, -51.8114275753222842 -23.1638824121435505, -51.8096392464540259 -23.1664640087070097, -51.7957016253296842 -23.1743939966855805, -51.7945688914411448 -23.1800350077094208, -51.7897425088096952 -23.1843724514274641, -51.7899110732374197 -23.1870137144113642, -51.7924865175386913 -23.1901995456724421, -51.7916430550828863 -23.1940305487707406, -51.7892543028437444 -23.1968940369301890, -51.7814883449111676 -23.1972098770341404, -51.7792611729647092 -23.1986143419782707, -51.7786877670267813 -23.2099559585006432, -51.7672417670938216 -23.2142531638523906, -51.7591433945519839 -23.2116481066747156, -51.7318669919680474 -23.2224813535315775, -51.7390103222685411 -23.2341051125608260, -51.7461241359200699 -23.2268484667832809, -51.7629629519786363 -23.2256448798073052, -51.7746800057776113 -23.2390694817711392, -51.7775084599474553 -23.2481893897285090, -51.7839546223079310 -23.2536962281983506, -51.7965986532052511 -23.2568396042642576, -51.8046744473678018 -23.2555384282558180, -51.8075437505436298 -23.2582399485147562, -51.8183496840906059 -23.2590762568636933, -51.8243803560685592 -23.2627337888332590, -51.8319567468063838 -23.2733906192815994, -51.8364641686864047 -23.2763398982676222, -51.8413477508979668 -23.2760388834876153, -51.8452949320154630 -23.2809567190772668, -51.8518749683550482 -23.2786886180851980, -51.8572953091311888 -23.2830252551113972, -51.8642343386437688 -23.2844113082352351, -51.8684743606032157 -23.2880113204660120, -51.8739012961078743 -23.2882970125970132, -51.8740134244799265 -23.2919456160972800, -51.8774949042663707 -23.2931660149995423, -51.8785614309652487 -23.2977932238781591, -51.8852988009988394 -23.3000601503555913, -51.8923247077190695 -23.3048767033970989, -51.8987134519641700 -23.3039181798800428, -51.8995742947178655 -23.3028304273822755, -51.8973055021471623 -23.3011240411415201, -51.8963755824671011 -23.2978390083634963, -51.9066012563428671 -23.2900686698332038, -51.9094716135240901 -23.2884336277097077, -51.9108529029390979 -23.2901893984219441, -51.9129291560556680 -23.2900121447446509, -51.9237937514803889 -23.2868890429949147, -51.9260114121968854 -23.2820608797057957, -51.9236497682221625 -23.2810467969720776, -51.9295369452737532 -23.2806994473215809, -51.9288382233053198 -23.2791062677400191, -51.9327746233501557 -23.2774640679123763, -51.9361264181995921 -23.2724584117262907, -51.9414404285329283 -23.2734433429358774, -51.9431099065968738 -23.2700734366397342, -51.9416178899535907 -23.2692109085565448, -51.9417530814395150 -23.2666467318611581, -51.9394149673268544 -23.2667812434595476, -51.9393744960361232 -23.2639476118927178))"
          ],
          [
           4111100,
           "Itambé",
           "4115200",
           "Maringá/PR",
           0.953026967666,
           0.0215921437579,
           "POLYGON ((-52.0438218825737522 -23.8109704537234279, -52.0468240713737487 -23.8052024773124344, -52.0462403025478579 -23.8021743061992197, -52.0393557674546514 -23.7919849694307572, -52.0343542382574356 -23.7755313986550618, -52.0340590303998738 -23.7696494439666139, -52.0363972065657663 -23.7643479018341850, -52.0417177028097058 -23.7601536274878526, -52.0510722339963650 -23.7564613313253403, -52.0562416081636457 -23.7514884194549722, -52.0597178835733985 -23.7438369829903309, -52.0611040590050607 -23.7309750265761750, -52.0645198909801366 -23.7282171880727333, -52.0802727333999087 -23.7220702823176453, -52.0952966258385572 -23.7200897764220144, -52.0954686751392160 -23.7170231862709784, -52.0916835374652578 -23.7095746692355647, -52.0946032953057738 -23.7063162797724658, -52.1115408866025973 -23.7055228421054380, -52.1176053119355629 -23.7018952458688545, -52.1192429917705908 -23.6971035365988882, -52.1184629647939346 -23.6926895129106470, -52.1130195096426405 -23.6845985444871872, -52.1124877683957379 -23.6805954839943524, -52.1160950120751068 -23.6727942186781775, -52.1140199721439785 -23.6716678456944578, -52.1092654804175481 -23.6736127285445264, -52.1051593387324488 -23.6728766316512065, -52.1035199492861807 -23.6709169621480555, -52.1025766674791839 -23.6628463804560738, -52.0996059090853691 -23.6609037728907765, -52.0954911240161209 -23.6614038544042842, -52.0941064225733044 -23.6657642865924913, -52.0906588571205020 -23.6661451692640981, -52.0919066062048728 -23.6604220195604853, -52.0895978270780233 -23.6573952711747779, -52.0842707091258603 -23.6604361775874850, -52.0864413101183459 -23.6635217668160180, -52.0809319382582885 -23.6635791300727760, -52.0767379705808366 -23.6654595441225979, -52.0786241052182390 -23.6603672166736487, -52.0822958509726845 -23.6594622711668308, -52.0826291622060467 -23.6580502717026206, -52.0769936990998872 -23.6540092238465718, -52.0768270043627126 -23.6573637805140038, -52.0709875534328148 -23.6618952044001389, -52.0689595615344842 -23.6529969154752280, -52.0666287427222301 -23.6515797458085899, -52.0662077278043398 -23.6488126712677058, -52.0634614680722621 -23.6489219173125775, -52.0615253086460257 -23.6507976153176287, -52.0586541897390020 -23.6537175737070129, -52.0607209541087173 -23.6566180671700295, -52.0581930560646242 -23.6599845515457901, -52.0547034491048635 -23.6577764928907754, -52.0526113211554957 -23.6619570282941822, -52.0471072481009855 -23.6602081598786071, -52.0484382141522133 -23.6585118757224677, -52.0436355988038031 -23.6535108105754261, -52.0371050215794639 -23.6580430195696749, -52.0351152220898143 -23.6546829149845053, -52.0368784706648739 -23.6532566567692584, -52.0344936205841009 -23.6510170211186050, -52.0284551883561903 -23.6531146160466506, -52.0259419240804846 -23.6516683641036707, -52.0275955884656014 -23.6499709593921921, -52.0246305182837432 -23.6458474185234877, -52.0273547779006549 -23.6431509839306955, -52.0312551250239608 -23.6430750712574991, -52.0315993261479548 -23.6388058833847481, -52.0334916103494720 -23.6365374064760658, -52.0320371152206462 -23.6362725732206513, -52.0318890670267820 -23.6346370868320719, -52.0287365835264950 -23.6374112129570904, -52.0240566932617412 -23.6377154194310037, -52.0269094111403660 -23.6345458784894618, -52.0250439312324033 -23.6331936057002849, -52.0266148525933545 -23.6310501876160401, -52.0244246131053956 -23.6297244664109485, -52.0199757325939345 -23.6320856913015405, -52.0153619964589211 -23.6269075523416063, -52.0143029719046126 -23.6290231022343278, -52.0118323570775942 -23.6296593572934626, -52.0119439251719768 -23.6333693215369181, -52.0091928549662157 -23.6327771908146360, -52.0079324245417070 -23.6297330036751418, -52.0099299087382292 -23.6272658125671455, -52.0083681928377928 -23.6271013778263068, -52.0122606592020134 -23.6259590130979404, -52.0128713240522984 -23.6213422129727064, -52.0089004889663329 -23.6225567015305273, -52.0080720631751205 -23.6197247382060596, -52.0042200797927876 -23.6192402509367980, -52.0022732481118624 -23.6215356382590471, -51.9984421020213290 -23.6219348572078616, -51.9982768318103012 -23.6199769323894770, -51.9959271470201543 -23.6211090871146325, -51.9949512917686434 -23.6242463325021959, -51.9859329901153728 -23.6200691137985359, -51.9871597175468878 -23.6171364506865871, -51.9863289535183526 -23.6157718823664595, -51.9808561417974602 -23.6188109370750681, -51.9787193715017679 -23.6160863815812263, -51.9743121565807087 -23.6168619874906653, -51.9715928882012008 -23.6152551939719615, -51.9700579909834346 -23.6166692510849998, -51.9687670213808701 -23.6126848704104191, -51.9648808565662534 -23.6122143226328376, -51.9636004638902591 -23.6163076291936704, -51.9657417137090647 -23.6188492221138517, -51.9643116045968441 -23.6229874992736200, -51.9624344478914395 -23.6240242404263086, -51.9613051880839407 -23.6230897467943350, -51.9621399154247001 -23.6210808618922101, -51.9580502439235943 -23.6207635963628491, -51.9451599912405868 -23.6352603062181288, -51.9366405983848836 -23.6396977320646329, -51.9371194855757494 -23.6456633713674478, -51.9351759364203076 -23.6515805363126788, -51.9372476047930718 -23.6566188279964535, -51.9399135523685231 -23.6730356992380848, -51.9399333725270935 -23.6795863628203165, -51.9366012053812938 -23.6807423666668342, -51.9373570540847140 -23.6833083258185297, -51.9410143171569416 -23.6831214098251621, -51.9448759106946909 -23.6783352232918674, -51.9445192719467741 -23.6842076316768271, -51.9455766516411472 -23.6849346355249395, -51.9488239398729092 -23.6816816887588857, -51.9526264731331935 -23.6817319734517469, -51.9522117957377532 -23.6780803455314981, -51.9553470590195161 -23.6757661794655405, -51.9575708693001275 -23.6789714477740745, -51.9546314387898178 -23.6815517744947783, -51.9532905361293160 -23.6863065531048846, -51.9570992243496903 -23.6853396847785689, -51.9585469817577632 -23.6873244408702135, -51.9585488919178147 -23.6930653530835116, -51.9618173259088394 -23.6914748399918267, -51.9636035899337116 -23.6945289763311280, -51.9589097898548857 -23.6977279781636412, -51.9534883429126353 -23.6987123769745835, -51.9488277107301997 -23.7039033240790786, -51.9450690958620385 -23.7058913528036328, -51.9365441002299804 -23.7074512268925446, -51.9322963719799304 -23.7143799204968673, -51.9255470562516166 -23.7126994230399077, -51.9192352948729194 -23.7259725512921591, -51.9211556550094429 -23.7279567749851594, -51.9207446153716887 -23.7328436756950509, -51.9248558975815513 -23.7358500355506408, -51.9256259025133318 -23.7398755665041676, -51.9302087136611590 -23.7447210948026282, -51.9306079146235220 -23.7480756029066811, -51.9359638252702780 -23.7531325852006034, -51.9398541485500687 -23.7613845799343721, -51.9429109936473878 -23.7635199931531247, -51.9444054528493098 -23.7689359245532046, -51.9504367597486407 -23.7759950810081477, -51.9554105727397086 -23.7760492507722461, -51.9564629252237751 -23.7739449963644347, -51.9616051308720444 -23.7757800279259186, -51.9647174209721356 -23.7788715319955486, -51.9665969276060764 -23.7835080938234000, -51.9746569233782907 -23.7876861129237227, -51.9739673717967321 -23.7929829183269703, -51.9772732562557280 -23.7973673309375044, -51.9837984762186807 -23.7962099214506679, -51.9861847670133557 -23.7922853492893864, -51.9924610483386687 -23.7894248711608043, -51.9962670835590188 -23.7906024479445932, -52.0108236702761246 -23.7904747586031817, -52.0239662799198186 -23.7961128081595348, -52.0263258887287634 -23.7990689849456771, -52.0298764328510401 -23.8116224747973320, -52.0335241586129769 -23.8175724407155371, -52.0383275401837864 -23.8173817808444710, -52.0438218825737522 -23.8109704537234279))"
          ],
          [
           4114104,
           "Mandaguaçu",
           "4115200",
           "Maringá/PR",
           0.953086368683,
           0.0259263762249,
           "POLYGON ((-51.9625388286040106 -23.1616193131807222, -51.9645642556358212 -23.1659579556950348, -51.9643271134055453 -23.1701428096429254, -51.9581454731350618 -23.1743256473107522, -51.9591589092561890 -23.1792478311224386, -51.9632879998412704 -23.1829106349178460, -51.9663706662731784 -23.1824684949250468, -51.9632371944409215 -23.1864588686818252, -51.9657508283380025 -23.1921901626458293, -51.9727540100894316 -23.1927128126461639, -51.9733950576357415 -23.1914673964031977, -51.9768633425691746 -23.1963750462713278, -51.9734543787165535 -23.1995199790637230, -51.9757382394281535 -23.2025170120504072, -51.9732791125409790 -23.2046632647977731, -51.9682292411864637 -23.2035593047181123, -51.9656038494380823 -23.2064821966959585, -51.9682439819741262 -23.2082050018593122, -51.9682790051718939 -23.2159007272367148, -51.9609367709152252 -23.2187110915435824, -51.9685516895088426 -23.2270012804846715, -51.9659668931575425 -23.2302432744075418, -51.9611219871899266 -23.2314116277443645, -51.9577232846018546 -23.2306490889842507, -51.9585487696099904 -23.2335534135591502, -51.9571400958387244 -23.2375686535704631, -51.9613275488272848 -23.2380760924376659, -51.9635888599378859 -23.2409701260704082, -51.9683920445571630 -23.2394166848321220, -51.9697409089157532 -23.2403655550263011, -51.9686305942265108 -23.2432809304705188, -51.9632405435162354 -23.2452446523188314, -51.9682329544872346 -23.2478535864738092, -51.9628367551121073 -23.2504020619055609, -51.9629152227593067 -23.2546279591129519, -51.9643247257054668 -23.2522345852578383, -51.9657180750290877 -23.2538646010704610, -51.9656117571768164 -23.2553316903052405, -51.9694420417168317 -23.2551321280452044, -51.9712785094955620 -23.2576469202691101, -51.9687453737999476 -23.2610529496338927, -51.9695969337514612 -23.2621966714391988, -51.9666858921401627 -23.2647331202372811, -51.9679941386185646 -23.2647662953282293, -51.9678766233074612 -23.2660698770231420, -51.9658138249480430 -23.2704115610446820, -51.9675661746392166 -23.2744190471012757, -51.9729775347853433 -23.2749330519187652, -51.9732100239234001 -23.2780426674351020, -51.9777569485243021 -23.2817593801912039, -51.9775209358424490 -23.2966639442855694, -51.9824593614103492 -23.2947599311258955, -51.9865427106774973 -23.2967862835600954, -51.9903581689942484 -23.3020096017616538, -51.9923450798614795 -23.3083078697123938, -51.9975558786008492 -23.3110153893487109, -52.0016973033878003 -23.3116891767140828, -52.0052552732122422 -23.3103824204123384, -52.0082026411389506 -23.3125165484998433, -52.0089367433359939 -23.3108227185935561, -52.0103848892512133 -23.3144279154159335, -52.0135848119894604 -23.3162248858697581, -52.0175253597075198 -23.3147024694433753, -52.0223439407202477 -23.3162128475448185, -52.0295181699275417 -23.3250130384209342, -52.0341402086037306 -23.3249618553053324, -52.0350803454815036 -23.3236694144118815, -52.0371567119127008 -23.3253706133630772, -52.0411050405651281 -23.3248513744912884, -52.0462765056561807 -23.3311581761088860, -52.0466243076656383 -23.3354588060789752, -52.0499108504053538 -23.3393582826585657, -52.0576306290502657 -23.3380226671123410, -52.0651281105738235 -23.3391263241205138, -52.0675997848022121 -23.3432861742174964, -52.0767135809669526 -23.3473314461892301, -52.0791876536871996 -23.3581531358585153, -52.0821944218350836 -23.3618842845320387, -52.0724502638685181 -23.3682122840696138, -52.0737283794611017 -23.3754776110029070, -52.0813809508701411 -23.3891276226416380, -52.0902844720507119 -23.3924064761778823, -52.0949863291557449 -23.4003380424666148, -52.1087671624745212 -23.4050733696402631, -52.1187193246370839 -23.4024684815351520, -52.1376428114665487 -23.4172730374206708, -52.1419922755230800 -23.4177643775239517, -52.1486363894577494 -23.4142490292692287, -52.1495255230843782 -23.4089955253231778, -52.1440608862009185 -23.3927866411904688, -52.1450221562474781 -23.3873390428624930, -52.1510763751745117 -23.3782762454522981, -52.1509882488085736 -23.3725011688937911, -52.1483685731510604 -23.3684950785849423, -52.1639439874250570 -23.3642809714896202, -52.1691998143199385 -23.3564147760210403, -52.1783951160417132 -23.3493542409054271, -52.1709670873611344 -23.3417939327437693, -52.1673650678435479 -23.3351843347891759, -52.1606401318366011 -23.3305608311173955, -52.1591899516549233 -23.3268710287749172, -52.1524364468844510 -23.3208974493577443, -52.1442978863383360 -23.3041579130572245, -52.1405731849044969 -23.3021000609689963, -52.1254675306020090 -23.2995003799385358, -52.1130167055564471 -23.3036222768465677, -52.1142082416170069 -23.2950419432310696, -52.1170396365699276 -23.2919005537675048, -52.1147531705223628 -23.2866180943495351, -52.1045346462568659 -23.2840742288425417, -52.0935088995160527 -23.2717248383305559, -52.0903241960048149 -23.2623441737445660, -52.0841083832951881 -23.2599975340589253, -52.0822557007399496 -23.2556668010819863, -52.0826985386066212 -23.2505345815056899, -52.0860501311086068 -23.2432453730754673, -52.0802640342577092 -23.2336072002120773, -52.0805868953688673 -23.2298906007705455, -52.0709794505411878 -23.2299021138913986, -52.0671513909239252 -23.2177277539326496, -52.0628803540450349 -23.2130764702029069, -52.0611059107091592 -23.2053039804942500, -52.0587376800997959 -23.2038883927351094, -52.0708293500944137 -23.1896702910510726, -52.0676900830308682 -23.1881515267714917, -52.0649630193278199 -23.1840590269025029, -52.0582434028107741 -23.1785868842772516, -52.0483514952252904 -23.1676857925652371, -52.0484023671754699 -23.1661980342118454, -52.0454746548314233 -23.1652970601111861, -52.0436555106932133 -23.1629168999949115, -52.0385990023420391 -23.1606607419996067, -52.0357918036488059 -23.1609507194001480, -52.0273987142791725 -23.1566028120700480, -52.0234633457567384 -23.1577738238028701, -52.0193485130234308 -23.1560686291638831, -52.0097736299489952 -23.1596486467676073, -52.0080477392117473 -23.1574813984477146, -51.9991541105737269 -23.1553451758391589, -51.9940765769724180 -23.1585019634947571, -51.9872933469104055 -23.1595166451770069, -51.9774906763535682 -23.1547781164168782, -51.9733765342995753 -23.1556016822717652, -51.9732640336082454 -23.1585345009664252, -51.9659303779845345 -23.1571836634952319, -51.9625388286040106 -23.1616193131807222))"
          ],
          [
           4114807,
           "Marialva",
           "4115200",
           "Maringá/PR",
           1.99828251932,
           0.0420752115599,
           "POLYGON ((-51.9997501137767131 -23.5565708664522617, -51.9975755746530126 -23.5562432515247906, -51.9959923928346370 -23.5580017768604648, -51.9934556886290693 -23.5557849345270824, -51.9968550126486662 -23.5531165974529699, -51.9972325453456392 -23.5473370629550232, -51.9925334185823544 -23.5490491131260455, -51.9909786697297704 -23.5482303019867913, -51.9893685667059344 -23.5463511802627181, -51.9906773293951687 -23.5446640853791678, -51.9900111062275414 -23.5422285531051898, -51.9857956330619686 -23.5424168459606449, -51.9854465702030097 -23.5390350290433048, -51.9809419011477871 -23.5369378388101609, -51.9816444425369468 -23.5344794097968588, -51.9789040364920538 -23.5313436473913953, -51.9813808692317139 -23.5291609460207951, -51.9810668493555568 -23.5236188981935470, -51.9835538219512614 -23.5193441938794194, -51.9811521689373990 -23.5183473700350305, -51.9806518688885717 -23.5148742314605670, -51.9768705200584122 -23.5161871049509159, -51.9772769075032102 -23.5206725806750114, -51.9745999081591776 -23.5195601678673825, -51.9698671287649177 -23.5205121074477574, -51.9667862708696475 -23.5147760326877346, -51.9683688663300813 -23.5136188696150725, -51.9675633957340892 -23.5123782098864353, -51.9691957425894202 -23.5071449298945367, -51.9664575057092861 -23.5042391619077762, -51.9607034723873085 -23.5055394394934751, -51.9590881362084929 -23.5027872307460370, -51.9590884635617272 -23.4976184294469022, -51.9558421016316174 -23.4946733511941375, -51.9560545205995936 -23.4930894849916854, -51.9525122043746705 -23.4912505791508579, -51.9519301631464714 -23.4870362373324610, -51.9486150615358042 -23.4851424764440821, -51.9414188555956571 -23.4886315896760607, -51.9418552947859666 -23.4837276000486668, -51.9405703767214391 -23.4817395182641349, -51.9383230167937313 -23.4801376269498974, -51.9337867950245027 -23.4805496234662883, -51.9301063240475855 -23.4758104094228202, -51.9174225377199150 -23.4787625113807508, -51.9115394462883728 -23.4770667587238790, -51.9177084061179812 -23.4874882662704181, -51.9190990529788792 -23.4970022220748547, -51.9224370315437227 -23.5001135013369549, -51.9094389060805952 -23.5099142950086843, -51.9226570983463489 -23.5304536459189535, -51.9281988529946261 -23.5338604711837434, -51.9202967772744159 -23.5428488586878188, -51.9201627432159967 -23.5458894404452508, -51.9152843402001167 -23.5513285905419707, -51.9183468528249819 -23.5538442730946826, -51.9123299233872331 -23.5607617197774744, -51.9113447268775872 -23.5589479922559804, -51.9051591259928387 -23.5558315068185493, -51.9024750372930725 -23.5576888037952017, -51.8997934828828988 -23.5559315545975210, -51.8964577957905817 -23.5461665359568428, -51.8935145548527998 -23.5441926679571907, -51.8930742647654597 -23.5402915069474261, -51.8896863243643338 -23.5410921643718325, -51.8874849971348908 -23.5389784338076424, -51.8869306217507642 -23.5359764122815704, -51.8811002557721395 -23.5330380609577219, -51.8808779748386542 -23.5262500474017315, -51.8794453431280544 -23.5243470333888354, -51.8753138369639828 -23.5224397089253898, -51.8678851158053931 -23.5233300467442064, -51.8637254869416324 -23.5167462224601422, -51.8590147319442849 -23.5158666090567294, -51.8529605319029656 -23.5108187027208828, -51.8496016557917301 -23.5047365427572004, -51.8467021803613193 -23.4967329551616899, -51.8525132639759363 -23.4905119137937390, -51.8534712514970124 -23.4863736402312497, -51.8534940223312333 -23.4579305885258123, -51.8511988796245760 -23.4549050398356940, -51.8510324708718144 -23.4547953783040271, -51.8459838351857911 -23.4477925122146189, -51.8456279923379384 -23.4445181175170774, -51.8409677081931477 -23.4518011512021189, -51.8331472270628524 -23.4586966850039857, -51.8266052095627288 -23.4595560483729173, -51.8064763047376573 -23.4450803763582485, -51.8029885368914051 -23.4377727318260440, -51.8036237946024016 -23.4294193106526336, -51.8018825020757845 -23.4175416838016304, -51.8004774858472388 -23.4124427733153198, -51.7971347876402888 -23.4090818134748702, -51.8192689027376332 -23.3927881457562989, -51.8273329634454853 -23.3932423978183692, -51.8335011813343840 -23.3957294819300046, -51.8392578694550821 -23.3933850069124674, -51.8430171219425802 -23.3936634154342187, -51.8461505667951883 -23.3901110357955986, -51.8457502632639944 -23.3881254406365429, -51.8410978454891165 -23.3855000246064151, -51.8447869760380513 -23.3815131015483644, -51.8425783903803676 -23.3797995090400832, -51.8421388728106649 -23.3754073056026073, -51.8395738678397038 -23.3723954841642012, -51.8432408453886637 -23.3664308880750013, -51.8393115823636208 -23.3590655673220340, -51.8434851866919644 -23.3545284615192372, -51.8473313802389839 -23.3535949346584744, -51.8491860934634019 -23.3563062647223205, -51.8510394478122407 -23.3534608385468232, -51.8449966304900727 -23.3467588622316384, -51.8467807343433833 -23.3446859743781943, -51.8459244583470422 -23.3416887219569276, -51.8469834766061126 -23.3419397335318308, -51.8506704253997555 -23.3367197149428307, -51.8493607004359092 -23.3321215298846596, -51.8473746259381869 -23.3319354259790543, -51.8478491496185256 -23.3304645398065986, -51.8459532897124973 -23.3294159608778386, -51.8463997995111185 -23.3279239370399978, -51.8427922644514183 -23.3296269984871287, -51.8345381967803291 -23.3280376050514064, -51.8328751308825417 -23.3210265650238853, -51.8282310489237261 -23.3152729579805964, -51.8281589997379797 -23.3234350609792500, -51.8269033555054079 -23.3261450105837298, -51.8249672329513942 -23.3269818513313112, -51.8115870664898921 -23.3224970797763831, -51.8025038059058716 -23.3238077040622329, -51.8040162587433315 -23.3269776757790623, -51.8028207701623842 -23.3310509976054163, -51.7960292249687200 -23.3325891503689604, -51.7932057197681388 -23.3350890102495896, -51.7909236810829725 -23.3409699208251595, -51.7851460405572652 -23.3370627568407372, -51.7810895819186499 -23.3377038943192474, -51.7763522249751418 -23.3354798331277493, -51.7743700058710488 -23.3387601687467736, -51.7774198020821359 -23.3406688691729300, -51.7802673524562920 -23.3505074145854792, -51.7784224508354214 -23.3502899378303255, -51.7775603966949234 -23.3520158762316328, -51.7737598887078434 -23.3507697432290229, -51.7729011449717973 -23.3522935446113706, -51.7746338022081432 -23.3546086459721778, -51.7727951850496879 -23.3551248981954700, -51.7736456361371324 -23.3558571621782676, -51.7692384427998604 -23.3560850503847064, -51.7678994970640929 -23.3574250941927062, -51.7691432711450261 -23.3583831887331144, -51.7680656594026232 -23.3631003855742847, -51.7712469221077072 -23.3655968073467193, -51.7709065574915712 -23.3699815760888328, -51.7638768889072480 -23.3727999038924281, -51.7666314754621908 -23.3750809578198755, -51.7725886296614703 -23.3754501205265797, -51.7750106613129333 -23.3784428673444040, -51.7705466497080806 -23.3808521070390611, -51.7681535231665180 -23.3854214823155075, -51.7714881787364334 -23.3877260840914687, -51.7720518881840235 -23.3903458550771006, -51.7705113944852542 -23.3909060014107695, -51.7683777655213930 -23.3972000659302353, -51.7752775971833330 -23.4005264873075021, -51.7689441207745062 -23.4046787588176244, -51.7690626676079546 -23.4077623695376928, -51.7722637576662237 -23.4139844891927851, -51.7688176805914395 -23.4172925113402925, -51.7658440416691406 -23.4161761064420944, -51.7638308768933939 -23.4173584253509830, -51.7657498943420933 -23.4213133847048880, -51.7687875092361196 -23.4206068314400682, -51.7727101811299235 -23.4222673648469595, -51.7661739543644330 -23.4255447758706623, -51.7723703327246199 -23.4324441290932555, -51.7626813418704046 -23.4321116524307627, -51.7623504102431866 -23.4337475857823847, -51.7687071035499571 -23.4432890869217658, -51.7652926376450750 -23.4444315155020035, -51.7639573557473227 -23.4482839539412566, -51.7650991215272143 -23.4517422797823656, -51.7681683799667098 -23.4538537197732921, -51.7663798748313297 -23.4571816816892351, -51.7674073880405103 -23.4606888991733058, -51.7620018447093457 -23.4639532880137835, -51.7594568649423081 -23.4684082956063094, -51.7609492566028848 -23.4752206942795851, -51.7594118134044265 -23.4810988691174884, -51.7629071328578334 -23.4863065678937346, -51.7568681457482853 -23.4899027364220956, -51.7538682187432642 -23.4937157278984614, -51.7477933783616777 -23.4953535804033891, -51.7262368168755415 -23.4920518337250996, -51.7148895382215983 -23.4925321040732911, -51.7117301596191510 -23.4972822017122098, -51.7098581452371491 -23.5035618051331312, -51.7687852528371195 -23.5511346499441174, -51.7723032217162427 -23.5576718722590499, -51.7775698773479007 -23.5626538268126069, -51.7780385734213837 -23.5733383500847253, -51.7824070734276347 -23.5778849985937882, -51.7871249861291858 -23.5801921058809398, -51.7877304888709205 -23.5823530805301971, -51.7919191982123834 -23.5857941339920671, -51.7955020801568367 -23.5869793738989415, -51.8028887652043295 -23.6034455693575183, -51.8101786184484467 -23.6071475089503338, -51.8144544577070292 -23.6054731862384983, -51.8159383300898071 -23.6066997481947851, -51.8196519536746791 -23.6058332019406976, -51.8235442689527872 -23.6072568251423149, -51.8304023954541435 -23.6186543965831106, -51.8299526795724432 -23.6253083374098196, -51.8352350508568520 -23.6277086504338172, -51.8367152719921478 -23.6298988260699048, -51.8358313526347843 -23.6319766278190855, -51.8385334655469592 -23.6363993884210117, -51.8437069145424516 -23.6389621792611138, -51.8472974551134484 -23.6378153458015277, -51.8474700925706884 -23.6352908103226014, -51.8518829678246789 -23.6339558171072213, -51.8522223072136512 -23.6383871635367200, -51.8548283239679222 -23.6414699729608628, -51.8568968896796605 -23.6387405809130087, -51.8584471868880996 -23.6387015161619729, -51.8589653834456499 -23.6417328753718721, -51.8622680123588680 -23.6408073398868055, -51.8625804404349537 -23.6426933153441610, -51.8647274531094240 -23.6424295693690851, -51.8662939857787819 -23.6470122618063670, -51.8691307748653117 -23.6431407919139929, -51.8671394483268386 -23.6405729441859762, -51.8685077263504581 -23.6381568444627419, -51.8720867358141504 -23.6395867620194053, -51.8768057268027860 -23.6457576212172285, -51.8818093064542722 -23.6470660313722192, -51.8886276001835540 -23.6451265633401704, -51.8890349732853338 -23.6480832509412267, -51.8847470417425143 -23.6512738054417468, -51.8850988070642529 -23.6554887102357156, -51.8887514710035589 -23.6541414196907454, -51.8897825050585197 -23.6551942164398952, -51.8887208427926225 -23.6569035236786362, -51.8849658683801067 -23.6577196530395213, -51.8863168686285690 -23.6602117922403750, -51.8919359685700670 -23.6596727790754358, -51.8911694700949511 -23.6626595274152010, -51.8933391879531314 -23.6600781134141585, -51.8929889937469966 -23.6566050827582899, -51.8994292331725546 -23.6535607877001439, -51.9026193191262450 -23.6545903837391620, -51.9010612427820774 -23.6565800645183231, -51.9051071523731480 -23.6567529933558944, -51.9055289982646286 -23.6634398673559758, -51.9083977258742948 -23.6610860717647711, -51.9107981063474995 -23.6613007336418946, -51.9109784725783925 -23.6638924295918969, -51.9133187765402795 -23.6662271172875762, -51.9127218272504933 -23.6718371313784814, -51.9190956841184743 -23.6669987814685214, -51.9234917366542845 -23.6685486541969681, -51.9221558342243270 -23.6651147872175898, -51.9230841054470602 -23.6622076288789458, -51.9250409258979744 -23.6652472834353489, -51.9297733941268120 -23.6664152095942200, -51.9297166442077014 -23.6711372573784615, -51.9318907777371805 -23.6761462986127640, -51.9379594334810122 -23.6772912102211421, -51.9399135523685231 -23.6730356992380848, -51.9372476047930718 -23.6566188279964535, -51.9351759364203076 -23.6515805363126788, -51.9371194855757494 -23.6456633713674478, -51.9366405983848836 -23.6396977320646329, -51.9451599912405868 -23.6352603062181288, -51.9580502439235943 -23.6207635963628491, -51.9621399154247001 -23.6210808618922101, -51.9613051880839407 -23.6230897467943350, -51.9624344478914395 -23.6240242404263086, -51.9643116045968441 -23.6229874992736200, -51.9657417137090647 -23.6188492221138517, -51.9636004638902591 -23.6163076291936704, -51.9648808565662534 -23.6122143226328376, -51.9687670213808701 -23.6126848704104191, -51.9700579909834346 -23.6166692510849998, -51.9715928882012008 -23.6152551939719615, -51.9743121565807087 -23.6168619874906653, -51.9787193715017679 -23.6160863815812263, -51.9808561417974602 -23.6188109370750681, -51.9863289535183526 -23.6157718823664595, -51.9871597175468878 -23.6171364506865871, -51.9859329901153728 -23.6200691137985359, -51.9949512917686434 -23.6242463325021959, -51.9959271470201543 -23.6211090871146325, -51.9982768318103012 -23.6199769323894770, -51.9984421020213290 -23.6219348572078616, -52.0022732481118624 -23.6215356382590471, -52.0042200797927876 -23.6192402509367980, -52.0080720631751205 -23.6197247382060596, -52.0089004889663329 -23.6225567015305273, -52.0128713240522984 -23.6213422129727064, -52.0122606592020134 -23.6259590130979404, -52.0083681928377928 -23.6271013778263068, -52.0099299087382292 -23.6272658125671455, -52.0079324245417070 -23.6297330036751418, -52.0091928549662157 -23.6327771908146360, -52.0119439251719768 -23.6333693215369181, -52.0118323570775942 -23.6296593572934626, -52.0143029719046126 -23.6290231022343278, -52.0153619964589211 -23.6269075523416063, -52.0199757325939345 -23.6320856913015405, -52.0244246131053956 -23.6297244664109485, -52.0266148525933545 -23.6310501876160401, -52.0250439312324033 -23.6331936057002849, -52.0269094111403660 -23.6345458784894618, -52.0240566932617412 -23.6377154194310037, -52.0287365835264950 -23.6374112129570904, -52.0318890670267820 -23.6346370868320719, -52.0320371152206462 -23.6362725732206513, -52.0334916103494720 -23.6365374064760658, -52.0315993261479548 -23.6388058833847481, -52.0312551250239608 -23.6430750712574991, -52.0273547779006549 -23.6431509839306955, -52.0246305182837432 -23.6458474185234877, -52.0275955884656014 -23.6499709593921921, -52.0259419240804846 -23.6516683641036707, -52.0284551883561903 -23.6531146160466506, -52.0344936205841009 -23.6510170211186050, -52.0368784706648739 -23.6532566567692584, -52.0351152220898143 -23.6546829149845053, -52.0371050215794639 -23.6580430195696749, -52.0436355988038031 -23.6535108105754261, -52.0484382141522133 -23.6585118757224677, -52.0471072481009855 -23.6602081598786071, -52.0526113211554957 -23.6619570282941822, -52.0547034491048635 -23.6577764928907754, -52.0581930560646242 -23.6599845515457901, -52.0607209541087173 -23.6566180671700295, -52.0586541897390020 -23.6537175737070129, -52.0615253086460257 -23.6507976153176287, -52.0595549480024147 -23.6485427640373018, -52.0591788740057950 -23.6437364650657855, -52.0547922103921792 -23.6436896508566292, -52.0530227672868477 -23.6427089446620471, -52.0547912589094040 -23.6402400763184346, -52.0458384719678406 -23.6376600086024951, -52.0473889256583675 -23.6348951517898058, -52.0448414799503212 -23.6343071075868920, -52.0466890093902066 -23.6328546997845024, -52.0453796720341870 -23.6308679444999825, -52.0479956137065756 -23.6282202828397203, -52.0441731739527995 -23.6278986942692768, -52.0452441477991670 -23.6256711473055816, -52.0420613544479238 -23.6235317024260780, -52.0400862372899837 -23.6246069903202738, -52.0346619691745218 -23.6226800678307995, -52.0357932470606670 -23.6177962481982604, -52.0371047985475457 -23.6172496420572884, -52.0363626842903955 -23.6165434907894110, -52.0401830807845158 -23.6132243332363601, -52.0383772169349754 -23.6111031023262399, -52.0392206281294420 -23.6106642817311467, -52.0357599829368382 -23.6081954007970580, -52.0291264890961429 -23.6071032263328107, -52.0284019152161932 -23.6039206713019212, -52.0319893693139193 -23.6050997625439436, -52.0303122703949157 -23.6021804210895425, -52.0306865592372674 -23.5982464393216560, -52.0274863433200494 -23.5958881003555234, -52.0295347723118766 -23.5923751910621604, -52.0288047782178751 -23.5899516125768400, -52.0260434089760793 -23.5885311522907841, -52.0201018112495603 -23.5895864707389933, -52.0221821832611226 -23.5855171958618826, -52.0259282310030358 -23.5831983308382291, -52.0190279164051503 -23.5844345883854771, -52.0172170936938869 -23.5807336245570696, -52.0183374690988671 -23.5779572330398537, -52.0148268485801282 -23.5759593387524546, -52.0147016575554062 -23.5720370787481670, -52.0075352803289093 -23.5650337414139699, -52.0056743860640154 -23.5659819326200477, -52.0043980520284208 -23.5629276011278534, -52.0069303765355926 -23.5617551693655400, -51.9997501137767131 -23.5565708664522617))"
          ],
          [
           4115200,
           "Maringá",
           "4115200",
           "Maringá/PR",
           1.26712273965,
           0.0430218331114,
           "POLYGON ((-52.0949863291557449 -23.4003380424666148, -52.0902844720507119 -23.3924064761778823, -52.0813809508701411 -23.3891276226416380, -52.0737283794611017 -23.3754776110029070, -52.0724502638685181 -23.3682122840696138, -52.0821944218350836 -23.3618842845320387, -52.0791876536871996 -23.3581531358585153, -52.0767135809669526 -23.3473314461892301, -52.0675997848022121 -23.3432861742174964, -52.0651281105738235 -23.3391263241205138, -52.0576306290502657 -23.3380226671123410, -52.0499108504053538 -23.3393582826585657, -52.0466243076656383 -23.3354588060789752, -52.0462765056561807 -23.3311581761088860, -52.0411050405651281 -23.3248513744912884, -52.0371567119127008 -23.3253706133630772, -52.0350803454815036 -23.3236694144118815, -52.0341402086037306 -23.3249618553053324, -52.0295181699275417 -23.3250130384209342, -52.0223439407202477 -23.3162128475448185, -52.0175253597075198 -23.3147024694433753, -52.0135848119894604 -23.3162248858697581, -52.0103848892512133 -23.3144279154159335, -52.0089367433359939 -23.3108227185935561, -52.0082026411389506 -23.3125165484998433, -52.0052552732122422 -23.3103824204123384, -52.0016973033878003 -23.3116891767140828, -51.9975558786008492 -23.3110153893487109, -51.9923450798614795 -23.3083078697123938, -51.9903581689942484 -23.3020096017616538, -51.9865427106774973 -23.2967862835600954, -51.9824593614103492 -23.2947599311258955, -51.9775209358424490 -23.2966639442855694, -51.9777569485243021 -23.2817593801912039, -51.9732100239234001 -23.2780426674351020, -51.9729775347853433 -23.2749330519187652, -51.9675661746392166 -23.2744190471012757, -51.9658138249480430 -23.2704115610446820, -51.9678766233074612 -23.2660698770231420, -51.9679941386185646 -23.2647662953282293, -51.9666858921401627 -23.2647331202372811, -51.9695969337514612 -23.2621966714391988, -51.9687453737999476 -23.2610529496338927, -51.9712785094955620 -23.2576469202691101, -51.9694420417168317 -23.2551321280452044, -51.9656117571768164 -23.2553316903052405, -51.9657180750290877 -23.2538646010704610, -51.9607952976647880 -23.2577810766353537, -51.9531185416873313 -23.2584592571889175, -51.9502604836343949 -23.2600727677439636, -51.9498412664612488 -23.2635809376101292, -51.9464079867391320 -23.2638781599490585, -51.9452275680977209 -23.2621388513268812, -51.9442041306160718 -23.2640569208901411, -51.9393744960361232 -23.2639476118927178, -51.9394149673268544 -23.2667812434595476, -51.9417530814395150 -23.2666467318611581, -51.9416178899535907 -23.2692109085565448, -51.9431099065968738 -23.2700734366397342, -51.9414404285329283 -23.2734433429358774, -51.9361264181995921 -23.2724584117262907, -51.9327746233501557 -23.2774640679123763, -51.9288382233053198 -23.2791062677400191, -51.9295369452737532 -23.2806994473215809, -51.9236497682221625 -23.2810467969720776, -51.9260114121968854 -23.2820608797057957, -51.9237937514803889 -23.2868890429949147, -51.9129291560556680 -23.2900121447446509, -51.9108529029390979 -23.2901893984219441, -51.9094716135240901 -23.2884336277097077, -51.9066012563428671 -23.2900686698332038, -51.8963755824671011 -23.2978390083634963, -51.8973055021471623 -23.3011240411415201, -51.8995742947178655 -23.3028304273822755, -51.8987134519641700 -23.3039181798800428, -51.8923247077190695 -23.3048767033970989, -51.8852988009988394 -23.3000601503555913, -51.8785614309652487 -23.2977932238781591, -51.8774949042663707 -23.2931660149995423, -51.8740134244799265 -23.2919456160972800, -51.8739012961078743 -23.2882970125970132, -51.8684743606032157 -23.2880113204660120, -51.8711143807240660 -23.3020452122167399, -51.8699882424633643 -23.3046129331403336, -51.8667965817967911 -23.3047004317794517, -51.8630874170506218 -23.3019306763595750, -51.8555656151609696 -23.3067124436243489, -51.8531341325341373 -23.3115753027579444, -51.8524343862379169 -23.3170917873560484, -51.8470723332215471 -23.3161681035750803, -51.8481582502030278 -23.3113356406272487, -51.8462611267495390 -23.3102599867089566, -51.8422386714774461 -23.3114095487116515, -51.8366119021175678 -23.3170719582042807, -51.8361954251786869 -23.3217772732025423, -51.8395261264295755 -23.3252725674749399, -51.8430800331170190 -23.3242818167523751, -51.8463997995111185 -23.3279239370399978, -51.8459532897124973 -23.3294159608778386, -51.8478491496185256 -23.3304645398065986, -51.8473746259381869 -23.3319354259790543, -51.8493607004359092 -23.3321215298846596, -51.8506704253997555 -23.3367197149428307, -51.8469834766061126 -23.3419397335318308, -51.8459244583470422 -23.3416887219569276, -51.8467807343433833 -23.3446859743781943, -51.8449966304900727 -23.3467588622316384, -51.8510394478122407 -23.3534608385468232, -51.8491860934634019 -23.3563062647223205, -51.8473313802389839 -23.3535949346584744, -51.8434851866919644 -23.3545284615192372, -51.8393115823636208 -23.3590655673220340, -51.8432408453886637 -23.3664308880750013, -51.8395738678397038 -23.3723954841642012, -51.8421388728106649 -23.3754073056026073, -51.8425783903803676 -23.3797995090400832, -51.8447869760380513 -23.3815131015483644, -51.8410978454891165 -23.3855000246064151, -51.8457502632639944 -23.3881254406365429, -51.8461505667951883 -23.3901110357955986, -51.8430171219425802 -23.3936634154342187, -51.8424843707570631 -23.4003959156389669, -51.8405509920345935 -23.4025686129510859, -51.8398810456736783 -23.4065294367840124, -51.8451850573444517 -23.4063616547664992, -51.8481139504983730 -23.4103314664239974, -51.8637441595652717 -23.4160990201536379, -51.8677678801834645 -23.4149309995659110, -51.8779185371107587 -23.4159342931330912, -51.8876798397527637 -23.4399570303925771, -51.8932299598947111 -23.4454259696327654, -51.8970870001649018 -23.4527459996281209, -51.9047079999741641 -23.4593749995565304, -51.9058189999468595 -23.4649870002498346, -51.9038190003465729 -23.4703840000215109, -51.9056409215912140 -23.4768539359603210, -51.9115394462883728 -23.4770667587238790, -51.9174225377199150 -23.4787625113807508, -51.9301063240475855 -23.4758104094228202, -51.9337867950245027 -23.4805496234662883, -51.9383230167937313 -23.4801376269498974, -51.9405703767214391 -23.4817395182641349, -51.9418552947859666 -23.4837276000486668, -51.9414188555956571 -23.4886315896760607, -51.9486150615358042 -23.4851424764440821, -51.9519301631464714 -23.4870362373324610, -51.9525122043746705 -23.4912505791508579, -51.9560545205995936 -23.4930894849916854, -51.9558421016316174 -23.4946733511941375, -51.9590884635617272 -23.4976184294469022, -51.9590881362084929 -23.5027872307460370, -51.9607034723873085 -23.5055394394934751, -51.9664575057092861 -23.5042391619077762, -51.9691957425894202 -23.5071449298945367, -51.9675633957340892 -23.5123782098864353, -51.9683688663300813 -23.5136188696150725, -51.9667862708696475 -23.5147760326877346, -51.9698671287649177 -23.5205121074477574, -51.9745999081591776 -23.5195601678673825, -51.9772769075032102 -23.5206725806750114, -51.9768705200584122 -23.5161871049509159, -51.9806518688885717 -23.5148742314605670, -51.9811521689373990 -23.5183473700350305, -51.9835538219512614 -23.5193441938794194, -51.9810668493555568 -23.5236188981935470, -51.9813808692317139 -23.5291609460207951, -51.9789040364920538 -23.5313436473913953, -51.9816444425369468 -23.5344794097968588, -51.9809419011477871 -23.5369378388101609, -51.9854465702030097 -23.5390350290433048, -51.9857956330619686 -23.5424168459606449, -51.9900111062275414 -23.5422285531051898, -51.9906773293951687 -23.5446640853791678, -51.9893685667059344 -23.5463511802627181, -51.9909786697297704 -23.5482303019867913, -51.9925334185823544 -23.5490491131260455, -51.9972325453456392 -23.5473370629550232, -51.9968550126486662 -23.5531165974529699, -51.9934556886290693 -23.5557849345270824, -51.9959923928346370 -23.5580017768604648, -51.9975755746530126 -23.5562432515247906, -51.9997501137767131 -23.5565708664522617, -52.1002707410018502 -23.5196632841332303, -52.1002595804152406 -23.5195539355656251, -52.0949649082039059 -23.5205579279059975, -52.0918664568714576 -23.5177743535035688, -52.0852125682054066 -23.5172215618255791, -52.0849079480433375 -23.5154668154411297, -52.0880442752230692 -23.5115466238775639, -52.0869535117951159 -23.5064580304137394, -52.0704872488873889 -23.4842357988429740, -52.0673001432869569 -23.4832576548168959, -52.0587682291704255 -23.4761621675499441, -52.0499956807560125 -23.4729767940437455, -52.0422670293998522 -23.4675377033022983, -52.0374355314245918 -23.4667892542206573, -52.0283023854466933 -23.4685117347287360, -52.0181819996994932 -23.4659619903535486, -52.0130519996500311 -23.4626480101974835, -52.0064708400572044 -23.4549080102963785, -52.0450393802631197 -23.4394113748350605, -52.0463227595876674 -23.4385239598128692, -52.0482381950366175 -23.4280509804683561, -52.0478787468067026 -23.4226734672067209, -52.0548880925114190 -23.4174600388496401, -52.0740262538085403 -23.4104790838425743, -52.0767436129273733 -23.4065420614668938, -52.0821423214109700 -23.4058845041664654, -52.0893679297860785 -23.4016667080520619, -52.0949863291557449 -23.4003380424666148))"
          ],
          [
           4117404,
           "Ourizona",
           "4115200",
           "Maringá/PR",
           0.731737110048,
           0.0156215732495,
           "POLYGON ((-52.3048265729879063 -23.5729775744554786, -52.3095451826640101 -23.5671897113360842, -52.3246658844229842 -23.5540184223123106, -52.3220284588462619 -23.5522912041756740, -52.3210674109322440 -23.5484490674704148, -52.3179352709959176 -23.5469718986341832, -52.3185470339184349 -23.5446929895897483, -52.3152480697426085 -23.5454020007016993, -52.3155063649267618 -23.5406577405622102, -52.3087769502959645 -23.5381999608594583, -52.3067564362604571 -23.5343778322711046, -52.3080542479051473 -23.5329874156366827, -52.3011901597980113 -23.5303040095223537, -52.3036111869067213 -23.5254064419536917, -52.2978757587592327 -23.5240124496148155, -52.2946536335583119 -23.5212981364997518, -52.2934461534172215 -23.5162129253861281, -52.2955759998324652 -23.5133206841022684, -52.2947805458854305 -23.5111420080971243, -52.2978598020881691 -23.5074323837974362, -52.2960077967223924 -23.5063226419762827, -52.2972666884069213 -23.5016236573059132, -52.2929536450945989 -23.4994976698815208, -52.2915923179310766 -23.4961095487166745, -52.2884143107717705 -23.4942838269370213, -52.2880774202367320 -23.4891368261036178, -52.2856190964441225 -23.4872431344630286, -52.2805587273034007 -23.4713757076227694, -52.2762793950780065 -23.4690086749103557, -52.2731875447693142 -23.4622055257643751, -52.2732024834078288 -23.4583486725531429, -52.2769418536835815 -23.4572662026730541, -52.2751431763164760 -23.4553561856394026, -52.2772258065257347 -23.4556743540881030, -52.2767159493815257 -23.4534807007736958, -52.2780579618054730 -23.4528672660114808, -52.2766025241871262 -23.4511343614615839, -52.2776718252944761 -23.4471708864272159, -52.2753324530302166 -23.4451538140971820, -52.2749951254246525 -23.4423401348892639, -52.2753571798899088 -23.4400829921363538, -52.2765499669073961 -23.4399481253057047, -52.2731919280649890 -23.4386861318594697, -52.2733114587567798 -23.4358892349002303, -52.2696239946515675 -23.4336315147825189, -52.2677776253370894 -23.4283531131056293, -52.2655405257746111 -23.4268578750908318, -52.2625486620910351 -23.4276352085979624, -52.2599601461437828 -23.4251069670128800, -52.2605598086881855 -23.4239997765683938, -52.2567757717844188 -23.4228789398111985, -52.2573030532932421 -23.4208746261630267, -52.2556068842502555 -23.4203068904506040, -52.2528791091834819 -23.4145446103454447, -52.2458866338610051 -23.4101110273020367, -52.2460954042794583 -23.4057039472792781, -52.2425905915824842 -23.4014158403687134, -52.2398226482965242 -23.4017927012720861, -52.2386797817464981 -23.3995087794065739, -52.2367024045922790 -23.4004017747220701, -52.2350824503947138 -23.3971366925043185, -52.2280942585431376 -23.3913141659159578, -52.2242476692944706 -23.3920377865146065, -52.2207296383620587 -23.3888891188377102, -52.2150891462470668 -23.3909063395558974, -52.2096754730446264 -23.3844068743777029, -52.2021309713671826 -23.3788350544941181, -52.2015362892682901 -23.3758576537077261, -52.1962333720724132 -23.3720335484094903, -52.1945748342611751 -23.3647058139221144, -52.1913385438386968 -23.3600677448305305, -52.1849801382227838 -23.3533733767798708, -52.1790144611484266 -23.3499797436701897, -52.1783951160417132 -23.3493542409054271, -52.1691998143199385 -23.3564147760210403, -52.1639439874250570 -23.3642809714896202, -52.1483685731510604 -23.3684950785849423, -52.1509882488085736 -23.3725011688937911, -52.1510763751745117 -23.3782762454522981, -52.1450221562474781 -23.3873390428624930, -52.1440608862009185 -23.3927866411904688, -52.1495255230843782 -23.4089955253231778, -52.1486363894577494 -23.4142490292692287, -52.1505483247453299 -23.4147437301389800, -52.1546000826276668 -23.4203273482285113, -52.1665775827891594 -23.4245653107404337, -52.1736604040044085 -23.4375277232257986, -52.1764125767789437 -23.4380843037475870, -52.1746613638308077 -23.4416030100708213, -52.1754971910424956 -23.4427410499594657, -52.1826847509004779 -23.4481755955272888, -52.1865197083178600 -23.4490153977423574, -52.1890187183391276 -23.4522956488250998, -52.1910717338734003 -23.4595106398041366, -52.1887138103940060 -23.4639539705992206, -52.1885251838900786 -23.4677328552870108, -52.2013275818023885 -23.4765660117120092, -52.2132729500865480 -23.4806838877511836, -52.2130505945092978 -23.4847612115606239, -52.2208305953556646 -23.4929395275371462, -52.2202369384838789 -23.4942045534972976, -52.2219373055621645 -23.4958306347759276, -52.2214639159269609 -23.5033793236967767, -52.2255747880460035 -23.5079501567742568, -52.2261862389037788 -23.5126679345774505, -52.2274675974516072 -23.5128458933232878, -52.2261581773579451 -23.5178315458890665, -52.2242675110367713 -23.5187613729389682, -52.2257979179395306 -23.5211843129056888, -52.2242169925201551 -23.5229643266422954, -52.2275759180940895 -23.5245009496590569, -52.2270442577862468 -23.5283671657120976, -52.2352138638287329 -23.5289473894104617, -52.2344334834184565 -23.5301841703630998, -52.2365815509977551 -23.5322123493204458, -52.2359953252240530 -23.5357801190572218, -52.2381015059796709 -23.5341972897730329, -52.2397747432098072 -23.5357064582863700, -52.2388839548306123 -23.5379529575628794, -52.2417146123394218 -23.5408833013232766, -52.2413237867633029 -23.5422851834144353, -52.2443766541592254 -23.5409575790289978, -52.2499118104816489 -23.5424009405509196, -52.2500766004546904 -23.5462299543488598, -52.2530490819495412 -23.5480947921408870, -52.2574091714960218 -23.5472410432395236, -52.2576930685801813 -23.5517844730749175, -52.2627136409217314 -23.5505417179259098, -52.2636911482278492 -23.5513631955549840, -52.2624616266027715 -23.5533199233757387, -52.2639679694461847 -23.5549705093814623, -52.2664117538992627 -23.5552775765988258, -52.2674958668407612 -23.5526792265650329, -52.2686296934055576 -23.5542822950918094, -52.2721330294157269 -23.5530376900373426, -52.2728322792862059 -23.5564935328501974, -52.2752375952387638 -23.5590755898665520, -52.2735207975467233 -23.5622717426467716, -52.2751629982736858 -23.5633631994520556, -52.2784108090115751 -23.5636248428122030, -52.2777979552114402 -23.5611177460870636, -52.2803029996836699 -23.5612447519437183, -52.2848774345459333 -23.5582362049368612, -52.2863283251920166 -23.5619214369247061, -52.2847973571123248 -23.5651576823810842, -52.2878755763966865 -23.5656600706556674, -52.2901305634746905 -23.5701267847232998, -52.2929931136412165 -23.5692113612153094, -52.2953766677989620 -23.5712495019628818, -52.2963569261311818 -23.5681641735377525, -52.2979658231641906 -23.5679832083583278, -52.3016041276283659 -23.5730073986724733, -52.3048265729879063 -23.5729775744554786))"
          ],
          [
           4117503,
           "Paiçandu",
           "4115200",
           "Maringá/PR",
           0.601674637934,
           0.0151362732829,
           "POLYGON ((-52.1486363894577494 -23.4142490292692287, -52.1419922755230800 -23.4177643775239517, -52.1376428114665487 -23.4172730374206708, -52.1187193246370839 -23.4024684815351520, -52.1087671624745212 -23.4050733696402631, -52.0949863291557449 -23.4003380424666148, -52.0893679297860785 -23.4016667080520619, -52.0821423214109700 -23.4058845041664654, -52.0767436129273733 -23.4065420614668938, -52.0740262538085403 -23.4104790838425743, -52.0548880925114190 -23.4174600388496401, -52.0478787468067026 -23.4226734672067209, -52.0482381950366175 -23.4280509804683561, -52.0463227595876674 -23.4385239598128692, -52.0450393802631197 -23.4394113748350605, -52.0064708400572044 -23.4549080102963785, -52.0130519996500311 -23.4626480101974835, -52.0181819996994932 -23.4659619903535486, -52.0283023854466933 -23.4685117347287360, -52.0374355314245918 -23.4667892542206573, -52.0422670293998522 -23.4675377033022983, -52.0499956807560125 -23.4729767940437455, -52.0587682291704255 -23.4761621675499441, -52.0673001432869569 -23.4832576548168959, -52.0704872488873889 -23.4842357988429740, -52.0869535117951159 -23.5064580304137394, -52.0880442752230692 -23.5115466238775639, -52.0849079480433375 -23.5154668154411297, -52.0852125682054066 -23.5172215618255791, -52.0918664568714576 -23.5177743535035688, -52.0949649082039059 -23.5205579279059975, -52.1002595804152406 -23.5195539355656251, -52.1438798149014815 -23.5179650367570048, -52.1513825511637492 -23.5151117729898829, -52.1569968927923355 -23.5158561490420084, -52.1676284765728724 -23.5136618626048062, -52.1733483509456164 -23.5155595238529145, -52.1813279140519626 -23.5156456636164535, -52.1844803849617733 -23.5133374456665365, -52.1927740704669532 -23.5142895543194186, -52.1921016401785209 -23.5162756306158371, -52.1955520375964284 -23.5181750266561380, -52.1983842365432338 -23.5151380062139879, -52.1988813736763859 -23.5117778908369246, -52.2056605666817859 -23.5115483199989512, -52.2081338318108692 -23.5146014688826313, -52.2118220477492514 -23.5134072546410380, -52.2135455750681672 -23.5192038151039355, -52.2174332363547364 -23.5220383648785969, -52.2196009208457781 -23.5211244297485678, -52.2242169925201551 -23.5229643266422954, -52.2257979179395306 -23.5211843129056888, -52.2242675110367713 -23.5187613729389682, -52.2261581773579451 -23.5178315458890665, -52.2274675974516072 -23.5128458933232878, -52.2261862389037788 -23.5126679345774505, -52.2255747880460035 -23.5079501567742568, -52.2214639159269609 -23.5033793236967767, -52.2219373055621645 -23.4958306347759276, -52.2202369384838789 -23.4942045534972976, -52.2208305953556646 -23.4929395275371462, -52.2130505945092978 -23.4847612115606239, -52.2132729500865480 -23.4806838877511836, -52.2013275818023885 -23.4765660117120092, -52.1885251838900786 -23.4677328552870108, -52.1887138103940060 -23.4639539705992206, -52.1910717338734003 -23.4595106398041366, -52.1890187183391276 -23.4522956488250998, -52.1865197083178600 -23.4490153977423574, -52.1826847509004779 -23.4481755955272888, -52.1754971910424956 -23.4427410499594657, -52.1746613638308077 -23.4416030100708213, -52.1764125767789437 -23.4380843037475870, -52.1736604040044085 -23.4375277232257986, -52.1665775827891594 -23.4245653107404337, -52.1546000826276668 -23.4203273482285113, -52.1505483247453299 -23.4147437301389800, -52.1486363894577494 -23.4142490292692287))"
          ],
          [
           4120408,
           "Presidente Castelo Branco",
           "4115200",
           "Maringá/PR",
           0.636625480426,
           0.013754414604,
           "POLYGON ((-52.1790144611484266 -23.3499797436701897, -52.1828186401680796 -23.3456199931680999, -52.1841421409470172 -23.3385532958978388, -52.1903829530108396 -23.3348254090653313, -52.1885592762895385 -23.3335198911300381, -52.2156234001997177 -23.3261976425071680, -52.2166512227756812 -23.3275804553736634, -52.2287102033131987 -23.3181247513561516, -52.2385035856718787 -23.3143419456242214, -52.2347323200405071 -23.3110174946615984, -52.2283835821365869 -23.3004201013065995, -52.2189005756010260 -23.2886586362869821, -52.2293258099381319 -23.2835935744838025, -52.2395193051717683 -23.2743088693587765, -52.2440297703575993 -23.2682321278103927, -52.2376035351749692 -23.2647968426001626, -52.2311255449079113 -23.2572355883516479, -52.2187425979924456 -23.2479806948531404, -52.2158982366142936 -23.2479466240374109, -52.2103152669359929 -23.2526951685471204, -52.2010528479105460 -23.2552856018489820, -52.1948090375070137 -23.2598364250109739, -52.1881715758574956 -23.2623135833051720, -52.1789589459985450 -23.2597193818439791, -52.1759117794050553 -23.2560409856029651, -52.1745246416988380 -23.2505377444213082, -52.1698693928581747 -23.2456292204121269, -52.1703528036389343 -23.2443639363465309, -52.1641915833748158 -23.2440574087223695, -52.1599725965580205 -23.2458557641321590, -52.1556580774582699 -23.2437201143917491, -52.1607355157314032 -23.2398928722582241, -52.1641180494083869 -23.2336500717933063, -52.1467568513475612 -23.2138972292736412, -52.1424203087502178 -23.2108971970479843, -52.1339915019062232 -23.2087331575091866, -52.1253129344443096 -23.1997707460230913, -52.1084226528830641 -23.1928495842408893, -52.1080913138629853 -23.1901548934335437, -52.1081126646677149 -23.1842628447544143, -52.1067632472260129 -23.1824901299154931, -52.0917663659250252 -23.1806393098562467, -52.0871711890990809 -23.1777809577249627, -52.0730220069600023 -23.1907188906642432, -52.0708293500944137 -23.1896702910510726, -52.0587376800997959 -23.2038883927351094, -52.0611059107091592 -23.2053039804942500, -52.0628803540450349 -23.2130764702029069, -52.0671513909239252 -23.2177277539326496, -52.0709794505411878 -23.2299021138913986, -52.0805868953688673 -23.2298906007705455, -52.0802640342577092 -23.2336072002120773, -52.0860501311086068 -23.2432453730754673, -52.0826985386066212 -23.2505345815056899, -52.0822557007399496 -23.2556668010819863, -52.0841083832951881 -23.2599975340589253, -52.0903241960048149 -23.2623441737445660, -52.0935088995160527 -23.2717248383305559, -52.1045346462568659 -23.2840742288425417, -52.1147531705223628 -23.2866180943495351, -52.1170396365699276 -23.2919005537675048, -52.1142082416170069 -23.2950419432310696, -52.1130167055564471 -23.3036222768465677, -52.1254675306020090 -23.2995003799385358, -52.1405731849044969 -23.3021000609689963, -52.1442978863383360 -23.3041579130572245, -52.1524364468844510 -23.3208974493577443, -52.1591899516549233 -23.3268710287749172, -52.1606401318366011 -23.3305608311173955, -52.1673650678435479 -23.3351843347891759, -52.1709670873611344 -23.3417939327437693, -52.1783951160417132 -23.3493542409054271, -52.1790144611484266 -23.3499797436701897))"
          ]
         ],
         "index": [
          0,
          1,
          2,
          3,
          4,
          5,
          6,
          7,
          8,
          9
         ]
        }
       },
       "height": 400,
       "layout": "IPY_MODEL_1fc56a3eea1c4d0d8cb60f9dfa8376fc",
       "value": "Hello World!"
      }
     },
     "2dd1cb75b8594cb8a813bfc1a0cef709": {
      "model_module": "@jupyter-widgets/base",
      "model_module_version": "1.2.0",
      "model_name": "LayoutModel",
      "state": {}
     },
     "304a56016f9f4e93817b40ef7e679392": {
      "model_module": "keplergl-jupyter",
      "model_module_version": "^0.3.0",
      "model_name": "KeplerGlModal",
      "state": {
       "_model_module_version": "^0.3.0",
       "_view_module_version": "^0.3.0",
       "config": {
        "config": {
         "mapState": {
          "bearing": 0,
          "dragRotate": false,
          "isSplit": false,
          "latitude": 37.75043,
          "longitude": -122.34679,
          "pitch": 0,
          "zoom": 9
         },
         "mapStyle": {
          "mapStyles": {},
          "styleType": "dark",
          "threeDBuildingColor": [
           9.665468314072013,
           17.18305478057247,
           31.1442867897876
          ],
          "topLayerGroups": {},
          "visibleLayerGroups": {
           "3d building": false,
           "border": false,
           "building": true,
           "label": true,
           "land": true,
           "road": true,
           "water": true
          }
         },
         "visState": {
          "animationConfig": {
           "currentTime": null,
           "speed": 1
          },
          "filters": [],
          "interactionConfig": {
           "brush": {
            "enabled": false,
            "size": 0.5
           },
           "coordinate": {
            "enabled": false
           },
           "geocoder": {
            "enabled": false
           },
           "tooltip": {
            "compareMode": false,
            "compareType": "absolute",
            "enabled": true,
            "fieldsToShow": {}
           }
          },
          "layerBlending": "normal",
          "layers": [],
          "splitMaps": []
         }
        },
        "version": "v1"
       },
       "height": 400,
       "layout": "IPY_MODEL_732cae17a2a44f00af38fbfe918bed83",
       "value": "Hello World!"
      }
     },
     "3c24954374324344aaf7912c1b451b6b": {
      "model_module": "@jupyter-widgets/base",
      "model_module_version": "1.2.0",
      "model_name": "LayoutModel",
      "state": {}
     },
     "417581f01ae7480ea85678501500ba4c": {
      "model_module": "@jupyter-widgets/base",
      "model_module_version": "1.2.0",
      "model_name": "LayoutModel",
      "state": {}
     },
     "574326ff5da9408b9e52173eb5b61dce": {
      "model_module": "keplergl-jupyter",
      "model_module_version": "^0.3.0",
      "model_name": "KeplerGlModal",
      "state": {
       "_model_module_version": "^0.3.0",
       "_view_module_version": "^0.3.0",
       "config": {
        "config": {
         "mapState": {
          "bearing": 0,
          "dragRotate": false,
          "isSplit": false,
          "latitude": -23.445691485478864,
          "longitude": -51.98023812049895,
          "pitch": 0,
          "zoom": 8.636543163687318
         },
         "mapStyle": {
          "mapStyles": {},
          "styleType": "muted",
          "threeDBuildingColor": [
           224.4071295378559,
           224.4071295378559,
           224.4071295378559
          ],
          "topLayerGroups": {},
          "visibleLayerGroups": {
           "3d building": false,
           "border": false,
           "building": true,
           "label": true,
           "land": true,
           "road": true,
           "water": true
          }
         },
         "visState": {
          "animationConfig": {
           "currentTime": null,
           "speed": 1
          },
          "filters": [],
          "interactionConfig": {
           "brush": {
            "enabled": false,
            "size": 0.5
           },
           "coordinate": {
            "enabled": false
           },
           "geocoder": {
            "enabled": false
           },
           "tooltip": {
            "compareMode": false,
            "compareType": "absolute",
            "enabled": true,
            "fieldsToShow": {
             "Commuting_Maringa": [
              {
               "format": null,
               "name": "cod_origem"
              },
              {
               "format": null,
               "name": "Mun_origem"
              },
              {
               "format": null,
               "name": "cod_destino"
              },
              {
               "format": null,
               "name": "Mun_destino"
              },
              {
               "format": null,
               "name": "Movimento_Pendular"
              }
             ],
             "Municipios_Arranjo": [
              {
               "format": null,
               "name": "CodMunic"
              },
              {
               "format": null,
               "name": "NomMunic"
              },
              {
               "format": null,
               "name": "CodArranjo"
              },
              {
               "format": null,
               "name": "NomeArranj"
              },
              {
               "format": null,
               "name": "Shape_Leng"
              }
             ]
            }
           }
          },
          "layerBlending": "normal",
          "layers": [
           {
            "config": {
             "color": [
              18,
              147,
              154
             ],
             "columns": {
              "alt0": null,
              "alt1": null,
              "lat0": "point_latitude",
              "lat1": "point_latitude.1",
              "lng0": "point_longitude",
              "lng1": "point_longitude.1"
             },
             "dataId": "Commuting_Maringa",
             "hidden": false,
             "isVisible": true,
             "label": "point",
             "textLabel": [
              {
               "alignment": "center",
               "anchor": "start",
               "color": [
                255,
                255,
                255
               ],
               "field": null,
               "offset": [
                0,
                0
               ],
               "size": 18
              }
             ],
             "visConfig": {
              "colorRange": {
               "category": "ColorBrewer",
               "colors": [
                "#feebe2",
                "#fcc5c0",
                "#fa9fb5",
                "#f768a1",
                "#c51b8a",
                "#7a0177"
               ],
               "name": "ColorBrewer RdPu-6",
               "type": "sequential"
              },
              "elevationScale": 1,
              "opacity": 0.8,
              "sizeRange": [
               0,
               10
              ],
              "targetColor": null,
              "thickness": 7.2
             }
            },
            "id": "m5g1hqf",
            "type": "line",
            "visualChannels": {
             "colorField": {
              "name": "Movimento_Pendular",
              "type": "integer"
             },
             "colorScale": "quantile",
             "sizeField": null,
             "sizeScale": "linear"
            }
           },
           {
            "config": {
             "color": [
              221,
              178,
              124
             ],
             "columns": {
              "geojson": "geometry"
             },
             "dataId": "Municipios_Arranjo",
             "hidden": false,
             "isVisible": true,
             "label": "Municipios_Arranjo",
             "textLabel": [
              {
               "alignment": "center",
               "anchor": "start",
               "color": [
                255,
                255,
                255
               ],
               "field": null,
               "offset": [
                0,
                0
               ],
               "size": 18
              }
             ],
             "visConfig": {
              "colorRange": {
               "category": "Uber",
               "colors": [
                "#5A1846",
                "#900C3F",
                "#C70039",
                "#E3611C",
                "#F1920E",
                "#FFC300"
               ],
               "name": "Global Warming",
               "type": "sequential"
              },
              "elevationScale": 5,
              "enable3d": false,
              "enableElevationZoomFactor": true,
              "filled": false,
              "heightRange": [
               0,
               500
              ],
              "opacity": 0.8,
              "radius": 10,
              "radiusRange": [
               0,
               50
              ],
              "sizeRange": [
               0,
               10
              ],
              "strokeColor": [
               174,
               14,
               127
              ],
              "strokeColorRange": {
               "category": "Uber",
               "colors": [
                "#5A1846",
                "#900C3F",
                "#C70039",
                "#E3611C",
                "#F1920E",
                "#FFC300"
               ],
               "name": "Global Warming",
               "type": "sequential"
              },
              "strokeOpacity": 0.8,
              "stroked": true,
              "thickness": 0.5,
              "wireframe": false
             }
            },
            "id": "nxfkbq",
            "type": "geojson",
            "visualChannels": {
             "colorField": null,
             "colorScale": "quantile",
             "heightField": null,
             "heightScale": "linear",
             "radiusField": null,
             "radiusScale": "linear",
             "sizeField": null,
             "sizeScale": "linear",
             "strokeColorField": null,
             "strokeColorScale": "quantile"
            }
           }
          ],
          "splitMaps": []
         }
        },
        "version": "v1"
       },
       "data": {
        "Commuting_Maringa": {
         "columns": [
          "cod_origem",
          "Mun_origem",
          "point_latitude",
          "point_longitude",
          "cod_destino",
          "Mun_destino",
          "Movimento_Pendular",
          "point_latitude.1",
          "point_longitude.1",
          "Arranjo",
          "departure",
          "arrival"
         ],
         "data": [
          [
           4114203,
           "MANDAGUARI",
           -23.548000000000002,
           -51.67100000000001,
           4112108,
           "JANDAIA DO SUL",
           617,
           -23.603,
           -51.643,
           false,
           "2010-31-07 10:30:0'",
           "2010-31-07 11:00:0'"
          ],
          [
           4126256,
           "SARANDI",
           -23.444000000000003,
           -51.873999999999995,
           4115200,
           "MARINGÁ",
           24224,
           -23.425,
           -51.93899999999999,
           true,
           "2010-31-07 10:30:0'",
           "2010-31-07 11:00:0'"
          ],
          [
           4115200,
           "MARINGÁ",
           -23.425,
           -51.93899999999999,
           4126256,
           "SARANDI",
           24224,
           -23.444000000000003,
           -51.873999999999995,
           true,
           "2010-31-07 10:30:0'",
           "2010-31-07 11:00:0'"
          ],
          [
           4117503,
           "PAIÇANDU",
           -23.458000000000002,
           -52.049,
           4115200,
           "MARINGÁ",
           10550,
           -23.425,
           -51.93899999999999,
           true,
           "2010-31-07 10:30:0'",
           "2010-31-07 11:00:0'"
          ],
          [
           4115200,
           "MARINGÁ",
           -23.425,
           -51.93899999999999,
           4117503,
           "PAIÇANDU",
           10550,
           -23.458000000000002,
           -52.049,
           true,
           "2010-31-07 10:30:0'",
           "2010-31-07 11:00:0'"
          ],
          [
           4114104,
           "MANDAGUAÇU",
           -23.346999999999998,
           -52.095,
           4115200,
           "MARINGÁ",
           3856,
           -23.425,
           -51.93899999999999,
           true,
           "2010-31-07 10:30:0'",
           "2010-31-07 11:00:0'"
          ],
          [
           4115200,
           "MARINGÁ",
           -23.425,
           -51.93899999999999,
           4114104,
           "MANDAGUAÇU",
           3856,
           -23.346999999999998,
           -52.095,
           true,
           "2010-31-07 10:30:0'",
           "2010-31-07 11:00:0'"
          ],
          [
           4114807,
           "MARIALVA",
           -23.485,
           -51.792,
           4115200,
           "MARINGÁ",
           3288,
           -23.425,
           -51.93899999999999,
           true,
           "2010-31-07 10:30:0'",
           "2010-31-07 11:00:0'"
          ],
          [
           4115200,
           "MARINGÁ",
           -23.425,
           -51.93899999999999,
           4114807,
           "MARIALVA",
           3288,
           -23.485,
           -51.792,
           true,
           "2010-31-07 10:30:0'",
           "2010-31-07 11:00:0'"
          ],
          [
           4114203,
           "MANDAGUARI",
           -23.548000000000002,
           -51.67100000000001,
           4115200,
           "MARINGÁ",
           1439,
           -23.425,
           -51.93899999999999,
           false,
           "2010-31-07 10:30:0'",
           "2010-31-07 11:00:0'"
          ],
          [
           4115200,
           "MARINGÁ",
           -23.425,
           -51.93899999999999,
           4114203,
           "MANDAGUARI",
           1439,
           -23.548000000000002,
           -51.67100000000001,
           false,
           "2010-31-07 10:30:0'",
           "2010-31-07 11:00:0'"
          ],
          [
           4116901,
           "NOVA ESPERANÇA",
           -23.184,
           -52.205,
           4115200,
           "MARINGÁ",
           1147,
           -23.425,
           -51.93899999999999,
           false,
           "2010-31-07 10:30:0'",
           "2010-31-07 11:00:0'"
          ],
          [
           4115200,
           "MARINGÁ",
           -23.425,
           -51.93899999999999,
           4116901,
           "NOVA ESPERANÇA",
           1147,
           -23.184,
           -52.205,
           false,
           "2010-31-07 10:30:0'",
           "2010-31-07 11:00:0'"
          ],
          [
           4114807,
           "MARIALVA",
           -23.485,
           -51.792,
           4126256,
           "SARANDI",
           1004,
           -23.444000000000003,
           -51.873999999999995,
           true,
           "2010-31-07 10:30:0'",
           "2010-31-07 11:00:0'"
          ],
          [
           4126256,
           "SARANDI",
           -23.444000000000003,
           -51.873999999999995,
           4114807,
           "MARIALVA",
           1004,
           -23.485,
           -51.792,
           true,
           "2010-31-07 10:30:0'",
           "2010-31-07 11:00:0'"
          ],
          [
           4110003,
           "IGUARAÇU",
           -23.197,
           -51.828,
           4115200,
           "MARINGÁ",
           635,
           -23.425,
           -51.93899999999999,
           true,
           "2010-31-07 10:30:0'",
           "2010-31-07 11:00:0'"
          ],
          [
           4115200,
           "MARINGÁ",
           -23.425,
           -51.93899999999999,
           4110003,
           "IGUARAÇU",
           635,
           -23.197,
           -51.828,
           true,
           "2010-31-07 10:30:0'",
           "2010-31-07 11:00:0'"
          ],
          [
           4112108,
           "JANDAIA DO SUL",
           -23.603,
           -51.643,
           4114203,
           "MANDAGUARI",
           617,
           -23.548000000000002,
           -51.67100000000001,
           false,
           "2010-31-07 10:30:0'",
           "2010-31-07 11:00:0'"
          ],
          [
           4102109,
           "ASTORGA",
           -23.233,
           -51.666000000000004,
           4115200,
           "MARINGÁ",
           580,
           -23.425,
           -51.93899999999999,
           false,
           "2010-31-07 10:30:0'",
           "2010-31-07 11:00:0'"
          ],
          [
           4115200,
           "MARINGÁ",
           -23.425,
           -51.93899999999999,
           4102109,
           "ASTORGA",
           580,
           -23.233,
           -51.666000000000004,
           false,
           "2010-31-07 10:30:0'",
           "2010-31-07 11:00:0'"
          ],
          [
           4114807,
           "MARIALVA",
           -23.485,
           -51.792,
           4114203,
           "MANDAGUARI",
           432,
           -23.548000000000002,
           -51.67100000000001,
           false,
           "2010-31-07 10:30:0'",
           "2010-31-07 11:00:0'"
          ],
          [
           4114203,
           "MANDAGUARI",
           -23.548000000000002,
           -51.67100000000001,
           4114807,
           "MARIALVA",
           432,
           -23.485,
           -51.792,
           false,
           "2010-31-07 10:30:0'",
           "2010-31-07 11:00:0'"
          ],
          [
           4112108,
           "JANDAIA DO SUL",
           -23.603,
           -51.643,
           4103800,
           "CAMBIRA",
           390,
           -23.583000000000002,
           -51.578,
           false,
           "2010-31-07 10:30:0'",
           "2010-31-07 11:00:0'"
          ],
          [
           4103800,
           "CAMBIRA",
           -23.583000000000002,
           -51.578,
           4112108,
           "JANDAIA DO SUL",
           390,
           -23.603,
           -51.643,
           false,
           "2010-31-07 10:30:0'",
           "2010-31-07 11:00:0'"
          ],
          [
           4126256,
           "SARANDI",
           -23.444000000000003,
           -51.873999999999995,
           4117503,
           "PAIÇANDU",
           120,
           -23.458000000000002,
           -52.049,
           true,
           "2010-31-07 10:30:0'",
           "2010-31-07 11:00:0'"
          ],
          [
           4117503,
           "PAIÇANDU",
           -23.458000000000002,
           -52.049,
           4126256,
           "SARANDI",
           120,
           -23.444000000000003,
           -51.873999999999995,
           true,
           "2010-31-07 10:30:0'",
           "2010-31-07 11:00:0'"
          ],
          [
           4123402,
           "SANTA FÉ",
           -23.038,
           -51.805,
           4116307,
           "MUNHOZ DE MELO",
           109,
           -23.148000000000003,
           -51.773999999999994,
           false,
           "2010-31-07 10:30:0'",
           "2010-31-07 11:00:0'"
          ],
          [
           4116307,
           "MUNHOZ DE MELO",
           -23.148000000000003,
           -51.773999999999994,
           4123402,
           "SANTA FÉ",
           109,
           -23.038,
           -51.805,
           false,
           "2010-31-07 10:30:0'",
           "2010-31-07 11:00:0'"
          ],
          [
           4114104,
           "MANDAGUAÇU",
           -23.346999999999998,
           -52.095,
           4102208,
           "ATALAIA",
           103,
           -23.153000000000002,
           -52.06100000000001,
           false,
           "2010-31-07 10:30:0'",
           "2010-31-07 11:00:0'"
          ],
          [
           4102208,
           "ATALAIA",
           -23.153000000000002,
           -52.06100000000001,
           4114104,
           "MANDAGUAÇU",
           103,
           -23.346999999999998,
           -52.095,
           false,
           "2010-31-07 10:30:0'",
           "2010-31-07 11:00:0'"
          ],
          [
           4107306,
           "DOUTOR CAMARGO",
           -23.555999999999997,
           -52.218,
           4111605,
           "IVATUBA",
           102,
           -23.619,
           -52.221000000000004,
           false,
           "2010-31-07 10:30:0'",
           "2010-31-07 11:00:0'"
          ],
          [
           4111605,
           "IVATUBA",
           -23.619,
           -52.221000000000004,
           4107306,
           "DOUTOR CAMARGO",
           102,
           -23.555999999999997,
           -52.218,
           false,
           "2010-31-07 10:30:0'",
           "2010-31-07 11:00:0'"
          ],
          [
           4107900,
           "FLORESTA",
           -23.599,
           -52.081,
           4111100,
           "ITAMBÉ",
           86,
           -23.660999999999998,
           -51.99,
           true,
           "2010-31-07 10:30:0'",
           "2010-31-07 11:00:0'"
          ],
          [
           4111100,
           "ITAMBÉ",
           -23.660999999999998,
           -51.99,
           4107900,
           "FLORESTA",
           86,
           -23.599,
           -52.081,
           true,
           "2010-31-07 10:30:0'",
           "2010-31-07 11:00:0'"
          ],
          [
           4108106,
           "FLÓRIDA",
           -23.087,
           -51.963,
           4113601,
           "LOBATO",
           76,
           -23.008000000000003,
           -51.951,
           false,
           "2010-31-07 10:30:0'",
           "2010-31-07 11:00:0'"
          ],
          [
           4113601,
           "LOBATO",
           -23.008000000000003,
           -51.951,
           4108106,
           "FLÓRIDA",
           76,
           -23.087,
           -51.963,
           false,
           "2010-31-07 10:30:0'",
           "2010-31-07 11:00:0'"
          ],
          [
           4123402,
           "SANTA FÉ",
           -23.038,
           -51.805,
           4113601,
           "LOBATO",
           66,
           -23.008000000000003,
           -51.951,
           false,
           "2010-31-07 10:30:0'",
           "2010-31-07 11:00:0'"
          ],
          [
           4113601,
           "LOBATO",
           -23.008000000000003,
           -51.951,
           4123402,
           "SANTA FÉ",
           66,
           -23.038,
           -51.805,
           false,
           "2010-31-07 10:30:0'",
           "2010-31-07 11:00:0'"
          ],
          [
           4125308,
           "SÃO JORGE DO IVAÍ",
           -23.433000000000003,
           -52.293,
           4107801,
           "FLORAÍ",
           55,
           -23.316999999999997,
           -52.303999999999995,
           false,
           "2010-31-07 10:30:0'",
           "2010-31-07 11:00:0'"
          ],
          [
           4107801,
           "FLORAÍ",
           -23.316999999999997,
           -52.303999999999995,
           4125308,
           "SÃO JORGE DO IVAÍ",
           55,
           -23.433000000000003,
           -52.293,
           false,
           "2010-31-07 10:30:0'",
           "2010-31-07 11:00:0'"
          ],
          [
           4117404,
           "OURIZONA",
           -23.405,
           -52.199,
           4125308,
           "SÃO JORGE DO IVAÍ",
           40,
           -23.433000000000003,
           -52.293,
           false,
           "2010-31-07 10:30:0'",
           "2010-31-07 11:00:0'"
          ],
          [
           4125308,
           "SÃO JORGE DO IVAÍ",
           -23.433000000000003,
           -52.293,
           4117404,
           "OURIZONA",
           40,
           -23.405,
           -52.199,
           false,
           "2010-31-07 10:30:0'",
           "2010-31-07 11:00:0'"
          ]
         ],
         "index": [
          0,
          1,
          2,
          3,
          4,
          5,
          6,
          7,
          8,
          9,
          10,
          11,
          12,
          13,
          14,
          15,
          16,
          17,
          18,
          19,
          20,
          21,
          22,
          23,
          24,
          25,
          26,
          27,
          28,
          29,
          30,
          31,
          32,
          33,
          34,
          35,
          36,
          37,
          38,
          39,
          40,
          41
         ]
        },
        "Municipios_Arranjo": {
         "columns": [
          "CodMunic",
          "NomMunic",
          "CodArranjo",
          "NomeArranj",
          "Shape_Leng",
          "Shape_Area",
          "geometry"
         ],
         "data": [
          [
           4126256,
           "Sarandi",
           "4115200",
           "Maringá/PR",
           0.544904971268,
           0.00912425298747,
           "POLYGON ((-51.8510324708718144 -23.4547953783040271, -51.8511988796245760 -23.4549050398356940, -51.8534940223312333 -23.4579305885258123, -51.8534712514970124 -23.4863736402312497, -51.8525132639759363 -23.4905119137937390, -51.8467021803613193 -23.4967329551616899, -51.8496016557917301 -23.5047365427572004, -51.8529605319029656 -23.5108187027208828, -51.8590147319442849 -23.5158666090567294, -51.8637254869416324 -23.5167462224601422, -51.8678851158053931 -23.5233300467442064, -51.8753138369639828 -23.5224397089253898, -51.8794453431280544 -23.5243470333888354, -51.8808779748386542 -23.5262500474017315, -51.8811002557721395 -23.5330380609577219, -51.8869306217507642 -23.5359764122815704, -51.8874849971348908 -23.5389784338076424, -51.8896863243643338 -23.5410921643718325, -51.8930742647654597 -23.5402915069474261, -51.8935145548527998 -23.5441926679571907, -51.8964577957905817 -23.5461665359568428, -51.8997934828828988 -23.5559315545975210, -51.9024750372930725 -23.5576888037952017, -51.9051591259928387 -23.5558315068185493, -51.9113447268775872 -23.5589479922559804, -51.9123299233872331 -23.5607617197774744, -51.9183468528249819 -23.5538442730946826, -51.9152843402001167 -23.5513285905419707, -51.9201627432159967 -23.5458894404452508, -51.9202967772744159 -23.5428488586878188, -51.9281988529946261 -23.5338604711837434, -51.9226570983463489 -23.5304536459189535, -51.9094389060805952 -23.5099142950086843, -51.9224370315437227 -23.5001135013369549, -51.9190990529788792 -23.4970022220748547, -51.9177084061179812 -23.4874882662704181, -51.9115394462883728 -23.4770667587238790, -51.9056409215912140 -23.4768539359603210, -51.9038190003465729 -23.4703840000215109, -51.9058189999468595 -23.4649870002498346, -51.9047079999741641 -23.4593749995565304, -51.8970870001649018 -23.4527459996281209, -51.8932299598947111 -23.4454259696327654, -51.8876798397527637 -23.4399570303925771, -51.8779185371107587 -23.4159342931330912, -51.8677678801834645 -23.4149309995659110, -51.8637441595652717 -23.4160990201536379, -51.8481139504983730 -23.4103314664239974, -51.8451850573444517 -23.4063616547664992, -51.8398810456736783 -23.4065294367840124, -51.8405509920345935 -23.4025686129510859, -51.8424843707570631 -23.4003959156389669, -51.8430171219425802 -23.3936634154342187, -51.8392578694550821 -23.3933850069124674, -51.8335011813343840 -23.3957294819300046, -51.8273329634454853 -23.3932423978183692, -51.8192689027376332 -23.3927881457562989, -51.7971347876402888 -23.4090818134748702, -51.8004774858472388 -23.4124427733153198, -51.8018825020757845 -23.4175416838016304, -51.8036237946024016 -23.4294193106526336, -51.8029885368914051 -23.4377727318260440, -51.8064763047376573 -23.4450803763582485, -51.8266052095627288 -23.4595560483729173, -51.8331472270628524 -23.4586966850039857, -51.8409677081931477 -23.4518011512021189, -51.8456279923379384 -23.4445181175170774, -51.8459838351857911 -23.4477925122146189, -51.8510324708718144 -23.4547953783040271))"
          ],
          [
           4107900,
           "Floresta",
           "4115200",
           "Maringá/PR",
           0.693632333799,
           0.0139730939292,
           "POLYGON ((-52.1002707410018502 -23.5196632841332303, -51.9997501137767131 -23.5565708664522617, -52.0069303765355926 -23.5617551693655400, -52.0043980520284208 -23.5629276011278534, -52.0056743860640154 -23.5659819326200477, -52.0075352803289093 -23.5650337414139699, -52.0147016575554062 -23.5720370787481670, -52.0148268485801282 -23.5759593387524546, -52.0183374690988671 -23.5779572330398537, -52.0172170936938869 -23.5807336245570696, -52.0190279164051503 -23.5844345883854771, -52.0259282310030358 -23.5831983308382291, -52.0221821832611226 -23.5855171958618826, -52.0201018112495603 -23.5895864707389933, -52.0260434089760793 -23.5885311522907841, -52.0288047782178751 -23.5899516125768400, -52.0295347723118766 -23.5923751910621604, -52.0274863433200494 -23.5958881003555234, -52.0306865592372674 -23.5982464393216560, -52.0303122703949157 -23.6021804210895425, -52.0319893693139193 -23.6050997625439436, -52.0284019152161932 -23.6039206713019212, -52.0291264890961429 -23.6071032263328107, -52.0357599829368382 -23.6081954007970580, -52.0392206281294420 -23.6106642817311467, -52.0383772169349754 -23.6111031023262399, -52.0401830807845158 -23.6132243332363601, -52.0363626842903955 -23.6165434907894110, -52.0371047985475457 -23.6172496420572884, -52.0357932470606670 -23.6177962481982604, -52.0346619691745218 -23.6226800678307995, -52.0400862372899837 -23.6246069903202738, -52.0420613544479238 -23.6235317024260780, -52.0452441477991670 -23.6256711473055816, -52.0441731739527995 -23.6278986942692768, -52.0479956137065756 -23.6282202828397203, -52.0453796720341870 -23.6308679444999825, -52.0466890093902066 -23.6328546997845024, -52.0448414799503212 -23.6343071075868920, -52.0473889256583675 -23.6348951517898058, -52.0458384719678406 -23.6376600086024951, -52.0547912589094040 -23.6402400763184346, -52.0530227672868477 -23.6427089446620471, -52.0547922103921792 -23.6436896508566292, -52.0591788740057950 -23.6437364650657855, -52.0595549480024147 -23.6485427640373018, -52.0615253086460257 -23.6507976153176287, -52.0634614680722621 -23.6489219173125775, -52.0662077278043398 -23.6488126712677058, -52.0666287427222301 -23.6515797458085899, -52.0689595615344842 -23.6529969154752280, -52.0709875534328148 -23.6618952044001389, -52.0768270043627126 -23.6573637805140038, -52.0769936990998872 -23.6540092238465718, -52.0826291622060467 -23.6580502717026206, -52.0822958509726845 -23.6594622711668308, -52.0786241052182390 -23.6603672166736487, -52.0767379705808366 -23.6654595441225979, -52.0809319382582885 -23.6635791300727760, -52.0864413101183459 -23.6635217668160180, -52.0842707091258603 -23.6604361775874850, -52.0895978270780233 -23.6573952711747779, -52.0919066062048728 -23.6604220195604853, -52.0906588571205020 -23.6661451692640981, -52.0941064225733044 -23.6657642865924913, -52.0954911240161209 -23.6614038544042842, -52.0996059090853691 -23.6609037728907765, -52.1025766674791839 -23.6628463804560738, -52.1035199492861807 -23.6709169621480555, -52.1051593387324488 -23.6728766316512065, -52.1092654804175481 -23.6736127285445264, -52.1140199721439785 -23.6716678456944578, -52.1160950120751068 -23.6727942186781775, -52.1206331700847159 -23.6760254692999297, -52.1274921194656713 -23.6880694302599295, -52.1331343949363486 -23.6904571482787105, -52.1408493954832011 -23.6905860355170717, -52.1571432214824426 -23.6813469008387756, -52.1596872938334855 -23.6778651683428052, -52.1578562966307686 -23.6688816218892839, -52.1592119724545000 -23.6600045164951780, -52.1573758877869409 -23.6532168995402117, -52.1584649227179398 -23.6503487663824217, -52.1633826926570805 -23.6478265646442196, -52.1771876296053847 -23.6489181734349359, -52.1908332615457198 -23.6445739470299827, -52.1897250251897162 -23.6430518687486710, -52.1847772628603366 -23.6441755608533981, -52.1829996170386607 -23.6421582007403117, -52.1793349291635877 -23.6416494983256484, -52.1768330826805595 -23.6358100968584495, -52.1705264942023064 -23.6291433119142766, -52.1563873790742605 -23.6250506411740844, -52.1439752590509329 -23.6147441029579568, -52.1334707674619153 -23.6009178439832681, -52.1192378485478116 -23.5889846426271106, -52.1133804921159935 -23.5744037490337632, -52.1047009614801482 -23.5654366682675800, -52.0974209342286940 -23.5607148552063563, -52.1002707410018502 -23.5196632841332303))"
          ],
          [
           4110003,
           "Iguaraçu",
           "4115200",
           "Maringá/PR",
           0.700300445507,
           0.0145857340864,
           "POLYGON ((-51.9393744960361232 -23.2639476118927178, -51.9376430753675891 -23.2629600654545925, -51.9386191455570838 -23.2610134433157327, -51.9363417671588081 -23.2591143674340515, -51.9352089883041117 -23.2602565504993777, -51.9291205798508599 -23.2598343511743337, -51.9281843829028844 -23.2550845485130822, -51.9230147596234133 -23.2534115801802272, -51.9269575898208586 -23.2430906860862478, -51.9251584061354947 -23.2399991964057335, -51.9175709429446215 -23.2370558673343908, -51.9126534967614361 -23.2319761420852160, -51.9149991274077820 -23.2255974000999004, -51.9128800323875339 -23.2242588042004172, -51.9122545350187465 -23.2196186549768981, -51.9067040578459569 -23.2186567994716597, -51.9053658738359900 -23.2165008709184235, -51.9033461916733927 -23.2183214683610117, -51.9005974875839229 -23.2175212659935823, -51.8987682728374580 -23.2193407302904120, -51.8932469984501950 -23.2167109111795753, -51.8902064832425935 -23.2192532217587200, -51.8838688870394549 -23.2201356176645959, -51.8792955592426210 -23.2167057949364448, -51.8760626232913751 -23.2171269879200963, -51.8755483972407205 -23.2148601145026419, -51.8690940753312475 -23.2162087576280101, -51.8650022445578998 -23.2150955300346595, -51.8675745565205375 -23.2053280805264421, -51.8657741263747880 -23.1949841970629791, -51.8657131415482127 -23.1328532429827192, -51.8612634786265971 -23.1326648296181361, -51.8591485573600153 -23.1309375863005471, -51.8537025283489470 -23.1314529517922551, -51.8494141939098654 -23.1367636876939855, -51.8494447672621845 -23.1417018200828579, -51.8428680916890130 -23.1477879739358059, -51.8329397750505336 -23.1534045027156026, -51.8281184151327352 -23.1578146377352709, -51.8207651884626443 -23.1549225978995423, -51.8185771523137078 -23.1527163864520276, -51.8122585641813771 -23.1582433481519274, -51.8108089442773121 -23.1609632361643776, -51.8114275753222842 -23.1638824121435505, -51.8096392464540259 -23.1664640087070097, -51.7957016253296842 -23.1743939966855805, -51.7945688914411448 -23.1800350077094208, -51.7897425088096952 -23.1843724514274641, -51.7899110732374197 -23.1870137144113642, -51.7924865175386913 -23.1901995456724421, -51.7916430550828863 -23.1940305487707406, -51.7892543028437444 -23.1968940369301890, -51.7814883449111676 -23.1972098770341404, -51.7792611729647092 -23.1986143419782707, -51.7786877670267813 -23.2099559585006432, -51.7672417670938216 -23.2142531638523906, -51.7591433945519839 -23.2116481066747156, -51.7318669919680474 -23.2224813535315775, -51.7390103222685411 -23.2341051125608260, -51.7461241359200699 -23.2268484667832809, -51.7629629519786363 -23.2256448798073052, -51.7746800057776113 -23.2390694817711392, -51.7775084599474553 -23.2481893897285090, -51.7839546223079310 -23.2536962281983506, -51.7965986532052511 -23.2568396042642576, -51.8046744473678018 -23.2555384282558180, -51.8075437505436298 -23.2582399485147562, -51.8183496840906059 -23.2590762568636933, -51.8243803560685592 -23.2627337888332590, -51.8319567468063838 -23.2733906192815994, -51.8364641686864047 -23.2763398982676222, -51.8413477508979668 -23.2760388834876153, -51.8452949320154630 -23.2809567190772668, -51.8518749683550482 -23.2786886180851980, -51.8572953091311888 -23.2830252551113972, -51.8642343386437688 -23.2844113082352351, -51.8684743606032157 -23.2880113204660120, -51.8739012961078743 -23.2882970125970132, -51.8740134244799265 -23.2919456160972800, -51.8774949042663707 -23.2931660149995423, -51.8785614309652487 -23.2977932238781591, -51.8852988009988394 -23.3000601503555913, -51.8923247077190695 -23.3048767033970989, -51.8987134519641700 -23.3039181798800428, -51.8995742947178655 -23.3028304273822755, -51.8973055021471623 -23.3011240411415201, -51.8963755824671011 -23.2978390083634963, -51.9066012563428671 -23.2900686698332038, -51.9094716135240901 -23.2884336277097077, -51.9108529029390979 -23.2901893984219441, -51.9129291560556680 -23.2900121447446509, -51.9237937514803889 -23.2868890429949147, -51.9260114121968854 -23.2820608797057957, -51.9236497682221625 -23.2810467969720776, -51.9295369452737532 -23.2806994473215809, -51.9288382233053198 -23.2791062677400191, -51.9327746233501557 -23.2774640679123763, -51.9361264181995921 -23.2724584117262907, -51.9414404285329283 -23.2734433429358774, -51.9431099065968738 -23.2700734366397342, -51.9416178899535907 -23.2692109085565448, -51.9417530814395150 -23.2666467318611581, -51.9394149673268544 -23.2667812434595476, -51.9393744960361232 -23.2639476118927178))"
          ],
          [
           4111100,
           "Itambé",
           "4115200",
           "Maringá/PR",
           0.953026967666,
           0.0215921437579,
           "POLYGON ((-52.0438218825737522 -23.8109704537234279, -52.0468240713737487 -23.8052024773124344, -52.0462403025478579 -23.8021743061992197, -52.0393557674546514 -23.7919849694307572, -52.0343542382574356 -23.7755313986550618, -52.0340590303998738 -23.7696494439666139, -52.0363972065657663 -23.7643479018341850, -52.0417177028097058 -23.7601536274878526, -52.0510722339963650 -23.7564613313253403, -52.0562416081636457 -23.7514884194549722, -52.0597178835733985 -23.7438369829903309, -52.0611040590050607 -23.7309750265761750, -52.0645198909801366 -23.7282171880727333, -52.0802727333999087 -23.7220702823176453, -52.0952966258385572 -23.7200897764220144, -52.0954686751392160 -23.7170231862709784, -52.0916835374652578 -23.7095746692355647, -52.0946032953057738 -23.7063162797724658, -52.1115408866025973 -23.7055228421054380, -52.1176053119355629 -23.7018952458688545, -52.1192429917705908 -23.6971035365988882, -52.1184629647939346 -23.6926895129106470, -52.1130195096426405 -23.6845985444871872, -52.1124877683957379 -23.6805954839943524, -52.1160950120751068 -23.6727942186781775, -52.1140199721439785 -23.6716678456944578, -52.1092654804175481 -23.6736127285445264, -52.1051593387324488 -23.6728766316512065, -52.1035199492861807 -23.6709169621480555, -52.1025766674791839 -23.6628463804560738, -52.0996059090853691 -23.6609037728907765, -52.0954911240161209 -23.6614038544042842, -52.0941064225733044 -23.6657642865924913, -52.0906588571205020 -23.6661451692640981, -52.0919066062048728 -23.6604220195604853, -52.0895978270780233 -23.6573952711747779, -52.0842707091258603 -23.6604361775874850, -52.0864413101183459 -23.6635217668160180, -52.0809319382582885 -23.6635791300727760, -52.0767379705808366 -23.6654595441225979, -52.0786241052182390 -23.6603672166736487, -52.0822958509726845 -23.6594622711668308, -52.0826291622060467 -23.6580502717026206, -52.0769936990998872 -23.6540092238465718, -52.0768270043627126 -23.6573637805140038, -52.0709875534328148 -23.6618952044001389, -52.0689595615344842 -23.6529969154752280, -52.0666287427222301 -23.6515797458085899, -52.0662077278043398 -23.6488126712677058, -52.0634614680722621 -23.6489219173125775, -52.0615253086460257 -23.6507976153176287, -52.0586541897390020 -23.6537175737070129, -52.0607209541087173 -23.6566180671700295, -52.0581930560646242 -23.6599845515457901, -52.0547034491048635 -23.6577764928907754, -52.0526113211554957 -23.6619570282941822, -52.0471072481009855 -23.6602081598786071, -52.0484382141522133 -23.6585118757224677, -52.0436355988038031 -23.6535108105754261, -52.0371050215794639 -23.6580430195696749, -52.0351152220898143 -23.6546829149845053, -52.0368784706648739 -23.6532566567692584, -52.0344936205841009 -23.6510170211186050, -52.0284551883561903 -23.6531146160466506, -52.0259419240804846 -23.6516683641036707, -52.0275955884656014 -23.6499709593921921, -52.0246305182837432 -23.6458474185234877, -52.0273547779006549 -23.6431509839306955, -52.0312551250239608 -23.6430750712574991, -52.0315993261479548 -23.6388058833847481, -52.0334916103494720 -23.6365374064760658, -52.0320371152206462 -23.6362725732206513, -52.0318890670267820 -23.6346370868320719, -52.0287365835264950 -23.6374112129570904, -52.0240566932617412 -23.6377154194310037, -52.0269094111403660 -23.6345458784894618, -52.0250439312324033 -23.6331936057002849, -52.0266148525933545 -23.6310501876160401, -52.0244246131053956 -23.6297244664109485, -52.0199757325939345 -23.6320856913015405, -52.0153619964589211 -23.6269075523416063, -52.0143029719046126 -23.6290231022343278, -52.0118323570775942 -23.6296593572934626, -52.0119439251719768 -23.6333693215369181, -52.0091928549662157 -23.6327771908146360, -52.0079324245417070 -23.6297330036751418, -52.0099299087382292 -23.6272658125671455, -52.0083681928377928 -23.6271013778263068, -52.0122606592020134 -23.6259590130979404, -52.0128713240522984 -23.6213422129727064, -52.0089004889663329 -23.6225567015305273, -52.0080720631751205 -23.6197247382060596, -52.0042200797927876 -23.6192402509367980, -52.0022732481118624 -23.6215356382590471, -51.9984421020213290 -23.6219348572078616, -51.9982768318103012 -23.6199769323894770, -51.9959271470201543 -23.6211090871146325, -51.9949512917686434 -23.6242463325021959, -51.9859329901153728 -23.6200691137985359, -51.9871597175468878 -23.6171364506865871, -51.9863289535183526 -23.6157718823664595, -51.9808561417974602 -23.6188109370750681, -51.9787193715017679 -23.6160863815812263, -51.9743121565807087 -23.6168619874906653, -51.9715928882012008 -23.6152551939719615, -51.9700579909834346 -23.6166692510849998, -51.9687670213808701 -23.6126848704104191, -51.9648808565662534 -23.6122143226328376, -51.9636004638902591 -23.6163076291936704, -51.9657417137090647 -23.6188492221138517, -51.9643116045968441 -23.6229874992736200, -51.9624344478914395 -23.6240242404263086, -51.9613051880839407 -23.6230897467943350, -51.9621399154247001 -23.6210808618922101, -51.9580502439235943 -23.6207635963628491, -51.9451599912405868 -23.6352603062181288, -51.9366405983848836 -23.6396977320646329, -51.9371194855757494 -23.6456633713674478, -51.9351759364203076 -23.6515805363126788, -51.9372476047930718 -23.6566188279964535, -51.9399135523685231 -23.6730356992380848, -51.9399333725270935 -23.6795863628203165, -51.9366012053812938 -23.6807423666668342, -51.9373570540847140 -23.6833083258185297, -51.9410143171569416 -23.6831214098251621, -51.9448759106946909 -23.6783352232918674, -51.9445192719467741 -23.6842076316768271, -51.9455766516411472 -23.6849346355249395, -51.9488239398729092 -23.6816816887588857, -51.9526264731331935 -23.6817319734517469, -51.9522117957377532 -23.6780803455314981, -51.9553470590195161 -23.6757661794655405, -51.9575708693001275 -23.6789714477740745, -51.9546314387898178 -23.6815517744947783, -51.9532905361293160 -23.6863065531048846, -51.9570992243496903 -23.6853396847785689, -51.9585469817577632 -23.6873244408702135, -51.9585488919178147 -23.6930653530835116, -51.9618173259088394 -23.6914748399918267, -51.9636035899337116 -23.6945289763311280, -51.9589097898548857 -23.6977279781636412, -51.9534883429126353 -23.6987123769745835, -51.9488277107301997 -23.7039033240790786, -51.9450690958620385 -23.7058913528036328, -51.9365441002299804 -23.7074512268925446, -51.9322963719799304 -23.7143799204968673, -51.9255470562516166 -23.7126994230399077, -51.9192352948729194 -23.7259725512921591, -51.9211556550094429 -23.7279567749851594, -51.9207446153716887 -23.7328436756950509, -51.9248558975815513 -23.7358500355506408, -51.9256259025133318 -23.7398755665041676, -51.9302087136611590 -23.7447210948026282, -51.9306079146235220 -23.7480756029066811, -51.9359638252702780 -23.7531325852006034, -51.9398541485500687 -23.7613845799343721, -51.9429109936473878 -23.7635199931531247, -51.9444054528493098 -23.7689359245532046, -51.9504367597486407 -23.7759950810081477, -51.9554105727397086 -23.7760492507722461, -51.9564629252237751 -23.7739449963644347, -51.9616051308720444 -23.7757800279259186, -51.9647174209721356 -23.7788715319955486, -51.9665969276060764 -23.7835080938234000, -51.9746569233782907 -23.7876861129237227, -51.9739673717967321 -23.7929829183269703, -51.9772732562557280 -23.7973673309375044, -51.9837984762186807 -23.7962099214506679, -51.9861847670133557 -23.7922853492893864, -51.9924610483386687 -23.7894248711608043, -51.9962670835590188 -23.7906024479445932, -52.0108236702761246 -23.7904747586031817, -52.0239662799198186 -23.7961128081595348, -52.0263258887287634 -23.7990689849456771, -52.0298764328510401 -23.8116224747973320, -52.0335241586129769 -23.8175724407155371, -52.0383275401837864 -23.8173817808444710, -52.0438218825737522 -23.8109704537234279))"
          ],
          [
           4114104,
           "Mandaguaçu",
           "4115200",
           "Maringá/PR",
           0.953086368683,
           0.0259263762249,
           "POLYGON ((-51.9625388286040106 -23.1616193131807222, -51.9645642556358212 -23.1659579556950348, -51.9643271134055453 -23.1701428096429254, -51.9581454731350618 -23.1743256473107522, -51.9591589092561890 -23.1792478311224386, -51.9632879998412704 -23.1829106349178460, -51.9663706662731784 -23.1824684949250468, -51.9632371944409215 -23.1864588686818252, -51.9657508283380025 -23.1921901626458293, -51.9727540100894316 -23.1927128126461639, -51.9733950576357415 -23.1914673964031977, -51.9768633425691746 -23.1963750462713278, -51.9734543787165535 -23.1995199790637230, -51.9757382394281535 -23.2025170120504072, -51.9732791125409790 -23.2046632647977731, -51.9682292411864637 -23.2035593047181123, -51.9656038494380823 -23.2064821966959585, -51.9682439819741262 -23.2082050018593122, -51.9682790051718939 -23.2159007272367148, -51.9609367709152252 -23.2187110915435824, -51.9685516895088426 -23.2270012804846715, -51.9659668931575425 -23.2302432744075418, -51.9611219871899266 -23.2314116277443645, -51.9577232846018546 -23.2306490889842507, -51.9585487696099904 -23.2335534135591502, -51.9571400958387244 -23.2375686535704631, -51.9613275488272848 -23.2380760924376659, -51.9635888599378859 -23.2409701260704082, -51.9683920445571630 -23.2394166848321220, -51.9697409089157532 -23.2403655550263011, -51.9686305942265108 -23.2432809304705188, -51.9632405435162354 -23.2452446523188314, -51.9682329544872346 -23.2478535864738092, -51.9628367551121073 -23.2504020619055609, -51.9629152227593067 -23.2546279591129519, -51.9643247257054668 -23.2522345852578383, -51.9657180750290877 -23.2538646010704610, -51.9656117571768164 -23.2553316903052405, -51.9694420417168317 -23.2551321280452044, -51.9712785094955620 -23.2576469202691101, -51.9687453737999476 -23.2610529496338927, -51.9695969337514612 -23.2621966714391988, -51.9666858921401627 -23.2647331202372811, -51.9679941386185646 -23.2647662953282293, -51.9678766233074612 -23.2660698770231420, -51.9658138249480430 -23.2704115610446820, -51.9675661746392166 -23.2744190471012757, -51.9729775347853433 -23.2749330519187652, -51.9732100239234001 -23.2780426674351020, -51.9777569485243021 -23.2817593801912039, -51.9775209358424490 -23.2966639442855694, -51.9824593614103492 -23.2947599311258955, -51.9865427106774973 -23.2967862835600954, -51.9903581689942484 -23.3020096017616538, -51.9923450798614795 -23.3083078697123938, -51.9975558786008492 -23.3110153893487109, -52.0016973033878003 -23.3116891767140828, -52.0052552732122422 -23.3103824204123384, -52.0082026411389506 -23.3125165484998433, -52.0089367433359939 -23.3108227185935561, -52.0103848892512133 -23.3144279154159335, -52.0135848119894604 -23.3162248858697581, -52.0175253597075198 -23.3147024694433753, -52.0223439407202477 -23.3162128475448185, -52.0295181699275417 -23.3250130384209342, -52.0341402086037306 -23.3249618553053324, -52.0350803454815036 -23.3236694144118815, -52.0371567119127008 -23.3253706133630772, -52.0411050405651281 -23.3248513744912884, -52.0462765056561807 -23.3311581761088860, -52.0466243076656383 -23.3354588060789752, -52.0499108504053538 -23.3393582826585657, -52.0576306290502657 -23.3380226671123410, -52.0651281105738235 -23.3391263241205138, -52.0675997848022121 -23.3432861742174964, -52.0767135809669526 -23.3473314461892301, -52.0791876536871996 -23.3581531358585153, -52.0821944218350836 -23.3618842845320387, -52.0724502638685181 -23.3682122840696138, -52.0737283794611017 -23.3754776110029070, -52.0813809508701411 -23.3891276226416380, -52.0902844720507119 -23.3924064761778823, -52.0949863291557449 -23.4003380424666148, -52.1087671624745212 -23.4050733696402631, -52.1187193246370839 -23.4024684815351520, -52.1376428114665487 -23.4172730374206708, -52.1419922755230800 -23.4177643775239517, -52.1486363894577494 -23.4142490292692287, -52.1495255230843782 -23.4089955253231778, -52.1440608862009185 -23.3927866411904688, -52.1450221562474781 -23.3873390428624930, -52.1510763751745117 -23.3782762454522981, -52.1509882488085736 -23.3725011688937911, -52.1483685731510604 -23.3684950785849423, -52.1639439874250570 -23.3642809714896202, -52.1691998143199385 -23.3564147760210403, -52.1783951160417132 -23.3493542409054271, -52.1709670873611344 -23.3417939327437693, -52.1673650678435479 -23.3351843347891759, -52.1606401318366011 -23.3305608311173955, -52.1591899516549233 -23.3268710287749172, -52.1524364468844510 -23.3208974493577443, -52.1442978863383360 -23.3041579130572245, -52.1405731849044969 -23.3021000609689963, -52.1254675306020090 -23.2995003799385358, -52.1130167055564471 -23.3036222768465677, -52.1142082416170069 -23.2950419432310696, -52.1170396365699276 -23.2919005537675048, -52.1147531705223628 -23.2866180943495351, -52.1045346462568659 -23.2840742288425417, -52.0935088995160527 -23.2717248383305559, -52.0903241960048149 -23.2623441737445660, -52.0841083832951881 -23.2599975340589253, -52.0822557007399496 -23.2556668010819863, -52.0826985386066212 -23.2505345815056899, -52.0860501311086068 -23.2432453730754673, -52.0802640342577092 -23.2336072002120773, -52.0805868953688673 -23.2298906007705455, -52.0709794505411878 -23.2299021138913986, -52.0671513909239252 -23.2177277539326496, -52.0628803540450349 -23.2130764702029069, -52.0611059107091592 -23.2053039804942500, -52.0587376800997959 -23.2038883927351094, -52.0708293500944137 -23.1896702910510726, -52.0676900830308682 -23.1881515267714917, -52.0649630193278199 -23.1840590269025029, -52.0582434028107741 -23.1785868842772516, -52.0483514952252904 -23.1676857925652371, -52.0484023671754699 -23.1661980342118454, -52.0454746548314233 -23.1652970601111861, -52.0436555106932133 -23.1629168999949115, -52.0385990023420391 -23.1606607419996067, -52.0357918036488059 -23.1609507194001480, -52.0273987142791725 -23.1566028120700480, -52.0234633457567384 -23.1577738238028701, -52.0193485130234308 -23.1560686291638831, -52.0097736299489952 -23.1596486467676073, -52.0080477392117473 -23.1574813984477146, -51.9991541105737269 -23.1553451758391589, -51.9940765769724180 -23.1585019634947571, -51.9872933469104055 -23.1595166451770069, -51.9774906763535682 -23.1547781164168782, -51.9733765342995753 -23.1556016822717652, -51.9732640336082454 -23.1585345009664252, -51.9659303779845345 -23.1571836634952319, -51.9625388286040106 -23.1616193131807222))"
          ],
          [
           4114807,
           "Marialva",
           "4115200",
           "Maringá/PR",
           1.99828251932,
           0.0420752115599,
           "POLYGON ((-51.9997501137767131 -23.5565708664522617, -51.9975755746530126 -23.5562432515247906, -51.9959923928346370 -23.5580017768604648, -51.9934556886290693 -23.5557849345270824, -51.9968550126486662 -23.5531165974529699, -51.9972325453456392 -23.5473370629550232, -51.9925334185823544 -23.5490491131260455, -51.9909786697297704 -23.5482303019867913, -51.9893685667059344 -23.5463511802627181, -51.9906773293951687 -23.5446640853791678, -51.9900111062275414 -23.5422285531051898, -51.9857956330619686 -23.5424168459606449, -51.9854465702030097 -23.5390350290433048, -51.9809419011477871 -23.5369378388101609, -51.9816444425369468 -23.5344794097968588, -51.9789040364920538 -23.5313436473913953, -51.9813808692317139 -23.5291609460207951, -51.9810668493555568 -23.5236188981935470, -51.9835538219512614 -23.5193441938794194, -51.9811521689373990 -23.5183473700350305, -51.9806518688885717 -23.5148742314605670, -51.9768705200584122 -23.5161871049509159, -51.9772769075032102 -23.5206725806750114, -51.9745999081591776 -23.5195601678673825, -51.9698671287649177 -23.5205121074477574, -51.9667862708696475 -23.5147760326877346, -51.9683688663300813 -23.5136188696150725, -51.9675633957340892 -23.5123782098864353, -51.9691957425894202 -23.5071449298945367, -51.9664575057092861 -23.5042391619077762, -51.9607034723873085 -23.5055394394934751, -51.9590881362084929 -23.5027872307460370, -51.9590884635617272 -23.4976184294469022, -51.9558421016316174 -23.4946733511941375, -51.9560545205995936 -23.4930894849916854, -51.9525122043746705 -23.4912505791508579, -51.9519301631464714 -23.4870362373324610, -51.9486150615358042 -23.4851424764440821, -51.9414188555956571 -23.4886315896760607, -51.9418552947859666 -23.4837276000486668, -51.9405703767214391 -23.4817395182641349, -51.9383230167937313 -23.4801376269498974, -51.9337867950245027 -23.4805496234662883, -51.9301063240475855 -23.4758104094228202, -51.9174225377199150 -23.4787625113807508, -51.9115394462883728 -23.4770667587238790, -51.9177084061179812 -23.4874882662704181, -51.9190990529788792 -23.4970022220748547, -51.9224370315437227 -23.5001135013369549, -51.9094389060805952 -23.5099142950086843, -51.9226570983463489 -23.5304536459189535, -51.9281988529946261 -23.5338604711837434, -51.9202967772744159 -23.5428488586878188, -51.9201627432159967 -23.5458894404452508, -51.9152843402001167 -23.5513285905419707, -51.9183468528249819 -23.5538442730946826, -51.9123299233872331 -23.5607617197774744, -51.9113447268775872 -23.5589479922559804, -51.9051591259928387 -23.5558315068185493, -51.9024750372930725 -23.5576888037952017, -51.8997934828828988 -23.5559315545975210, -51.8964577957905817 -23.5461665359568428, -51.8935145548527998 -23.5441926679571907, -51.8930742647654597 -23.5402915069474261, -51.8896863243643338 -23.5410921643718325, -51.8874849971348908 -23.5389784338076424, -51.8869306217507642 -23.5359764122815704, -51.8811002557721395 -23.5330380609577219, -51.8808779748386542 -23.5262500474017315, -51.8794453431280544 -23.5243470333888354, -51.8753138369639828 -23.5224397089253898, -51.8678851158053931 -23.5233300467442064, -51.8637254869416324 -23.5167462224601422, -51.8590147319442849 -23.5158666090567294, -51.8529605319029656 -23.5108187027208828, -51.8496016557917301 -23.5047365427572004, -51.8467021803613193 -23.4967329551616899, -51.8525132639759363 -23.4905119137937390, -51.8534712514970124 -23.4863736402312497, -51.8534940223312333 -23.4579305885258123, -51.8511988796245760 -23.4549050398356940, -51.8510324708718144 -23.4547953783040271, -51.8459838351857911 -23.4477925122146189, -51.8456279923379384 -23.4445181175170774, -51.8409677081931477 -23.4518011512021189, -51.8331472270628524 -23.4586966850039857, -51.8266052095627288 -23.4595560483729173, -51.8064763047376573 -23.4450803763582485, -51.8029885368914051 -23.4377727318260440, -51.8036237946024016 -23.4294193106526336, -51.8018825020757845 -23.4175416838016304, -51.8004774858472388 -23.4124427733153198, -51.7971347876402888 -23.4090818134748702, -51.8192689027376332 -23.3927881457562989, -51.8273329634454853 -23.3932423978183692, -51.8335011813343840 -23.3957294819300046, -51.8392578694550821 -23.3933850069124674, -51.8430171219425802 -23.3936634154342187, -51.8461505667951883 -23.3901110357955986, -51.8457502632639944 -23.3881254406365429, -51.8410978454891165 -23.3855000246064151, -51.8447869760380513 -23.3815131015483644, -51.8425783903803676 -23.3797995090400832, -51.8421388728106649 -23.3754073056026073, -51.8395738678397038 -23.3723954841642012, -51.8432408453886637 -23.3664308880750013, -51.8393115823636208 -23.3590655673220340, -51.8434851866919644 -23.3545284615192372, -51.8473313802389839 -23.3535949346584744, -51.8491860934634019 -23.3563062647223205, -51.8510394478122407 -23.3534608385468232, -51.8449966304900727 -23.3467588622316384, -51.8467807343433833 -23.3446859743781943, -51.8459244583470422 -23.3416887219569276, -51.8469834766061126 -23.3419397335318308, -51.8506704253997555 -23.3367197149428307, -51.8493607004359092 -23.3321215298846596, -51.8473746259381869 -23.3319354259790543, -51.8478491496185256 -23.3304645398065986, -51.8459532897124973 -23.3294159608778386, -51.8463997995111185 -23.3279239370399978, -51.8427922644514183 -23.3296269984871287, -51.8345381967803291 -23.3280376050514064, -51.8328751308825417 -23.3210265650238853, -51.8282310489237261 -23.3152729579805964, -51.8281589997379797 -23.3234350609792500, -51.8269033555054079 -23.3261450105837298, -51.8249672329513942 -23.3269818513313112, -51.8115870664898921 -23.3224970797763831, -51.8025038059058716 -23.3238077040622329, -51.8040162587433315 -23.3269776757790623, -51.8028207701623842 -23.3310509976054163, -51.7960292249687200 -23.3325891503689604, -51.7932057197681388 -23.3350890102495896, -51.7909236810829725 -23.3409699208251595, -51.7851460405572652 -23.3370627568407372, -51.7810895819186499 -23.3377038943192474, -51.7763522249751418 -23.3354798331277493, -51.7743700058710488 -23.3387601687467736, -51.7774198020821359 -23.3406688691729300, -51.7802673524562920 -23.3505074145854792, -51.7784224508354214 -23.3502899378303255, -51.7775603966949234 -23.3520158762316328, -51.7737598887078434 -23.3507697432290229, -51.7729011449717973 -23.3522935446113706, -51.7746338022081432 -23.3546086459721778, -51.7727951850496879 -23.3551248981954700, -51.7736456361371324 -23.3558571621782676, -51.7692384427998604 -23.3560850503847064, -51.7678994970640929 -23.3574250941927062, -51.7691432711450261 -23.3583831887331144, -51.7680656594026232 -23.3631003855742847, -51.7712469221077072 -23.3655968073467193, -51.7709065574915712 -23.3699815760888328, -51.7638768889072480 -23.3727999038924281, -51.7666314754621908 -23.3750809578198755, -51.7725886296614703 -23.3754501205265797, -51.7750106613129333 -23.3784428673444040, -51.7705466497080806 -23.3808521070390611, -51.7681535231665180 -23.3854214823155075, -51.7714881787364334 -23.3877260840914687, -51.7720518881840235 -23.3903458550771006, -51.7705113944852542 -23.3909060014107695, -51.7683777655213930 -23.3972000659302353, -51.7752775971833330 -23.4005264873075021, -51.7689441207745062 -23.4046787588176244, -51.7690626676079546 -23.4077623695376928, -51.7722637576662237 -23.4139844891927851, -51.7688176805914395 -23.4172925113402925, -51.7658440416691406 -23.4161761064420944, -51.7638308768933939 -23.4173584253509830, -51.7657498943420933 -23.4213133847048880, -51.7687875092361196 -23.4206068314400682, -51.7727101811299235 -23.4222673648469595, -51.7661739543644330 -23.4255447758706623, -51.7723703327246199 -23.4324441290932555, -51.7626813418704046 -23.4321116524307627, -51.7623504102431866 -23.4337475857823847, -51.7687071035499571 -23.4432890869217658, -51.7652926376450750 -23.4444315155020035, -51.7639573557473227 -23.4482839539412566, -51.7650991215272143 -23.4517422797823656, -51.7681683799667098 -23.4538537197732921, -51.7663798748313297 -23.4571816816892351, -51.7674073880405103 -23.4606888991733058, -51.7620018447093457 -23.4639532880137835, -51.7594568649423081 -23.4684082956063094, -51.7609492566028848 -23.4752206942795851, -51.7594118134044265 -23.4810988691174884, -51.7629071328578334 -23.4863065678937346, -51.7568681457482853 -23.4899027364220956, -51.7538682187432642 -23.4937157278984614, -51.7477933783616777 -23.4953535804033891, -51.7262368168755415 -23.4920518337250996, -51.7148895382215983 -23.4925321040732911, -51.7117301596191510 -23.4972822017122098, -51.7098581452371491 -23.5035618051331312, -51.7687852528371195 -23.5511346499441174, -51.7723032217162427 -23.5576718722590499, -51.7775698773479007 -23.5626538268126069, -51.7780385734213837 -23.5733383500847253, -51.7824070734276347 -23.5778849985937882, -51.7871249861291858 -23.5801921058809398, -51.7877304888709205 -23.5823530805301971, -51.7919191982123834 -23.5857941339920671, -51.7955020801568367 -23.5869793738989415, -51.8028887652043295 -23.6034455693575183, -51.8101786184484467 -23.6071475089503338, -51.8144544577070292 -23.6054731862384983, -51.8159383300898071 -23.6066997481947851, -51.8196519536746791 -23.6058332019406976, -51.8235442689527872 -23.6072568251423149, -51.8304023954541435 -23.6186543965831106, -51.8299526795724432 -23.6253083374098196, -51.8352350508568520 -23.6277086504338172, -51.8367152719921478 -23.6298988260699048, -51.8358313526347843 -23.6319766278190855, -51.8385334655469592 -23.6363993884210117, -51.8437069145424516 -23.6389621792611138, -51.8472974551134484 -23.6378153458015277, -51.8474700925706884 -23.6352908103226014, -51.8518829678246789 -23.6339558171072213, -51.8522223072136512 -23.6383871635367200, -51.8548283239679222 -23.6414699729608628, -51.8568968896796605 -23.6387405809130087, -51.8584471868880996 -23.6387015161619729, -51.8589653834456499 -23.6417328753718721, -51.8622680123588680 -23.6408073398868055, -51.8625804404349537 -23.6426933153441610, -51.8647274531094240 -23.6424295693690851, -51.8662939857787819 -23.6470122618063670, -51.8691307748653117 -23.6431407919139929, -51.8671394483268386 -23.6405729441859762, -51.8685077263504581 -23.6381568444627419, -51.8720867358141504 -23.6395867620194053, -51.8768057268027860 -23.6457576212172285, -51.8818093064542722 -23.6470660313722192, -51.8886276001835540 -23.6451265633401704, -51.8890349732853338 -23.6480832509412267, -51.8847470417425143 -23.6512738054417468, -51.8850988070642529 -23.6554887102357156, -51.8887514710035589 -23.6541414196907454, -51.8897825050585197 -23.6551942164398952, -51.8887208427926225 -23.6569035236786362, -51.8849658683801067 -23.6577196530395213, -51.8863168686285690 -23.6602117922403750, -51.8919359685700670 -23.6596727790754358, -51.8911694700949511 -23.6626595274152010, -51.8933391879531314 -23.6600781134141585, -51.8929889937469966 -23.6566050827582899, -51.8994292331725546 -23.6535607877001439, -51.9026193191262450 -23.6545903837391620, -51.9010612427820774 -23.6565800645183231, -51.9051071523731480 -23.6567529933558944, -51.9055289982646286 -23.6634398673559758, -51.9083977258742948 -23.6610860717647711, -51.9107981063474995 -23.6613007336418946, -51.9109784725783925 -23.6638924295918969, -51.9133187765402795 -23.6662271172875762, -51.9127218272504933 -23.6718371313784814, -51.9190956841184743 -23.6669987814685214, -51.9234917366542845 -23.6685486541969681, -51.9221558342243270 -23.6651147872175898, -51.9230841054470602 -23.6622076288789458, -51.9250409258979744 -23.6652472834353489, -51.9297733941268120 -23.6664152095942200, -51.9297166442077014 -23.6711372573784615, -51.9318907777371805 -23.6761462986127640, -51.9379594334810122 -23.6772912102211421, -51.9399135523685231 -23.6730356992380848, -51.9372476047930718 -23.6566188279964535, -51.9351759364203076 -23.6515805363126788, -51.9371194855757494 -23.6456633713674478, -51.9366405983848836 -23.6396977320646329, -51.9451599912405868 -23.6352603062181288, -51.9580502439235943 -23.6207635963628491, -51.9621399154247001 -23.6210808618922101, -51.9613051880839407 -23.6230897467943350, -51.9624344478914395 -23.6240242404263086, -51.9643116045968441 -23.6229874992736200, -51.9657417137090647 -23.6188492221138517, -51.9636004638902591 -23.6163076291936704, -51.9648808565662534 -23.6122143226328376, -51.9687670213808701 -23.6126848704104191, -51.9700579909834346 -23.6166692510849998, -51.9715928882012008 -23.6152551939719615, -51.9743121565807087 -23.6168619874906653, -51.9787193715017679 -23.6160863815812263, -51.9808561417974602 -23.6188109370750681, -51.9863289535183526 -23.6157718823664595, -51.9871597175468878 -23.6171364506865871, -51.9859329901153728 -23.6200691137985359, -51.9949512917686434 -23.6242463325021959, -51.9959271470201543 -23.6211090871146325, -51.9982768318103012 -23.6199769323894770, -51.9984421020213290 -23.6219348572078616, -52.0022732481118624 -23.6215356382590471, -52.0042200797927876 -23.6192402509367980, -52.0080720631751205 -23.6197247382060596, -52.0089004889663329 -23.6225567015305273, -52.0128713240522984 -23.6213422129727064, -52.0122606592020134 -23.6259590130979404, -52.0083681928377928 -23.6271013778263068, -52.0099299087382292 -23.6272658125671455, -52.0079324245417070 -23.6297330036751418, -52.0091928549662157 -23.6327771908146360, -52.0119439251719768 -23.6333693215369181, -52.0118323570775942 -23.6296593572934626, -52.0143029719046126 -23.6290231022343278, -52.0153619964589211 -23.6269075523416063, -52.0199757325939345 -23.6320856913015405, -52.0244246131053956 -23.6297244664109485, -52.0266148525933545 -23.6310501876160401, -52.0250439312324033 -23.6331936057002849, -52.0269094111403660 -23.6345458784894618, -52.0240566932617412 -23.6377154194310037, -52.0287365835264950 -23.6374112129570904, -52.0318890670267820 -23.6346370868320719, -52.0320371152206462 -23.6362725732206513, -52.0334916103494720 -23.6365374064760658, -52.0315993261479548 -23.6388058833847481, -52.0312551250239608 -23.6430750712574991, -52.0273547779006549 -23.6431509839306955, -52.0246305182837432 -23.6458474185234877, -52.0275955884656014 -23.6499709593921921, -52.0259419240804846 -23.6516683641036707, -52.0284551883561903 -23.6531146160466506, -52.0344936205841009 -23.6510170211186050, -52.0368784706648739 -23.6532566567692584, -52.0351152220898143 -23.6546829149845053, -52.0371050215794639 -23.6580430195696749, -52.0436355988038031 -23.6535108105754261, -52.0484382141522133 -23.6585118757224677, -52.0471072481009855 -23.6602081598786071, -52.0526113211554957 -23.6619570282941822, -52.0547034491048635 -23.6577764928907754, -52.0581930560646242 -23.6599845515457901, -52.0607209541087173 -23.6566180671700295, -52.0586541897390020 -23.6537175737070129, -52.0615253086460257 -23.6507976153176287, -52.0595549480024147 -23.6485427640373018, -52.0591788740057950 -23.6437364650657855, -52.0547922103921792 -23.6436896508566292, -52.0530227672868477 -23.6427089446620471, -52.0547912589094040 -23.6402400763184346, -52.0458384719678406 -23.6376600086024951, -52.0473889256583675 -23.6348951517898058, -52.0448414799503212 -23.6343071075868920, -52.0466890093902066 -23.6328546997845024, -52.0453796720341870 -23.6308679444999825, -52.0479956137065756 -23.6282202828397203, -52.0441731739527995 -23.6278986942692768, -52.0452441477991670 -23.6256711473055816, -52.0420613544479238 -23.6235317024260780, -52.0400862372899837 -23.6246069903202738, -52.0346619691745218 -23.6226800678307995, -52.0357932470606670 -23.6177962481982604, -52.0371047985475457 -23.6172496420572884, -52.0363626842903955 -23.6165434907894110, -52.0401830807845158 -23.6132243332363601, -52.0383772169349754 -23.6111031023262399, -52.0392206281294420 -23.6106642817311467, -52.0357599829368382 -23.6081954007970580, -52.0291264890961429 -23.6071032263328107, -52.0284019152161932 -23.6039206713019212, -52.0319893693139193 -23.6050997625439436, -52.0303122703949157 -23.6021804210895425, -52.0306865592372674 -23.5982464393216560, -52.0274863433200494 -23.5958881003555234, -52.0295347723118766 -23.5923751910621604, -52.0288047782178751 -23.5899516125768400, -52.0260434089760793 -23.5885311522907841, -52.0201018112495603 -23.5895864707389933, -52.0221821832611226 -23.5855171958618826, -52.0259282310030358 -23.5831983308382291, -52.0190279164051503 -23.5844345883854771, -52.0172170936938869 -23.5807336245570696, -52.0183374690988671 -23.5779572330398537, -52.0148268485801282 -23.5759593387524546, -52.0147016575554062 -23.5720370787481670, -52.0075352803289093 -23.5650337414139699, -52.0056743860640154 -23.5659819326200477, -52.0043980520284208 -23.5629276011278534, -52.0069303765355926 -23.5617551693655400, -51.9997501137767131 -23.5565708664522617))"
          ],
          [
           4115200,
           "Maringá",
           "4115200",
           "Maringá/PR",
           1.26712273965,
           0.0430218331114,
           "POLYGON ((-52.0949863291557449 -23.4003380424666148, -52.0902844720507119 -23.3924064761778823, -52.0813809508701411 -23.3891276226416380, -52.0737283794611017 -23.3754776110029070, -52.0724502638685181 -23.3682122840696138, -52.0821944218350836 -23.3618842845320387, -52.0791876536871996 -23.3581531358585153, -52.0767135809669526 -23.3473314461892301, -52.0675997848022121 -23.3432861742174964, -52.0651281105738235 -23.3391263241205138, -52.0576306290502657 -23.3380226671123410, -52.0499108504053538 -23.3393582826585657, -52.0466243076656383 -23.3354588060789752, -52.0462765056561807 -23.3311581761088860, -52.0411050405651281 -23.3248513744912884, -52.0371567119127008 -23.3253706133630772, -52.0350803454815036 -23.3236694144118815, -52.0341402086037306 -23.3249618553053324, -52.0295181699275417 -23.3250130384209342, -52.0223439407202477 -23.3162128475448185, -52.0175253597075198 -23.3147024694433753, -52.0135848119894604 -23.3162248858697581, -52.0103848892512133 -23.3144279154159335, -52.0089367433359939 -23.3108227185935561, -52.0082026411389506 -23.3125165484998433, -52.0052552732122422 -23.3103824204123384, -52.0016973033878003 -23.3116891767140828, -51.9975558786008492 -23.3110153893487109, -51.9923450798614795 -23.3083078697123938, -51.9903581689942484 -23.3020096017616538, -51.9865427106774973 -23.2967862835600954, -51.9824593614103492 -23.2947599311258955, -51.9775209358424490 -23.2966639442855694, -51.9777569485243021 -23.2817593801912039, -51.9732100239234001 -23.2780426674351020, -51.9729775347853433 -23.2749330519187652, -51.9675661746392166 -23.2744190471012757, -51.9658138249480430 -23.2704115610446820, -51.9678766233074612 -23.2660698770231420, -51.9679941386185646 -23.2647662953282293, -51.9666858921401627 -23.2647331202372811, -51.9695969337514612 -23.2621966714391988, -51.9687453737999476 -23.2610529496338927, -51.9712785094955620 -23.2576469202691101, -51.9694420417168317 -23.2551321280452044, -51.9656117571768164 -23.2553316903052405, -51.9657180750290877 -23.2538646010704610, -51.9607952976647880 -23.2577810766353537, -51.9531185416873313 -23.2584592571889175, -51.9502604836343949 -23.2600727677439636, -51.9498412664612488 -23.2635809376101292, -51.9464079867391320 -23.2638781599490585, -51.9452275680977209 -23.2621388513268812, -51.9442041306160718 -23.2640569208901411, -51.9393744960361232 -23.2639476118927178, -51.9394149673268544 -23.2667812434595476, -51.9417530814395150 -23.2666467318611581, -51.9416178899535907 -23.2692109085565448, -51.9431099065968738 -23.2700734366397342, -51.9414404285329283 -23.2734433429358774, -51.9361264181995921 -23.2724584117262907, -51.9327746233501557 -23.2774640679123763, -51.9288382233053198 -23.2791062677400191, -51.9295369452737532 -23.2806994473215809, -51.9236497682221625 -23.2810467969720776, -51.9260114121968854 -23.2820608797057957, -51.9237937514803889 -23.2868890429949147, -51.9129291560556680 -23.2900121447446509, -51.9108529029390979 -23.2901893984219441, -51.9094716135240901 -23.2884336277097077, -51.9066012563428671 -23.2900686698332038, -51.8963755824671011 -23.2978390083634963, -51.8973055021471623 -23.3011240411415201, -51.8995742947178655 -23.3028304273822755, -51.8987134519641700 -23.3039181798800428, -51.8923247077190695 -23.3048767033970989, -51.8852988009988394 -23.3000601503555913, -51.8785614309652487 -23.2977932238781591, -51.8774949042663707 -23.2931660149995423, -51.8740134244799265 -23.2919456160972800, -51.8739012961078743 -23.2882970125970132, -51.8684743606032157 -23.2880113204660120, -51.8711143807240660 -23.3020452122167399, -51.8699882424633643 -23.3046129331403336, -51.8667965817967911 -23.3047004317794517, -51.8630874170506218 -23.3019306763595750, -51.8555656151609696 -23.3067124436243489, -51.8531341325341373 -23.3115753027579444, -51.8524343862379169 -23.3170917873560484, -51.8470723332215471 -23.3161681035750803, -51.8481582502030278 -23.3113356406272487, -51.8462611267495390 -23.3102599867089566, -51.8422386714774461 -23.3114095487116515, -51.8366119021175678 -23.3170719582042807, -51.8361954251786869 -23.3217772732025423, -51.8395261264295755 -23.3252725674749399, -51.8430800331170190 -23.3242818167523751, -51.8463997995111185 -23.3279239370399978, -51.8459532897124973 -23.3294159608778386, -51.8478491496185256 -23.3304645398065986, -51.8473746259381869 -23.3319354259790543, -51.8493607004359092 -23.3321215298846596, -51.8506704253997555 -23.3367197149428307, -51.8469834766061126 -23.3419397335318308, -51.8459244583470422 -23.3416887219569276, -51.8467807343433833 -23.3446859743781943, -51.8449966304900727 -23.3467588622316384, -51.8510394478122407 -23.3534608385468232, -51.8491860934634019 -23.3563062647223205, -51.8473313802389839 -23.3535949346584744, -51.8434851866919644 -23.3545284615192372, -51.8393115823636208 -23.3590655673220340, -51.8432408453886637 -23.3664308880750013, -51.8395738678397038 -23.3723954841642012, -51.8421388728106649 -23.3754073056026073, -51.8425783903803676 -23.3797995090400832, -51.8447869760380513 -23.3815131015483644, -51.8410978454891165 -23.3855000246064151, -51.8457502632639944 -23.3881254406365429, -51.8461505667951883 -23.3901110357955986, -51.8430171219425802 -23.3936634154342187, -51.8424843707570631 -23.4003959156389669, -51.8405509920345935 -23.4025686129510859, -51.8398810456736783 -23.4065294367840124, -51.8451850573444517 -23.4063616547664992, -51.8481139504983730 -23.4103314664239974, -51.8637441595652717 -23.4160990201536379, -51.8677678801834645 -23.4149309995659110, -51.8779185371107587 -23.4159342931330912, -51.8876798397527637 -23.4399570303925771, -51.8932299598947111 -23.4454259696327654, -51.8970870001649018 -23.4527459996281209, -51.9047079999741641 -23.4593749995565304, -51.9058189999468595 -23.4649870002498346, -51.9038190003465729 -23.4703840000215109, -51.9056409215912140 -23.4768539359603210, -51.9115394462883728 -23.4770667587238790, -51.9174225377199150 -23.4787625113807508, -51.9301063240475855 -23.4758104094228202, -51.9337867950245027 -23.4805496234662883, -51.9383230167937313 -23.4801376269498974, -51.9405703767214391 -23.4817395182641349, -51.9418552947859666 -23.4837276000486668, -51.9414188555956571 -23.4886315896760607, -51.9486150615358042 -23.4851424764440821, -51.9519301631464714 -23.4870362373324610, -51.9525122043746705 -23.4912505791508579, -51.9560545205995936 -23.4930894849916854, -51.9558421016316174 -23.4946733511941375, -51.9590884635617272 -23.4976184294469022, -51.9590881362084929 -23.5027872307460370, -51.9607034723873085 -23.5055394394934751, -51.9664575057092861 -23.5042391619077762, -51.9691957425894202 -23.5071449298945367, -51.9675633957340892 -23.5123782098864353, -51.9683688663300813 -23.5136188696150725, -51.9667862708696475 -23.5147760326877346, -51.9698671287649177 -23.5205121074477574, -51.9745999081591776 -23.5195601678673825, -51.9772769075032102 -23.5206725806750114, -51.9768705200584122 -23.5161871049509159, -51.9806518688885717 -23.5148742314605670, -51.9811521689373990 -23.5183473700350305, -51.9835538219512614 -23.5193441938794194, -51.9810668493555568 -23.5236188981935470, -51.9813808692317139 -23.5291609460207951, -51.9789040364920538 -23.5313436473913953, -51.9816444425369468 -23.5344794097968588, -51.9809419011477871 -23.5369378388101609, -51.9854465702030097 -23.5390350290433048, -51.9857956330619686 -23.5424168459606449, -51.9900111062275414 -23.5422285531051898, -51.9906773293951687 -23.5446640853791678, -51.9893685667059344 -23.5463511802627181, -51.9909786697297704 -23.5482303019867913, -51.9925334185823544 -23.5490491131260455, -51.9972325453456392 -23.5473370629550232, -51.9968550126486662 -23.5531165974529699, -51.9934556886290693 -23.5557849345270824, -51.9959923928346370 -23.5580017768604648, -51.9975755746530126 -23.5562432515247906, -51.9997501137767131 -23.5565708664522617, -52.1002707410018502 -23.5196632841332303, -52.1002595804152406 -23.5195539355656251, -52.0949649082039059 -23.5205579279059975, -52.0918664568714576 -23.5177743535035688, -52.0852125682054066 -23.5172215618255791, -52.0849079480433375 -23.5154668154411297, -52.0880442752230692 -23.5115466238775639, -52.0869535117951159 -23.5064580304137394, -52.0704872488873889 -23.4842357988429740, -52.0673001432869569 -23.4832576548168959, -52.0587682291704255 -23.4761621675499441, -52.0499956807560125 -23.4729767940437455, -52.0422670293998522 -23.4675377033022983, -52.0374355314245918 -23.4667892542206573, -52.0283023854466933 -23.4685117347287360, -52.0181819996994932 -23.4659619903535486, -52.0130519996500311 -23.4626480101974835, -52.0064708400572044 -23.4549080102963785, -52.0450393802631197 -23.4394113748350605, -52.0463227595876674 -23.4385239598128692, -52.0482381950366175 -23.4280509804683561, -52.0478787468067026 -23.4226734672067209, -52.0548880925114190 -23.4174600388496401, -52.0740262538085403 -23.4104790838425743, -52.0767436129273733 -23.4065420614668938, -52.0821423214109700 -23.4058845041664654, -52.0893679297860785 -23.4016667080520619, -52.0949863291557449 -23.4003380424666148))"
          ],
          [
           4117404,
           "Ourizona",
           "4115200",
           "Maringá/PR",
           0.731737110048,
           0.0156215732495,
           "POLYGON ((-52.3048265729879063 -23.5729775744554786, -52.3095451826640101 -23.5671897113360842, -52.3246658844229842 -23.5540184223123106, -52.3220284588462619 -23.5522912041756740, -52.3210674109322440 -23.5484490674704148, -52.3179352709959176 -23.5469718986341832, -52.3185470339184349 -23.5446929895897483, -52.3152480697426085 -23.5454020007016993, -52.3155063649267618 -23.5406577405622102, -52.3087769502959645 -23.5381999608594583, -52.3067564362604571 -23.5343778322711046, -52.3080542479051473 -23.5329874156366827, -52.3011901597980113 -23.5303040095223537, -52.3036111869067213 -23.5254064419536917, -52.2978757587592327 -23.5240124496148155, -52.2946536335583119 -23.5212981364997518, -52.2934461534172215 -23.5162129253861281, -52.2955759998324652 -23.5133206841022684, -52.2947805458854305 -23.5111420080971243, -52.2978598020881691 -23.5074323837974362, -52.2960077967223924 -23.5063226419762827, -52.2972666884069213 -23.5016236573059132, -52.2929536450945989 -23.4994976698815208, -52.2915923179310766 -23.4961095487166745, -52.2884143107717705 -23.4942838269370213, -52.2880774202367320 -23.4891368261036178, -52.2856190964441225 -23.4872431344630286, -52.2805587273034007 -23.4713757076227694, -52.2762793950780065 -23.4690086749103557, -52.2731875447693142 -23.4622055257643751, -52.2732024834078288 -23.4583486725531429, -52.2769418536835815 -23.4572662026730541, -52.2751431763164760 -23.4553561856394026, -52.2772258065257347 -23.4556743540881030, -52.2767159493815257 -23.4534807007736958, -52.2780579618054730 -23.4528672660114808, -52.2766025241871262 -23.4511343614615839, -52.2776718252944761 -23.4471708864272159, -52.2753324530302166 -23.4451538140971820, -52.2749951254246525 -23.4423401348892639, -52.2753571798899088 -23.4400829921363538, -52.2765499669073961 -23.4399481253057047, -52.2731919280649890 -23.4386861318594697, -52.2733114587567798 -23.4358892349002303, -52.2696239946515675 -23.4336315147825189, -52.2677776253370894 -23.4283531131056293, -52.2655405257746111 -23.4268578750908318, -52.2625486620910351 -23.4276352085979624, -52.2599601461437828 -23.4251069670128800, -52.2605598086881855 -23.4239997765683938, -52.2567757717844188 -23.4228789398111985, -52.2573030532932421 -23.4208746261630267, -52.2556068842502555 -23.4203068904506040, -52.2528791091834819 -23.4145446103454447, -52.2458866338610051 -23.4101110273020367, -52.2460954042794583 -23.4057039472792781, -52.2425905915824842 -23.4014158403687134, -52.2398226482965242 -23.4017927012720861, -52.2386797817464981 -23.3995087794065739, -52.2367024045922790 -23.4004017747220701, -52.2350824503947138 -23.3971366925043185, -52.2280942585431376 -23.3913141659159578, -52.2242476692944706 -23.3920377865146065, -52.2207296383620587 -23.3888891188377102, -52.2150891462470668 -23.3909063395558974, -52.2096754730446264 -23.3844068743777029, -52.2021309713671826 -23.3788350544941181, -52.2015362892682901 -23.3758576537077261, -52.1962333720724132 -23.3720335484094903, -52.1945748342611751 -23.3647058139221144, -52.1913385438386968 -23.3600677448305305, -52.1849801382227838 -23.3533733767798708, -52.1790144611484266 -23.3499797436701897, -52.1783951160417132 -23.3493542409054271, -52.1691998143199385 -23.3564147760210403, -52.1639439874250570 -23.3642809714896202, -52.1483685731510604 -23.3684950785849423, -52.1509882488085736 -23.3725011688937911, -52.1510763751745117 -23.3782762454522981, -52.1450221562474781 -23.3873390428624930, -52.1440608862009185 -23.3927866411904688, -52.1495255230843782 -23.4089955253231778, -52.1486363894577494 -23.4142490292692287, -52.1505483247453299 -23.4147437301389800, -52.1546000826276668 -23.4203273482285113, -52.1665775827891594 -23.4245653107404337, -52.1736604040044085 -23.4375277232257986, -52.1764125767789437 -23.4380843037475870, -52.1746613638308077 -23.4416030100708213, -52.1754971910424956 -23.4427410499594657, -52.1826847509004779 -23.4481755955272888, -52.1865197083178600 -23.4490153977423574, -52.1890187183391276 -23.4522956488250998, -52.1910717338734003 -23.4595106398041366, -52.1887138103940060 -23.4639539705992206, -52.1885251838900786 -23.4677328552870108, -52.2013275818023885 -23.4765660117120092, -52.2132729500865480 -23.4806838877511836, -52.2130505945092978 -23.4847612115606239, -52.2208305953556646 -23.4929395275371462, -52.2202369384838789 -23.4942045534972976, -52.2219373055621645 -23.4958306347759276, -52.2214639159269609 -23.5033793236967767, -52.2255747880460035 -23.5079501567742568, -52.2261862389037788 -23.5126679345774505, -52.2274675974516072 -23.5128458933232878, -52.2261581773579451 -23.5178315458890665, -52.2242675110367713 -23.5187613729389682, -52.2257979179395306 -23.5211843129056888, -52.2242169925201551 -23.5229643266422954, -52.2275759180940895 -23.5245009496590569, -52.2270442577862468 -23.5283671657120976, -52.2352138638287329 -23.5289473894104617, -52.2344334834184565 -23.5301841703630998, -52.2365815509977551 -23.5322123493204458, -52.2359953252240530 -23.5357801190572218, -52.2381015059796709 -23.5341972897730329, -52.2397747432098072 -23.5357064582863700, -52.2388839548306123 -23.5379529575628794, -52.2417146123394218 -23.5408833013232766, -52.2413237867633029 -23.5422851834144353, -52.2443766541592254 -23.5409575790289978, -52.2499118104816489 -23.5424009405509196, -52.2500766004546904 -23.5462299543488598, -52.2530490819495412 -23.5480947921408870, -52.2574091714960218 -23.5472410432395236, -52.2576930685801813 -23.5517844730749175, -52.2627136409217314 -23.5505417179259098, -52.2636911482278492 -23.5513631955549840, -52.2624616266027715 -23.5533199233757387, -52.2639679694461847 -23.5549705093814623, -52.2664117538992627 -23.5552775765988258, -52.2674958668407612 -23.5526792265650329, -52.2686296934055576 -23.5542822950918094, -52.2721330294157269 -23.5530376900373426, -52.2728322792862059 -23.5564935328501974, -52.2752375952387638 -23.5590755898665520, -52.2735207975467233 -23.5622717426467716, -52.2751629982736858 -23.5633631994520556, -52.2784108090115751 -23.5636248428122030, -52.2777979552114402 -23.5611177460870636, -52.2803029996836699 -23.5612447519437183, -52.2848774345459333 -23.5582362049368612, -52.2863283251920166 -23.5619214369247061, -52.2847973571123248 -23.5651576823810842, -52.2878755763966865 -23.5656600706556674, -52.2901305634746905 -23.5701267847232998, -52.2929931136412165 -23.5692113612153094, -52.2953766677989620 -23.5712495019628818, -52.2963569261311818 -23.5681641735377525, -52.2979658231641906 -23.5679832083583278, -52.3016041276283659 -23.5730073986724733, -52.3048265729879063 -23.5729775744554786))"
          ],
          [
           4117503,
           "Paiçandu",
           "4115200",
           "Maringá/PR",
           0.601674637934,
           0.0151362732829,
           "POLYGON ((-52.1486363894577494 -23.4142490292692287, -52.1419922755230800 -23.4177643775239517, -52.1376428114665487 -23.4172730374206708, -52.1187193246370839 -23.4024684815351520, -52.1087671624745212 -23.4050733696402631, -52.0949863291557449 -23.4003380424666148, -52.0893679297860785 -23.4016667080520619, -52.0821423214109700 -23.4058845041664654, -52.0767436129273733 -23.4065420614668938, -52.0740262538085403 -23.4104790838425743, -52.0548880925114190 -23.4174600388496401, -52.0478787468067026 -23.4226734672067209, -52.0482381950366175 -23.4280509804683561, -52.0463227595876674 -23.4385239598128692, -52.0450393802631197 -23.4394113748350605, -52.0064708400572044 -23.4549080102963785, -52.0130519996500311 -23.4626480101974835, -52.0181819996994932 -23.4659619903535486, -52.0283023854466933 -23.4685117347287360, -52.0374355314245918 -23.4667892542206573, -52.0422670293998522 -23.4675377033022983, -52.0499956807560125 -23.4729767940437455, -52.0587682291704255 -23.4761621675499441, -52.0673001432869569 -23.4832576548168959, -52.0704872488873889 -23.4842357988429740, -52.0869535117951159 -23.5064580304137394, -52.0880442752230692 -23.5115466238775639, -52.0849079480433375 -23.5154668154411297, -52.0852125682054066 -23.5172215618255791, -52.0918664568714576 -23.5177743535035688, -52.0949649082039059 -23.5205579279059975, -52.1002595804152406 -23.5195539355656251, -52.1438798149014815 -23.5179650367570048, -52.1513825511637492 -23.5151117729898829, -52.1569968927923355 -23.5158561490420084, -52.1676284765728724 -23.5136618626048062, -52.1733483509456164 -23.5155595238529145, -52.1813279140519626 -23.5156456636164535, -52.1844803849617733 -23.5133374456665365, -52.1927740704669532 -23.5142895543194186, -52.1921016401785209 -23.5162756306158371, -52.1955520375964284 -23.5181750266561380, -52.1983842365432338 -23.5151380062139879, -52.1988813736763859 -23.5117778908369246, -52.2056605666817859 -23.5115483199989512, -52.2081338318108692 -23.5146014688826313, -52.2118220477492514 -23.5134072546410380, -52.2135455750681672 -23.5192038151039355, -52.2174332363547364 -23.5220383648785969, -52.2196009208457781 -23.5211244297485678, -52.2242169925201551 -23.5229643266422954, -52.2257979179395306 -23.5211843129056888, -52.2242675110367713 -23.5187613729389682, -52.2261581773579451 -23.5178315458890665, -52.2274675974516072 -23.5128458933232878, -52.2261862389037788 -23.5126679345774505, -52.2255747880460035 -23.5079501567742568, -52.2214639159269609 -23.5033793236967767, -52.2219373055621645 -23.4958306347759276, -52.2202369384838789 -23.4942045534972976, -52.2208305953556646 -23.4929395275371462, -52.2130505945092978 -23.4847612115606239, -52.2132729500865480 -23.4806838877511836, -52.2013275818023885 -23.4765660117120092, -52.1885251838900786 -23.4677328552870108, -52.1887138103940060 -23.4639539705992206, -52.1910717338734003 -23.4595106398041366, -52.1890187183391276 -23.4522956488250998, -52.1865197083178600 -23.4490153977423574, -52.1826847509004779 -23.4481755955272888, -52.1754971910424956 -23.4427410499594657, -52.1746613638308077 -23.4416030100708213, -52.1764125767789437 -23.4380843037475870, -52.1736604040044085 -23.4375277232257986, -52.1665775827891594 -23.4245653107404337, -52.1546000826276668 -23.4203273482285113, -52.1505483247453299 -23.4147437301389800, -52.1486363894577494 -23.4142490292692287))"
          ],
          [
           4120408,
           "Presidente Castelo Branco",
           "4115200",
           "Maringá/PR",
           0.636625480426,
           0.013754414604,
           "POLYGON ((-52.1790144611484266 -23.3499797436701897, -52.1828186401680796 -23.3456199931680999, -52.1841421409470172 -23.3385532958978388, -52.1903829530108396 -23.3348254090653313, -52.1885592762895385 -23.3335198911300381, -52.2156234001997177 -23.3261976425071680, -52.2166512227756812 -23.3275804553736634, -52.2287102033131987 -23.3181247513561516, -52.2385035856718787 -23.3143419456242214, -52.2347323200405071 -23.3110174946615984, -52.2283835821365869 -23.3004201013065995, -52.2189005756010260 -23.2886586362869821, -52.2293258099381319 -23.2835935744838025, -52.2395193051717683 -23.2743088693587765, -52.2440297703575993 -23.2682321278103927, -52.2376035351749692 -23.2647968426001626, -52.2311255449079113 -23.2572355883516479, -52.2187425979924456 -23.2479806948531404, -52.2158982366142936 -23.2479466240374109, -52.2103152669359929 -23.2526951685471204, -52.2010528479105460 -23.2552856018489820, -52.1948090375070137 -23.2598364250109739, -52.1881715758574956 -23.2623135833051720, -52.1789589459985450 -23.2597193818439791, -52.1759117794050553 -23.2560409856029651, -52.1745246416988380 -23.2505377444213082, -52.1698693928581747 -23.2456292204121269, -52.1703528036389343 -23.2443639363465309, -52.1641915833748158 -23.2440574087223695, -52.1599725965580205 -23.2458557641321590, -52.1556580774582699 -23.2437201143917491, -52.1607355157314032 -23.2398928722582241, -52.1641180494083869 -23.2336500717933063, -52.1467568513475612 -23.2138972292736412, -52.1424203087502178 -23.2108971970479843, -52.1339915019062232 -23.2087331575091866, -52.1253129344443096 -23.1997707460230913, -52.1084226528830641 -23.1928495842408893, -52.1080913138629853 -23.1901548934335437, -52.1081126646677149 -23.1842628447544143, -52.1067632472260129 -23.1824901299154931, -52.0917663659250252 -23.1806393098562467, -52.0871711890990809 -23.1777809577249627, -52.0730220069600023 -23.1907188906642432, -52.0708293500944137 -23.1896702910510726, -52.0587376800997959 -23.2038883927351094, -52.0611059107091592 -23.2053039804942500, -52.0628803540450349 -23.2130764702029069, -52.0671513909239252 -23.2177277539326496, -52.0709794505411878 -23.2299021138913986, -52.0805868953688673 -23.2298906007705455, -52.0802640342577092 -23.2336072002120773, -52.0860501311086068 -23.2432453730754673, -52.0826985386066212 -23.2505345815056899, -52.0822557007399496 -23.2556668010819863, -52.0841083832951881 -23.2599975340589253, -52.0903241960048149 -23.2623441737445660, -52.0935088995160527 -23.2717248383305559, -52.1045346462568659 -23.2840742288425417, -52.1147531705223628 -23.2866180943495351, -52.1170396365699276 -23.2919005537675048, -52.1142082416170069 -23.2950419432310696, -52.1130167055564471 -23.3036222768465677, -52.1254675306020090 -23.2995003799385358, -52.1405731849044969 -23.3021000609689963, -52.1442978863383360 -23.3041579130572245, -52.1524364468844510 -23.3208974493577443, -52.1591899516549233 -23.3268710287749172, -52.1606401318366011 -23.3305608311173955, -52.1673650678435479 -23.3351843347891759, -52.1709670873611344 -23.3417939327437693, -52.1783951160417132 -23.3493542409054271, -52.1790144611484266 -23.3499797436701897))"
          ]
         ],
         "index": [
          0,
          1,
          2,
          3,
          4,
          5,
          6,
          7,
          8,
          9
         ]
        }
       },
       "height": 400,
       "layout": "IPY_MODEL_e00b428ce7f644599e9b3f8c397113f7",
       "value": "Hello World!"
      }
     },
     "65ae83bd2e3347de838ff622b02cf93e": {
      "model_module": "keplergl-jupyter",
      "model_module_version": "^0.3.0",
      "model_name": "KeplerGlModal",
      "state": {
       "_model_module_version": "^0.3.0",
       "_view_module_version": "^0.3.0",
       "height": 400,
       "layout": "IPY_MODEL_79ced8ef70e14a18bc500601d3662bcb",
       "value": "Hello World!"
      }
     },
     "67328db02c79458caee1045483ad0577": {
      "model_module": "keplergl-jupyter",
      "model_module_version": "^0.3.0",
      "model_name": "KeplerGlModal",
      "state": {
       "_model_module_version": "^0.3.0",
       "_view_module_version": "^0.3.0",
       "config": {
        "config": {
         "mapState": {
          "bearing": 0,
          "dragRotate": false,
          "isSplit": true,
          "latitude": 37.83910734105235,
          "longitude": -122.49643947464848,
          "pitch": 0,
          "zoom": 11.54617265474927
         },
         "mapStyle": {
          "mapStyles": {},
          "styleType": "dark",
          "threeDBuildingColor": [
           9.665468314072013,
           17.18305478057247,
           31.1442867897876
          ],
          "topLayerGroups": {},
          "visibleLayerGroups": {
           "3d building": false,
           "border": false,
           "building": true,
           "label": true,
           "land": true,
           "road": true,
           "water": true
          }
         },
         "visState": {
          "animationConfig": {
           "currentTime": null,
           "speed": 1
          },
          "filters": [],
          "interactionConfig": {
           "brush": {
            "enabled": false,
            "size": 0.5
           },
           "coordinate": {
            "enabled": false
           },
           "geocoder": {
            "enabled": false
           },
           "tooltip": {
            "compareMode": false,
            "compareType": "absolute",
            "enabled": true,
            "fieldsToShow": {}
           }
          },
          "layerBlending": "normal",
          "layers": [],
          "splitMaps": []
         }
        },
        "version": "v1"
       },
       "height": 400,
       "layout": "IPY_MODEL_a493190be05241bdb5587162d541a9b1",
       "value": "Hello World!"
      }
     },
     "727f65d3ae814f9f87f5e9959731151c": {
      "model_module": "keplergl-jupyter",
      "model_module_version": "^0.3.0",
      "model_name": "KeplerGlModal",
      "state": {
       "_model_module_version": "^0.3.0",
       "_view_module_version": "^0.3.0",
       "config": {
        "config": {
         "mapState": {
          "bearing": 0,
          "dragRotate": false,
          "isSplit": false,
          "latitude": 37.81975965123623,
          "longitude": -122.61033623617762,
          "pitch": 0,
          "zoom": 12.432358826308361
         },
         "mapStyle": {
          "mapStyles": {},
          "styleType": "dark",
          "threeDBuildingColor": [
           9.665468314072013,
           17.18305478057247,
           31.1442867897876
          ],
          "topLayerGroups": {},
          "visibleLayerGroups": {
           "3d building": false,
           "border": false,
           "building": true,
           "label": true,
           "land": true,
           "road": true,
           "water": true
          }
         },
         "visState": {
          "animationConfig": {
           "currentTime": null,
           "speed": 1
          },
          "filters": [],
          "interactionConfig": {
           "brush": {
            "enabled": false,
            "size": 0.5
           },
           "coordinate": {
            "enabled": false
           },
           "geocoder": {
            "enabled": false
           },
           "tooltip": {
            "compareMode": false,
            "compareType": "absolute",
            "enabled": true,
            "fieldsToShow": {}
           }
          },
          "layerBlending": "normal",
          "layers": [],
          "splitMaps": []
         }
        },
        "version": "v1"
       },
       "height": 400,
       "layout": "IPY_MODEL_f41f4aad9dc941f7a0bb376338541fb2",
       "value": "Hello World!"
      }
     },
     "732cae17a2a44f00af38fbfe918bed83": {
      "model_module": "@jupyter-widgets/base",
      "model_module_version": "1.2.0",
      "model_name": "LayoutModel",
      "state": {}
     },
     "733b9ae7f7504991aec4ca9b88a3d326": {
      "model_module": "@jupyter-widgets/base",
      "model_module_version": "1.2.0",
      "model_name": "LayoutModel",
      "state": {}
     },
     "75e6c01b1caf4e089d1278a4fdd82944": {
      "model_module": "keplergl-jupyter",
      "model_module_version": "^0.3.0",
      "model_name": "KeplerGlModal",
      "state": {
       "_model_module_version": "^0.3.0",
       "_view_module_version": "^0.3.0",
       "config": {
        "config": {
         "mapState": {
          "bearing": -2.985861621473946,
          "dragRotate": true,
          "isSplit": false,
          "latitude": -23.532049137086762,
          "longitude": -51.997755600707265,
          "pitch": 49.33087090591545,
          "zoom": 9.056979435676121
         },
         "mapStyle": {
          "mapStyles": {},
          "styleType": "light",
          "threeDBuildingColor": [
           9.665468314072013,
           17.18305478057247,
           31.1442867897876
          ],
          "topLayerGroups": {},
          "visibleLayerGroups": {
           "3d building": false,
           "border": false,
           "building": true,
           "label": true,
           "land": true,
           "road": true,
           "water": true
          }
         },
         "visState": {
          "animationConfig": {
           "currentTime": null,
           "speed": 1
          },
          "filters": [],
          "interactionConfig": {
           "brush": {
            "enabled": false,
            "size": 0.5
           },
           "coordinate": {
            "enabled": false
           },
           "geocoder": {
            "enabled": false
           },
           "tooltip": {
            "compareMode": false,
            "compareType": "absolute",
            "enabled": true,
            "fieldsToShow": {
             "Commuting_Maringa": [
              {
               "format": null,
               "name": "cod_origem"
              },
              {
               "format": null,
               "name": "Mun_origem"
              },
              {
               "format": null,
               "name": "cod_destino"
              },
              {
               "format": null,
               "name": "Mun_destino"
              },
              {
               "format": null,
               "name": "Movimento_Pendular"
              }
             ],
             "Municipios_Arranjo": [
              {
               "format": null,
               "name": "CodMunic"
              },
              {
               "format": null,
               "name": "NomMunic"
              },
              {
               "format": null,
               "name": "CodArranjo"
              },
              {
               "format": null,
               "name": "NomeArranj"
              },
              {
               "format": null,
               "name": "Shape_Leng"
              }
             ]
            }
           }
          },
          "layerBlending": "normal",
          "layers": [
           {
            "config": {
             "color": [
              136,
              87,
              44
             ],
             "columns": {
              "lat0": "point_latitude",
              "lat1": "point_latitude.1",
              "lng0": "point_longitude",
              "lng1": "point_longitude.1"
             },
             "dataId": "Commuting_Maringa",
             "hidden": false,
             "isVisible": true,
             "label": "point",
             "textLabel": [
              {
               "alignment": "center",
               "anchor": "start",
               "color": [
                255,
                255,
                255
               ],
               "field": null,
               "offset": [
                0,
                0
               ],
               "size": 18
              }
             ],
             "visConfig": {
              "colorRange": {
               "category": "ColorBrewer",
               "colors": [
                "#ffffb2",
                "#fed976",
                "#feb24c",
                "#fd8d3c",
                "#f03b20",
                "#bd0026"
               ],
               "name": "ColorBrewer YlOrRd-6",
               "type": "sequential"
              },
              "opacity": 0.8,
              "sizeRange": [
               2,
               8.9
              ],
              "targetColor": null,
              "thickness": 2
             }
            },
            "id": "e9q15zm",
            "type": "arc",
            "visualChannels": {
             "colorField": {
              "name": "Movimento_Pendular",
              "type": "integer"
             },
             "colorScale": "quantize",
             "sizeField": {
              "name": "Movimento_Pendular",
              "type": "integer"
             },
             "sizeScale": "linear"
            }
           },
           {
            "config": {
             "color": [
              255,
              153,
              31
             ],
             "columns": {
              "geojson": "geometry"
             },
             "dataId": "Municipios_Arranjo",
             "hidden": false,
             "isVisible": true,
             "label": "Municipios_Arranjo",
             "textLabel": [
              {
               "alignment": "center",
               "anchor": "start",
               "color": [
                255,
                255,
                255
               ],
               "field": null,
               "offset": [
                0,
                0
               ],
               "size": 18
              }
             ],
             "visConfig": {
              "colorRange": {
               "category": "Uber",
               "colors": [
                "#5A1846",
                "#900C3F",
                "#C70039",
                "#E3611C",
                "#F1920E",
                "#FFC300"
               ],
               "name": "Global Warming",
               "type": "sequential"
              },
              "elevationScale": 5,
              "enable3d": false,
              "enableElevationZoomFactor": true,
              "filled": false,
              "heightRange": [
               0,
               500
              ],
              "opacity": 0.8,
              "radius": 10,
              "radiusRange": [
               0,
               50
              ],
              "sizeRange": [
               0,
               10
              ],
              "strokeColor": [
               129,
               116,
               107
              ],
              "strokeColorRange": {
               "category": "Uber",
               "colors": [
                "#5A1846",
                "#900C3F",
                "#C70039",
                "#E3611C",
                "#F1920E",
                "#FFC300"
               ],
               "name": "Global Warming",
               "type": "sequential"
              },
              "strokeOpacity": 0.8,
              "stroked": true,
              "thickness": 2.1,
              "wireframe": false
             }
            },
            "id": "4i2fd3g",
            "type": "geojson",
            "visualChannels": {
             "colorField": null,
             "colorScale": "quantile",
             "heightField": null,
             "heightScale": "linear",
             "radiusField": null,
             "radiusScale": "linear",
             "sizeField": null,
             "sizeScale": "linear",
             "strokeColorField": null,
             "strokeColorScale": "quantile"
            }
           }
          ],
          "splitMaps": []
         }
        },
        "version": "v1"
       },
       "data": {
        "Commuting_Maringa": {
         "columns": [
          "cod_origem",
          "Mun_origem",
          "point_latitude",
          "point_longitude",
          "cod_destino",
          "Mun_destino",
          "Movimento_Pendular",
          "point_latitude.1",
          "point_longitude.1",
          "Arranjo",
          "departure",
          "arrival"
         ],
         "data": [
          [
           4126256,
           "SARANDI",
           -23.444000000000003,
           -51.873999999999995,
           4115200,
           "MARINGÁ",
           22082,
           -23.425,
           -51.93899999999999,
           true,
           "2010-31-07 10:30:0'",
           "2010-31-07 11:00:0'"
          ],
          [
           4115200,
           "MARINGÁ",
           -23.425,
           -51.93899999999999,
           4126256,
           "SARANDI",
           2142,
           -23.444000000000003,
           -51.873999999999995,
           true,
           "2010-31-07 10:30:0'",
           "2010-31-07 11:00:0'"
          ],
          [
           4117503,
           "PAIÇANDU",
           -23.458000000000002,
           -52.049,
           4115200,
           "MARINGÁ",
           9891,
           -23.425,
           -51.93899999999999,
           true,
           "2010-31-07 10:30:0'",
           "2010-31-07 11:00:0'"
          ],
          [
           4115200,
           "MARINGÁ",
           -23.425,
           -51.93899999999999,
           4117503,
           "PAIÇANDU",
           659,
           -23.458000000000002,
           -52.049,
           true,
           "2010-31-07 10:30:0'",
           "2010-31-07 11:00:0'"
          ],
          [
           4114104,
           "MANDAGUAÇU",
           -23.346999999999998,
           -52.095,
           4115200,
           "MARINGÁ",
           3354,
           -23.425,
           -51.93899999999999,
           true,
           "2010-31-07 10:30:0'",
           "2010-31-07 11:00:0'"
          ],
          [
           4115200,
           "MARINGÁ",
           -23.425,
           -51.93899999999999,
           4114104,
           "MANDAGUAÇU",
           502,
           -23.346999999999998,
           -52.095,
           true,
           "2010-31-07 10:30:0'",
           "2010-31-07 11:00:0'"
          ],
          [
           4114807,
           "MARIALVA",
           -23.485,
           -51.792,
           4115200,
           "MARINGÁ",
           2680,
           -23.425,
           -51.93899999999999,
           true,
           "2010-31-07 10:30:0'",
           "2010-31-07 11:00:0'"
          ],
          [
           4115200,
           "MARINGÁ",
           -23.425,
           -51.93899999999999,
           4114807,
           "MARIALVA",
           608,
           -23.485,
           -51.792,
           true,
           "2010-31-07 10:30:0'",
           "2010-31-07 11:00:0'"
          ],
          [
           4114807,
           "MARIALVA",
           -23.485,
           -51.792,
           4126256,
           "SARANDI",
           502,
           -23.444000000000003,
           -51.873999999999995,
           true,
           "2010-31-07 10:30:0'",
           "2010-31-07 11:00:0'"
          ],
          [
           4126256,
           "SARANDI",
           -23.444000000000003,
           -51.873999999999995,
           4114807,
           "MARIALVA",
           502,
           -23.485,
           -51.792,
           true,
           "2010-31-07 10:30:0'",
           "2010-31-07 11:00:0'"
          ],
          [
           4110003,
           "IGUARAÇU",
           -23.197,
           -51.828,
           4115200,
           "MARINGÁ",
           502,
           -23.425,
           -51.93899999999999,
           true,
           "2010-31-07 10:30:0'",
           "2010-31-07 11:00:0'"
          ],
          [
           4115200,
           "MARINGÁ",
           -23.425,
           -51.93899999999999,
           4110003,
           "IGUARAÇU",
           133,
           -23.197,
           -51.828,
           true,
           "2010-31-07 10:30:0'",
           "2010-31-07 11:00:0'"
          ],
          [
           4126256,
           "SARANDI",
           -23.444000000000003,
           -51.873999999999995,
           4117503,
           "PAIÇANDU",
           66,
           -23.458000000000002,
           -52.049,
           true,
           "2010-31-07 10:30:0'",
           "2010-31-07 11:00:0'"
          ],
          [
           4117503,
           "PAIÇANDU",
           -23.458000000000002,
           -52.049,
           4126256,
           "SARANDI",
           54,
           -23.444000000000003,
           -51.873999999999995,
           true,
           "2010-31-07 10:30:0'",
           "2010-31-07 11:00:0'"
          ],
          [
           4107900,
           "FLORESTA",
           -23.599,
           -52.081,
           4111100,
           "ITAMBÉ",
           64,
           -23.660999999999998,
           -51.99,
           true,
           "2010-31-07 10:30:0'",
           "2010-31-07 11:00:0'"
          ],
          [
           4111100,
           "ITAMBÉ",
           -23.660999999999998,
           -51.99,
           4107900,
           "FLORESTA",
           22,
           -23.599,
           -52.081,
           true,
           "2010-31-07 10:30:0'",
           "2010-31-07 11:00:0'"
          ]
         ],
         "index": [
          1,
          2,
          3,
          4,
          5,
          6,
          7,
          8,
          13,
          14,
          15,
          16,
          24,
          25,
          32,
          33
         ]
        },
        "Municipios_Arranjo": {
         "columns": [
          "CodMunic",
          "NomMunic",
          "CodArranjo",
          "NomeArranj",
          "Shape_Leng",
          "Shape_Area",
          "geometry"
         ],
         "data": [
          [
           4126256,
           "Sarandi",
           "4115200",
           "Maringá/PR",
           0.544904971268,
           0.00912425298747,
           "POLYGON ((-51.8510324708718144 -23.4547953783040271, -51.8511988796245760 -23.4549050398356940, -51.8534940223312333 -23.4579305885258123, -51.8534712514970124 -23.4863736402312497, -51.8525132639759363 -23.4905119137937390, -51.8467021803613193 -23.4967329551616899, -51.8496016557917301 -23.5047365427572004, -51.8529605319029656 -23.5108187027208828, -51.8590147319442849 -23.5158666090567294, -51.8637254869416324 -23.5167462224601422, -51.8678851158053931 -23.5233300467442064, -51.8753138369639828 -23.5224397089253898, -51.8794453431280544 -23.5243470333888354, -51.8808779748386542 -23.5262500474017315, -51.8811002557721395 -23.5330380609577219, -51.8869306217507642 -23.5359764122815704, -51.8874849971348908 -23.5389784338076424, -51.8896863243643338 -23.5410921643718325, -51.8930742647654597 -23.5402915069474261, -51.8935145548527998 -23.5441926679571907, -51.8964577957905817 -23.5461665359568428, -51.8997934828828988 -23.5559315545975210, -51.9024750372930725 -23.5576888037952017, -51.9051591259928387 -23.5558315068185493, -51.9113447268775872 -23.5589479922559804, -51.9123299233872331 -23.5607617197774744, -51.9183468528249819 -23.5538442730946826, -51.9152843402001167 -23.5513285905419707, -51.9201627432159967 -23.5458894404452508, -51.9202967772744159 -23.5428488586878188, -51.9281988529946261 -23.5338604711837434, -51.9226570983463489 -23.5304536459189535, -51.9094389060805952 -23.5099142950086843, -51.9224370315437227 -23.5001135013369549, -51.9190990529788792 -23.4970022220748547, -51.9177084061179812 -23.4874882662704181, -51.9115394462883728 -23.4770667587238790, -51.9056409215912140 -23.4768539359603210, -51.9038190003465729 -23.4703840000215109, -51.9058189999468595 -23.4649870002498346, -51.9047079999741641 -23.4593749995565304, -51.8970870001649018 -23.4527459996281209, -51.8932299598947111 -23.4454259696327654, -51.8876798397527637 -23.4399570303925771, -51.8779185371107587 -23.4159342931330912, -51.8677678801834645 -23.4149309995659110, -51.8637441595652717 -23.4160990201536379, -51.8481139504983730 -23.4103314664239974, -51.8451850573444517 -23.4063616547664992, -51.8398810456736783 -23.4065294367840124, -51.8405509920345935 -23.4025686129510859, -51.8424843707570631 -23.4003959156389669, -51.8430171219425802 -23.3936634154342187, -51.8392578694550821 -23.3933850069124674, -51.8335011813343840 -23.3957294819300046, -51.8273329634454853 -23.3932423978183692, -51.8192689027376332 -23.3927881457562989, -51.7971347876402888 -23.4090818134748702, -51.8004774858472388 -23.4124427733153198, -51.8018825020757845 -23.4175416838016304, -51.8036237946024016 -23.4294193106526336, -51.8029885368914051 -23.4377727318260440, -51.8064763047376573 -23.4450803763582485, -51.8266052095627288 -23.4595560483729173, -51.8331472270628524 -23.4586966850039857, -51.8409677081931477 -23.4518011512021189, -51.8456279923379384 -23.4445181175170774, -51.8459838351857911 -23.4477925122146189, -51.8510324708718144 -23.4547953783040271))"
          ],
          [
           4107900,
           "Floresta",
           "4115200",
           "Maringá/PR",
           0.693632333799,
           0.0139730939292,
           "POLYGON ((-52.1002707410018502 -23.5196632841332303, -51.9997501137767131 -23.5565708664522617, -52.0069303765355926 -23.5617551693655400, -52.0043980520284208 -23.5629276011278534, -52.0056743860640154 -23.5659819326200477, -52.0075352803289093 -23.5650337414139699, -52.0147016575554062 -23.5720370787481670, -52.0148268485801282 -23.5759593387524546, -52.0183374690988671 -23.5779572330398537, -52.0172170936938869 -23.5807336245570696, -52.0190279164051503 -23.5844345883854771, -52.0259282310030358 -23.5831983308382291, -52.0221821832611226 -23.5855171958618826, -52.0201018112495603 -23.5895864707389933, -52.0260434089760793 -23.5885311522907841, -52.0288047782178751 -23.5899516125768400, -52.0295347723118766 -23.5923751910621604, -52.0274863433200494 -23.5958881003555234, -52.0306865592372674 -23.5982464393216560, -52.0303122703949157 -23.6021804210895425, -52.0319893693139193 -23.6050997625439436, -52.0284019152161932 -23.6039206713019212, -52.0291264890961429 -23.6071032263328107, -52.0357599829368382 -23.6081954007970580, -52.0392206281294420 -23.6106642817311467, -52.0383772169349754 -23.6111031023262399, -52.0401830807845158 -23.6132243332363601, -52.0363626842903955 -23.6165434907894110, -52.0371047985475457 -23.6172496420572884, -52.0357932470606670 -23.6177962481982604, -52.0346619691745218 -23.6226800678307995, -52.0400862372899837 -23.6246069903202738, -52.0420613544479238 -23.6235317024260780, -52.0452441477991670 -23.6256711473055816, -52.0441731739527995 -23.6278986942692768, -52.0479956137065756 -23.6282202828397203, -52.0453796720341870 -23.6308679444999825, -52.0466890093902066 -23.6328546997845024, -52.0448414799503212 -23.6343071075868920, -52.0473889256583675 -23.6348951517898058, -52.0458384719678406 -23.6376600086024951, -52.0547912589094040 -23.6402400763184346, -52.0530227672868477 -23.6427089446620471, -52.0547922103921792 -23.6436896508566292, -52.0591788740057950 -23.6437364650657855, -52.0595549480024147 -23.6485427640373018, -52.0615253086460257 -23.6507976153176287, -52.0634614680722621 -23.6489219173125775, -52.0662077278043398 -23.6488126712677058, -52.0666287427222301 -23.6515797458085899, -52.0689595615344842 -23.6529969154752280, -52.0709875534328148 -23.6618952044001389, -52.0768270043627126 -23.6573637805140038, -52.0769936990998872 -23.6540092238465718, -52.0826291622060467 -23.6580502717026206, -52.0822958509726845 -23.6594622711668308, -52.0786241052182390 -23.6603672166736487, -52.0767379705808366 -23.6654595441225979, -52.0809319382582885 -23.6635791300727760, -52.0864413101183459 -23.6635217668160180, -52.0842707091258603 -23.6604361775874850, -52.0895978270780233 -23.6573952711747779, -52.0919066062048728 -23.6604220195604853, -52.0906588571205020 -23.6661451692640981, -52.0941064225733044 -23.6657642865924913, -52.0954911240161209 -23.6614038544042842, -52.0996059090853691 -23.6609037728907765, -52.1025766674791839 -23.6628463804560738, -52.1035199492861807 -23.6709169621480555, -52.1051593387324488 -23.6728766316512065, -52.1092654804175481 -23.6736127285445264, -52.1140199721439785 -23.6716678456944578, -52.1160950120751068 -23.6727942186781775, -52.1206331700847159 -23.6760254692999297, -52.1274921194656713 -23.6880694302599295, -52.1331343949363486 -23.6904571482787105, -52.1408493954832011 -23.6905860355170717, -52.1571432214824426 -23.6813469008387756, -52.1596872938334855 -23.6778651683428052, -52.1578562966307686 -23.6688816218892839, -52.1592119724545000 -23.6600045164951780, -52.1573758877869409 -23.6532168995402117, -52.1584649227179398 -23.6503487663824217, -52.1633826926570805 -23.6478265646442196, -52.1771876296053847 -23.6489181734349359, -52.1908332615457198 -23.6445739470299827, -52.1897250251897162 -23.6430518687486710, -52.1847772628603366 -23.6441755608533981, -52.1829996170386607 -23.6421582007403117, -52.1793349291635877 -23.6416494983256484, -52.1768330826805595 -23.6358100968584495, -52.1705264942023064 -23.6291433119142766, -52.1563873790742605 -23.6250506411740844, -52.1439752590509329 -23.6147441029579568, -52.1334707674619153 -23.6009178439832681, -52.1192378485478116 -23.5889846426271106, -52.1133804921159935 -23.5744037490337632, -52.1047009614801482 -23.5654366682675800, -52.0974209342286940 -23.5607148552063563, -52.1002707410018502 -23.5196632841332303))"
          ],
          [
           4110003,
           "Iguaraçu",
           "4115200",
           "Maringá/PR",
           0.700300445507,
           0.0145857340864,
           "POLYGON ((-51.9393744960361232 -23.2639476118927178, -51.9376430753675891 -23.2629600654545925, -51.9386191455570838 -23.2610134433157327, -51.9363417671588081 -23.2591143674340515, -51.9352089883041117 -23.2602565504993777, -51.9291205798508599 -23.2598343511743337, -51.9281843829028844 -23.2550845485130822, -51.9230147596234133 -23.2534115801802272, -51.9269575898208586 -23.2430906860862478, -51.9251584061354947 -23.2399991964057335, -51.9175709429446215 -23.2370558673343908, -51.9126534967614361 -23.2319761420852160, -51.9149991274077820 -23.2255974000999004, -51.9128800323875339 -23.2242588042004172, -51.9122545350187465 -23.2196186549768981, -51.9067040578459569 -23.2186567994716597, -51.9053658738359900 -23.2165008709184235, -51.9033461916733927 -23.2183214683610117, -51.9005974875839229 -23.2175212659935823, -51.8987682728374580 -23.2193407302904120, -51.8932469984501950 -23.2167109111795753, -51.8902064832425935 -23.2192532217587200, -51.8838688870394549 -23.2201356176645959, -51.8792955592426210 -23.2167057949364448, -51.8760626232913751 -23.2171269879200963, -51.8755483972407205 -23.2148601145026419, -51.8690940753312475 -23.2162087576280101, -51.8650022445578998 -23.2150955300346595, -51.8675745565205375 -23.2053280805264421, -51.8657741263747880 -23.1949841970629791, -51.8657131415482127 -23.1328532429827192, -51.8612634786265971 -23.1326648296181361, -51.8591485573600153 -23.1309375863005471, -51.8537025283489470 -23.1314529517922551, -51.8494141939098654 -23.1367636876939855, -51.8494447672621845 -23.1417018200828579, -51.8428680916890130 -23.1477879739358059, -51.8329397750505336 -23.1534045027156026, -51.8281184151327352 -23.1578146377352709, -51.8207651884626443 -23.1549225978995423, -51.8185771523137078 -23.1527163864520276, -51.8122585641813771 -23.1582433481519274, -51.8108089442773121 -23.1609632361643776, -51.8114275753222842 -23.1638824121435505, -51.8096392464540259 -23.1664640087070097, -51.7957016253296842 -23.1743939966855805, -51.7945688914411448 -23.1800350077094208, -51.7897425088096952 -23.1843724514274641, -51.7899110732374197 -23.1870137144113642, -51.7924865175386913 -23.1901995456724421, -51.7916430550828863 -23.1940305487707406, -51.7892543028437444 -23.1968940369301890, -51.7814883449111676 -23.1972098770341404, -51.7792611729647092 -23.1986143419782707, -51.7786877670267813 -23.2099559585006432, -51.7672417670938216 -23.2142531638523906, -51.7591433945519839 -23.2116481066747156, -51.7318669919680474 -23.2224813535315775, -51.7390103222685411 -23.2341051125608260, -51.7461241359200699 -23.2268484667832809, -51.7629629519786363 -23.2256448798073052, -51.7746800057776113 -23.2390694817711392, -51.7775084599474553 -23.2481893897285090, -51.7839546223079310 -23.2536962281983506, -51.7965986532052511 -23.2568396042642576, -51.8046744473678018 -23.2555384282558180, -51.8075437505436298 -23.2582399485147562, -51.8183496840906059 -23.2590762568636933, -51.8243803560685592 -23.2627337888332590, -51.8319567468063838 -23.2733906192815994, -51.8364641686864047 -23.2763398982676222, -51.8413477508979668 -23.2760388834876153, -51.8452949320154630 -23.2809567190772668, -51.8518749683550482 -23.2786886180851980, -51.8572953091311888 -23.2830252551113972, -51.8642343386437688 -23.2844113082352351, -51.8684743606032157 -23.2880113204660120, -51.8739012961078743 -23.2882970125970132, -51.8740134244799265 -23.2919456160972800, -51.8774949042663707 -23.2931660149995423, -51.8785614309652487 -23.2977932238781591, -51.8852988009988394 -23.3000601503555913, -51.8923247077190695 -23.3048767033970989, -51.8987134519641700 -23.3039181798800428, -51.8995742947178655 -23.3028304273822755, -51.8973055021471623 -23.3011240411415201, -51.8963755824671011 -23.2978390083634963, -51.9066012563428671 -23.2900686698332038, -51.9094716135240901 -23.2884336277097077, -51.9108529029390979 -23.2901893984219441, -51.9129291560556680 -23.2900121447446509, -51.9237937514803889 -23.2868890429949147, -51.9260114121968854 -23.2820608797057957, -51.9236497682221625 -23.2810467969720776, -51.9295369452737532 -23.2806994473215809, -51.9288382233053198 -23.2791062677400191, -51.9327746233501557 -23.2774640679123763, -51.9361264181995921 -23.2724584117262907, -51.9414404285329283 -23.2734433429358774, -51.9431099065968738 -23.2700734366397342, -51.9416178899535907 -23.2692109085565448, -51.9417530814395150 -23.2666467318611581, -51.9394149673268544 -23.2667812434595476, -51.9393744960361232 -23.2639476118927178))"
          ],
          [
           4111100,
           "Itambé",
           "4115200",
           "Maringá/PR",
           0.953026967666,
           0.0215921437579,
           "POLYGON ((-52.0438218825737522 -23.8109704537234279, -52.0468240713737487 -23.8052024773124344, -52.0462403025478579 -23.8021743061992197, -52.0393557674546514 -23.7919849694307572, -52.0343542382574356 -23.7755313986550618, -52.0340590303998738 -23.7696494439666139, -52.0363972065657663 -23.7643479018341850, -52.0417177028097058 -23.7601536274878526, -52.0510722339963650 -23.7564613313253403, -52.0562416081636457 -23.7514884194549722, -52.0597178835733985 -23.7438369829903309, -52.0611040590050607 -23.7309750265761750, -52.0645198909801366 -23.7282171880727333, -52.0802727333999087 -23.7220702823176453, -52.0952966258385572 -23.7200897764220144, -52.0954686751392160 -23.7170231862709784, -52.0916835374652578 -23.7095746692355647, -52.0946032953057738 -23.7063162797724658, -52.1115408866025973 -23.7055228421054380, -52.1176053119355629 -23.7018952458688545, -52.1192429917705908 -23.6971035365988882, -52.1184629647939346 -23.6926895129106470, -52.1130195096426405 -23.6845985444871872, -52.1124877683957379 -23.6805954839943524, -52.1160950120751068 -23.6727942186781775, -52.1140199721439785 -23.6716678456944578, -52.1092654804175481 -23.6736127285445264, -52.1051593387324488 -23.6728766316512065, -52.1035199492861807 -23.6709169621480555, -52.1025766674791839 -23.6628463804560738, -52.0996059090853691 -23.6609037728907765, -52.0954911240161209 -23.6614038544042842, -52.0941064225733044 -23.6657642865924913, -52.0906588571205020 -23.6661451692640981, -52.0919066062048728 -23.6604220195604853, -52.0895978270780233 -23.6573952711747779, -52.0842707091258603 -23.6604361775874850, -52.0864413101183459 -23.6635217668160180, -52.0809319382582885 -23.6635791300727760, -52.0767379705808366 -23.6654595441225979, -52.0786241052182390 -23.6603672166736487, -52.0822958509726845 -23.6594622711668308, -52.0826291622060467 -23.6580502717026206, -52.0769936990998872 -23.6540092238465718, -52.0768270043627126 -23.6573637805140038, -52.0709875534328148 -23.6618952044001389, -52.0689595615344842 -23.6529969154752280, -52.0666287427222301 -23.6515797458085899, -52.0662077278043398 -23.6488126712677058, -52.0634614680722621 -23.6489219173125775, -52.0615253086460257 -23.6507976153176287, -52.0586541897390020 -23.6537175737070129, -52.0607209541087173 -23.6566180671700295, -52.0581930560646242 -23.6599845515457901, -52.0547034491048635 -23.6577764928907754, -52.0526113211554957 -23.6619570282941822, -52.0471072481009855 -23.6602081598786071, -52.0484382141522133 -23.6585118757224677, -52.0436355988038031 -23.6535108105754261, -52.0371050215794639 -23.6580430195696749, -52.0351152220898143 -23.6546829149845053, -52.0368784706648739 -23.6532566567692584, -52.0344936205841009 -23.6510170211186050, -52.0284551883561903 -23.6531146160466506, -52.0259419240804846 -23.6516683641036707, -52.0275955884656014 -23.6499709593921921, -52.0246305182837432 -23.6458474185234877, -52.0273547779006549 -23.6431509839306955, -52.0312551250239608 -23.6430750712574991, -52.0315993261479548 -23.6388058833847481, -52.0334916103494720 -23.6365374064760658, -52.0320371152206462 -23.6362725732206513, -52.0318890670267820 -23.6346370868320719, -52.0287365835264950 -23.6374112129570904, -52.0240566932617412 -23.6377154194310037, -52.0269094111403660 -23.6345458784894618, -52.0250439312324033 -23.6331936057002849, -52.0266148525933545 -23.6310501876160401, -52.0244246131053956 -23.6297244664109485, -52.0199757325939345 -23.6320856913015405, -52.0153619964589211 -23.6269075523416063, -52.0143029719046126 -23.6290231022343278, -52.0118323570775942 -23.6296593572934626, -52.0119439251719768 -23.6333693215369181, -52.0091928549662157 -23.6327771908146360, -52.0079324245417070 -23.6297330036751418, -52.0099299087382292 -23.6272658125671455, -52.0083681928377928 -23.6271013778263068, -52.0122606592020134 -23.6259590130979404, -52.0128713240522984 -23.6213422129727064, -52.0089004889663329 -23.6225567015305273, -52.0080720631751205 -23.6197247382060596, -52.0042200797927876 -23.6192402509367980, -52.0022732481118624 -23.6215356382590471, -51.9984421020213290 -23.6219348572078616, -51.9982768318103012 -23.6199769323894770, -51.9959271470201543 -23.6211090871146325, -51.9949512917686434 -23.6242463325021959, -51.9859329901153728 -23.6200691137985359, -51.9871597175468878 -23.6171364506865871, -51.9863289535183526 -23.6157718823664595, -51.9808561417974602 -23.6188109370750681, -51.9787193715017679 -23.6160863815812263, -51.9743121565807087 -23.6168619874906653, -51.9715928882012008 -23.6152551939719615, -51.9700579909834346 -23.6166692510849998, -51.9687670213808701 -23.6126848704104191, -51.9648808565662534 -23.6122143226328376, -51.9636004638902591 -23.6163076291936704, -51.9657417137090647 -23.6188492221138517, -51.9643116045968441 -23.6229874992736200, -51.9624344478914395 -23.6240242404263086, -51.9613051880839407 -23.6230897467943350, -51.9621399154247001 -23.6210808618922101, -51.9580502439235943 -23.6207635963628491, -51.9451599912405868 -23.6352603062181288, -51.9366405983848836 -23.6396977320646329, -51.9371194855757494 -23.6456633713674478, -51.9351759364203076 -23.6515805363126788, -51.9372476047930718 -23.6566188279964535, -51.9399135523685231 -23.6730356992380848, -51.9399333725270935 -23.6795863628203165, -51.9366012053812938 -23.6807423666668342, -51.9373570540847140 -23.6833083258185297, -51.9410143171569416 -23.6831214098251621, -51.9448759106946909 -23.6783352232918674, -51.9445192719467741 -23.6842076316768271, -51.9455766516411472 -23.6849346355249395, -51.9488239398729092 -23.6816816887588857, -51.9526264731331935 -23.6817319734517469, -51.9522117957377532 -23.6780803455314981, -51.9553470590195161 -23.6757661794655405, -51.9575708693001275 -23.6789714477740745, -51.9546314387898178 -23.6815517744947783, -51.9532905361293160 -23.6863065531048846, -51.9570992243496903 -23.6853396847785689, -51.9585469817577632 -23.6873244408702135, -51.9585488919178147 -23.6930653530835116, -51.9618173259088394 -23.6914748399918267, -51.9636035899337116 -23.6945289763311280, -51.9589097898548857 -23.6977279781636412, -51.9534883429126353 -23.6987123769745835, -51.9488277107301997 -23.7039033240790786, -51.9450690958620385 -23.7058913528036328, -51.9365441002299804 -23.7074512268925446, -51.9322963719799304 -23.7143799204968673, -51.9255470562516166 -23.7126994230399077, -51.9192352948729194 -23.7259725512921591, -51.9211556550094429 -23.7279567749851594, -51.9207446153716887 -23.7328436756950509, -51.9248558975815513 -23.7358500355506408, -51.9256259025133318 -23.7398755665041676, -51.9302087136611590 -23.7447210948026282, -51.9306079146235220 -23.7480756029066811, -51.9359638252702780 -23.7531325852006034, -51.9398541485500687 -23.7613845799343721, -51.9429109936473878 -23.7635199931531247, -51.9444054528493098 -23.7689359245532046, -51.9504367597486407 -23.7759950810081477, -51.9554105727397086 -23.7760492507722461, -51.9564629252237751 -23.7739449963644347, -51.9616051308720444 -23.7757800279259186, -51.9647174209721356 -23.7788715319955486, -51.9665969276060764 -23.7835080938234000, -51.9746569233782907 -23.7876861129237227, -51.9739673717967321 -23.7929829183269703, -51.9772732562557280 -23.7973673309375044, -51.9837984762186807 -23.7962099214506679, -51.9861847670133557 -23.7922853492893864, -51.9924610483386687 -23.7894248711608043, -51.9962670835590188 -23.7906024479445932, -52.0108236702761246 -23.7904747586031817, -52.0239662799198186 -23.7961128081595348, -52.0263258887287634 -23.7990689849456771, -52.0298764328510401 -23.8116224747973320, -52.0335241586129769 -23.8175724407155371, -52.0383275401837864 -23.8173817808444710, -52.0438218825737522 -23.8109704537234279))"
          ],
          [
           4114104,
           "Mandaguaçu",
           "4115200",
           "Maringá/PR",
           0.953086368683,
           0.0259263762249,
           "POLYGON ((-51.9625388286040106 -23.1616193131807222, -51.9645642556358212 -23.1659579556950348, -51.9643271134055453 -23.1701428096429254, -51.9581454731350618 -23.1743256473107522, -51.9591589092561890 -23.1792478311224386, -51.9632879998412704 -23.1829106349178460, -51.9663706662731784 -23.1824684949250468, -51.9632371944409215 -23.1864588686818252, -51.9657508283380025 -23.1921901626458293, -51.9727540100894316 -23.1927128126461639, -51.9733950576357415 -23.1914673964031977, -51.9768633425691746 -23.1963750462713278, -51.9734543787165535 -23.1995199790637230, -51.9757382394281535 -23.2025170120504072, -51.9732791125409790 -23.2046632647977731, -51.9682292411864637 -23.2035593047181123, -51.9656038494380823 -23.2064821966959585, -51.9682439819741262 -23.2082050018593122, -51.9682790051718939 -23.2159007272367148, -51.9609367709152252 -23.2187110915435824, -51.9685516895088426 -23.2270012804846715, -51.9659668931575425 -23.2302432744075418, -51.9611219871899266 -23.2314116277443645, -51.9577232846018546 -23.2306490889842507, -51.9585487696099904 -23.2335534135591502, -51.9571400958387244 -23.2375686535704631, -51.9613275488272848 -23.2380760924376659, -51.9635888599378859 -23.2409701260704082, -51.9683920445571630 -23.2394166848321220, -51.9697409089157532 -23.2403655550263011, -51.9686305942265108 -23.2432809304705188, -51.9632405435162354 -23.2452446523188314, -51.9682329544872346 -23.2478535864738092, -51.9628367551121073 -23.2504020619055609, -51.9629152227593067 -23.2546279591129519, -51.9643247257054668 -23.2522345852578383, -51.9657180750290877 -23.2538646010704610, -51.9656117571768164 -23.2553316903052405, -51.9694420417168317 -23.2551321280452044, -51.9712785094955620 -23.2576469202691101, -51.9687453737999476 -23.2610529496338927, -51.9695969337514612 -23.2621966714391988, -51.9666858921401627 -23.2647331202372811, -51.9679941386185646 -23.2647662953282293, -51.9678766233074612 -23.2660698770231420, -51.9658138249480430 -23.2704115610446820, -51.9675661746392166 -23.2744190471012757, -51.9729775347853433 -23.2749330519187652, -51.9732100239234001 -23.2780426674351020, -51.9777569485243021 -23.2817593801912039, -51.9775209358424490 -23.2966639442855694, -51.9824593614103492 -23.2947599311258955, -51.9865427106774973 -23.2967862835600954, -51.9903581689942484 -23.3020096017616538, -51.9923450798614795 -23.3083078697123938, -51.9975558786008492 -23.3110153893487109, -52.0016973033878003 -23.3116891767140828, -52.0052552732122422 -23.3103824204123384, -52.0082026411389506 -23.3125165484998433, -52.0089367433359939 -23.3108227185935561, -52.0103848892512133 -23.3144279154159335, -52.0135848119894604 -23.3162248858697581, -52.0175253597075198 -23.3147024694433753, -52.0223439407202477 -23.3162128475448185, -52.0295181699275417 -23.3250130384209342, -52.0341402086037306 -23.3249618553053324, -52.0350803454815036 -23.3236694144118815, -52.0371567119127008 -23.3253706133630772, -52.0411050405651281 -23.3248513744912884, -52.0462765056561807 -23.3311581761088860, -52.0466243076656383 -23.3354588060789752, -52.0499108504053538 -23.3393582826585657, -52.0576306290502657 -23.3380226671123410, -52.0651281105738235 -23.3391263241205138, -52.0675997848022121 -23.3432861742174964, -52.0767135809669526 -23.3473314461892301, -52.0791876536871996 -23.3581531358585153, -52.0821944218350836 -23.3618842845320387, -52.0724502638685181 -23.3682122840696138, -52.0737283794611017 -23.3754776110029070, -52.0813809508701411 -23.3891276226416380, -52.0902844720507119 -23.3924064761778823, -52.0949863291557449 -23.4003380424666148, -52.1087671624745212 -23.4050733696402631, -52.1187193246370839 -23.4024684815351520, -52.1376428114665487 -23.4172730374206708, -52.1419922755230800 -23.4177643775239517, -52.1486363894577494 -23.4142490292692287, -52.1495255230843782 -23.4089955253231778, -52.1440608862009185 -23.3927866411904688, -52.1450221562474781 -23.3873390428624930, -52.1510763751745117 -23.3782762454522981, -52.1509882488085736 -23.3725011688937911, -52.1483685731510604 -23.3684950785849423, -52.1639439874250570 -23.3642809714896202, -52.1691998143199385 -23.3564147760210403, -52.1783951160417132 -23.3493542409054271, -52.1709670873611344 -23.3417939327437693, -52.1673650678435479 -23.3351843347891759, -52.1606401318366011 -23.3305608311173955, -52.1591899516549233 -23.3268710287749172, -52.1524364468844510 -23.3208974493577443, -52.1442978863383360 -23.3041579130572245, -52.1405731849044969 -23.3021000609689963, -52.1254675306020090 -23.2995003799385358, -52.1130167055564471 -23.3036222768465677, -52.1142082416170069 -23.2950419432310696, -52.1170396365699276 -23.2919005537675048, -52.1147531705223628 -23.2866180943495351, -52.1045346462568659 -23.2840742288425417, -52.0935088995160527 -23.2717248383305559, -52.0903241960048149 -23.2623441737445660, -52.0841083832951881 -23.2599975340589253, -52.0822557007399496 -23.2556668010819863, -52.0826985386066212 -23.2505345815056899, -52.0860501311086068 -23.2432453730754673, -52.0802640342577092 -23.2336072002120773, -52.0805868953688673 -23.2298906007705455, -52.0709794505411878 -23.2299021138913986, -52.0671513909239252 -23.2177277539326496, -52.0628803540450349 -23.2130764702029069, -52.0611059107091592 -23.2053039804942500, -52.0587376800997959 -23.2038883927351094, -52.0708293500944137 -23.1896702910510726, -52.0676900830308682 -23.1881515267714917, -52.0649630193278199 -23.1840590269025029, -52.0582434028107741 -23.1785868842772516, -52.0483514952252904 -23.1676857925652371, -52.0484023671754699 -23.1661980342118454, -52.0454746548314233 -23.1652970601111861, -52.0436555106932133 -23.1629168999949115, -52.0385990023420391 -23.1606607419996067, -52.0357918036488059 -23.1609507194001480, -52.0273987142791725 -23.1566028120700480, -52.0234633457567384 -23.1577738238028701, -52.0193485130234308 -23.1560686291638831, -52.0097736299489952 -23.1596486467676073, -52.0080477392117473 -23.1574813984477146, -51.9991541105737269 -23.1553451758391589, -51.9940765769724180 -23.1585019634947571, -51.9872933469104055 -23.1595166451770069, -51.9774906763535682 -23.1547781164168782, -51.9733765342995753 -23.1556016822717652, -51.9732640336082454 -23.1585345009664252, -51.9659303779845345 -23.1571836634952319, -51.9625388286040106 -23.1616193131807222))"
          ],
          [
           4114807,
           "Marialva",
           "4115200",
           "Maringá/PR",
           1.99828251932,
           0.0420752115599,
           "POLYGON ((-51.9997501137767131 -23.5565708664522617, -51.9975755746530126 -23.5562432515247906, -51.9959923928346370 -23.5580017768604648, -51.9934556886290693 -23.5557849345270824, -51.9968550126486662 -23.5531165974529699, -51.9972325453456392 -23.5473370629550232, -51.9925334185823544 -23.5490491131260455, -51.9909786697297704 -23.5482303019867913, -51.9893685667059344 -23.5463511802627181, -51.9906773293951687 -23.5446640853791678, -51.9900111062275414 -23.5422285531051898, -51.9857956330619686 -23.5424168459606449, -51.9854465702030097 -23.5390350290433048, -51.9809419011477871 -23.5369378388101609, -51.9816444425369468 -23.5344794097968588, -51.9789040364920538 -23.5313436473913953, -51.9813808692317139 -23.5291609460207951, -51.9810668493555568 -23.5236188981935470, -51.9835538219512614 -23.5193441938794194, -51.9811521689373990 -23.5183473700350305, -51.9806518688885717 -23.5148742314605670, -51.9768705200584122 -23.5161871049509159, -51.9772769075032102 -23.5206725806750114, -51.9745999081591776 -23.5195601678673825, -51.9698671287649177 -23.5205121074477574, -51.9667862708696475 -23.5147760326877346, -51.9683688663300813 -23.5136188696150725, -51.9675633957340892 -23.5123782098864353, -51.9691957425894202 -23.5071449298945367, -51.9664575057092861 -23.5042391619077762, -51.9607034723873085 -23.5055394394934751, -51.9590881362084929 -23.5027872307460370, -51.9590884635617272 -23.4976184294469022, -51.9558421016316174 -23.4946733511941375, -51.9560545205995936 -23.4930894849916854, -51.9525122043746705 -23.4912505791508579, -51.9519301631464714 -23.4870362373324610, -51.9486150615358042 -23.4851424764440821, -51.9414188555956571 -23.4886315896760607, -51.9418552947859666 -23.4837276000486668, -51.9405703767214391 -23.4817395182641349, -51.9383230167937313 -23.4801376269498974, -51.9337867950245027 -23.4805496234662883, -51.9301063240475855 -23.4758104094228202, -51.9174225377199150 -23.4787625113807508, -51.9115394462883728 -23.4770667587238790, -51.9177084061179812 -23.4874882662704181, -51.9190990529788792 -23.4970022220748547, -51.9224370315437227 -23.5001135013369549, -51.9094389060805952 -23.5099142950086843, -51.9226570983463489 -23.5304536459189535, -51.9281988529946261 -23.5338604711837434, -51.9202967772744159 -23.5428488586878188, -51.9201627432159967 -23.5458894404452508, -51.9152843402001167 -23.5513285905419707, -51.9183468528249819 -23.5538442730946826, -51.9123299233872331 -23.5607617197774744, -51.9113447268775872 -23.5589479922559804, -51.9051591259928387 -23.5558315068185493, -51.9024750372930725 -23.5576888037952017, -51.8997934828828988 -23.5559315545975210, -51.8964577957905817 -23.5461665359568428, -51.8935145548527998 -23.5441926679571907, -51.8930742647654597 -23.5402915069474261, -51.8896863243643338 -23.5410921643718325, -51.8874849971348908 -23.5389784338076424, -51.8869306217507642 -23.5359764122815704, -51.8811002557721395 -23.5330380609577219, -51.8808779748386542 -23.5262500474017315, -51.8794453431280544 -23.5243470333888354, -51.8753138369639828 -23.5224397089253898, -51.8678851158053931 -23.5233300467442064, -51.8637254869416324 -23.5167462224601422, -51.8590147319442849 -23.5158666090567294, -51.8529605319029656 -23.5108187027208828, -51.8496016557917301 -23.5047365427572004, -51.8467021803613193 -23.4967329551616899, -51.8525132639759363 -23.4905119137937390, -51.8534712514970124 -23.4863736402312497, -51.8534940223312333 -23.4579305885258123, -51.8511988796245760 -23.4549050398356940, -51.8510324708718144 -23.4547953783040271, -51.8459838351857911 -23.4477925122146189, -51.8456279923379384 -23.4445181175170774, -51.8409677081931477 -23.4518011512021189, -51.8331472270628524 -23.4586966850039857, -51.8266052095627288 -23.4595560483729173, -51.8064763047376573 -23.4450803763582485, -51.8029885368914051 -23.4377727318260440, -51.8036237946024016 -23.4294193106526336, -51.8018825020757845 -23.4175416838016304, -51.8004774858472388 -23.4124427733153198, -51.7971347876402888 -23.4090818134748702, -51.8192689027376332 -23.3927881457562989, -51.8273329634454853 -23.3932423978183692, -51.8335011813343840 -23.3957294819300046, -51.8392578694550821 -23.3933850069124674, -51.8430171219425802 -23.3936634154342187, -51.8461505667951883 -23.3901110357955986, -51.8457502632639944 -23.3881254406365429, -51.8410978454891165 -23.3855000246064151, -51.8447869760380513 -23.3815131015483644, -51.8425783903803676 -23.3797995090400832, -51.8421388728106649 -23.3754073056026073, -51.8395738678397038 -23.3723954841642012, -51.8432408453886637 -23.3664308880750013, -51.8393115823636208 -23.3590655673220340, -51.8434851866919644 -23.3545284615192372, -51.8473313802389839 -23.3535949346584744, -51.8491860934634019 -23.3563062647223205, -51.8510394478122407 -23.3534608385468232, -51.8449966304900727 -23.3467588622316384, -51.8467807343433833 -23.3446859743781943, -51.8459244583470422 -23.3416887219569276, -51.8469834766061126 -23.3419397335318308, -51.8506704253997555 -23.3367197149428307, -51.8493607004359092 -23.3321215298846596, -51.8473746259381869 -23.3319354259790543, -51.8478491496185256 -23.3304645398065986, -51.8459532897124973 -23.3294159608778386, -51.8463997995111185 -23.3279239370399978, -51.8427922644514183 -23.3296269984871287, -51.8345381967803291 -23.3280376050514064, -51.8328751308825417 -23.3210265650238853, -51.8282310489237261 -23.3152729579805964, -51.8281589997379797 -23.3234350609792500, -51.8269033555054079 -23.3261450105837298, -51.8249672329513942 -23.3269818513313112, -51.8115870664898921 -23.3224970797763831, -51.8025038059058716 -23.3238077040622329, -51.8040162587433315 -23.3269776757790623, -51.8028207701623842 -23.3310509976054163, -51.7960292249687200 -23.3325891503689604, -51.7932057197681388 -23.3350890102495896, -51.7909236810829725 -23.3409699208251595, -51.7851460405572652 -23.3370627568407372, -51.7810895819186499 -23.3377038943192474, -51.7763522249751418 -23.3354798331277493, -51.7743700058710488 -23.3387601687467736, -51.7774198020821359 -23.3406688691729300, -51.7802673524562920 -23.3505074145854792, -51.7784224508354214 -23.3502899378303255, -51.7775603966949234 -23.3520158762316328, -51.7737598887078434 -23.3507697432290229, -51.7729011449717973 -23.3522935446113706, -51.7746338022081432 -23.3546086459721778, -51.7727951850496879 -23.3551248981954700, -51.7736456361371324 -23.3558571621782676, -51.7692384427998604 -23.3560850503847064, -51.7678994970640929 -23.3574250941927062, -51.7691432711450261 -23.3583831887331144, -51.7680656594026232 -23.3631003855742847, -51.7712469221077072 -23.3655968073467193, -51.7709065574915712 -23.3699815760888328, -51.7638768889072480 -23.3727999038924281, -51.7666314754621908 -23.3750809578198755, -51.7725886296614703 -23.3754501205265797, -51.7750106613129333 -23.3784428673444040, -51.7705466497080806 -23.3808521070390611, -51.7681535231665180 -23.3854214823155075, -51.7714881787364334 -23.3877260840914687, -51.7720518881840235 -23.3903458550771006, -51.7705113944852542 -23.3909060014107695, -51.7683777655213930 -23.3972000659302353, -51.7752775971833330 -23.4005264873075021, -51.7689441207745062 -23.4046787588176244, -51.7690626676079546 -23.4077623695376928, -51.7722637576662237 -23.4139844891927851, -51.7688176805914395 -23.4172925113402925, -51.7658440416691406 -23.4161761064420944, -51.7638308768933939 -23.4173584253509830, -51.7657498943420933 -23.4213133847048880, -51.7687875092361196 -23.4206068314400682, -51.7727101811299235 -23.4222673648469595, -51.7661739543644330 -23.4255447758706623, -51.7723703327246199 -23.4324441290932555, -51.7626813418704046 -23.4321116524307627, -51.7623504102431866 -23.4337475857823847, -51.7687071035499571 -23.4432890869217658, -51.7652926376450750 -23.4444315155020035, -51.7639573557473227 -23.4482839539412566, -51.7650991215272143 -23.4517422797823656, -51.7681683799667098 -23.4538537197732921, -51.7663798748313297 -23.4571816816892351, -51.7674073880405103 -23.4606888991733058, -51.7620018447093457 -23.4639532880137835, -51.7594568649423081 -23.4684082956063094, -51.7609492566028848 -23.4752206942795851, -51.7594118134044265 -23.4810988691174884, -51.7629071328578334 -23.4863065678937346, -51.7568681457482853 -23.4899027364220956, -51.7538682187432642 -23.4937157278984614, -51.7477933783616777 -23.4953535804033891, -51.7262368168755415 -23.4920518337250996, -51.7148895382215983 -23.4925321040732911, -51.7117301596191510 -23.4972822017122098, -51.7098581452371491 -23.5035618051331312, -51.7687852528371195 -23.5511346499441174, -51.7723032217162427 -23.5576718722590499, -51.7775698773479007 -23.5626538268126069, -51.7780385734213837 -23.5733383500847253, -51.7824070734276347 -23.5778849985937882, -51.7871249861291858 -23.5801921058809398, -51.7877304888709205 -23.5823530805301971, -51.7919191982123834 -23.5857941339920671, -51.7955020801568367 -23.5869793738989415, -51.8028887652043295 -23.6034455693575183, -51.8101786184484467 -23.6071475089503338, -51.8144544577070292 -23.6054731862384983, -51.8159383300898071 -23.6066997481947851, -51.8196519536746791 -23.6058332019406976, -51.8235442689527872 -23.6072568251423149, -51.8304023954541435 -23.6186543965831106, -51.8299526795724432 -23.6253083374098196, -51.8352350508568520 -23.6277086504338172, -51.8367152719921478 -23.6298988260699048, -51.8358313526347843 -23.6319766278190855, -51.8385334655469592 -23.6363993884210117, -51.8437069145424516 -23.6389621792611138, -51.8472974551134484 -23.6378153458015277, -51.8474700925706884 -23.6352908103226014, -51.8518829678246789 -23.6339558171072213, -51.8522223072136512 -23.6383871635367200, -51.8548283239679222 -23.6414699729608628, -51.8568968896796605 -23.6387405809130087, -51.8584471868880996 -23.6387015161619729, -51.8589653834456499 -23.6417328753718721, -51.8622680123588680 -23.6408073398868055, -51.8625804404349537 -23.6426933153441610, -51.8647274531094240 -23.6424295693690851, -51.8662939857787819 -23.6470122618063670, -51.8691307748653117 -23.6431407919139929, -51.8671394483268386 -23.6405729441859762, -51.8685077263504581 -23.6381568444627419, -51.8720867358141504 -23.6395867620194053, -51.8768057268027860 -23.6457576212172285, -51.8818093064542722 -23.6470660313722192, -51.8886276001835540 -23.6451265633401704, -51.8890349732853338 -23.6480832509412267, -51.8847470417425143 -23.6512738054417468, -51.8850988070642529 -23.6554887102357156, -51.8887514710035589 -23.6541414196907454, -51.8897825050585197 -23.6551942164398952, -51.8887208427926225 -23.6569035236786362, -51.8849658683801067 -23.6577196530395213, -51.8863168686285690 -23.6602117922403750, -51.8919359685700670 -23.6596727790754358, -51.8911694700949511 -23.6626595274152010, -51.8933391879531314 -23.6600781134141585, -51.8929889937469966 -23.6566050827582899, -51.8994292331725546 -23.6535607877001439, -51.9026193191262450 -23.6545903837391620, -51.9010612427820774 -23.6565800645183231, -51.9051071523731480 -23.6567529933558944, -51.9055289982646286 -23.6634398673559758, -51.9083977258742948 -23.6610860717647711, -51.9107981063474995 -23.6613007336418946, -51.9109784725783925 -23.6638924295918969, -51.9133187765402795 -23.6662271172875762, -51.9127218272504933 -23.6718371313784814, -51.9190956841184743 -23.6669987814685214, -51.9234917366542845 -23.6685486541969681, -51.9221558342243270 -23.6651147872175898, -51.9230841054470602 -23.6622076288789458, -51.9250409258979744 -23.6652472834353489, -51.9297733941268120 -23.6664152095942200, -51.9297166442077014 -23.6711372573784615, -51.9318907777371805 -23.6761462986127640, -51.9379594334810122 -23.6772912102211421, -51.9399135523685231 -23.6730356992380848, -51.9372476047930718 -23.6566188279964535, -51.9351759364203076 -23.6515805363126788, -51.9371194855757494 -23.6456633713674478, -51.9366405983848836 -23.6396977320646329, -51.9451599912405868 -23.6352603062181288, -51.9580502439235943 -23.6207635963628491, -51.9621399154247001 -23.6210808618922101, -51.9613051880839407 -23.6230897467943350, -51.9624344478914395 -23.6240242404263086, -51.9643116045968441 -23.6229874992736200, -51.9657417137090647 -23.6188492221138517, -51.9636004638902591 -23.6163076291936704, -51.9648808565662534 -23.6122143226328376, -51.9687670213808701 -23.6126848704104191, -51.9700579909834346 -23.6166692510849998, -51.9715928882012008 -23.6152551939719615, -51.9743121565807087 -23.6168619874906653, -51.9787193715017679 -23.6160863815812263, -51.9808561417974602 -23.6188109370750681, -51.9863289535183526 -23.6157718823664595, -51.9871597175468878 -23.6171364506865871, -51.9859329901153728 -23.6200691137985359, -51.9949512917686434 -23.6242463325021959, -51.9959271470201543 -23.6211090871146325, -51.9982768318103012 -23.6199769323894770, -51.9984421020213290 -23.6219348572078616, -52.0022732481118624 -23.6215356382590471, -52.0042200797927876 -23.6192402509367980, -52.0080720631751205 -23.6197247382060596, -52.0089004889663329 -23.6225567015305273, -52.0128713240522984 -23.6213422129727064, -52.0122606592020134 -23.6259590130979404, -52.0083681928377928 -23.6271013778263068, -52.0099299087382292 -23.6272658125671455, -52.0079324245417070 -23.6297330036751418, -52.0091928549662157 -23.6327771908146360, -52.0119439251719768 -23.6333693215369181, -52.0118323570775942 -23.6296593572934626, -52.0143029719046126 -23.6290231022343278, -52.0153619964589211 -23.6269075523416063, -52.0199757325939345 -23.6320856913015405, -52.0244246131053956 -23.6297244664109485, -52.0266148525933545 -23.6310501876160401, -52.0250439312324033 -23.6331936057002849, -52.0269094111403660 -23.6345458784894618, -52.0240566932617412 -23.6377154194310037, -52.0287365835264950 -23.6374112129570904, -52.0318890670267820 -23.6346370868320719, -52.0320371152206462 -23.6362725732206513, -52.0334916103494720 -23.6365374064760658, -52.0315993261479548 -23.6388058833847481, -52.0312551250239608 -23.6430750712574991, -52.0273547779006549 -23.6431509839306955, -52.0246305182837432 -23.6458474185234877, -52.0275955884656014 -23.6499709593921921, -52.0259419240804846 -23.6516683641036707, -52.0284551883561903 -23.6531146160466506, -52.0344936205841009 -23.6510170211186050, -52.0368784706648739 -23.6532566567692584, -52.0351152220898143 -23.6546829149845053, -52.0371050215794639 -23.6580430195696749, -52.0436355988038031 -23.6535108105754261, -52.0484382141522133 -23.6585118757224677, -52.0471072481009855 -23.6602081598786071, -52.0526113211554957 -23.6619570282941822, -52.0547034491048635 -23.6577764928907754, -52.0581930560646242 -23.6599845515457901, -52.0607209541087173 -23.6566180671700295, -52.0586541897390020 -23.6537175737070129, -52.0615253086460257 -23.6507976153176287, -52.0595549480024147 -23.6485427640373018, -52.0591788740057950 -23.6437364650657855, -52.0547922103921792 -23.6436896508566292, -52.0530227672868477 -23.6427089446620471, -52.0547912589094040 -23.6402400763184346, -52.0458384719678406 -23.6376600086024951, -52.0473889256583675 -23.6348951517898058, -52.0448414799503212 -23.6343071075868920, -52.0466890093902066 -23.6328546997845024, -52.0453796720341870 -23.6308679444999825, -52.0479956137065756 -23.6282202828397203, -52.0441731739527995 -23.6278986942692768, -52.0452441477991670 -23.6256711473055816, -52.0420613544479238 -23.6235317024260780, -52.0400862372899837 -23.6246069903202738, -52.0346619691745218 -23.6226800678307995, -52.0357932470606670 -23.6177962481982604, -52.0371047985475457 -23.6172496420572884, -52.0363626842903955 -23.6165434907894110, -52.0401830807845158 -23.6132243332363601, -52.0383772169349754 -23.6111031023262399, -52.0392206281294420 -23.6106642817311467, -52.0357599829368382 -23.6081954007970580, -52.0291264890961429 -23.6071032263328107, -52.0284019152161932 -23.6039206713019212, -52.0319893693139193 -23.6050997625439436, -52.0303122703949157 -23.6021804210895425, -52.0306865592372674 -23.5982464393216560, -52.0274863433200494 -23.5958881003555234, -52.0295347723118766 -23.5923751910621604, -52.0288047782178751 -23.5899516125768400, -52.0260434089760793 -23.5885311522907841, -52.0201018112495603 -23.5895864707389933, -52.0221821832611226 -23.5855171958618826, -52.0259282310030358 -23.5831983308382291, -52.0190279164051503 -23.5844345883854771, -52.0172170936938869 -23.5807336245570696, -52.0183374690988671 -23.5779572330398537, -52.0148268485801282 -23.5759593387524546, -52.0147016575554062 -23.5720370787481670, -52.0075352803289093 -23.5650337414139699, -52.0056743860640154 -23.5659819326200477, -52.0043980520284208 -23.5629276011278534, -52.0069303765355926 -23.5617551693655400, -51.9997501137767131 -23.5565708664522617))"
          ],
          [
           4115200,
           "Maringá",
           "4115200",
           "Maringá/PR",
           1.26712273965,
           0.0430218331114,
           "POLYGON ((-52.0949863291557449 -23.4003380424666148, -52.0902844720507119 -23.3924064761778823, -52.0813809508701411 -23.3891276226416380, -52.0737283794611017 -23.3754776110029070, -52.0724502638685181 -23.3682122840696138, -52.0821944218350836 -23.3618842845320387, -52.0791876536871996 -23.3581531358585153, -52.0767135809669526 -23.3473314461892301, -52.0675997848022121 -23.3432861742174964, -52.0651281105738235 -23.3391263241205138, -52.0576306290502657 -23.3380226671123410, -52.0499108504053538 -23.3393582826585657, -52.0466243076656383 -23.3354588060789752, -52.0462765056561807 -23.3311581761088860, -52.0411050405651281 -23.3248513744912884, -52.0371567119127008 -23.3253706133630772, -52.0350803454815036 -23.3236694144118815, -52.0341402086037306 -23.3249618553053324, -52.0295181699275417 -23.3250130384209342, -52.0223439407202477 -23.3162128475448185, -52.0175253597075198 -23.3147024694433753, -52.0135848119894604 -23.3162248858697581, -52.0103848892512133 -23.3144279154159335, -52.0089367433359939 -23.3108227185935561, -52.0082026411389506 -23.3125165484998433, -52.0052552732122422 -23.3103824204123384, -52.0016973033878003 -23.3116891767140828, -51.9975558786008492 -23.3110153893487109, -51.9923450798614795 -23.3083078697123938, -51.9903581689942484 -23.3020096017616538, -51.9865427106774973 -23.2967862835600954, -51.9824593614103492 -23.2947599311258955, -51.9775209358424490 -23.2966639442855694, -51.9777569485243021 -23.2817593801912039, -51.9732100239234001 -23.2780426674351020, -51.9729775347853433 -23.2749330519187652, -51.9675661746392166 -23.2744190471012757, -51.9658138249480430 -23.2704115610446820, -51.9678766233074612 -23.2660698770231420, -51.9679941386185646 -23.2647662953282293, -51.9666858921401627 -23.2647331202372811, -51.9695969337514612 -23.2621966714391988, -51.9687453737999476 -23.2610529496338927, -51.9712785094955620 -23.2576469202691101, -51.9694420417168317 -23.2551321280452044, -51.9656117571768164 -23.2553316903052405, -51.9657180750290877 -23.2538646010704610, -51.9607952976647880 -23.2577810766353537, -51.9531185416873313 -23.2584592571889175, -51.9502604836343949 -23.2600727677439636, -51.9498412664612488 -23.2635809376101292, -51.9464079867391320 -23.2638781599490585, -51.9452275680977209 -23.2621388513268812, -51.9442041306160718 -23.2640569208901411, -51.9393744960361232 -23.2639476118927178, -51.9394149673268544 -23.2667812434595476, -51.9417530814395150 -23.2666467318611581, -51.9416178899535907 -23.2692109085565448, -51.9431099065968738 -23.2700734366397342, -51.9414404285329283 -23.2734433429358774, -51.9361264181995921 -23.2724584117262907, -51.9327746233501557 -23.2774640679123763, -51.9288382233053198 -23.2791062677400191, -51.9295369452737532 -23.2806994473215809, -51.9236497682221625 -23.2810467969720776, -51.9260114121968854 -23.2820608797057957, -51.9237937514803889 -23.2868890429949147, -51.9129291560556680 -23.2900121447446509, -51.9108529029390979 -23.2901893984219441, -51.9094716135240901 -23.2884336277097077, -51.9066012563428671 -23.2900686698332038, -51.8963755824671011 -23.2978390083634963, -51.8973055021471623 -23.3011240411415201, -51.8995742947178655 -23.3028304273822755, -51.8987134519641700 -23.3039181798800428, -51.8923247077190695 -23.3048767033970989, -51.8852988009988394 -23.3000601503555913, -51.8785614309652487 -23.2977932238781591, -51.8774949042663707 -23.2931660149995423, -51.8740134244799265 -23.2919456160972800, -51.8739012961078743 -23.2882970125970132, -51.8684743606032157 -23.2880113204660120, -51.8711143807240660 -23.3020452122167399, -51.8699882424633643 -23.3046129331403336, -51.8667965817967911 -23.3047004317794517, -51.8630874170506218 -23.3019306763595750, -51.8555656151609696 -23.3067124436243489, -51.8531341325341373 -23.3115753027579444, -51.8524343862379169 -23.3170917873560484, -51.8470723332215471 -23.3161681035750803, -51.8481582502030278 -23.3113356406272487, -51.8462611267495390 -23.3102599867089566, -51.8422386714774461 -23.3114095487116515, -51.8366119021175678 -23.3170719582042807, -51.8361954251786869 -23.3217772732025423, -51.8395261264295755 -23.3252725674749399, -51.8430800331170190 -23.3242818167523751, -51.8463997995111185 -23.3279239370399978, -51.8459532897124973 -23.3294159608778386, -51.8478491496185256 -23.3304645398065986, -51.8473746259381869 -23.3319354259790543, -51.8493607004359092 -23.3321215298846596, -51.8506704253997555 -23.3367197149428307, -51.8469834766061126 -23.3419397335318308, -51.8459244583470422 -23.3416887219569276, -51.8467807343433833 -23.3446859743781943, -51.8449966304900727 -23.3467588622316384, -51.8510394478122407 -23.3534608385468232, -51.8491860934634019 -23.3563062647223205, -51.8473313802389839 -23.3535949346584744, -51.8434851866919644 -23.3545284615192372, -51.8393115823636208 -23.3590655673220340, -51.8432408453886637 -23.3664308880750013, -51.8395738678397038 -23.3723954841642012, -51.8421388728106649 -23.3754073056026073, -51.8425783903803676 -23.3797995090400832, -51.8447869760380513 -23.3815131015483644, -51.8410978454891165 -23.3855000246064151, -51.8457502632639944 -23.3881254406365429, -51.8461505667951883 -23.3901110357955986, -51.8430171219425802 -23.3936634154342187, -51.8424843707570631 -23.4003959156389669, -51.8405509920345935 -23.4025686129510859, -51.8398810456736783 -23.4065294367840124, -51.8451850573444517 -23.4063616547664992, -51.8481139504983730 -23.4103314664239974, -51.8637441595652717 -23.4160990201536379, -51.8677678801834645 -23.4149309995659110, -51.8779185371107587 -23.4159342931330912, -51.8876798397527637 -23.4399570303925771, -51.8932299598947111 -23.4454259696327654, -51.8970870001649018 -23.4527459996281209, -51.9047079999741641 -23.4593749995565304, -51.9058189999468595 -23.4649870002498346, -51.9038190003465729 -23.4703840000215109, -51.9056409215912140 -23.4768539359603210, -51.9115394462883728 -23.4770667587238790, -51.9174225377199150 -23.4787625113807508, -51.9301063240475855 -23.4758104094228202, -51.9337867950245027 -23.4805496234662883, -51.9383230167937313 -23.4801376269498974, -51.9405703767214391 -23.4817395182641349, -51.9418552947859666 -23.4837276000486668, -51.9414188555956571 -23.4886315896760607, -51.9486150615358042 -23.4851424764440821, -51.9519301631464714 -23.4870362373324610, -51.9525122043746705 -23.4912505791508579, -51.9560545205995936 -23.4930894849916854, -51.9558421016316174 -23.4946733511941375, -51.9590884635617272 -23.4976184294469022, -51.9590881362084929 -23.5027872307460370, -51.9607034723873085 -23.5055394394934751, -51.9664575057092861 -23.5042391619077762, -51.9691957425894202 -23.5071449298945367, -51.9675633957340892 -23.5123782098864353, -51.9683688663300813 -23.5136188696150725, -51.9667862708696475 -23.5147760326877346, -51.9698671287649177 -23.5205121074477574, -51.9745999081591776 -23.5195601678673825, -51.9772769075032102 -23.5206725806750114, -51.9768705200584122 -23.5161871049509159, -51.9806518688885717 -23.5148742314605670, -51.9811521689373990 -23.5183473700350305, -51.9835538219512614 -23.5193441938794194, -51.9810668493555568 -23.5236188981935470, -51.9813808692317139 -23.5291609460207951, -51.9789040364920538 -23.5313436473913953, -51.9816444425369468 -23.5344794097968588, -51.9809419011477871 -23.5369378388101609, -51.9854465702030097 -23.5390350290433048, -51.9857956330619686 -23.5424168459606449, -51.9900111062275414 -23.5422285531051898, -51.9906773293951687 -23.5446640853791678, -51.9893685667059344 -23.5463511802627181, -51.9909786697297704 -23.5482303019867913, -51.9925334185823544 -23.5490491131260455, -51.9972325453456392 -23.5473370629550232, -51.9968550126486662 -23.5531165974529699, -51.9934556886290693 -23.5557849345270824, -51.9959923928346370 -23.5580017768604648, -51.9975755746530126 -23.5562432515247906, -51.9997501137767131 -23.5565708664522617, -52.1002707410018502 -23.5196632841332303, -52.1002595804152406 -23.5195539355656251, -52.0949649082039059 -23.5205579279059975, -52.0918664568714576 -23.5177743535035688, -52.0852125682054066 -23.5172215618255791, -52.0849079480433375 -23.5154668154411297, -52.0880442752230692 -23.5115466238775639, -52.0869535117951159 -23.5064580304137394, -52.0704872488873889 -23.4842357988429740, -52.0673001432869569 -23.4832576548168959, -52.0587682291704255 -23.4761621675499441, -52.0499956807560125 -23.4729767940437455, -52.0422670293998522 -23.4675377033022983, -52.0374355314245918 -23.4667892542206573, -52.0283023854466933 -23.4685117347287360, -52.0181819996994932 -23.4659619903535486, -52.0130519996500311 -23.4626480101974835, -52.0064708400572044 -23.4549080102963785, -52.0450393802631197 -23.4394113748350605, -52.0463227595876674 -23.4385239598128692, -52.0482381950366175 -23.4280509804683561, -52.0478787468067026 -23.4226734672067209, -52.0548880925114190 -23.4174600388496401, -52.0740262538085403 -23.4104790838425743, -52.0767436129273733 -23.4065420614668938, -52.0821423214109700 -23.4058845041664654, -52.0893679297860785 -23.4016667080520619, -52.0949863291557449 -23.4003380424666148))"
          ],
          [
           4117404,
           "Ourizona",
           "4115200",
           "Maringá/PR",
           0.731737110048,
           0.0156215732495,
           "POLYGON ((-52.3048265729879063 -23.5729775744554786, -52.3095451826640101 -23.5671897113360842, -52.3246658844229842 -23.5540184223123106, -52.3220284588462619 -23.5522912041756740, -52.3210674109322440 -23.5484490674704148, -52.3179352709959176 -23.5469718986341832, -52.3185470339184349 -23.5446929895897483, -52.3152480697426085 -23.5454020007016993, -52.3155063649267618 -23.5406577405622102, -52.3087769502959645 -23.5381999608594583, -52.3067564362604571 -23.5343778322711046, -52.3080542479051473 -23.5329874156366827, -52.3011901597980113 -23.5303040095223537, -52.3036111869067213 -23.5254064419536917, -52.2978757587592327 -23.5240124496148155, -52.2946536335583119 -23.5212981364997518, -52.2934461534172215 -23.5162129253861281, -52.2955759998324652 -23.5133206841022684, -52.2947805458854305 -23.5111420080971243, -52.2978598020881691 -23.5074323837974362, -52.2960077967223924 -23.5063226419762827, -52.2972666884069213 -23.5016236573059132, -52.2929536450945989 -23.4994976698815208, -52.2915923179310766 -23.4961095487166745, -52.2884143107717705 -23.4942838269370213, -52.2880774202367320 -23.4891368261036178, -52.2856190964441225 -23.4872431344630286, -52.2805587273034007 -23.4713757076227694, -52.2762793950780065 -23.4690086749103557, -52.2731875447693142 -23.4622055257643751, -52.2732024834078288 -23.4583486725531429, -52.2769418536835815 -23.4572662026730541, -52.2751431763164760 -23.4553561856394026, -52.2772258065257347 -23.4556743540881030, -52.2767159493815257 -23.4534807007736958, -52.2780579618054730 -23.4528672660114808, -52.2766025241871262 -23.4511343614615839, -52.2776718252944761 -23.4471708864272159, -52.2753324530302166 -23.4451538140971820, -52.2749951254246525 -23.4423401348892639, -52.2753571798899088 -23.4400829921363538, -52.2765499669073961 -23.4399481253057047, -52.2731919280649890 -23.4386861318594697, -52.2733114587567798 -23.4358892349002303, -52.2696239946515675 -23.4336315147825189, -52.2677776253370894 -23.4283531131056293, -52.2655405257746111 -23.4268578750908318, -52.2625486620910351 -23.4276352085979624, -52.2599601461437828 -23.4251069670128800, -52.2605598086881855 -23.4239997765683938, -52.2567757717844188 -23.4228789398111985, -52.2573030532932421 -23.4208746261630267, -52.2556068842502555 -23.4203068904506040, -52.2528791091834819 -23.4145446103454447, -52.2458866338610051 -23.4101110273020367, -52.2460954042794583 -23.4057039472792781, -52.2425905915824842 -23.4014158403687134, -52.2398226482965242 -23.4017927012720861, -52.2386797817464981 -23.3995087794065739, -52.2367024045922790 -23.4004017747220701, -52.2350824503947138 -23.3971366925043185, -52.2280942585431376 -23.3913141659159578, -52.2242476692944706 -23.3920377865146065, -52.2207296383620587 -23.3888891188377102, -52.2150891462470668 -23.3909063395558974, -52.2096754730446264 -23.3844068743777029, -52.2021309713671826 -23.3788350544941181, -52.2015362892682901 -23.3758576537077261, -52.1962333720724132 -23.3720335484094903, -52.1945748342611751 -23.3647058139221144, -52.1913385438386968 -23.3600677448305305, -52.1849801382227838 -23.3533733767798708, -52.1790144611484266 -23.3499797436701897, -52.1783951160417132 -23.3493542409054271, -52.1691998143199385 -23.3564147760210403, -52.1639439874250570 -23.3642809714896202, -52.1483685731510604 -23.3684950785849423, -52.1509882488085736 -23.3725011688937911, -52.1510763751745117 -23.3782762454522981, -52.1450221562474781 -23.3873390428624930, -52.1440608862009185 -23.3927866411904688, -52.1495255230843782 -23.4089955253231778, -52.1486363894577494 -23.4142490292692287, -52.1505483247453299 -23.4147437301389800, -52.1546000826276668 -23.4203273482285113, -52.1665775827891594 -23.4245653107404337, -52.1736604040044085 -23.4375277232257986, -52.1764125767789437 -23.4380843037475870, -52.1746613638308077 -23.4416030100708213, -52.1754971910424956 -23.4427410499594657, -52.1826847509004779 -23.4481755955272888, -52.1865197083178600 -23.4490153977423574, -52.1890187183391276 -23.4522956488250998, -52.1910717338734003 -23.4595106398041366, -52.1887138103940060 -23.4639539705992206, -52.1885251838900786 -23.4677328552870108, -52.2013275818023885 -23.4765660117120092, -52.2132729500865480 -23.4806838877511836, -52.2130505945092978 -23.4847612115606239, -52.2208305953556646 -23.4929395275371462, -52.2202369384838789 -23.4942045534972976, -52.2219373055621645 -23.4958306347759276, -52.2214639159269609 -23.5033793236967767, -52.2255747880460035 -23.5079501567742568, -52.2261862389037788 -23.5126679345774505, -52.2274675974516072 -23.5128458933232878, -52.2261581773579451 -23.5178315458890665, -52.2242675110367713 -23.5187613729389682, -52.2257979179395306 -23.5211843129056888, -52.2242169925201551 -23.5229643266422954, -52.2275759180940895 -23.5245009496590569, -52.2270442577862468 -23.5283671657120976, -52.2352138638287329 -23.5289473894104617, -52.2344334834184565 -23.5301841703630998, -52.2365815509977551 -23.5322123493204458, -52.2359953252240530 -23.5357801190572218, -52.2381015059796709 -23.5341972897730329, -52.2397747432098072 -23.5357064582863700, -52.2388839548306123 -23.5379529575628794, -52.2417146123394218 -23.5408833013232766, -52.2413237867633029 -23.5422851834144353, -52.2443766541592254 -23.5409575790289978, -52.2499118104816489 -23.5424009405509196, -52.2500766004546904 -23.5462299543488598, -52.2530490819495412 -23.5480947921408870, -52.2574091714960218 -23.5472410432395236, -52.2576930685801813 -23.5517844730749175, -52.2627136409217314 -23.5505417179259098, -52.2636911482278492 -23.5513631955549840, -52.2624616266027715 -23.5533199233757387, -52.2639679694461847 -23.5549705093814623, -52.2664117538992627 -23.5552775765988258, -52.2674958668407612 -23.5526792265650329, -52.2686296934055576 -23.5542822950918094, -52.2721330294157269 -23.5530376900373426, -52.2728322792862059 -23.5564935328501974, -52.2752375952387638 -23.5590755898665520, -52.2735207975467233 -23.5622717426467716, -52.2751629982736858 -23.5633631994520556, -52.2784108090115751 -23.5636248428122030, -52.2777979552114402 -23.5611177460870636, -52.2803029996836699 -23.5612447519437183, -52.2848774345459333 -23.5582362049368612, -52.2863283251920166 -23.5619214369247061, -52.2847973571123248 -23.5651576823810842, -52.2878755763966865 -23.5656600706556674, -52.2901305634746905 -23.5701267847232998, -52.2929931136412165 -23.5692113612153094, -52.2953766677989620 -23.5712495019628818, -52.2963569261311818 -23.5681641735377525, -52.2979658231641906 -23.5679832083583278, -52.3016041276283659 -23.5730073986724733, -52.3048265729879063 -23.5729775744554786))"
          ],
          [
           4117503,
           "Paiçandu",
           "4115200",
           "Maringá/PR",
           0.601674637934,
           0.0151362732829,
           "POLYGON ((-52.1486363894577494 -23.4142490292692287, -52.1419922755230800 -23.4177643775239517, -52.1376428114665487 -23.4172730374206708, -52.1187193246370839 -23.4024684815351520, -52.1087671624745212 -23.4050733696402631, -52.0949863291557449 -23.4003380424666148, -52.0893679297860785 -23.4016667080520619, -52.0821423214109700 -23.4058845041664654, -52.0767436129273733 -23.4065420614668938, -52.0740262538085403 -23.4104790838425743, -52.0548880925114190 -23.4174600388496401, -52.0478787468067026 -23.4226734672067209, -52.0482381950366175 -23.4280509804683561, -52.0463227595876674 -23.4385239598128692, -52.0450393802631197 -23.4394113748350605, -52.0064708400572044 -23.4549080102963785, -52.0130519996500311 -23.4626480101974835, -52.0181819996994932 -23.4659619903535486, -52.0283023854466933 -23.4685117347287360, -52.0374355314245918 -23.4667892542206573, -52.0422670293998522 -23.4675377033022983, -52.0499956807560125 -23.4729767940437455, -52.0587682291704255 -23.4761621675499441, -52.0673001432869569 -23.4832576548168959, -52.0704872488873889 -23.4842357988429740, -52.0869535117951159 -23.5064580304137394, -52.0880442752230692 -23.5115466238775639, -52.0849079480433375 -23.5154668154411297, -52.0852125682054066 -23.5172215618255791, -52.0918664568714576 -23.5177743535035688, -52.0949649082039059 -23.5205579279059975, -52.1002595804152406 -23.5195539355656251, -52.1438798149014815 -23.5179650367570048, -52.1513825511637492 -23.5151117729898829, -52.1569968927923355 -23.5158561490420084, -52.1676284765728724 -23.5136618626048062, -52.1733483509456164 -23.5155595238529145, -52.1813279140519626 -23.5156456636164535, -52.1844803849617733 -23.5133374456665365, -52.1927740704669532 -23.5142895543194186, -52.1921016401785209 -23.5162756306158371, -52.1955520375964284 -23.5181750266561380, -52.1983842365432338 -23.5151380062139879, -52.1988813736763859 -23.5117778908369246, -52.2056605666817859 -23.5115483199989512, -52.2081338318108692 -23.5146014688826313, -52.2118220477492514 -23.5134072546410380, -52.2135455750681672 -23.5192038151039355, -52.2174332363547364 -23.5220383648785969, -52.2196009208457781 -23.5211244297485678, -52.2242169925201551 -23.5229643266422954, -52.2257979179395306 -23.5211843129056888, -52.2242675110367713 -23.5187613729389682, -52.2261581773579451 -23.5178315458890665, -52.2274675974516072 -23.5128458933232878, -52.2261862389037788 -23.5126679345774505, -52.2255747880460035 -23.5079501567742568, -52.2214639159269609 -23.5033793236967767, -52.2219373055621645 -23.4958306347759276, -52.2202369384838789 -23.4942045534972976, -52.2208305953556646 -23.4929395275371462, -52.2130505945092978 -23.4847612115606239, -52.2132729500865480 -23.4806838877511836, -52.2013275818023885 -23.4765660117120092, -52.1885251838900786 -23.4677328552870108, -52.1887138103940060 -23.4639539705992206, -52.1910717338734003 -23.4595106398041366, -52.1890187183391276 -23.4522956488250998, -52.1865197083178600 -23.4490153977423574, -52.1826847509004779 -23.4481755955272888, -52.1754971910424956 -23.4427410499594657, -52.1746613638308077 -23.4416030100708213, -52.1764125767789437 -23.4380843037475870, -52.1736604040044085 -23.4375277232257986, -52.1665775827891594 -23.4245653107404337, -52.1546000826276668 -23.4203273482285113, -52.1505483247453299 -23.4147437301389800, -52.1486363894577494 -23.4142490292692287))"
          ],
          [
           4120408,
           "Presidente Castelo Branco",
           "4115200",
           "Maringá/PR",
           0.636625480426,
           0.013754414604,
           "POLYGON ((-52.1790144611484266 -23.3499797436701897, -52.1828186401680796 -23.3456199931680999, -52.1841421409470172 -23.3385532958978388, -52.1903829530108396 -23.3348254090653313, -52.1885592762895385 -23.3335198911300381, -52.2156234001997177 -23.3261976425071680, -52.2166512227756812 -23.3275804553736634, -52.2287102033131987 -23.3181247513561516, -52.2385035856718787 -23.3143419456242214, -52.2347323200405071 -23.3110174946615984, -52.2283835821365869 -23.3004201013065995, -52.2189005756010260 -23.2886586362869821, -52.2293258099381319 -23.2835935744838025, -52.2395193051717683 -23.2743088693587765, -52.2440297703575993 -23.2682321278103927, -52.2376035351749692 -23.2647968426001626, -52.2311255449079113 -23.2572355883516479, -52.2187425979924456 -23.2479806948531404, -52.2158982366142936 -23.2479466240374109, -52.2103152669359929 -23.2526951685471204, -52.2010528479105460 -23.2552856018489820, -52.1948090375070137 -23.2598364250109739, -52.1881715758574956 -23.2623135833051720, -52.1789589459985450 -23.2597193818439791, -52.1759117794050553 -23.2560409856029651, -52.1745246416988380 -23.2505377444213082, -52.1698693928581747 -23.2456292204121269, -52.1703528036389343 -23.2443639363465309, -52.1641915833748158 -23.2440574087223695, -52.1599725965580205 -23.2458557641321590, -52.1556580774582699 -23.2437201143917491, -52.1607355157314032 -23.2398928722582241, -52.1641180494083869 -23.2336500717933063, -52.1467568513475612 -23.2138972292736412, -52.1424203087502178 -23.2108971970479843, -52.1339915019062232 -23.2087331575091866, -52.1253129344443096 -23.1997707460230913, -52.1084226528830641 -23.1928495842408893, -52.1080913138629853 -23.1901548934335437, -52.1081126646677149 -23.1842628447544143, -52.1067632472260129 -23.1824901299154931, -52.0917663659250252 -23.1806393098562467, -52.0871711890990809 -23.1777809577249627, -52.0730220069600023 -23.1907188906642432, -52.0708293500944137 -23.1896702910510726, -52.0587376800997959 -23.2038883927351094, -52.0611059107091592 -23.2053039804942500, -52.0628803540450349 -23.2130764702029069, -52.0671513909239252 -23.2177277539326496, -52.0709794505411878 -23.2299021138913986, -52.0805868953688673 -23.2298906007705455, -52.0802640342577092 -23.2336072002120773, -52.0860501311086068 -23.2432453730754673, -52.0826985386066212 -23.2505345815056899, -52.0822557007399496 -23.2556668010819863, -52.0841083832951881 -23.2599975340589253, -52.0903241960048149 -23.2623441737445660, -52.0935088995160527 -23.2717248383305559, -52.1045346462568659 -23.2840742288425417, -52.1147531705223628 -23.2866180943495351, -52.1170396365699276 -23.2919005537675048, -52.1142082416170069 -23.2950419432310696, -52.1130167055564471 -23.3036222768465677, -52.1254675306020090 -23.2995003799385358, -52.1405731849044969 -23.3021000609689963, -52.1442978863383360 -23.3041579130572245, -52.1524364468844510 -23.3208974493577443, -52.1591899516549233 -23.3268710287749172, -52.1606401318366011 -23.3305608311173955, -52.1673650678435479 -23.3351843347891759, -52.1709670873611344 -23.3417939327437693, -52.1783951160417132 -23.3493542409054271, -52.1790144611484266 -23.3499797436701897))"
          ]
         ],
         "index": [
          0,
          1,
          2,
          3,
          4,
          5,
          6,
          7,
          8,
          9
         ]
        }
       },
       "height": 400,
       "layout": "IPY_MODEL_c87fca444d85481abe6981000515367c",
       "value": "Hello World!"
      }
     },
     "79ced8ef70e14a18bc500601d3662bcb": {
      "model_module": "@jupyter-widgets/base",
      "model_module_version": "1.2.0",
      "model_name": "LayoutModel",
      "state": {}
     },
     "98839eef82704bc4acdcc823df727b0d": {
      "model_module": "keplergl-jupyter",
      "model_module_version": "^0.3.0",
      "model_name": "KeplerGlModal",
      "state": {
       "_model_module_version": "^0.3.0",
       "_view_module_version": "^0.3.0",
       "config": {
        "config": {
         "mapState": {
          "bearing": 24,
          "dragRotate": true,
          "isSplit": false,
          "latitude": -23.529089417058692,
          "longitude": -51.809994690796536,
          "pitch": 50,
          "zoom": 9.693522599363439
         },
         "mapStyle": {
          "mapStyles": {},
          "styleType": "light",
          "threeDBuildingColor": [
           9.665468314072013,
           17.18305478057247,
           31.1442867897876
          ],
          "topLayerGroups": {},
          "visibleLayerGroups": {
           "3d building": false,
           "border": false,
           "building": true,
           "label": true,
           "land": true,
           "road": true,
           "water": true
          }
         },
         "visState": {
          "animationConfig": {
           "currentTime": null,
           "speed": 1
          },
          "filters": [],
          "interactionConfig": {
           "brush": {
            "enabled": false,
            "size": 0.5
           },
           "coordinate": {
            "enabled": false
           },
           "geocoder": {
            "enabled": false
           },
           "tooltip": {
            "compareMode": false,
            "compareType": "absolute",
            "enabled": true,
            "fieldsToShow": {}
           }
          },
          "layerBlending": "normal",
          "layers": [],
          "splitMaps": []
         }
        },
        "version": "v1"
       },
       "height": 400,
       "layout": "IPY_MODEL_ac38124e03a1444a8d3587ec1cc58296",
       "value": "Hello World!"
      }
     },
     "9a66460c379f4d12ab5ef1a528b6d422": {
      "model_module": "keplergl-jupyter",
      "model_module_version": "^0.3.0",
      "model_name": "KeplerGlModal",
      "state": {
       "_model_module_version": "^0.3.0",
       "_view_module_version": "^0.3.0",
       "config": {
        "config": {
         "mapState": {
          "bearing": 24,
          "dragRotate": true,
          "isSplit": false,
          "latitude": -23.39743135109128,
          "longitude": -51.963888923498736,
          "pitch": 50,
          "zoom": 11.603152090425391
         },
         "mapStyle": {
          "mapStyles": {},
          "styleType": "light",
          "threeDBuildingColor": [
           9.665468314072013,
           17.18305478057247,
           31.1442867897876
          ],
          "topLayerGroups": {},
          "visibleLayerGroups": {
           "3d building": false,
           "border": false,
           "building": true,
           "label": true,
           "land": true,
           "road": true,
           "water": true
          }
         },
         "visState": {
          "animationConfig": {
           "currentTime": null,
           "speed": 1
          },
          "filters": [],
          "interactionConfig": {
           "brush": {
            "enabled": false,
            "size": 0.5
           },
           "coordinate": {
            "enabled": false
           },
           "geocoder": {
            "enabled": false
           },
           "tooltip": {
            "compareMode": false,
            "compareType": "absolute",
            "enabled": true,
            "fieldsToShow": {
             "Commuting_Maringa": [
              {
               "format": null,
               "name": "cod_origem"
              },
              {
               "format": null,
               "name": "Mun_origem"
              },
              {
               "format": null,
               "name": "cod_destino"
              },
              {
               "format": null,
               "name": "Mun_destino"
              },
              {
               "format": null,
               "name": "Movimento_Pendular"
              }
             ],
             "Municipios_Arranjo": [
              {
               "format": null,
               "name": "CodMunic"
              },
              {
               "format": null,
               "name": "NomMunic"
              },
              {
               "format": null,
               "name": "CodArranjo"
              },
              {
               "format": null,
               "name": "NomeArranj"
              },
              {
               "format": null,
               "name": "Shape_Leng"
              }
             ]
            }
           }
          },
          "layerBlending": "normal",
          "layers": [
           {
            "config": {
             "color": [
              136,
              87,
              44
             ],
             "columns": {
              "lat0": "point_latitude",
              "lat1": "point_latitude.1",
              "lng0": "point_longitude",
              "lng1": "point_longitude.1"
             },
             "dataId": "Commuting_Maringa",
             "hidden": false,
             "isVisible": true,
             "label": "point",
             "textLabel": [
              {
               "alignment": "center",
               "anchor": "start",
               "color": [
                255,
                255,
                255
               ],
               "field": null,
               "offset": [
                0,
                0
               ],
               "size": 18
              }
             ],
             "visConfig": {
              "colorRange": {
               "category": "ColorBrewer",
               "colors": [
                "#fef0d9",
                "#fdd49e",
                "#fdbb84",
                "#fc8d59",
                "#e34a33",
                "#b30000"
               ],
               "name": "ColorBrewer OrRd-6",
               "type": "sequential"
              },
              "opacity": 0.8,
              "sizeRange": [
               0,
               10
              ],
              "targetColor": null,
              "thickness": 2
             }
            },
            "id": "e9q15zm",
            "type": "arc",
            "visualChannels": {
             "colorField": {
              "name": "Movimento_Pendular",
              "type": "integer"
             },
             "colorScale": "quantile",
             "sizeField": {
              "name": "Movimento_Pendular",
              "type": "integer"
             },
             "sizeScale": "linear"
            }
           },
           {
            "config": {
             "color": [
              255,
              153,
              31
             ],
             "columns": {
              "geojson": "geometry"
             },
             "dataId": "Municipios_Arranjo",
             "hidden": false,
             "isVisible": true,
             "label": "Municipios_Arranjo",
             "textLabel": [
              {
               "alignment": "center",
               "anchor": "start",
               "color": [
                255,
                255,
                255
               ],
               "field": null,
               "offset": [
                0,
                0
               ],
               "size": 18
              }
             ],
             "visConfig": {
              "colorRange": {
               "category": "Uber",
               "colors": [
                "#5A1846",
                "#900C3F",
                "#C70039",
                "#E3611C",
                "#F1920E",
                "#FFC300"
               ],
               "name": "Global Warming",
               "type": "sequential"
              },
              "elevationScale": 5,
              "enable3d": false,
              "enableElevationZoomFactor": true,
              "filled": false,
              "heightRange": [
               0,
               500
              ],
              "opacity": 0.8,
              "radius": 10,
              "radiusRange": [
               0,
               50
              ],
              "sizeRange": [
               0,
               10
              ],
              "strokeColor": [
               129,
               116,
               107
              ],
              "strokeColorRange": {
               "category": "Uber",
               "colors": [
                "#5A1846",
                "#900C3F",
                "#C70039",
                "#E3611C",
                "#F1920E",
                "#FFC300"
               ],
               "name": "Global Warming",
               "type": "sequential"
              },
              "strokeOpacity": 0.8,
              "stroked": true,
              "thickness": 2.1,
              "wireframe": false
             }
            },
            "id": "4i2fd3g",
            "type": "geojson",
            "visualChannels": {
             "colorField": null,
             "colorScale": "quantile",
             "heightField": null,
             "heightScale": "linear",
             "radiusField": null,
             "radiusScale": "linear",
             "sizeField": null,
             "sizeScale": "linear",
             "strokeColorField": null,
             "strokeColorScale": "quantile"
            }
           }
          ],
          "splitMaps": []
         }
        },
        "version": "v1"
       },
       "data": {
        "Commuting_Maringa": {
         "columns": [
          "cod_origem",
          "Mun_origem",
          "point_latitude",
          "point_longitude",
          "cod_destino",
          "Mun_destino",
          "Movimento_Pendular",
          "point_latitude.1",
          "point_longitude.1",
          "Arranjo",
          "departure",
          "arrival"
         ],
         "data": [
          [
           4126256,
           "SARANDI",
           -23.444000000000003,
           -51.873999999999995,
           4115200,
           "MARINGÁ",
           22082,
           -23.425,
           -51.93899999999999,
           true,
           "2010-31-07 10:30:0'",
           "2010-31-07 11:00:0'"
          ],
          [
           4115200,
           "MARINGÁ",
           -23.425,
           -51.93899999999999,
           4126256,
           "SARANDI",
           2142,
           -23.444000000000003,
           -51.873999999999995,
           true,
           "2010-31-07 10:30:0'",
           "2010-31-07 11:00:0'"
          ],
          [
           4117503,
           "PAIÇANDU",
           -23.458000000000002,
           -52.049,
           4115200,
           "MARINGÁ",
           9891,
           -23.425,
           -51.93899999999999,
           true,
           "2010-31-07 10:30:0'",
           "2010-31-07 11:00:0'"
          ],
          [
           4115200,
           "MARINGÁ",
           -23.425,
           -51.93899999999999,
           4117503,
           "PAIÇANDU",
           659,
           -23.458000000000002,
           -52.049,
           true,
           "2010-31-07 10:30:0'",
           "2010-31-07 11:00:0'"
          ],
          [
           4114104,
           "MANDAGUAÇU",
           -23.346999999999998,
           -52.095,
           4115200,
           "MARINGÁ",
           3354,
           -23.425,
           -51.93899999999999,
           true,
           "2010-31-07 10:30:0'",
           "2010-31-07 11:00:0'"
          ],
          [
           4115200,
           "MARINGÁ",
           -23.425,
           -51.93899999999999,
           4114104,
           "MANDAGUAÇU",
           502,
           -23.346999999999998,
           -52.095,
           true,
           "2010-31-07 10:30:0'",
           "2010-31-07 11:00:0'"
          ],
          [
           4114807,
           "MARIALVA",
           -23.485,
           -51.792,
           4115200,
           "MARINGÁ",
           2680,
           -23.425,
           -51.93899999999999,
           true,
           "2010-31-07 10:30:0'",
           "2010-31-07 11:00:0'"
          ],
          [
           4115200,
           "MARINGÁ",
           -23.425,
           -51.93899999999999,
           4114807,
           "MARIALVA",
           608,
           -23.485,
           -51.792,
           true,
           "2010-31-07 10:30:0'",
           "2010-31-07 11:00:0'"
          ],
          [
           4114807,
           "MARIALVA",
           -23.485,
           -51.792,
           4126256,
           "SARANDI",
           502,
           -23.444000000000003,
           -51.873999999999995,
           true,
           "2010-31-07 10:30:0'",
           "2010-31-07 11:00:0'"
          ],
          [
           4126256,
           "SARANDI",
           -23.444000000000003,
           -51.873999999999995,
           4114807,
           "MARIALVA",
           502,
           -23.485,
           -51.792,
           true,
           "2010-31-07 10:30:0'",
           "2010-31-07 11:00:0'"
          ],
          [
           4110003,
           "IGUARAÇU",
           -23.197,
           -51.828,
           4115200,
           "MARINGÁ",
           502,
           -23.425,
           -51.93899999999999,
           true,
           "2010-31-07 10:30:0'",
           "2010-31-07 11:00:0'"
          ],
          [
           4115200,
           "MARINGÁ",
           -23.425,
           -51.93899999999999,
           4110003,
           "IGUARAÇU",
           133,
           -23.197,
           -51.828,
           true,
           "2010-31-07 10:30:0'",
           "2010-31-07 11:00:0'"
          ],
          [
           4126256,
           "SARANDI",
           -23.444000000000003,
           -51.873999999999995,
           4117503,
           "PAIÇANDU",
           66,
           -23.458000000000002,
           -52.049,
           true,
           "2010-31-07 10:30:0'",
           "2010-31-07 11:00:0'"
          ],
          [
           4117503,
           "PAIÇANDU",
           -23.458000000000002,
           -52.049,
           4126256,
           "SARANDI",
           54,
           -23.444000000000003,
           -51.873999999999995,
           true,
           "2010-31-07 10:30:0'",
           "2010-31-07 11:00:0'"
          ],
          [
           4107900,
           "FLORESTA",
           -23.599,
           -52.081,
           4111100,
           "ITAMBÉ",
           64,
           -23.660999999999998,
           -51.99,
           true,
           "2010-31-07 10:30:0'",
           "2010-31-07 11:00:0'"
          ],
          [
           4111100,
           "ITAMBÉ",
           -23.660999999999998,
           -51.99,
           4107900,
           "FLORESTA",
           22,
           -23.599,
           -52.081,
           true,
           "2010-31-07 10:30:0'",
           "2010-31-07 11:00:0'"
          ]
         ],
         "index": [
          1,
          2,
          3,
          4,
          5,
          6,
          7,
          8,
          13,
          14,
          15,
          16,
          24,
          25,
          32,
          33
         ]
        },
        "Municipios_Arranjo": {
         "columns": [
          "CodMunic",
          "NomMunic",
          "CodArranjo",
          "NomeArranj",
          "Shape_Leng",
          "Shape_Area",
          "geometry"
         ],
         "data": [
          [
           4126256,
           "Sarandi",
           "4115200",
           "Maringá/PR",
           0.544904971268,
           0.00912425298747,
           "POLYGON ((-51.8510324708718144 -23.4547953783040271, -51.8511988796245760 -23.4549050398356940, -51.8534940223312333 -23.4579305885258123, -51.8534712514970124 -23.4863736402312497, -51.8525132639759363 -23.4905119137937390, -51.8467021803613193 -23.4967329551616899, -51.8496016557917301 -23.5047365427572004, -51.8529605319029656 -23.5108187027208828, -51.8590147319442849 -23.5158666090567294, -51.8637254869416324 -23.5167462224601422, -51.8678851158053931 -23.5233300467442064, -51.8753138369639828 -23.5224397089253898, -51.8794453431280544 -23.5243470333888354, -51.8808779748386542 -23.5262500474017315, -51.8811002557721395 -23.5330380609577219, -51.8869306217507642 -23.5359764122815704, -51.8874849971348908 -23.5389784338076424, -51.8896863243643338 -23.5410921643718325, -51.8930742647654597 -23.5402915069474261, -51.8935145548527998 -23.5441926679571907, -51.8964577957905817 -23.5461665359568428, -51.8997934828828988 -23.5559315545975210, -51.9024750372930725 -23.5576888037952017, -51.9051591259928387 -23.5558315068185493, -51.9113447268775872 -23.5589479922559804, -51.9123299233872331 -23.5607617197774744, -51.9183468528249819 -23.5538442730946826, -51.9152843402001167 -23.5513285905419707, -51.9201627432159967 -23.5458894404452508, -51.9202967772744159 -23.5428488586878188, -51.9281988529946261 -23.5338604711837434, -51.9226570983463489 -23.5304536459189535, -51.9094389060805952 -23.5099142950086843, -51.9224370315437227 -23.5001135013369549, -51.9190990529788792 -23.4970022220748547, -51.9177084061179812 -23.4874882662704181, -51.9115394462883728 -23.4770667587238790, -51.9056409215912140 -23.4768539359603210, -51.9038190003465729 -23.4703840000215109, -51.9058189999468595 -23.4649870002498346, -51.9047079999741641 -23.4593749995565304, -51.8970870001649018 -23.4527459996281209, -51.8932299598947111 -23.4454259696327654, -51.8876798397527637 -23.4399570303925771, -51.8779185371107587 -23.4159342931330912, -51.8677678801834645 -23.4149309995659110, -51.8637441595652717 -23.4160990201536379, -51.8481139504983730 -23.4103314664239974, -51.8451850573444517 -23.4063616547664992, -51.8398810456736783 -23.4065294367840124, -51.8405509920345935 -23.4025686129510859, -51.8424843707570631 -23.4003959156389669, -51.8430171219425802 -23.3936634154342187, -51.8392578694550821 -23.3933850069124674, -51.8335011813343840 -23.3957294819300046, -51.8273329634454853 -23.3932423978183692, -51.8192689027376332 -23.3927881457562989, -51.7971347876402888 -23.4090818134748702, -51.8004774858472388 -23.4124427733153198, -51.8018825020757845 -23.4175416838016304, -51.8036237946024016 -23.4294193106526336, -51.8029885368914051 -23.4377727318260440, -51.8064763047376573 -23.4450803763582485, -51.8266052095627288 -23.4595560483729173, -51.8331472270628524 -23.4586966850039857, -51.8409677081931477 -23.4518011512021189, -51.8456279923379384 -23.4445181175170774, -51.8459838351857911 -23.4477925122146189, -51.8510324708718144 -23.4547953783040271))"
          ],
          [
           4107900,
           "Floresta",
           "4115200",
           "Maringá/PR",
           0.693632333799,
           0.0139730939292,
           "POLYGON ((-52.1002707410018502 -23.5196632841332303, -51.9997501137767131 -23.5565708664522617, -52.0069303765355926 -23.5617551693655400, -52.0043980520284208 -23.5629276011278534, -52.0056743860640154 -23.5659819326200477, -52.0075352803289093 -23.5650337414139699, -52.0147016575554062 -23.5720370787481670, -52.0148268485801282 -23.5759593387524546, -52.0183374690988671 -23.5779572330398537, -52.0172170936938869 -23.5807336245570696, -52.0190279164051503 -23.5844345883854771, -52.0259282310030358 -23.5831983308382291, -52.0221821832611226 -23.5855171958618826, -52.0201018112495603 -23.5895864707389933, -52.0260434089760793 -23.5885311522907841, -52.0288047782178751 -23.5899516125768400, -52.0295347723118766 -23.5923751910621604, -52.0274863433200494 -23.5958881003555234, -52.0306865592372674 -23.5982464393216560, -52.0303122703949157 -23.6021804210895425, -52.0319893693139193 -23.6050997625439436, -52.0284019152161932 -23.6039206713019212, -52.0291264890961429 -23.6071032263328107, -52.0357599829368382 -23.6081954007970580, -52.0392206281294420 -23.6106642817311467, -52.0383772169349754 -23.6111031023262399, -52.0401830807845158 -23.6132243332363601, -52.0363626842903955 -23.6165434907894110, -52.0371047985475457 -23.6172496420572884, -52.0357932470606670 -23.6177962481982604, -52.0346619691745218 -23.6226800678307995, -52.0400862372899837 -23.6246069903202738, -52.0420613544479238 -23.6235317024260780, -52.0452441477991670 -23.6256711473055816, -52.0441731739527995 -23.6278986942692768, -52.0479956137065756 -23.6282202828397203, -52.0453796720341870 -23.6308679444999825, -52.0466890093902066 -23.6328546997845024, -52.0448414799503212 -23.6343071075868920, -52.0473889256583675 -23.6348951517898058, -52.0458384719678406 -23.6376600086024951, -52.0547912589094040 -23.6402400763184346, -52.0530227672868477 -23.6427089446620471, -52.0547922103921792 -23.6436896508566292, -52.0591788740057950 -23.6437364650657855, -52.0595549480024147 -23.6485427640373018, -52.0615253086460257 -23.6507976153176287, -52.0634614680722621 -23.6489219173125775, -52.0662077278043398 -23.6488126712677058, -52.0666287427222301 -23.6515797458085899, -52.0689595615344842 -23.6529969154752280, -52.0709875534328148 -23.6618952044001389, -52.0768270043627126 -23.6573637805140038, -52.0769936990998872 -23.6540092238465718, -52.0826291622060467 -23.6580502717026206, -52.0822958509726845 -23.6594622711668308, -52.0786241052182390 -23.6603672166736487, -52.0767379705808366 -23.6654595441225979, -52.0809319382582885 -23.6635791300727760, -52.0864413101183459 -23.6635217668160180, -52.0842707091258603 -23.6604361775874850, -52.0895978270780233 -23.6573952711747779, -52.0919066062048728 -23.6604220195604853, -52.0906588571205020 -23.6661451692640981, -52.0941064225733044 -23.6657642865924913, -52.0954911240161209 -23.6614038544042842, -52.0996059090853691 -23.6609037728907765, -52.1025766674791839 -23.6628463804560738, -52.1035199492861807 -23.6709169621480555, -52.1051593387324488 -23.6728766316512065, -52.1092654804175481 -23.6736127285445264, -52.1140199721439785 -23.6716678456944578, -52.1160950120751068 -23.6727942186781775, -52.1206331700847159 -23.6760254692999297, -52.1274921194656713 -23.6880694302599295, -52.1331343949363486 -23.6904571482787105, -52.1408493954832011 -23.6905860355170717, -52.1571432214824426 -23.6813469008387756, -52.1596872938334855 -23.6778651683428052, -52.1578562966307686 -23.6688816218892839, -52.1592119724545000 -23.6600045164951780, -52.1573758877869409 -23.6532168995402117, -52.1584649227179398 -23.6503487663824217, -52.1633826926570805 -23.6478265646442196, -52.1771876296053847 -23.6489181734349359, -52.1908332615457198 -23.6445739470299827, -52.1897250251897162 -23.6430518687486710, -52.1847772628603366 -23.6441755608533981, -52.1829996170386607 -23.6421582007403117, -52.1793349291635877 -23.6416494983256484, -52.1768330826805595 -23.6358100968584495, -52.1705264942023064 -23.6291433119142766, -52.1563873790742605 -23.6250506411740844, -52.1439752590509329 -23.6147441029579568, -52.1334707674619153 -23.6009178439832681, -52.1192378485478116 -23.5889846426271106, -52.1133804921159935 -23.5744037490337632, -52.1047009614801482 -23.5654366682675800, -52.0974209342286940 -23.5607148552063563, -52.1002707410018502 -23.5196632841332303))"
          ],
          [
           4110003,
           "Iguaraçu",
           "4115200",
           "Maringá/PR",
           0.700300445507,
           0.0145857340864,
           "POLYGON ((-51.9393744960361232 -23.2639476118927178, -51.9376430753675891 -23.2629600654545925, -51.9386191455570838 -23.2610134433157327, -51.9363417671588081 -23.2591143674340515, -51.9352089883041117 -23.2602565504993777, -51.9291205798508599 -23.2598343511743337, -51.9281843829028844 -23.2550845485130822, -51.9230147596234133 -23.2534115801802272, -51.9269575898208586 -23.2430906860862478, -51.9251584061354947 -23.2399991964057335, -51.9175709429446215 -23.2370558673343908, -51.9126534967614361 -23.2319761420852160, -51.9149991274077820 -23.2255974000999004, -51.9128800323875339 -23.2242588042004172, -51.9122545350187465 -23.2196186549768981, -51.9067040578459569 -23.2186567994716597, -51.9053658738359900 -23.2165008709184235, -51.9033461916733927 -23.2183214683610117, -51.9005974875839229 -23.2175212659935823, -51.8987682728374580 -23.2193407302904120, -51.8932469984501950 -23.2167109111795753, -51.8902064832425935 -23.2192532217587200, -51.8838688870394549 -23.2201356176645959, -51.8792955592426210 -23.2167057949364448, -51.8760626232913751 -23.2171269879200963, -51.8755483972407205 -23.2148601145026419, -51.8690940753312475 -23.2162087576280101, -51.8650022445578998 -23.2150955300346595, -51.8675745565205375 -23.2053280805264421, -51.8657741263747880 -23.1949841970629791, -51.8657131415482127 -23.1328532429827192, -51.8612634786265971 -23.1326648296181361, -51.8591485573600153 -23.1309375863005471, -51.8537025283489470 -23.1314529517922551, -51.8494141939098654 -23.1367636876939855, -51.8494447672621845 -23.1417018200828579, -51.8428680916890130 -23.1477879739358059, -51.8329397750505336 -23.1534045027156026, -51.8281184151327352 -23.1578146377352709, -51.8207651884626443 -23.1549225978995423, -51.8185771523137078 -23.1527163864520276, -51.8122585641813771 -23.1582433481519274, -51.8108089442773121 -23.1609632361643776, -51.8114275753222842 -23.1638824121435505, -51.8096392464540259 -23.1664640087070097, -51.7957016253296842 -23.1743939966855805, -51.7945688914411448 -23.1800350077094208, -51.7897425088096952 -23.1843724514274641, -51.7899110732374197 -23.1870137144113642, -51.7924865175386913 -23.1901995456724421, -51.7916430550828863 -23.1940305487707406, -51.7892543028437444 -23.1968940369301890, -51.7814883449111676 -23.1972098770341404, -51.7792611729647092 -23.1986143419782707, -51.7786877670267813 -23.2099559585006432, -51.7672417670938216 -23.2142531638523906, -51.7591433945519839 -23.2116481066747156, -51.7318669919680474 -23.2224813535315775, -51.7390103222685411 -23.2341051125608260, -51.7461241359200699 -23.2268484667832809, -51.7629629519786363 -23.2256448798073052, -51.7746800057776113 -23.2390694817711392, -51.7775084599474553 -23.2481893897285090, -51.7839546223079310 -23.2536962281983506, -51.7965986532052511 -23.2568396042642576, -51.8046744473678018 -23.2555384282558180, -51.8075437505436298 -23.2582399485147562, -51.8183496840906059 -23.2590762568636933, -51.8243803560685592 -23.2627337888332590, -51.8319567468063838 -23.2733906192815994, -51.8364641686864047 -23.2763398982676222, -51.8413477508979668 -23.2760388834876153, -51.8452949320154630 -23.2809567190772668, -51.8518749683550482 -23.2786886180851980, -51.8572953091311888 -23.2830252551113972, -51.8642343386437688 -23.2844113082352351, -51.8684743606032157 -23.2880113204660120, -51.8739012961078743 -23.2882970125970132, -51.8740134244799265 -23.2919456160972800, -51.8774949042663707 -23.2931660149995423, -51.8785614309652487 -23.2977932238781591, -51.8852988009988394 -23.3000601503555913, -51.8923247077190695 -23.3048767033970989, -51.8987134519641700 -23.3039181798800428, -51.8995742947178655 -23.3028304273822755, -51.8973055021471623 -23.3011240411415201, -51.8963755824671011 -23.2978390083634963, -51.9066012563428671 -23.2900686698332038, -51.9094716135240901 -23.2884336277097077, -51.9108529029390979 -23.2901893984219441, -51.9129291560556680 -23.2900121447446509, -51.9237937514803889 -23.2868890429949147, -51.9260114121968854 -23.2820608797057957, -51.9236497682221625 -23.2810467969720776, -51.9295369452737532 -23.2806994473215809, -51.9288382233053198 -23.2791062677400191, -51.9327746233501557 -23.2774640679123763, -51.9361264181995921 -23.2724584117262907, -51.9414404285329283 -23.2734433429358774, -51.9431099065968738 -23.2700734366397342, -51.9416178899535907 -23.2692109085565448, -51.9417530814395150 -23.2666467318611581, -51.9394149673268544 -23.2667812434595476, -51.9393744960361232 -23.2639476118927178))"
          ],
          [
           4111100,
           "Itambé",
           "4115200",
           "Maringá/PR",
           0.953026967666,
           0.0215921437579,
           "POLYGON ((-52.0438218825737522 -23.8109704537234279, -52.0468240713737487 -23.8052024773124344, -52.0462403025478579 -23.8021743061992197, -52.0393557674546514 -23.7919849694307572, -52.0343542382574356 -23.7755313986550618, -52.0340590303998738 -23.7696494439666139, -52.0363972065657663 -23.7643479018341850, -52.0417177028097058 -23.7601536274878526, -52.0510722339963650 -23.7564613313253403, -52.0562416081636457 -23.7514884194549722, -52.0597178835733985 -23.7438369829903309, -52.0611040590050607 -23.7309750265761750, -52.0645198909801366 -23.7282171880727333, -52.0802727333999087 -23.7220702823176453, -52.0952966258385572 -23.7200897764220144, -52.0954686751392160 -23.7170231862709784, -52.0916835374652578 -23.7095746692355647, -52.0946032953057738 -23.7063162797724658, -52.1115408866025973 -23.7055228421054380, -52.1176053119355629 -23.7018952458688545, -52.1192429917705908 -23.6971035365988882, -52.1184629647939346 -23.6926895129106470, -52.1130195096426405 -23.6845985444871872, -52.1124877683957379 -23.6805954839943524, -52.1160950120751068 -23.6727942186781775, -52.1140199721439785 -23.6716678456944578, -52.1092654804175481 -23.6736127285445264, -52.1051593387324488 -23.6728766316512065, -52.1035199492861807 -23.6709169621480555, -52.1025766674791839 -23.6628463804560738, -52.0996059090853691 -23.6609037728907765, -52.0954911240161209 -23.6614038544042842, -52.0941064225733044 -23.6657642865924913, -52.0906588571205020 -23.6661451692640981, -52.0919066062048728 -23.6604220195604853, -52.0895978270780233 -23.6573952711747779, -52.0842707091258603 -23.6604361775874850, -52.0864413101183459 -23.6635217668160180, -52.0809319382582885 -23.6635791300727760, -52.0767379705808366 -23.6654595441225979, -52.0786241052182390 -23.6603672166736487, -52.0822958509726845 -23.6594622711668308, -52.0826291622060467 -23.6580502717026206, -52.0769936990998872 -23.6540092238465718, -52.0768270043627126 -23.6573637805140038, -52.0709875534328148 -23.6618952044001389, -52.0689595615344842 -23.6529969154752280, -52.0666287427222301 -23.6515797458085899, -52.0662077278043398 -23.6488126712677058, -52.0634614680722621 -23.6489219173125775, -52.0615253086460257 -23.6507976153176287, -52.0586541897390020 -23.6537175737070129, -52.0607209541087173 -23.6566180671700295, -52.0581930560646242 -23.6599845515457901, -52.0547034491048635 -23.6577764928907754, -52.0526113211554957 -23.6619570282941822, -52.0471072481009855 -23.6602081598786071, -52.0484382141522133 -23.6585118757224677, -52.0436355988038031 -23.6535108105754261, -52.0371050215794639 -23.6580430195696749, -52.0351152220898143 -23.6546829149845053, -52.0368784706648739 -23.6532566567692584, -52.0344936205841009 -23.6510170211186050, -52.0284551883561903 -23.6531146160466506, -52.0259419240804846 -23.6516683641036707, -52.0275955884656014 -23.6499709593921921, -52.0246305182837432 -23.6458474185234877, -52.0273547779006549 -23.6431509839306955, -52.0312551250239608 -23.6430750712574991, -52.0315993261479548 -23.6388058833847481, -52.0334916103494720 -23.6365374064760658, -52.0320371152206462 -23.6362725732206513, -52.0318890670267820 -23.6346370868320719, -52.0287365835264950 -23.6374112129570904, -52.0240566932617412 -23.6377154194310037, -52.0269094111403660 -23.6345458784894618, -52.0250439312324033 -23.6331936057002849, -52.0266148525933545 -23.6310501876160401, -52.0244246131053956 -23.6297244664109485, -52.0199757325939345 -23.6320856913015405, -52.0153619964589211 -23.6269075523416063, -52.0143029719046126 -23.6290231022343278, -52.0118323570775942 -23.6296593572934626, -52.0119439251719768 -23.6333693215369181, -52.0091928549662157 -23.6327771908146360, -52.0079324245417070 -23.6297330036751418, -52.0099299087382292 -23.6272658125671455, -52.0083681928377928 -23.6271013778263068, -52.0122606592020134 -23.6259590130979404, -52.0128713240522984 -23.6213422129727064, -52.0089004889663329 -23.6225567015305273, -52.0080720631751205 -23.6197247382060596, -52.0042200797927876 -23.6192402509367980, -52.0022732481118624 -23.6215356382590471, -51.9984421020213290 -23.6219348572078616, -51.9982768318103012 -23.6199769323894770, -51.9959271470201543 -23.6211090871146325, -51.9949512917686434 -23.6242463325021959, -51.9859329901153728 -23.6200691137985359, -51.9871597175468878 -23.6171364506865871, -51.9863289535183526 -23.6157718823664595, -51.9808561417974602 -23.6188109370750681, -51.9787193715017679 -23.6160863815812263, -51.9743121565807087 -23.6168619874906653, -51.9715928882012008 -23.6152551939719615, -51.9700579909834346 -23.6166692510849998, -51.9687670213808701 -23.6126848704104191, -51.9648808565662534 -23.6122143226328376, -51.9636004638902591 -23.6163076291936704, -51.9657417137090647 -23.6188492221138517, -51.9643116045968441 -23.6229874992736200, -51.9624344478914395 -23.6240242404263086, -51.9613051880839407 -23.6230897467943350, -51.9621399154247001 -23.6210808618922101, -51.9580502439235943 -23.6207635963628491, -51.9451599912405868 -23.6352603062181288, -51.9366405983848836 -23.6396977320646329, -51.9371194855757494 -23.6456633713674478, -51.9351759364203076 -23.6515805363126788, -51.9372476047930718 -23.6566188279964535, -51.9399135523685231 -23.6730356992380848, -51.9399333725270935 -23.6795863628203165, -51.9366012053812938 -23.6807423666668342, -51.9373570540847140 -23.6833083258185297, -51.9410143171569416 -23.6831214098251621, -51.9448759106946909 -23.6783352232918674, -51.9445192719467741 -23.6842076316768271, -51.9455766516411472 -23.6849346355249395, -51.9488239398729092 -23.6816816887588857, -51.9526264731331935 -23.6817319734517469, -51.9522117957377532 -23.6780803455314981, -51.9553470590195161 -23.6757661794655405, -51.9575708693001275 -23.6789714477740745, -51.9546314387898178 -23.6815517744947783, -51.9532905361293160 -23.6863065531048846, -51.9570992243496903 -23.6853396847785689, -51.9585469817577632 -23.6873244408702135, -51.9585488919178147 -23.6930653530835116, -51.9618173259088394 -23.6914748399918267, -51.9636035899337116 -23.6945289763311280, -51.9589097898548857 -23.6977279781636412, -51.9534883429126353 -23.6987123769745835, -51.9488277107301997 -23.7039033240790786, -51.9450690958620385 -23.7058913528036328, -51.9365441002299804 -23.7074512268925446, -51.9322963719799304 -23.7143799204968673, -51.9255470562516166 -23.7126994230399077, -51.9192352948729194 -23.7259725512921591, -51.9211556550094429 -23.7279567749851594, -51.9207446153716887 -23.7328436756950509, -51.9248558975815513 -23.7358500355506408, -51.9256259025133318 -23.7398755665041676, -51.9302087136611590 -23.7447210948026282, -51.9306079146235220 -23.7480756029066811, -51.9359638252702780 -23.7531325852006034, -51.9398541485500687 -23.7613845799343721, -51.9429109936473878 -23.7635199931531247, -51.9444054528493098 -23.7689359245532046, -51.9504367597486407 -23.7759950810081477, -51.9554105727397086 -23.7760492507722461, -51.9564629252237751 -23.7739449963644347, -51.9616051308720444 -23.7757800279259186, -51.9647174209721356 -23.7788715319955486, -51.9665969276060764 -23.7835080938234000, -51.9746569233782907 -23.7876861129237227, -51.9739673717967321 -23.7929829183269703, -51.9772732562557280 -23.7973673309375044, -51.9837984762186807 -23.7962099214506679, -51.9861847670133557 -23.7922853492893864, -51.9924610483386687 -23.7894248711608043, -51.9962670835590188 -23.7906024479445932, -52.0108236702761246 -23.7904747586031817, -52.0239662799198186 -23.7961128081595348, -52.0263258887287634 -23.7990689849456771, -52.0298764328510401 -23.8116224747973320, -52.0335241586129769 -23.8175724407155371, -52.0383275401837864 -23.8173817808444710, -52.0438218825737522 -23.8109704537234279))"
          ],
          [
           4114104,
           "Mandaguaçu",
           "4115200",
           "Maringá/PR",
           0.953086368683,
           0.0259263762249,
           "POLYGON ((-51.9625388286040106 -23.1616193131807222, -51.9645642556358212 -23.1659579556950348, -51.9643271134055453 -23.1701428096429254, -51.9581454731350618 -23.1743256473107522, -51.9591589092561890 -23.1792478311224386, -51.9632879998412704 -23.1829106349178460, -51.9663706662731784 -23.1824684949250468, -51.9632371944409215 -23.1864588686818252, -51.9657508283380025 -23.1921901626458293, -51.9727540100894316 -23.1927128126461639, -51.9733950576357415 -23.1914673964031977, -51.9768633425691746 -23.1963750462713278, -51.9734543787165535 -23.1995199790637230, -51.9757382394281535 -23.2025170120504072, -51.9732791125409790 -23.2046632647977731, -51.9682292411864637 -23.2035593047181123, -51.9656038494380823 -23.2064821966959585, -51.9682439819741262 -23.2082050018593122, -51.9682790051718939 -23.2159007272367148, -51.9609367709152252 -23.2187110915435824, -51.9685516895088426 -23.2270012804846715, -51.9659668931575425 -23.2302432744075418, -51.9611219871899266 -23.2314116277443645, -51.9577232846018546 -23.2306490889842507, -51.9585487696099904 -23.2335534135591502, -51.9571400958387244 -23.2375686535704631, -51.9613275488272848 -23.2380760924376659, -51.9635888599378859 -23.2409701260704082, -51.9683920445571630 -23.2394166848321220, -51.9697409089157532 -23.2403655550263011, -51.9686305942265108 -23.2432809304705188, -51.9632405435162354 -23.2452446523188314, -51.9682329544872346 -23.2478535864738092, -51.9628367551121073 -23.2504020619055609, -51.9629152227593067 -23.2546279591129519, -51.9643247257054668 -23.2522345852578383, -51.9657180750290877 -23.2538646010704610, -51.9656117571768164 -23.2553316903052405, -51.9694420417168317 -23.2551321280452044, -51.9712785094955620 -23.2576469202691101, -51.9687453737999476 -23.2610529496338927, -51.9695969337514612 -23.2621966714391988, -51.9666858921401627 -23.2647331202372811, -51.9679941386185646 -23.2647662953282293, -51.9678766233074612 -23.2660698770231420, -51.9658138249480430 -23.2704115610446820, -51.9675661746392166 -23.2744190471012757, -51.9729775347853433 -23.2749330519187652, -51.9732100239234001 -23.2780426674351020, -51.9777569485243021 -23.2817593801912039, -51.9775209358424490 -23.2966639442855694, -51.9824593614103492 -23.2947599311258955, -51.9865427106774973 -23.2967862835600954, -51.9903581689942484 -23.3020096017616538, -51.9923450798614795 -23.3083078697123938, -51.9975558786008492 -23.3110153893487109, -52.0016973033878003 -23.3116891767140828, -52.0052552732122422 -23.3103824204123384, -52.0082026411389506 -23.3125165484998433, -52.0089367433359939 -23.3108227185935561, -52.0103848892512133 -23.3144279154159335, -52.0135848119894604 -23.3162248858697581, -52.0175253597075198 -23.3147024694433753, -52.0223439407202477 -23.3162128475448185, -52.0295181699275417 -23.3250130384209342, -52.0341402086037306 -23.3249618553053324, -52.0350803454815036 -23.3236694144118815, -52.0371567119127008 -23.3253706133630772, -52.0411050405651281 -23.3248513744912884, -52.0462765056561807 -23.3311581761088860, -52.0466243076656383 -23.3354588060789752, -52.0499108504053538 -23.3393582826585657, -52.0576306290502657 -23.3380226671123410, -52.0651281105738235 -23.3391263241205138, -52.0675997848022121 -23.3432861742174964, -52.0767135809669526 -23.3473314461892301, -52.0791876536871996 -23.3581531358585153, -52.0821944218350836 -23.3618842845320387, -52.0724502638685181 -23.3682122840696138, -52.0737283794611017 -23.3754776110029070, -52.0813809508701411 -23.3891276226416380, -52.0902844720507119 -23.3924064761778823, -52.0949863291557449 -23.4003380424666148, -52.1087671624745212 -23.4050733696402631, -52.1187193246370839 -23.4024684815351520, -52.1376428114665487 -23.4172730374206708, -52.1419922755230800 -23.4177643775239517, -52.1486363894577494 -23.4142490292692287, -52.1495255230843782 -23.4089955253231778, -52.1440608862009185 -23.3927866411904688, -52.1450221562474781 -23.3873390428624930, -52.1510763751745117 -23.3782762454522981, -52.1509882488085736 -23.3725011688937911, -52.1483685731510604 -23.3684950785849423, -52.1639439874250570 -23.3642809714896202, -52.1691998143199385 -23.3564147760210403, -52.1783951160417132 -23.3493542409054271, -52.1709670873611344 -23.3417939327437693, -52.1673650678435479 -23.3351843347891759, -52.1606401318366011 -23.3305608311173955, -52.1591899516549233 -23.3268710287749172, -52.1524364468844510 -23.3208974493577443, -52.1442978863383360 -23.3041579130572245, -52.1405731849044969 -23.3021000609689963, -52.1254675306020090 -23.2995003799385358, -52.1130167055564471 -23.3036222768465677, -52.1142082416170069 -23.2950419432310696, -52.1170396365699276 -23.2919005537675048, -52.1147531705223628 -23.2866180943495351, -52.1045346462568659 -23.2840742288425417, -52.0935088995160527 -23.2717248383305559, -52.0903241960048149 -23.2623441737445660, -52.0841083832951881 -23.2599975340589253, -52.0822557007399496 -23.2556668010819863, -52.0826985386066212 -23.2505345815056899, -52.0860501311086068 -23.2432453730754673, -52.0802640342577092 -23.2336072002120773, -52.0805868953688673 -23.2298906007705455, -52.0709794505411878 -23.2299021138913986, -52.0671513909239252 -23.2177277539326496, -52.0628803540450349 -23.2130764702029069, -52.0611059107091592 -23.2053039804942500, -52.0587376800997959 -23.2038883927351094, -52.0708293500944137 -23.1896702910510726, -52.0676900830308682 -23.1881515267714917, -52.0649630193278199 -23.1840590269025029, -52.0582434028107741 -23.1785868842772516, -52.0483514952252904 -23.1676857925652371, -52.0484023671754699 -23.1661980342118454, -52.0454746548314233 -23.1652970601111861, -52.0436555106932133 -23.1629168999949115, -52.0385990023420391 -23.1606607419996067, -52.0357918036488059 -23.1609507194001480, -52.0273987142791725 -23.1566028120700480, -52.0234633457567384 -23.1577738238028701, -52.0193485130234308 -23.1560686291638831, -52.0097736299489952 -23.1596486467676073, -52.0080477392117473 -23.1574813984477146, -51.9991541105737269 -23.1553451758391589, -51.9940765769724180 -23.1585019634947571, -51.9872933469104055 -23.1595166451770069, -51.9774906763535682 -23.1547781164168782, -51.9733765342995753 -23.1556016822717652, -51.9732640336082454 -23.1585345009664252, -51.9659303779845345 -23.1571836634952319, -51.9625388286040106 -23.1616193131807222))"
          ],
          [
           4114807,
           "Marialva",
           "4115200",
           "Maringá/PR",
           1.99828251932,
           0.0420752115599,
           "POLYGON ((-51.9997501137767131 -23.5565708664522617, -51.9975755746530126 -23.5562432515247906, -51.9959923928346370 -23.5580017768604648, -51.9934556886290693 -23.5557849345270824, -51.9968550126486662 -23.5531165974529699, -51.9972325453456392 -23.5473370629550232, -51.9925334185823544 -23.5490491131260455, -51.9909786697297704 -23.5482303019867913, -51.9893685667059344 -23.5463511802627181, -51.9906773293951687 -23.5446640853791678, -51.9900111062275414 -23.5422285531051898, -51.9857956330619686 -23.5424168459606449, -51.9854465702030097 -23.5390350290433048, -51.9809419011477871 -23.5369378388101609, -51.9816444425369468 -23.5344794097968588, -51.9789040364920538 -23.5313436473913953, -51.9813808692317139 -23.5291609460207951, -51.9810668493555568 -23.5236188981935470, -51.9835538219512614 -23.5193441938794194, -51.9811521689373990 -23.5183473700350305, -51.9806518688885717 -23.5148742314605670, -51.9768705200584122 -23.5161871049509159, -51.9772769075032102 -23.5206725806750114, -51.9745999081591776 -23.5195601678673825, -51.9698671287649177 -23.5205121074477574, -51.9667862708696475 -23.5147760326877346, -51.9683688663300813 -23.5136188696150725, -51.9675633957340892 -23.5123782098864353, -51.9691957425894202 -23.5071449298945367, -51.9664575057092861 -23.5042391619077762, -51.9607034723873085 -23.5055394394934751, -51.9590881362084929 -23.5027872307460370, -51.9590884635617272 -23.4976184294469022, -51.9558421016316174 -23.4946733511941375, -51.9560545205995936 -23.4930894849916854, -51.9525122043746705 -23.4912505791508579, -51.9519301631464714 -23.4870362373324610, -51.9486150615358042 -23.4851424764440821, -51.9414188555956571 -23.4886315896760607, -51.9418552947859666 -23.4837276000486668, -51.9405703767214391 -23.4817395182641349, -51.9383230167937313 -23.4801376269498974, -51.9337867950245027 -23.4805496234662883, -51.9301063240475855 -23.4758104094228202, -51.9174225377199150 -23.4787625113807508, -51.9115394462883728 -23.4770667587238790, -51.9177084061179812 -23.4874882662704181, -51.9190990529788792 -23.4970022220748547, -51.9224370315437227 -23.5001135013369549, -51.9094389060805952 -23.5099142950086843, -51.9226570983463489 -23.5304536459189535, -51.9281988529946261 -23.5338604711837434, -51.9202967772744159 -23.5428488586878188, -51.9201627432159967 -23.5458894404452508, -51.9152843402001167 -23.5513285905419707, -51.9183468528249819 -23.5538442730946826, -51.9123299233872331 -23.5607617197774744, -51.9113447268775872 -23.5589479922559804, -51.9051591259928387 -23.5558315068185493, -51.9024750372930725 -23.5576888037952017, -51.8997934828828988 -23.5559315545975210, -51.8964577957905817 -23.5461665359568428, -51.8935145548527998 -23.5441926679571907, -51.8930742647654597 -23.5402915069474261, -51.8896863243643338 -23.5410921643718325, -51.8874849971348908 -23.5389784338076424, -51.8869306217507642 -23.5359764122815704, -51.8811002557721395 -23.5330380609577219, -51.8808779748386542 -23.5262500474017315, -51.8794453431280544 -23.5243470333888354, -51.8753138369639828 -23.5224397089253898, -51.8678851158053931 -23.5233300467442064, -51.8637254869416324 -23.5167462224601422, -51.8590147319442849 -23.5158666090567294, -51.8529605319029656 -23.5108187027208828, -51.8496016557917301 -23.5047365427572004, -51.8467021803613193 -23.4967329551616899, -51.8525132639759363 -23.4905119137937390, -51.8534712514970124 -23.4863736402312497, -51.8534940223312333 -23.4579305885258123, -51.8511988796245760 -23.4549050398356940, -51.8510324708718144 -23.4547953783040271, -51.8459838351857911 -23.4477925122146189, -51.8456279923379384 -23.4445181175170774, -51.8409677081931477 -23.4518011512021189, -51.8331472270628524 -23.4586966850039857, -51.8266052095627288 -23.4595560483729173, -51.8064763047376573 -23.4450803763582485, -51.8029885368914051 -23.4377727318260440, -51.8036237946024016 -23.4294193106526336, -51.8018825020757845 -23.4175416838016304, -51.8004774858472388 -23.4124427733153198, -51.7971347876402888 -23.4090818134748702, -51.8192689027376332 -23.3927881457562989, -51.8273329634454853 -23.3932423978183692, -51.8335011813343840 -23.3957294819300046, -51.8392578694550821 -23.3933850069124674, -51.8430171219425802 -23.3936634154342187, -51.8461505667951883 -23.3901110357955986, -51.8457502632639944 -23.3881254406365429, -51.8410978454891165 -23.3855000246064151, -51.8447869760380513 -23.3815131015483644, -51.8425783903803676 -23.3797995090400832, -51.8421388728106649 -23.3754073056026073, -51.8395738678397038 -23.3723954841642012, -51.8432408453886637 -23.3664308880750013, -51.8393115823636208 -23.3590655673220340, -51.8434851866919644 -23.3545284615192372, -51.8473313802389839 -23.3535949346584744, -51.8491860934634019 -23.3563062647223205, -51.8510394478122407 -23.3534608385468232, -51.8449966304900727 -23.3467588622316384, -51.8467807343433833 -23.3446859743781943, -51.8459244583470422 -23.3416887219569276, -51.8469834766061126 -23.3419397335318308, -51.8506704253997555 -23.3367197149428307, -51.8493607004359092 -23.3321215298846596, -51.8473746259381869 -23.3319354259790543, -51.8478491496185256 -23.3304645398065986, -51.8459532897124973 -23.3294159608778386, -51.8463997995111185 -23.3279239370399978, -51.8427922644514183 -23.3296269984871287, -51.8345381967803291 -23.3280376050514064, -51.8328751308825417 -23.3210265650238853, -51.8282310489237261 -23.3152729579805964, -51.8281589997379797 -23.3234350609792500, -51.8269033555054079 -23.3261450105837298, -51.8249672329513942 -23.3269818513313112, -51.8115870664898921 -23.3224970797763831, -51.8025038059058716 -23.3238077040622329, -51.8040162587433315 -23.3269776757790623, -51.8028207701623842 -23.3310509976054163, -51.7960292249687200 -23.3325891503689604, -51.7932057197681388 -23.3350890102495896, -51.7909236810829725 -23.3409699208251595, -51.7851460405572652 -23.3370627568407372, -51.7810895819186499 -23.3377038943192474, -51.7763522249751418 -23.3354798331277493, -51.7743700058710488 -23.3387601687467736, -51.7774198020821359 -23.3406688691729300, -51.7802673524562920 -23.3505074145854792, -51.7784224508354214 -23.3502899378303255, -51.7775603966949234 -23.3520158762316328, -51.7737598887078434 -23.3507697432290229, -51.7729011449717973 -23.3522935446113706, -51.7746338022081432 -23.3546086459721778, -51.7727951850496879 -23.3551248981954700, -51.7736456361371324 -23.3558571621782676, -51.7692384427998604 -23.3560850503847064, -51.7678994970640929 -23.3574250941927062, -51.7691432711450261 -23.3583831887331144, -51.7680656594026232 -23.3631003855742847, -51.7712469221077072 -23.3655968073467193, -51.7709065574915712 -23.3699815760888328, -51.7638768889072480 -23.3727999038924281, -51.7666314754621908 -23.3750809578198755, -51.7725886296614703 -23.3754501205265797, -51.7750106613129333 -23.3784428673444040, -51.7705466497080806 -23.3808521070390611, -51.7681535231665180 -23.3854214823155075, -51.7714881787364334 -23.3877260840914687, -51.7720518881840235 -23.3903458550771006, -51.7705113944852542 -23.3909060014107695, -51.7683777655213930 -23.3972000659302353, -51.7752775971833330 -23.4005264873075021, -51.7689441207745062 -23.4046787588176244, -51.7690626676079546 -23.4077623695376928, -51.7722637576662237 -23.4139844891927851, -51.7688176805914395 -23.4172925113402925, -51.7658440416691406 -23.4161761064420944, -51.7638308768933939 -23.4173584253509830, -51.7657498943420933 -23.4213133847048880, -51.7687875092361196 -23.4206068314400682, -51.7727101811299235 -23.4222673648469595, -51.7661739543644330 -23.4255447758706623, -51.7723703327246199 -23.4324441290932555, -51.7626813418704046 -23.4321116524307627, -51.7623504102431866 -23.4337475857823847, -51.7687071035499571 -23.4432890869217658, -51.7652926376450750 -23.4444315155020035, -51.7639573557473227 -23.4482839539412566, -51.7650991215272143 -23.4517422797823656, -51.7681683799667098 -23.4538537197732921, -51.7663798748313297 -23.4571816816892351, -51.7674073880405103 -23.4606888991733058, -51.7620018447093457 -23.4639532880137835, -51.7594568649423081 -23.4684082956063094, -51.7609492566028848 -23.4752206942795851, -51.7594118134044265 -23.4810988691174884, -51.7629071328578334 -23.4863065678937346, -51.7568681457482853 -23.4899027364220956, -51.7538682187432642 -23.4937157278984614, -51.7477933783616777 -23.4953535804033891, -51.7262368168755415 -23.4920518337250996, -51.7148895382215983 -23.4925321040732911, -51.7117301596191510 -23.4972822017122098, -51.7098581452371491 -23.5035618051331312, -51.7687852528371195 -23.5511346499441174, -51.7723032217162427 -23.5576718722590499, -51.7775698773479007 -23.5626538268126069, -51.7780385734213837 -23.5733383500847253, -51.7824070734276347 -23.5778849985937882, -51.7871249861291858 -23.5801921058809398, -51.7877304888709205 -23.5823530805301971, -51.7919191982123834 -23.5857941339920671, -51.7955020801568367 -23.5869793738989415, -51.8028887652043295 -23.6034455693575183, -51.8101786184484467 -23.6071475089503338, -51.8144544577070292 -23.6054731862384983, -51.8159383300898071 -23.6066997481947851, -51.8196519536746791 -23.6058332019406976, -51.8235442689527872 -23.6072568251423149, -51.8304023954541435 -23.6186543965831106, -51.8299526795724432 -23.6253083374098196, -51.8352350508568520 -23.6277086504338172, -51.8367152719921478 -23.6298988260699048, -51.8358313526347843 -23.6319766278190855, -51.8385334655469592 -23.6363993884210117, -51.8437069145424516 -23.6389621792611138, -51.8472974551134484 -23.6378153458015277, -51.8474700925706884 -23.6352908103226014, -51.8518829678246789 -23.6339558171072213, -51.8522223072136512 -23.6383871635367200, -51.8548283239679222 -23.6414699729608628, -51.8568968896796605 -23.6387405809130087, -51.8584471868880996 -23.6387015161619729, -51.8589653834456499 -23.6417328753718721, -51.8622680123588680 -23.6408073398868055, -51.8625804404349537 -23.6426933153441610, -51.8647274531094240 -23.6424295693690851, -51.8662939857787819 -23.6470122618063670, -51.8691307748653117 -23.6431407919139929, -51.8671394483268386 -23.6405729441859762, -51.8685077263504581 -23.6381568444627419, -51.8720867358141504 -23.6395867620194053, -51.8768057268027860 -23.6457576212172285, -51.8818093064542722 -23.6470660313722192, -51.8886276001835540 -23.6451265633401704, -51.8890349732853338 -23.6480832509412267, -51.8847470417425143 -23.6512738054417468, -51.8850988070642529 -23.6554887102357156, -51.8887514710035589 -23.6541414196907454, -51.8897825050585197 -23.6551942164398952, -51.8887208427926225 -23.6569035236786362, -51.8849658683801067 -23.6577196530395213, -51.8863168686285690 -23.6602117922403750, -51.8919359685700670 -23.6596727790754358, -51.8911694700949511 -23.6626595274152010, -51.8933391879531314 -23.6600781134141585, -51.8929889937469966 -23.6566050827582899, -51.8994292331725546 -23.6535607877001439, -51.9026193191262450 -23.6545903837391620, -51.9010612427820774 -23.6565800645183231, -51.9051071523731480 -23.6567529933558944, -51.9055289982646286 -23.6634398673559758, -51.9083977258742948 -23.6610860717647711, -51.9107981063474995 -23.6613007336418946, -51.9109784725783925 -23.6638924295918969, -51.9133187765402795 -23.6662271172875762, -51.9127218272504933 -23.6718371313784814, -51.9190956841184743 -23.6669987814685214, -51.9234917366542845 -23.6685486541969681, -51.9221558342243270 -23.6651147872175898, -51.9230841054470602 -23.6622076288789458, -51.9250409258979744 -23.6652472834353489, -51.9297733941268120 -23.6664152095942200, -51.9297166442077014 -23.6711372573784615, -51.9318907777371805 -23.6761462986127640, -51.9379594334810122 -23.6772912102211421, -51.9399135523685231 -23.6730356992380848, -51.9372476047930718 -23.6566188279964535, -51.9351759364203076 -23.6515805363126788, -51.9371194855757494 -23.6456633713674478, -51.9366405983848836 -23.6396977320646329, -51.9451599912405868 -23.6352603062181288, -51.9580502439235943 -23.6207635963628491, -51.9621399154247001 -23.6210808618922101, -51.9613051880839407 -23.6230897467943350, -51.9624344478914395 -23.6240242404263086, -51.9643116045968441 -23.6229874992736200, -51.9657417137090647 -23.6188492221138517, -51.9636004638902591 -23.6163076291936704, -51.9648808565662534 -23.6122143226328376, -51.9687670213808701 -23.6126848704104191, -51.9700579909834346 -23.6166692510849998, -51.9715928882012008 -23.6152551939719615, -51.9743121565807087 -23.6168619874906653, -51.9787193715017679 -23.6160863815812263, -51.9808561417974602 -23.6188109370750681, -51.9863289535183526 -23.6157718823664595, -51.9871597175468878 -23.6171364506865871, -51.9859329901153728 -23.6200691137985359, -51.9949512917686434 -23.6242463325021959, -51.9959271470201543 -23.6211090871146325, -51.9982768318103012 -23.6199769323894770, -51.9984421020213290 -23.6219348572078616, -52.0022732481118624 -23.6215356382590471, -52.0042200797927876 -23.6192402509367980, -52.0080720631751205 -23.6197247382060596, -52.0089004889663329 -23.6225567015305273, -52.0128713240522984 -23.6213422129727064, -52.0122606592020134 -23.6259590130979404, -52.0083681928377928 -23.6271013778263068, -52.0099299087382292 -23.6272658125671455, -52.0079324245417070 -23.6297330036751418, -52.0091928549662157 -23.6327771908146360, -52.0119439251719768 -23.6333693215369181, -52.0118323570775942 -23.6296593572934626, -52.0143029719046126 -23.6290231022343278, -52.0153619964589211 -23.6269075523416063, -52.0199757325939345 -23.6320856913015405, -52.0244246131053956 -23.6297244664109485, -52.0266148525933545 -23.6310501876160401, -52.0250439312324033 -23.6331936057002849, -52.0269094111403660 -23.6345458784894618, -52.0240566932617412 -23.6377154194310037, -52.0287365835264950 -23.6374112129570904, -52.0318890670267820 -23.6346370868320719, -52.0320371152206462 -23.6362725732206513, -52.0334916103494720 -23.6365374064760658, -52.0315993261479548 -23.6388058833847481, -52.0312551250239608 -23.6430750712574991, -52.0273547779006549 -23.6431509839306955, -52.0246305182837432 -23.6458474185234877, -52.0275955884656014 -23.6499709593921921, -52.0259419240804846 -23.6516683641036707, -52.0284551883561903 -23.6531146160466506, -52.0344936205841009 -23.6510170211186050, -52.0368784706648739 -23.6532566567692584, -52.0351152220898143 -23.6546829149845053, -52.0371050215794639 -23.6580430195696749, -52.0436355988038031 -23.6535108105754261, -52.0484382141522133 -23.6585118757224677, -52.0471072481009855 -23.6602081598786071, -52.0526113211554957 -23.6619570282941822, -52.0547034491048635 -23.6577764928907754, -52.0581930560646242 -23.6599845515457901, -52.0607209541087173 -23.6566180671700295, -52.0586541897390020 -23.6537175737070129, -52.0615253086460257 -23.6507976153176287, -52.0595549480024147 -23.6485427640373018, -52.0591788740057950 -23.6437364650657855, -52.0547922103921792 -23.6436896508566292, -52.0530227672868477 -23.6427089446620471, -52.0547912589094040 -23.6402400763184346, -52.0458384719678406 -23.6376600086024951, -52.0473889256583675 -23.6348951517898058, -52.0448414799503212 -23.6343071075868920, -52.0466890093902066 -23.6328546997845024, -52.0453796720341870 -23.6308679444999825, -52.0479956137065756 -23.6282202828397203, -52.0441731739527995 -23.6278986942692768, -52.0452441477991670 -23.6256711473055816, -52.0420613544479238 -23.6235317024260780, -52.0400862372899837 -23.6246069903202738, -52.0346619691745218 -23.6226800678307995, -52.0357932470606670 -23.6177962481982604, -52.0371047985475457 -23.6172496420572884, -52.0363626842903955 -23.6165434907894110, -52.0401830807845158 -23.6132243332363601, -52.0383772169349754 -23.6111031023262399, -52.0392206281294420 -23.6106642817311467, -52.0357599829368382 -23.6081954007970580, -52.0291264890961429 -23.6071032263328107, -52.0284019152161932 -23.6039206713019212, -52.0319893693139193 -23.6050997625439436, -52.0303122703949157 -23.6021804210895425, -52.0306865592372674 -23.5982464393216560, -52.0274863433200494 -23.5958881003555234, -52.0295347723118766 -23.5923751910621604, -52.0288047782178751 -23.5899516125768400, -52.0260434089760793 -23.5885311522907841, -52.0201018112495603 -23.5895864707389933, -52.0221821832611226 -23.5855171958618826, -52.0259282310030358 -23.5831983308382291, -52.0190279164051503 -23.5844345883854771, -52.0172170936938869 -23.5807336245570696, -52.0183374690988671 -23.5779572330398537, -52.0148268485801282 -23.5759593387524546, -52.0147016575554062 -23.5720370787481670, -52.0075352803289093 -23.5650337414139699, -52.0056743860640154 -23.5659819326200477, -52.0043980520284208 -23.5629276011278534, -52.0069303765355926 -23.5617551693655400, -51.9997501137767131 -23.5565708664522617))"
          ],
          [
           4115200,
           "Maringá",
           "4115200",
           "Maringá/PR",
           1.26712273965,
           0.0430218331114,
           "POLYGON ((-52.0949863291557449 -23.4003380424666148, -52.0902844720507119 -23.3924064761778823, -52.0813809508701411 -23.3891276226416380, -52.0737283794611017 -23.3754776110029070, -52.0724502638685181 -23.3682122840696138, -52.0821944218350836 -23.3618842845320387, -52.0791876536871996 -23.3581531358585153, -52.0767135809669526 -23.3473314461892301, -52.0675997848022121 -23.3432861742174964, -52.0651281105738235 -23.3391263241205138, -52.0576306290502657 -23.3380226671123410, -52.0499108504053538 -23.3393582826585657, -52.0466243076656383 -23.3354588060789752, -52.0462765056561807 -23.3311581761088860, -52.0411050405651281 -23.3248513744912884, -52.0371567119127008 -23.3253706133630772, -52.0350803454815036 -23.3236694144118815, -52.0341402086037306 -23.3249618553053324, -52.0295181699275417 -23.3250130384209342, -52.0223439407202477 -23.3162128475448185, -52.0175253597075198 -23.3147024694433753, -52.0135848119894604 -23.3162248858697581, -52.0103848892512133 -23.3144279154159335, -52.0089367433359939 -23.3108227185935561, -52.0082026411389506 -23.3125165484998433, -52.0052552732122422 -23.3103824204123384, -52.0016973033878003 -23.3116891767140828, -51.9975558786008492 -23.3110153893487109, -51.9923450798614795 -23.3083078697123938, -51.9903581689942484 -23.3020096017616538, -51.9865427106774973 -23.2967862835600954, -51.9824593614103492 -23.2947599311258955, -51.9775209358424490 -23.2966639442855694, -51.9777569485243021 -23.2817593801912039, -51.9732100239234001 -23.2780426674351020, -51.9729775347853433 -23.2749330519187652, -51.9675661746392166 -23.2744190471012757, -51.9658138249480430 -23.2704115610446820, -51.9678766233074612 -23.2660698770231420, -51.9679941386185646 -23.2647662953282293, -51.9666858921401627 -23.2647331202372811, -51.9695969337514612 -23.2621966714391988, -51.9687453737999476 -23.2610529496338927, -51.9712785094955620 -23.2576469202691101, -51.9694420417168317 -23.2551321280452044, -51.9656117571768164 -23.2553316903052405, -51.9657180750290877 -23.2538646010704610, -51.9607952976647880 -23.2577810766353537, -51.9531185416873313 -23.2584592571889175, -51.9502604836343949 -23.2600727677439636, -51.9498412664612488 -23.2635809376101292, -51.9464079867391320 -23.2638781599490585, -51.9452275680977209 -23.2621388513268812, -51.9442041306160718 -23.2640569208901411, -51.9393744960361232 -23.2639476118927178, -51.9394149673268544 -23.2667812434595476, -51.9417530814395150 -23.2666467318611581, -51.9416178899535907 -23.2692109085565448, -51.9431099065968738 -23.2700734366397342, -51.9414404285329283 -23.2734433429358774, -51.9361264181995921 -23.2724584117262907, -51.9327746233501557 -23.2774640679123763, -51.9288382233053198 -23.2791062677400191, -51.9295369452737532 -23.2806994473215809, -51.9236497682221625 -23.2810467969720776, -51.9260114121968854 -23.2820608797057957, -51.9237937514803889 -23.2868890429949147, -51.9129291560556680 -23.2900121447446509, -51.9108529029390979 -23.2901893984219441, -51.9094716135240901 -23.2884336277097077, -51.9066012563428671 -23.2900686698332038, -51.8963755824671011 -23.2978390083634963, -51.8973055021471623 -23.3011240411415201, -51.8995742947178655 -23.3028304273822755, -51.8987134519641700 -23.3039181798800428, -51.8923247077190695 -23.3048767033970989, -51.8852988009988394 -23.3000601503555913, -51.8785614309652487 -23.2977932238781591, -51.8774949042663707 -23.2931660149995423, -51.8740134244799265 -23.2919456160972800, -51.8739012961078743 -23.2882970125970132, -51.8684743606032157 -23.2880113204660120, -51.8711143807240660 -23.3020452122167399, -51.8699882424633643 -23.3046129331403336, -51.8667965817967911 -23.3047004317794517, -51.8630874170506218 -23.3019306763595750, -51.8555656151609696 -23.3067124436243489, -51.8531341325341373 -23.3115753027579444, -51.8524343862379169 -23.3170917873560484, -51.8470723332215471 -23.3161681035750803, -51.8481582502030278 -23.3113356406272487, -51.8462611267495390 -23.3102599867089566, -51.8422386714774461 -23.3114095487116515, -51.8366119021175678 -23.3170719582042807, -51.8361954251786869 -23.3217772732025423, -51.8395261264295755 -23.3252725674749399, -51.8430800331170190 -23.3242818167523751, -51.8463997995111185 -23.3279239370399978, -51.8459532897124973 -23.3294159608778386, -51.8478491496185256 -23.3304645398065986, -51.8473746259381869 -23.3319354259790543, -51.8493607004359092 -23.3321215298846596, -51.8506704253997555 -23.3367197149428307, -51.8469834766061126 -23.3419397335318308, -51.8459244583470422 -23.3416887219569276, -51.8467807343433833 -23.3446859743781943, -51.8449966304900727 -23.3467588622316384, -51.8510394478122407 -23.3534608385468232, -51.8491860934634019 -23.3563062647223205, -51.8473313802389839 -23.3535949346584744, -51.8434851866919644 -23.3545284615192372, -51.8393115823636208 -23.3590655673220340, -51.8432408453886637 -23.3664308880750013, -51.8395738678397038 -23.3723954841642012, -51.8421388728106649 -23.3754073056026073, -51.8425783903803676 -23.3797995090400832, -51.8447869760380513 -23.3815131015483644, -51.8410978454891165 -23.3855000246064151, -51.8457502632639944 -23.3881254406365429, -51.8461505667951883 -23.3901110357955986, -51.8430171219425802 -23.3936634154342187, -51.8424843707570631 -23.4003959156389669, -51.8405509920345935 -23.4025686129510859, -51.8398810456736783 -23.4065294367840124, -51.8451850573444517 -23.4063616547664992, -51.8481139504983730 -23.4103314664239974, -51.8637441595652717 -23.4160990201536379, -51.8677678801834645 -23.4149309995659110, -51.8779185371107587 -23.4159342931330912, -51.8876798397527637 -23.4399570303925771, -51.8932299598947111 -23.4454259696327654, -51.8970870001649018 -23.4527459996281209, -51.9047079999741641 -23.4593749995565304, -51.9058189999468595 -23.4649870002498346, -51.9038190003465729 -23.4703840000215109, -51.9056409215912140 -23.4768539359603210, -51.9115394462883728 -23.4770667587238790, -51.9174225377199150 -23.4787625113807508, -51.9301063240475855 -23.4758104094228202, -51.9337867950245027 -23.4805496234662883, -51.9383230167937313 -23.4801376269498974, -51.9405703767214391 -23.4817395182641349, -51.9418552947859666 -23.4837276000486668, -51.9414188555956571 -23.4886315896760607, -51.9486150615358042 -23.4851424764440821, -51.9519301631464714 -23.4870362373324610, -51.9525122043746705 -23.4912505791508579, -51.9560545205995936 -23.4930894849916854, -51.9558421016316174 -23.4946733511941375, -51.9590884635617272 -23.4976184294469022, -51.9590881362084929 -23.5027872307460370, -51.9607034723873085 -23.5055394394934751, -51.9664575057092861 -23.5042391619077762, -51.9691957425894202 -23.5071449298945367, -51.9675633957340892 -23.5123782098864353, -51.9683688663300813 -23.5136188696150725, -51.9667862708696475 -23.5147760326877346, -51.9698671287649177 -23.5205121074477574, -51.9745999081591776 -23.5195601678673825, -51.9772769075032102 -23.5206725806750114, -51.9768705200584122 -23.5161871049509159, -51.9806518688885717 -23.5148742314605670, -51.9811521689373990 -23.5183473700350305, -51.9835538219512614 -23.5193441938794194, -51.9810668493555568 -23.5236188981935470, -51.9813808692317139 -23.5291609460207951, -51.9789040364920538 -23.5313436473913953, -51.9816444425369468 -23.5344794097968588, -51.9809419011477871 -23.5369378388101609, -51.9854465702030097 -23.5390350290433048, -51.9857956330619686 -23.5424168459606449, -51.9900111062275414 -23.5422285531051898, -51.9906773293951687 -23.5446640853791678, -51.9893685667059344 -23.5463511802627181, -51.9909786697297704 -23.5482303019867913, -51.9925334185823544 -23.5490491131260455, -51.9972325453456392 -23.5473370629550232, -51.9968550126486662 -23.5531165974529699, -51.9934556886290693 -23.5557849345270824, -51.9959923928346370 -23.5580017768604648, -51.9975755746530126 -23.5562432515247906, -51.9997501137767131 -23.5565708664522617, -52.1002707410018502 -23.5196632841332303, -52.1002595804152406 -23.5195539355656251, -52.0949649082039059 -23.5205579279059975, -52.0918664568714576 -23.5177743535035688, -52.0852125682054066 -23.5172215618255791, -52.0849079480433375 -23.5154668154411297, -52.0880442752230692 -23.5115466238775639, -52.0869535117951159 -23.5064580304137394, -52.0704872488873889 -23.4842357988429740, -52.0673001432869569 -23.4832576548168959, -52.0587682291704255 -23.4761621675499441, -52.0499956807560125 -23.4729767940437455, -52.0422670293998522 -23.4675377033022983, -52.0374355314245918 -23.4667892542206573, -52.0283023854466933 -23.4685117347287360, -52.0181819996994932 -23.4659619903535486, -52.0130519996500311 -23.4626480101974835, -52.0064708400572044 -23.4549080102963785, -52.0450393802631197 -23.4394113748350605, -52.0463227595876674 -23.4385239598128692, -52.0482381950366175 -23.4280509804683561, -52.0478787468067026 -23.4226734672067209, -52.0548880925114190 -23.4174600388496401, -52.0740262538085403 -23.4104790838425743, -52.0767436129273733 -23.4065420614668938, -52.0821423214109700 -23.4058845041664654, -52.0893679297860785 -23.4016667080520619, -52.0949863291557449 -23.4003380424666148))"
          ],
          [
           4117404,
           "Ourizona",
           "4115200",
           "Maringá/PR",
           0.731737110048,
           0.0156215732495,
           "POLYGON ((-52.3048265729879063 -23.5729775744554786, -52.3095451826640101 -23.5671897113360842, -52.3246658844229842 -23.5540184223123106, -52.3220284588462619 -23.5522912041756740, -52.3210674109322440 -23.5484490674704148, -52.3179352709959176 -23.5469718986341832, -52.3185470339184349 -23.5446929895897483, -52.3152480697426085 -23.5454020007016993, -52.3155063649267618 -23.5406577405622102, -52.3087769502959645 -23.5381999608594583, -52.3067564362604571 -23.5343778322711046, -52.3080542479051473 -23.5329874156366827, -52.3011901597980113 -23.5303040095223537, -52.3036111869067213 -23.5254064419536917, -52.2978757587592327 -23.5240124496148155, -52.2946536335583119 -23.5212981364997518, -52.2934461534172215 -23.5162129253861281, -52.2955759998324652 -23.5133206841022684, -52.2947805458854305 -23.5111420080971243, -52.2978598020881691 -23.5074323837974362, -52.2960077967223924 -23.5063226419762827, -52.2972666884069213 -23.5016236573059132, -52.2929536450945989 -23.4994976698815208, -52.2915923179310766 -23.4961095487166745, -52.2884143107717705 -23.4942838269370213, -52.2880774202367320 -23.4891368261036178, -52.2856190964441225 -23.4872431344630286, -52.2805587273034007 -23.4713757076227694, -52.2762793950780065 -23.4690086749103557, -52.2731875447693142 -23.4622055257643751, -52.2732024834078288 -23.4583486725531429, -52.2769418536835815 -23.4572662026730541, -52.2751431763164760 -23.4553561856394026, -52.2772258065257347 -23.4556743540881030, -52.2767159493815257 -23.4534807007736958, -52.2780579618054730 -23.4528672660114808, -52.2766025241871262 -23.4511343614615839, -52.2776718252944761 -23.4471708864272159, -52.2753324530302166 -23.4451538140971820, -52.2749951254246525 -23.4423401348892639, -52.2753571798899088 -23.4400829921363538, -52.2765499669073961 -23.4399481253057047, -52.2731919280649890 -23.4386861318594697, -52.2733114587567798 -23.4358892349002303, -52.2696239946515675 -23.4336315147825189, -52.2677776253370894 -23.4283531131056293, -52.2655405257746111 -23.4268578750908318, -52.2625486620910351 -23.4276352085979624, -52.2599601461437828 -23.4251069670128800, -52.2605598086881855 -23.4239997765683938, -52.2567757717844188 -23.4228789398111985, -52.2573030532932421 -23.4208746261630267, -52.2556068842502555 -23.4203068904506040, -52.2528791091834819 -23.4145446103454447, -52.2458866338610051 -23.4101110273020367, -52.2460954042794583 -23.4057039472792781, -52.2425905915824842 -23.4014158403687134, -52.2398226482965242 -23.4017927012720861, -52.2386797817464981 -23.3995087794065739, -52.2367024045922790 -23.4004017747220701, -52.2350824503947138 -23.3971366925043185, -52.2280942585431376 -23.3913141659159578, -52.2242476692944706 -23.3920377865146065, -52.2207296383620587 -23.3888891188377102, -52.2150891462470668 -23.3909063395558974, -52.2096754730446264 -23.3844068743777029, -52.2021309713671826 -23.3788350544941181, -52.2015362892682901 -23.3758576537077261, -52.1962333720724132 -23.3720335484094903, -52.1945748342611751 -23.3647058139221144, -52.1913385438386968 -23.3600677448305305, -52.1849801382227838 -23.3533733767798708, -52.1790144611484266 -23.3499797436701897, -52.1783951160417132 -23.3493542409054271, -52.1691998143199385 -23.3564147760210403, -52.1639439874250570 -23.3642809714896202, -52.1483685731510604 -23.3684950785849423, -52.1509882488085736 -23.3725011688937911, -52.1510763751745117 -23.3782762454522981, -52.1450221562474781 -23.3873390428624930, -52.1440608862009185 -23.3927866411904688, -52.1495255230843782 -23.4089955253231778, -52.1486363894577494 -23.4142490292692287, -52.1505483247453299 -23.4147437301389800, -52.1546000826276668 -23.4203273482285113, -52.1665775827891594 -23.4245653107404337, -52.1736604040044085 -23.4375277232257986, -52.1764125767789437 -23.4380843037475870, -52.1746613638308077 -23.4416030100708213, -52.1754971910424956 -23.4427410499594657, -52.1826847509004779 -23.4481755955272888, -52.1865197083178600 -23.4490153977423574, -52.1890187183391276 -23.4522956488250998, -52.1910717338734003 -23.4595106398041366, -52.1887138103940060 -23.4639539705992206, -52.1885251838900786 -23.4677328552870108, -52.2013275818023885 -23.4765660117120092, -52.2132729500865480 -23.4806838877511836, -52.2130505945092978 -23.4847612115606239, -52.2208305953556646 -23.4929395275371462, -52.2202369384838789 -23.4942045534972976, -52.2219373055621645 -23.4958306347759276, -52.2214639159269609 -23.5033793236967767, -52.2255747880460035 -23.5079501567742568, -52.2261862389037788 -23.5126679345774505, -52.2274675974516072 -23.5128458933232878, -52.2261581773579451 -23.5178315458890665, -52.2242675110367713 -23.5187613729389682, -52.2257979179395306 -23.5211843129056888, -52.2242169925201551 -23.5229643266422954, -52.2275759180940895 -23.5245009496590569, -52.2270442577862468 -23.5283671657120976, -52.2352138638287329 -23.5289473894104617, -52.2344334834184565 -23.5301841703630998, -52.2365815509977551 -23.5322123493204458, -52.2359953252240530 -23.5357801190572218, -52.2381015059796709 -23.5341972897730329, -52.2397747432098072 -23.5357064582863700, -52.2388839548306123 -23.5379529575628794, -52.2417146123394218 -23.5408833013232766, -52.2413237867633029 -23.5422851834144353, -52.2443766541592254 -23.5409575790289978, -52.2499118104816489 -23.5424009405509196, -52.2500766004546904 -23.5462299543488598, -52.2530490819495412 -23.5480947921408870, -52.2574091714960218 -23.5472410432395236, -52.2576930685801813 -23.5517844730749175, -52.2627136409217314 -23.5505417179259098, -52.2636911482278492 -23.5513631955549840, -52.2624616266027715 -23.5533199233757387, -52.2639679694461847 -23.5549705093814623, -52.2664117538992627 -23.5552775765988258, -52.2674958668407612 -23.5526792265650329, -52.2686296934055576 -23.5542822950918094, -52.2721330294157269 -23.5530376900373426, -52.2728322792862059 -23.5564935328501974, -52.2752375952387638 -23.5590755898665520, -52.2735207975467233 -23.5622717426467716, -52.2751629982736858 -23.5633631994520556, -52.2784108090115751 -23.5636248428122030, -52.2777979552114402 -23.5611177460870636, -52.2803029996836699 -23.5612447519437183, -52.2848774345459333 -23.5582362049368612, -52.2863283251920166 -23.5619214369247061, -52.2847973571123248 -23.5651576823810842, -52.2878755763966865 -23.5656600706556674, -52.2901305634746905 -23.5701267847232998, -52.2929931136412165 -23.5692113612153094, -52.2953766677989620 -23.5712495019628818, -52.2963569261311818 -23.5681641735377525, -52.2979658231641906 -23.5679832083583278, -52.3016041276283659 -23.5730073986724733, -52.3048265729879063 -23.5729775744554786))"
          ],
          [
           4117503,
           "Paiçandu",
           "4115200",
           "Maringá/PR",
           0.601674637934,
           0.0151362732829,
           "POLYGON ((-52.1486363894577494 -23.4142490292692287, -52.1419922755230800 -23.4177643775239517, -52.1376428114665487 -23.4172730374206708, -52.1187193246370839 -23.4024684815351520, -52.1087671624745212 -23.4050733696402631, -52.0949863291557449 -23.4003380424666148, -52.0893679297860785 -23.4016667080520619, -52.0821423214109700 -23.4058845041664654, -52.0767436129273733 -23.4065420614668938, -52.0740262538085403 -23.4104790838425743, -52.0548880925114190 -23.4174600388496401, -52.0478787468067026 -23.4226734672067209, -52.0482381950366175 -23.4280509804683561, -52.0463227595876674 -23.4385239598128692, -52.0450393802631197 -23.4394113748350605, -52.0064708400572044 -23.4549080102963785, -52.0130519996500311 -23.4626480101974835, -52.0181819996994932 -23.4659619903535486, -52.0283023854466933 -23.4685117347287360, -52.0374355314245918 -23.4667892542206573, -52.0422670293998522 -23.4675377033022983, -52.0499956807560125 -23.4729767940437455, -52.0587682291704255 -23.4761621675499441, -52.0673001432869569 -23.4832576548168959, -52.0704872488873889 -23.4842357988429740, -52.0869535117951159 -23.5064580304137394, -52.0880442752230692 -23.5115466238775639, -52.0849079480433375 -23.5154668154411297, -52.0852125682054066 -23.5172215618255791, -52.0918664568714576 -23.5177743535035688, -52.0949649082039059 -23.5205579279059975, -52.1002595804152406 -23.5195539355656251, -52.1438798149014815 -23.5179650367570048, -52.1513825511637492 -23.5151117729898829, -52.1569968927923355 -23.5158561490420084, -52.1676284765728724 -23.5136618626048062, -52.1733483509456164 -23.5155595238529145, -52.1813279140519626 -23.5156456636164535, -52.1844803849617733 -23.5133374456665365, -52.1927740704669532 -23.5142895543194186, -52.1921016401785209 -23.5162756306158371, -52.1955520375964284 -23.5181750266561380, -52.1983842365432338 -23.5151380062139879, -52.1988813736763859 -23.5117778908369246, -52.2056605666817859 -23.5115483199989512, -52.2081338318108692 -23.5146014688826313, -52.2118220477492514 -23.5134072546410380, -52.2135455750681672 -23.5192038151039355, -52.2174332363547364 -23.5220383648785969, -52.2196009208457781 -23.5211244297485678, -52.2242169925201551 -23.5229643266422954, -52.2257979179395306 -23.5211843129056888, -52.2242675110367713 -23.5187613729389682, -52.2261581773579451 -23.5178315458890665, -52.2274675974516072 -23.5128458933232878, -52.2261862389037788 -23.5126679345774505, -52.2255747880460035 -23.5079501567742568, -52.2214639159269609 -23.5033793236967767, -52.2219373055621645 -23.4958306347759276, -52.2202369384838789 -23.4942045534972976, -52.2208305953556646 -23.4929395275371462, -52.2130505945092978 -23.4847612115606239, -52.2132729500865480 -23.4806838877511836, -52.2013275818023885 -23.4765660117120092, -52.1885251838900786 -23.4677328552870108, -52.1887138103940060 -23.4639539705992206, -52.1910717338734003 -23.4595106398041366, -52.1890187183391276 -23.4522956488250998, -52.1865197083178600 -23.4490153977423574, -52.1826847509004779 -23.4481755955272888, -52.1754971910424956 -23.4427410499594657, -52.1746613638308077 -23.4416030100708213, -52.1764125767789437 -23.4380843037475870, -52.1736604040044085 -23.4375277232257986, -52.1665775827891594 -23.4245653107404337, -52.1546000826276668 -23.4203273482285113, -52.1505483247453299 -23.4147437301389800, -52.1486363894577494 -23.4142490292692287))"
          ],
          [
           4120408,
           "Presidente Castelo Branco",
           "4115200",
           "Maringá/PR",
           0.636625480426,
           0.013754414604,
           "POLYGON ((-52.1790144611484266 -23.3499797436701897, -52.1828186401680796 -23.3456199931680999, -52.1841421409470172 -23.3385532958978388, -52.1903829530108396 -23.3348254090653313, -52.1885592762895385 -23.3335198911300381, -52.2156234001997177 -23.3261976425071680, -52.2166512227756812 -23.3275804553736634, -52.2287102033131987 -23.3181247513561516, -52.2385035856718787 -23.3143419456242214, -52.2347323200405071 -23.3110174946615984, -52.2283835821365869 -23.3004201013065995, -52.2189005756010260 -23.2886586362869821, -52.2293258099381319 -23.2835935744838025, -52.2395193051717683 -23.2743088693587765, -52.2440297703575993 -23.2682321278103927, -52.2376035351749692 -23.2647968426001626, -52.2311255449079113 -23.2572355883516479, -52.2187425979924456 -23.2479806948531404, -52.2158982366142936 -23.2479466240374109, -52.2103152669359929 -23.2526951685471204, -52.2010528479105460 -23.2552856018489820, -52.1948090375070137 -23.2598364250109739, -52.1881715758574956 -23.2623135833051720, -52.1789589459985450 -23.2597193818439791, -52.1759117794050553 -23.2560409856029651, -52.1745246416988380 -23.2505377444213082, -52.1698693928581747 -23.2456292204121269, -52.1703528036389343 -23.2443639363465309, -52.1641915833748158 -23.2440574087223695, -52.1599725965580205 -23.2458557641321590, -52.1556580774582699 -23.2437201143917491, -52.1607355157314032 -23.2398928722582241, -52.1641180494083869 -23.2336500717933063, -52.1467568513475612 -23.2138972292736412, -52.1424203087502178 -23.2108971970479843, -52.1339915019062232 -23.2087331575091866, -52.1253129344443096 -23.1997707460230913, -52.1084226528830641 -23.1928495842408893, -52.1080913138629853 -23.1901548934335437, -52.1081126646677149 -23.1842628447544143, -52.1067632472260129 -23.1824901299154931, -52.0917663659250252 -23.1806393098562467, -52.0871711890990809 -23.1777809577249627, -52.0730220069600023 -23.1907188906642432, -52.0708293500944137 -23.1896702910510726, -52.0587376800997959 -23.2038883927351094, -52.0611059107091592 -23.2053039804942500, -52.0628803540450349 -23.2130764702029069, -52.0671513909239252 -23.2177277539326496, -52.0709794505411878 -23.2299021138913986, -52.0805868953688673 -23.2298906007705455, -52.0802640342577092 -23.2336072002120773, -52.0860501311086068 -23.2432453730754673, -52.0826985386066212 -23.2505345815056899, -52.0822557007399496 -23.2556668010819863, -52.0841083832951881 -23.2599975340589253, -52.0903241960048149 -23.2623441737445660, -52.0935088995160527 -23.2717248383305559, -52.1045346462568659 -23.2840742288425417, -52.1147531705223628 -23.2866180943495351, -52.1170396365699276 -23.2919005537675048, -52.1142082416170069 -23.2950419432310696, -52.1130167055564471 -23.3036222768465677, -52.1254675306020090 -23.2995003799385358, -52.1405731849044969 -23.3021000609689963, -52.1442978863383360 -23.3041579130572245, -52.1524364468844510 -23.3208974493577443, -52.1591899516549233 -23.3268710287749172, -52.1606401318366011 -23.3305608311173955, -52.1673650678435479 -23.3351843347891759, -52.1709670873611344 -23.3417939327437693, -52.1783951160417132 -23.3493542409054271, -52.1790144611484266 -23.3499797436701897))"
          ]
         ],
         "index": [
          0,
          1,
          2,
          3,
          4,
          5,
          6,
          7,
          8,
          9
         ]
        }
       },
       "height": 400,
       "layout": "IPY_MODEL_ee4bd1dddc7240f691abad51221db5c1",
       "value": "Hello World!"
      }
     },
     "a493190be05241bdb5587162d541a9b1": {
      "model_module": "@jupyter-widgets/base",
      "model_module_version": "1.2.0",
      "model_name": "LayoutModel",
      "state": {}
     },
     "a554981802174bc8b09802931af4f1db": {
      "model_module": "@jupyter-widgets/base",
      "model_module_version": "1.2.0",
      "model_name": "LayoutModel",
      "state": {}
     },
     "ac38124e03a1444a8d3587ec1cc58296": {
      "model_module": "@jupyter-widgets/base",
      "model_module_version": "1.2.0",
      "model_name": "LayoutModel",
      "state": {}
     },
     "baf4c51d4a3b4fe7804809e8f1f522be": {
      "model_module": "@jupyter-widgets/base",
      "model_module_version": "1.2.0",
      "model_name": "LayoutModel",
      "state": {}
     },
     "c7832eda4aea4b00874a2607afee3fdb": {
      "model_module": "keplergl-jupyter",
      "model_module_version": "^0.3.0",
      "model_name": "KeplerGlModal",
      "state": {
       "_model_module_version": "^0.3.0",
       "_view_module_version": "^0.3.0",
       "config": {
        "config": {
         "mapState": {
          "bearing": 24,
          "dragRotate": true,
          "isSplit": false,
          "latitude": -23.40153385173574,
          "longitude": -51.97410213677811,
          "pitch": 50,
          "zoom": 10.330065763050756
         },
         "mapStyle": {
          "mapStyles": {},
          "styleType": "light",
          "threeDBuildingColor": [
           9.665468314072013,
           17.18305478057247,
           31.1442867897876
          ],
          "topLayerGroups": {},
          "visibleLayerGroups": {
           "3d building": false,
           "border": false,
           "building": true,
           "label": true,
           "land": true,
           "road": true,
           "water": true
          }
         },
         "visState": {
          "animationConfig": {
           "currentTime": null,
           "speed": 1
          },
          "filters": [],
          "interactionConfig": {
           "brush": {
            "enabled": false,
            "size": 0.5
           },
           "coordinate": {
            "enabled": false
           },
           "geocoder": {
            "enabled": false
           },
           "tooltip": {
            "compareMode": false,
            "compareType": "absolute",
            "enabled": true,
            "fieldsToShow": {
             "Commuting_Maringa": [
              {
               "format": null,
               "name": "cod_origem"
              },
              {
               "format": null,
               "name": "Mun_origem"
              },
              {
               "format": null,
               "name": "cod_destino"
              },
              {
               "format": null,
               "name": "Mun_destino"
              },
              {
               "format": null,
               "name": "Movimento_Pendular"
              }
             ],
             "Municipios_Arranjo": [
              {
               "format": null,
               "name": "CodMunic"
              },
              {
               "format": null,
               "name": "NomMunic"
              },
              {
               "format": null,
               "name": "CodArranjo"
              },
              {
               "format": null,
               "name": "NomeArranj"
              },
              {
               "format": null,
               "name": "Shape_Leng"
              }
             ]
            }
           }
          },
          "layerBlending": "normal",
          "layers": [
           {
            "config": {
             "color": [
              136,
              87,
              44
             ],
             "columns": {
              "lat0": "point_latitude",
              "lat1": "point_latitude.1",
              "lng0": "point_longitude",
              "lng1": "point_longitude.1"
             },
             "dataId": "Commuting_Maringa",
             "hidden": false,
             "isVisible": true,
             "label": "point",
             "textLabel": [
              {
               "alignment": "center",
               "anchor": "start",
               "color": [
                255,
                255,
                255
               ],
               "field": null,
               "offset": [
                0,
                0
               ],
               "size": 18
              }
             ],
             "visConfig": {
              "colorRange": {
               "category": "ColorBrewer",
               "colors": [
                "#fef0d9",
                "#fdd49e",
                "#fdbb84",
                "#fc8d59",
                "#e34a33",
                "#b30000"
               ],
               "name": "ColorBrewer OrRd-6",
               "type": "sequential"
              },
              "opacity": 0.8,
              "sizeRange": [
               0,
               10
              ],
              "targetColor": null,
              "thickness": 2
             }
            },
            "id": "e9q15zm",
            "type": "arc",
            "visualChannels": {
             "colorField": {
              "name": "Movimento_Pendular",
              "type": "integer"
             },
             "colorScale": "quantile",
             "sizeField": {
              "name": "Movimento_Pendular",
              "type": "integer"
             },
             "sizeScale": "linear"
            }
           },
           {
            "config": {
             "color": [
              255,
              153,
              31
             ],
             "columns": {
              "geojson": "geometry"
             },
             "dataId": "Municipios_Arranjo",
             "hidden": false,
             "isVisible": true,
             "label": "Municipios_Arranjo",
             "textLabel": [
              {
               "alignment": "center",
               "anchor": "start",
               "color": [
                255,
                255,
                255
               ],
               "field": null,
               "offset": [
                0,
                0
               ],
               "size": 18
              }
             ],
             "visConfig": {
              "colorRange": {
               "category": "Uber",
               "colors": [
                "#5A1846",
                "#900C3F",
                "#C70039",
                "#E3611C",
                "#F1920E",
                "#FFC300"
               ],
               "name": "Global Warming",
               "type": "sequential"
              },
              "elevationScale": 5,
              "enable3d": false,
              "enableElevationZoomFactor": true,
              "filled": false,
              "heightRange": [
               0,
               500
              ],
              "opacity": 0.8,
              "radius": 10,
              "radiusRange": [
               0,
               50
              ],
              "sizeRange": [
               0,
               10
              ],
              "strokeColor": [
               129,
               116,
               107
              ],
              "strokeColorRange": {
               "category": "Uber",
               "colors": [
                "#5A1846",
                "#900C3F",
                "#C70039",
                "#E3611C",
                "#F1920E",
                "#FFC300"
               ],
               "name": "Global Warming",
               "type": "sequential"
              },
              "strokeOpacity": 0.8,
              "stroked": true,
              "thickness": 2.1,
              "wireframe": false
             }
            },
            "id": "4i2fd3g",
            "type": "geojson",
            "visualChannels": {
             "colorField": null,
             "colorScale": "quantile",
             "heightField": null,
             "heightScale": "linear",
             "radiusField": null,
             "radiusScale": "linear",
             "sizeField": null,
             "sizeScale": "linear",
             "strokeColorField": null,
             "strokeColorScale": "quantile"
            }
           }
          ],
          "splitMaps": []
         }
        },
        "version": "v1"
       },
       "data": {
        "Commuting_Maringa": {
         "columns": [
          "cod_origem",
          "Mun_origem",
          "point_latitude",
          "point_longitude",
          "cod_destino",
          "Mun_destino",
          "Movimento_Pendular",
          "point_latitude.1",
          "point_longitude.1",
          "Arranjo",
          "departure",
          "arrival"
         ],
         "data": [
          [
           4126256,
           "SARANDI",
           -23.444000000000003,
           -51.873999999999995,
           4115200,
           "MARINGÁ",
           24224,
           -23.425,
           -51.93899999999999,
           true,
           "2010-31-07 10:30:0'",
           "2010-31-07 11:00:0'"
          ],
          [
           4115200,
           "MARINGÁ",
           -23.425,
           -51.93899999999999,
           4126256,
           "SARANDI",
           24224,
           -23.444000000000003,
           -51.873999999999995,
           true,
           "2010-31-07 10:30:0'",
           "2010-31-07 11:00:0'"
          ],
          [
           4117503,
           "PAIÇANDU",
           -23.458000000000002,
           -52.049,
           4115200,
           "MARINGÁ",
           10550,
           -23.425,
           -51.93899999999999,
           true,
           "2010-31-07 10:30:0'",
           "2010-31-07 11:00:0'"
          ],
          [
           4115200,
           "MARINGÁ",
           -23.425,
           -51.93899999999999,
           4117503,
           "PAIÇANDU",
           10550,
           -23.458000000000002,
           -52.049,
           true,
           "2010-31-07 10:30:0'",
           "2010-31-07 11:00:0'"
          ],
          [
           4114104,
           "MANDAGUAÇU",
           -23.346999999999998,
           -52.095,
           4115200,
           "MARINGÁ",
           3856,
           -23.425,
           -51.93899999999999,
           true,
           "2010-31-07 10:30:0'",
           "2010-31-07 11:00:0'"
          ],
          [
           4115200,
           "MARINGÁ",
           -23.425,
           -51.93899999999999,
           4114104,
           "MANDAGUAÇU",
           3856,
           -23.346999999999998,
           -52.095,
           true,
           "2010-31-07 10:30:0'",
           "2010-31-07 11:00:0'"
          ],
          [
           4114807,
           "MARIALVA",
           -23.485,
           -51.792,
           4115200,
           "MARINGÁ",
           3288,
           -23.425,
           -51.93899999999999,
           true,
           "2010-31-07 10:30:0'",
           "2010-31-07 11:00:0'"
          ],
          [
           4115200,
           "MARINGÁ",
           -23.425,
           -51.93899999999999,
           4114807,
           "MARIALVA",
           3288,
           -23.485,
           -51.792,
           true,
           "2010-31-07 10:30:0'",
           "2010-31-07 11:00:0'"
          ],
          [
           4114807,
           "MARIALVA",
           -23.485,
           -51.792,
           4126256,
           "SARANDI",
           1004,
           -23.444000000000003,
           -51.873999999999995,
           true,
           "2010-31-07 10:30:0'",
           "2010-31-07 11:00:0'"
          ],
          [
           4126256,
           "SARANDI",
           -23.444000000000003,
           -51.873999999999995,
           4114807,
           "MARIALVA",
           1004,
           -23.485,
           -51.792,
           true,
           "2010-31-07 10:30:0'",
           "2010-31-07 11:00:0'"
          ],
          [
           4110003,
           "IGUARAÇU",
           -23.197,
           -51.828,
           4115200,
           "MARINGÁ",
           635,
           -23.425,
           -51.93899999999999,
           true,
           "2010-31-07 10:30:0'",
           "2010-31-07 11:00:0'"
          ],
          [
           4115200,
           "MARINGÁ",
           -23.425,
           -51.93899999999999,
           4110003,
           "IGUARAÇU",
           635,
           -23.197,
           -51.828,
           true,
           "2010-31-07 10:30:0'",
           "2010-31-07 11:00:0'"
          ],
          [
           4126256,
           "SARANDI",
           -23.444000000000003,
           -51.873999999999995,
           4117503,
           "PAIÇANDU",
           120,
           -23.458000000000002,
           -52.049,
           true,
           "2010-31-07 10:30:0'",
           "2010-31-07 11:00:0'"
          ],
          [
           4117503,
           "PAIÇANDU",
           -23.458000000000002,
           -52.049,
           4126256,
           "SARANDI",
           120,
           -23.444000000000003,
           -51.873999999999995,
           true,
           "2010-31-07 10:30:0'",
           "2010-31-07 11:00:0'"
          ],
          [
           4107900,
           "FLORESTA",
           -23.599,
           -52.081,
           4111100,
           "ITAMBÉ",
           86,
           -23.660999999999998,
           -51.99,
           true,
           "2010-31-07 10:30:0'",
           "2010-31-07 11:00:0'"
          ],
          [
           4111100,
           "ITAMBÉ",
           -23.660999999999998,
           -51.99,
           4107900,
           "FLORESTA",
           86,
           -23.599,
           -52.081,
           true,
           "2010-31-07 10:30:0'",
           "2010-31-07 11:00:0'"
          ]
         ],
         "index": [
          1,
          2,
          3,
          4,
          5,
          6,
          7,
          8,
          13,
          14,
          15,
          16,
          24,
          25,
          32,
          33
         ]
        },
        "Municipios_Arranjo": {
         "columns": [
          "CodMunic",
          "NomMunic",
          "CodArranjo",
          "NomeArranj",
          "Shape_Leng",
          "Shape_Area",
          "geometry"
         ],
         "data": [
          [
           4126256,
           "Sarandi",
           "4115200",
           "Maringá/PR",
           0.544904971268,
           0.00912425298747,
           "POLYGON ((-51.8510324708718144 -23.4547953783040271, -51.8511988796245760 -23.4549050398356940, -51.8534940223312333 -23.4579305885258123, -51.8534712514970124 -23.4863736402312497, -51.8525132639759363 -23.4905119137937390, -51.8467021803613193 -23.4967329551616899, -51.8496016557917301 -23.5047365427572004, -51.8529605319029656 -23.5108187027208828, -51.8590147319442849 -23.5158666090567294, -51.8637254869416324 -23.5167462224601422, -51.8678851158053931 -23.5233300467442064, -51.8753138369639828 -23.5224397089253898, -51.8794453431280544 -23.5243470333888354, -51.8808779748386542 -23.5262500474017315, -51.8811002557721395 -23.5330380609577219, -51.8869306217507642 -23.5359764122815704, -51.8874849971348908 -23.5389784338076424, -51.8896863243643338 -23.5410921643718325, -51.8930742647654597 -23.5402915069474261, -51.8935145548527998 -23.5441926679571907, -51.8964577957905817 -23.5461665359568428, -51.8997934828828988 -23.5559315545975210, -51.9024750372930725 -23.5576888037952017, -51.9051591259928387 -23.5558315068185493, -51.9113447268775872 -23.5589479922559804, -51.9123299233872331 -23.5607617197774744, -51.9183468528249819 -23.5538442730946826, -51.9152843402001167 -23.5513285905419707, -51.9201627432159967 -23.5458894404452508, -51.9202967772744159 -23.5428488586878188, -51.9281988529946261 -23.5338604711837434, -51.9226570983463489 -23.5304536459189535, -51.9094389060805952 -23.5099142950086843, -51.9224370315437227 -23.5001135013369549, -51.9190990529788792 -23.4970022220748547, -51.9177084061179812 -23.4874882662704181, -51.9115394462883728 -23.4770667587238790, -51.9056409215912140 -23.4768539359603210, -51.9038190003465729 -23.4703840000215109, -51.9058189999468595 -23.4649870002498346, -51.9047079999741641 -23.4593749995565304, -51.8970870001649018 -23.4527459996281209, -51.8932299598947111 -23.4454259696327654, -51.8876798397527637 -23.4399570303925771, -51.8779185371107587 -23.4159342931330912, -51.8677678801834645 -23.4149309995659110, -51.8637441595652717 -23.4160990201536379, -51.8481139504983730 -23.4103314664239974, -51.8451850573444517 -23.4063616547664992, -51.8398810456736783 -23.4065294367840124, -51.8405509920345935 -23.4025686129510859, -51.8424843707570631 -23.4003959156389669, -51.8430171219425802 -23.3936634154342187, -51.8392578694550821 -23.3933850069124674, -51.8335011813343840 -23.3957294819300046, -51.8273329634454853 -23.3932423978183692, -51.8192689027376332 -23.3927881457562989, -51.7971347876402888 -23.4090818134748702, -51.8004774858472388 -23.4124427733153198, -51.8018825020757845 -23.4175416838016304, -51.8036237946024016 -23.4294193106526336, -51.8029885368914051 -23.4377727318260440, -51.8064763047376573 -23.4450803763582485, -51.8266052095627288 -23.4595560483729173, -51.8331472270628524 -23.4586966850039857, -51.8409677081931477 -23.4518011512021189, -51.8456279923379384 -23.4445181175170774, -51.8459838351857911 -23.4477925122146189, -51.8510324708718144 -23.4547953783040271))"
          ],
          [
           4107900,
           "Floresta",
           "4115200",
           "Maringá/PR",
           0.693632333799,
           0.0139730939292,
           "POLYGON ((-52.1002707410018502 -23.5196632841332303, -51.9997501137767131 -23.5565708664522617, -52.0069303765355926 -23.5617551693655400, -52.0043980520284208 -23.5629276011278534, -52.0056743860640154 -23.5659819326200477, -52.0075352803289093 -23.5650337414139699, -52.0147016575554062 -23.5720370787481670, -52.0148268485801282 -23.5759593387524546, -52.0183374690988671 -23.5779572330398537, -52.0172170936938869 -23.5807336245570696, -52.0190279164051503 -23.5844345883854771, -52.0259282310030358 -23.5831983308382291, -52.0221821832611226 -23.5855171958618826, -52.0201018112495603 -23.5895864707389933, -52.0260434089760793 -23.5885311522907841, -52.0288047782178751 -23.5899516125768400, -52.0295347723118766 -23.5923751910621604, -52.0274863433200494 -23.5958881003555234, -52.0306865592372674 -23.5982464393216560, -52.0303122703949157 -23.6021804210895425, -52.0319893693139193 -23.6050997625439436, -52.0284019152161932 -23.6039206713019212, -52.0291264890961429 -23.6071032263328107, -52.0357599829368382 -23.6081954007970580, -52.0392206281294420 -23.6106642817311467, -52.0383772169349754 -23.6111031023262399, -52.0401830807845158 -23.6132243332363601, -52.0363626842903955 -23.6165434907894110, -52.0371047985475457 -23.6172496420572884, -52.0357932470606670 -23.6177962481982604, -52.0346619691745218 -23.6226800678307995, -52.0400862372899837 -23.6246069903202738, -52.0420613544479238 -23.6235317024260780, -52.0452441477991670 -23.6256711473055816, -52.0441731739527995 -23.6278986942692768, -52.0479956137065756 -23.6282202828397203, -52.0453796720341870 -23.6308679444999825, -52.0466890093902066 -23.6328546997845024, -52.0448414799503212 -23.6343071075868920, -52.0473889256583675 -23.6348951517898058, -52.0458384719678406 -23.6376600086024951, -52.0547912589094040 -23.6402400763184346, -52.0530227672868477 -23.6427089446620471, -52.0547922103921792 -23.6436896508566292, -52.0591788740057950 -23.6437364650657855, -52.0595549480024147 -23.6485427640373018, -52.0615253086460257 -23.6507976153176287, -52.0634614680722621 -23.6489219173125775, -52.0662077278043398 -23.6488126712677058, -52.0666287427222301 -23.6515797458085899, -52.0689595615344842 -23.6529969154752280, -52.0709875534328148 -23.6618952044001389, -52.0768270043627126 -23.6573637805140038, -52.0769936990998872 -23.6540092238465718, -52.0826291622060467 -23.6580502717026206, -52.0822958509726845 -23.6594622711668308, -52.0786241052182390 -23.6603672166736487, -52.0767379705808366 -23.6654595441225979, -52.0809319382582885 -23.6635791300727760, -52.0864413101183459 -23.6635217668160180, -52.0842707091258603 -23.6604361775874850, -52.0895978270780233 -23.6573952711747779, -52.0919066062048728 -23.6604220195604853, -52.0906588571205020 -23.6661451692640981, -52.0941064225733044 -23.6657642865924913, -52.0954911240161209 -23.6614038544042842, -52.0996059090853691 -23.6609037728907765, -52.1025766674791839 -23.6628463804560738, -52.1035199492861807 -23.6709169621480555, -52.1051593387324488 -23.6728766316512065, -52.1092654804175481 -23.6736127285445264, -52.1140199721439785 -23.6716678456944578, -52.1160950120751068 -23.6727942186781775, -52.1206331700847159 -23.6760254692999297, -52.1274921194656713 -23.6880694302599295, -52.1331343949363486 -23.6904571482787105, -52.1408493954832011 -23.6905860355170717, -52.1571432214824426 -23.6813469008387756, -52.1596872938334855 -23.6778651683428052, -52.1578562966307686 -23.6688816218892839, -52.1592119724545000 -23.6600045164951780, -52.1573758877869409 -23.6532168995402117, -52.1584649227179398 -23.6503487663824217, -52.1633826926570805 -23.6478265646442196, -52.1771876296053847 -23.6489181734349359, -52.1908332615457198 -23.6445739470299827, -52.1897250251897162 -23.6430518687486710, -52.1847772628603366 -23.6441755608533981, -52.1829996170386607 -23.6421582007403117, -52.1793349291635877 -23.6416494983256484, -52.1768330826805595 -23.6358100968584495, -52.1705264942023064 -23.6291433119142766, -52.1563873790742605 -23.6250506411740844, -52.1439752590509329 -23.6147441029579568, -52.1334707674619153 -23.6009178439832681, -52.1192378485478116 -23.5889846426271106, -52.1133804921159935 -23.5744037490337632, -52.1047009614801482 -23.5654366682675800, -52.0974209342286940 -23.5607148552063563, -52.1002707410018502 -23.5196632841332303))"
          ],
          [
           4110003,
           "Iguaraçu",
           "4115200",
           "Maringá/PR",
           0.700300445507,
           0.0145857340864,
           "POLYGON ((-51.9393744960361232 -23.2639476118927178, -51.9376430753675891 -23.2629600654545925, -51.9386191455570838 -23.2610134433157327, -51.9363417671588081 -23.2591143674340515, -51.9352089883041117 -23.2602565504993777, -51.9291205798508599 -23.2598343511743337, -51.9281843829028844 -23.2550845485130822, -51.9230147596234133 -23.2534115801802272, -51.9269575898208586 -23.2430906860862478, -51.9251584061354947 -23.2399991964057335, -51.9175709429446215 -23.2370558673343908, -51.9126534967614361 -23.2319761420852160, -51.9149991274077820 -23.2255974000999004, -51.9128800323875339 -23.2242588042004172, -51.9122545350187465 -23.2196186549768981, -51.9067040578459569 -23.2186567994716597, -51.9053658738359900 -23.2165008709184235, -51.9033461916733927 -23.2183214683610117, -51.9005974875839229 -23.2175212659935823, -51.8987682728374580 -23.2193407302904120, -51.8932469984501950 -23.2167109111795753, -51.8902064832425935 -23.2192532217587200, -51.8838688870394549 -23.2201356176645959, -51.8792955592426210 -23.2167057949364448, -51.8760626232913751 -23.2171269879200963, -51.8755483972407205 -23.2148601145026419, -51.8690940753312475 -23.2162087576280101, -51.8650022445578998 -23.2150955300346595, -51.8675745565205375 -23.2053280805264421, -51.8657741263747880 -23.1949841970629791, -51.8657131415482127 -23.1328532429827192, -51.8612634786265971 -23.1326648296181361, -51.8591485573600153 -23.1309375863005471, -51.8537025283489470 -23.1314529517922551, -51.8494141939098654 -23.1367636876939855, -51.8494447672621845 -23.1417018200828579, -51.8428680916890130 -23.1477879739358059, -51.8329397750505336 -23.1534045027156026, -51.8281184151327352 -23.1578146377352709, -51.8207651884626443 -23.1549225978995423, -51.8185771523137078 -23.1527163864520276, -51.8122585641813771 -23.1582433481519274, -51.8108089442773121 -23.1609632361643776, -51.8114275753222842 -23.1638824121435505, -51.8096392464540259 -23.1664640087070097, -51.7957016253296842 -23.1743939966855805, -51.7945688914411448 -23.1800350077094208, -51.7897425088096952 -23.1843724514274641, -51.7899110732374197 -23.1870137144113642, -51.7924865175386913 -23.1901995456724421, -51.7916430550828863 -23.1940305487707406, -51.7892543028437444 -23.1968940369301890, -51.7814883449111676 -23.1972098770341404, -51.7792611729647092 -23.1986143419782707, -51.7786877670267813 -23.2099559585006432, -51.7672417670938216 -23.2142531638523906, -51.7591433945519839 -23.2116481066747156, -51.7318669919680474 -23.2224813535315775, -51.7390103222685411 -23.2341051125608260, -51.7461241359200699 -23.2268484667832809, -51.7629629519786363 -23.2256448798073052, -51.7746800057776113 -23.2390694817711392, -51.7775084599474553 -23.2481893897285090, -51.7839546223079310 -23.2536962281983506, -51.7965986532052511 -23.2568396042642576, -51.8046744473678018 -23.2555384282558180, -51.8075437505436298 -23.2582399485147562, -51.8183496840906059 -23.2590762568636933, -51.8243803560685592 -23.2627337888332590, -51.8319567468063838 -23.2733906192815994, -51.8364641686864047 -23.2763398982676222, -51.8413477508979668 -23.2760388834876153, -51.8452949320154630 -23.2809567190772668, -51.8518749683550482 -23.2786886180851980, -51.8572953091311888 -23.2830252551113972, -51.8642343386437688 -23.2844113082352351, -51.8684743606032157 -23.2880113204660120, -51.8739012961078743 -23.2882970125970132, -51.8740134244799265 -23.2919456160972800, -51.8774949042663707 -23.2931660149995423, -51.8785614309652487 -23.2977932238781591, -51.8852988009988394 -23.3000601503555913, -51.8923247077190695 -23.3048767033970989, -51.8987134519641700 -23.3039181798800428, -51.8995742947178655 -23.3028304273822755, -51.8973055021471623 -23.3011240411415201, -51.8963755824671011 -23.2978390083634963, -51.9066012563428671 -23.2900686698332038, -51.9094716135240901 -23.2884336277097077, -51.9108529029390979 -23.2901893984219441, -51.9129291560556680 -23.2900121447446509, -51.9237937514803889 -23.2868890429949147, -51.9260114121968854 -23.2820608797057957, -51.9236497682221625 -23.2810467969720776, -51.9295369452737532 -23.2806994473215809, -51.9288382233053198 -23.2791062677400191, -51.9327746233501557 -23.2774640679123763, -51.9361264181995921 -23.2724584117262907, -51.9414404285329283 -23.2734433429358774, -51.9431099065968738 -23.2700734366397342, -51.9416178899535907 -23.2692109085565448, -51.9417530814395150 -23.2666467318611581, -51.9394149673268544 -23.2667812434595476, -51.9393744960361232 -23.2639476118927178))"
          ],
          [
           4111100,
           "Itambé",
           "4115200",
           "Maringá/PR",
           0.953026967666,
           0.0215921437579,
           "POLYGON ((-52.0438218825737522 -23.8109704537234279, -52.0468240713737487 -23.8052024773124344, -52.0462403025478579 -23.8021743061992197, -52.0393557674546514 -23.7919849694307572, -52.0343542382574356 -23.7755313986550618, -52.0340590303998738 -23.7696494439666139, -52.0363972065657663 -23.7643479018341850, -52.0417177028097058 -23.7601536274878526, -52.0510722339963650 -23.7564613313253403, -52.0562416081636457 -23.7514884194549722, -52.0597178835733985 -23.7438369829903309, -52.0611040590050607 -23.7309750265761750, -52.0645198909801366 -23.7282171880727333, -52.0802727333999087 -23.7220702823176453, -52.0952966258385572 -23.7200897764220144, -52.0954686751392160 -23.7170231862709784, -52.0916835374652578 -23.7095746692355647, -52.0946032953057738 -23.7063162797724658, -52.1115408866025973 -23.7055228421054380, -52.1176053119355629 -23.7018952458688545, -52.1192429917705908 -23.6971035365988882, -52.1184629647939346 -23.6926895129106470, -52.1130195096426405 -23.6845985444871872, -52.1124877683957379 -23.6805954839943524, -52.1160950120751068 -23.6727942186781775, -52.1140199721439785 -23.6716678456944578, -52.1092654804175481 -23.6736127285445264, -52.1051593387324488 -23.6728766316512065, -52.1035199492861807 -23.6709169621480555, -52.1025766674791839 -23.6628463804560738, -52.0996059090853691 -23.6609037728907765, -52.0954911240161209 -23.6614038544042842, -52.0941064225733044 -23.6657642865924913, -52.0906588571205020 -23.6661451692640981, -52.0919066062048728 -23.6604220195604853, -52.0895978270780233 -23.6573952711747779, -52.0842707091258603 -23.6604361775874850, -52.0864413101183459 -23.6635217668160180, -52.0809319382582885 -23.6635791300727760, -52.0767379705808366 -23.6654595441225979, -52.0786241052182390 -23.6603672166736487, -52.0822958509726845 -23.6594622711668308, -52.0826291622060467 -23.6580502717026206, -52.0769936990998872 -23.6540092238465718, -52.0768270043627126 -23.6573637805140038, -52.0709875534328148 -23.6618952044001389, -52.0689595615344842 -23.6529969154752280, -52.0666287427222301 -23.6515797458085899, -52.0662077278043398 -23.6488126712677058, -52.0634614680722621 -23.6489219173125775, -52.0615253086460257 -23.6507976153176287, -52.0586541897390020 -23.6537175737070129, -52.0607209541087173 -23.6566180671700295, -52.0581930560646242 -23.6599845515457901, -52.0547034491048635 -23.6577764928907754, -52.0526113211554957 -23.6619570282941822, -52.0471072481009855 -23.6602081598786071, -52.0484382141522133 -23.6585118757224677, -52.0436355988038031 -23.6535108105754261, -52.0371050215794639 -23.6580430195696749, -52.0351152220898143 -23.6546829149845053, -52.0368784706648739 -23.6532566567692584, -52.0344936205841009 -23.6510170211186050, -52.0284551883561903 -23.6531146160466506, -52.0259419240804846 -23.6516683641036707, -52.0275955884656014 -23.6499709593921921, -52.0246305182837432 -23.6458474185234877, -52.0273547779006549 -23.6431509839306955, -52.0312551250239608 -23.6430750712574991, -52.0315993261479548 -23.6388058833847481, -52.0334916103494720 -23.6365374064760658, -52.0320371152206462 -23.6362725732206513, -52.0318890670267820 -23.6346370868320719, -52.0287365835264950 -23.6374112129570904, -52.0240566932617412 -23.6377154194310037, -52.0269094111403660 -23.6345458784894618, -52.0250439312324033 -23.6331936057002849, -52.0266148525933545 -23.6310501876160401, -52.0244246131053956 -23.6297244664109485, -52.0199757325939345 -23.6320856913015405, -52.0153619964589211 -23.6269075523416063, -52.0143029719046126 -23.6290231022343278, -52.0118323570775942 -23.6296593572934626, -52.0119439251719768 -23.6333693215369181, -52.0091928549662157 -23.6327771908146360, -52.0079324245417070 -23.6297330036751418, -52.0099299087382292 -23.6272658125671455, -52.0083681928377928 -23.6271013778263068, -52.0122606592020134 -23.6259590130979404, -52.0128713240522984 -23.6213422129727064, -52.0089004889663329 -23.6225567015305273, -52.0080720631751205 -23.6197247382060596, -52.0042200797927876 -23.6192402509367980, -52.0022732481118624 -23.6215356382590471, -51.9984421020213290 -23.6219348572078616, -51.9982768318103012 -23.6199769323894770, -51.9959271470201543 -23.6211090871146325, -51.9949512917686434 -23.6242463325021959, -51.9859329901153728 -23.6200691137985359, -51.9871597175468878 -23.6171364506865871, -51.9863289535183526 -23.6157718823664595, -51.9808561417974602 -23.6188109370750681, -51.9787193715017679 -23.6160863815812263, -51.9743121565807087 -23.6168619874906653, -51.9715928882012008 -23.6152551939719615, -51.9700579909834346 -23.6166692510849998, -51.9687670213808701 -23.6126848704104191, -51.9648808565662534 -23.6122143226328376, -51.9636004638902591 -23.6163076291936704, -51.9657417137090647 -23.6188492221138517, -51.9643116045968441 -23.6229874992736200, -51.9624344478914395 -23.6240242404263086, -51.9613051880839407 -23.6230897467943350, -51.9621399154247001 -23.6210808618922101, -51.9580502439235943 -23.6207635963628491, -51.9451599912405868 -23.6352603062181288, -51.9366405983848836 -23.6396977320646329, -51.9371194855757494 -23.6456633713674478, -51.9351759364203076 -23.6515805363126788, -51.9372476047930718 -23.6566188279964535, -51.9399135523685231 -23.6730356992380848, -51.9399333725270935 -23.6795863628203165, -51.9366012053812938 -23.6807423666668342, -51.9373570540847140 -23.6833083258185297, -51.9410143171569416 -23.6831214098251621, -51.9448759106946909 -23.6783352232918674, -51.9445192719467741 -23.6842076316768271, -51.9455766516411472 -23.6849346355249395, -51.9488239398729092 -23.6816816887588857, -51.9526264731331935 -23.6817319734517469, -51.9522117957377532 -23.6780803455314981, -51.9553470590195161 -23.6757661794655405, -51.9575708693001275 -23.6789714477740745, -51.9546314387898178 -23.6815517744947783, -51.9532905361293160 -23.6863065531048846, -51.9570992243496903 -23.6853396847785689, -51.9585469817577632 -23.6873244408702135, -51.9585488919178147 -23.6930653530835116, -51.9618173259088394 -23.6914748399918267, -51.9636035899337116 -23.6945289763311280, -51.9589097898548857 -23.6977279781636412, -51.9534883429126353 -23.6987123769745835, -51.9488277107301997 -23.7039033240790786, -51.9450690958620385 -23.7058913528036328, -51.9365441002299804 -23.7074512268925446, -51.9322963719799304 -23.7143799204968673, -51.9255470562516166 -23.7126994230399077, -51.9192352948729194 -23.7259725512921591, -51.9211556550094429 -23.7279567749851594, -51.9207446153716887 -23.7328436756950509, -51.9248558975815513 -23.7358500355506408, -51.9256259025133318 -23.7398755665041676, -51.9302087136611590 -23.7447210948026282, -51.9306079146235220 -23.7480756029066811, -51.9359638252702780 -23.7531325852006034, -51.9398541485500687 -23.7613845799343721, -51.9429109936473878 -23.7635199931531247, -51.9444054528493098 -23.7689359245532046, -51.9504367597486407 -23.7759950810081477, -51.9554105727397086 -23.7760492507722461, -51.9564629252237751 -23.7739449963644347, -51.9616051308720444 -23.7757800279259186, -51.9647174209721356 -23.7788715319955486, -51.9665969276060764 -23.7835080938234000, -51.9746569233782907 -23.7876861129237227, -51.9739673717967321 -23.7929829183269703, -51.9772732562557280 -23.7973673309375044, -51.9837984762186807 -23.7962099214506679, -51.9861847670133557 -23.7922853492893864, -51.9924610483386687 -23.7894248711608043, -51.9962670835590188 -23.7906024479445932, -52.0108236702761246 -23.7904747586031817, -52.0239662799198186 -23.7961128081595348, -52.0263258887287634 -23.7990689849456771, -52.0298764328510401 -23.8116224747973320, -52.0335241586129769 -23.8175724407155371, -52.0383275401837864 -23.8173817808444710, -52.0438218825737522 -23.8109704537234279))"
          ],
          [
           4114104,
           "Mandaguaçu",
           "4115200",
           "Maringá/PR",
           0.953086368683,
           0.0259263762249,
           "POLYGON ((-51.9625388286040106 -23.1616193131807222, -51.9645642556358212 -23.1659579556950348, -51.9643271134055453 -23.1701428096429254, -51.9581454731350618 -23.1743256473107522, -51.9591589092561890 -23.1792478311224386, -51.9632879998412704 -23.1829106349178460, -51.9663706662731784 -23.1824684949250468, -51.9632371944409215 -23.1864588686818252, -51.9657508283380025 -23.1921901626458293, -51.9727540100894316 -23.1927128126461639, -51.9733950576357415 -23.1914673964031977, -51.9768633425691746 -23.1963750462713278, -51.9734543787165535 -23.1995199790637230, -51.9757382394281535 -23.2025170120504072, -51.9732791125409790 -23.2046632647977731, -51.9682292411864637 -23.2035593047181123, -51.9656038494380823 -23.2064821966959585, -51.9682439819741262 -23.2082050018593122, -51.9682790051718939 -23.2159007272367148, -51.9609367709152252 -23.2187110915435824, -51.9685516895088426 -23.2270012804846715, -51.9659668931575425 -23.2302432744075418, -51.9611219871899266 -23.2314116277443645, -51.9577232846018546 -23.2306490889842507, -51.9585487696099904 -23.2335534135591502, -51.9571400958387244 -23.2375686535704631, -51.9613275488272848 -23.2380760924376659, -51.9635888599378859 -23.2409701260704082, -51.9683920445571630 -23.2394166848321220, -51.9697409089157532 -23.2403655550263011, -51.9686305942265108 -23.2432809304705188, -51.9632405435162354 -23.2452446523188314, -51.9682329544872346 -23.2478535864738092, -51.9628367551121073 -23.2504020619055609, -51.9629152227593067 -23.2546279591129519, -51.9643247257054668 -23.2522345852578383, -51.9657180750290877 -23.2538646010704610, -51.9656117571768164 -23.2553316903052405, -51.9694420417168317 -23.2551321280452044, -51.9712785094955620 -23.2576469202691101, -51.9687453737999476 -23.2610529496338927, -51.9695969337514612 -23.2621966714391988, -51.9666858921401627 -23.2647331202372811, -51.9679941386185646 -23.2647662953282293, -51.9678766233074612 -23.2660698770231420, -51.9658138249480430 -23.2704115610446820, -51.9675661746392166 -23.2744190471012757, -51.9729775347853433 -23.2749330519187652, -51.9732100239234001 -23.2780426674351020, -51.9777569485243021 -23.2817593801912039, -51.9775209358424490 -23.2966639442855694, -51.9824593614103492 -23.2947599311258955, -51.9865427106774973 -23.2967862835600954, -51.9903581689942484 -23.3020096017616538, -51.9923450798614795 -23.3083078697123938, -51.9975558786008492 -23.3110153893487109, -52.0016973033878003 -23.3116891767140828, -52.0052552732122422 -23.3103824204123384, -52.0082026411389506 -23.3125165484998433, -52.0089367433359939 -23.3108227185935561, -52.0103848892512133 -23.3144279154159335, -52.0135848119894604 -23.3162248858697581, -52.0175253597075198 -23.3147024694433753, -52.0223439407202477 -23.3162128475448185, -52.0295181699275417 -23.3250130384209342, -52.0341402086037306 -23.3249618553053324, -52.0350803454815036 -23.3236694144118815, -52.0371567119127008 -23.3253706133630772, -52.0411050405651281 -23.3248513744912884, -52.0462765056561807 -23.3311581761088860, -52.0466243076656383 -23.3354588060789752, -52.0499108504053538 -23.3393582826585657, -52.0576306290502657 -23.3380226671123410, -52.0651281105738235 -23.3391263241205138, -52.0675997848022121 -23.3432861742174964, -52.0767135809669526 -23.3473314461892301, -52.0791876536871996 -23.3581531358585153, -52.0821944218350836 -23.3618842845320387, -52.0724502638685181 -23.3682122840696138, -52.0737283794611017 -23.3754776110029070, -52.0813809508701411 -23.3891276226416380, -52.0902844720507119 -23.3924064761778823, -52.0949863291557449 -23.4003380424666148, -52.1087671624745212 -23.4050733696402631, -52.1187193246370839 -23.4024684815351520, -52.1376428114665487 -23.4172730374206708, -52.1419922755230800 -23.4177643775239517, -52.1486363894577494 -23.4142490292692287, -52.1495255230843782 -23.4089955253231778, -52.1440608862009185 -23.3927866411904688, -52.1450221562474781 -23.3873390428624930, -52.1510763751745117 -23.3782762454522981, -52.1509882488085736 -23.3725011688937911, -52.1483685731510604 -23.3684950785849423, -52.1639439874250570 -23.3642809714896202, -52.1691998143199385 -23.3564147760210403, -52.1783951160417132 -23.3493542409054271, -52.1709670873611344 -23.3417939327437693, -52.1673650678435479 -23.3351843347891759, -52.1606401318366011 -23.3305608311173955, -52.1591899516549233 -23.3268710287749172, -52.1524364468844510 -23.3208974493577443, -52.1442978863383360 -23.3041579130572245, -52.1405731849044969 -23.3021000609689963, -52.1254675306020090 -23.2995003799385358, -52.1130167055564471 -23.3036222768465677, -52.1142082416170069 -23.2950419432310696, -52.1170396365699276 -23.2919005537675048, -52.1147531705223628 -23.2866180943495351, -52.1045346462568659 -23.2840742288425417, -52.0935088995160527 -23.2717248383305559, -52.0903241960048149 -23.2623441737445660, -52.0841083832951881 -23.2599975340589253, -52.0822557007399496 -23.2556668010819863, -52.0826985386066212 -23.2505345815056899, -52.0860501311086068 -23.2432453730754673, -52.0802640342577092 -23.2336072002120773, -52.0805868953688673 -23.2298906007705455, -52.0709794505411878 -23.2299021138913986, -52.0671513909239252 -23.2177277539326496, -52.0628803540450349 -23.2130764702029069, -52.0611059107091592 -23.2053039804942500, -52.0587376800997959 -23.2038883927351094, -52.0708293500944137 -23.1896702910510726, -52.0676900830308682 -23.1881515267714917, -52.0649630193278199 -23.1840590269025029, -52.0582434028107741 -23.1785868842772516, -52.0483514952252904 -23.1676857925652371, -52.0484023671754699 -23.1661980342118454, -52.0454746548314233 -23.1652970601111861, -52.0436555106932133 -23.1629168999949115, -52.0385990023420391 -23.1606607419996067, -52.0357918036488059 -23.1609507194001480, -52.0273987142791725 -23.1566028120700480, -52.0234633457567384 -23.1577738238028701, -52.0193485130234308 -23.1560686291638831, -52.0097736299489952 -23.1596486467676073, -52.0080477392117473 -23.1574813984477146, -51.9991541105737269 -23.1553451758391589, -51.9940765769724180 -23.1585019634947571, -51.9872933469104055 -23.1595166451770069, -51.9774906763535682 -23.1547781164168782, -51.9733765342995753 -23.1556016822717652, -51.9732640336082454 -23.1585345009664252, -51.9659303779845345 -23.1571836634952319, -51.9625388286040106 -23.1616193131807222))"
          ],
          [
           4114807,
           "Marialva",
           "4115200",
           "Maringá/PR",
           1.99828251932,
           0.0420752115599,
           "POLYGON ((-51.9997501137767131 -23.5565708664522617, -51.9975755746530126 -23.5562432515247906, -51.9959923928346370 -23.5580017768604648, -51.9934556886290693 -23.5557849345270824, -51.9968550126486662 -23.5531165974529699, -51.9972325453456392 -23.5473370629550232, -51.9925334185823544 -23.5490491131260455, -51.9909786697297704 -23.5482303019867913, -51.9893685667059344 -23.5463511802627181, -51.9906773293951687 -23.5446640853791678, -51.9900111062275414 -23.5422285531051898, -51.9857956330619686 -23.5424168459606449, -51.9854465702030097 -23.5390350290433048, -51.9809419011477871 -23.5369378388101609, -51.9816444425369468 -23.5344794097968588, -51.9789040364920538 -23.5313436473913953, -51.9813808692317139 -23.5291609460207951, -51.9810668493555568 -23.5236188981935470, -51.9835538219512614 -23.5193441938794194, -51.9811521689373990 -23.5183473700350305, -51.9806518688885717 -23.5148742314605670, -51.9768705200584122 -23.5161871049509159, -51.9772769075032102 -23.5206725806750114, -51.9745999081591776 -23.5195601678673825, -51.9698671287649177 -23.5205121074477574, -51.9667862708696475 -23.5147760326877346, -51.9683688663300813 -23.5136188696150725, -51.9675633957340892 -23.5123782098864353, -51.9691957425894202 -23.5071449298945367, -51.9664575057092861 -23.5042391619077762, -51.9607034723873085 -23.5055394394934751, -51.9590881362084929 -23.5027872307460370, -51.9590884635617272 -23.4976184294469022, -51.9558421016316174 -23.4946733511941375, -51.9560545205995936 -23.4930894849916854, -51.9525122043746705 -23.4912505791508579, -51.9519301631464714 -23.4870362373324610, -51.9486150615358042 -23.4851424764440821, -51.9414188555956571 -23.4886315896760607, -51.9418552947859666 -23.4837276000486668, -51.9405703767214391 -23.4817395182641349, -51.9383230167937313 -23.4801376269498974, -51.9337867950245027 -23.4805496234662883, -51.9301063240475855 -23.4758104094228202, -51.9174225377199150 -23.4787625113807508, -51.9115394462883728 -23.4770667587238790, -51.9177084061179812 -23.4874882662704181, -51.9190990529788792 -23.4970022220748547, -51.9224370315437227 -23.5001135013369549, -51.9094389060805952 -23.5099142950086843, -51.9226570983463489 -23.5304536459189535, -51.9281988529946261 -23.5338604711837434, -51.9202967772744159 -23.5428488586878188, -51.9201627432159967 -23.5458894404452508, -51.9152843402001167 -23.5513285905419707, -51.9183468528249819 -23.5538442730946826, -51.9123299233872331 -23.5607617197774744, -51.9113447268775872 -23.5589479922559804, -51.9051591259928387 -23.5558315068185493, -51.9024750372930725 -23.5576888037952017, -51.8997934828828988 -23.5559315545975210, -51.8964577957905817 -23.5461665359568428, -51.8935145548527998 -23.5441926679571907, -51.8930742647654597 -23.5402915069474261, -51.8896863243643338 -23.5410921643718325, -51.8874849971348908 -23.5389784338076424, -51.8869306217507642 -23.5359764122815704, -51.8811002557721395 -23.5330380609577219, -51.8808779748386542 -23.5262500474017315, -51.8794453431280544 -23.5243470333888354, -51.8753138369639828 -23.5224397089253898, -51.8678851158053931 -23.5233300467442064, -51.8637254869416324 -23.5167462224601422, -51.8590147319442849 -23.5158666090567294, -51.8529605319029656 -23.5108187027208828, -51.8496016557917301 -23.5047365427572004, -51.8467021803613193 -23.4967329551616899, -51.8525132639759363 -23.4905119137937390, -51.8534712514970124 -23.4863736402312497, -51.8534940223312333 -23.4579305885258123, -51.8511988796245760 -23.4549050398356940, -51.8510324708718144 -23.4547953783040271, -51.8459838351857911 -23.4477925122146189, -51.8456279923379384 -23.4445181175170774, -51.8409677081931477 -23.4518011512021189, -51.8331472270628524 -23.4586966850039857, -51.8266052095627288 -23.4595560483729173, -51.8064763047376573 -23.4450803763582485, -51.8029885368914051 -23.4377727318260440, -51.8036237946024016 -23.4294193106526336, -51.8018825020757845 -23.4175416838016304, -51.8004774858472388 -23.4124427733153198, -51.7971347876402888 -23.4090818134748702, -51.8192689027376332 -23.3927881457562989, -51.8273329634454853 -23.3932423978183692, -51.8335011813343840 -23.3957294819300046, -51.8392578694550821 -23.3933850069124674, -51.8430171219425802 -23.3936634154342187, -51.8461505667951883 -23.3901110357955986, -51.8457502632639944 -23.3881254406365429, -51.8410978454891165 -23.3855000246064151, -51.8447869760380513 -23.3815131015483644, -51.8425783903803676 -23.3797995090400832, -51.8421388728106649 -23.3754073056026073, -51.8395738678397038 -23.3723954841642012, -51.8432408453886637 -23.3664308880750013, -51.8393115823636208 -23.3590655673220340, -51.8434851866919644 -23.3545284615192372, -51.8473313802389839 -23.3535949346584744, -51.8491860934634019 -23.3563062647223205, -51.8510394478122407 -23.3534608385468232, -51.8449966304900727 -23.3467588622316384, -51.8467807343433833 -23.3446859743781943, -51.8459244583470422 -23.3416887219569276, -51.8469834766061126 -23.3419397335318308, -51.8506704253997555 -23.3367197149428307, -51.8493607004359092 -23.3321215298846596, -51.8473746259381869 -23.3319354259790543, -51.8478491496185256 -23.3304645398065986, -51.8459532897124973 -23.3294159608778386, -51.8463997995111185 -23.3279239370399978, -51.8427922644514183 -23.3296269984871287, -51.8345381967803291 -23.3280376050514064, -51.8328751308825417 -23.3210265650238853, -51.8282310489237261 -23.3152729579805964, -51.8281589997379797 -23.3234350609792500, -51.8269033555054079 -23.3261450105837298, -51.8249672329513942 -23.3269818513313112, -51.8115870664898921 -23.3224970797763831, -51.8025038059058716 -23.3238077040622329, -51.8040162587433315 -23.3269776757790623, -51.8028207701623842 -23.3310509976054163, -51.7960292249687200 -23.3325891503689604, -51.7932057197681388 -23.3350890102495896, -51.7909236810829725 -23.3409699208251595, -51.7851460405572652 -23.3370627568407372, -51.7810895819186499 -23.3377038943192474, -51.7763522249751418 -23.3354798331277493, -51.7743700058710488 -23.3387601687467736, -51.7774198020821359 -23.3406688691729300, -51.7802673524562920 -23.3505074145854792, -51.7784224508354214 -23.3502899378303255, -51.7775603966949234 -23.3520158762316328, -51.7737598887078434 -23.3507697432290229, -51.7729011449717973 -23.3522935446113706, -51.7746338022081432 -23.3546086459721778, -51.7727951850496879 -23.3551248981954700, -51.7736456361371324 -23.3558571621782676, -51.7692384427998604 -23.3560850503847064, -51.7678994970640929 -23.3574250941927062, -51.7691432711450261 -23.3583831887331144, -51.7680656594026232 -23.3631003855742847, -51.7712469221077072 -23.3655968073467193, -51.7709065574915712 -23.3699815760888328, -51.7638768889072480 -23.3727999038924281, -51.7666314754621908 -23.3750809578198755, -51.7725886296614703 -23.3754501205265797, -51.7750106613129333 -23.3784428673444040, -51.7705466497080806 -23.3808521070390611, -51.7681535231665180 -23.3854214823155075, -51.7714881787364334 -23.3877260840914687, -51.7720518881840235 -23.3903458550771006, -51.7705113944852542 -23.3909060014107695, -51.7683777655213930 -23.3972000659302353, -51.7752775971833330 -23.4005264873075021, -51.7689441207745062 -23.4046787588176244, -51.7690626676079546 -23.4077623695376928, -51.7722637576662237 -23.4139844891927851, -51.7688176805914395 -23.4172925113402925, -51.7658440416691406 -23.4161761064420944, -51.7638308768933939 -23.4173584253509830, -51.7657498943420933 -23.4213133847048880, -51.7687875092361196 -23.4206068314400682, -51.7727101811299235 -23.4222673648469595, -51.7661739543644330 -23.4255447758706623, -51.7723703327246199 -23.4324441290932555, -51.7626813418704046 -23.4321116524307627, -51.7623504102431866 -23.4337475857823847, -51.7687071035499571 -23.4432890869217658, -51.7652926376450750 -23.4444315155020035, -51.7639573557473227 -23.4482839539412566, -51.7650991215272143 -23.4517422797823656, -51.7681683799667098 -23.4538537197732921, -51.7663798748313297 -23.4571816816892351, -51.7674073880405103 -23.4606888991733058, -51.7620018447093457 -23.4639532880137835, -51.7594568649423081 -23.4684082956063094, -51.7609492566028848 -23.4752206942795851, -51.7594118134044265 -23.4810988691174884, -51.7629071328578334 -23.4863065678937346, -51.7568681457482853 -23.4899027364220956, -51.7538682187432642 -23.4937157278984614, -51.7477933783616777 -23.4953535804033891, -51.7262368168755415 -23.4920518337250996, -51.7148895382215983 -23.4925321040732911, -51.7117301596191510 -23.4972822017122098, -51.7098581452371491 -23.5035618051331312, -51.7687852528371195 -23.5511346499441174, -51.7723032217162427 -23.5576718722590499, -51.7775698773479007 -23.5626538268126069, -51.7780385734213837 -23.5733383500847253, -51.7824070734276347 -23.5778849985937882, -51.7871249861291858 -23.5801921058809398, -51.7877304888709205 -23.5823530805301971, -51.7919191982123834 -23.5857941339920671, -51.7955020801568367 -23.5869793738989415, -51.8028887652043295 -23.6034455693575183, -51.8101786184484467 -23.6071475089503338, -51.8144544577070292 -23.6054731862384983, -51.8159383300898071 -23.6066997481947851, -51.8196519536746791 -23.6058332019406976, -51.8235442689527872 -23.6072568251423149, -51.8304023954541435 -23.6186543965831106, -51.8299526795724432 -23.6253083374098196, -51.8352350508568520 -23.6277086504338172, -51.8367152719921478 -23.6298988260699048, -51.8358313526347843 -23.6319766278190855, -51.8385334655469592 -23.6363993884210117, -51.8437069145424516 -23.6389621792611138, -51.8472974551134484 -23.6378153458015277, -51.8474700925706884 -23.6352908103226014, -51.8518829678246789 -23.6339558171072213, -51.8522223072136512 -23.6383871635367200, -51.8548283239679222 -23.6414699729608628, -51.8568968896796605 -23.6387405809130087, -51.8584471868880996 -23.6387015161619729, -51.8589653834456499 -23.6417328753718721, -51.8622680123588680 -23.6408073398868055, -51.8625804404349537 -23.6426933153441610, -51.8647274531094240 -23.6424295693690851, -51.8662939857787819 -23.6470122618063670, -51.8691307748653117 -23.6431407919139929, -51.8671394483268386 -23.6405729441859762, -51.8685077263504581 -23.6381568444627419, -51.8720867358141504 -23.6395867620194053, -51.8768057268027860 -23.6457576212172285, -51.8818093064542722 -23.6470660313722192, -51.8886276001835540 -23.6451265633401704, -51.8890349732853338 -23.6480832509412267, -51.8847470417425143 -23.6512738054417468, -51.8850988070642529 -23.6554887102357156, -51.8887514710035589 -23.6541414196907454, -51.8897825050585197 -23.6551942164398952, -51.8887208427926225 -23.6569035236786362, -51.8849658683801067 -23.6577196530395213, -51.8863168686285690 -23.6602117922403750, -51.8919359685700670 -23.6596727790754358, -51.8911694700949511 -23.6626595274152010, -51.8933391879531314 -23.6600781134141585, -51.8929889937469966 -23.6566050827582899, -51.8994292331725546 -23.6535607877001439, -51.9026193191262450 -23.6545903837391620, -51.9010612427820774 -23.6565800645183231, -51.9051071523731480 -23.6567529933558944, -51.9055289982646286 -23.6634398673559758, -51.9083977258742948 -23.6610860717647711, -51.9107981063474995 -23.6613007336418946, -51.9109784725783925 -23.6638924295918969, -51.9133187765402795 -23.6662271172875762, -51.9127218272504933 -23.6718371313784814, -51.9190956841184743 -23.6669987814685214, -51.9234917366542845 -23.6685486541969681, -51.9221558342243270 -23.6651147872175898, -51.9230841054470602 -23.6622076288789458, -51.9250409258979744 -23.6652472834353489, -51.9297733941268120 -23.6664152095942200, -51.9297166442077014 -23.6711372573784615, -51.9318907777371805 -23.6761462986127640, -51.9379594334810122 -23.6772912102211421, -51.9399135523685231 -23.6730356992380848, -51.9372476047930718 -23.6566188279964535, -51.9351759364203076 -23.6515805363126788, -51.9371194855757494 -23.6456633713674478, -51.9366405983848836 -23.6396977320646329, -51.9451599912405868 -23.6352603062181288, -51.9580502439235943 -23.6207635963628491, -51.9621399154247001 -23.6210808618922101, -51.9613051880839407 -23.6230897467943350, -51.9624344478914395 -23.6240242404263086, -51.9643116045968441 -23.6229874992736200, -51.9657417137090647 -23.6188492221138517, -51.9636004638902591 -23.6163076291936704, -51.9648808565662534 -23.6122143226328376, -51.9687670213808701 -23.6126848704104191, -51.9700579909834346 -23.6166692510849998, -51.9715928882012008 -23.6152551939719615, -51.9743121565807087 -23.6168619874906653, -51.9787193715017679 -23.6160863815812263, -51.9808561417974602 -23.6188109370750681, -51.9863289535183526 -23.6157718823664595, -51.9871597175468878 -23.6171364506865871, -51.9859329901153728 -23.6200691137985359, -51.9949512917686434 -23.6242463325021959, -51.9959271470201543 -23.6211090871146325, -51.9982768318103012 -23.6199769323894770, -51.9984421020213290 -23.6219348572078616, -52.0022732481118624 -23.6215356382590471, -52.0042200797927876 -23.6192402509367980, -52.0080720631751205 -23.6197247382060596, -52.0089004889663329 -23.6225567015305273, -52.0128713240522984 -23.6213422129727064, -52.0122606592020134 -23.6259590130979404, -52.0083681928377928 -23.6271013778263068, -52.0099299087382292 -23.6272658125671455, -52.0079324245417070 -23.6297330036751418, -52.0091928549662157 -23.6327771908146360, -52.0119439251719768 -23.6333693215369181, -52.0118323570775942 -23.6296593572934626, -52.0143029719046126 -23.6290231022343278, -52.0153619964589211 -23.6269075523416063, -52.0199757325939345 -23.6320856913015405, -52.0244246131053956 -23.6297244664109485, -52.0266148525933545 -23.6310501876160401, -52.0250439312324033 -23.6331936057002849, -52.0269094111403660 -23.6345458784894618, -52.0240566932617412 -23.6377154194310037, -52.0287365835264950 -23.6374112129570904, -52.0318890670267820 -23.6346370868320719, -52.0320371152206462 -23.6362725732206513, -52.0334916103494720 -23.6365374064760658, -52.0315993261479548 -23.6388058833847481, -52.0312551250239608 -23.6430750712574991, -52.0273547779006549 -23.6431509839306955, -52.0246305182837432 -23.6458474185234877, -52.0275955884656014 -23.6499709593921921, -52.0259419240804846 -23.6516683641036707, -52.0284551883561903 -23.6531146160466506, -52.0344936205841009 -23.6510170211186050, -52.0368784706648739 -23.6532566567692584, -52.0351152220898143 -23.6546829149845053, -52.0371050215794639 -23.6580430195696749, -52.0436355988038031 -23.6535108105754261, -52.0484382141522133 -23.6585118757224677, -52.0471072481009855 -23.6602081598786071, -52.0526113211554957 -23.6619570282941822, -52.0547034491048635 -23.6577764928907754, -52.0581930560646242 -23.6599845515457901, -52.0607209541087173 -23.6566180671700295, -52.0586541897390020 -23.6537175737070129, -52.0615253086460257 -23.6507976153176287, -52.0595549480024147 -23.6485427640373018, -52.0591788740057950 -23.6437364650657855, -52.0547922103921792 -23.6436896508566292, -52.0530227672868477 -23.6427089446620471, -52.0547912589094040 -23.6402400763184346, -52.0458384719678406 -23.6376600086024951, -52.0473889256583675 -23.6348951517898058, -52.0448414799503212 -23.6343071075868920, -52.0466890093902066 -23.6328546997845024, -52.0453796720341870 -23.6308679444999825, -52.0479956137065756 -23.6282202828397203, -52.0441731739527995 -23.6278986942692768, -52.0452441477991670 -23.6256711473055816, -52.0420613544479238 -23.6235317024260780, -52.0400862372899837 -23.6246069903202738, -52.0346619691745218 -23.6226800678307995, -52.0357932470606670 -23.6177962481982604, -52.0371047985475457 -23.6172496420572884, -52.0363626842903955 -23.6165434907894110, -52.0401830807845158 -23.6132243332363601, -52.0383772169349754 -23.6111031023262399, -52.0392206281294420 -23.6106642817311467, -52.0357599829368382 -23.6081954007970580, -52.0291264890961429 -23.6071032263328107, -52.0284019152161932 -23.6039206713019212, -52.0319893693139193 -23.6050997625439436, -52.0303122703949157 -23.6021804210895425, -52.0306865592372674 -23.5982464393216560, -52.0274863433200494 -23.5958881003555234, -52.0295347723118766 -23.5923751910621604, -52.0288047782178751 -23.5899516125768400, -52.0260434089760793 -23.5885311522907841, -52.0201018112495603 -23.5895864707389933, -52.0221821832611226 -23.5855171958618826, -52.0259282310030358 -23.5831983308382291, -52.0190279164051503 -23.5844345883854771, -52.0172170936938869 -23.5807336245570696, -52.0183374690988671 -23.5779572330398537, -52.0148268485801282 -23.5759593387524546, -52.0147016575554062 -23.5720370787481670, -52.0075352803289093 -23.5650337414139699, -52.0056743860640154 -23.5659819326200477, -52.0043980520284208 -23.5629276011278534, -52.0069303765355926 -23.5617551693655400, -51.9997501137767131 -23.5565708664522617))"
          ],
          [
           4115200,
           "Maringá",
           "4115200",
           "Maringá/PR",
           1.26712273965,
           0.0430218331114,
           "POLYGON ((-52.0949863291557449 -23.4003380424666148, -52.0902844720507119 -23.3924064761778823, -52.0813809508701411 -23.3891276226416380, -52.0737283794611017 -23.3754776110029070, -52.0724502638685181 -23.3682122840696138, -52.0821944218350836 -23.3618842845320387, -52.0791876536871996 -23.3581531358585153, -52.0767135809669526 -23.3473314461892301, -52.0675997848022121 -23.3432861742174964, -52.0651281105738235 -23.3391263241205138, -52.0576306290502657 -23.3380226671123410, -52.0499108504053538 -23.3393582826585657, -52.0466243076656383 -23.3354588060789752, -52.0462765056561807 -23.3311581761088860, -52.0411050405651281 -23.3248513744912884, -52.0371567119127008 -23.3253706133630772, -52.0350803454815036 -23.3236694144118815, -52.0341402086037306 -23.3249618553053324, -52.0295181699275417 -23.3250130384209342, -52.0223439407202477 -23.3162128475448185, -52.0175253597075198 -23.3147024694433753, -52.0135848119894604 -23.3162248858697581, -52.0103848892512133 -23.3144279154159335, -52.0089367433359939 -23.3108227185935561, -52.0082026411389506 -23.3125165484998433, -52.0052552732122422 -23.3103824204123384, -52.0016973033878003 -23.3116891767140828, -51.9975558786008492 -23.3110153893487109, -51.9923450798614795 -23.3083078697123938, -51.9903581689942484 -23.3020096017616538, -51.9865427106774973 -23.2967862835600954, -51.9824593614103492 -23.2947599311258955, -51.9775209358424490 -23.2966639442855694, -51.9777569485243021 -23.2817593801912039, -51.9732100239234001 -23.2780426674351020, -51.9729775347853433 -23.2749330519187652, -51.9675661746392166 -23.2744190471012757, -51.9658138249480430 -23.2704115610446820, -51.9678766233074612 -23.2660698770231420, -51.9679941386185646 -23.2647662953282293, -51.9666858921401627 -23.2647331202372811, -51.9695969337514612 -23.2621966714391988, -51.9687453737999476 -23.2610529496338927, -51.9712785094955620 -23.2576469202691101, -51.9694420417168317 -23.2551321280452044, -51.9656117571768164 -23.2553316903052405, -51.9657180750290877 -23.2538646010704610, -51.9607952976647880 -23.2577810766353537, -51.9531185416873313 -23.2584592571889175, -51.9502604836343949 -23.2600727677439636, -51.9498412664612488 -23.2635809376101292, -51.9464079867391320 -23.2638781599490585, -51.9452275680977209 -23.2621388513268812, -51.9442041306160718 -23.2640569208901411, -51.9393744960361232 -23.2639476118927178, -51.9394149673268544 -23.2667812434595476, -51.9417530814395150 -23.2666467318611581, -51.9416178899535907 -23.2692109085565448, -51.9431099065968738 -23.2700734366397342, -51.9414404285329283 -23.2734433429358774, -51.9361264181995921 -23.2724584117262907, -51.9327746233501557 -23.2774640679123763, -51.9288382233053198 -23.2791062677400191, -51.9295369452737532 -23.2806994473215809, -51.9236497682221625 -23.2810467969720776, -51.9260114121968854 -23.2820608797057957, -51.9237937514803889 -23.2868890429949147, -51.9129291560556680 -23.2900121447446509, -51.9108529029390979 -23.2901893984219441, -51.9094716135240901 -23.2884336277097077, -51.9066012563428671 -23.2900686698332038, -51.8963755824671011 -23.2978390083634963, -51.8973055021471623 -23.3011240411415201, -51.8995742947178655 -23.3028304273822755, -51.8987134519641700 -23.3039181798800428, -51.8923247077190695 -23.3048767033970989, -51.8852988009988394 -23.3000601503555913, -51.8785614309652487 -23.2977932238781591, -51.8774949042663707 -23.2931660149995423, -51.8740134244799265 -23.2919456160972800, -51.8739012961078743 -23.2882970125970132, -51.8684743606032157 -23.2880113204660120, -51.8711143807240660 -23.3020452122167399, -51.8699882424633643 -23.3046129331403336, -51.8667965817967911 -23.3047004317794517, -51.8630874170506218 -23.3019306763595750, -51.8555656151609696 -23.3067124436243489, -51.8531341325341373 -23.3115753027579444, -51.8524343862379169 -23.3170917873560484, -51.8470723332215471 -23.3161681035750803, -51.8481582502030278 -23.3113356406272487, -51.8462611267495390 -23.3102599867089566, -51.8422386714774461 -23.3114095487116515, -51.8366119021175678 -23.3170719582042807, -51.8361954251786869 -23.3217772732025423, -51.8395261264295755 -23.3252725674749399, -51.8430800331170190 -23.3242818167523751, -51.8463997995111185 -23.3279239370399978, -51.8459532897124973 -23.3294159608778386, -51.8478491496185256 -23.3304645398065986, -51.8473746259381869 -23.3319354259790543, -51.8493607004359092 -23.3321215298846596, -51.8506704253997555 -23.3367197149428307, -51.8469834766061126 -23.3419397335318308, -51.8459244583470422 -23.3416887219569276, -51.8467807343433833 -23.3446859743781943, -51.8449966304900727 -23.3467588622316384, -51.8510394478122407 -23.3534608385468232, -51.8491860934634019 -23.3563062647223205, -51.8473313802389839 -23.3535949346584744, -51.8434851866919644 -23.3545284615192372, -51.8393115823636208 -23.3590655673220340, -51.8432408453886637 -23.3664308880750013, -51.8395738678397038 -23.3723954841642012, -51.8421388728106649 -23.3754073056026073, -51.8425783903803676 -23.3797995090400832, -51.8447869760380513 -23.3815131015483644, -51.8410978454891165 -23.3855000246064151, -51.8457502632639944 -23.3881254406365429, -51.8461505667951883 -23.3901110357955986, -51.8430171219425802 -23.3936634154342187, -51.8424843707570631 -23.4003959156389669, -51.8405509920345935 -23.4025686129510859, -51.8398810456736783 -23.4065294367840124, -51.8451850573444517 -23.4063616547664992, -51.8481139504983730 -23.4103314664239974, -51.8637441595652717 -23.4160990201536379, -51.8677678801834645 -23.4149309995659110, -51.8779185371107587 -23.4159342931330912, -51.8876798397527637 -23.4399570303925771, -51.8932299598947111 -23.4454259696327654, -51.8970870001649018 -23.4527459996281209, -51.9047079999741641 -23.4593749995565304, -51.9058189999468595 -23.4649870002498346, -51.9038190003465729 -23.4703840000215109, -51.9056409215912140 -23.4768539359603210, -51.9115394462883728 -23.4770667587238790, -51.9174225377199150 -23.4787625113807508, -51.9301063240475855 -23.4758104094228202, -51.9337867950245027 -23.4805496234662883, -51.9383230167937313 -23.4801376269498974, -51.9405703767214391 -23.4817395182641349, -51.9418552947859666 -23.4837276000486668, -51.9414188555956571 -23.4886315896760607, -51.9486150615358042 -23.4851424764440821, -51.9519301631464714 -23.4870362373324610, -51.9525122043746705 -23.4912505791508579, -51.9560545205995936 -23.4930894849916854, -51.9558421016316174 -23.4946733511941375, -51.9590884635617272 -23.4976184294469022, -51.9590881362084929 -23.5027872307460370, -51.9607034723873085 -23.5055394394934751, -51.9664575057092861 -23.5042391619077762, -51.9691957425894202 -23.5071449298945367, -51.9675633957340892 -23.5123782098864353, -51.9683688663300813 -23.5136188696150725, -51.9667862708696475 -23.5147760326877346, -51.9698671287649177 -23.5205121074477574, -51.9745999081591776 -23.5195601678673825, -51.9772769075032102 -23.5206725806750114, -51.9768705200584122 -23.5161871049509159, -51.9806518688885717 -23.5148742314605670, -51.9811521689373990 -23.5183473700350305, -51.9835538219512614 -23.5193441938794194, -51.9810668493555568 -23.5236188981935470, -51.9813808692317139 -23.5291609460207951, -51.9789040364920538 -23.5313436473913953, -51.9816444425369468 -23.5344794097968588, -51.9809419011477871 -23.5369378388101609, -51.9854465702030097 -23.5390350290433048, -51.9857956330619686 -23.5424168459606449, -51.9900111062275414 -23.5422285531051898, -51.9906773293951687 -23.5446640853791678, -51.9893685667059344 -23.5463511802627181, -51.9909786697297704 -23.5482303019867913, -51.9925334185823544 -23.5490491131260455, -51.9972325453456392 -23.5473370629550232, -51.9968550126486662 -23.5531165974529699, -51.9934556886290693 -23.5557849345270824, -51.9959923928346370 -23.5580017768604648, -51.9975755746530126 -23.5562432515247906, -51.9997501137767131 -23.5565708664522617, -52.1002707410018502 -23.5196632841332303, -52.1002595804152406 -23.5195539355656251, -52.0949649082039059 -23.5205579279059975, -52.0918664568714576 -23.5177743535035688, -52.0852125682054066 -23.5172215618255791, -52.0849079480433375 -23.5154668154411297, -52.0880442752230692 -23.5115466238775639, -52.0869535117951159 -23.5064580304137394, -52.0704872488873889 -23.4842357988429740, -52.0673001432869569 -23.4832576548168959, -52.0587682291704255 -23.4761621675499441, -52.0499956807560125 -23.4729767940437455, -52.0422670293998522 -23.4675377033022983, -52.0374355314245918 -23.4667892542206573, -52.0283023854466933 -23.4685117347287360, -52.0181819996994932 -23.4659619903535486, -52.0130519996500311 -23.4626480101974835, -52.0064708400572044 -23.4549080102963785, -52.0450393802631197 -23.4394113748350605, -52.0463227595876674 -23.4385239598128692, -52.0482381950366175 -23.4280509804683561, -52.0478787468067026 -23.4226734672067209, -52.0548880925114190 -23.4174600388496401, -52.0740262538085403 -23.4104790838425743, -52.0767436129273733 -23.4065420614668938, -52.0821423214109700 -23.4058845041664654, -52.0893679297860785 -23.4016667080520619, -52.0949863291557449 -23.4003380424666148))"
          ],
          [
           4117404,
           "Ourizona",
           "4115200",
           "Maringá/PR",
           0.731737110048,
           0.0156215732495,
           "POLYGON ((-52.3048265729879063 -23.5729775744554786, -52.3095451826640101 -23.5671897113360842, -52.3246658844229842 -23.5540184223123106, -52.3220284588462619 -23.5522912041756740, -52.3210674109322440 -23.5484490674704148, -52.3179352709959176 -23.5469718986341832, -52.3185470339184349 -23.5446929895897483, -52.3152480697426085 -23.5454020007016993, -52.3155063649267618 -23.5406577405622102, -52.3087769502959645 -23.5381999608594583, -52.3067564362604571 -23.5343778322711046, -52.3080542479051473 -23.5329874156366827, -52.3011901597980113 -23.5303040095223537, -52.3036111869067213 -23.5254064419536917, -52.2978757587592327 -23.5240124496148155, -52.2946536335583119 -23.5212981364997518, -52.2934461534172215 -23.5162129253861281, -52.2955759998324652 -23.5133206841022684, -52.2947805458854305 -23.5111420080971243, -52.2978598020881691 -23.5074323837974362, -52.2960077967223924 -23.5063226419762827, -52.2972666884069213 -23.5016236573059132, -52.2929536450945989 -23.4994976698815208, -52.2915923179310766 -23.4961095487166745, -52.2884143107717705 -23.4942838269370213, -52.2880774202367320 -23.4891368261036178, -52.2856190964441225 -23.4872431344630286, -52.2805587273034007 -23.4713757076227694, -52.2762793950780065 -23.4690086749103557, -52.2731875447693142 -23.4622055257643751, -52.2732024834078288 -23.4583486725531429, -52.2769418536835815 -23.4572662026730541, -52.2751431763164760 -23.4553561856394026, -52.2772258065257347 -23.4556743540881030, -52.2767159493815257 -23.4534807007736958, -52.2780579618054730 -23.4528672660114808, -52.2766025241871262 -23.4511343614615839, -52.2776718252944761 -23.4471708864272159, -52.2753324530302166 -23.4451538140971820, -52.2749951254246525 -23.4423401348892639, -52.2753571798899088 -23.4400829921363538, -52.2765499669073961 -23.4399481253057047, -52.2731919280649890 -23.4386861318594697, -52.2733114587567798 -23.4358892349002303, -52.2696239946515675 -23.4336315147825189, -52.2677776253370894 -23.4283531131056293, -52.2655405257746111 -23.4268578750908318, -52.2625486620910351 -23.4276352085979624, -52.2599601461437828 -23.4251069670128800, -52.2605598086881855 -23.4239997765683938, -52.2567757717844188 -23.4228789398111985, -52.2573030532932421 -23.4208746261630267, -52.2556068842502555 -23.4203068904506040, -52.2528791091834819 -23.4145446103454447, -52.2458866338610051 -23.4101110273020367, -52.2460954042794583 -23.4057039472792781, -52.2425905915824842 -23.4014158403687134, -52.2398226482965242 -23.4017927012720861, -52.2386797817464981 -23.3995087794065739, -52.2367024045922790 -23.4004017747220701, -52.2350824503947138 -23.3971366925043185, -52.2280942585431376 -23.3913141659159578, -52.2242476692944706 -23.3920377865146065, -52.2207296383620587 -23.3888891188377102, -52.2150891462470668 -23.3909063395558974, -52.2096754730446264 -23.3844068743777029, -52.2021309713671826 -23.3788350544941181, -52.2015362892682901 -23.3758576537077261, -52.1962333720724132 -23.3720335484094903, -52.1945748342611751 -23.3647058139221144, -52.1913385438386968 -23.3600677448305305, -52.1849801382227838 -23.3533733767798708, -52.1790144611484266 -23.3499797436701897, -52.1783951160417132 -23.3493542409054271, -52.1691998143199385 -23.3564147760210403, -52.1639439874250570 -23.3642809714896202, -52.1483685731510604 -23.3684950785849423, -52.1509882488085736 -23.3725011688937911, -52.1510763751745117 -23.3782762454522981, -52.1450221562474781 -23.3873390428624930, -52.1440608862009185 -23.3927866411904688, -52.1495255230843782 -23.4089955253231778, -52.1486363894577494 -23.4142490292692287, -52.1505483247453299 -23.4147437301389800, -52.1546000826276668 -23.4203273482285113, -52.1665775827891594 -23.4245653107404337, -52.1736604040044085 -23.4375277232257986, -52.1764125767789437 -23.4380843037475870, -52.1746613638308077 -23.4416030100708213, -52.1754971910424956 -23.4427410499594657, -52.1826847509004779 -23.4481755955272888, -52.1865197083178600 -23.4490153977423574, -52.1890187183391276 -23.4522956488250998, -52.1910717338734003 -23.4595106398041366, -52.1887138103940060 -23.4639539705992206, -52.1885251838900786 -23.4677328552870108, -52.2013275818023885 -23.4765660117120092, -52.2132729500865480 -23.4806838877511836, -52.2130505945092978 -23.4847612115606239, -52.2208305953556646 -23.4929395275371462, -52.2202369384838789 -23.4942045534972976, -52.2219373055621645 -23.4958306347759276, -52.2214639159269609 -23.5033793236967767, -52.2255747880460035 -23.5079501567742568, -52.2261862389037788 -23.5126679345774505, -52.2274675974516072 -23.5128458933232878, -52.2261581773579451 -23.5178315458890665, -52.2242675110367713 -23.5187613729389682, -52.2257979179395306 -23.5211843129056888, -52.2242169925201551 -23.5229643266422954, -52.2275759180940895 -23.5245009496590569, -52.2270442577862468 -23.5283671657120976, -52.2352138638287329 -23.5289473894104617, -52.2344334834184565 -23.5301841703630998, -52.2365815509977551 -23.5322123493204458, -52.2359953252240530 -23.5357801190572218, -52.2381015059796709 -23.5341972897730329, -52.2397747432098072 -23.5357064582863700, -52.2388839548306123 -23.5379529575628794, -52.2417146123394218 -23.5408833013232766, -52.2413237867633029 -23.5422851834144353, -52.2443766541592254 -23.5409575790289978, -52.2499118104816489 -23.5424009405509196, -52.2500766004546904 -23.5462299543488598, -52.2530490819495412 -23.5480947921408870, -52.2574091714960218 -23.5472410432395236, -52.2576930685801813 -23.5517844730749175, -52.2627136409217314 -23.5505417179259098, -52.2636911482278492 -23.5513631955549840, -52.2624616266027715 -23.5533199233757387, -52.2639679694461847 -23.5549705093814623, -52.2664117538992627 -23.5552775765988258, -52.2674958668407612 -23.5526792265650329, -52.2686296934055576 -23.5542822950918094, -52.2721330294157269 -23.5530376900373426, -52.2728322792862059 -23.5564935328501974, -52.2752375952387638 -23.5590755898665520, -52.2735207975467233 -23.5622717426467716, -52.2751629982736858 -23.5633631994520556, -52.2784108090115751 -23.5636248428122030, -52.2777979552114402 -23.5611177460870636, -52.2803029996836699 -23.5612447519437183, -52.2848774345459333 -23.5582362049368612, -52.2863283251920166 -23.5619214369247061, -52.2847973571123248 -23.5651576823810842, -52.2878755763966865 -23.5656600706556674, -52.2901305634746905 -23.5701267847232998, -52.2929931136412165 -23.5692113612153094, -52.2953766677989620 -23.5712495019628818, -52.2963569261311818 -23.5681641735377525, -52.2979658231641906 -23.5679832083583278, -52.3016041276283659 -23.5730073986724733, -52.3048265729879063 -23.5729775744554786))"
          ],
          [
           4117503,
           "Paiçandu",
           "4115200",
           "Maringá/PR",
           0.601674637934,
           0.0151362732829,
           "POLYGON ((-52.1486363894577494 -23.4142490292692287, -52.1419922755230800 -23.4177643775239517, -52.1376428114665487 -23.4172730374206708, -52.1187193246370839 -23.4024684815351520, -52.1087671624745212 -23.4050733696402631, -52.0949863291557449 -23.4003380424666148, -52.0893679297860785 -23.4016667080520619, -52.0821423214109700 -23.4058845041664654, -52.0767436129273733 -23.4065420614668938, -52.0740262538085403 -23.4104790838425743, -52.0548880925114190 -23.4174600388496401, -52.0478787468067026 -23.4226734672067209, -52.0482381950366175 -23.4280509804683561, -52.0463227595876674 -23.4385239598128692, -52.0450393802631197 -23.4394113748350605, -52.0064708400572044 -23.4549080102963785, -52.0130519996500311 -23.4626480101974835, -52.0181819996994932 -23.4659619903535486, -52.0283023854466933 -23.4685117347287360, -52.0374355314245918 -23.4667892542206573, -52.0422670293998522 -23.4675377033022983, -52.0499956807560125 -23.4729767940437455, -52.0587682291704255 -23.4761621675499441, -52.0673001432869569 -23.4832576548168959, -52.0704872488873889 -23.4842357988429740, -52.0869535117951159 -23.5064580304137394, -52.0880442752230692 -23.5115466238775639, -52.0849079480433375 -23.5154668154411297, -52.0852125682054066 -23.5172215618255791, -52.0918664568714576 -23.5177743535035688, -52.0949649082039059 -23.5205579279059975, -52.1002595804152406 -23.5195539355656251, -52.1438798149014815 -23.5179650367570048, -52.1513825511637492 -23.5151117729898829, -52.1569968927923355 -23.5158561490420084, -52.1676284765728724 -23.5136618626048062, -52.1733483509456164 -23.5155595238529145, -52.1813279140519626 -23.5156456636164535, -52.1844803849617733 -23.5133374456665365, -52.1927740704669532 -23.5142895543194186, -52.1921016401785209 -23.5162756306158371, -52.1955520375964284 -23.5181750266561380, -52.1983842365432338 -23.5151380062139879, -52.1988813736763859 -23.5117778908369246, -52.2056605666817859 -23.5115483199989512, -52.2081338318108692 -23.5146014688826313, -52.2118220477492514 -23.5134072546410380, -52.2135455750681672 -23.5192038151039355, -52.2174332363547364 -23.5220383648785969, -52.2196009208457781 -23.5211244297485678, -52.2242169925201551 -23.5229643266422954, -52.2257979179395306 -23.5211843129056888, -52.2242675110367713 -23.5187613729389682, -52.2261581773579451 -23.5178315458890665, -52.2274675974516072 -23.5128458933232878, -52.2261862389037788 -23.5126679345774505, -52.2255747880460035 -23.5079501567742568, -52.2214639159269609 -23.5033793236967767, -52.2219373055621645 -23.4958306347759276, -52.2202369384838789 -23.4942045534972976, -52.2208305953556646 -23.4929395275371462, -52.2130505945092978 -23.4847612115606239, -52.2132729500865480 -23.4806838877511836, -52.2013275818023885 -23.4765660117120092, -52.1885251838900786 -23.4677328552870108, -52.1887138103940060 -23.4639539705992206, -52.1910717338734003 -23.4595106398041366, -52.1890187183391276 -23.4522956488250998, -52.1865197083178600 -23.4490153977423574, -52.1826847509004779 -23.4481755955272888, -52.1754971910424956 -23.4427410499594657, -52.1746613638308077 -23.4416030100708213, -52.1764125767789437 -23.4380843037475870, -52.1736604040044085 -23.4375277232257986, -52.1665775827891594 -23.4245653107404337, -52.1546000826276668 -23.4203273482285113, -52.1505483247453299 -23.4147437301389800, -52.1486363894577494 -23.4142490292692287))"
          ],
          [
           4120408,
           "Presidente Castelo Branco",
           "4115200",
           "Maringá/PR",
           0.636625480426,
           0.013754414604,
           "POLYGON ((-52.1790144611484266 -23.3499797436701897, -52.1828186401680796 -23.3456199931680999, -52.1841421409470172 -23.3385532958978388, -52.1903829530108396 -23.3348254090653313, -52.1885592762895385 -23.3335198911300381, -52.2156234001997177 -23.3261976425071680, -52.2166512227756812 -23.3275804553736634, -52.2287102033131987 -23.3181247513561516, -52.2385035856718787 -23.3143419456242214, -52.2347323200405071 -23.3110174946615984, -52.2283835821365869 -23.3004201013065995, -52.2189005756010260 -23.2886586362869821, -52.2293258099381319 -23.2835935744838025, -52.2395193051717683 -23.2743088693587765, -52.2440297703575993 -23.2682321278103927, -52.2376035351749692 -23.2647968426001626, -52.2311255449079113 -23.2572355883516479, -52.2187425979924456 -23.2479806948531404, -52.2158982366142936 -23.2479466240374109, -52.2103152669359929 -23.2526951685471204, -52.2010528479105460 -23.2552856018489820, -52.1948090375070137 -23.2598364250109739, -52.1881715758574956 -23.2623135833051720, -52.1789589459985450 -23.2597193818439791, -52.1759117794050553 -23.2560409856029651, -52.1745246416988380 -23.2505377444213082, -52.1698693928581747 -23.2456292204121269, -52.1703528036389343 -23.2443639363465309, -52.1641915833748158 -23.2440574087223695, -52.1599725965580205 -23.2458557641321590, -52.1556580774582699 -23.2437201143917491, -52.1607355157314032 -23.2398928722582241, -52.1641180494083869 -23.2336500717933063, -52.1467568513475612 -23.2138972292736412, -52.1424203087502178 -23.2108971970479843, -52.1339915019062232 -23.2087331575091866, -52.1253129344443096 -23.1997707460230913, -52.1084226528830641 -23.1928495842408893, -52.1080913138629853 -23.1901548934335437, -52.1081126646677149 -23.1842628447544143, -52.1067632472260129 -23.1824901299154931, -52.0917663659250252 -23.1806393098562467, -52.0871711890990809 -23.1777809577249627, -52.0730220069600023 -23.1907188906642432, -52.0708293500944137 -23.1896702910510726, -52.0587376800997959 -23.2038883927351094, -52.0611059107091592 -23.2053039804942500, -52.0628803540450349 -23.2130764702029069, -52.0671513909239252 -23.2177277539326496, -52.0709794505411878 -23.2299021138913986, -52.0805868953688673 -23.2298906007705455, -52.0802640342577092 -23.2336072002120773, -52.0860501311086068 -23.2432453730754673, -52.0826985386066212 -23.2505345815056899, -52.0822557007399496 -23.2556668010819863, -52.0841083832951881 -23.2599975340589253, -52.0903241960048149 -23.2623441737445660, -52.0935088995160527 -23.2717248383305559, -52.1045346462568659 -23.2840742288425417, -52.1147531705223628 -23.2866180943495351, -52.1170396365699276 -23.2919005537675048, -52.1142082416170069 -23.2950419432310696, -52.1130167055564471 -23.3036222768465677, -52.1254675306020090 -23.2995003799385358, -52.1405731849044969 -23.3021000609689963, -52.1442978863383360 -23.3041579130572245, -52.1524364468844510 -23.3208974493577443, -52.1591899516549233 -23.3268710287749172, -52.1606401318366011 -23.3305608311173955, -52.1673650678435479 -23.3351843347891759, -52.1709670873611344 -23.3417939327437693, -52.1783951160417132 -23.3493542409054271, -52.1790144611484266 -23.3499797436701897))"
          ]
         ],
         "index": [
          0,
          1,
          2,
          3,
          4,
          5,
          6,
          7,
          8,
          9
         ]
        }
       },
       "height": 400,
       "layout": "IPY_MODEL_baf4c51d4a3b4fe7804809e8f1f522be",
       "value": "Hello World!"
      }
     },
     "c87fca444d85481abe6981000515367c": {
      "model_module": "@jupyter-widgets/base",
      "model_module_version": "1.2.0",
      "model_name": "LayoutModel",
      "state": {}
     },
     "c9e99008ebdd48babe48e3cfb03fac65": {
      "model_module": "keplergl-jupyter",
      "model_module_version": "^0.3.0",
      "model_name": "KeplerGlModal",
      "state": {
       "_model_module_version": "^0.3.0",
       "_view_module_version": "^0.3.0",
       "config": {
        "config": {
         "mapState": {
          "bearing": 0,
          "dragRotate": false,
          "isSplit": false,
          "latitude": -25.4288447850896,
          "longitude": -49.26551961528645,
          "pitch": 0,
          "zoom": 15.67205408042107
         },
         "mapStyle": {
          "mapStyles": {},
          "styleType": "dark",
          "threeDBuildingColor": [
           9.665468314072013,
           17.18305478057247,
           31.1442867897876
          ],
          "topLayerGroups": {},
          "visibleLayerGroups": {
           "3d building": false,
           "border": false,
           "building": true,
           "label": true,
           "land": true,
           "road": true,
           "water": true
          }
         },
         "visState": {
          "animationConfig": {
           "currentTime": null,
           "speed": 1
          },
          "filters": [],
          "interactionConfig": {
           "brush": {
            "enabled": false,
            "size": 0.5
           },
           "coordinate": {
            "enabled": true
           },
           "geocoder": {
            "enabled": true
           },
           "tooltip": {
            "compareMode": true,
            "compareType": "relative",
            "enabled": true,
            "fieldsToShow": {}
           }
          },
          "layerBlending": "normal",
          "layers": [],
          "splitMaps": []
         }
        },
        "version": "v1"
       },
       "height": 400,
       "layout": "IPY_MODEL_733b9ae7f7504991aec4ca9b88a3d326",
       "value": "Hello World!"
      }
     },
     "cb11b45ff9134ec0801c0f6dbeed0a52": {
      "model_module": "keplergl-jupyter",
      "model_module_version": "^0.3.0",
      "model_name": "KeplerGlModal",
      "state": {
       "_model_module_version": "^0.3.0",
       "_view_module_version": "^0.3.0",
       "config": {
        "config": {
         "mapState": {
          "bearing": 0,
          "dragRotate": false,
          "isSplit": false,
          "latitude": -16.396552022132617,
          "longitude": -90.6956640964255,
          "pitch": 0,
          "zoom": 1.4987391836959525
         },
         "mapStyle": {
          "mapStyles": {},
          "styleType": "dark",
          "threeDBuildingColor": [
           9.665468314072013,
           17.18305478057247,
           31.1442867897876
          ],
          "topLayerGroups": {},
          "visibleLayerGroups": {
           "3d building": false,
           "border": false,
           "building": true,
           "label": true,
           "land": true,
           "road": true,
           "water": true
          }
         },
         "visState": {
          "animationConfig": {
           "currentTime": null,
           "speed": 1
          },
          "filters": [],
          "interactionConfig": {
           "brush": {
            "enabled": false,
            "size": 0.5
           },
           "coordinate": {
            "enabled": false
           },
           "geocoder": {
            "enabled": false
           },
           "tooltip": {
            "compareMode": false,
            "compareType": "absolute",
            "enabled": true,
            "fieldsToShow": {}
           }
          },
          "layerBlending": "normal",
          "layers": [],
          "splitMaps": []
         }
        },
        "version": "v1"
       },
       "height": 400,
       "layout": "IPY_MODEL_2dd1cb75b8594cb8a813bfc1a0cef709",
       "value": "Hello World!"
      }
     },
     "cc129f78c49241c3859fd0ff1bebb27f": {
      "model_module": "@jupyter-widgets/base",
      "model_module_version": "1.2.0",
      "model_name": "LayoutModel",
      "state": {}
     },
     "ce95745af4a64edca3e5140515cb4589": {
      "model_module": "keplergl-jupyter",
      "model_module_version": "^0.3.0",
      "model_name": "KeplerGlModal",
      "state": {
       "_model_module_version": "^0.3.0",
       "_view_module_version": "^0.3.0",
       "config": {
        "config": {
         "mapState": {
          "bearing": 0,
          "dragRotate": false,
          "isSplit": false,
          "latitude": -23.391179165144795,
          "longitude": -52.06409714145223,
          "pitch": 0,
          "zoom": 9.896730146453036
         },
         "mapStyle": {
          "mapStyles": {},
          "styleType": "light",
          "threeDBuildingColor": [
           218.82023004728686,
           223.47597962276103,
           223.47597962276103
          ],
          "topLayerGroups": {},
          "visibleLayerGroups": {
           "3d building": false,
           "border": false,
           "building": true,
           "label": true,
           "land": true,
           "road": true,
           "water": true
          }
         },
         "visState": {
          "animationConfig": {
           "currentTime": null,
           "speed": 1
          },
          "filters": [],
          "interactionConfig": {
           "brush": {
            "enabled": false,
            "size": 0.5
           },
           "coordinate": {
            "enabled": false
           },
           "geocoder": {
            "enabled": false
           },
           "tooltip": {
            "compareMode": false,
            "compareType": "absolute",
            "enabled": true,
            "fieldsToShow": {
             "Commuting_Maringa": [
              {
               "format": null,
               "name": "cod_origem"
              },
              {
               "format": null,
               "name": "Mun_origem"
              },
              {
               "format": null,
               "name": "cod_destino"
              },
              {
               "format": null,
               "name": "Mun_destino"
              },
              {
               "format": null,
               "name": "Movimento_Pendular"
              }
             ],
             "Municipios_Arranjo": [
              {
               "format": null,
               "name": "CodMunic"
              },
              {
               "format": null,
               "name": "NomMunic"
              },
              {
               "format": null,
               "name": "CodArranjo"
              },
              {
               "format": null,
               "name": "NomeArranj"
              },
              {
               "format": null,
               "name": "Shape_Leng"
              }
             ]
            }
           }
          },
          "layerBlending": "normal",
          "layers": [
           {
            "config": {
             "color": [
              136,
              87,
              44
             ],
             "columns": {
              "lat0": "point_latitude",
              "lat1": "point_latitude.1",
              "lng0": "point_longitude",
              "lng1": "point_longitude.1"
             },
             "dataId": "Commuting_Maringa",
             "hidden": false,
             "isVisible": true,
             "label": "point",
             "textLabel": [
              {
               "alignment": "center",
               "anchor": "start",
               "color": [
                255,
                255,
                255
               ],
               "field": null,
               "offset": [
                0,
                0
               ],
               "size": 18
              }
             ],
             "visConfig": {
              "colorRange": {
               "category": "ColorBrewer",
               "colors": [
                "#feebe2",
                "#fcc5c0",
                "#fa9fb5",
                "#f768a1",
                "#c51b8a",
                "#7a0177"
               ],
               "name": "ColorBrewer RdPu-6",
               "type": "sequential"
              },
              "opacity": 0.8,
              "sizeRange": [
               0,
               10
              ],
              "targetColor": null,
              "thickness": 2
             }
            },
            "id": "4qbt859",
            "type": "arc",
            "visualChannels": {
             "colorField": {
              "name": "Movimento_Pendular",
              "type": "integer"
             },
             "colorScale": "quantile",
             "sizeField": {
              "name": "Movimento_Pendular",
              "type": "integer"
             },
             "sizeScale": "linear"
            }
           },
           {
            "config": {
             "color": [
              255,
              153,
              31
             ],
             "columns": {
              "geojson": "geometry"
             },
             "dataId": "Municipios_Arranjo",
             "hidden": false,
             "isVisible": true,
             "label": "Municipios_Arranjo",
             "textLabel": [
              {
               "alignment": "center",
               "anchor": "start",
               "color": [
                255,
                255,
                255
               ],
               "field": null,
               "offset": [
                0,
                0
               ],
               "size": 18
              }
             ],
             "visConfig": {
              "colorRange": {
               "category": "Uber",
               "colors": [
                "#5A1846",
                "#900C3F",
                "#C70039",
                "#E3611C",
                "#F1920E",
                "#FFC300"
               ],
               "name": "Global Warming",
               "type": "sequential"
              },
              "elevationScale": 5,
              "enable3d": false,
              "enableElevationZoomFactor": true,
              "filled": false,
              "heightRange": [
               0,
               500
              ],
              "opacity": 0.8,
              "radius": 10,
              "radiusRange": [
               0,
               50
              ],
              "sizeRange": [
               0,
               10
              ],
              "strokeColor": [
               129,
               116,
               107
              ],
              "strokeColorRange": {
               "category": "Uber",
               "colors": [
                "#5A1846",
                "#900C3F",
                "#C70039",
                "#E3611C",
                "#F1920E",
                "#FFC300"
               ],
               "name": "Global Warming",
               "type": "sequential"
              },
              "strokeOpacity": 0.8,
              "stroked": true,
              "thickness": 2.1,
              "wireframe": false
             }
            },
            "id": "q0r31x",
            "type": "geojson",
            "visualChannels": {
             "colorField": null,
             "colorScale": "quantile",
             "heightField": null,
             "heightScale": "linear",
             "radiusField": null,
             "radiusScale": "linear",
             "sizeField": null,
             "sizeScale": "linear",
             "strokeColorField": null,
             "strokeColorScale": "quantile"
            }
           }
          ],
          "splitMaps": []
         }
        },
        "version": "v1"
       },
       "data": {
        "Commuting_Maringa": {
         "columns": [
          "cod_origem",
          "Mun_origem",
          "point_latitude",
          "point_longitude",
          "cod_destino",
          "Mun_destino",
          "Movimento_Pendular",
          "point_latitude.1",
          "point_longitude.1",
          "Arranjo",
          "departure",
          "arrival"
         ],
         "data": [
          [
           4126256,
           "SARANDI",
           -23.444000000000003,
           -51.873999999999995,
           4115200,
           "MARINGÁ",
           24224,
           -23.425,
           -51.93899999999999,
           true,
           "2010-31-07 10:30:0'",
           "2010-31-07 11:00:0'"
          ],
          [
           4115200,
           "MARINGÁ",
           -23.425,
           -51.93899999999999,
           4126256,
           "SARANDI",
           24224,
           -23.444000000000003,
           -51.873999999999995,
           true,
           "2010-31-07 10:30:0'",
           "2010-31-07 11:00:0'"
          ],
          [
           4117503,
           "PAIÇANDU",
           -23.458000000000002,
           -52.049,
           4115200,
           "MARINGÁ",
           10550,
           -23.425,
           -51.93899999999999,
           true,
           "2010-31-07 10:30:0'",
           "2010-31-07 11:00:0'"
          ],
          [
           4115200,
           "MARINGÁ",
           -23.425,
           -51.93899999999999,
           4117503,
           "PAIÇANDU",
           10550,
           -23.458000000000002,
           -52.049,
           true,
           "2010-31-07 10:30:0'",
           "2010-31-07 11:00:0'"
          ],
          [
           4114104,
           "MANDAGUAÇU",
           -23.346999999999998,
           -52.095,
           4115200,
           "MARINGÁ",
           3856,
           -23.425,
           -51.93899999999999,
           true,
           "2010-31-07 10:30:0'",
           "2010-31-07 11:00:0'"
          ],
          [
           4115200,
           "MARINGÁ",
           -23.425,
           -51.93899999999999,
           4114104,
           "MANDAGUAÇU",
           3856,
           -23.346999999999998,
           -52.095,
           true,
           "2010-31-07 10:30:0'",
           "2010-31-07 11:00:0'"
          ],
          [
           4114807,
           "MARIALVA",
           -23.485,
           -51.792,
           4115200,
           "MARINGÁ",
           3288,
           -23.425,
           -51.93899999999999,
           true,
           "2010-31-07 10:30:0'",
           "2010-31-07 11:00:0'"
          ],
          [
           4115200,
           "MARINGÁ",
           -23.425,
           -51.93899999999999,
           4114807,
           "MARIALVA",
           3288,
           -23.485,
           -51.792,
           true,
           "2010-31-07 10:30:0'",
           "2010-31-07 11:00:0'"
          ],
          [
           4114807,
           "MARIALVA",
           -23.485,
           -51.792,
           4126256,
           "SARANDI",
           1004,
           -23.444000000000003,
           -51.873999999999995,
           true,
           "2010-31-07 10:30:0'",
           "2010-31-07 11:00:0'"
          ],
          [
           4126256,
           "SARANDI",
           -23.444000000000003,
           -51.873999999999995,
           4114807,
           "MARIALVA",
           1004,
           -23.485,
           -51.792,
           true,
           "2010-31-07 10:30:0'",
           "2010-31-07 11:00:0'"
          ],
          [
           4110003,
           "IGUARAÇU",
           -23.197,
           -51.828,
           4115200,
           "MARINGÁ",
           635,
           -23.425,
           -51.93899999999999,
           true,
           "2010-31-07 10:30:0'",
           "2010-31-07 11:00:0'"
          ],
          [
           4115200,
           "MARINGÁ",
           -23.425,
           -51.93899999999999,
           4110003,
           "IGUARAÇU",
           635,
           -23.197,
           -51.828,
           true,
           "2010-31-07 10:30:0'",
           "2010-31-07 11:00:0'"
          ],
          [
           4126256,
           "SARANDI",
           -23.444000000000003,
           -51.873999999999995,
           4117503,
           "PAIÇANDU",
           120,
           -23.458000000000002,
           -52.049,
           true,
           "2010-31-07 10:30:0'",
           "2010-31-07 11:00:0'"
          ],
          [
           4117503,
           "PAIÇANDU",
           -23.458000000000002,
           -52.049,
           4126256,
           "SARANDI",
           120,
           -23.444000000000003,
           -51.873999999999995,
           true,
           "2010-31-07 10:30:0'",
           "2010-31-07 11:00:0'"
          ],
          [
           4107900,
           "FLORESTA",
           -23.599,
           -52.081,
           4111100,
           "ITAMBÉ",
           86,
           -23.660999999999998,
           -51.99,
           true,
           "2010-31-07 10:30:0'",
           "2010-31-07 11:00:0'"
          ],
          [
           4111100,
           "ITAMBÉ",
           -23.660999999999998,
           -51.99,
           4107900,
           "FLORESTA",
           86,
           -23.599,
           -52.081,
           true,
           "2010-31-07 10:30:0'",
           "2010-31-07 11:00:0'"
          ]
         ],
         "index": [
          1,
          2,
          3,
          4,
          5,
          6,
          7,
          8,
          13,
          14,
          15,
          16,
          24,
          25,
          32,
          33
         ]
        },
        "Municipios_Arranjo": {
         "columns": [
          "CodMunic",
          "NomMunic",
          "CodArranjo",
          "NomeArranj",
          "Shape_Leng",
          "Shape_Area",
          "geometry"
         ],
         "data": [
          [
           4126256,
           "Sarandi",
           "4115200",
           "Maringá/PR",
           0.544904971268,
           0.00912425298747,
           "POLYGON ((-51.8510324708718144 -23.4547953783040271, -51.8511988796245760 -23.4549050398356940, -51.8534940223312333 -23.4579305885258123, -51.8534712514970124 -23.4863736402312497, -51.8525132639759363 -23.4905119137937390, -51.8467021803613193 -23.4967329551616899, -51.8496016557917301 -23.5047365427572004, -51.8529605319029656 -23.5108187027208828, -51.8590147319442849 -23.5158666090567294, -51.8637254869416324 -23.5167462224601422, -51.8678851158053931 -23.5233300467442064, -51.8753138369639828 -23.5224397089253898, -51.8794453431280544 -23.5243470333888354, -51.8808779748386542 -23.5262500474017315, -51.8811002557721395 -23.5330380609577219, -51.8869306217507642 -23.5359764122815704, -51.8874849971348908 -23.5389784338076424, -51.8896863243643338 -23.5410921643718325, -51.8930742647654597 -23.5402915069474261, -51.8935145548527998 -23.5441926679571907, -51.8964577957905817 -23.5461665359568428, -51.8997934828828988 -23.5559315545975210, -51.9024750372930725 -23.5576888037952017, -51.9051591259928387 -23.5558315068185493, -51.9113447268775872 -23.5589479922559804, -51.9123299233872331 -23.5607617197774744, -51.9183468528249819 -23.5538442730946826, -51.9152843402001167 -23.5513285905419707, -51.9201627432159967 -23.5458894404452508, -51.9202967772744159 -23.5428488586878188, -51.9281988529946261 -23.5338604711837434, -51.9226570983463489 -23.5304536459189535, -51.9094389060805952 -23.5099142950086843, -51.9224370315437227 -23.5001135013369549, -51.9190990529788792 -23.4970022220748547, -51.9177084061179812 -23.4874882662704181, -51.9115394462883728 -23.4770667587238790, -51.9056409215912140 -23.4768539359603210, -51.9038190003465729 -23.4703840000215109, -51.9058189999468595 -23.4649870002498346, -51.9047079999741641 -23.4593749995565304, -51.8970870001649018 -23.4527459996281209, -51.8932299598947111 -23.4454259696327654, -51.8876798397527637 -23.4399570303925771, -51.8779185371107587 -23.4159342931330912, -51.8677678801834645 -23.4149309995659110, -51.8637441595652717 -23.4160990201536379, -51.8481139504983730 -23.4103314664239974, -51.8451850573444517 -23.4063616547664992, -51.8398810456736783 -23.4065294367840124, -51.8405509920345935 -23.4025686129510859, -51.8424843707570631 -23.4003959156389669, -51.8430171219425802 -23.3936634154342187, -51.8392578694550821 -23.3933850069124674, -51.8335011813343840 -23.3957294819300046, -51.8273329634454853 -23.3932423978183692, -51.8192689027376332 -23.3927881457562989, -51.7971347876402888 -23.4090818134748702, -51.8004774858472388 -23.4124427733153198, -51.8018825020757845 -23.4175416838016304, -51.8036237946024016 -23.4294193106526336, -51.8029885368914051 -23.4377727318260440, -51.8064763047376573 -23.4450803763582485, -51.8266052095627288 -23.4595560483729173, -51.8331472270628524 -23.4586966850039857, -51.8409677081931477 -23.4518011512021189, -51.8456279923379384 -23.4445181175170774, -51.8459838351857911 -23.4477925122146189, -51.8510324708718144 -23.4547953783040271))"
          ],
          [
           4107900,
           "Floresta",
           "4115200",
           "Maringá/PR",
           0.693632333799,
           0.0139730939292,
           "POLYGON ((-52.1002707410018502 -23.5196632841332303, -51.9997501137767131 -23.5565708664522617, -52.0069303765355926 -23.5617551693655400, -52.0043980520284208 -23.5629276011278534, -52.0056743860640154 -23.5659819326200477, -52.0075352803289093 -23.5650337414139699, -52.0147016575554062 -23.5720370787481670, -52.0148268485801282 -23.5759593387524546, -52.0183374690988671 -23.5779572330398537, -52.0172170936938869 -23.5807336245570696, -52.0190279164051503 -23.5844345883854771, -52.0259282310030358 -23.5831983308382291, -52.0221821832611226 -23.5855171958618826, -52.0201018112495603 -23.5895864707389933, -52.0260434089760793 -23.5885311522907841, -52.0288047782178751 -23.5899516125768400, -52.0295347723118766 -23.5923751910621604, -52.0274863433200494 -23.5958881003555234, -52.0306865592372674 -23.5982464393216560, -52.0303122703949157 -23.6021804210895425, -52.0319893693139193 -23.6050997625439436, -52.0284019152161932 -23.6039206713019212, -52.0291264890961429 -23.6071032263328107, -52.0357599829368382 -23.6081954007970580, -52.0392206281294420 -23.6106642817311467, -52.0383772169349754 -23.6111031023262399, -52.0401830807845158 -23.6132243332363601, -52.0363626842903955 -23.6165434907894110, -52.0371047985475457 -23.6172496420572884, -52.0357932470606670 -23.6177962481982604, -52.0346619691745218 -23.6226800678307995, -52.0400862372899837 -23.6246069903202738, -52.0420613544479238 -23.6235317024260780, -52.0452441477991670 -23.6256711473055816, -52.0441731739527995 -23.6278986942692768, -52.0479956137065756 -23.6282202828397203, -52.0453796720341870 -23.6308679444999825, -52.0466890093902066 -23.6328546997845024, -52.0448414799503212 -23.6343071075868920, -52.0473889256583675 -23.6348951517898058, -52.0458384719678406 -23.6376600086024951, -52.0547912589094040 -23.6402400763184346, -52.0530227672868477 -23.6427089446620471, -52.0547922103921792 -23.6436896508566292, -52.0591788740057950 -23.6437364650657855, -52.0595549480024147 -23.6485427640373018, -52.0615253086460257 -23.6507976153176287, -52.0634614680722621 -23.6489219173125775, -52.0662077278043398 -23.6488126712677058, -52.0666287427222301 -23.6515797458085899, -52.0689595615344842 -23.6529969154752280, -52.0709875534328148 -23.6618952044001389, -52.0768270043627126 -23.6573637805140038, -52.0769936990998872 -23.6540092238465718, -52.0826291622060467 -23.6580502717026206, -52.0822958509726845 -23.6594622711668308, -52.0786241052182390 -23.6603672166736487, -52.0767379705808366 -23.6654595441225979, -52.0809319382582885 -23.6635791300727760, -52.0864413101183459 -23.6635217668160180, -52.0842707091258603 -23.6604361775874850, -52.0895978270780233 -23.6573952711747779, -52.0919066062048728 -23.6604220195604853, -52.0906588571205020 -23.6661451692640981, -52.0941064225733044 -23.6657642865924913, -52.0954911240161209 -23.6614038544042842, -52.0996059090853691 -23.6609037728907765, -52.1025766674791839 -23.6628463804560738, -52.1035199492861807 -23.6709169621480555, -52.1051593387324488 -23.6728766316512065, -52.1092654804175481 -23.6736127285445264, -52.1140199721439785 -23.6716678456944578, -52.1160950120751068 -23.6727942186781775, -52.1206331700847159 -23.6760254692999297, -52.1274921194656713 -23.6880694302599295, -52.1331343949363486 -23.6904571482787105, -52.1408493954832011 -23.6905860355170717, -52.1571432214824426 -23.6813469008387756, -52.1596872938334855 -23.6778651683428052, -52.1578562966307686 -23.6688816218892839, -52.1592119724545000 -23.6600045164951780, -52.1573758877869409 -23.6532168995402117, -52.1584649227179398 -23.6503487663824217, -52.1633826926570805 -23.6478265646442196, -52.1771876296053847 -23.6489181734349359, -52.1908332615457198 -23.6445739470299827, -52.1897250251897162 -23.6430518687486710, -52.1847772628603366 -23.6441755608533981, -52.1829996170386607 -23.6421582007403117, -52.1793349291635877 -23.6416494983256484, -52.1768330826805595 -23.6358100968584495, -52.1705264942023064 -23.6291433119142766, -52.1563873790742605 -23.6250506411740844, -52.1439752590509329 -23.6147441029579568, -52.1334707674619153 -23.6009178439832681, -52.1192378485478116 -23.5889846426271106, -52.1133804921159935 -23.5744037490337632, -52.1047009614801482 -23.5654366682675800, -52.0974209342286940 -23.5607148552063563, -52.1002707410018502 -23.5196632841332303))"
          ],
          [
           4110003,
           "Iguaraçu",
           "4115200",
           "Maringá/PR",
           0.700300445507,
           0.0145857340864,
           "POLYGON ((-51.9393744960361232 -23.2639476118927178, -51.9376430753675891 -23.2629600654545925, -51.9386191455570838 -23.2610134433157327, -51.9363417671588081 -23.2591143674340515, -51.9352089883041117 -23.2602565504993777, -51.9291205798508599 -23.2598343511743337, -51.9281843829028844 -23.2550845485130822, -51.9230147596234133 -23.2534115801802272, -51.9269575898208586 -23.2430906860862478, -51.9251584061354947 -23.2399991964057335, -51.9175709429446215 -23.2370558673343908, -51.9126534967614361 -23.2319761420852160, -51.9149991274077820 -23.2255974000999004, -51.9128800323875339 -23.2242588042004172, -51.9122545350187465 -23.2196186549768981, -51.9067040578459569 -23.2186567994716597, -51.9053658738359900 -23.2165008709184235, -51.9033461916733927 -23.2183214683610117, -51.9005974875839229 -23.2175212659935823, -51.8987682728374580 -23.2193407302904120, -51.8932469984501950 -23.2167109111795753, -51.8902064832425935 -23.2192532217587200, -51.8838688870394549 -23.2201356176645959, -51.8792955592426210 -23.2167057949364448, -51.8760626232913751 -23.2171269879200963, -51.8755483972407205 -23.2148601145026419, -51.8690940753312475 -23.2162087576280101, -51.8650022445578998 -23.2150955300346595, -51.8675745565205375 -23.2053280805264421, -51.8657741263747880 -23.1949841970629791, -51.8657131415482127 -23.1328532429827192, -51.8612634786265971 -23.1326648296181361, -51.8591485573600153 -23.1309375863005471, -51.8537025283489470 -23.1314529517922551, -51.8494141939098654 -23.1367636876939855, -51.8494447672621845 -23.1417018200828579, -51.8428680916890130 -23.1477879739358059, -51.8329397750505336 -23.1534045027156026, -51.8281184151327352 -23.1578146377352709, -51.8207651884626443 -23.1549225978995423, -51.8185771523137078 -23.1527163864520276, -51.8122585641813771 -23.1582433481519274, -51.8108089442773121 -23.1609632361643776, -51.8114275753222842 -23.1638824121435505, -51.8096392464540259 -23.1664640087070097, -51.7957016253296842 -23.1743939966855805, -51.7945688914411448 -23.1800350077094208, -51.7897425088096952 -23.1843724514274641, -51.7899110732374197 -23.1870137144113642, -51.7924865175386913 -23.1901995456724421, -51.7916430550828863 -23.1940305487707406, -51.7892543028437444 -23.1968940369301890, -51.7814883449111676 -23.1972098770341404, -51.7792611729647092 -23.1986143419782707, -51.7786877670267813 -23.2099559585006432, -51.7672417670938216 -23.2142531638523906, -51.7591433945519839 -23.2116481066747156, -51.7318669919680474 -23.2224813535315775, -51.7390103222685411 -23.2341051125608260, -51.7461241359200699 -23.2268484667832809, -51.7629629519786363 -23.2256448798073052, -51.7746800057776113 -23.2390694817711392, -51.7775084599474553 -23.2481893897285090, -51.7839546223079310 -23.2536962281983506, -51.7965986532052511 -23.2568396042642576, -51.8046744473678018 -23.2555384282558180, -51.8075437505436298 -23.2582399485147562, -51.8183496840906059 -23.2590762568636933, -51.8243803560685592 -23.2627337888332590, -51.8319567468063838 -23.2733906192815994, -51.8364641686864047 -23.2763398982676222, -51.8413477508979668 -23.2760388834876153, -51.8452949320154630 -23.2809567190772668, -51.8518749683550482 -23.2786886180851980, -51.8572953091311888 -23.2830252551113972, -51.8642343386437688 -23.2844113082352351, -51.8684743606032157 -23.2880113204660120, -51.8739012961078743 -23.2882970125970132, -51.8740134244799265 -23.2919456160972800, -51.8774949042663707 -23.2931660149995423, -51.8785614309652487 -23.2977932238781591, -51.8852988009988394 -23.3000601503555913, -51.8923247077190695 -23.3048767033970989, -51.8987134519641700 -23.3039181798800428, -51.8995742947178655 -23.3028304273822755, -51.8973055021471623 -23.3011240411415201, -51.8963755824671011 -23.2978390083634963, -51.9066012563428671 -23.2900686698332038, -51.9094716135240901 -23.2884336277097077, -51.9108529029390979 -23.2901893984219441, -51.9129291560556680 -23.2900121447446509, -51.9237937514803889 -23.2868890429949147, -51.9260114121968854 -23.2820608797057957, -51.9236497682221625 -23.2810467969720776, -51.9295369452737532 -23.2806994473215809, -51.9288382233053198 -23.2791062677400191, -51.9327746233501557 -23.2774640679123763, -51.9361264181995921 -23.2724584117262907, -51.9414404285329283 -23.2734433429358774, -51.9431099065968738 -23.2700734366397342, -51.9416178899535907 -23.2692109085565448, -51.9417530814395150 -23.2666467318611581, -51.9394149673268544 -23.2667812434595476, -51.9393744960361232 -23.2639476118927178))"
          ],
          [
           4111100,
           "Itambé",
           "4115200",
           "Maringá/PR",
           0.953026967666,
           0.0215921437579,
           "POLYGON ((-52.0438218825737522 -23.8109704537234279, -52.0468240713737487 -23.8052024773124344, -52.0462403025478579 -23.8021743061992197, -52.0393557674546514 -23.7919849694307572, -52.0343542382574356 -23.7755313986550618, -52.0340590303998738 -23.7696494439666139, -52.0363972065657663 -23.7643479018341850, -52.0417177028097058 -23.7601536274878526, -52.0510722339963650 -23.7564613313253403, -52.0562416081636457 -23.7514884194549722, -52.0597178835733985 -23.7438369829903309, -52.0611040590050607 -23.7309750265761750, -52.0645198909801366 -23.7282171880727333, -52.0802727333999087 -23.7220702823176453, -52.0952966258385572 -23.7200897764220144, -52.0954686751392160 -23.7170231862709784, -52.0916835374652578 -23.7095746692355647, -52.0946032953057738 -23.7063162797724658, -52.1115408866025973 -23.7055228421054380, -52.1176053119355629 -23.7018952458688545, -52.1192429917705908 -23.6971035365988882, -52.1184629647939346 -23.6926895129106470, -52.1130195096426405 -23.6845985444871872, -52.1124877683957379 -23.6805954839943524, -52.1160950120751068 -23.6727942186781775, -52.1140199721439785 -23.6716678456944578, -52.1092654804175481 -23.6736127285445264, -52.1051593387324488 -23.6728766316512065, -52.1035199492861807 -23.6709169621480555, -52.1025766674791839 -23.6628463804560738, -52.0996059090853691 -23.6609037728907765, -52.0954911240161209 -23.6614038544042842, -52.0941064225733044 -23.6657642865924913, -52.0906588571205020 -23.6661451692640981, -52.0919066062048728 -23.6604220195604853, -52.0895978270780233 -23.6573952711747779, -52.0842707091258603 -23.6604361775874850, -52.0864413101183459 -23.6635217668160180, -52.0809319382582885 -23.6635791300727760, -52.0767379705808366 -23.6654595441225979, -52.0786241052182390 -23.6603672166736487, -52.0822958509726845 -23.6594622711668308, -52.0826291622060467 -23.6580502717026206, -52.0769936990998872 -23.6540092238465718, -52.0768270043627126 -23.6573637805140038, -52.0709875534328148 -23.6618952044001389, -52.0689595615344842 -23.6529969154752280, -52.0666287427222301 -23.6515797458085899, -52.0662077278043398 -23.6488126712677058, -52.0634614680722621 -23.6489219173125775, -52.0615253086460257 -23.6507976153176287, -52.0586541897390020 -23.6537175737070129, -52.0607209541087173 -23.6566180671700295, -52.0581930560646242 -23.6599845515457901, -52.0547034491048635 -23.6577764928907754, -52.0526113211554957 -23.6619570282941822, -52.0471072481009855 -23.6602081598786071, -52.0484382141522133 -23.6585118757224677, -52.0436355988038031 -23.6535108105754261, -52.0371050215794639 -23.6580430195696749, -52.0351152220898143 -23.6546829149845053, -52.0368784706648739 -23.6532566567692584, -52.0344936205841009 -23.6510170211186050, -52.0284551883561903 -23.6531146160466506, -52.0259419240804846 -23.6516683641036707, -52.0275955884656014 -23.6499709593921921, -52.0246305182837432 -23.6458474185234877, -52.0273547779006549 -23.6431509839306955, -52.0312551250239608 -23.6430750712574991, -52.0315993261479548 -23.6388058833847481, -52.0334916103494720 -23.6365374064760658, -52.0320371152206462 -23.6362725732206513, -52.0318890670267820 -23.6346370868320719, -52.0287365835264950 -23.6374112129570904, -52.0240566932617412 -23.6377154194310037, -52.0269094111403660 -23.6345458784894618, -52.0250439312324033 -23.6331936057002849, -52.0266148525933545 -23.6310501876160401, -52.0244246131053956 -23.6297244664109485, -52.0199757325939345 -23.6320856913015405, -52.0153619964589211 -23.6269075523416063, -52.0143029719046126 -23.6290231022343278, -52.0118323570775942 -23.6296593572934626, -52.0119439251719768 -23.6333693215369181, -52.0091928549662157 -23.6327771908146360, -52.0079324245417070 -23.6297330036751418, -52.0099299087382292 -23.6272658125671455, -52.0083681928377928 -23.6271013778263068, -52.0122606592020134 -23.6259590130979404, -52.0128713240522984 -23.6213422129727064, -52.0089004889663329 -23.6225567015305273, -52.0080720631751205 -23.6197247382060596, -52.0042200797927876 -23.6192402509367980, -52.0022732481118624 -23.6215356382590471, -51.9984421020213290 -23.6219348572078616, -51.9982768318103012 -23.6199769323894770, -51.9959271470201543 -23.6211090871146325, -51.9949512917686434 -23.6242463325021959, -51.9859329901153728 -23.6200691137985359, -51.9871597175468878 -23.6171364506865871, -51.9863289535183526 -23.6157718823664595, -51.9808561417974602 -23.6188109370750681, -51.9787193715017679 -23.6160863815812263, -51.9743121565807087 -23.6168619874906653, -51.9715928882012008 -23.6152551939719615, -51.9700579909834346 -23.6166692510849998, -51.9687670213808701 -23.6126848704104191, -51.9648808565662534 -23.6122143226328376, -51.9636004638902591 -23.6163076291936704, -51.9657417137090647 -23.6188492221138517, -51.9643116045968441 -23.6229874992736200, -51.9624344478914395 -23.6240242404263086, -51.9613051880839407 -23.6230897467943350, -51.9621399154247001 -23.6210808618922101, -51.9580502439235943 -23.6207635963628491, -51.9451599912405868 -23.6352603062181288, -51.9366405983848836 -23.6396977320646329, -51.9371194855757494 -23.6456633713674478, -51.9351759364203076 -23.6515805363126788, -51.9372476047930718 -23.6566188279964535, -51.9399135523685231 -23.6730356992380848, -51.9399333725270935 -23.6795863628203165, -51.9366012053812938 -23.6807423666668342, -51.9373570540847140 -23.6833083258185297, -51.9410143171569416 -23.6831214098251621, -51.9448759106946909 -23.6783352232918674, -51.9445192719467741 -23.6842076316768271, -51.9455766516411472 -23.6849346355249395, -51.9488239398729092 -23.6816816887588857, -51.9526264731331935 -23.6817319734517469, -51.9522117957377532 -23.6780803455314981, -51.9553470590195161 -23.6757661794655405, -51.9575708693001275 -23.6789714477740745, -51.9546314387898178 -23.6815517744947783, -51.9532905361293160 -23.6863065531048846, -51.9570992243496903 -23.6853396847785689, -51.9585469817577632 -23.6873244408702135, -51.9585488919178147 -23.6930653530835116, -51.9618173259088394 -23.6914748399918267, -51.9636035899337116 -23.6945289763311280, -51.9589097898548857 -23.6977279781636412, -51.9534883429126353 -23.6987123769745835, -51.9488277107301997 -23.7039033240790786, -51.9450690958620385 -23.7058913528036328, -51.9365441002299804 -23.7074512268925446, -51.9322963719799304 -23.7143799204968673, -51.9255470562516166 -23.7126994230399077, -51.9192352948729194 -23.7259725512921591, -51.9211556550094429 -23.7279567749851594, -51.9207446153716887 -23.7328436756950509, -51.9248558975815513 -23.7358500355506408, -51.9256259025133318 -23.7398755665041676, -51.9302087136611590 -23.7447210948026282, -51.9306079146235220 -23.7480756029066811, -51.9359638252702780 -23.7531325852006034, -51.9398541485500687 -23.7613845799343721, -51.9429109936473878 -23.7635199931531247, -51.9444054528493098 -23.7689359245532046, -51.9504367597486407 -23.7759950810081477, -51.9554105727397086 -23.7760492507722461, -51.9564629252237751 -23.7739449963644347, -51.9616051308720444 -23.7757800279259186, -51.9647174209721356 -23.7788715319955486, -51.9665969276060764 -23.7835080938234000, -51.9746569233782907 -23.7876861129237227, -51.9739673717967321 -23.7929829183269703, -51.9772732562557280 -23.7973673309375044, -51.9837984762186807 -23.7962099214506679, -51.9861847670133557 -23.7922853492893864, -51.9924610483386687 -23.7894248711608043, -51.9962670835590188 -23.7906024479445932, -52.0108236702761246 -23.7904747586031817, -52.0239662799198186 -23.7961128081595348, -52.0263258887287634 -23.7990689849456771, -52.0298764328510401 -23.8116224747973320, -52.0335241586129769 -23.8175724407155371, -52.0383275401837864 -23.8173817808444710, -52.0438218825737522 -23.8109704537234279))"
          ],
          [
           4114104,
           "Mandaguaçu",
           "4115200",
           "Maringá/PR",
           0.953086368683,
           0.0259263762249,
           "POLYGON ((-51.9625388286040106 -23.1616193131807222, -51.9645642556358212 -23.1659579556950348, -51.9643271134055453 -23.1701428096429254, -51.9581454731350618 -23.1743256473107522, -51.9591589092561890 -23.1792478311224386, -51.9632879998412704 -23.1829106349178460, -51.9663706662731784 -23.1824684949250468, -51.9632371944409215 -23.1864588686818252, -51.9657508283380025 -23.1921901626458293, -51.9727540100894316 -23.1927128126461639, -51.9733950576357415 -23.1914673964031977, -51.9768633425691746 -23.1963750462713278, -51.9734543787165535 -23.1995199790637230, -51.9757382394281535 -23.2025170120504072, -51.9732791125409790 -23.2046632647977731, -51.9682292411864637 -23.2035593047181123, -51.9656038494380823 -23.2064821966959585, -51.9682439819741262 -23.2082050018593122, -51.9682790051718939 -23.2159007272367148, -51.9609367709152252 -23.2187110915435824, -51.9685516895088426 -23.2270012804846715, -51.9659668931575425 -23.2302432744075418, -51.9611219871899266 -23.2314116277443645, -51.9577232846018546 -23.2306490889842507, -51.9585487696099904 -23.2335534135591502, -51.9571400958387244 -23.2375686535704631, -51.9613275488272848 -23.2380760924376659, -51.9635888599378859 -23.2409701260704082, -51.9683920445571630 -23.2394166848321220, -51.9697409089157532 -23.2403655550263011, -51.9686305942265108 -23.2432809304705188, -51.9632405435162354 -23.2452446523188314, -51.9682329544872346 -23.2478535864738092, -51.9628367551121073 -23.2504020619055609, -51.9629152227593067 -23.2546279591129519, -51.9643247257054668 -23.2522345852578383, -51.9657180750290877 -23.2538646010704610, -51.9656117571768164 -23.2553316903052405, -51.9694420417168317 -23.2551321280452044, -51.9712785094955620 -23.2576469202691101, -51.9687453737999476 -23.2610529496338927, -51.9695969337514612 -23.2621966714391988, -51.9666858921401627 -23.2647331202372811, -51.9679941386185646 -23.2647662953282293, -51.9678766233074612 -23.2660698770231420, -51.9658138249480430 -23.2704115610446820, -51.9675661746392166 -23.2744190471012757, -51.9729775347853433 -23.2749330519187652, -51.9732100239234001 -23.2780426674351020, -51.9777569485243021 -23.2817593801912039, -51.9775209358424490 -23.2966639442855694, -51.9824593614103492 -23.2947599311258955, -51.9865427106774973 -23.2967862835600954, -51.9903581689942484 -23.3020096017616538, -51.9923450798614795 -23.3083078697123938, -51.9975558786008492 -23.3110153893487109, -52.0016973033878003 -23.3116891767140828, -52.0052552732122422 -23.3103824204123384, -52.0082026411389506 -23.3125165484998433, -52.0089367433359939 -23.3108227185935561, -52.0103848892512133 -23.3144279154159335, -52.0135848119894604 -23.3162248858697581, -52.0175253597075198 -23.3147024694433753, -52.0223439407202477 -23.3162128475448185, -52.0295181699275417 -23.3250130384209342, -52.0341402086037306 -23.3249618553053324, -52.0350803454815036 -23.3236694144118815, -52.0371567119127008 -23.3253706133630772, -52.0411050405651281 -23.3248513744912884, -52.0462765056561807 -23.3311581761088860, -52.0466243076656383 -23.3354588060789752, -52.0499108504053538 -23.3393582826585657, -52.0576306290502657 -23.3380226671123410, -52.0651281105738235 -23.3391263241205138, -52.0675997848022121 -23.3432861742174964, -52.0767135809669526 -23.3473314461892301, -52.0791876536871996 -23.3581531358585153, -52.0821944218350836 -23.3618842845320387, -52.0724502638685181 -23.3682122840696138, -52.0737283794611017 -23.3754776110029070, -52.0813809508701411 -23.3891276226416380, -52.0902844720507119 -23.3924064761778823, -52.0949863291557449 -23.4003380424666148, -52.1087671624745212 -23.4050733696402631, -52.1187193246370839 -23.4024684815351520, -52.1376428114665487 -23.4172730374206708, -52.1419922755230800 -23.4177643775239517, -52.1486363894577494 -23.4142490292692287, -52.1495255230843782 -23.4089955253231778, -52.1440608862009185 -23.3927866411904688, -52.1450221562474781 -23.3873390428624930, -52.1510763751745117 -23.3782762454522981, -52.1509882488085736 -23.3725011688937911, -52.1483685731510604 -23.3684950785849423, -52.1639439874250570 -23.3642809714896202, -52.1691998143199385 -23.3564147760210403, -52.1783951160417132 -23.3493542409054271, -52.1709670873611344 -23.3417939327437693, -52.1673650678435479 -23.3351843347891759, -52.1606401318366011 -23.3305608311173955, -52.1591899516549233 -23.3268710287749172, -52.1524364468844510 -23.3208974493577443, -52.1442978863383360 -23.3041579130572245, -52.1405731849044969 -23.3021000609689963, -52.1254675306020090 -23.2995003799385358, -52.1130167055564471 -23.3036222768465677, -52.1142082416170069 -23.2950419432310696, -52.1170396365699276 -23.2919005537675048, -52.1147531705223628 -23.2866180943495351, -52.1045346462568659 -23.2840742288425417, -52.0935088995160527 -23.2717248383305559, -52.0903241960048149 -23.2623441737445660, -52.0841083832951881 -23.2599975340589253, -52.0822557007399496 -23.2556668010819863, -52.0826985386066212 -23.2505345815056899, -52.0860501311086068 -23.2432453730754673, -52.0802640342577092 -23.2336072002120773, -52.0805868953688673 -23.2298906007705455, -52.0709794505411878 -23.2299021138913986, -52.0671513909239252 -23.2177277539326496, -52.0628803540450349 -23.2130764702029069, -52.0611059107091592 -23.2053039804942500, -52.0587376800997959 -23.2038883927351094, -52.0708293500944137 -23.1896702910510726, -52.0676900830308682 -23.1881515267714917, -52.0649630193278199 -23.1840590269025029, -52.0582434028107741 -23.1785868842772516, -52.0483514952252904 -23.1676857925652371, -52.0484023671754699 -23.1661980342118454, -52.0454746548314233 -23.1652970601111861, -52.0436555106932133 -23.1629168999949115, -52.0385990023420391 -23.1606607419996067, -52.0357918036488059 -23.1609507194001480, -52.0273987142791725 -23.1566028120700480, -52.0234633457567384 -23.1577738238028701, -52.0193485130234308 -23.1560686291638831, -52.0097736299489952 -23.1596486467676073, -52.0080477392117473 -23.1574813984477146, -51.9991541105737269 -23.1553451758391589, -51.9940765769724180 -23.1585019634947571, -51.9872933469104055 -23.1595166451770069, -51.9774906763535682 -23.1547781164168782, -51.9733765342995753 -23.1556016822717652, -51.9732640336082454 -23.1585345009664252, -51.9659303779845345 -23.1571836634952319, -51.9625388286040106 -23.1616193131807222))"
          ],
          [
           4114807,
           "Marialva",
           "4115200",
           "Maringá/PR",
           1.99828251932,
           0.0420752115599,
           "POLYGON ((-51.9997501137767131 -23.5565708664522617, -51.9975755746530126 -23.5562432515247906, -51.9959923928346370 -23.5580017768604648, -51.9934556886290693 -23.5557849345270824, -51.9968550126486662 -23.5531165974529699, -51.9972325453456392 -23.5473370629550232, -51.9925334185823544 -23.5490491131260455, -51.9909786697297704 -23.5482303019867913, -51.9893685667059344 -23.5463511802627181, -51.9906773293951687 -23.5446640853791678, -51.9900111062275414 -23.5422285531051898, -51.9857956330619686 -23.5424168459606449, -51.9854465702030097 -23.5390350290433048, -51.9809419011477871 -23.5369378388101609, -51.9816444425369468 -23.5344794097968588, -51.9789040364920538 -23.5313436473913953, -51.9813808692317139 -23.5291609460207951, -51.9810668493555568 -23.5236188981935470, -51.9835538219512614 -23.5193441938794194, -51.9811521689373990 -23.5183473700350305, -51.9806518688885717 -23.5148742314605670, -51.9768705200584122 -23.5161871049509159, -51.9772769075032102 -23.5206725806750114, -51.9745999081591776 -23.5195601678673825, -51.9698671287649177 -23.5205121074477574, -51.9667862708696475 -23.5147760326877346, -51.9683688663300813 -23.5136188696150725, -51.9675633957340892 -23.5123782098864353, -51.9691957425894202 -23.5071449298945367, -51.9664575057092861 -23.5042391619077762, -51.9607034723873085 -23.5055394394934751, -51.9590881362084929 -23.5027872307460370, -51.9590884635617272 -23.4976184294469022, -51.9558421016316174 -23.4946733511941375, -51.9560545205995936 -23.4930894849916854, -51.9525122043746705 -23.4912505791508579, -51.9519301631464714 -23.4870362373324610, -51.9486150615358042 -23.4851424764440821, -51.9414188555956571 -23.4886315896760607, -51.9418552947859666 -23.4837276000486668, -51.9405703767214391 -23.4817395182641349, -51.9383230167937313 -23.4801376269498974, -51.9337867950245027 -23.4805496234662883, -51.9301063240475855 -23.4758104094228202, -51.9174225377199150 -23.4787625113807508, -51.9115394462883728 -23.4770667587238790, -51.9177084061179812 -23.4874882662704181, -51.9190990529788792 -23.4970022220748547, -51.9224370315437227 -23.5001135013369549, -51.9094389060805952 -23.5099142950086843, -51.9226570983463489 -23.5304536459189535, -51.9281988529946261 -23.5338604711837434, -51.9202967772744159 -23.5428488586878188, -51.9201627432159967 -23.5458894404452508, -51.9152843402001167 -23.5513285905419707, -51.9183468528249819 -23.5538442730946826, -51.9123299233872331 -23.5607617197774744, -51.9113447268775872 -23.5589479922559804, -51.9051591259928387 -23.5558315068185493, -51.9024750372930725 -23.5576888037952017, -51.8997934828828988 -23.5559315545975210, -51.8964577957905817 -23.5461665359568428, -51.8935145548527998 -23.5441926679571907, -51.8930742647654597 -23.5402915069474261, -51.8896863243643338 -23.5410921643718325, -51.8874849971348908 -23.5389784338076424, -51.8869306217507642 -23.5359764122815704, -51.8811002557721395 -23.5330380609577219, -51.8808779748386542 -23.5262500474017315, -51.8794453431280544 -23.5243470333888354, -51.8753138369639828 -23.5224397089253898, -51.8678851158053931 -23.5233300467442064, -51.8637254869416324 -23.5167462224601422, -51.8590147319442849 -23.5158666090567294, -51.8529605319029656 -23.5108187027208828, -51.8496016557917301 -23.5047365427572004, -51.8467021803613193 -23.4967329551616899, -51.8525132639759363 -23.4905119137937390, -51.8534712514970124 -23.4863736402312497, -51.8534940223312333 -23.4579305885258123, -51.8511988796245760 -23.4549050398356940, -51.8510324708718144 -23.4547953783040271, -51.8459838351857911 -23.4477925122146189, -51.8456279923379384 -23.4445181175170774, -51.8409677081931477 -23.4518011512021189, -51.8331472270628524 -23.4586966850039857, -51.8266052095627288 -23.4595560483729173, -51.8064763047376573 -23.4450803763582485, -51.8029885368914051 -23.4377727318260440, -51.8036237946024016 -23.4294193106526336, -51.8018825020757845 -23.4175416838016304, -51.8004774858472388 -23.4124427733153198, -51.7971347876402888 -23.4090818134748702, -51.8192689027376332 -23.3927881457562989, -51.8273329634454853 -23.3932423978183692, -51.8335011813343840 -23.3957294819300046, -51.8392578694550821 -23.3933850069124674, -51.8430171219425802 -23.3936634154342187, -51.8461505667951883 -23.3901110357955986, -51.8457502632639944 -23.3881254406365429, -51.8410978454891165 -23.3855000246064151, -51.8447869760380513 -23.3815131015483644, -51.8425783903803676 -23.3797995090400832, -51.8421388728106649 -23.3754073056026073, -51.8395738678397038 -23.3723954841642012, -51.8432408453886637 -23.3664308880750013, -51.8393115823636208 -23.3590655673220340, -51.8434851866919644 -23.3545284615192372, -51.8473313802389839 -23.3535949346584744, -51.8491860934634019 -23.3563062647223205, -51.8510394478122407 -23.3534608385468232, -51.8449966304900727 -23.3467588622316384, -51.8467807343433833 -23.3446859743781943, -51.8459244583470422 -23.3416887219569276, -51.8469834766061126 -23.3419397335318308, -51.8506704253997555 -23.3367197149428307, -51.8493607004359092 -23.3321215298846596, -51.8473746259381869 -23.3319354259790543, -51.8478491496185256 -23.3304645398065986, -51.8459532897124973 -23.3294159608778386, -51.8463997995111185 -23.3279239370399978, -51.8427922644514183 -23.3296269984871287, -51.8345381967803291 -23.3280376050514064, -51.8328751308825417 -23.3210265650238853, -51.8282310489237261 -23.3152729579805964, -51.8281589997379797 -23.3234350609792500, -51.8269033555054079 -23.3261450105837298, -51.8249672329513942 -23.3269818513313112, -51.8115870664898921 -23.3224970797763831, -51.8025038059058716 -23.3238077040622329, -51.8040162587433315 -23.3269776757790623, -51.8028207701623842 -23.3310509976054163, -51.7960292249687200 -23.3325891503689604, -51.7932057197681388 -23.3350890102495896, -51.7909236810829725 -23.3409699208251595, -51.7851460405572652 -23.3370627568407372, -51.7810895819186499 -23.3377038943192474, -51.7763522249751418 -23.3354798331277493, -51.7743700058710488 -23.3387601687467736, -51.7774198020821359 -23.3406688691729300, -51.7802673524562920 -23.3505074145854792, -51.7784224508354214 -23.3502899378303255, -51.7775603966949234 -23.3520158762316328, -51.7737598887078434 -23.3507697432290229, -51.7729011449717973 -23.3522935446113706, -51.7746338022081432 -23.3546086459721778, -51.7727951850496879 -23.3551248981954700, -51.7736456361371324 -23.3558571621782676, -51.7692384427998604 -23.3560850503847064, -51.7678994970640929 -23.3574250941927062, -51.7691432711450261 -23.3583831887331144, -51.7680656594026232 -23.3631003855742847, -51.7712469221077072 -23.3655968073467193, -51.7709065574915712 -23.3699815760888328, -51.7638768889072480 -23.3727999038924281, -51.7666314754621908 -23.3750809578198755, -51.7725886296614703 -23.3754501205265797, -51.7750106613129333 -23.3784428673444040, -51.7705466497080806 -23.3808521070390611, -51.7681535231665180 -23.3854214823155075, -51.7714881787364334 -23.3877260840914687, -51.7720518881840235 -23.3903458550771006, -51.7705113944852542 -23.3909060014107695, -51.7683777655213930 -23.3972000659302353, -51.7752775971833330 -23.4005264873075021, -51.7689441207745062 -23.4046787588176244, -51.7690626676079546 -23.4077623695376928, -51.7722637576662237 -23.4139844891927851, -51.7688176805914395 -23.4172925113402925, -51.7658440416691406 -23.4161761064420944, -51.7638308768933939 -23.4173584253509830, -51.7657498943420933 -23.4213133847048880, -51.7687875092361196 -23.4206068314400682, -51.7727101811299235 -23.4222673648469595, -51.7661739543644330 -23.4255447758706623, -51.7723703327246199 -23.4324441290932555, -51.7626813418704046 -23.4321116524307627, -51.7623504102431866 -23.4337475857823847, -51.7687071035499571 -23.4432890869217658, -51.7652926376450750 -23.4444315155020035, -51.7639573557473227 -23.4482839539412566, -51.7650991215272143 -23.4517422797823656, -51.7681683799667098 -23.4538537197732921, -51.7663798748313297 -23.4571816816892351, -51.7674073880405103 -23.4606888991733058, -51.7620018447093457 -23.4639532880137835, -51.7594568649423081 -23.4684082956063094, -51.7609492566028848 -23.4752206942795851, -51.7594118134044265 -23.4810988691174884, -51.7629071328578334 -23.4863065678937346, -51.7568681457482853 -23.4899027364220956, -51.7538682187432642 -23.4937157278984614, -51.7477933783616777 -23.4953535804033891, -51.7262368168755415 -23.4920518337250996, -51.7148895382215983 -23.4925321040732911, -51.7117301596191510 -23.4972822017122098, -51.7098581452371491 -23.5035618051331312, -51.7687852528371195 -23.5511346499441174, -51.7723032217162427 -23.5576718722590499, -51.7775698773479007 -23.5626538268126069, -51.7780385734213837 -23.5733383500847253, -51.7824070734276347 -23.5778849985937882, -51.7871249861291858 -23.5801921058809398, -51.7877304888709205 -23.5823530805301971, -51.7919191982123834 -23.5857941339920671, -51.7955020801568367 -23.5869793738989415, -51.8028887652043295 -23.6034455693575183, -51.8101786184484467 -23.6071475089503338, -51.8144544577070292 -23.6054731862384983, -51.8159383300898071 -23.6066997481947851, -51.8196519536746791 -23.6058332019406976, -51.8235442689527872 -23.6072568251423149, -51.8304023954541435 -23.6186543965831106, -51.8299526795724432 -23.6253083374098196, -51.8352350508568520 -23.6277086504338172, -51.8367152719921478 -23.6298988260699048, -51.8358313526347843 -23.6319766278190855, -51.8385334655469592 -23.6363993884210117, -51.8437069145424516 -23.6389621792611138, -51.8472974551134484 -23.6378153458015277, -51.8474700925706884 -23.6352908103226014, -51.8518829678246789 -23.6339558171072213, -51.8522223072136512 -23.6383871635367200, -51.8548283239679222 -23.6414699729608628, -51.8568968896796605 -23.6387405809130087, -51.8584471868880996 -23.6387015161619729, -51.8589653834456499 -23.6417328753718721, -51.8622680123588680 -23.6408073398868055, -51.8625804404349537 -23.6426933153441610, -51.8647274531094240 -23.6424295693690851, -51.8662939857787819 -23.6470122618063670, -51.8691307748653117 -23.6431407919139929, -51.8671394483268386 -23.6405729441859762, -51.8685077263504581 -23.6381568444627419, -51.8720867358141504 -23.6395867620194053, -51.8768057268027860 -23.6457576212172285, -51.8818093064542722 -23.6470660313722192, -51.8886276001835540 -23.6451265633401704, -51.8890349732853338 -23.6480832509412267, -51.8847470417425143 -23.6512738054417468, -51.8850988070642529 -23.6554887102357156, -51.8887514710035589 -23.6541414196907454, -51.8897825050585197 -23.6551942164398952, -51.8887208427926225 -23.6569035236786362, -51.8849658683801067 -23.6577196530395213, -51.8863168686285690 -23.6602117922403750, -51.8919359685700670 -23.6596727790754358, -51.8911694700949511 -23.6626595274152010, -51.8933391879531314 -23.6600781134141585, -51.8929889937469966 -23.6566050827582899, -51.8994292331725546 -23.6535607877001439, -51.9026193191262450 -23.6545903837391620, -51.9010612427820774 -23.6565800645183231, -51.9051071523731480 -23.6567529933558944, -51.9055289982646286 -23.6634398673559758, -51.9083977258742948 -23.6610860717647711, -51.9107981063474995 -23.6613007336418946, -51.9109784725783925 -23.6638924295918969, -51.9133187765402795 -23.6662271172875762, -51.9127218272504933 -23.6718371313784814, -51.9190956841184743 -23.6669987814685214, -51.9234917366542845 -23.6685486541969681, -51.9221558342243270 -23.6651147872175898, -51.9230841054470602 -23.6622076288789458, -51.9250409258979744 -23.6652472834353489, -51.9297733941268120 -23.6664152095942200, -51.9297166442077014 -23.6711372573784615, -51.9318907777371805 -23.6761462986127640, -51.9379594334810122 -23.6772912102211421, -51.9399135523685231 -23.6730356992380848, -51.9372476047930718 -23.6566188279964535, -51.9351759364203076 -23.6515805363126788, -51.9371194855757494 -23.6456633713674478, -51.9366405983848836 -23.6396977320646329, -51.9451599912405868 -23.6352603062181288, -51.9580502439235943 -23.6207635963628491, -51.9621399154247001 -23.6210808618922101, -51.9613051880839407 -23.6230897467943350, -51.9624344478914395 -23.6240242404263086, -51.9643116045968441 -23.6229874992736200, -51.9657417137090647 -23.6188492221138517, -51.9636004638902591 -23.6163076291936704, -51.9648808565662534 -23.6122143226328376, -51.9687670213808701 -23.6126848704104191, -51.9700579909834346 -23.6166692510849998, -51.9715928882012008 -23.6152551939719615, -51.9743121565807087 -23.6168619874906653, -51.9787193715017679 -23.6160863815812263, -51.9808561417974602 -23.6188109370750681, -51.9863289535183526 -23.6157718823664595, -51.9871597175468878 -23.6171364506865871, -51.9859329901153728 -23.6200691137985359, -51.9949512917686434 -23.6242463325021959, -51.9959271470201543 -23.6211090871146325, -51.9982768318103012 -23.6199769323894770, -51.9984421020213290 -23.6219348572078616, -52.0022732481118624 -23.6215356382590471, -52.0042200797927876 -23.6192402509367980, -52.0080720631751205 -23.6197247382060596, -52.0089004889663329 -23.6225567015305273, -52.0128713240522984 -23.6213422129727064, -52.0122606592020134 -23.6259590130979404, -52.0083681928377928 -23.6271013778263068, -52.0099299087382292 -23.6272658125671455, -52.0079324245417070 -23.6297330036751418, -52.0091928549662157 -23.6327771908146360, -52.0119439251719768 -23.6333693215369181, -52.0118323570775942 -23.6296593572934626, -52.0143029719046126 -23.6290231022343278, -52.0153619964589211 -23.6269075523416063, -52.0199757325939345 -23.6320856913015405, -52.0244246131053956 -23.6297244664109485, -52.0266148525933545 -23.6310501876160401, -52.0250439312324033 -23.6331936057002849, -52.0269094111403660 -23.6345458784894618, -52.0240566932617412 -23.6377154194310037, -52.0287365835264950 -23.6374112129570904, -52.0318890670267820 -23.6346370868320719, -52.0320371152206462 -23.6362725732206513, -52.0334916103494720 -23.6365374064760658, -52.0315993261479548 -23.6388058833847481, -52.0312551250239608 -23.6430750712574991, -52.0273547779006549 -23.6431509839306955, -52.0246305182837432 -23.6458474185234877, -52.0275955884656014 -23.6499709593921921, -52.0259419240804846 -23.6516683641036707, -52.0284551883561903 -23.6531146160466506, -52.0344936205841009 -23.6510170211186050, -52.0368784706648739 -23.6532566567692584, -52.0351152220898143 -23.6546829149845053, -52.0371050215794639 -23.6580430195696749, -52.0436355988038031 -23.6535108105754261, -52.0484382141522133 -23.6585118757224677, -52.0471072481009855 -23.6602081598786071, -52.0526113211554957 -23.6619570282941822, -52.0547034491048635 -23.6577764928907754, -52.0581930560646242 -23.6599845515457901, -52.0607209541087173 -23.6566180671700295, -52.0586541897390020 -23.6537175737070129, -52.0615253086460257 -23.6507976153176287, -52.0595549480024147 -23.6485427640373018, -52.0591788740057950 -23.6437364650657855, -52.0547922103921792 -23.6436896508566292, -52.0530227672868477 -23.6427089446620471, -52.0547912589094040 -23.6402400763184346, -52.0458384719678406 -23.6376600086024951, -52.0473889256583675 -23.6348951517898058, -52.0448414799503212 -23.6343071075868920, -52.0466890093902066 -23.6328546997845024, -52.0453796720341870 -23.6308679444999825, -52.0479956137065756 -23.6282202828397203, -52.0441731739527995 -23.6278986942692768, -52.0452441477991670 -23.6256711473055816, -52.0420613544479238 -23.6235317024260780, -52.0400862372899837 -23.6246069903202738, -52.0346619691745218 -23.6226800678307995, -52.0357932470606670 -23.6177962481982604, -52.0371047985475457 -23.6172496420572884, -52.0363626842903955 -23.6165434907894110, -52.0401830807845158 -23.6132243332363601, -52.0383772169349754 -23.6111031023262399, -52.0392206281294420 -23.6106642817311467, -52.0357599829368382 -23.6081954007970580, -52.0291264890961429 -23.6071032263328107, -52.0284019152161932 -23.6039206713019212, -52.0319893693139193 -23.6050997625439436, -52.0303122703949157 -23.6021804210895425, -52.0306865592372674 -23.5982464393216560, -52.0274863433200494 -23.5958881003555234, -52.0295347723118766 -23.5923751910621604, -52.0288047782178751 -23.5899516125768400, -52.0260434089760793 -23.5885311522907841, -52.0201018112495603 -23.5895864707389933, -52.0221821832611226 -23.5855171958618826, -52.0259282310030358 -23.5831983308382291, -52.0190279164051503 -23.5844345883854771, -52.0172170936938869 -23.5807336245570696, -52.0183374690988671 -23.5779572330398537, -52.0148268485801282 -23.5759593387524546, -52.0147016575554062 -23.5720370787481670, -52.0075352803289093 -23.5650337414139699, -52.0056743860640154 -23.5659819326200477, -52.0043980520284208 -23.5629276011278534, -52.0069303765355926 -23.5617551693655400, -51.9997501137767131 -23.5565708664522617))"
          ],
          [
           4115200,
           "Maringá",
           "4115200",
           "Maringá/PR",
           1.26712273965,
           0.0430218331114,
           "POLYGON ((-52.0949863291557449 -23.4003380424666148, -52.0902844720507119 -23.3924064761778823, -52.0813809508701411 -23.3891276226416380, -52.0737283794611017 -23.3754776110029070, -52.0724502638685181 -23.3682122840696138, -52.0821944218350836 -23.3618842845320387, -52.0791876536871996 -23.3581531358585153, -52.0767135809669526 -23.3473314461892301, -52.0675997848022121 -23.3432861742174964, -52.0651281105738235 -23.3391263241205138, -52.0576306290502657 -23.3380226671123410, -52.0499108504053538 -23.3393582826585657, -52.0466243076656383 -23.3354588060789752, -52.0462765056561807 -23.3311581761088860, -52.0411050405651281 -23.3248513744912884, -52.0371567119127008 -23.3253706133630772, -52.0350803454815036 -23.3236694144118815, -52.0341402086037306 -23.3249618553053324, -52.0295181699275417 -23.3250130384209342, -52.0223439407202477 -23.3162128475448185, -52.0175253597075198 -23.3147024694433753, -52.0135848119894604 -23.3162248858697581, -52.0103848892512133 -23.3144279154159335, -52.0089367433359939 -23.3108227185935561, -52.0082026411389506 -23.3125165484998433, -52.0052552732122422 -23.3103824204123384, -52.0016973033878003 -23.3116891767140828, -51.9975558786008492 -23.3110153893487109, -51.9923450798614795 -23.3083078697123938, -51.9903581689942484 -23.3020096017616538, -51.9865427106774973 -23.2967862835600954, -51.9824593614103492 -23.2947599311258955, -51.9775209358424490 -23.2966639442855694, -51.9777569485243021 -23.2817593801912039, -51.9732100239234001 -23.2780426674351020, -51.9729775347853433 -23.2749330519187652, -51.9675661746392166 -23.2744190471012757, -51.9658138249480430 -23.2704115610446820, -51.9678766233074612 -23.2660698770231420, -51.9679941386185646 -23.2647662953282293, -51.9666858921401627 -23.2647331202372811, -51.9695969337514612 -23.2621966714391988, -51.9687453737999476 -23.2610529496338927, -51.9712785094955620 -23.2576469202691101, -51.9694420417168317 -23.2551321280452044, -51.9656117571768164 -23.2553316903052405, -51.9657180750290877 -23.2538646010704610, -51.9607952976647880 -23.2577810766353537, -51.9531185416873313 -23.2584592571889175, -51.9502604836343949 -23.2600727677439636, -51.9498412664612488 -23.2635809376101292, -51.9464079867391320 -23.2638781599490585, -51.9452275680977209 -23.2621388513268812, -51.9442041306160718 -23.2640569208901411, -51.9393744960361232 -23.2639476118927178, -51.9394149673268544 -23.2667812434595476, -51.9417530814395150 -23.2666467318611581, -51.9416178899535907 -23.2692109085565448, -51.9431099065968738 -23.2700734366397342, -51.9414404285329283 -23.2734433429358774, -51.9361264181995921 -23.2724584117262907, -51.9327746233501557 -23.2774640679123763, -51.9288382233053198 -23.2791062677400191, -51.9295369452737532 -23.2806994473215809, -51.9236497682221625 -23.2810467969720776, -51.9260114121968854 -23.2820608797057957, -51.9237937514803889 -23.2868890429949147, -51.9129291560556680 -23.2900121447446509, -51.9108529029390979 -23.2901893984219441, -51.9094716135240901 -23.2884336277097077, -51.9066012563428671 -23.2900686698332038, -51.8963755824671011 -23.2978390083634963, -51.8973055021471623 -23.3011240411415201, -51.8995742947178655 -23.3028304273822755, -51.8987134519641700 -23.3039181798800428, -51.8923247077190695 -23.3048767033970989, -51.8852988009988394 -23.3000601503555913, -51.8785614309652487 -23.2977932238781591, -51.8774949042663707 -23.2931660149995423, -51.8740134244799265 -23.2919456160972800, -51.8739012961078743 -23.2882970125970132, -51.8684743606032157 -23.2880113204660120, -51.8711143807240660 -23.3020452122167399, -51.8699882424633643 -23.3046129331403336, -51.8667965817967911 -23.3047004317794517, -51.8630874170506218 -23.3019306763595750, -51.8555656151609696 -23.3067124436243489, -51.8531341325341373 -23.3115753027579444, -51.8524343862379169 -23.3170917873560484, -51.8470723332215471 -23.3161681035750803, -51.8481582502030278 -23.3113356406272487, -51.8462611267495390 -23.3102599867089566, -51.8422386714774461 -23.3114095487116515, -51.8366119021175678 -23.3170719582042807, -51.8361954251786869 -23.3217772732025423, -51.8395261264295755 -23.3252725674749399, -51.8430800331170190 -23.3242818167523751, -51.8463997995111185 -23.3279239370399978, -51.8459532897124973 -23.3294159608778386, -51.8478491496185256 -23.3304645398065986, -51.8473746259381869 -23.3319354259790543, -51.8493607004359092 -23.3321215298846596, -51.8506704253997555 -23.3367197149428307, -51.8469834766061126 -23.3419397335318308, -51.8459244583470422 -23.3416887219569276, -51.8467807343433833 -23.3446859743781943, -51.8449966304900727 -23.3467588622316384, -51.8510394478122407 -23.3534608385468232, -51.8491860934634019 -23.3563062647223205, -51.8473313802389839 -23.3535949346584744, -51.8434851866919644 -23.3545284615192372, -51.8393115823636208 -23.3590655673220340, -51.8432408453886637 -23.3664308880750013, -51.8395738678397038 -23.3723954841642012, -51.8421388728106649 -23.3754073056026073, -51.8425783903803676 -23.3797995090400832, -51.8447869760380513 -23.3815131015483644, -51.8410978454891165 -23.3855000246064151, -51.8457502632639944 -23.3881254406365429, -51.8461505667951883 -23.3901110357955986, -51.8430171219425802 -23.3936634154342187, -51.8424843707570631 -23.4003959156389669, -51.8405509920345935 -23.4025686129510859, -51.8398810456736783 -23.4065294367840124, -51.8451850573444517 -23.4063616547664992, -51.8481139504983730 -23.4103314664239974, -51.8637441595652717 -23.4160990201536379, -51.8677678801834645 -23.4149309995659110, -51.8779185371107587 -23.4159342931330912, -51.8876798397527637 -23.4399570303925771, -51.8932299598947111 -23.4454259696327654, -51.8970870001649018 -23.4527459996281209, -51.9047079999741641 -23.4593749995565304, -51.9058189999468595 -23.4649870002498346, -51.9038190003465729 -23.4703840000215109, -51.9056409215912140 -23.4768539359603210, -51.9115394462883728 -23.4770667587238790, -51.9174225377199150 -23.4787625113807508, -51.9301063240475855 -23.4758104094228202, -51.9337867950245027 -23.4805496234662883, -51.9383230167937313 -23.4801376269498974, -51.9405703767214391 -23.4817395182641349, -51.9418552947859666 -23.4837276000486668, -51.9414188555956571 -23.4886315896760607, -51.9486150615358042 -23.4851424764440821, -51.9519301631464714 -23.4870362373324610, -51.9525122043746705 -23.4912505791508579, -51.9560545205995936 -23.4930894849916854, -51.9558421016316174 -23.4946733511941375, -51.9590884635617272 -23.4976184294469022, -51.9590881362084929 -23.5027872307460370, -51.9607034723873085 -23.5055394394934751, -51.9664575057092861 -23.5042391619077762, -51.9691957425894202 -23.5071449298945367, -51.9675633957340892 -23.5123782098864353, -51.9683688663300813 -23.5136188696150725, -51.9667862708696475 -23.5147760326877346, -51.9698671287649177 -23.5205121074477574, -51.9745999081591776 -23.5195601678673825, -51.9772769075032102 -23.5206725806750114, -51.9768705200584122 -23.5161871049509159, -51.9806518688885717 -23.5148742314605670, -51.9811521689373990 -23.5183473700350305, -51.9835538219512614 -23.5193441938794194, -51.9810668493555568 -23.5236188981935470, -51.9813808692317139 -23.5291609460207951, -51.9789040364920538 -23.5313436473913953, -51.9816444425369468 -23.5344794097968588, -51.9809419011477871 -23.5369378388101609, -51.9854465702030097 -23.5390350290433048, -51.9857956330619686 -23.5424168459606449, -51.9900111062275414 -23.5422285531051898, -51.9906773293951687 -23.5446640853791678, -51.9893685667059344 -23.5463511802627181, -51.9909786697297704 -23.5482303019867913, -51.9925334185823544 -23.5490491131260455, -51.9972325453456392 -23.5473370629550232, -51.9968550126486662 -23.5531165974529699, -51.9934556886290693 -23.5557849345270824, -51.9959923928346370 -23.5580017768604648, -51.9975755746530126 -23.5562432515247906, -51.9997501137767131 -23.5565708664522617, -52.1002707410018502 -23.5196632841332303, -52.1002595804152406 -23.5195539355656251, -52.0949649082039059 -23.5205579279059975, -52.0918664568714576 -23.5177743535035688, -52.0852125682054066 -23.5172215618255791, -52.0849079480433375 -23.5154668154411297, -52.0880442752230692 -23.5115466238775639, -52.0869535117951159 -23.5064580304137394, -52.0704872488873889 -23.4842357988429740, -52.0673001432869569 -23.4832576548168959, -52.0587682291704255 -23.4761621675499441, -52.0499956807560125 -23.4729767940437455, -52.0422670293998522 -23.4675377033022983, -52.0374355314245918 -23.4667892542206573, -52.0283023854466933 -23.4685117347287360, -52.0181819996994932 -23.4659619903535486, -52.0130519996500311 -23.4626480101974835, -52.0064708400572044 -23.4549080102963785, -52.0450393802631197 -23.4394113748350605, -52.0463227595876674 -23.4385239598128692, -52.0482381950366175 -23.4280509804683561, -52.0478787468067026 -23.4226734672067209, -52.0548880925114190 -23.4174600388496401, -52.0740262538085403 -23.4104790838425743, -52.0767436129273733 -23.4065420614668938, -52.0821423214109700 -23.4058845041664654, -52.0893679297860785 -23.4016667080520619, -52.0949863291557449 -23.4003380424666148))"
          ],
          [
           4117404,
           "Ourizona",
           "4115200",
           "Maringá/PR",
           0.731737110048,
           0.0156215732495,
           "POLYGON ((-52.3048265729879063 -23.5729775744554786, -52.3095451826640101 -23.5671897113360842, -52.3246658844229842 -23.5540184223123106, -52.3220284588462619 -23.5522912041756740, -52.3210674109322440 -23.5484490674704148, -52.3179352709959176 -23.5469718986341832, -52.3185470339184349 -23.5446929895897483, -52.3152480697426085 -23.5454020007016993, -52.3155063649267618 -23.5406577405622102, -52.3087769502959645 -23.5381999608594583, -52.3067564362604571 -23.5343778322711046, -52.3080542479051473 -23.5329874156366827, -52.3011901597980113 -23.5303040095223537, -52.3036111869067213 -23.5254064419536917, -52.2978757587592327 -23.5240124496148155, -52.2946536335583119 -23.5212981364997518, -52.2934461534172215 -23.5162129253861281, -52.2955759998324652 -23.5133206841022684, -52.2947805458854305 -23.5111420080971243, -52.2978598020881691 -23.5074323837974362, -52.2960077967223924 -23.5063226419762827, -52.2972666884069213 -23.5016236573059132, -52.2929536450945989 -23.4994976698815208, -52.2915923179310766 -23.4961095487166745, -52.2884143107717705 -23.4942838269370213, -52.2880774202367320 -23.4891368261036178, -52.2856190964441225 -23.4872431344630286, -52.2805587273034007 -23.4713757076227694, -52.2762793950780065 -23.4690086749103557, -52.2731875447693142 -23.4622055257643751, -52.2732024834078288 -23.4583486725531429, -52.2769418536835815 -23.4572662026730541, -52.2751431763164760 -23.4553561856394026, -52.2772258065257347 -23.4556743540881030, -52.2767159493815257 -23.4534807007736958, -52.2780579618054730 -23.4528672660114808, -52.2766025241871262 -23.4511343614615839, -52.2776718252944761 -23.4471708864272159, -52.2753324530302166 -23.4451538140971820, -52.2749951254246525 -23.4423401348892639, -52.2753571798899088 -23.4400829921363538, -52.2765499669073961 -23.4399481253057047, -52.2731919280649890 -23.4386861318594697, -52.2733114587567798 -23.4358892349002303, -52.2696239946515675 -23.4336315147825189, -52.2677776253370894 -23.4283531131056293, -52.2655405257746111 -23.4268578750908318, -52.2625486620910351 -23.4276352085979624, -52.2599601461437828 -23.4251069670128800, -52.2605598086881855 -23.4239997765683938, -52.2567757717844188 -23.4228789398111985, -52.2573030532932421 -23.4208746261630267, -52.2556068842502555 -23.4203068904506040, -52.2528791091834819 -23.4145446103454447, -52.2458866338610051 -23.4101110273020367, -52.2460954042794583 -23.4057039472792781, -52.2425905915824842 -23.4014158403687134, -52.2398226482965242 -23.4017927012720861, -52.2386797817464981 -23.3995087794065739, -52.2367024045922790 -23.4004017747220701, -52.2350824503947138 -23.3971366925043185, -52.2280942585431376 -23.3913141659159578, -52.2242476692944706 -23.3920377865146065, -52.2207296383620587 -23.3888891188377102, -52.2150891462470668 -23.3909063395558974, -52.2096754730446264 -23.3844068743777029, -52.2021309713671826 -23.3788350544941181, -52.2015362892682901 -23.3758576537077261, -52.1962333720724132 -23.3720335484094903, -52.1945748342611751 -23.3647058139221144, -52.1913385438386968 -23.3600677448305305, -52.1849801382227838 -23.3533733767798708, -52.1790144611484266 -23.3499797436701897, -52.1783951160417132 -23.3493542409054271, -52.1691998143199385 -23.3564147760210403, -52.1639439874250570 -23.3642809714896202, -52.1483685731510604 -23.3684950785849423, -52.1509882488085736 -23.3725011688937911, -52.1510763751745117 -23.3782762454522981, -52.1450221562474781 -23.3873390428624930, -52.1440608862009185 -23.3927866411904688, -52.1495255230843782 -23.4089955253231778, -52.1486363894577494 -23.4142490292692287, -52.1505483247453299 -23.4147437301389800, -52.1546000826276668 -23.4203273482285113, -52.1665775827891594 -23.4245653107404337, -52.1736604040044085 -23.4375277232257986, -52.1764125767789437 -23.4380843037475870, -52.1746613638308077 -23.4416030100708213, -52.1754971910424956 -23.4427410499594657, -52.1826847509004779 -23.4481755955272888, -52.1865197083178600 -23.4490153977423574, -52.1890187183391276 -23.4522956488250998, -52.1910717338734003 -23.4595106398041366, -52.1887138103940060 -23.4639539705992206, -52.1885251838900786 -23.4677328552870108, -52.2013275818023885 -23.4765660117120092, -52.2132729500865480 -23.4806838877511836, -52.2130505945092978 -23.4847612115606239, -52.2208305953556646 -23.4929395275371462, -52.2202369384838789 -23.4942045534972976, -52.2219373055621645 -23.4958306347759276, -52.2214639159269609 -23.5033793236967767, -52.2255747880460035 -23.5079501567742568, -52.2261862389037788 -23.5126679345774505, -52.2274675974516072 -23.5128458933232878, -52.2261581773579451 -23.5178315458890665, -52.2242675110367713 -23.5187613729389682, -52.2257979179395306 -23.5211843129056888, -52.2242169925201551 -23.5229643266422954, -52.2275759180940895 -23.5245009496590569, -52.2270442577862468 -23.5283671657120976, -52.2352138638287329 -23.5289473894104617, -52.2344334834184565 -23.5301841703630998, -52.2365815509977551 -23.5322123493204458, -52.2359953252240530 -23.5357801190572218, -52.2381015059796709 -23.5341972897730329, -52.2397747432098072 -23.5357064582863700, -52.2388839548306123 -23.5379529575628794, -52.2417146123394218 -23.5408833013232766, -52.2413237867633029 -23.5422851834144353, -52.2443766541592254 -23.5409575790289978, -52.2499118104816489 -23.5424009405509196, -52.2500766004546904 -23.5462299543488598, -52.2530490819495412 -23.5480947921408870, -52.2574091714960218 -23.5472410432395236, -52.2576930685801813 -23.5517844730749175, -52.2627136409217314 -23.5505417179259098, -52.2636911482278492 -23.5513631955549840, -52.2624616266027715 -23.5533199233757387, -52.2639679694461847 -23.5549705093814623, -52.2664117538992627 -23.5552775765988258, -52.2674958668407612 -23.5526792265650329, -52.2686296934055576 -23.5542822950918094, -52.2721330294157269 -23.5530376900373426, -52.2728322792862059 -23.5564935328501974, -52.2752375952387638 -23.5590755898665520, -52.2735207975467233 -23.5622717426467716, -52.2751629982736858 -23.5633631994520556, -52.2784108090115751 -23.5636248428122030, -52.2777979552114402 -23.5611177460870636, -52.2803029996836699 -23.5612447519437183, -52.2848774345459333 -23.5582362049368612, -52.2863283251920166 -23.5619214369247061, -52.2847973571123248 -23.5651576823810842, -52.2878755763966865 -23.5656600706556674, -52.2901305634746905 -23.5701267847232998, -52.2929931136412165 -23.5692113612153094, -52.2953766677989620 -23.5712495019628818, -52.2963569261311818 -23.5681641735377525, -52.2979658231641906 -23.5679832083583278, -52.3016041276283659 -23.5730073986724733, -52.3048265729879063 -23.5729775744554786))"
          ],
          [
           4117503,
           "Paiçandu",
           "4115200",
           "Maringá/PR",
           0.601674637934,
           0.0151362732829,
           "POLYGON ((-52.1486363894577494 -23.4142490292692287, -52.1419922755230800 -23.4177643775239517, -52.1376428114665487 -23.4172730374206708, -52.1187193246370839 -23.4024684815351520, -52.1087671624745212 -23.4050733696402631, -52.0949863291557449 -23.4003380424666148, -52.0893679297860785 -23.4016667080520619, -52.0821423214109700 -23.4058845041664654, -52.0767436129273733 -23.4065420614668938, -52.0740262538085403 -23.4104790838425743, -52.0548880925114190 -23.4174600388496401, -52.0478787468067026 -23.4226734672067209, -52.0482381950366175 -23.4280509804683561, -52.0463227595876674 -23.4385239598128692, -52.0450393802631197 -23.4394113748350605, -52.0064708400572044 -23.4549080102963785, -52.0130519996500311 -23.4626480101974835, -52.0181819996994932 -23.4659619903535486, -52.0283023854466933 -23.4685117347287360, -52.0374355314245918 -23.4667892542206573, -52.0422670293998522 -23.4675377033022983, -52.0499956807560125 -23.4729767940437455, -52.0587682291704255 -23.4761621675499441, -52.0673001432869569 -23.4832576548168959, -52.0704872488873889 -23.4842357988429740, -52.0869535117951159 -23.5064580304137394, -52.0880442752230692 -23.5115466238775639, -52.0849079480433375 -23.5154668154411297, -52.0852125682054066 -23.5172215618255791, -52.0918664568714576 -23.5177743535035688, -52.0949649082039059 -23.5205579279059975, -52.1002595804152406 -23.5195539355656251, -52.1438798149014815 -23.5179650367570048, -52.1513825511637492 -23.5151117729898829, -52.1569968927923355 -23.5158561490420084, -52.1676284765728724 -23.5136618626048062, -52.1733483509456164 -23.5155595238529145, -52.1813279140519626 -23.5156456636164535, -52.1844803849617733 -23.5133374456665365, -52.1927740704669532 -23.5142895543194186, -52.1921016401785209 -23.5162756306158371, -52.1955520375964284 -23.5181750266561380, -52.1983842365432338 -23.5151380062139879, -52.1988813736763859 -23.5117778908369246, -52.2056605666817859 -23.5115483199989512, -52.2081338318108692 -23.5146014688826313, -52.2118220477492514 -23.5134072546410380, -52.2135455750681672 -23.5192038151039355, -52.2174332363547364 -23.5220383648785969, -52.2196009208457781 -23.5211244297485678, -52.2242169925201551 -23.5229643266422954, -52.2257979179395306 -23.5211843129056888, -52.2242675110367713 -23.5187613729389682, -52.2261581773579451 -23.5178315458890665, -52.2274675974516072 -23.5128458933232878, -52.2261862389037788 -23.5126679345774505, -52.2255747880460035 -23.5079501567742568, -52.2214639159269609 -23.5033793236967767, -52.2219373055621645 -23.4958306347759276, -52.2202369384838789 -23.4942045534972976, -52.2208305953556646 -23.4929395275371462, -52.2130505945092978 -23.4847612115606239, -52.2132729500865480 -23.4806838877511836, -52.2013275818023885 -23.4765660117120092, -52.1885251838900786 -23.4677328552870108, -52.1887138103940060 -23.4639539705992206, -52.1910717338734003 -23.4595106398041366, -52.1890187183391276 -23.4522956488250998, -52.1865197083178600 -23.4490153977423574, -52.1826847509004779 -23.4481755955272888, -52.1754971910424956 -23.4427410499594657, -52.1746613638308077 -23.4416030100708213, -52.1764125767789437 -23.4380843037475870, -52.1736604040044085 -23.4375277232257986, -52.1665775827891594 -23.4245653107404337, -52.1546000826276668 -23.4203273482285113, -52.1505483247453299 -23.4147437301389800, -52.1486363894577494 -23.4142490292692287))"
          ],
          [
           4120408,
           "Presidente Castelo Branco",
           "4115200",
           "Maringá/PR",
           0.636625480426,
           0.013754414604,
           "POLYGON ((-52.1790144611484266 -23.3499797436701897, -52.1828186401680796 -23.3456199931680999, -52.1841421409470172 -23.3385532958978388, -52.1903829530108396 -23.3348254090653313, -52.1885592762895385 -23.3335198911300381, -52.2156234001997177 -23.3261976425071680, -52.2166512227756812 -23.3275804553736634, -52.2287102033131987 -23.3181247513561516, -52.2385035856718787 -23.3143419456242214, -52.2347323200405071 -23.3110174946615984, -52.2283835821365869 -23.3004201013065995, -52.2189005756010260 -23.2886586362869821, -52.2293258099381319 -23.2835935744838025, -52.2395193051717683 -23.2743088693587765, -52.2440297703575993 -23.2682321278103927, -52.2376035351749692 -23.2647968426001626, -52.2311255449079113 -23.2572355883516479, -52.2187425979924456 -23.2479806948531404, -52.2158982366142936 -23.2479466240374109, -52.2103152669359929 -23.2526951685471204, -52.2010528479105460 -23.2552856018489820, -52.1948090375070137 -23.2598364250109739, -52.1881715758574956 -23.2623135833051720, -52.1789589459985450 -23.2597193818439791, -52.1759117794050553 -23.2560409856029651, -52.1745246416988380 -23.2505377444213082, -52.1698693928581747 -23.2456292204121269, -52.1703528036389343 -23.2443639363465309, -52.1641915833748158 -23.2440574087223695, -52.1599725965580205 -23.2458557641321590, -52.1556580774582699 -23.2437201143917491, -52.1607355157314032 -23.2398928722582241, -52.1641180494083869 -23.2336500717933063, -52.1467568513475612 -23.2138972292736412, -52.1424203087502178 -23.2108971970479843, -52.1339915019062232 -23.2087331575091866, -52.1253129344443096 -23.1997707460230913, -52.1084226528830641 -23.1928495842408893, -52.1080913138629853 -23.1901548934335437, -52.1081126646677149 -23.1842628447544143, -52.1067632472260129 -23.1824901299154931, -52.0917663659250252 -23.1806393098562467, -52.0871711890990809 -23.1777809577249627, -52.0730220069600023 -23.1907188906642432, -52.0708293500944137 -23.1896702910510726, -52.0587376800997959 -23.2038883927351094, -52.0611059107091592 -23.2053039804942500, -52.0628803540450349 -23.2130764702029069, -52.0671513909239252 -23.2177277539326496, -52.0709794505411878 -23.2299021138913986, -52.0805868953688673 -23.2298906007705455, -52.0802640342577092 -23.2336072002120773, -52.0860501311086068 -23.2432453730754673, -52.0826985386066212 -23.2505345815056899, -52.0822557007399496 -23.2556668010819863, -52.0841083832951881 -23.2599975340589253, -52.0903241960048149 -23.2623441737445660, -52.0935088995160527 -23.2717248383305559, -52.1045346462568659 -23.2840742288425417, -52.1147531705223628 -23.2866180943495351, -52.1170396365699276 -23.2919005537675048, -52.1142082416170069 -23.2950419432310696, -52.1130167055564471 -23.3036222768465677, -52.1254675306020090 -23.2995003799385358, -52.1405731849044969 -23.3021000609689963, -52.1442978863383360 -23.3041579130572245, -52.1524364468844510 -23.3208974493577443, -52.1591899516549233 -23.3268710287749172, -52.1606401318366011 -23.3305608311173955, -52.1673650678435479 -23.3351843347891759, -52.1709670873611344 -23.3417939327437693, -52.1783951160417132 -23.3493542409054271, -52.1790144611484266 -23.3499797436701897))"
          ]
         ],
         "index": [
          0,
          1,
          2,
          3,
          4,
          5,
          6,
          7,
          8,
          9
         ]
        }
       },
       "height": 400,
       "layout": "IPY_MODEL_cc129f78c49241c3859fd0ff1bebb27f",
       "value": "Hello World!"
      }
     },
     "cffa9d5f0591427884b3c1033fc9af5d": {
      "model_module": "keplergl-jupyter",
      "model_module_version": "^0.3.0",
      "model_name": "KeplerGlModal",
      "state": {
       "_model_module_version": "^0.3.0",
       "_view_module_version": "^0.3.0",
       "config": {
        "config": {
         "mapState": {
          "bearing": 24,
          "dragRotate": true,
          "isSplit": false,
          "latitude": -23.40153385173574,
          "longitude": -51.97410213677811,
          "pitch": 50,
          "zoom": 10.330065763050756
         },
         "mapStyle": {
          "mapStyles": {},
          "styleType": "light",
          "threeDBuildingColor": [
           9.665468314072013,
           17.18305478057247,
           31.1442867897876
          ],
          "topLayerGroups": {},
          "visibleLayerGroups": {
           "3d building": false,
           "border": false,
           "building": true,
           "label": true,
           "land": true,
           "road": true,
           "water": true
          }
         },
         "visState": {
          "animationConfig": {
           "currentTime": null,
           "speed": 1
          },
          "filters": [],
          "interactionConfig": {
           "brush": {
            "enabled": false,
            "size": 0.5
           },
           "coordinate": {
            "enabled": false
           },
           "geocoder": {
            "enabled": false
           },
           "tooltip": {
            "compareMode": false,
            "compareType": "absolute",
            "enabled": true,
            "fieldsToShow": {
             "Commuting_Maringa": [
              {
               "format": null,
               "name": "cod_origem"
              },
              {
               "format": null,
               "name": "Mun_origem"
              },
              {
               "format": null,
               "name": "cod_destino"
              },
              {
               "format": null,
               "name": "Mun_destino"
              },
              {
               "format": null,
               "name": "Movimento_Pendular"
              }
             ],
             "Municipios_Arranjo": [
              {
               "format": null,
               "name": "CodMunic"
              },
              {
               "format": null,
               "name": "NomMunic"
              },
              {
               "format": null,
               "name": "CodArranjo"
              },
              {
               "format": null,
               "name": "NomeArranj"
              },
              {
               "format": null,
               "name": "Shape_Leng"
              }
             ]
            }
           }
          },
          "layerBlending": "normal",
          "layers": [
           {
            "config": {
             "color": [
              136,
              87,
              44
             ],
             "columns": {
              "lat0": "point_latitude",
              "lat1": "point_latitude.1",
              "lng0": "point_longitude",
              "lng1": "point_longitude.1"
             },
             "dataId": "Commuting_Maringa",
             "hidden": false,
             "isVisible": true,
             "label": "point",
             "textLabel": [
              {
               "alignment": "center",
               "anchor": "start",
               "color": [
                255,
                255,
                255
               ],
               "field": null,
               "offset": [
                0,
                0
               ],
               "size": 18
              }
             ],
             "visConfig": {
              "colorRange": {
               "category": "ColorBrewer",
               "colors": [
                "#fef0d9",
                "#fdd49e",
                "#fdbb84",
                "#fc8d59",
                "#e34a33",
                "#b30000"
               ],
               "name": "ColorBrewer OrRd-6",
               "type": "sequential"
              },
              "opacity": 0.8,
              "sizeRange": [
               0,
               10
              ],
              "targetColor": null,
              "thickness": 2
             }
            },
            "id": "e9q15zm",
            "type": "arc",
            "visualChannels": {
             "colorField": {
              "name": "Movimento_Pendular",
              "type": "integer"
             },
             "colorScale": "quantile",
             "sizeField": {
              "name": "Movimento_Pendular",
              "type": "integer"
             },
             "sizeScale": "linear"
            }
           },
           {
            "config": {
             "color": [
              255,
              153,
              31
             ],
             "columns": {
              "geojson": "geometry"
             },
             "dataId": "Municipios_Arranjo",
             "hidden": false,
             "isVisible": true,
             "label": "Municipios_Arranjo",
             "textLabel": [
              {
               "alignment": "center",
               "anchor": "start",
               "color": [
                255,
                255,
                255
               ],
               "field": null,
               "offset": [
                0,
                0
               ],
               "size": 18
              }
             ],
             "visConfig": {
              "colorRange": {
               "category": "Uber",
               "colors": [
                "#5A1846",
                "#900C3F",
                "#C70039",
                "#E3611C",
                "#F1920E",
                "#FFC300"
               ],
               "name": "Global Warming",
               "type": "sequential"
              },
              "elevationScale": 5,
              "enable3d": false,
              "enableElevationZoomFactor": true,
              "filled": false,
              "heightRange": [
               0,
               500
              ],
              "opacity": 0.8,
              "radius": 10,
              "radiusRange": [
               0,
               50
              ],
              "sizeRange": [
               0,
               10
              ],
              "strokeColor": [
               129,
               116,
               107
              ],
              "strokeColorRange": {
               "category": "Uber",
               "colors": [
                "#5A1846",
                "#900C3F",
                "#C70039",
                "#E3611C",
                "#F1920E",
                "#FFC300"
               ],
               "name": "Global Warming",
               "type": "sequential"
              },
              "strokeOpacity": 0.8,
              "stroked": true,
              "thickness": 2.1,
              "wireframe": false
             }
            },
            "id": "4i2fd3g",
            "type": "geojson",
            "visualChannels": {
             "colorField": null,
             "colorScale": "quantile",
             "heightField": null,
             "heightScale": "linear",
             "radiusField": null,
             "radiusScale": "linear",
             "sizeField": null,
             "sizeScale": "linear",
             "strokeColorField": null,
             "strokeColorScale": "quantile"
            }
           }
          ],
          "splitMaps": []
         }
        },
        "version": "v1"
       },
       "data": {
        "Commuting_Maringa": {
         "columns": [
          "cod_origem",
          "Mun_origem",
          "point_latitude",
          "point_longitude",
          "cod_destino",
          "Mun_destino",
          "Movimento_Pendular",
          "point_latitude.1",
          "point_longitude.1",
          "Arranjo",
          "departure",
          "arrival"
         ],
         "data": [
          [
           4126256,
           "SARANDI",
           -23.444000000000003,
           -51.873999999999995,
           4115200,
           "MARINGÁ",
           24224,
           -23.425,
           -51.93899999999999,
           true,
           "2010-31-07 10:30:0'",
           "2010-31-07 11:00:0'"
          ],
          [
           4115200,
           "MARINGÁ",
           -23.425,
           -51.93899999999999,
           4126256,
           "SARANDI",
           24224,
           -23.444000000000003,
           -51.873999999999995,
           true,
           "2010-31-07 10:30:0'",
           "2010-31-07 11:00:0'"
          ],
          [
           4117503,
           "PAIÇANDU",
           -23.458000000000002,
           -52.049,
           4115200,
           "MARINGÁ",
           10550,
           -23.425,
           -51.93899999999999,
           true,
           "2010-31-07 10:30:0'",
           "2010-31-07 11:00:0'"
          ],
          [
           4115200,
           "MARINGÁ",
           -23.425,
           -51.93899999999999,
           4117503,
           "PAIÇANDU",
           10550,
           -23.458000000000002,
           -52.049,
           true,
           "2010-31-07 10:30:0'",
           "2010-31-07 11:00:0'"
          ],
          [
           4114104,
           "MANDAGUAÇU",
           -23.346999999999998,
           -52.095,
           4115200,
           "MARINGÁ",
           3856,
           -23.425,
           -51.93899999999999,
           true,
           "2010-31-07 10:30:0'",
           "2010-31-07 11:00:0'"
          ],
          [
           4115200,
           "MARINGÁ",
           -23.425,
           -51.93899999999999,
           4114104,
           "MANDAGUAÇU",
           3856,
           -23.346999999999998,
           -52.095,
           true,
           "2010-31-07 10:30:0'",
           "2010-31-07 11:00:0'"
          ],
          [
           4114807,
           "MARIALVA",
           -23.485,
           -51.792,
           4115200,
           "MARINGÁ",
           3288,
           -23.425,
           -51.93899999999999,
           true,
           "2010-31-07 10:30:0'",
           "2010-31-07 11:00:0'"
          ],
          [
           4115200,
           "MARINGÁ",
           -23.425,
           -51.93899999999999,
           4114807,
           "MARIALVA",
           3288,
           -23.485,
           -51.792,
           true,
           "2010-31-07 10:30:0'",
           "2010-31-07 11:00:0'"
          ],
          [
           4114807,
           "MARIALVA",
           -23.485,
           -51.792,
           4126256,
           "SARANDI",
           1004,
           -23.444000000000003,
           -51.873999999999995,
           true,
           "2010-31-07 10:30:0'",
           "2010-31-07 11:00:0'"
          ],
          [
           4126256,
           "SARANDI",
           -23.444000000000003,
           -51.873999999999995,
           4114807,
           "MARIALVA",
           1004,
           -23.485,
           -51.792,
           true,
           "2010-31-07 10:30:0'",
           "2010-31-07 11:00:0'"
          ],
          [
           4110003,
           "IGUARAÇU",
           -23.197,
           -51.828,
           4115200,
           "MARINGÁ",
           635,
           -23.425,
           -51.93899999999999,
           true,
           "2010-31-07 10:30:0'",
           "2010-31-07 11:00:0'"
          ],
          [
           4115200,
           "MARINGÁ",
           -23.425,
           -51.93899999999999,
           4110003,
           "IGUARAÇU",
           635,
           -23.197,
           -51.828,
           true,
           "2010-31-07 10:30:0'",
           "2010-31-07 11:00:0'"
          ],
          [
           4126256,
           "SARANDI",
           -23.444000000000003,
           -51.873999999999995,
           4117503,
           "PAIÇANDU",
           120,
           -23.458000000000002,
           -52.049,
           true,
           "2010-31-07 10:30:0'",
           "2010-31-07 11:00:0'"
          ],
          [
           4117503,
           "PAIÇANDU",
           -23.458000000000002,
           -52.049,
           4126256,
           "SARANDI",
           120,
           -23.444000000000003,
           -51.873999999999995,
           true,
           "2010-31-07 10:30:0'",
           "2010-31-07 11:00:0'"
          ],
          [
           4107900,
           "FLORESTA",
           -23.599,
           -52.081,
           4111100,
           "ITAMBÉ",
           86,
           -23.660999999999998,
           -51.99,
           true,
           "2010-31-07 10:30:0'",
           "2010-31-07 11:00:0'"
          ],
          [
           4111100,
           "ITAMBÉ",
           -23.660999999999998,
           -51.99,
           4107900,
           "FLORESTA",
           86,
           -23.599,
           -52.081,
           true,
           "2010-31-07 10:30:0'",
           "2010-31-07 11:00:0'"
          ]
         ],
         "index": [
          1,
          2,
          3,
          4,
          5,
          6,
          7,
          8,
          13,
          14,
          15,
          16,
          24,
          25,
          32,
          33
         ]
        },
        "Municipios_Arranjo": {
         "columns": [
          "CodMunic",
          "NomMunic",
          "CodArranjo",
          "NomeArranj",
          "Shape_Leng",
          "Shape_Area",
          "geometry"
         ],
         "data": [
          [
           4126256,
           "Sarandi",
           "4115200",
           "Maringá/PR",
           0.544904971268,
           0.00912425298747,
           "POLYGON ((-51.8510324708718144 -23.4547953783040271, -51.8511988796245760 -23.4549050398356940, -51.8534940223312333 -23.4579305885258123, -51.8534712514970124 -23.4863736402312497, -51.8525132639759363 -23.4905119137937390, -51.8467021803613193 -23.4967329551616899, -51.8496016557917301 -23.5047365427572004, -51.8529605319029656 -23.5108187027208828, -51.8590147319442849 -23.5158666090567294, -51.8637254869416324 -23.5167462224601422, -51.8678851158053931 -23.5233300467442064, -51.8753138369639828 -23.5224397089253898, -51.8794453431280544 -23.5243470333888354, -51.8808779748386542 -23.5262500474017315, -51.8811002557721395 -23.5330380609577219, -51.8869306217507642 -23.5359764122815704, -51.8874849971348908 -23.5389784338076424, -51.8896863243643338 -23.5410921643718325, -51.8930742647654597 -23.5402915069474261, -51.8935145548527998 -23.5441926679571907, -51.8964577957905817 -23.5461665359568428, -51.8997934828828988 -23.5559315545975210, -51.9024750372930725 -23.5576888037952017, -51.9051591259928387 -23.5558315068185493, -51.9113447268775872 -23.5589479922559804, -51.9123299233872331 -23.5607617197774744, -51.9183468528249819 -23.5538442730946826, -51.9152843402001167 -23.5513285905419707, -51.9201627432159967 -23.5458894404452508, -51.9202967772744159 -23.5428488586878188, -51.9281988529946261 -23.5338604711837434, -51.9226570983463489 -23.5304536459189535, -51.9094389060805952 -23.5099142950086843, -51.9224370315437227 -23.5001135013369549, -51.9190990529788792 -23.4970022220748547, -51.9177084061179812 -23.4874882662704181, -51.9115394462883728 -23.4770667587238790, -51.9056409215912140 -23.4768539359603210, -51.9038190003465729 -23.4703840000215109, -51.9058189999468595 -23.4649870002498346, -51.9047079999741641 -23.4593749995565304, -51.8970870001649018 -23.4527459996281209, -51.8932299598947111 -23.4454259696327654, -51.8876798397527637 -23.4399570303925771, -51.8779185371107587 -23.4159342931330912, -51.8677678801834645 -23.4149309995659110, -51.8637441595652717 -23.4160990201536379, -51.8481139504983730 -23.4103314664239974, -51.8451850573444517 -23.4063616547664992, -51.8398810456736783 -23.4065294367840124, -51.8405509920345935 -23.4025686129510859, -51.8424843707570631 -23.4003959156389669, -51.8430171219425802 -23.3936634154342187, -51.8392578694550821 -23.3933850069124674, -51.8335011813343840 -23.3957294819300046, -51.8273329634454853 -23.3932423978183692, -51.8192689027376332 -23.3927881457562989, -51.7971347876402888 -23.4090818134748702, -51.8004774858472388 -23.4124427733153198, -51.8018825020757845 -23.4175416838016304, -51.8036237946024016 -23.4294193106526336, -51.8029885368914051 -23.4377727318260440, -51.8064763047376573 -23.4450803763582485, -51.8266052095627288 -23.4595560483729173, -51.8331472270628524 -23.4586966850039857, -51.8409677081931477 -23.4518011512021189, -51.8456279923379384 -23.4445181175170774, -51.8459838351857911 -23.4477925122146189, -51.8510324708718144 -23.4547953783040271))"
          ],
          [
           4107900,
           "Floresta",
           "4115200",
           "Maringá/PR",
           0.693632333799,
           0.0139730939292,
           "POLYGON ((-52.1002707410018502 -23.5196632841332303, -51.9997501137767131 -23.5565708664522617, -52.0069303765355926 -23.5617551693655400, -52.0043980520284208 -23.5629276011278534, -52.0056743860640154 -23.5659819326200477, -52.0075352803289093 -23.5650337414139699, -52.0147016575554062 -23.5720370787481670, -52.0148268485801282 -23.5759593387524546, -52.0183374690988671 -23.5779572330398537, -52.0172170936938869 -23.5807336245570696, -52.0190279164051503 -23.5844345883854771, -52.0259282310030358 -23.5831983308382291, -52.0221821832611226 -23.5855171958618826, -52.0201018112495603 -23.5895864707389933, -52.0260434089760793 -23.5885311522907841, -52.0288047782178751 -23.5899516125768400, -52.0295347723118766 -23.5923751910621604, -52.0274863433200494 -23.5958881003555234, -52.0306865592372674 -23.5982464393216560, -52.0303122703949157 -23.6021804210895425, -52.0319893693139193 -23.6050997625439436, -52.0284019152161932 -23.6039206713019212, -52.0291264890961429 -23.6071032263328107, -52.0357599829368382 -23.6081954007970580, -52.0392206281294420 -23.6106642817311467, -52.0383772169349754 -23.6111031023262399, -52.0401830807845158 -23.6132243332363601, -52.0363626842903955 -23.6165434907894110, -52.0371047985475457 -23.6172496420572884, -52.0357932470606670 -23.6177962481982604, -52.0346619691745218 -23.6226800678307995, -52.0400862372899837 -23.6246069903202738, -52.0420613544479238 -23.6235317024260780, -52.0452441477991670 -23.6256711473055816, -52.0441731739527995 -23.6278986942692768, -52.0479956137065756 -23.6282202828397203, -52.0453796720341870 -23.6308679444999825, -52.0466890093902066 -23.6328546997845024, -52.0448414799503212 -23.6343071075868920, -52.0473889256583675 -23.6348951517898058, -52.0458384719678406 -23.6376600086024951, -52.0547912589094040 -23.6402400763184346, -52.0530227672868477 -23.6427089446620471, -52.0547922103921792 -23.6436896508566292, -52.0591788740057950 -23.6437364650657855, -52.0595549480024147 -23.6485427640373018, -52.0615253086460257 -23.6507976153176287, -52.0634614680722621 -23.6489219173125775, -52.0662077278043398 -23.6488126712677058, -52.0666287427222301 -23.6515797458085899, -52.0689595615344842 -23.6529969154752280, -52.0709875534328148 -23.6618952044001389, -52.0768270043627126 -23.6573637805140038, -52.0769936990998872 -23.6540092238465718, -52.0826291622060467 -23.6580502717026206, -52.0822958509726845 -23.6594622711668308, -52.0786241052182390 -23.6603672166736487, -52.0767379705808366 -23.6654595441225979, -52.0809319382582885 -23.6635791300727760, -52.0864413101183459 -23.6635217668160180, -52.0842707091258603 -23.6604361775874850, -52.0895978270780233 -23.6573952711747779, -52.0919066062048728 -23.6604220195604853, -52.0906588571205020 -23.6661451692640981, -52.0941064225733044 -23.6657642865924913, -52.0954911240161209 -23.6614038544042842, -52.0996059090853691 -23.6609037728907765, -52.1025766674791839 -23.6628463804560738, -52.1035199492861807 -23.6709169621480555, -52.1051593387324488 -23.6728766316512065, -52.1092654804175481 -23.6736127285445264, -52.1140199721439785 -23.6716678456944578, -52.1160950120751068 -23.6727942186781775, -52.1206331700847159 -23.6760254692999297, -52.1274921194656713 -23.6880694302599295, -52.1331343949363486 -23.6904571482787105, -52.1408493954832011 -23.6905860355170717, -52.1571432214824426 -23.6813469008387756, -52.1596872938334855 -23.6778651683428052, -52.1578562966307686 -23.6688816218892839, -52.1592119724545000 -23.6600045164951780, -52.1573758877869409 -23.6532168995402117, -52.1584649227179398 -23.6503487663824217, -52.1633826926570805 -23.6478265646442196, -52.1771876296053847 -23.6489181734349359, -52.1908332615457198 -23.6445739470299827, -52.1897250251897162 -23.6430518687486710, -52.1847772628603366 -23.6441755608533981, -52.1829996170386607 -23.6421582007403117, -52.1793349291635877 -23.6416494983256484, -52.1768330826805595 -23.6358100968584495, -52.1705264942023064 -23.6291433119142766, -52.1563873790742605 -23.6250506411740844, -52.1439752590509329 -23.6147441029579568, -52.1334707674619153 -23.6009178439832681, -52.1192378485478116 -23.5889846426271106, -52.1133804921159935 -23.5744037490337632, -52.1047009614801482 -23.5654366682675800, -52.0974209342286940 -23.5607148552063563, -52.1002707410018502 -23.5196632841332303))"
          ],
          [
           4110003,
           "Iguaraçu",
           "4115200",
           "Maringá/PR",
           0.700300445507,
           0.0145857340864,
           "POLYGON ((-51.9393744960361232 -23.2639476118927178, -51.9376430753675891 -23.2629600654545925, -51.9386191455570838 -23.2610134433157327, -51.9363417671588081 -23.2591143674340515, -51.9352089883041117 -23.2602565504993777, -51.9291205798508599 -23.2598343511743337, -51.9281843829028844 -23.2550845485130822, -51.9230147596234133 -23.2534115801802272, -51.9269575898208586 -23.2430906860862478, -51.9251584061354947 -23.2399991964057335, -51.9175709429446215 -23.2370558673343908, -51.9126534967614361 -23.2319761420852160, -51.9149991274077820 -23.2255974000999004, -51.9128800323875339 -23.2242588042004172, -51.9122545350187465 -23.2196186549768981, -51.9067040578459569 -23.2186567994716597, -51.9053658738359900 -23.2165008709184235, -51.9033461916733927 -23.2183214683610117, -51.9005974875839229 -23.2175212659935823, -51.8987682728374580 -23.2193407302904120, -51.8932469984501950 -23.2167109111795753, -51.8902064832425935 -23.2192532217587200, -51.8838688870394549 -23.2201356176645959, -51.8792955592426210 -23.2167057949364448, -51.8760626232913751 -23.2171269879200963, -51.8755483972407205 -23.2148601145026419, -51.8690940753312475 -23.2162087576280101, -51.8650022445578998 -23.2150955300346595, -51.8675745565205375 -23.2053280805264421, -51.8657741263747880 -23.1949841970629791, -51.8657131415482127 -23.1328532429827192, -51.8612634786265971 -23.1326648296181361, -51.8591485573600153 -23.1309375863005471, -51.8537025283489470 -23.1314529517922551, -51.8494141939098654 -23.1367636876939855, -51.8494447672621845 -23.1417018200828579, -51.8428680916890130 -23.1477879739358059, -51.8329397750505336 -23.1534045027156026, -51.8281184151327352 -23.1578146377352709, -51.8207651884626443 -23.1549225978995423, -51.8185771523137078 -23.1527163864520276, -51.8122585641813771 -23.1582433481519274, -51.8108089442773121 -23.1609632361643776, -51.8114275753222842 -23.1638824121435505, -51.8096392464540259 -23.1664640087070097, -51.7957016253296842 -23.1743939966855805, -51.7945688914411448 -23.1800350077094208, -51.7897425088096952 -23.1843724514274641, -51.7899110732374197 -23.1870137144113642, -51.7924865175386913 -23.1901995456724421, -51.7916430550828863 -23.1940305487707406, -51.7892543028437444 -23.1968940369301890, -51.7814883449111676 -23.1972098770341404, -51.7792611729647092 -23.1986143419782707, -51.7786877670267813 -23.2099559585006432, -51.7672417670938216 -23.2142531638523906, -51.7591433945519839 -23.2116481066747156, -51.7318669919680474 -23.2224813535315775, -51.7390103222685411 -23.2341051125608260, -51.7461241359200699 -23.2268484667832809, -51.7629629519786363 -23.2256448798073052, -51.7746800057776113 -23.2390694817711392, -51.7775084599474553 -23.2481893897285090, -51.7839546223079310 -23.2536962281983506, -51.7965986532052511 -23.2568396042642576, -51.8046744473678018 -23.2555384282558180, -51.8075437505436298 -23.2582399485147562, -51.8183496840906059 -23.2590762568636933, -51.8243803560685592 -23.2627337888332590, -51.8319567468063838 -23.2733906192815994, -51.8364641686864047 -23.2763398982676222, -51.8413477508979668 -23.2760388834876153, -51.8452949320154630 -23.2809567190772668, -51.8518749683550482 -23.2786886180851980, -51.8572953091311888 -23.2830252551113972, -51.8642343386437688 -23.2844113082352351, -51.8684743606032157 -23.2880113204660120, -51.8739012961078743 -23.2882970125970132, -51.8740134244799265 -23.2919456160972800, -51.8774949042663707 -23.2931660149995423, -51.8785614309652487 -23.2977932238781591, -51.8852988009988394 -23.3000601503555913, -51.8923247077190695 -23.3048767033970989, -51.8987134519641700 -23.3039181798800428, -51.8995742947178655 -23.3028304273822755, -51.8973055021471623 -23.3011240411415201, -51.8963755824671011 -23.2978390083634963, -51.9066012563428671 -23.2900686698332038, -51.9094716135240901 -23.2884336277097077, -51.9108529029390979 -23.2901893984219441, -51.9129291560556680 -23.2900121447446509, -51.9237937514803889 -23.2868890429949147, -51.9260114121968854 -23.2820608797057957, -51.9236497682221625 -23.2810467969720776, -51.9295369452737532 -23.2806994473215809, -51.9288382233053198 -23.2791062677400191, -51.9327746233501557 -23.2774640679123763, -51.9361264181995921 -23.2724584117262907, -51.9414404285329283 -23.2734433429358774, -51.9431099065968738 -23.2700734366397342, -51.9416178899535907 -23.2692109085565448, -51.9417530814395150 -23.2666467318611581, -51.9394149673268544 -23.2667812434595476, -51.9393744960361232 -23.2639476118927178))"
          ],
          [
           4111100,
           "Itambé",
           "4115200",
           "Maringá/PR",
           0.953026967666,
           0.0215921437579,
           "POLYGON ((-52.0438218825737522 -23.8109704537234279, -52.0468240713737487 -23.8052024773124344, -52.0462403025478579 -23.8021743061992197, -52.0393557674546514 -23.7919849694307572, -52.0343542382574356 -23.7755313986550618, -52.0340590303998738 -23.7696494439666139, -52.0363972065657663 -23.7643479018341850, -52.0417177028097058 -23.7601536274878526, -52.0510722339963650 -23.7564613313253403, -52.0562416081636457 -23.7514884194549722, -52.0597178835733985 -23.7438369829903309, -52.0611040590050607 -23.7309750265761750, -52.0645198909801366 -23.7282171880727333, -52.0802727333999087 -23.7220702823176453, -52.0952966258385572 -23.7200897764220144, -52.0954686751392160 -23.7170231862709784, -52.0916835374652578 -23.7095746692355647, -52.0946032953057738 -23.7063162797724658, -52.1115408866025973 -23.7055228421054380, -52.1176053119355629 -23.7018952458688545, -52.1192429917705908 -23.6971035365988882, -52.1184629647939346 -23.6926895129106470, -52.1130195096426405 -23.6845985444871872, -52.1124877683957379 -23.6805954839943524, -52.1160950120751068 -23.6727942186781775, -52.1140199721439785 -23.6716678456944578, -52.1092654804175481 -23.6736127285445264, -52.1051593387324488 -23.6728766316512065, -52.1035199492861807 -23.6709169621480555, -52.1025766674791839 -23.6628463804560738, -52.0996059090853691 -23.6609037728907765, -52.0954911240161209 -23.6614038544042842, -52.0941064225733044 -23.6657642865924913, -52.0906588571205020 -23.6661451692640981, -52.0919066062048728 -23.6604220195604853, -52.0895978270780233 -23.6573952711747779, -52.0842707091258603 -23.6604361775874850, -52.0864413101183459 -23.6635217668160180, -52.0809319382582885 -23.6635791300727760, -52.0767379705808366 -23.6654595441225979, -52.0786241052182390 -23.6603672166736487, -52.0822958509726845 -23.6594622711668308, -52.0826291622060467 -23.6580502717026206, -52.0769936990998872 -23.6540092238465718, -52.0768270043627126 -23.6573637805140038, -52.0709875534328148 -23.6618952044001389, -52.0689595615344842 -23.6529969154752280, -52.0666287427222301 -23.6515797458085899, -52.0662077278043398 -23.6488126712677058, -52.0634614680722621 -23.6489219173125775, -52.0615253086460257 -23.6507976153176287, -52.0586541897390020 -23.6537175737070129, -52.0607209541087173 -23.6566180671700295, -52.0581930560646242 -23.6599845515457901, -52.0547034491048635 -23.6577764928907754, -52.0526113211554957 -23.6619570282941822, -52.0471072481009855 -23.6602081598786071, -52.0484382141522133 -23.6585118757224677, -52.0436355988038031 -23.6535108105754261, -52.0371050215794639 -23.6580430195696749, -52.0351152220898143 -23.6546829149845053, -52.0368784706648739 -23.6532566567692584, -52.0344936205841009 -23.6510170211186050, -52.0284551883561903 -23.6531146160466506, -52.0259419240804846 -23.6516683641036707, -52.0275955884656014 -23.6499709593921921, -52.0246305182837432 -23.6458474185234877, -52.0273547779006549 -23.6431509839306955, -52.0312551250239608 -23.6430750712574991, -52.0315993261479548 -23.6388058833847481, -52.0334916103494720 -23.6365374064760658, -52.0320371152206462 -23.6362725732206513, -52.0318890670267820 -23.6346370868320719, -52.0287365835264950 -23.6374112129570904, -52.0240566932617412 -23.6377154194310037, -52.0269094111403660 -23.6345458784894618, -52.0250439312324033 -23.6331936057002849, -52.0266148525933545 -23.6310501876160401, -52.0244246131053956 -23.6297244664109485, -52.0199757325939345 -23.6320856913015405, -52.0153619964589211 -23.6269075523416063, -52.0143029719046126 -23.6290231022343278, -52.0118323570775942 -23.6296593572934626, -52.0119439251719768 -23.6333693215369181, -52.0091928549662157 -23.6327771908146360, -52.0079324245417070 -23.6297330036751418, -52.0099299087382292 -23.6272658125671455, -52.0083681928377928 -23.6271013778263068, -52.0122606592020134 -23.6259590130979404, -52.0128713240522984 -23.6213422129727064, -52.0089004889663329 -23.6225567015305273, -52.0080720631751205 -23.6197247382060596, -52.0042200797927876 -23.6192402509367980, -52.0022732481118624 -23.6215356382590471, -51.9984421020213290 -23.6219348572078616, -51.9982768318103012 -23.6199769323894770, -51.9959271470201543 -23.6211090871146325, -51.9949512917686434 -23.6242463325021959, -51.9859329901153728 -23.6200691137985359, -51.9871597175468878 -23.6171364506865871, -51.9863289535183526 -23.6157718823664595, -51.9808561417974602 -23.6188109370750681, -51.9787193715017679 -23.6160863815812263, -51.9743121565807087 -23.6168619874906653, -51.9715928882012008 -23.6152551939719615, -51.9700579909834346 -23.6166692510849998, -51.9687670213808701 -23.6126848704104191, -51.9648808565662534 -23.6122143226328376, -51.9636004638902591 -23.6163076291936704, -51.9657417137090647 -23.6188492221138517, -51.9643116045968441 -23.6229874992736200, -51.9624344478914395 -23.6240242404263086, -51.9613051880839407 -23.6230897467943350, -51.9621399154247001 -23.6210808618922101, -51.9580502439235943 -23.6207635963628491, -51.9451599912405868 -23.6352603062181288, -51.9366405983848836 -23.6396977320646329, -51.9371194855757494 -23.6456633713674478, -51.9351759364203076 -23.6515805363126788, -51.9372476047930718 -23.6566188279964535, -51.9399135523685231 -23.6730356992380848, -51.9399333725270935 -23.6795863628203165, -51.9366012053812938 -23.6807423666668342, -51.9373570540847140 -23.6833083258185297, -51.9410143171569416 -23.6831214098251621, -51.9448759106946909 -23.6783352232918674, -51.9445192719467741 -23.6842076316768271, -51.9455766516411472 -23.6849346355249395, -51.9488239398729092 -23.6816816887588857, -51.9526264731331935 -23.6817319734517469, -51.9522117957377532 -23.6780803455314981, -51.9553470590195161 -23.6757661794655405, -51.9575708693001275 -23.6789714477740745, -51.9546314387898178 -23.6815517744947783, -51.9532905361293160 -23.6863065531048846, -51.9570992243496903 -23.6853396847785689, -51.9585469817577632 -23.6873244408702135, -51.9585488919178147 -23.6930653530835116, -51.9618173259088394 -23.6914748399918267, -51.9636035899337116 -23.6945289763311280, -51.9589097898548857 -23.6977279781636412, -51.9534883429126353 -23.6987123769745835, -51.9488277107301997 -23.7039033240790786, -51.9450690958620385 -23.7058913528036328, -51.9365441002299804 -23.7074512268925446, -51.9322963719799304 -23.7143799204968673, -51.9255470562516166 -23.7126994230399077, -51.9192352948729194 -23.7259725512921591, -51.9211556550094429 -23.7279567749851594, -51.9207446153716887 -23.7328436756950509, -51.9248558975815513 -23.7358500355506408, -51.9256259025133318 -23.7398755665041676, -51.9302087136611590 -23.7447210948026282, -51.9306079146235220 -23.7480756029066811, -51.9359638252702780 -23.7531325852006034, -51.9398541485500687 -23.7613845799343721, -51.9429109936473878 -23.7635199931531247, -51.9444054528493098 -23.7689359245532046, -51.9504367597486407 -23.7759950810081477, -51.9554105727397086 -23.7760492507722461, -51.9564629252237751 -23.7739449963644347, -51.9616051308720444 -23.7757800279259186, -51.9647174209721356 -23.7788715319955486, -51.9665969276060764 -23.7835080938234000, -51.9746569233782907 -23.7876861129237227, -51.9739673717967321 -23.7929829183269703, -51.9772732562557280 -23.7973673309375044, -51.9837984762186807 -23.7962099214506679, -51.9861847670133557 -23.7922853492893864, -51.9924610483386687 -23.7894248711608043, -51.9962670835590188 -23.7906024479445932, -52.0108236702761246 -23.7904747586031817, -52.0239662799198186 -23.7961128081595348, -52.0263258887287634 -23.7990689849456771, -52.0298764328510401 -23.8116224747973320, -52.0335241586129769 -23.8175724407155371, -52.0383275401837864 -23.8173817808444710, -52.0438218825737522 -23.8109704537234279))"
          ],
          [
           4114104,
           "Mandaguaçu",
           "4115200",
           "Maringá/PR",
           0.953086368683,
           0.0259263762249,
           "POLYGON ((-51.9625388286040106 -23.1616193131807222, -51.9645642556358212 -23.1659579556950348, -51.9643271134055453 -23.1701428096429254, -51.9581454731350618 -23.1743256473107522, -51.9591589092561890 -23.1792478311224386, -51.9632879998412704 -23.1829106349178460, -51.9663706662731784 -23.1824684949250468, -51.9632371944409215 -23.1864588686818252, -51.9657508283380025 -23.1921901626458293, -51.9727540100894316 -23.1927128126461639, -51.9733950576357415 -23.1914673964031977, -51.9768633425691746 -23.1963750462713278, -51.9734543787165535 -23.1995199790637230, -51.9757382394281535 -23.2025170120504072, -51.9732791125409790 -23.2046632647977731, -51.9682292411864637 -23.2035593047181123, -51.9656038494380823 -23.2064821966959585, -51.9682439819741262 -23.2082050018593122, -51.9682790051718939 -23.2159007272367148, -51.9609367709152252 -23.2187110915435824, -51.9685516895088426 -23.2270012804846715, -51.9659668931575425 -23.2302432744075418, -51.9611219871899266 -23.2314116277443645, -51.9577232846018546 -23.2306490889842507, -51.9585487696099904 -23.2335534135591502, -51.9571400958387244 -23.2375686535704631, -51.9613275488272848 -23.2380760924376659, -51.9635888599378859 -23.2409701260704082, -51.9683920445571630 -23.2394166848321220, -51.9697409089157532 -23.2403655550263011, -51.9686305942265108 -23.2432809304705188, -51.9632405435162354 -23.2452446523188314, -51.9682329544872346 -23.2478535864738092, -51.9628367551121073 -23.2504020619055609, -51.9629152227593067 -23.2546279591129519, -51.9643247257054668 -23.2522345852578383, -51.9657180750290877 -23.2538646010704610, -51.9656117571768164 -23.2553316903052405, -51.9694420417168317 -23.2551321280452044, -51.9712785094955620 -23.2576469202691101, -51.9687453737999476 -23.2610529496338927, -51.9695969337514612 -23.2621966714391988, -51.9666858921401627 -23.2647331202372811, -51.9679941386185646 -23.2647662953282293, -51.9678766233074612 -23.2660698770231420, -51.9658138249480430 -23.2704115610446820, -51.9675661746392166 -23.2744190471012757, -51.9729775347853433 -23.2749330519187652, -51.9732100239234001 -23.2780426674351020, -51.9777569485243021 -23.2817593801912039, -51.9775209358424490 -23.2966639442855694, -51.9824593614103492 -23.2947599311258955, -51.9865427106774973 -23.2967862835600954, -51.9903581689942484 -23.3020096017616538, -51.9923450798614795 -23.3083078697123938, -51.9975558786008492 -23.3110153893487109, -52.0016973033878003 -23.3116891767140828, -52.0052552732122422 -23.3103824204123384, -52.0082026411389506 -23.3125165484998433, -52.0089367433359939 -23.3108227185935561, -52.0103848892512133 -23.3144279154159335, -52.0135848119894604 -23.3162248858697581, -52.0175253597075198 -23.3147024694433753, -52.0223439407202477 -23.3162128475448185, -52.0295181699275417 -23.3250130384209342, -52.0341402086037306 -23.3249618553053324, -52.0350803454815036 -23.3236694144118815, -52.0371567119127008 -23.3253706133630772, -52.0411050405651281 -23.3248513744912884, -52.0462765056561807 -23.3311581761088860, -52.0466243076656383 -23.3354588060789752, -52.0499108504053538 -23.3393582826585657, -52.0576306290502657 -23.3380226671123410, -52.0651281105738235 -23.3391263241205138, -52.0675997848022121 -23.3432861742174964, -52.0767135809669526 -23.3473314461892301, -52.0791876536871996 -23.3581531358585153, -52.0821944218350836 -23.3618842845320387, -52.0724502638685181 -23.3682122840696138, -52.0737283794611017 -23.3754776110029070, -52.0813809508701411 -23.3891276226416380, -52.0902844720507119 -23.3924064761778823, -52.0949863291557449 -23.4003380424666148, -52.1087671624745212 -23.4050733696402631, -52.1187193246370839 -23.4024684815351520, -52.1376428114665487 -23.4172730374206708, -52.1419922755230800 -23.4177643775239517, -52.1486363894577494 -23.4142490292692287, -52.1495255230843782 -23.4089955253231778, -52.1440608862009185 -23.3927866411904688, -52.1450221562474781 -23.3873390428624930, -52.1510763751745117 -23.3782762454522981, -52.1509882488085736 -23.3725011688937911, -52.1483685731510604 -23.3684950785849423, -52.1639439874250570 -23.3642809714896202, -52.1691998143199385 -23.3564147760210403, -52.1783951160417132 -23.3493542409054271, -52.1709670873611344 -23.3417939327437693, -52.1673650678435479 -23.3351843347891759, -52.1606401318366011 -23.3305608311173955, -52.1591899516549233 -23.3268710287749172, -52.1524364468844510 -23.3208974493577443, -52.1442978863383360 -23.3041579130572245, -52.1405731849044969 -23.3021000609689963, -52.1254675306020090 -23.2995003799385358, -52.1130167055564471 -23.3036222768465677, -52.1142082416170069 -23.2950419432310696, -52.1170396365699276 -23.2919005537675048, -52.1147531705223628 -23.2866180943495351, -52.1045346462568659 -23.2840742288425417, -52.0935088995160527 -23.2717248383305559, -52.0903241960048149 -23.2623441737445660, -52.0841083832951881 -23.2599975340589253, -52.0822557007399496 -23.2556668010819863, -52.0826985386066212 -23.2505345815056899, -52.0860501311086068 -23.2432453730754673, -52.0802640342577092 -23.2336072002120773, -52.0805868953688673 -23.2298906007705455, -52.0709794505411878 -23.2299021138913986, -52.0671513909239252 -23.2177277539326496, -52.0628803540450349 -23.2130764702029069, -52.0611059107091592 -23.2053039804942500, -52.0587376800997959 -23.2038883927351094, -52.0708293500944137 -23.1896702910510726, -52.0676900830308682 -23.1881515267714917, -52.0649630193278199 -23.1840590269025029, -52.0582434028107741 -23.1785868842772516, -52.0483514952252904 -23.1676857925652371, -52.0484023671754699 -23.1661980342118454, -52.0454746548314233 -23.1652970601111861, -52.0436555106932133 -23.1629168999949115, -52.0385990023420391 -23.1606607419996067, -52.0357918036488059 -23.1609507194001480, -52.0273987142791725 -23.1566028120700480, -52.0234633457567384 -23.1577738238028701, -52.0193485130234308 -23.1560686291638831, -52.0097736299489952 -23.1596486467676073, -52.0080477392117473 -23.1574813984477146, -51.9991541105737269 -23.1553451758391589, -51.9940765769724180 -23.1585019634947571, -51.9872933469104055 -23.1595166451770069, -51.9774906763535682 -23.1547781164168782, -51.9733765342995753 -23.1556016822717652, -51.9732640336082454 -23.1585345009664252, -51.9659303779845345 -23.1571836634952319, -51.9625388286040106 -23.1616193131807222))"
          ],
          [
           4114807,
           "Marialva",
           "4115200",
           "Maringá/PR",
           1.99828251932,
           0.0420752115599,
           "POLYGON ((-51.9997501137767131 -23.5565708664522617, -51.9975755746530126 -23.5562432515247906, -51.9959923928346370 -23.5580017768604648, -51.9934556886290693 -23.5557849345270824, -51.9968550126486662 -23.5531165974529699, -51.9972325453456392 -23.5473370629550232, -51.9925334185823544 -23.5490491131260455, -51.9909786697297704 -23.5482303019867913, -51.9893685667059344 -23.5463511802627181, -51.9906773293951687 -23.5446640853791678, -51.9900111062275414 -23.5422285531051898, -51.9857956330619686 -23.5424168459606449, -51.9854465702030097 -23.5390350290433048, -51.9809419011477871 -23.5369378388101609, -51.9816444425369468 -23.5344794097968588, -51.9789040364920538 -23.5313436473913953, -51.9813808692317139 -23.5291609460207951, -51.9810668493555568 -23.5236188981935470, -51.9835538219512614 -23.5193441938794194, -51.9811521689373990 -23.5183473700350305, -51.9806518688885717 -23.5148742314605670, -51.9768705200584122 -23.5161871049509159, -51.9772769075032102 -23.5206725806750114, -51.9745999081591776 -23.5195601678673825, -51.9698671287649177 -23.5205121074477574, -51.9667862708696475 -23.5147760326877346, -51.9683688663300813 -23.5136188696150725, -51.9675633957340892 -23.5123782098864353, -51.9691957425894202 -23.5071449298945367, -51.9664575057092861 -23.5042391619077762, -51.9607034723873085 -23.5055394394934751, -51.9590881362084929 -23.5027872307460370, -51.9590884635617272 -23.4976184294469022, -51.9558421016316174 -23.4946733511941375, -51.9560545205995936 -23.4930894849916854, -51.9525122043746705 -23.4912505791508579, -51.9519301631464714 -23.4870362373324610, -51.9486150615358042 -23.4851424764440821, -51.9414188555956571 -23.4886315896760607, -51.9418552947859666 -23.4837276000486668, -51.9405703767214391 -23.4817395182641349, -51.9383230167937313 -23.4801376269498974, -51.9337867950245027 -23.4805496234662883, -51.9301063240475855 -23.4758104094228202, -51.9174225377199150 -23.4787625113807508, -51.9115394462883728 -23.4770667587238790, -51.9177084061179812 -23.4874882662704181, -51.9190990529788792 -23.4970022220748547, -51.9224370315437227 -23.5001135013369549, -51.9094389060805952 -23.5099142950086843, -51.9226570983463489 -23.5304536459189535, -51.9281988529946261 -23.5338604711837434, -51.9202967772744159 -23.5428488586878188, -51.9201627432159967 -23.5458894404452508, -51.9152843402001167 -23.5513285905419707, -51.9183468528249819 -23.5538442730946826, -51.9123299233872331 -23.5607617197774744, -51.9113447268775872 -23.5589479922559804, -51.9051591259928387 -23.5558315068185493, -51.9024750372930725 -23.5576888037952017, -51.8997934828828988 -23.5559315545975210, -51.8964577957905817 -23.5461665359568428, -51.8935145548527998 -23.5441926679571907, -51.8930742647654597 -23.5402915069474261, -51.8896863243643338 -23.5410921643718325, -51.8874849971348908 -23.5389784338076424, -51.8869306217507642 -23.5359764122815704, -51.8811002557721395 -23.5330380609577219, -51.8808779748386542 -23.5262500474017315, -51.8794453431280544 -23.5243470333888354, -51.8753138369639828 -23.5224397089253898, -51.8678851158053931 -23.5233300467442064, -51.8637254869416324 -23.5167462224601422, -51.8590147319442849 -23.5158666090567294, -51.8529605319029656 -23.5108187027208828, -51.8496016557917301 -23.5047365427572004, -51.8467021803613193 -23.4967329551616899, -51.8525132639759363 -23.4905119137937390, -51.8534712514970124 -23.4863736402312497, -51.8534940223312333 -23.4579305885258123, -51.8511988796245760 -23.4549050398356940, -51.8510324708718144 -23.4547953783040271, -51.8459838351857911 -23.4477925122146189, -51.8456279923379384 -23.4445181175170774, -51.8409677081931477 -23.4518011512021189, -51.8331472270628524 -23.4586966850039857, -51.8266052095627288 -23.4595560483729173, -51.8064763047376573 -23.4450803763582485, -51.8029885368914051 -23.4377727318260440, -51.8036237946024016 -23.4294193106526336, -51.8018825020757845 -23.4175416838016304, -51.8004774858472388 -23.4124427733153198, -51.7971347876402888 -23.4090818134748702, -51.8192689027376332 -23.3927881457562989, -51.8273329634454853 -23.3932423978183692, -51.8335011813343840 -23.3957294819300046, -51.8392578694550821 -23.3933850069124674, -51.8430171219425802 -23.3936634154342187, -51.8461505667951883 -23.3901110357955986, -51.8457502632639944 -23.3881254406365429, -51.8410978454891165 -23.3855000246064151, -51.8447869760380513 -23.3815131015483644, -51.8425783903803676 -23.3797995090400832, -51.8421388728106649 -23.3754073056026073, -51.8395738678397038 -23.3723954841642012, -51.8432408453886637 -23.3664308880750013, -51.8393115823636208 -23.3590655673220340, -51.8434851866919644 -23.3545284615192372, -51.8473313802389839 -23.3535949346584744, -51.8491860934634019 -23.3563062647223205, -51.8510394478122407 -23.3534608385468232, -51.8449966304900727 -23.3467588622316384, -51.8467807343433833 -23.3446859743781943, -51.8459244583470422 -23.3416887219569276, -51.8469834766061126 -23.3419397335318308, -51.8506704253997555 -23.3367197149428307, -51.8493607004359092 -23.3321215298846596, -51.8473746259381869 -23.3319354259790543, -51.8478491496185256 -23.3304645398065986, -51.8459532897124973 -23.3294159608778386, -51.8463997995111185 -23.3279239370399978, -51.8427922644514183 -23.3296269984871287, -51.8345381967803291 -23.3280376050514064, -51.8328751308825417 -23.3210265650238853, -51.8282310489237261 -23.3152729579805964, -51.8281589997379797 -23.3234350609792500, -51.8269033555054079 -23.3261450105837298, -51.8249672329513942 -23.3269818513313112, -51.8115870664898921 -23.3224970797763831, -51.8025038059058716 -23.3238077040622329, -51.8040162587433315 -23.3269776757790623, -51.8028207701623842 -23.3310509976054163, -51.7960292249687200 -23.3325891503689604, -51.7932057197681388 -23.3350890102495896, -51.7909236810829725 -23.3409699208251595, -51.7851460405572652 -23.3370627568407372, -51.7810895819186499 -23.3377038943192474, -51.7763522249751418 -23.3354798331277493, -51.7743700058710488 -23.3387601687467736, -51.7774198020821359 -23.3406688691729300, -51.7802673524562920 -23.3505074145854792, -51.7784224508354214 -23.3502899378303255, -51.7775603966949234 -23.3520158762316328, -51.7737598887078434 -23.3507697432290229, -51.7729011449717973 -23.3522935446113706, -51.7746338022081432 -23.3546086459721778, -51.7727951850496879 -23.3551248981954700, -51.7736456361371324 -23.3558571621782676, -51.7692384427998604 -23.3560850503847064, -51.7678994970640929 -23.3574250941927062, -51.7691432711450261 -23.3583831887331144, -51.7680656594026232 -23.3631003855742847, -51.7712469221077072 -23.3655968073467193, -51.7709065574915712 -23.3699815760888328, -51.7638768889072480 -23.3727999038924281, -51.7666314754621908 -23.3750809578198755, -51.7725886296614703 -23.3754501205265797, -51.7750106613129333 -23.3784428673444040, -51.7705466497080806 -23.3808521070390611, -51.7681535231665180 -23.3854214823155075, -51.7714881787364334 -23.3877260840914687, -51.7720518881840235 -23.3903458550771006, -51.7705113944852542 -23.3909060014107695, -51.7683777655213930 -23.3972000659302353, -51.7752775971833330 -23.4005264873075021, -51.7689441207745062 -23.4046787588176244, -51.7690626676079546 -23.4077623695376928, -51.7722637576662237 -23.4139844891927851, -51.7688176805914395 -23.4172925113402925, -51.7658440416691406 -23.4161761064420944, -51.7638308768933939 -23.4173584253509830, -51.7657498943420933 -23.4213133847048880, -51.7687875092361196 -23.4206068314400682, -51.7727101811299235 -23.4222673648469595, -51.7661739543644330 -23.4255447758706623, -51.7723703327246199 -23.4324441290932555, -51.7626813418704046 -23.4321116524307627, -51.7623504102431866 -23.4337475857823847, -51.7687071035499571 -23.4432890869217658, -51.7652926376450750 -23.4444315155020035, -51.7639573557473227 -23.4482839539412566, -51.7650991215272143 -23.4517422797823656, -51.7681683799667098 -23.4538537197732921, -51.7663798748313297 -23.4571816816892351, -51.7674073880405103 -23.4606888991733058, -51.7620018447093457 -23.4639532880137835, -51.7594568649423081 -23.4684082956063094, -51.7609492566028848 -23.4752206942795851, -51.7594118134044265 -23.4810988691174884, -51.7629071328578334 -23.4863065678937346, -51.7568681457482853 -23.4899027364220956, -51.7538682187432642 -23.4937157278984614, -51.7477933783616777 -23.4953535804033891, -51.7262368168755415 -23.4920518337250996, -51.7148895382215983 -23.4925321040732911, -51.7117301596191510 -23.4972822017122098, -51.7098581452371491 -23.5035618051331312, -51.7687852528371195 -23.5511346499441174, -51.7723032217162427 -23.5576718722590499, -51.7775698773479007 -23.5626538268126069, -51.7780385734213837 -23.5733383500847253, -51.7824070734276347 -23.5778849985937882, -51.7871249861291858 -23.5801921058809398, -51.7877304888709205 -23.5823530805301971, -51.7919191982123834 -23.5857941339920671, -51.7955020801568367 -23.5869793738989415, -51.8028887652043295 -23.6034455693575183, -51.8101786184484467 -23.6071475089503338, -51.8144544577070292 -23.6054731862384983, -51.8159383300898071 -23.6066997481947851, -51.8196519536746791 -23.6058332019406976, -51.8235442689527872 -23.6072568251423149, -51.8304023954541435 -23.6186543965831106, -51.8299526795724432 -23.6253083374098196, -51.8352350508568520 -23.6277086504338172, -51.8367152719921478 -23.6298988260699048, -51.8358313526347843 -23.6319766278190855, -51.8385334655469592 -23.6363993884210117, -51.8437069145424516 -23.6389621792611138, -51.8472974551134484 -23.6378153458015277, -51.8474700925706884 -23.6352908103226014, -51.8518829678246789 -23.6339558171072213, -51.8522223072136512 -23.6383871635367200, -51.8548283239679222 -23.6414699729608628, -51.8568968896796605 -23.6387405809130087, -51.8584471868880996 -23.6387015161619729, -51.8589653834456499 -23.6417328753718721, -51.8622680123588680 -23.6408073398868055, -51.8625804404349537 -23.6426933153441610, -51.8647274531094240 -23.6424295693690851, -51.8662939857787819 -23.6470122618063670, -51.8691307748653117 -23.6431407919139929, -51.8671394483268386 -23.6405729441859762, -51.8685077263504581 -23.6381568444627419, -51.8720867358141504 -23.6395867620194053, -51.8768057268027860 -23.6457576212172285, -51.8818093064542722 -23.6470660313722192, -51.8886276001835540 -23.6451265633401704, -51.8890349732853338 -23.6480832509412267, -51.8847470417425143 -23.6512738054417468, -51.8850988070642529 -23.6554887102357156, -51.8887514710035589 -23.6541414196907454, -51.8897825050585197 -23.6551942164398952, -51.8887208427926225 -23.6569035236786362, -51.8849658683801067 -23.6577196530395213, -51.8863168686285690 -23.6602117922403750, -51.8919359685700670 -23.6596727790754358, -51.8911694700949511 -23.6626595274152010, -51.8933391879531314 -23.6600781134141585, -51.8929889937469966 -23.6566050827582899, -51.8994292331725546 -23.6535607877001439, -51.9026193191262450 -23.6545903837391620, -51.9010612427820774 -23.6565800645183231, -51.9051071523731480 -23.6567529933558944, -51.9055289982646286 -23.6634398673559758, -51.9083977258742948 -23.6610860717647711, -51.9107981063474995 -23.6613007336418946, -51.9109784725783925 -23.6638924295918969, -51.9133187765402795 -23.6662271172875762, -51.9127218272504933 -23.6718371313784814, -51.9190956841184743 -23.6669987814685214, -51.9234917366542845 -23.6685486541969681, -51.9221558342243270 -23.6651147872175898, -51.9230841054470602 -23.6622076288789458, -51.9250409258979744 -23.6652472834353489, -51.9297733941268120 -23.6664152095942200, -51.9297166442077014 -23.6711372573784615, -51.9318907777371805 -23.6761462986127640, -51.9379594334810122 -23.6772912102211421, -51.9399135523685231 -23.6730356992380848, -51.9372476047930718 -23.6566188279964535, -51.9351759364203076 -23.6515805363126788, -51.9371194855757494 -23.6456633713674478, -51.9366405983848836 -23.6396977320646329, -51.9451599912405868 -23.6352603062181288, -51.9580502439235943 -23.6207635963628491, -51.9621399154247001 -23.6210808618922101, -51.9613051880839407 -23.6230897467943350, -51.9624344478914395 -23.6240242404263086, -51.9643116045968441 -23.6229874992736200, -51.9657417137090647 -23.6188492221138517, -51.9636004638902591 -23.6163076291936704, -51.9648808565662534 -23.6122143226328376, -51.9687670213808701 -23.6126848704104191, -51.9700579909834346 -23.6166692510849998, -51.9715928882012008 -23.6152551939719615, -51.9743121565807087 -23.6168619874906653, -51.9787193715017679 -23.6160863815812263, -51.9808561417974602 -23.6188109370750681, -51.9863289535183526 -23.6157718823664595, -51.9871597175468878 -23.6171364506865871, -51.9859329901153728 -23.6200691137985359, -51.9949512917686434 -23.6242463325021959, -51.9959271470201543 -23.6211090871146325, -51.9982768318103012 -23.6199769323894770, -51.9984421020213290 -23.6219348572078616, -52.0022732481118624 -23.6215356382590471, -52.0042200797927876 -23.6192402509367980, -52.0080720631751205 -23.6197247382060596, -52.0089004889663329 -23.6225567015305273, -52.0128713240522984 -23.6213422129727064, -52.0122606592020134 -23.6259590130979404, -52.0083681928377928 -23.6271013778263068, -52.0099299087382292 -23.6272658125671455, -52.0079324245417070 -23.6297330036751418, -52.0091928549662157 -23.6327771908146360, -52.0119439251719768 -23.6333693215369181, -52.0118323570775942 -23.6296593572934626, -52.0143029719046126 -23.6290231022343278, -52.0153619964589211 -23.6269075523416063, -52.0199757325939345 -23.6320856913015405, -52.0244246131053956 -23.6297244664109485, -52.0266148525933545 -23.6310501876160401, -52.0250439312324033 -23.6331936057002849, -52.0269094111403660 -23.6345458784894618, -52.0240566932617412 -23.6377154194310037, -52.0287365835264950 -23.6374112129570904, -52.0318890670267820 -23.6346370868320719, -52.0320371152206462 -23.6362725732206513, -52.0334916103494720 -23.6365374064760658, -52.0315993261479548 -23.6388058833847481, -52.0312551250239608 -23.6430750712574991, -52.0273547779006549 -23.6431509839306955, -52.0246305182837432 -23.6458474185234877, -52.0275955884656014 -23.6499709593921921, -52.0259419240804846 -23.6516683641036707, -52.0284551883561903 -23.6531146160466506, -52.0344936205841009 -23.6510170211186050, -52.0368784706648739 -23.6532566567692584, -52.0351152220898143 -23.6546829149845053, -52.0371050215794639 -23.6580430195696749, -52.0436355988038031 -23.6535108105754261, -52.0484382141522133 -23.6585118757224677, -52.0471072481009855 -23.6602081598786071, -52.0526113211554957 -23.6619570282941822, -52.0547034491048635 -23.6577764928907754, -52.0581930560646242 -23.6599845515457901, -52.0607209541087173 -23.6566180671700295, -52.0586541897390020 -23.6537175737070129, -52.0615253086460257 -23.6507976153176287, -52.0595549480024147 -23.6485427640373018, -52.0591788740057950 -23.6437364650657855, -52.0547922103921792 -23.6436896508566292, -52.0530227672868477 -23.6427089446620471, -52.0547912589094040 -23.6402400763184346, -52.0458384719678406 -23.6376600086024951, -52.0473889256583675 -23.6348951517898058, -52.0448414799503212 -23.6343071075868920, -52.0466890093902066 -23.6328546997845024, -52.0453796720341870 -23.6308679444999825, -52.0479956137065756 -23.6282202828397203, -52.0441731739527995 -23.6278986942692768, -52.0452441477991670 -23.6256711473055816, -52.0420613544479238 -23.6235317024260780, -52.0400862372899837 -23.6246069903202738, -52.0346619691745218 -23.6226800678307995, -52.0357932470606670 -23.6177962481982604, -52.0371047985475457 -23.6172496420572884, -52.0363626842903955 -23.6165434907894110, -52.0401830807845158 -23.6132243332363601, -52.0383772169349754 -23.6111031023262399, -52.0392206281294420 -23.6106642817311467, -52.0357599829368382 -23.6081954007970580, -52.0291264890961429 -23.6071032263328107, -52.0284019152161932 -23.6039206713019212, -52.0319893693139193 -23.6050997625439436, -52.0303122703949157 -23.6021804210895425, -52.0306865592372674 -23.5982464393216560, -52.0274863433200494 -23.5958881003555234, -52.0295347723118766 -23.5923751910621604, -52.0288047782178751 -23.5899516125768400, -52.0260434089760793 -23.5885311522907841, -52.0201018112495603 -23.5895864707389933, -52.0221821832611226 -23.5855171958618826, -52.0259282310030358 -23.5831983308382291, -52.0190279164051503 -23.5844345883854771, -52.0172170936938869 -23.5807336245570696, -52.0183374690988671 -23.5779572330398537, -52.0148268485801282 -23.5759593387524546, -52.0147016575554062 -23.5720370787481670, -52.0075352803289093 -23.5650337414139699, -52.0056743860640154 -23.5659819326200477, -52.0043980520284208 -23.5629276011278534, -52.0069303765355926 -23.5617551693655400, -51.9997501137767131 -23.5565708664522617))"
          ],
          [
           4115200,
           "Maringá",
           "4115200",
           "Maringá/PR",
           1.26712273965,
           0.0430218331114,
           "POLYGON ((-52.0949863291557449 -23.4003380424666148, -52.0902844720507119 -23.3924064761778823, -52.0813809508701411 -23.3891276226416380, -52.0737283794611017 -23.3754776110029070, -52.0724502638685181 -23.3682122840696138, -52.0821944218350836 -23.3618842845320387, -52.0791876536871996 -23.3581531358585153, -52.0767135809669526 -23.3473314461892301, -52.0675997848022121 -23.3432861742174964, -52.0651281105738235 -23.3391263241205138, -52.0576306290502657 -23.3380226671123410, -52.0499108504053538 -23.3393582826585657, -52.0466243076656383 -23.3354588060789752, -52.0462765056561807 -23.3311581761088860, -52.0411050405651281 -23.3248513744912884, -52.0371567119127008 -23.3253706133630772, -52.0350803454815036 -23.3236694144118815, -52.0341402086037306 -23.3249618553053324, -52.0295181699275417 -23.3250130384209342, -52.0223439407202477 -23.3162128475448185, -52.0175253597075198 -23.3147024694433753, -52.0135848119894604 -23.3162248858697581, -52.0103848892512133 -23.3144279154159335, -52.0089367433359939 -23.3108227185935561, -52.0082026411389506 -23.3125165484998433, -52.0052552732122422 -23.3103824204123384, -52.0016973033878003 -23.3116891767140828, -51.9975558786008492 -23.3110153893487109, -51.9923450798614795 -23.3083078697123938, -51.9903581689942484 -23.3020096017616538, -51.9865427106774973 -23.2967862835600954, -51.9824593614103492 -23.2947599311258955, -51.9775209358424490 -23.2966639442855694, -51.9777569485243021 -23.2817593801912039, -51.9732100239234001 -23.2780426674351020, -51.9729775347853433 -23.2749330519187652, -51.9675661746392166 -23.2744190471012757, -51.9658138249480430 -23.2704115610446820, -51.9678766233074612 -23.2660698770231420, -51.9679941386185646 -23.2647662953282293, -51.9666858921401627 -23.2647331202372811, -51.9695969337514612 -23.2621966714391988, -51.9687453737999476 -23.2610529496338927, -51.9712785094955620 -23.2576469202691101, -51.9694420417168317 -23.2551321280452044, -51.9656117571768164 -23.2553316903052405, -51.9657180750290877 -23.2538646010704610, -51.9607952976647880 -23.2577810766353537, -51.9531185416873313 -23.2584592571889175, -51.9502604836343949 -23.2600727677439636, -51.9498412664612488 -23.2635809376101292, -51.9464079867391320 -23.2638781599490585, -51.9452275680977209 -23.2621388513268812, -51.9442041306160718 -23.2640569208901411, -51.9393744960361232 -23.2639476118927178, -51.9394149673268544 -23.2667812434595476, -51.9417530814395150 -23.2666467318611581, -51.9416178899535907 -23.2692109085565448, -51.9431099065968738 -23.2700734366397342, -51.9414404285329283 -23.2734433429358774, -51.9361264181995921 -23.2724584117262907, -51.9327746233501557 -23.2774640679123763, -51.9288382233053198 -23.2791062677400191, -51.9295369452737532 -23.2806994473215809, -51.9236497682221625 -23.2810467969720776, -51.9260114121968854 -23.2820608797057957, -51.9237937514803889 -23.2868890429949147, -51.9129291560556680 -23.2900121447446509, -51.9108529029390979 -23.2901893984219441, -51.9094716135240901 -23.2884336277097077, -51.9066012563428671 -23.2900686698332038, -51.8963755824671011 -23.2978390083634963, -51.8973055021471623 -23.3011240411415201, -51.8995742947178655 -23.3028304273822755, -51.8987134519641700 -23.3039181798800428, -51.8923247077190695 -23.3048767033970989, -51.8852988009988394 -23.3000601503555913, -51.8785614309652487 -23.2977932238781591, -51.8774949042663707 -23.2931660149995423, -51.8740134244799265 -23.2919456160972800, -51.8739012961078743 -23.2882970125970132, -51.8684743606032157 -23.2880113204660120, -51.8711143807240660 -23.3020452122167399, -51.8699882424633643 -23.3046129331403336, -51.8667965817967911 -23.3047004317794517, -51.8630874170506218 -23.3019306763595750, -51.8555656151609696 -23.3067124436243489, -51.8531341325341373 -23.3115753027579444, -51.8524343862379169 -23.3170917873560484, -51.8470723332215471 -23.3161681035750803, -51.8481582502030278 -23.3113356406272487, -51.8462611267495390 -23.3102599867089566, -51.8422386714774461 -23.3114095487116515, -51.8366119021175678 -23.3170719582042807, -51.8361954251786869 -23.3217772732025423, -51.8395261264295755 -23.3252725674749399, -51.8430800331170190 -23.3242818167523751, -51.8463997995111185 -23.3279239370399978, -51.8459532897124973 -23.3294159608778386, -51.8478491496185256 -23.3304645398065986, -51.8473746259381869 -23.3319354259790543, -51.8493607004359092 -23.3321215298846596, -51.8506704253997555 -23.3367197149428307, -51.8469834766061126 -23.3419397335318308, -51.8459244583470422 -23.3416887219569276, -51.8467807343433833 -23.3446859743781943, -51.8449966304900727 -23.3467588622316384, -51.8510394478122407 -23.3534608385468232, -51.8491860934634019 -23.3563062647223205, -51.8473313802389839 -23.3535949346584744, -51.8434851866919644 -23.3545284615192372, -51.8393115823636208 -23.3590655673220340, -51.8432408453886637 -23.3664308880750013, -51.8395738678397038 -23.3723954841642012, -51.8421388728106649 -23.3754073056026073, -51.8425783903803676 -23.3797995090400832, -51.8447869760380513 -23.3815131015483644, -51.8410978454891165 -23.3855000246064151, -51.8457502632639944 -23.3881254406365429, -51.8461505667951883 -23.3901110357955986, -51.8430171219425802 -23.3936634154342187, -51.8424843707570631 -23.4003959156389669, -51.8405509920345935 -23.4025686129510859, -51.8398810456736783 -23.4065294367840124, -51.8451850573444517 -23.4063616547664992, -51.8481139504983730 -23.4103314664239974, -51.8637441595652717 -23.4160990201536379, -51.8677678801834645 -23.4149309995659110, -51.8779185371107587 -23.4159342931330912, -51.8876798397527637 -23.4399570303925771, -51.8932299598947111 -23.4454259696327654, -51.8970870001649018 -23.4527459996281209, -51.9047079999741641 -23.4593749995565304, -51.9058189999468595 -23.4649870002498346, -51.9038190003465729 -23.4703840000215109, -51.9056409215912140 -23.4768539359603210, -51.9115394462883728 -23.4770667587238790, -51.9174225377199150 -23.4787625113807508, -51.9301063240475855 -23.4758104094228202, -51.9337867950245027 -23.4805496234662883, -51.9383230167937313 -23.4801376269498974, -51.9405703767214391 -23.4817395182641349, -51.9418552947859666 -23.4837276000486668, -51.9414188555956571 -23.4886315896760607, -51.9486150615358042 -23.4851424764440821, -51.9519301631464714 -23.4870362373324610, -51.9525122043746705 -23.4912505791508579, -51.9560545205995936 -23.4930894849916854, -51.9558421016316174 -23.4946733511941375, -51.9590884635617272 -23.4976184294469022, -51.9590881362084929 -23.5027872307460370, -51.9607034723873085 -23.5055394394934751, -51.9664575057092861 -23.5042391619077762, -51.9691957425894202 -23.5071449298945367, -51.9675633957340892 -23.5123782098864353, -51.9683688663300813 -23.5136188696150725, -51.9667862708696475 -23.5147760326877346, -51.9698671287649177 -23.5205121074477574, -51.9745999081591776 -23.5195601678673825, -51.9772769075032102 -23.5206725806750114, -51.9768705200584122 -23.5161871049509159, -51.9806518688885717 -23.5148742314605670, -51.9811521689373990 -23.5183473700350305, -51.9835538219512614 -23.5193441938794194, -51.9810668493555568 -23.5236188981935470, -51.9813808692317139 -23.5291609460207951, -51.9789040364920538 -23.5313436473913953, -51.9816444425369468 -23.5344794097968588, -51.9809419011477871 -23.5369378388101609, -51.9854465702030097 -23.5390350290433048, -51.9857956330619686 -23.5424168459606449, -51.9900111062275414 -23.5422285531051898, -51.9906773293951687 -23.5446640853791678, -51.9893685667059344 -23.5463511802627181, -51.9909786697297704 -23.5482303019867913, -51.9925334185823544 -23.5490491131260455, -51.9972325453456392 -23.5473370629550232, -51.9968550126486662 -23.5531165974529699, -51.9934556886290693 -23.5557849345270824, -51.9959923928346370 -23.5580017768604648, -51.9975755746530126 -23.5562432515247906, -51.9997501137767131 -23.5565708664522617, -52.1002707410018502 -23.5196632841332303, -52.1002595804152406 -23.5195539355656251, -52.0949649082039059 -23.5205579279059975, -52.0918664568714576 -23.5177743535035688, -52.0852125682054066 -23.5172215618255791, -52.0849079480433375 -23.5154668154411297, -52.0880442752230692 -23.5115466238775639, -52.0869535117951159 -23.5064580304137394, -52.0704872488873889 -23.4842357988429740, -52.0673001432869569 -23.4832576548168959, -52.0587682291704255 -23.4761621675499441, -52.0499956807560125 -23.4729767940437455, -52.0422670293998522 -23.4675377033022983, -52.0374355314245918 -23.4667892542206573, -52.0283023854466933 -23.4685117347287360, -52.0181819996994932 -23.4659619903535486, -52.0130519996500311 -23.4626480101974835, -52.0064708400572044 -23.4549080102963785, -52.0450393802631197 -23.4394113748350605, -52.0463227595876674 -23.4385239598128692, -52.0482381950366175 -23.4280509804683561, -52.0478787468067026 -23.4226734672067209, -52.0548880925114190 -23.4174600388496401, -52.0740262538085403 -23.4104790838425743, -52.0767436129273733 -23.4065420614668938, -52.0821423214109700 -23.4058845041664654, -52.0893679297860785 -23.4016667080520619, -52.0949863291557449 -23.4003380424666148))"
          ],
          [
           4117404,
           "Ourizona",
           "4115200",
           "Maringá/PR",
           0.731737110048,
           0.0156215732495,
           "POLYGON ((-52.3048265729879063 -23.5729775744554786, -52.3095451826640101 -23.5671897113360842, -52.3246658844229842 -23.5540184223123106, -52.3220284588462619 -23.5522912041756740, -52.3210674109322440 -23.5484490674704148, -52.3179352709959176 -23.5469718986341832, -52.3185470339184349 -23.5446929895897483, -52.3152480697426085 -23.5454020007016993, -52.3155063649267618 -23.5406577405622102, -52.3087769502959645 -23.5381999608594583, -52.3067564362604571 -23.5343778322711046, -52.3080542479051473 -23.5329874156366827, -52.3011901597980113 -23.5303040095223537, -52.3036111869067213 -23.5254064419536917, -52.2978757587592327 -23.5240124496148155, -52.2946536335583119 -23.5212981364997518, -52.2934461534172215 -23.5162129253861281, -52.2955759998324652 -23.5133206841022684, -52.2947805458854305 -23.5111420080971243, -52.2978598020881691 -23.5074323837974362, -52.2960077967223924 -23.5063226419762827, -52.2972666884069213 -23.5016236573059132, -52.2929536450945989 -23.4994976698815208, -52.2915923179310766 -23.4961095487166745, -52.2884143107717705 -23.4942838269370213, -52.2880774202367320 -23.4891368261036178, -52.2856190964441225 -23.4872431344630286, -52.2805587273034007 -23.4713757076227694, -52.2762793950780065 -23.4690086749103557, -52.2731875447693142 -23.4622055257643751, -52.2732024834078288 -23.4583486725531429, -52.2769418536835815 -23.4572662026730541, -52.2751431763164760 -23.4553561856394026, -52.2772258065257347 -23.4556743540881030, -52.2767159493815257 -23.4534807007736958, -52.2780579618054730 -23.4528672660114808, -52.2766025241871262 -23.4511343614615839, -52.2776718252944761 -23.4471708864272159, -52.2753324530302166 -23.4451538140971820, -52.2749951254246525 -23.4423401348892639, -52.2753571798899088 -23.4400829921363538, -52.2765499669073961 -23.4399481253057047, -52.2731919280649890 -23.4386861318594697, -52.2733114587567798 -23.4358892349002303, -52.2696239946515675 -23.4336315147825189, -52.2677776253370894 -23.4283531131056293, -52.2655405257746111 -23.4268578750908318, -52.2625486620910351 -23.4276352085979624, -52.2599601461437828 -23.4251069670128800, -52.2605598086881855 -23.4239997765683938, -52.2567757717844188 -23.4228789398111985, -52.2573030532932421 -23.4208746261630267, -52.2556068842502555 -23.4203068904506040, -52.2528791091834819 -23.4145446103454447, -52.2458866338610051 -23.4101110273020367, -52.2460954042794583 -23.4057039472792781, -52.2425905915824842 -23.4014158403687134, -52.2398226482965242 -23.4017927012720861, -52.2386797817464981 -23.3995087794065739, -52.2367024045922790 -23.4004017747220701, -52.2350824503947138 -23.3971366925043185, -52.2280942585431376 -23.3913141659159578, -52.2242476692944706 -23.3920377865146065, -52.2207296383620587 -23.3888891188377102, -52.2150891462470668 -23.3909063395558974, -52.2096754730446264 -23.3844068743777029, -52.2021309713671826 -23.3788350544941181, -52.2015362892682901 -23.3758576537077261, -52.1962333720724132 -23.3720335484094903, -52.1945748342611751 -23.3647058139221144, -52.1913385438386968 -23.3600677448305305, -52.1849801382227838 -23.3533733767798708, -52.1790144611484266 -23.3499797436701897, -52.1783951160417132 -23.3493542409054271, -52.1691998143199385 -23.3564147760210403, -52.1639439874250570 -23.3642809714896202, -52.1483685731510604 -23.3684950785849423, -52.1509882488085736 -23.3725011688937911, -52.1510763751745117 -23.3782762454522981, -52.1450221562474781 -23.3873390428624930, -52.1440608862009185 -23.3927866411904688, -52.1495255230843782 -23.4089955253231778, -52.1486363894577494 -23.4142490292692287, -52.1505483247453299 -23.4147437301389800, -52.1546000826276668 -23.4203273482285113, -52.1665775827891594 -23.4245653107404337, -52.1736604040044085 -23.4375277232257986, -52.1764125767789437 -23.4380843037475870, -52.1746613638308077 -23.4416030100708213, -52.1754971910424956 -23.4427410499594657, -52.1826847509004779 -23.4481755955272888, -52.1865197083178600 -23.4490153977423574, -52.1890187183391276 -23.4522956488250998, -52.1910717338734003 -23.4595106398041366, -52.1887138103940060 -23.4639539705992206, -52.1885251838900786 -23.4677328552870108, -52.2013275818023885 -23.4765660117120092, -52.2132729500865480 -23.4806838877511836, -52.2130505945092978 -23.4847612115606239, -52.2208305953556646 -23.4929395275371462, -52.2202369384838789 -23.4942045534972976, -52.2219373055621645 -23.4958306347759276, -52.2214639159269609 -23.5033793236967767, -52.2255747880460035 -23.5079501567742568, -52.2261862389037788 -23.5126679345774505, -52.2274675974516072 -23.5128458933232878, -52.2261581773579451 -23.5178315458890665, -52.2242675110367713 -23.5187613729389682, -52.2257979179395306 -23.5211843129056888, -52.2242169925201551 -23.5229643266422954, -52.2275759180940895 -23.5245009496590569, -52.2270442577862468 -23.5283671657120976, -52.2352138638287329 -23.5289473894104617, -52.2344334834184565 -23.5301841703630998, -52.2365815509977551 -23.5322123493204458, -52.2359953252240530 -23.5357801190572218, -52.2381015059796709 -23.5341972897730329, -52.2397747432098072 -23.5357064582863700, -52.2388839548306123 -23.5379529575628794, -52.2417146123394218 -23.5408833013232766, -52.2413237867633029 -23.5422851834144353, -52.2443766541592254 -23.5409575790289978, -52.2499118104816489 -23.5424009405509196, -52.2500766004546904 -23.5462299543488598, -52.2530490819495412 -23.5480947921408870, -52.2574091714960218 -23.5472410432395236, -52.2576930685801813 -23.5517844730749175, -52.2627136409217314 -23.5505417179259098, -52.2636911482278492 -23.5513631955549840, -52.2624616266027715 -23.5533199233757387, -52.2639679694461847 -23.5549705093814623, -52.2664117538992627 -23.5552775765988258, -52.2674958668407612 -23.5526792265650329, -52.2686296934055576 -23.5542822950918094, -52.2721330294157269 -23.5530376900373426, -52.2728322792862059 -23.5564935328501974, -52.2752375952387638 -23.5590755898665520, -52.2735207975467233 -23.5622717426467716, -52.2751629982736858 -23.5633631994520556, -52.2784108090115751 -23.5636248428122030, -52.2777979552114402 -23.5611177460870636, -52.2803029996836699 -23.5612447519437183, -52.2848774345459333 -23.5582362049368612, -52.2863283251920166 -23.5619214369247061, -52.2847973571123248 -23.5651576823810842, -52.2878755763966865 -23.5656600706556674, -52.2901305634746905 -23.5701267847232998, -52.2929931136412165 -23.5692113612153094, -52.2953766677989620 -23.5712495019628818, -52.2963569261311818 -23.5681641735377525, -52.2979658231641906 -23.5679832083583278, -52.3016041276283659 -23.5730073986724733, -52.3048265729879063 -23.5729775744554786))"
          ],
          [
           4117503,
           "Paiçandu",
           "4115200",
           "Maringá/PR",
           0.601674637934,
           0.0151362732829,
           "POLYGON ((-52.1486363894577494 -23.4142490292692287, -52.1419922755230800 -23.4177643775239517, -52.1376428114665487 -23.4172730374206708, -52.1187193246370839 -23.4024684815351520, -52.1087671624745212 -23.4050733696402631, -52.0949863291557449 -23.4003380424666148, -52.0893679297860785 -23.4016667080520619, -52.0821423214109700 -23.4058845041664654, -52.0767436129273733 -23.4065420614668938, -52.0740262538085403 -23.4104790838425743, -52.0548880925114190 -23.4174600388496401, -52.0478787468067026 -23.4226734672067209, -52.0482381950366175 -23.4280509804683561, -52.0463227595876674 -23.4385239598128692, -52.0450393802631197 -23.4394113748350605, -52.0064708400572044 -23.4549080102963785, -52.0130519996500311 -23.4626480101974835, -52.0181819996994932 -23.4659619903535486, -52.0283023854466933 -23.4685117347287360, -52.0374355314245918 -23.4667892542206573, -52.0422670293998522 -23.4675377033022983, -52.0499956807560125 -23.4729767940437455, -52.0587682291704255 -23.4761621675499441, -52.0673001432869569 -23.4832576548168959, -52.0704872488873889 -23.4842357988429740, -52.0869535117951159 -23.5064580304137394, -52.0880442752230692 -23.5115466238775639, -52.0849079480433375 -23.5154668154411297, -52.0852125682054066 -23.5172215618255791, -52.0918664568714576 -23.5177743535035688, -52.0949649082039059 -23.5205579279059975, -52.1002595804152406 -23.5195539355656251, -52.1438798149014815 -23.5179650367570048, -52.1513825511637492 -23.5151117729898829, -52.1569968927923355 -23.5158561490420084, -52.1676284765728724 -23.5136618626048062, -52.1733483509456164 -23.5155595238529145, -52.1813279140519626 -23.5156456636164535, -52.1844803849617733 -23.5133374456665365, -52.1927740704669532 -23.5142895543194186, -52.1921016401785209 -23.5162756306158371, -52.1955520375964284 -23.5181750266561380, -52.1983842365432338 -23.5151380062139879, -52.1988813736763859 -23.5117778908369246, -52.2056605666817859 -23.5115483199989512, -52.2081338318108692 -23.5146014688826313, -52.2118220477492514 -23.5134072546410380, -52.2135455750681672 -23.5192038151039355, -52.2174332363547364 -23.5220383648785969, -52.2196009208457781 -23.5211244297485678, -52.2242169925201551 -23.5229643266422954, -52.2257979179395306 -23.5211843129056888, -52.2242675110367713 -23.5187613729389682, -52.2261581773579451 -23.5178315458890665, -52.2274675974516072 -23.5128458933232878, -52.2261862389037788 -23.5126679345774505, -52.2255747880460035 -23.5079501567742568, -52.2214639159269609 -23.5033793236967767, -52.2219373055621645 -23.4958306347759276, -52.2202369384838789 -23.4942045534972976, -52.2208305953556646 -23.4929395275371462, -52.2130505945092978 -23.4847612115606239, -52.2132729500865480 -23.4806838877511836, -52.2013275818023885 -23.4765660117120092, -52.1885251838900786 -23.4677328552870108, -52.1887138103940060 -23.4639539705992206, -52.1910717338734003 -23.4595106398041366, -52.1890187183391276 -23.4522956488250998, -52.1865197083178600 -23.4490153977423574, -52.1826847509004779 -23.4481755955272888, -52.1754971910424956 -23.4427410499594657, -52.1746613638308077 -23.4416030100708213, -52.1764125767789437 -23.4380843037475870, -52.1736604040044085 -23.4375277232257986, -52.1665775827891594 -23.4245653107404337, -52.1546000826276668 -23.4203273482285113, -52.1505483247453299 -23.4147437301389800, -52.1486363894577494 -23.4142490292692287))"
          ],
          [
           4120408,
           "Presidente Castelo Branco",
           "4115200",
           "Maringá/PR",
           0.636625480426,
           0.013754414604,
           "POLYGON ((-52.1790144611484266 -23.3499797436701897, -52.1828186401680796 -23.3456199931680999, -52.1841421409470172 -23.3385532958978388, -52.1903829530108396 -23.3348254090653313, -52.1885592762895385 -23.3335198911300381, -52.2156234001997177 -23.3261976425071680, -52.2166512227756812 -23.3275804553736634, -52.2287102033131987 -23.3181247513561516, -52.2385035856718787 -23.3143419456242214, -52.2347323200405071 -23.3110174946615984, -52.2283835821365869 -23.3004201013065995, -52.2189005756010260 -23.2886586362869821, -52.2293258099381319 -23.2835935744838025, -52.2395193051717683 -23.2743088693587765, -52.2440297703575993 -23.2682321278103927, -52.2376035351749692 -23.2647968426001626, -52.2311255449079113 -23.2572355883516479, -52.2187425979924456 -23.2479806948531404, -52.2158982366142936 -23.2479466240374109, -52.2103152669359929 -23.2526951685471204, -52.2010528479105460 -23.2552856018489820, -52.1948090375070137 -23.2598364250109739, -52.1881715758574956 -23.2623135833051720, -52.1789589459985450 -23.2597193818439791, -52.1759117794050553 -23.2560409856029651, -52.1745246416988380 -23.2505377444213082, -52.1698693928581747 -23.2456292204121269, -52.1703528036389343 -23.2443639363465309, -52.1641915833748158 -23.2440574087223695, -52.1599725965580205 -23.2458557641321590, -52.1556580774582699 -23.2437201143917491, -52.1607355157314032 -23.2398928722582241, -52.1641180494083869 -23.2336500717933063, -52.1467568513475612 -23.2138972292736412, -52.1424203087502178 -23.2108971970479843, -52.1339915019062232 -23.2087331575091866, -52.1253129344443096 -23.1997707460230913, -52.1084226528830641 -23.1928495842408893, -52.1080913138629853 -23.1901548934335437, -52.1081126646677149 -23.1842628447544143, -52.1067632472260129 -23.1824901299154931, -52.0917663659250252 -23.1806393098562467, -52.0871711890990809 -23.1777809577249627, -52.0730220069600023 -23.1907188906642432, -52.0708293500944137 -23.1896702910510726, -52.0587376800997959 -23.2038883927351094, -52.0611059107091592 -23.2053039804942500, -52.0628803540450349 -23.2130764702029069, -52.0671513909239252 -23.2177277539326496, -52.0709794505411878 -23.2299021138913986, -52.0805868953688673 -23.2298906007705455, -52.0802640342577092 -23.2336072002120773, -52.0860501311086068 -23.2432453730754673, -52.0826985386066212 -23.2505345815056899, -52.0822557007399496 -23.2556668010819863, -52.0841083832951881 -23.2599975340589253, -52.0903241960048149 -23.2623441737445660, -52.0935088995160527 -23.2717248383305559, -52.1045346462568659 -23.2840742288425417, -52.1147531705223628 -23.2866180943495351, -52.1170396365699276 -23.2919005537675048, -52.1142082416170069 -23.2950419432310696, -52.1130167055564471 -23.3036222768465677, -52.1254675306020090 -23.2995003799385358, -52.1405731849044969 -23.3021000609689963, -52.1442978863383360 -23.3041579130572245, -52.1524364468844510 -23.3208974493577443, -52.1591899516549233 -23.3268710287749172, -52.1606401318366011 -23.3305608311173955, -52.1673650678435479 -23.3351843347891759, -52.1709670873611344 -23.3417939327437693, -52.1783951160417132 -23.3493542409054271, -52.1790144611484266 -23.3499797436701897))"
          ]
         ],
         "index": [
          0,
          1,
          2,
          3,
          4,
          5,
          6,
          7,
          8,
          9
         ]
        }
       },
       "height": 400,
       "layout": "IPY_MODEL_3c24954374324344aaf7912c1b451b6b",
       "value": "Hello World!"
      }
     },
     "d6b48ea8df5b498ba95a0f743e2d56e5": {
      "model_module": "keplergl-jupyter",
      "model_module_version": "^0.3.0",
      "model_name": "KeplerGlModal",
      "state": {
       "_model_module_version": "^0.3.0",
       "_view_module_version": "^0.3.0",
       "config": {
        "config": {
         "mapState": {
          "bearing": 24,
          "dragRotate": true,
          "isSplit": false,
          "latitude": -23.40153385173574,
          "longitude": -51.97410213677811,
          "pitch": 50,
          "zoom": 10.330065763050756
         },
         "mapStyle": {
          "mapStyles": {},
          "styleType": "light",
          "threeDBuildingColor": [
           9.665468314072013,
           17.18305478057247,
           31.1442867897876
          ],
          "topLayerGroups": {},
          "visibleLayerGroups": {
           "3d building": false,
           "border": false,
           "building": true,
           "label": true,
           "land": true,
           "road": true,
           "water": true
          }
         },
         "visState": {
          "animationConfig": {
           "currentTime": null,
           "speed": 1
          },
          "filters": [],
          "interactionConfig": {
           "brush": {
            "enabled": false,
            "size": 0.5
           },
           "coordinate": {
            "enabled": false
           },
           "geocoder": {
            "enabled": false
           },
           "tooltip": {
            "compareMode": false,
            "compareType": "absolute",
            "enabled": true,
            "fieldsToShow": {
             "Commuting_Maringa": [
              {
               "format": null,
               "name": "cod_origem"
              },
              {
               "format": null,
               "name": "Mun_origem"
              },
              {
               "format": null,
               "name": "cod_destino"
              },
              {
               "format": null,
               "name": "Mun_destino"
              },
              {
               "format": null,
               "name": "Movimento_Pendular"
              }
             ],
             "Municipios_Arranjo": [
              {
               "format": null,
               "name": "CodMunic"
              },
              {
               "format": null,
               "name": "NomMunic"
              },
              {
               "format": null,
               "name": "CodArranjo"
              },
              {
               "format": null,
               "name": "NomeArranj"
              },
              {
               "format": null,
               "name": "Shape_Leng"
              }
             ]
            }
           }
          },
          "layerBlending": "normal",
          "layers": [
           {
            "config": {
             "color": [
              136,
              87,
              44
             ],
             "columns": {
              "alt0": null,
              "alt1": null,
              "lat0": "point_latitude",
              "lat1": "point_latitude.1",
              "lng0": "point_longitude",
              "lng1": "point_longitude.1"
             },
             "dataId": "Commuting_Maringa",
             "hidden": false,
             "isVisible": true,
             "label": "point",
             "textLabel": [
              {
               "alignment": "center",
               "anchor": "start",
               "color": [
                255,
                255,
                255
               ],
               "field": null,
               "offset": [
                0,
                0
               ],
               "size": 18
              }
             ],
             "visConfig": {
              "colorRange": {
               "category": "ColorBrewer",
               "colors": [
                "#ffffb2",
                "#fed976",
                "#feb24c",
                "#fd8d3c",
                "#f03b20",
                "#bd0026"
               ],
               "name": "ColorBrewer YlOrRd-6",
               "type": "sequential"
              },
              "elevationScale": 1,
              "opacity": 0.8,
              "sizeRange": [
               3,
               23
              ],
              "targetColor": null,
              "thickness": 2
             }
            },
            "id": "1vzakt",
            "type": "line",
            "visualChannels": {
             "colorField": {
              "name": "Movimento_Pendular",
              "type": "integer"
             },
             "colorScale": "quantize",
             "sizeField": {
              "name": "Movimento_Pendular",
              "type": "integer"
             },
             "sizeScale": "linear"
            }
           },
           {
            "config": {
             "color": [
              255,
              153,
              31
             ],
             "columns": {
              "geojson": "geometry"
             },
             "dataId": "Municipios_Arranjo",
             "hidden": false,
             "isVisible": true,
             "label": "Municipios_Arranjo",
             "textLabel": [
              {
               "alignment": "center",
               "anchor": "start",
               "color": [
                255,
                255,
                255
               ],
               "field": null,
               "offset": [
                0,
                0
               ],
               "size": 18
              }
             ],
             "visConfig": {
              "colorRange": {
               "category": "Uber",
               "colors": [
                "#5A1846",
                "#900C3F",
                "#C70039",
                "#E3611C",
                "#F1920E",
                "#FFC300"
               ],
               "name": "Global Warming",
               "type": "sequential"
              },
              "elevationScale": 5,
              "enable3d": false,
              "enableElevationZoomFactor": true,
              "filled": false,
              "heightRange": [
               0,
               500
              ],
              "opacity": 0.8,
              "radius": 10,
              "radiusRange": [
               0,
               50
              ],
              "sizeRange": [
               0,
               10
              ],
              "strokeColor": [
               129,
               116,
               107
              ],
              "strokeColorRange": {
               "category": "Uber",
               "colors": [
                "#5A1846",
                "#900C3F",
                "#C70039",
                "#E3611C",
                "#F1920E",
                "#FFC300"
               ],
               "name": "Global Warming",
               "type": "sequential"
              },
              "strokeOpacity": 0.8,
              "stroked": true,
              "thickness": 2.1,
              "wireframe": false
             }
            },
            "id": "4i2fd3g",
            "type": "geojson",
            "visualChannels": {
             "colorField": null,
             "colorScale": "quantile",
             "heightField": null,
             "heightScale": "linear",
             "radiusField": null,
             "radiusScale": "linear",
             "sizeField": null,
             "sizeScale": "linear",
             "strokeColorField": null,
             "strokeColorScale": "quantile"
            }
           }
          ],
          "splitMaps": []
         }
        },
        "version": "v1"
       },
       "data": {
        "Commuting_Maringa": {
         "columns": [
          "cod_origem",
          "Mun_origem",
          "point_latitude",
          "point_longitude",
          "cod_destino",
          "Mun_destino",
          "Movimento_Pendular",
          "point_latitude.1",
          "point_longitude.1",
          "Arranjo",
          "departure",
          "arrival"
         ],
         "data": [
          [
           4126256,
           "SARANDI",
           -23.444000000000003,
           -51.873999999999995,
           4115200,
           "MARINGÁ",
           22082,
           -23.425,
           -51.93899999999999,
           true,
           "2010-31-07 10:30:0'",
           "2010-31-07 11:00:0'"
          ],
          [
           4115200,
           "MARINGÁ",
           -23.425,
           -51.93899999999999,
           4126256,
           "SARANDI",
           2142,
           -23.444000000000003,
           -51.873999999999995,
           true,
           "2010-31-07 10:30:0'",
           "2010-31-07 11:00:0'"
          ],
          [
           4117503,
           "PAIÇANDU",
           -23.458000000000002,
           -52.049,
           4115200,
           "MARINGÁ",
           9891,
           -23.425,
           -51.93899999999999,
           true,
           "2010-31-07 10:30:0'",
           "2010-31-07 11:00:0'"
          ],
          [
           4115200,
           "MARINGÁ",
           -23.425,
           -51.93899999999999,
           4117503,
           "PAIÇANDU",
           659,
           -23.458000000000002,
           -52.049,
           true,
           "2010-31-07 10:30:0'",
           "2010-31-07 11:00:0'"
          ],
          [
           4114104,
           "MANDAGUAÇU",
           -23.346999999999998,
           -52.095,
           4115200,
           "MARINGÁ",
           3354,
           -23.425,
           -51.93899999999999,
           true,
           "2010-31-07 10:30:0'",
           "2010-31-07 11:00:0'"
          ],
          [
           4115200,
           "MARINGÁ",
           -23.425,
           -51.93899999999999,
           4114104,
           "MANDAGUAÇU",
           502,
           -23.346999999999998,
           -52.095,
           true,
           "2010-31-07 10:30:0'",
           "2010-31-07 11:00:0'"
          ],
          [
           4114807,
           "MARIALVA",
           -23.485,
           -51.792,
           4115200,
           "MARINGÁ",
           2680,
           -23.425,
           -51.93899999999999,
           true,
           "2010-31-07 10:30:0'",
           "2010-31-07 11:00:0'"
          ],
          [
           4115200,
           "MARINGÁ",
           -23.425,
           -51.93899999999999,
           4114807,
           "MARIALVA",
           608,
           -23.485,
           -51.792,
           true,
           "2010-31-07 10:30:0'",
           "2010-31-07 11:00:0'"
          ],
          [
           4114807,
           "MARIALVA",
           -23.485,
           -51.792,
           4126256,
           "SARANDI",
           502,
           -23.444000000000003,
           -51.873999999999995,
           true,
           "2010-31-07 10:30:0'",
           "2010-31-07 11:00:0'"
          ],
          [
           4126256,
           "SARANDI",
           -23.444000000000003,
           -51.873999999999995,
           4114807,
           "MARIALVA",
           502,
           -23.485,
           -51.792,
           true,
           "2010-31-07 10:30:0'",
           "2010-31-07 11:00:0'"
          ],
          [
           4110003,
           "IGUARAÇU",
           -23.197,
           -51.828,
           4115200,
           "MARINGÁ",
           502,
           -23.425,
           -51.93899999999999,
           true,
           "2010-31-07 10:30:0'",
           "2010-31-07 11:00:0'"
          ],
          [
           4115200,
           "MARINGÁ",
           -23.425,
           -51.93899999999999,
           4110003,
           "IGUARAÇU",
           133,
           -23.197,
           -51.828,
           true,
           "2010-31-07 10:30:0'",
           "2010-31-07 11:00:0'"
          ],
          [
           4126256,
           "SARANDI",
           -23.444000000000003,
           -51.873999999999995,
           4117503,
           "PAIÇANDU",
           66,
           -23.458000000000002,
           -52.049,
           true,
           "2010-31-07 10:30:0'",
           "2010-31-07 11:00:0'"
          ],
          [
           4117503,
           "PAIÇANDU",
           -23.458000000000002,
           -52.049,
           4126256,
           "SARANDI",
           54,
           -23.444000000000003,
           -51.873999999999995,
           true,
           "2010-31-07 10:30:0'",
           "2010-31-07 11:00:0'"
          ],
          [
           4107900,
           "FLORESTA",
           -23.599,
           -52.081,
           4111100,
           "ITAMBÉ",
           64,
           -23.660999999999998,
           -51.99,
           true,
           "2010-31-07 10:30:0'",
           "2010-31-07 11:00:0'"
          ],
          [
           4111100,
           "ITAMBÉ",
           -23.660999999999998,
           -51.99,
           4107900,
           "FLORESTA",
           22,
           -23.599,
           -52.081,
           true,
           "2010-31-07 10:30:0'",
           "2010-31-07 11:00:0'"
          ]
         ],
         "index": [
          1,
          2,
          3,
          4,
          5,
          6,
          7,
          8,
          13,
          14,
          15,
          16,
          24,
          25,
          32,
          33
         ]
        },
        "Municipios_Arranjo": {
         "columns": [
          "CodMunic",
          "NomMunic",
          "CodArranjo",
          "NomeArranj",
          "Shape_Leng",
          "Shape_Area",
          "geometry"
         ],
         "data": [
          [
           4126256,
           "Sarandi",
           "4115200",
           "Maringá/PR",
           0.544904971268,
           0.00912425298747,
           "POLYGON ((-51.8510324708718144 -23.4547953783040271, -51.8511988796245760 -23.4549050398356940, -51.8534940223312333 -23.4579305885258123, -51.8534712514970124 -23.4863736402312497, -51.8525132639759363 -23.4905119137937390, -51.8467021803613193 -23.4967329551616899, -51.8496016557917301 -23.5047365427572004, -51.8529605319029656 -23.5108187027208828, -51.8590147319442849 -23.5158666090567294, -51.8637254869416324 -23.5167462224601422, -51.8678851158053931 -23.5233300467442064, -51.8753138369639828 -23.5224397089253898, -51.8794453431280544 -23.5243470333888354, -51.8808779748386542 -23.5262500474017315, -51.8811002557721395 -23.5330380609577219, -51.8869306217507642 -23.5359764122815704, -51.8874849971348908 -23.5389784338076424, -51.8896863243643338 -23.5410921643718325, -51.8930742647654597 -23.5402915069474261, -51.8935145548527998 -23.5441926679571907, -51.8964577957905817 -23.5461665359568428, -51.8997934828828988 -23.5559315545975210, -51.9024750372930725 -23.5576888037952017, -51.9051591259928387 -23.5558315068185493, -51.9113447268775872 -23.5589479922559804, -51.9123299233872331 -23.5607617197774744, -51.9183468528249819 -23.5538442730946826, -51.9152843402001167 -23.5513285905419707, -51.9201627432159967 -23.5458894404452508, -51.9202967772744159 -23.5428488586878188, -51.9281988529946261 -23.5338604711837434, -51.9226570983463489 -23.5304536459189535, -51.9094389060805952 -23.5099142950086843, -51.9224370315437227 -23.5001135013369549, -51.9190990529788792 -23.4970022220748547, -51.9177084061179812 -23.4874882662704181, -51.9115394462883728 -23.4770667587238790, -51.9056409215912140 -23.4768539359603210, -51.9038190003465729 -23.4703840000215109, -51.9058189999468595 -23.4649870002498346, -51.9047079999741641 -23.4593749995565304, -51.8970870001649018 -23.4527459996281209, -51.8932299598947111 -23.4454259696327654, -51.8876798397527637 -23.4399570303925771, -51.8779185371107587 -23.4159342931330912, -51.8677678801834645 -23.4149309995659110, -51.8637441595652717 -23.4160990201536379, -51.8481139504983730 -23.4103314664239974, -51.8451850573444517 -23.4063616547664992, -51.8398810456736783 -23.4065294367840124, -51.8405509920345935 -23.4025686129510859, -51.8424843707570631 -23.4003959156389669, -51.8430171219425802 -23.3936634154342187, -51.8392578694550821 -23.3933850069124674, -51.8335011813343840 -23.3957294819300046, -51.8273329634454853 -23.3932423978183692, -51.8192689027376332 -23.3927881457562989, -51.7971347876402888 -23.4090818134748702, -51.8004774858472388 -23.4124427733153198, -51.8018825020757845 -23.4175416838016304, -51.8036237946024016 -23.4294193106526336, -51.8029885368914051 -23.4377727318260440, -51.8064763047376573 -23.4450803763582485, -51.8266052095627288 -23.4595560483729173, -51.8331472270628524 -23.4586966850039857, -51.8409677081931477 -23.4518011512021189, -51.8456279923379384 -23.4445181175170774, -51.8459838351857911 -23.4477925122146189, -51.8510324708718144 -23.4547953783040271))"
          ],
          [
           4107900,
           "Floresta",
           "4115200",
           "Maringá/PR",
           0.693632333799,
           0.0139730939292,
           "POLYGON ((-52.1002707410018502 -23.5196632841332303, -51.9997501137767131 -23.5565708664522617, -52.0069303765355926 -23.5617551693655400, -52.0043980520284208 -23.5629276011278534, -52.0056743860640154 -23.5659819326200477, -52.0075352803289093 -23.5650337414139699, -52.0147016575554062 -23.5720370787481670, -52.0148268485801282 -23.5759593387524546, -52.0183374690988671 -23.5779572330398537, -52.0172170936938869 -23.5807336245570696, -52.0190279164051503 -23.5844345883854771, -52.0259282310030358 -23.5831983308382291, -52.0221821832611226 -23.5855171958618826, -52.0201018112495603 -23.5895864707389933, -52.0260434089760793 -23.5885311522907841, -52.0288047782178751 -23.5899516125768400, -52.0295347723118766 -23.5923751910621604, -52.0274863433200494 -23.5958881003555234, -52.0306865592372674 -23.5982464393216560, -52.0303122703949157 -23.6021804210895425, -52.0319893693139193 -23.6050997625439436, -52.0284019152161932 -23.6039206713019212, -52.0291264890961429 -23.6071032263328107, -52.0357599829368382 -23.6081954007970580, -52.0392206281294420 -23.6106642817311467, -52.0383772169349754 -23.6111031023262399, -52.0401830807845158 -23.6132243332363601, -52.0363626842903955 -23.6165434907894110, -52.0371047985475457 -23.6172496420572884, -52.0357932470606670 -23.6177962481982604, -52.0346619691745218 -23.6226800678307995, -52.0400862372899837 -23.6246069903202738, -52.0420613544479238 -23.6235317024260780, -52.0452441477991670 -23.6256711473055816, -52.0441731739527995 -23.6278986942692768, -52.0479956137065756 -23.6282202828397203, -52.0453796720341870 -23.6308679444999825, -52.0466890093902066 -23.6328546997845024, -52.0448414799503212 -23.6343071075868920, -52.0473889256583675 -23.6348951517898058, -52.0458384719678406 -23.6376600086024951, -52.0547912589094040 -23.6402400763184346, -52.0530227672868477 -23.6427089446620471, -52.0547922103921792 -23.6436896508566292, -52.0591788740057950 -23.6437364650657855, -52.0595549480024147 -23.6485427640373018, -52.0615253086460257 -23.6507976153176287, -52.0634614680722621 -23.6489219173125775, -52.0662077278043398 -23.6488126712677058, -52.0666287427222301 -23.6515797458085899, -52.0689595615344842 -23.6529969154752280, -52.0709875534328148 -23.6618952044001389, -52.0768270043627126 -23.6573637805140038, -52.0769936990998872 -23.6540092238465718, -52.0826291622060467 -23.6580502717026206, -52.0822958509726845 -23.6594622711668308, -52.0786241052182390 -23.6603672166736487, -52.0767379705808366 -23.6654595441225979, -52.0809319382582885 -23.6635791300727760, -52.0864413101183459 -23.6635217668160180, -52.0842707091258603 -23.6604361775874850, -52.0895978270780233 -23.6573952711747779, -52.0919066062048728 -23.6604220195604853, -52.0906588571205020 -23.6661451692640981, -52.0941064225733044 -23.6657642865924913, -52.0954911240161209 -23.6614038544042842, -52.0996059090853691 -23.6609037728907765, -52.1025766674791839 -23.6628463804560738, -52.1035199492861807 -23.6709169621480555, -52.1051593387324488 -23.6728766316512065, -52.1092654804175481 -23.6736127285445264, -52.1140199721439785 -23.6716678456944578, -52.1160950120751068 -23.6727942186781775, -52.1206331700847159 -23.6760254692999297, -52.1274921194656713 -23.6880694302599295, -52.1331343949363486 -23.6904571482787105, -52.1408493954832011 -23.6905860355170717, -52.1571432214824426 -23.6813469008387756, -52.1596872938334855 -23.6778651683428052, -52.1578562966307686 -23.6688816218892839, -52.1592119724545000 -23.6600045164951780, -52.1573758877869409 -23.6532168995402117, -52.1584649227179398 -23.6503487663824217, -52.1633826926570805 -23.6478265646442196, -52.1771876296053847 -23.6489181734349359, -52.1908332615457198 -23.6445739470299827, -52.1897250251897162 -23.6430518687486710, -52.1847772628603366 -23.6441755608533981, -52.1829996170386607 -23.6421582007403117, -52.1793349291635877 -23.6416494983256484, -52.1768330826805595 -23.6358100968584495, -52.1705264942023064 -23.6291433119142766, -52.1563873790742605 -23.6250506411740844, -52.1439752590509329 -23.6147441029579568, -52.1334707674619153 -23.6009178439832681, -52.1192378485478116 -23.5889846426271106, -52.1133804921159935 -23.5744037490337632, -52.1047009614801482 -23.5654366682675800, -52.0974209342286940 -23.5607148552063563, -52.1002707410018502 -23.5196632841332303))"
          ],
          [
           4110003,
           "Iguaraçu",
           "4115200",
           "Maringá/PR",
           0.700300445507,
           0.0145857340864,
           "POLYGON ((-51.9393744960361232 -23.2639476118927178, -51.9376430753675891 -23.2629600654545925, -51.9386191455570838 -23.2610134433157327, -51.9363417671588081 -23.2591143674340515, -51.9352089883041117 -23.2602565504993777, -51.9291205798508599 -23.2598343511743337, -51.9281843829028844 -23.2550845485130822, -51.9230147596234133 -23.2534115801802272, -51.9269575898208586 -23.2430906860862478, -51.9251584061354947 -23.2399991964057335, -51.9175709429446215 -23.2370558673343908, -51.9126534967614361 -23.2319761420852160, -51.9149991274077820 -23.2255974000999004, -51.9128800323875339 -23.2242588042004172, -51.9122545350187465 -23.2196186549768981, -51.9067040578459569 -23.2186567994716597, -51.9053658738359900 -23.2165008709184235, -51.9033461916733927 -23.2183214683610117, -51.9005974875839229 -23.2175212659935823, -51.8987682728374580 -23.2193407302904120, -51.8932469984501950 -23.2167109111795753, -51.8902064832425935 -23.2192532217587200, -51.8838688870394549 -23.2201356176645959, -51.8792955592426210 -23.2167057949364448, -51.8760626232913751 -23.2171269879200963, -51.8755483972407205 -23.2148601145026419, -51.8690940753312475 -23.2162087576280101, -51.8650022445578998 -23.2150955300346595, -51.8675745565205375 -23.2053280805264421, -51.8657741263747880 -23.1949841970629791, -51.8657131415482127 -23.1328532429827192, -51.8612634786265971 -23.1326648296181361, -51.8591485573600153 -23.1309375863005471, -51.8537025283489470 -23.1314529517922551, -51.8494141939098654 -23.1367636876939855, -51.8494447672621845 -23.1417018200828579, -51.8428680916890130 -23.1477879739358059, -51.8329397750505336 -23.1534045027156026, -51.8281184151327352 -23.1578146377352709, -51.8207651884626443 -23.1549225978995423, -51.8185771523137078 -23.1527163864520276, -51.8122585641813771 -23.1582433481519274, -51.8108089442773121 -23.1609632361643776, -51.8114275753222842 -23.1638824121435505, -51.8096392464540259 -23.1664640087070097, -51.7957016253296842 -23.1743939966855805, -51.7945688914411448 -23.1800350077094208, -51.7897425088096952 -23.1843724514274641, -51.7899110732374197 -23.1870137144113642, -51.7924865175386913 -23.1901995456724421, -51.7916430550828863 -23.1940305487707406, -51.7892543028437444 -23.1968940369301890, -51.7814883449111676 -23.1972098770341404, -51.7792611729647092 -23.1986143419782707, -51.7786877670267813 -23.2099559585006432, -51.7672417670938216 -23.2142531638523906, -51.7591433945519839 -23.2116481066747156, -51.7318669919680474 -23.2224813535315775, -51.7390103222685411 -23.2341051125608260, -51.7461241359200699 -23.2268484667832809, -51.7629629519786363 -23.2256448798073052, -51.7746800057776113 -23.2390694817711392, -51.7775084599474553 -23.2481893897285090, -51.7839546223079310 -23.2536962281983506, -51.7965986532052511 -23.2568396042642576, -51.8046744473678018 -23.2555384282558180, -51.8075437505436298 -23.2582399485147562, -51.8183496840906059 -23.2590762568636933, -51.8243803560685592 -23.2627337888332590, -51.8319567468063838 -23.2733906192815994, -51.8364641686864047 -23.2763398982676222, -51.8413477508979668 -23.2760388834876153, -51.8452949320154630 -23.2809567190772668, -51.8518749683550482 -23.2786886180851980, -51.8572953091311888 -23.2830252551113972, -51.8642343386437688 -23.2844113082352351, -51.8684743606032157 -23.2880113204660120, -51.8739012961078743 -23.2882970125970132, -51.8740134244799265 -23.2919456160972800, -51.8774949042663707 -23.2931660149995423, -51.8785614309652487 -23.2977932238781591, -51.8852988009988394 -23.3000601503555913, -51.8923247077190695 -23.3048767033970989, -51.8987134519641700 -23.3039181798800428, -51.8995742947178655 -23.3028304273822755, -51.8973055021471623 -23.3011240411415201, -51.8963755824671011 -23.2978390083634963, -51.9066012563428671 -23.2900686698332038, -51.9094716135240901 -23.2884336277097077, -51.9108529029390979 -23.2901893984219441, -51.9129291560556680 -23.2900121447446509, -51.9237937514803889 -23.2868890429949147, -51.9260114121968854 -23.2820608797057957, -51.9236497682221625 -23.2810467969720776, -51.9295369452737532 -23.2806994473215809, -51.9288382233053198 -23.2791062677400191, -51.9327746233501557 -23.2774640679123763, -51.9361264181995921 -23.2724584117262907, -51.9414404285329283 -23.2734433429358774, -51.9431099065968738 -23.2700734366397342, -51.9416178899535907 -23.2692109085565448, -51.9417530814395150 -23.2666467318611581, -51.9394149673268544 -23.2667812434595476, -51.9393744960361232 -23.2639476118927178))"
          ],
          [
           4111100,
           "Itambé",
           "4115200",
           "Maringá/PR",
           0.953026967666,
           0.0215921437579,
           "POLYGON ((-52.0438218825737522 -23.8109704537234279, -52.0468240713737487 -23.8052024773124344, -52.0462403025478579 -23.8021743061992197, -52.0393557674546514 -23.7919849694307572, -52.0343542382574356 -23.7755313986550618, -52.0340590303998738 -23.7696494439666139, -52.0363972065657663 -23.7643479018341850, -52.0417177028097058 -23.7601536274878526, -52.0510722339963650 -23.7564613313253403, -52.0562416081636457 -23.7514884194549722, -52.0597178835733985 -23.7438369829903309, -52.0611040590050607 -23.7309750265761750, -52.0645198909801366 -23.7282171880727333, -52.0802727333999087 -23.7220702823176453, -52.0952966258385572 -23.7200897764220144, -52.0954686751392160 -23.7170231862709784, -52.0916835374652578 -23.7095746692355647, -52.0946032953057738 -23.7063162797724658, -52.1115408866025973 -23.7055228421054380, -52.1176053119355629 -23.7018952458688545, -52.1192429917705908 -23.6971035365988882, -52.1184629647939346 -23.6926895129106470, -52.1130195096426405 -23.6845985444871872, -52.1124877683957379 -23.6805954839943524, -52.1160950120751068 -23.6727942186781775, -52.1140199721439785 -23.6716678456944578, -52.1092654804175481 -23.6736127285445264, -52.1051593387324488 -23.6728766316512065, -52.1035199492861807 -23.6709169621480555, -52.1025766674791839 -23.6628463804560738, -52.0996059090853691 -23.6609037728907765, -52.0954911240161209 -23.6614038544042842, -52.0941064225733044 -23.6657642865924913, -52.0906588571205020 -23.6661451692640981, -52.0919066062048728 -23.6604220195604853, -52.0895978270780233 -23.6573952711747779, -52.0842707091258603 -23.6604361775874850, -52.0864413101183459 -23.6635217668160180, -52.0809319382582885 -23.6635791300727760, -52.0767379705808366 -23.6654595441225979, -52.0786241052182390 -23.6603672166736487, -52.0822958509726845 -23.6594622711668308, -52.0826291622060467 -23.6580502717026206, -52.0769936990998872 -23.6540092238465718, -52.0768270043627126 -23.6573637805140038, -52.0709875534328148 -23.6618952044001389, -52.0689595615344842 -23.6529969154752280, -52.0666287427222301 -23.6515797458085899, -52.0662077278043398 -23.6488126712677058, -52.0634614680722621 -23.6489219173125775, -52.0615253086460257 -23.6507976153176287, -52.0586541897390020 -23.6537175737070129, -52.0607209541087173 -23.6566180671700295, -52.0581930560646242 -23.6599845515457901, -52.0547034491048635 -23.6577764928907754, -52.0526113211554957 -23.6619570282941822, -52.0471072481009855 -23.6602081598786071, -52.0484382141522133 -23.6585118757224677, -52.0436355988038031 -23.6535108105754261, -52.0371050215794639 -23.6580430195696749, -52.0351152220898143 -23.6546829149845053, -52.0368784706648739 -23.6532566567692584, -52.0344936205841009 -23.6510170211186050, -52.0284551883561903 -23.6531146160466506, -52.0259419240804846 -23.6516683641036707, -52.0275955884656014 -23.6499709593921921, -52.0246305182837432 -23.6458474185234877, -52.0273547779006549 -23.6431509839306955, -52.0312551250239608 -23.6430750712574991, -52.0315993261479548 -23.6388058833847481, -52.0334916103494720 -23.6365374064760658, -52.0320371152206462 -23.6362725732206513, -52.0318890670267820 -23.6346370868320719, -52.0287365835264950 -23.6374112129570904, -52.0240566932617412 -23.6377154194310037, -52.0269094111403660 -23.6345458784894618, -52.0250439312324033 -23.6331936057002849, -52.0266148525933545 -23.6310501876160401, -52.0244246131053956 -23.6297244664109485, -52.0199757325939345 -23.6320856913015405, -52.0153619964589211 -23.6269075523416063, -52.0143029719046126 -23.6290231022343278, -52.0118323570775942 -23.6296593572934626, -52.0119439251719768 -23.6333693215369181, -52.0091928549662157 -23.6327771908146360, -52.0079324245417070 -23.6297330036751418, -52.0099299087382292 -23.6272658125671455, -52.0083681928377928 -23.6271013778263068, -52.0122606592020134 -23.6259590130979404, -52.0128713240522984 -23.6213422129727064, -52.0089004889663329 -23.6225567015305273, -52.0080720631751205 -23.6197247382060596, -52.0042200797927876 -23.6192402509367980, -52.0022732481118624 -23.6215356382590471, -51.9984421020213290 -23.6219348572078616, -51.9982768318103012 -23.6199769323894770, -51.9959271470201543 -23.6211090871146325, -51.9949512917686434 -23.6242463325021959, -51.9859329901153728 -23.6200691137985359, -51.9871597175468878 -23.6171364506865871, -51.9863289535183526 -23.6157718823664595, -51.9808561417974602 -23.6188109370750681, -51.9787193715017679 -23.6160863815812263, -51.9743121565807087 -23.6168619874906653, -51.9715928882012008 -23.6152551939719615, -51.9700579909834346 -23.6166692510849998, -51.9687670213808701 -23.6126848704104191, -51.9648808565662534 -23.6122143226328376, -51.9636004638902591 -23.6163076291936704, -51.9657417137090647 -23.6188492221138517, -51.9643116045968441 -23.6229874992736200, -51.9624344478914395 -23.6240242404263086, -51.9613051880839407 -23.6230897467943350, -51.9621399154247001 -23.6210808618922101, -51.9580502439235943 -23.6207635963628491, -51.9451599912405868 -23.6352603062181288, -51.9366405983848836 -23.6396977320646329, -51.9371194855757494 -23.6456633713674478, -51.9351759364203076 -23.6515805363126788, -51.9372476047930718 -23.6566188279964535, -51.9399135523685231 -23.6730356992380848, -51.9399333725270935 -23.6795863628203165, -51.9366012053812938 -23.6807423666668342, -51.9373570540847140 -23.6833083258185297, -51.9410143171569416 -23.6831214098251621, -51.9448759106946909 -23.6783352232918674, -51.9445192719467741 -23.6842076316768271, -51.9455766516411472 -23.6849346355249395, -51.9488239398729092 -23.6816816887588857, -51.9526264731331935 -23.6817319734517469, -51.9522117957377532 -23.6780803455314981, -51.9553470590195161 -23.6757661794655405, -51.9575708693001275 -23.6789714477740745, -51.9546314387898178 -23.6815517744947783, -51.9532905361293160 -23.6863065531048846, -51.9570992243496903 -23.6853396847785689, -51.9585469817577632 -23.6873244408702135, -51.9585488919178147 -23.6930653530835116, -51.9618173259088394 -23.6914748399918267, -51.9636035899337116 -23.6945289763311280, -51.9589097898548857 -23.6977279781636412, -51.9534883429126353 -23.6987123769745835, -51.9488277107301997 -23.7039033240790786, -51.9450690958620385 -23.7058913528036328, -51.9365441002299804 -23.7074512268925446, -51.9322963719799304 -23.7143799204968673, -51.9255470562516166 -23.7126994230399077, -51.9192352948729194 -23.7259725512921591, -51.9211556550094429 -23.7279567749851594, -51.9207446153716887 -23.7328436756950509, -51.9248558975815513 -23.7358500355506408, -51.9256259025133318 -23.7398755665041676, -51.9302087136611590 -23.7447210948026282, -51.9306079146235220 -23.7480756029066811, -51.9359638252702780 -23.7531325852006034, -51.9398541485500687 -23.7613845799343721, -51.9429109936473878 -23.7635199931531247, -51.9444054528493098 -23.7689359245532046, -51.9504367597486407 -23.7759950810081477, -51.9554105727397086 -23.7760492507722461, -51.9564629252237751 -23.7739449963644347, -51.9616051308720444 -23.7757800279259186, -51.9647174209721356 -23.7788715319955486, -51.9665969276060764 -23.7835080938234000, -51.9746569233782907 -23.7876861129237227, -51.9739673717967321 -23.7929829183269703, -51.9772732562557280 -23.7973673309375044, -51.9837984762186807 -23.7962099214506679, -51.9861847670133557 -23.7922853492893864, -51.9924610483386687 -23.7894248711608043, -51.9962670835590188 -23.7906024479445932, -52.0108236702761246 -23.7904747586031817, -52.0239662799198186 -23.7961128081595348, -52.0263258887287634 -23.7990689849456771, -52.0298764328510401 -23.8116224747973320, -52.0335241586129769 -23.8175724407155371, -52.0383275401837864 -23.8173817808444710, -52.0438218825737522 -23.8109704537234279))"
          ],
          [
           4114104,
           "Mandaguaçu",
           "4115200",
           "Maringá/PR",
           0.953086368683,
           0.0259263762249,
           "POLYGON ((-51.9625388286040106 -23.1616193131807222, -51.9645642556358212 -23.1659579556950348, -51.9643271134055453 -23.1701428096429254, -51.9581454731350618 -23.1743256473107522, -51.9591589092561890 -23.1792478311224386, -51.9632879998412704 -23.1829106349178460, -51.9663706662731784 -23.1824684949250468, -51.9632371944409215 -23.1864588686818252, -51.9657508283380025 -23.1921901626458293, -51.9727540100894316 -23.1927128126461639, -51.9733950576357415 -23.1914673964031977, -51.9768633425691746 -23.1963750462713278, -51.9734543787165535 -23.1995199790637230, -51.9757382394281535 -23.2025170120504072, -51.9732791125409790 -23.2046632647977731, -51.9682292411864637 -23.2035593047181123, -51.9656038494380823 -23.2064821966959585, -51.9682439819741262 -23.2082050018593122, -51.9682790051718939 -23.2159007272367148, -51.9609367709152252 -23.2187110915435824, -51.9685516895088426 -23.2270012804846715, -51.9659668931575425 -23.2302432744075418, -51.9611219871899266 -23.2314116277443645, -51.9577232846018546 -23.2306490889842507, -51.9585487696099904 -23.2335534135591502, -51.9571400958387244 -23.2375686535704631, -51.9613275488272848 -23.2380760924376659, -51.9635888599378859 -23.2409701260704082, -51.9683920445571630 -23.2394166848321220, -51.9697409089157532 -23.2403655550263011, -51.9686305942265108 -23.2432809304705188, -51.9632405435162354 -23.2452446523188314, -51.9682329544872346 -23.2478535864738092, -51.9628367551121073 -23.2504020619055609, -51.9629152227593067 -23.2546279591129519, -51.9643247257054668 -23.2522345852578383, -51.9657180750290877 -23.2538646010704610, -51.9656117571768164 -23.2553316903052405, -51.9694420417168317 -23.2551321280452044, -51.9712785094955620 -23.2576469202691101, -51.9687453737999476 -23.2610529496338927, -51.9695969337514612 -23.2621966714391988, -51.9666858921401627 -23.2647331202372811, -51.9679941386185646 -23.2647662953282293, -51.9678766233074612 -23.2660698770231420, -51.9658138249480430 -23.2704115610446820, -51.9675661746392166 -23.2744190471012757, -51.9729775347853433 -23.2749330519187652, -51.9732100239234001 -23.2780426674351020, -51.9777569485243021 -23.2817593801912039, -51.9775209358424490 -23.2966639442855694, -51.9824593614103492 -23.2947599311258955, -51.9865427106774973 -23.2967862835600954, -51.9903581689942484 -23.3020096017616538, -51.9923450798614795 -23.3083078697123938, -51.9975558786008492 -23.3110153893487109, -52.0016973033878003 -23.3116891767140828, -52.0052552732122422 -23.3103824204123384, -52.0082026411389506 -23.3125165484998433, -52.0089367433359939 -23.3108227185935561, -52.0103848892512133 -23.3144279154159335, -52.0135848119894604 -23.3162248858697581, -52.0175253597075198 -23.3147024694433753, -52.0223439407202477 -23.3162128475448185, -52.0295181699275417 -23.3250130384209342, -52.0341402086037306 -23.3249618553053324, -52.0350803454815036 -23.3236694144118815, -52.0371567119127008 -23.3253706133630772, -52.0411050405651281 -23.3248513744912884, -52.0462765056561807 -23.3311581761088860, -52.0466243076656383 -23.3354588060789752, -52.0499108504053538 -23.3393582826585657, -52.0576306290502657 -23.3380226671123410, -52.0651281105738235 -23.3391263241205138, -52.0675997848022121 -23.3432861742174964, -52.0767135809669526 -23.3473314461892301, -52.0791876536871996 -23.3581531358585153, -52.0821944218350836 -23.3618842845320387, -52.0724502638685181 -23.3682122840696138, -52.0737283794611017 -23.3754776110029070, -52.0813809508701411 -23.3891276226416380, -52.0902844720507119 -23.3924064761778823, -52.0949863291557449 -23.4003380424666148, -52.1087671624745212 -23.4050733696402631, -52.1187193246370839 -23.4024684815351520, -52.1376428114665487 -23.4172730374206708, -52.1419922755230800 -23.4177643775239517, -52.1486363894577494 -23.4142490292692287, -52.1495255230843782 -23.4089955253231778, -52.1440608862009185 -23.3927866411904688, -52.1450221562474781 -23.3873390428624930, -52.1510763751745117 -23.3782762454522981, -52.1509882488085736 -23.3725011688937911, -52.1483685731510604 -23.3684950785849423, -52.1639439874250570 -23.3642809714896202, -52.1691998143199385 -23.3564147760210403, -52.1783951160417132 -23.3493542409054271, -52.1709670873611344 -23.3417939327437693, -52.1673650678435479 -23.3351843347891759, -52.1606401318366011 -23.3305608311173955, -52.1591899516549233 -23.3268710287749172, -52.1524364468844510 -23.3208974493577443, -52.1442978863383360 -23.3041579130572245, -52.1405731849044969 -23.3021000609689963, -52.1254675306020090 -23.2995003799385358, -52.1130167055564471 -23.3036222768465677, -52.1142082416170069 -23.2950419432310696, -52.1170396365699276 -23.2919005537675048, -52.1147531705223628 -23.2866180943495351, -52.1045346462568659 -23.2840742288425417, -52.0935088995160527 -23.2717248383305559, -52.0903241960048149 -23.2623441737445660, -52.0841083832951881 -23.2599975340589253, -52.0822557007399496 -23.2556668010819863, -52.0826985386066212 -23.2505345815056899, -52.0860501311086068 -23.2432453730754673, -52.0802640342577092 -23.2336072002120773, -52.0805868953688673 -23.2298906007705455, -52.0709794505411878 -23.2299021138913986, -52.0671513909239252 -23.2177277539326496, -52.0628803540450349 -23.2130764702029069, -52.0611059107091592 -23.2053039804942500, -52.0587376800997959 -23.2038883927351094, -52.0708293500944137 -23.1896702910510726, -52.0676900830308682 -23.1881515267714917, -52.0649630193278199 -23.1840590269025029, -52.0582434028107741 -23.1785868842772516, -52.0483514952252904 -23.1676857925652371, -52.0484023671754699 -23.1661980342118454, -52.0454746548314233 -23.1652970601111861, -52.0436555106932133 -23.1629168999949115, -52.0385990023420391 -23.1606607419996067, -52.0357918036488059 -23.1609507194001480, -52.0273987142791725 -23.1566028120700480, -52.0234633457567384 -23.1577738238028701, -52.0193485130234308 -23.1560686291638831, -52.0097736299489952 -23.1596486467676073, -52.0080477392117473 -23.1574813984477146, -51.9991541105737269 -23.1553451758391589, -51.9940765769724180 -23.1585019634947571, -51.9872933469104055 -23.1595166451770069, -51.9774906763535682 -23.1547781164168782, -51.9733765342995753 -23.1556016822717652, -51.9732640336082454 -23.1585345009664252, -51.9659303779845345 -23.1571836634952319, -51.9625388286040106 -23.1616193131807222))"
          ],
          [
           4114807,
           "Marialva",
           "4115200",
           "Maringá/PR",
           1.99828251932,
           0.0420752115599,
           "POLYGON ((-51.9997501137767131 -23.5565708664522617, -51.9975755746530126 -23.5562432515247906, -51.9959923928346370 -23.5580017768604648, -51.9934556886290693 -23.5557849345270824, -51.9968550126486662 -23.5531165974529699, -51.9972325453456392 -23.5473370629550232, -51.9925334185823544 -23.5490491131260455, -51.9909786697297704 -23.5482303019867913, -51.9893685667059344 -23.5463511802627181, -51.9906773293951687 -23.5446640853791678, -51.9900111062275414 -23.5422285531051898, -51.9857956330619686 -23.5424168459606449, -51.9854465702030097 -23.5390350290433048, -51.9809419011477871 -23.5369378388101609, -51.9816444425369468 -23.5344794097968588, -51.9789040364920538 -23.5313436473913953, -51.9813808692317139 -23.5291609460207951, -51.9810668493555568 -23.5236188981935470, -51.9835538219512614 -23.5193441938794194, -51.9811521689373990 -23.5183473700350305, -51.9806518688885717 -23.5148742314605670, -51.9768705200584122 -23.5161871049509159, -51.9772769075032102 -23.5206725806750114, -51.9745999081591776 -23.5195601678673825, -51.9698671287649177 -23.5205121074477574, -51.9667862708696475 -23.5147760326877346, -51.9683688663300813 -23.5136188696150725, -51.9675633957340892 -23.5123782098864353, -51.9691957425894202 -23.5071449298945367, -51.9664575057092861 -23.5042391619077762, -51.9607034723873085 -23.5055394394934751, -51.9590881362084929 -23.5027872307460370, -51.9590884635617272 -23.4976184294469022, -51.9558421016316174 -23.4946733511941375, -51.9560545205995936 -23.4930894849916854, -51.9525122043746705 -23.4912505791508579, -51.9519301631464714 -23.4870362373324610, -51.9486150615358042 -23.4851424764440821, -51.9414188555956571 -23.4886315896760607, -51.9418552947859666 -23.4837276000486668, -51.9405703767214391 -23.4817395182641349, -51.9383230167937313 -23.4801376269498974, -51.9337867950245027 -23.4805496234662883, -51.9301063240475855 -23.4758104094228202, -51.9174225377199150 -23.4787625113807508, -51.9115394462883728 -23.4770667587238790, -51.9177084061179812 -23.4874882662704181, -51.9190990529788792 -23.4970022220748547, -51.9224370315437227 -23.5001135013369549, -51.9094389060805952 -23.5099142950086843, -51.9226570983463489 -23.5304536459189535, -51.9281988529946261 -23.5338604711837434, -51.9202967772744159 -23.5428488586878188, -51.9201627432159967 -23.5458894404452508, -51.9152843402001167 -23.5513285905419707, -51.9183468528249819 -23.5538442730946826, -51.9123299233872331 -23.5607617197774744, -51.9113447268775872 -23.5589479922559804, -51.9051591259928387 -23.5558315068185493, -51.9024750372930725 -23.5576888037952017, -51.8997934828828988 -23.5559315545975210, -51.8964577957905817 -23.5461665359568428, -51.8935145548527998 -23.5441926679571907, -51.8930742647654597 -23.5402915069474261, -51.8896863243643338 -23.5410921643718325, -51.8874849971348908 -23.5389784338076424, -51.8869306217507642 -23.5359764122815704, -51.8811002557721395 -23.5330380609577219, -51.8808779748386542 -23.5262500474017315, -51.8794453431280544 -23.5243470333888354, -51.8753138369639828 -23.5224397089253898, -51.8678851158053931 -23.5233300467442064, -51.8637254869416324 -23.5167462224601422, -51.8590147319442849 -23.5158666090567294, -51.8529605319029656 -23.5108187027208828, -51.8496016557917301 -23.5047365427572004, -51.8467021803613193 -23.4967329551616899, -51.8525132639759363 -23.4905119137937390, -51.8534712514970124 -23.4863736402312497, -51.8534940223312333 -23.4579305885258123, -51.8511988796245760 -23.4549050398356940, -51.8510324708718144 -23.4547953783040271, -51.8459838351857911 -23.4477925122146189, -51.8456279923379384 -23.4445181175170774, -51.8409677081931477 -23.4518011512021189, -51.8331472270628524 -23.4586966850039857, -51.8266052095627288 -23.4595560483729173, -51.8064763047376573 -23.4450803763582485, -51.8029885368914051 -23.4377727318260440, -51.8036237946024016 -23.4294193106526336, -51.8018825020757845 -23.4175416838016304, -51.8004774858472388 -23.4124427733153198, -51.7971347876402888 -23.4090818134748702, -51.8192689027376332 -23.3927881457562989, -51.8273329634454853 -23.3932423978183692, -51.8335011813343840 -23.3957294819300046, -51.8392578694550821 -23.3933850069124674, -51.8430171219425802 -23.3936634154342187, -51.8461505667951883 -23.3901110357955986, -51.8457502632639944 -23.3881254406365429, -51.8410978454891165 -23.3855000246064151, -51.8447869760380513 -23.3815131015483644, -51.8425783903803676 -23.3797995090400832, -51.8421388728106649 -23.3754073056026073, -51.8395738678397038 -23.3723954841642012, -51.8432408453886637 -23.3664308880750013, -51.8393115823636208 -23.3590655673220340, -51.8434851866919644 -23.3545284615192372, -51.8473313802389839 -23.3535949346584744, -51.8491860934634019 -23.3563062647223205, -51.8510394478122407 -23.3534608385468232, -51.8449966304900727 -23.3467588622316384, -51.8467807343433833 -23.3446859743781943, -51.8459244583470422 -23.3416887219569276, -51.8469834766061126 -23.3419397335318308, -51.8506704253997555 -23.3367197149428307, -51.8493607004359092 -23.3321215298846596, -51.8473746259381869 -23.3319354259790543, -51.8478491496185256 -23.3304645398065986, -51.8459532897124973 -23.3294159608778386, -51.8463997995111185 -23.3279239370399978, -51.8427922644514183 -23.3296269984871287, -51.8345381967803291 -23.3280376050514064, -51.8328751308825417 -23.3210265650238853, -51.8282310489237261 -23.3152729579805964, -51.8281589997379797 -23.3234350609792500, -51.8269033555054079 -23.3261450105837298, -51.8249672329513942 -23.3269818513313112, -51.8115870664898921 -23.3224970797763831, -51.8025038059058716 -23.3238077040622329, -51.8040162587433315 -23.3269776757790623, -51.8028207701623842 -23.3310509976054163, -51.7960292249687200 -23.3325891503689604, -51.7932057197681388 -23.3350890102495896, -51.7909236810829725 -23.3409699208251595, -51.7851460405572652 -23.3370627568407372, -51.7810895819186499 -23.3377038943192474, -51.7763522249751418 -23.3354798331277493, -51.7743700058710488 -23.3387601687467736, -51.7774198020821359 -23.3406688691729300, -51.7802673524562920 -23.3505074145854792, -51.7784224508354214 -23.3502899378303255, -51.7775603966949234 -23.3520158762316328, -51.7737598887078434 -23.3507697432290229, -51.7729011449717973 -23.3522935446113706, -51.7746338022081432 -23.3546086459721778, -51.7727951850496879 -23.3551248981954700, -51.7736456361371324 -23.3558571621782676, -51.7692384427998604 -23.3560850503847064, -51.7678994970640929 -23.3574250941927062, -51.7691432711450261 -23.3583831887331144, -51.7680656594026232 -23.3631003855742847, -51.7712469221077072 -23.3655968073467193, -51.7709065574915712 -23.3699815760888328, -51.7638768889072480 -23.3727999038924281, -51.7666314754621908 -23.3750809578198755, -51.7725886296614703 -23.3754501205265797, -51.7750106613129333 -23.3784428673444040, -51.7705466497080806 -23.3808521070390611, -51.7681535231665180 -23.3854214823155075, -51.7714881787364334 -23.3877260840914687, -51.7720518881840235 -23.3903458550771006, -51.7705113944852542 -23.3909060014107695, -51.7683777655213930 -23.3972000659302353, -51.7752775971833330 -23.4005264873075021, -51.7689441207745062 -23.4046787588176244, -51.7690626676079546 -23.4077623695376928, -51.7722637576662237 -23.4139844891927851, -51.7688176805914395 -23.4172925113402925, -51.7658440416691406 -23.4161761064420944, -51.7638308768933939 -23.4173584253509830, -51.7657498943420933 -23.4213133847048880, -51.7687875092361196 -23.4206068314400682, -51.7727101811299235 -23.4222673648469595, -51.7661739543644330 -23.4255447758706623, -51.7723703327246199 -23.4324441290932555, -51.7626813418704046 -23.4321116524307627, -51.7623504102431866 -23.4337475857823847, -51.7687071035499571 -23.4432890869217658, -51.7652926376450750 -23.4444315155020035, -51.7639573557473227 -23.4482839539412566, -51.7650991215272143 -23.4517422797823656, -51.7681683799667098 -23.4538537197732921, -51.7663798748313297 -23.4571816816892351, -51.7674073880405103 -23.4606888991733058, -51.7620018447093457 -23.4639532880137835, -51.7594568649423081 -23.4684082956063094, -51.7609492566028848 -23.4752206942795851, -51.7594118134044265 -23.4810988691174884, -51.7629071328578334 -23.4863065678937346, -51.7568681457482853 -23.4899027364220956, -51.7538682187432642 -23.4937157278984614, -51.7477933783616777 -23.4953535804033891, -51.7262368168755415 -23.4920518337250996, -51.7148895382215983 -23.4925321040732911, -51.7117301596191510 -23.4972822017122098, -51.7098581452371491 -23.5035618051331312, -51.7687852528371195 -23.5511346499441174, -51.7723032217162427 -23.5576718722590499, -51.7775698773479007 -23.5626538268126069, -51.7780385734213837 -23.5733383500847253, -51.7824070734276347 -23.5778849985937882, -51.7871249861291858 -23.5801921058809398, -51.7877304888709205 -23.5823530805301971, -51.7919191982123834 -23.5857941339920671, -51.7955020801568367 -23.5869793738989415, -51.8028887652043295 -23.6034455693575183, -51.8101786184484467 -23.6071475089503338, -51.8144544577070292 -23.6054731862384983, -51.8159383300898071 -23.6066997481947851, -51.8196519536746791 -23.6058332019406976, -51.8235442689527872 -23.6072568251423149, -51.8304023954541435 -23.6186543965831106, -51.8299526795724432 -23.6253083374098196, -51.8352350508568520 -23.6277086504338172, -51.8367152719921478 -23.6298988260699048, -51.8358313526347843 -23.6319766278190855, -51.8385334655469592 -23.6363993884210117, -51.8437069145424516 -23.6389621792611138, -51.8472974551134484 -23.6378153458015277, -51.8474700925706884 -23.6352908103226014, -51.8518829678246789 -23.6339558171072213, -51.8522223072136512 -23.6383871635367200, -51.8548283239679222 -23.6414699729608628, -51.8568968896796605 -23.6387405809130087, -51.8584471868880996 -23.6387015161619729, -51.8589653834456499 -23.6417328753718721, -51.8622680123588680 -23.6408073398868055, -51.8625804404349537 -23.6426933153441610, -51.8647274531094240 -23.6424295693690851, -51.8662939857787819 -23.6470122618063670, -51.8691307748653117 -23.6431407919139929, -51.8671394483268386 -23.6405729441859762, -51.8685077263504581 -23.6381568444627419, -51.8720867358141504 -23.6395867620194053, -51.8768057268027860 -23.6457576212172285, -51.8818093064542722 -23.6470660313722192, -51.8886276001835540 -23.6451265633401704, -51.8890349732853338 -23.6480832509412267, -51.8847470417425143 -23.6512738054417468, -51.8850988070642529 -23.6554887102357156, -51.8887514710035589 -23.6541414196907454, -51.8897825050585197 -23.6551942164398952, -51.8887208427926225 -23.6569035236786362, -51.8849658683801067 -23.6577196530395213, -51.8863168686285690 -23.6602117922403750, -51.8919359685700670 -23.6596727790754358, -51.8911694700949511 -23.6626595274152010, -51.8933391879531314 -23.6600781134141585, -51.8929889937469966 -23.6566050827582899, -51.8994292331725546 -23.6535607877001439, -51.9026193191262450 -23.6545903837391620, -51.9010612427820774 -23.6565800645183231, -51.9051071523731480 -23.6567529933558944, -51.9055289982646286 -23.6634398673559758, -51.9083977258742948 -23.6610860717647711, -51.9107981063474995 -23.6613007336418946, -51.9109784725783925 -23.6638924295918969, -51.9133187765402795 -23.6662271172875762, -51.9127218272504933 -23.6718371313784814, -51.9190956841184743 -23.6669987814685214, -51.9234917366542845 -23.6685486541969681, -51.9221558342243270 -23.6651147872175898, -51.9230841054470602 -23.6622076288789458, -51.9250409258979744 -23.6652472834353489, -51.9297733941268120 -23.6664152095942200, -51.9297166442077014 -23.6711372573784615, -51.9318907777371805 -23.6761462986127640, -51.9379594334810122 -23.6772912102211421, -51.9399135523685231 -23.6730356992380848, -51.9372476047930718 -23.6566188279964535, -51.9351759364203076 -23.6515805363126788, -51.9371194855757494 -23.6456633713674478, -51.9366405983848836 -23.6396977320646329, -51.9451599912405868 -23.6352603062181288, -51.9580502439235943 -23.6207635963628491, -51.9621399154247001 -23.6210808618922101, -51.9613051880839407 -23.6230897467943350, -51.9624344478914395 -23.6240242404263086, -51.9643116045968441 -23.6229874992736200, -51.9657417137090647 -23.6188492221138517, -51.9636004638902591 -23.6163076291936704, -51.9648808565662534 -23.6122143226328376, -51.9687670213808701 -23.6126848704104191, -51.9700579909834346 -23.6166692510849998, -51.9715928882012008 -23.6152551939719615, -51.9743121565807087 -23.6168619874906653, -51.9787193715017679 -23.6160863815812263, -51.9808561417974602 -23.6188109370750681, -51.9863289535183526 -23.6157718823664595, -51.9871597175468878 -23.6171364506865871, -51.9859329901153728 -23.6200691137985359, -51.9949512917686434 -23.6242463325021959, -51.9959271470201543 -23.6211090871146325, -51.9982768318103012 -23.6199769323894770, -51.9984421020213290 -23.6219348572078616, -52.0022732481118624 -23.6215356382590471, -52.0042200797927876 -23.6192402509367980, -52.0080720631751205 -23.6197247382060596, -52.0089004889663329 -23.6225567015305273, -52.0128713240522984 -23.6213422129727064, -52.0122606592020134 -23.6259590130979404, -52.0083681928377928 -23.6271013778263068, -52.0099299087382292 -23.6272658125671455, -52.0079324245417070 -23.6297330036751418, -52.0091928549662157 -23.6327771908146360, -52.0119439251719768 -23.6333693215369181, -52.0118323570775942 -23.6296593572934626, -52.0143029719046126 -23.6290231022343278, -52.0153619964589211 -23.6269075523416063, -52.0199757325939345 -23.6320856913015405, -52.0244246131053956 -23.6297244664109485, -52.0266148525933545 -23.6310501876160401, -52.0250439312324033 -23.6331936057002849, -52.0269094111403660 -23.6345458784894618, -52.0240566932617412 -23.6377154194310037, -52.0287365835264950 -23.6374112129570904, -52.0318890670267820 -23.6346370868320719, -52.0320371152206462 -23.6362725732206513, -52.0334916103494720 -23.6365374064760658, -52.0315993261479548 -23.6388058833847481, -52.0312551250239608 -23.6430750712574991, -52.0273547779006549 -23.6431509839306955, -52.0246305182837432 -23.6458474185234877, -52.0275955884656014 -23.6499709593921921, -52.0259419240804846 -23.6516683641036707, -52.0284551883561903 -23.6531146160466506, -52.0344936205841009 -23.6510170211186050, -52.0368784706648739 -23.6532566567692584, -52.0351152220898143 -23.6546829149845053, -52.0371050215794639 -23.6580430195696749, -52.0436355988038031 -23.6535108105754261, -52.0484382141522133 -23.6585118757224677, -52.0471072481009855 -23.6602081598786071, -52.0526113211554957 -23.6619570282941822, -52.0547034491048635 -23.6577764928907754, -52.0581930560646242 -23.6599845515457901, -52.0607209541087173 -23.6566180671700295, -52.0586541897390020 -23.6537175737070129, -52.0615253086460257 -23.6507976153176287, -52.0595549480024147 -23.6485427640373018, -52.0591788740057950 -23.6437364650657855, -52.0547922103921792 -23.6436896508566292, -52.0530227672868477 -23.6427089446620471, -52.0547912589094040 -23.6402400763184346, -52.0458384719678406 -23.6376600086024951, -52.0473889256583675 -23.6348951517898058, -52.0448414799503212 -23.6343071075868920, -52.0466890093902066 -23.6328546997845024, -52.0453796720341870 -23.6308679444999825, -52.0479956137065756 -23.6282202828397203, -52.0441731739527995 -23.6278986942692768, -52.0452441477991670 -23.6256711473055816, -52.0420613544479238 -23.6235317024260780, -52.0400862372899837 -23.6246069903202738, -52.0346619691745218 -23.6226800678307995, -52.0357932470606670 -23.6177962481982604, -52.0371047985475457 -23.6172496420572884, -52.0363626842903955 -23.6165434907894110, -52.0401830807845158 -23.6132243332363601, -52.0383772169349754 -23.6111031023262399, -52.0392206281294420 -23.6106642817311467, -52.0357599829368382 -23.6081954007970580, -52.0291264890961429 -23.6071032263328107, -52.0284019152161932 -23.6039206713019212, -52.0319893693139193 -23.6050997625439436, -52.0303122703949157 -23.6021804210895425, -52.0306865592372674 -23.5982464393216560, -52.0274863433200494 -23.5958881003555234, -52.0295347723118766 -23.5923751910621604, -52.0288047782178751 -23.5899516125768400, -52.0260434089760793 -23.5885311522907841, -52.0201018112495603 -23.5895864707389933, -52.0221821832611226 -23.5855171958618826, -52.0259282310030358 -23.5831983308382291, -52.0190279164051503 -23.5844345883854771, -52.0172170936938869 -23.5807336245570696, -52.0183374690988671 -23.5779572330398537, -52.0148268485801282 -23.5759593387524546, -52.0147016575554062 -23.5720370787481670, -52.0075352803289093 -23.5650337414139699, -52.0056743860640154 -23.5659819326200477, -52.0043980520284208 -23.5629276011278534, -52.0069303765355926 -23.5617551693655400, -51.9997501137767131 -23.5565708664522617))"
          ],
          [
           4115200,
           "Maringá",
           "4115200",
           "Maringá/PR",
           1.26712273965,
           0.0430218331114,
           "POLYGON ((-52.0949863291557449 -23.4003380424666148, -52.0902844720507119 -23.3924064761778823, -52.0813809508701411 -23.3891276226416380, -52.0737283794611017 -23.3754776110029070, -52.0724502638685181 -23.3682122840696138, -52.0821944218350836 -23.3618842845320387, -52.0791876536871996 -23.3581531358585153, -52.0767135809669526 -23.3473314461892301, -52.0675997848022121 -23.3432861742174964, -52.0651281105738235 -23.3391263241205138, -52.0576306290502657 -23.3380226671123410, -52.0499108504053538 -23.3393582826585657, -52.0466243076656383 -23.3354588060789752, -52.0462765056561807 -23.3311581761088860, -52.0411050405651281 -23.3248513744912884, -52.0371567119127008 -23.3253706133630772, -52.0350803454815036 -23.3236694144118815, -52.0341402086037306 -23.3249618553053324, -52.0295181699275417 -23.3250130384209342, -52.0223439407202477 -23.3162128475448185, -52.0175253597075198 -23.3147024694433753, -52.0135848119894604 -23.3162248858697581, -52.0103848892512133 -23.3144279154159335, -52.0089367433359939 -23.3108227185935561, -52.0082026411389506 -23.3125165484998433, -52.0052552732122422 -23.3103824204123384, -52.0016973033878003 -23.3116891767140828, -51.9975558786008492 -23.3110153893487109, -51.9923450798614795 -23.3083078697123938, -51.9903581689942484 -23.3020096017616538, -51.9865427106774973 -23.2967862835600954, -51.9824593614103492 -23.2947599311258955, -51.9775209358424490 -23.2966639442855694, -51.9777569485243021 -23.2817593801912039, -51.9732100239234001 -23.2780426674351020, -51.9729775347853433 -23.2749330519187652, -51.9675661746392166 -23.2744190471012757, -51.9658138249480430 -23.2704115610446820, -51.9678766233074612 -23.2660698770231420, -51.9679941386185646 -23.2647662953282293, -51.9666858921401627 -23.2647331202372811, -51.9695969337514612 -23.2621966714391988, -51.9687453737999476 -23.2610529496338927, -51.9712785094955620 -23.2576469202691101, -51.9694420417168317 -23.2551321280452044, -51.9656117571768164 -23.2553316903052405, -51.9657180750290877 -23.2538646010704610, -51.9607952976647880 -23.2577810766353537, -51.9531185416873313 -23.2584592571889175, -51.9502604836343949 -23.2600727677439636, -51.9498412664612488 -23.2635809376101292, -51.9464079867391320 -23.2638781599490585, -51.9452275680977209 -23.2621388513268812, -51.9442041306160718 -23.2640569208901411, -51.9393744960361232 -23.2639476118927178, -51.9394149673268544 -23.2667812434595476, -51.9417530814395150 -23.2666467318611581, -51.9416178899535907 -23.2692109085565448, -51.9431099065968738 -23.2700734366397342, -51.9414404285329283 -23.2734433429358774, -51.9361264181995921 -23.2724584117262907, -51.9327746233501557 -23.2774640679123763, -51.9288382233053198 -23.2791062677400191, -51.9295369452737532 -23.2806994473215809, -51.9236497682221625 -23.2810467969720776, -51.9260114121968854 -23.2820608797057957, -51.9237937514803889 -23.2868890429949147, -51.9129291560556680 -23.2900121447446509, -51.9108529029390979 -23.2901893984219441, -51.9094716135240901 -23.2884336277097077, -51.9066012563428671 -23.2900686698332038, -51.8963755824671011 -23.2978390083634963, -51.8973055021471623 -23.3011240411415201, -51.8995742947178655 -23.3028304273822755, -51.8987134519641700 -23.3039181798800428, -51.8923247077190695 -23.3048767033970989, -51.8852988009988394 -23.3000601503555913, -51.8785614309652487 -23.2977932238781591, -51.8774949042663707 -23.2931660149995423, -51.8740134244799265 -23.2919456160972800, -51.8739012961078743 -23.2882970125970132, -51.8684743606032157 -23.2880113204660120, -51.8711143807240660 -23.3020452122167399, -51.8699882424633643 -23.3046129331403336, -51.8667965817967911 -23.3047004317794517, -51.8630874170506218 -23.3019306763595750, -51.8555656151609696 -23.3067124436243489, -51.8531341325341373 -23.3115753027579444, -51.8524343862379169 -23.3170917873560484, -51.8470723332215471 -23.3161681035750803, -51.8481582502030278 -23.3113356406272487, -51.8462611267495390 -23.3102599867089566, -51.8422386714774461 -23.3114095487116515, -51.8366119021175678 -23.3170719582042807, -51.8361954251786869 -23.3217772732025423, -51.8395261264295755 -23.3252725674749399, -51.8430800331170190 -23.3242818167523751, -51.8463997995111185 -23.3279239370399978, -51.8459532897124973 -23.3294159608778386, -51.8478491496185256 -23.3304645398065986, -51.8473746259381869 -23.3319354259790543, -51.8493607004359092 -23.3321215298846596, -51.8506704253997555 -23.3367197149428307, -51.8469834766061126 -23.3419397335318308, -51.8459244583470422 -23.3416887219569276, -51.8467807343433833 -23.3446859743781943, -51.8449966304900727 -23.3467588622316384, -51.8510394478122407 -23.3534608385468232, -51.8491860934634019 -23.3563062647223205, -51.8473313802389839 -23.3535949346584744, -51.8434851866919644 -23.3545284615192372, -51.8393115823636208 -23.3590655673220340, -51.8432408453886637 -23.3664308880750013, -51.8395738678397038 -23.3723954841642012, -51.8421388728106649 -23.3754073056026073, -51.8425783903803676 -23.3797995090400832, -51.8447869760380513 -23.3815131015483644, -51.8410978454891165 -23.3855000246064151, -51.8457502632639944 -23.3881254406365429, -51.8461505667951883 -23.3901110357955986, -51.8430171219425802 -23.3936634154342187, -51.8424843707570631 -23.4003959156389669, -51.8405509920345935 -23.4025686129510859, -51.8398810456736783 -23.4065294367840124, -51.8451850573444517 -23.4063616547664992, -51.8481139504983730 -23.4103314664239974, -51.8637441595652717 -23.4160990201536379, -51.8677678801834645 -23.4149309995659110, -51.8779185371107587 -23.4159342931330912, -51.8876798397527637 -23.4399570303925771, -51.8932299598947111 -23.4454259696327654, -51.8970870001649018 -23.4527459996281209, -51.9047079999741641 -23.4593749995565304, -51.9058189999468595 -23.4649870002498346, -51.9038190003465729 -23.4703840000215109, -51.9056409215912140 -23.4768539359603210, -51.9115394462883728 -23.4770667587238790, -51.9174225377199150 -23.4787625113807508, -51.9301063240475855 -23.4758104094228202, -51.9337867950245027 -23.4805496234662883, -51.9383230167937313 -23.4801376269498974, -51.9405703767214391 -23.4817395182641349, -51.9418552947859666 -23.4837276000486668, -51.9414188555956571 -23.4886315896760607, -51.9486150615358042 -23.4851424764440821, -51.9519301631464714 -23.4870362373324610, -51.9525122043746705 -23.4912505791508579, -51.9560545205995936 -23.4930894849916854, -51.9558421016316174 -23.4946733511941375, -51.9590884635617272 -23.4976184294469022, -51.9590881362084929 -23.5027872307460370, -51.9607034723873085 -23.5055394394934751, -51.9664575057092861 -23.5042391619077762, -51.9691957425894202 -23.5071449298945367, -51.9675633957340892 -23.5123782098864353, -51.9683688663300813 -23.5136188696150725, -51.9667862708696475 -23.5147760326877346, -51.9698671287649177 -23.5205121074477574, -51.9745999081591776 -23.5195601678673825, -51.9772769075032102 -23.5206725806750114, -51.9768705200584122 -23.5161871049509159, -51.9806518688885717 -23.5148742314605670, -51.9811521689373990 -23.5183473700350305, -51.9835538219512614 -23.5193441938794194, -51.9810668493555568 -23.5236188981935470, -51.9813808692317139 -23.5291609460207951, -51.9789040364920538 -23.5313436473913953, -51.9816444425369468 -23.5344794097968588, -51.9809419011477871 -23.5369378388101609, -51.9854465702030097 -23.5390350290433048, -51.9857956330619686 -23.5424168459606449, -51.9900111062275414 -23.5422285531051898, -51.9906773293951687 -23.5446640853791678, -51.9893685667059344 -23.5463511802627181, -51.9909786697297704 -23.5482303019867913, -51.9925334185823544 -23.5490491131260455, -51.9972325453456392 -23.5473370629550232, -51.9968550126486662 -23.5531165974529699, -51.9934556886290693 -23.5557849345270824, -51.9959923928346370 -23.5580017768604648, -51.9975755746530126 -23.5562432515247906, -51.9997501137767131 -23.5565708664522617, -52.1002707410018502 -23.5196632841332303, -52.1002595804152406 -23.5195539355656251, -52.0949649082039059 -23.5205579279059975, -52.0918664568714576 -23.5177743535035688, -52.0852125682054066 -23.5172215618255791, -52.0849079480433375 -23.5154668154411297, -52.0880442752230692 -23.5115466238775639, -52.0869535117951159 -23.5064580304137394, -52.0704872488873889 -23.4842357988429740, -52.0673001432869569 -23.4832576548168959, -52.0587682291704255 -23.4761621675499441, -52.0499956807560125 -23.4729767940437455, -52.0422670293998522 -23.4675377033022983, -52.0374355314245918 -23.4667892542206573, -52.0283023854466933 -23.4685117347287360, -52.0181819996994932 -23.4659619903535486, -52.0130519996500311 -23.4626480101974835, -52.0064708400572044 -23.4549080102963785, -52.0450393802631197 -23.4394113748350605, -52.0463227595876674 -23.4385239598128692, -52.0482381950366175 -23.4280509804683561, -52.0478787468067026 -23.4226734672067209, -52.0548880925114190 -23.4174600388496401, -52.0740262538085403 -23.4104790838425743, -52.0767436129273733 -23.4065420614668938, -52.0821423214109700 -23.4058845041664654, -52.0893679297860785 -23.4016667080520619, -52.0949863291557449 -23.4003380424666148))"
          ],
          [
           4117404,
           "Ourizona",
           "4115200",
           "Maringá/PR",
           0.731737110048,
           0.0156215732495,
           "POLYGON ((-52.3048265729879063 -23.5729775744554786, -52.3095451826640101 -23.5671897113360842, -52.3246658844229842 -23.5540184223123106, -52.3220284588462619 -23.5522912041756740, -52.3210674109322440 -23.5484490674704148, -52.3179352709959176 -23.5469718986341832, -52.3185470339184349 -23.5446929895897483, -52.3152480697426085 -23.5454020007016993, -52.3155063649267618 -23.5406577405622102, -52.3087769502959645 -23.5381999608594583, -52.3067564362604571 -23.5343778322711046, -52.3080542479051473 -23.5329874156366827, -52.3011901597980113 -23.5303040095223537, -52.3036111869067213 -23.5254064419536917, -52.2978757587592327 -23.5240124496148155, -52.2946536335583119 -23.5212981364997518, -52.2934461534172215 -23.5162129253861281, -52.2955759998324652 -23.5133206841022684, -52.2947805458854305 -23.5111420080971243, -52.2978598020881691 -23.5074323837974362, -52.2960077967223924 -23.5063226419762827, -52.2972666884069213 -23.5016236573059132, -52.2929536450945989 -23.4994976698815208, -52.2915923179310766 -23.4961095487166745, -52.2884143107717705 -23.4942838269370213, -52.2880774202367320 -23.4891368261036178, -52.2856190964441225 -23.4872431344630286, -52.2805587273034007 -23.4713757076227694, -52.2762793950780065 -23.4690086749103557, -52.2731875447693142 -23.4622055257643751, -52.2732024834078288 -23.4583486725531429, -52.2769418536835815 -23.4572662026730541, -52.2751431763164760 -23.4553561856394026, -52.2772258065257347 -23.4556743540881030, -52.2767159493815257 -23.4534807007736958, -52.2780579618054730 -23.4528672660114808, -52.2766025241871262 -23.4511343614615839, -52.2776718252944761 -23.4471708864272159, -52.2753324530302166 -23.4451538140971820, -52.2749951254246525 -23.4423401348892639, -52.2753571798899088 -23.4400829921363538, -52.2765499669073961 -23.4399481253057047, -52.2731919280649890 -23.4386861318594697, -52.2733114587567798 -23.4358892349002303, -52.2696239946515675 -23.4336315147825189, -52.2677776253370894 -23.4283531131056293, -52.2655405257746111 -23.4268578750908318, -52.2625486620910351 -23.4276352085979624, -52.2599601461437828 -23.4251069670128800, -52.2605598086881855 -23.4239997765683938, -52.2567757717844188 -23.4228789398111985, -52.2573030532932421 -23.4208746261630267, -52.2556068842502555 -23.4203068904506040, -52.2528791091834819 -23.4145446103454447, -52.2458866338610051 -23.4101110273020367, -52.2460954042794583 -23.4057039472792781, -52.2425905915824842 -23.4014158403687134, -52.2398226482965242 -23.4017927012720861, -52.2386797817464981 -23.3995087794065739, -52.2367024045922790 -23.4004017747220701, -52.2350824503947138 -23.3971366925043185, -52.2280942585431376 -23.3913141659159578, -52.2242476692944706 -23.3920377865146065, -52.2207296383620587 -23.3888891188377102, -52.2150891462470668 -23.3909063395558974, -52.2096754730446264 -23.3844068743777029, -52.2021309713671826 -23.3788350544941181, -52.2015362892682901 -23.3758576537077261, -52.1962333720724132 -23.3720335484094903, -52.1945748342611751 -23.3647058139221144, -52.1913385438386968 -23.3600677448305305, -52.1849801382227838 -23.3533733767798708, -52.1790144611484266 -23.3499797436701897, -52.1783951160417132 -23.3493542409054271, -52.1691998143199385 -23.3564147760210403, -52.1639439874250570 -23.3642809714896202, -52.1483685731510604 -23.3684950785849423, -52.1509882488085736 -23.3725011688937911, -52.1510763751745117 -23.3782762454522981, -52.1450221562474781 -23.3873390428624930, -52.1440608862009185 -23.3927866411904688, -52.1495255230843782 -23.4089955253231778, -52.1486363894577494 -23.4142490292692287, -52.1505483247453299 -23.4147437301389800, -52.1546000826276668 -23.4203273482285113, -52.1665775827891594 -23.4245653107404337, -52.1736604040044085 -23.4375277232257986, -52.1764125767789437 -23.4380843037475870, -52.1746613638308077 -23.4416030100708213, -52.1754971910424956 -23.4427410499594657, -52.1826847509004779 -23.4481755955272888, -52.1865197083178600 -23.4490153977423574, -52.1890187183391276 -23.4522956488250998, -52.1910717338734003 -23.4595106398041366, -52.1887138103940060 -23.4639539705992206, -52.1885251838900786 -23.4677328552870108, -52.2013275818023885 -23.4765660117120092, -52.2132729500865480 -23.4806838877511836, -52.2130505945092978 -23.4847612115606239, -52.2208305953556646 -23.4929395275371462, -52.2202369384838789 -23.4942045534972976, -52.2219373055621645 -23.4958306347759276, -52.2214639159269609 -23.5033793236967767, -52.2255747880460035 -23.5079501567742568, -52.2261862389037788 -23.5126679345774505, -52.2274675974516072 -23.5128458933232878, -52.2261581773579451 -23.5178315458890665, -52.2242675110367713 -23.5187613729389682, -52.2257979179395306 -23.5211843129056888, -52.2242169925201551 -23.5229643266422954, -52.2275759180940895 -23.5245009496590569, -52.2270442577862468 -23.5283671657120976, -52.2352138638287329 -23.5289473894104617, -52.2344334834184565 -23.5301841703630998, -52.2365815509977551 -23.5322123493204458, -52.2359953252240530 -23.5357801190572218, -52.2381015059796709 -23.5341972897730329, -52.2397747432098072 -23.5357064582863700, -52.2388839548306123 -23.5379529575628794, -52.2417146123394218 -23.5408833013232766, -52.2413237867633029 -23.5422851834144353, -52.2443766541592254 -23.5409575790289978, -52.2499118104816489 -23.5424009405509196, -52.2500766004546904 -23.5462299543488598, -52.2530490819495412 -23.5480947921408870, -52.2574091714960218 -23.5472410432395236, -52.2576930685801813 -23.5517844730749175, -52.2627136409217314 -23.5505417179259098, -52.2636911482278492 -23.5513631955549840, -52.2624616266027715 -23.5533199233757387, -52.2639679694461847 -23.5549705093814623, -52.2664117538992627 -23.5552775765988258, -52.2674958668407612 -23.5526792265650329, -52.2686296934055576 -23.5542822950918094, -52.2721330294157269 -23.5530376900373426, -52.2728322792862059 -23.5564935328501974, -52.2752375952387638 -23.5590755898665520, -52.2735207975467233 -23.5622717426467716, -52.2751629982736858 -23.5633631994520556, -52.2784108090115751 -23.5636248428122030, -52.2777979552114402 -23.5611177460870636, -52.2803029996836699 -23.5612447519437183, -52.2848774345459333 -23.5582362049368612, -52.2863283251920166 -23.5619214369247061, -52.2847973571123248 -23.5651576823810842, -52.2878755763966865 -23.5656600706556674, -52.2901305634746905 -23.5701267847232998, -52.2929931136412165 -23.5692113612153094, -52.2953766677989620 -23.5712495019628818, -52.2963569261311818 -23.5681641735377525, -52.2979658231641906 -23.5679832083583278, -52.3016041276283659 -23.5730073986724733, -52.3048265729879063 -23.5729775744554786))"
          ],
          [
           4117503,
           "Paiçandu",
           "4115200",
           "Maringá/PR",
           0.601674637934,
           0.0151362732829,
           "POLYGON ((-52.1486363894577494 -23.4142490292692287, -52.1419922755230800 -23.4177643775239517, -52.1376428114665487 -23.4172730374206708, -52.1187193246370839 -23.4024684815351520, -52.1087671624745212 -23.4050733696402631, -52.0949863291557449 -23.4003380424666148, -52.0893679297860785 -23.4016667080520619, -52.0821423214109700 -23.4058845041664654, -52.0767436129273733 -23.4065420614668938, -52.0740262538085403 -23.4104790838425743, -52.0548880925114190 -23.4174600388496401, -52.0478787468067026 -23.4226734672067209, -52.0482381950366175 -23.4280509804683561, -52.0463227595876674 -23.4385239598128692, -52.0450393802631197 -23.4394113748350605, -52.0064708400572044 -23.4549080102963785, -52.0130519996500311 -23.4626480101974835, -52.0181819996994932 -23.4659619903535486, -52.0283023854466933 -23.4685117347287360, -52.0374355314245918 -23.4667892542206573, -52.0422670293998522 -23.4675377033022983, -52.0499956807560125 -23.4729767940437455, -52.0587682291704255 -23.4761621675499441, -52.0673001432869569 -23.4832576548168959, -52.0704872488873889 -23.4842357988429740, -52.0869535117951159 -23.5064580304137394, -52.0880442752230692 -23.5115466238775639, -52.0849079480433375 -23.5154668154411297, -52.0852125682054066 -23.5172215618255791, -52.0918664568714576 -23.5177743535035688, -52.0949649082039059 -23.5205579279059975, -52.1002595804152406 -23.5195539355656251, -52.1438798149014815 -23.5179650367570048, -52.1513825511637492 -23.5151117729898829, -52.1569968927923355 -23.5158561490420084, -52.1676284765728724 -23.5136618626048062, -52.1733483509456164 -23.5155595238529145, -52.1813279140519626 -23.5156456636164535, -52.1844803849617733 -23.5133374456665365, -52.1927740704669532 -23.5142895543194186, -52.1921016401785209 -23.5162756306158371, -52.1955520375964284 -23.5181750266561380, -52.1983842365432338 -23.5151380062139879, -52.1988813736763859 -23.5117778908369246, -52.2056605666817859 -23.5115483199989512, -52.2081338318108692 -23.5146014688826313, -52.2118220477492514 -23.5134072546410380, -52.2135455750681672 -23.5192038151039355, -52.2174332363547364 -23.5220383648785969, -52.2196009208457781 -23.5211244297485678, -52.2242169925201551 -23.5229643266422954, -52.2257979179395306 -23.5211843129056888, -52.2242675110367713 -23.5187613729389682, -52.2261581773579451 -23.5178315458890665, -52.2274675974516072 -23.5128458933232878, -52.2261862389037788 -23.5126679345774505, -52.2255747880460035 -23.5079501567742568, -52.2214639159269609 -23.5033793236967767, -52.2219373055621645 -23.4958306347759276, -52.2202369384838789 -23.4942045534972976, -52.2208305953556646 -23.4929395275371462, -52.2130505945092978 -23.4847612115606239, -52.2132729500865480 -23.4806838877511836, -52.2013275818023885 -23.4765660117120092, -52.1885251838900786 -23.4677328552870108, -52.1887138103940060 -23.4639539705992206, -52.1910717338734003 -23.4595106398041366, -52.1890187183391276 -23.4522956488250998, -52.1865197083178600 -23.4490153977423574, -52.1826847509004779 -23.4481755955272888, -52.1754971910424956 -23.4427410499594657, -52.1746613638308077 -23.4416030100708213, -52.1764125767789437 -23.4380843037475870, -52.1736604040044085 -23.4375277232257986, -52.1665775827891594 -23.4245653107404337, -52.1546000826276668 -23.4203273482285113, -52.1505483247453299 -23.4147437301389800, -52.1486363894577494 -23.4142490292692287))"
          ],
          [
           4120408,
           "Presidente Castelo Branco",
           "4115200",
           "Maringá/PR",
           0.636625480426,
           0.013754414604,
           "POLYGON ((-52.1790144611484266 -23.3499797436701897, -52.1828186401680796 -23.3456199931680999, -52.1841421409470172 -23.3385532958978388, -52.1903829530108396 -23.3348254090653313, -52.1885592762895385 -23.3335198911300381, -52.2156234001997177 -23.3261976425071680, -52.2166512227756812 -23.3275804553736634, -52.2287102033131987 -23.3181247513561516, -52.2385035856718787 -23.3143419456242214, -52.2347323200405071 -23.3110174946615984, -52.2283835821365869 -23.3004201013065995, -52.2189005756010260 -23.2886586362869821, -52.2293258099381319 -23.2835935744838025, -52.2395193051717683 -23.2743088693587765, -52.2440297703575993 -23.2682321278103927, -52.2376035351749692 -23.2647968426001626, -52.2311255449079113 -23.2572355883516479, -52.2187425979924456 -23.2479806948531404, -52.2158982366142936 -23.2479466240374109, -52.2103152669359929 -23.2526951685471204, -52.2010528479105460 -23.2552856018489820, -52.1948090375070137 -23.2598364250109739, -52.1881715758574956 -23.2623135833051720, -52.1789589459985450 -23.2597193818439791, -52.1759117794050553 -23.2560409856029651, -52.1745246416988380 -23.2505377444213082, -52.1698693928581747 -23.2456292204121269, -52.1703528036389343 -23.2443639363465309, -52.1641915833748158 -23.2440574087223695, -52.1599725965580205 -23.2458557641321590, -52.1556580774582699 -23.2437201143917491, -52.1607355157314032 -23.2398928722582241, -52.1641180494083869 -23.2336500717933063, -52.1467568513475612 -23.2138972292736412, -52.1424203087502178 -23.2108971970479843, -52.1339915019062232 -23.2087331575091866, -52.1253129344443096 -23.1997707460230913, -52.1084226528830641 -23.1928495842408893, -52.1080913138629853 -23.1901548934335437, -52.1081126646677149 -23.1842628447544143, -52.1067632472260129 -23.1824901299154931, -52.0917663659250252 -23.1806393098562467, -52.0871711890990809 -23.1777809577249627, -52.0730220069600023 -23.1907188906642432, -52.0708293500944137 -23.1896702910510726, -52.0587376800997959 -23.2038883927351094, -52.0611059107091592 -23.2053039804942500, -52.0628803540450349 -23.2130764702029069, -52.0671513909239252 -23.2177277539326496, -52.0709794505411878 -23.2299021138913986, -52.0805868953688673 -23.2298906007705455, -52.0802640342577092 -23.2336072002120773, -52.0860501311086068 -23.2432453730754673, -52.0826985386066212 -23.2505345815056899, -52.0822557007399496 -23.2556668010819863, -52.0841083832951881 -23.2599975340589253, -52.0903241960048149 -23.2623441737445660, -52.0935088995160527 -23.2717248383305559, -52.1045346462568659 -23.2840742288425417, -52.1147531705223628 -23.2866180943495351, -52.1170396365699276 -23.2919005537675048, -52.1142082416170069 -23.2950419432310696, -52.1130167055564471 -23.3036222768465677, -52.1254675306020090 -23.2995003799385358, -52.1405731849044969 -23.3021000609689963, -52.1442978863383360 -23.3041579130572245, -52.1524364468844510 -23.3208974493577443, -52.1591899516549233 -23.3268710287749172, -52.1606401318366011 -23.3305608311173955, -52.1673650678435479 -23.3351843347891759, -52.1709670873611344 -23.3417939327437693, -52.1783951160417132 -23.3493542409054271, -52.1790144611484266 -23.3499797436701897))"
          ]
         ],
         "index": [
          0,
          1,
          2,
          3,
          4,
          5,
          6,
          7,
          8,
          9
         ]
        }
       },
       "height": 400,
       "layout": "IPY_MODEL_1c3d023e8d8742fe93c965fbb6ae307f",
       "value": "Hello World!"
      }
     },
     "e00b428ce7f644599e9b3f8c397113f7": {
      "model_module": "@jupyter-widgets/base",
      "model_module_version": "1.2.0",
      "model_name": "LayoutModel",
      "state": {}
     },
     "ee4bd1dddc7240f691abad51221db5c1": {
      "model_module": "@jupyter-widgets/base",
      "model_module_version": "1.2.0",
      "model_name": "LayoutModel",
      "state": {}
     },
     "f2365bb61cca4138b62494b98ea17ebb": {
      "model_module": "keplergl-jupyter",
      "model_module_version": "^0.3.0",
      "model_name": "KeplerGlModal",
      "state": {
       "_model_module_version": "^0.3.0",
       "_view_module_version": "^0.3.0",
       "config": {
        "config": {
         "mapState": {
          "bearing": 0,
          "dragRotate": false,
          "isSplit": false,
          "latitude": 37.715622556799794,
          "longitude": -121.885080498944,
          "pitch": 0,
          "zoom": 8.363456836312682
         },
         "mapStyle": {
          "mapStyles": {},
          "styleType": "dark",
          "threeDBuildingColor": [
           9.665468314072013,
           17.18305478057247,
           31.1442867897876
          ],
          "topLayerGroups": {},
          "visibleLayerGroups": {
           "3d building": false,
           "border": false,
           "building": true,
           "label": true,
           "land": true,
           "road": true,
           "water": true
          }
         },
         "visState": {
          "animationConfig": {
           "currentTime": null,
           "speed": 1
          },
          "filters": [],
          "interactionConfig": {
           "brush": {
            "enabled": false,
            "size": 0.5
           },
           "coordinate": {
            "enabled": false
           },
           "geocoder": {
            "enabled": false
           },
           "tooltip": {
            "compareMode": false,
            "compareType": "absolute",
            "enabled": true,
            "fieldsToShow": {}
           }
          },
          "layerBlending": "normal",
          "layers": [],
          "splitMaps": []
         }
        },
        "version": "v1"
       },
       "height": 400,
       "layout": "IPY_MODEL_a554981802174bc8b09802931af4f1db",
       "value": "Hello World!"
      }
     },
     "f41f4aad9dc941f7a0bb376338541fb2": {
      "model_module": "@jupyter-widgets/base",
      "model_module_version": "1.2.0",
      "model_name": "LayoutModel",
      "state": {}
     }
    },
    "version_major": 2,
    "version_minor": 0
   }
  }
 },
 "nbformat": 4,
 "nbformat_minor": 5
}
